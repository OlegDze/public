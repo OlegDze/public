{
 "cells": [
  {
   "cell_type": "markdown",
   "metadata": {},
   "source": [
    "# Исследование компьютерных игр"
   ]
  },
  {
   "cell_type": "markdown",
   "metadata": {},
   "source": [
    "### Описание проекта\n",
    "\n",
    "Интернет-магазин «World of games» продаёт по всему миру компьютерные игры. По его заказу необходимо выявить определяющие успешность игры закономерности, чтобы сделать ставку на потенциально популярный продукт и спланировать рекламные кампании. \n",
    "\n",
    "Из открытых источников доступны исторические данные о продажах игр, оценки пользователей и экспертов, жанры и платформы (например, Xbox или PlayStation). \n",
    "\n",
    "Данные представлены за 1980-2016 гг. Рекомендации для магазина нужно составить на 2017 год."
   ]
  },
  {
   "cell_type": "markdown",
   "metadata": {},
   "source": [
    "### <a name=\"contents\"> Структура исследования: </a>\n",
    "- [Загрузка данных и ознакомление с ними](#1)\n",
    "- [Предобработка данных](#2)\n",
    "  - [Полные дубли](#2.1)\n",
    "  - [Переименование столбцов](#2.2)\n",
    "  - [Добавление новых столбцов](#2.3)\n",
    "  - [Пропуски в столбцах](#2.4)\n",
    "  - [Изменение типа данных в столбцах](#2.5)\n",
    "- [Исследовательский анализ данных](#3)\n",
    "  - [Выпуск игр в разные годы](#3.1)\n",
    "  - [Продажи игр на топ-5 платформах в 1994-2016 гг.](#3.2)\n",
    "  - [Продажи игр на топ-5 платформах в 2012-2016 гг.](#3.3)\n",
    "  - [График «ящик с усами» по продажам игр в разбивке по платформам](#3.4)\n",
    "  - [Влияние отзывов критиков и пользователей на продажи игр](#3.5)\n",
    "- [Портрет пользователя каждого региона](#4)\n",
    "  - [Самые популярные платформы (топ-5)](#4.1)\n",
    "  - [Самые популярные жанры (топ-5)](#4.2)\n",
    "  - [Влияние рейтинга ESRB на продажи игр](#4.3)\n",
    "- [Проверка гипотез](#5)\n",
    "  - [Средние пользовательские рейтинги платформ Xbox One и PC одинаковые](#5.1)\n",
    "  - [Средние пользовательские рейтинги жанров Action и Sports разные](#5.2)\n",
    "- [Общий вывод](#6)"
   ]
  },
  {
   "cell_type": "markdown",
   "metadata": {},
   "source": [
    "### <a name=\"1\"> Загрузка данных и ознакомление с ними </a>"
   ]
  },
  {
   "cell_type": "markdown",
   "metadata": {},
   "source": [
    "Импортируем библиотеки для работы с таблицами, графиками, статистическими характеристиками:"
   ]
  },
  {
   "cell_type": "code",
   "execution_count": 1,
   "metadata": {},
   "outputs": [],
   "source": [
    "import pandas as pd\n",
    "import numpy as np\n",
    "import matplotlib.pyplot as plt \n",
    "from scipy import stats as st"
   ]
  },
  {
   "cell_type": "markdown",
   "metadata": {},
   "source": [
    "Загрузим данные:"
   ]
  },
  {
   "cell_type": "code",
   "execution_count": 2,
   "metadata": {},
   "outputs": [
    {
     "data": {
      "text/html": [
       "<div>\n",
       "<style scoped>\n",
       "    .dataframe tbody tr th:only-of-type {\n",
       "        vertical-align: middle;\n",
       "    }\n",
       "\n",
       "    .dataframe tbody tr th {\n",
       "        vertical-align: top;\n",
       "    }\n",
       "\n",
       "    .dataframe thead th {\n",
       "        text-align: right;\n",
       "    }\n",
       "</style>\n",
       "<table border=\"1\" class=\"dataframe\">\n",
       "  <thead>\n",
       "    <tr style=\"text-align: right;\">\n",
       "      <th></th>\n",
       "      <th>Name</th>\n",
       "      <th>Platform</th>\n",
       "      <th>Year_of_Release</th>\n",
       "      <th>Genre</th>\n",
       "      <th>NA_sales</th>\n",
       "      <th>EU_sales</th>\n",
       "      <th>JP_sales</th>\n",
       "      <th>Other_sales</th>\n",
       "      <th>Critic_Score</th>\n",
       "      <th>User_Score</th>\n",
       "      <th>Rating</th>\n",
       "    </tr>\n",
       "  </thead>\n",
       "  <tbody>\n",
       "    <tr>\n",
       "      <th>13979</th>\n",
       "      <td>Doom II: Hell on Earth</td>\n",
       "      <td>GBA</td>\n",
       "      <td>2002.0</td>\n",
       "      <td>Shooter</td>\n",
       "      <td>0.03</td>\n",
       "      <td>0.01</td>\n",
       "      <td>0.00</td>\n",
       "      <td>0.00</td>\n",
       "      <td>NaN</td>\n",
       "      <td>NaN</td>\n",
       "      <td>NaN</td>\n",
       "    </tr>\n",
       "    <tr>\n",
       "      <th>5045</th>\n",
       "      <td>Cabela's Dangerous Hunts 2009</td>\n",
       "      <td>Wii</td>\n",
       "      <td>2008.0</td>\n",
       "      <td>Sports</td>\n",
       "      <td>0.35</td>\n",
       "      <td>0.00</td>\n",
       "      <td>0.00</td>\n",
       "      <td>0.03</td>\n",
       "      <td>NaN</td>\n",
       "      <td>4.5</td>\n",
       "      <td>T</td>\n",
       "    </tr>\n",
       "    <tr>\n",
       "      <th>845</th>\n",
       "      <td>Dark Souls</td>\n",
       "      <td>PS3</td>\n",
       "      <td>2011.0</td>\n",
       "      <td>Role-Playing</td>\n",
       "      <td>0.75</td>\n",
       "      <td>0.51</td>\n",
       "      <td>0.54</td>\n",
       "      <td>0.22</td>\n",
       "      <td>89.0</td>\n",
       "      <td>8.7</td>\n",
       "      <td>M</td>\n",
       "    </tr>\n",
       "    <tr>\n",
       "      <th>12942</th>\n",
       "      <td>Project Setsuna</td>\n",
       "      <td>PSV</td>\n",
       "      <td>2016.0</td>\n",
       "      <td>Role-Playing</td>\n",
       "      <td>0.00</td>\n",
       "      <td>0.00</td>\n",
       "      <td>0.05</td>\n",
       "      <td>0.00</td>\n",
       "      <td>NaN</td>\n",
       "      <td>NaN</td>\n",
       "      <td>NaN</td>\n",
       "    </tr>\n",
       "    <tr>\n",
       "      <th>8756</th>\n",
       "      <td>Doctor Who: Evacuation Earth</td>\n",
       "      <td>DS</td>\n",
       "      <td>2010.0</td>\n",
       "      <td>Adventure</td>\n",
       "      <td>0.00</td>\n",
       "      <td>0.13</td>\n",
       "      <td>0.00</td>\n",
       "      <td>0.02</td>\n",
       "      <td>NaN</td>\n",
       "      <td>NaN</td>\n",
       "      <td>NaN</td>\n",
       "    </tr>\n",
       "  </tbody>\n",
       "</table>\n",
       "</div>"
      ],
      "text/plain": [
       "                                Name Platform  Year_of_Release         Genre  \\\n",
       "13979         Doom II: Hell on Earth      GBA           2002.0       Shooter   \n",
       "5045   Cabela's Dangerous Hunts 2009      Wii           2008.0        Sports   \n",
       "845                       Dark Souls      PS3           2011.0  Role-Playing   \n",
       "12942                Project Setsuna      PSV           2016.0  Role-Playing   \n",
       "8756    Doctor Who: Evacuation Earth       DS           2010.0     Adventure   \n",
       "\n",
       "       NA_sales  EU_sales  JP_sales  Other_sales  Critic_Score User_Score  \\\n",
       "13979      0.03      0.01      0.00         0.00           NaN        NaN   \n",
       "5045       0.35      0.00      0.00         0.03           NaN        4.5   \n",
       "845        0.75      0.51      0.54         0.22          89.0        8.7   \n",
       "12942      0.00      0.00      0.05         0.00           NaN        NaN   \n",
       "8756       0.00      0.13      0.00         0.02           NaN        NaN   \n",
       "\n",
       "      Rating  \n",
       "13979    NaN  \n",
       "5045       T  \n",
       "845        M  \n",
       "12942    NaN  \n",
       "8756     NaN  "
      ]
     },
     "execution_count": 2,
     "metadata": {},
     "output_type": "execute_result"
    }
   ],
   "source": [
    "df = pd.read_csv('/Users/polzovatel/Desktop/Projects/Computer_games_analysis/games.csv')\n",
    "df.sample(5)"
   ]
  },
  {
   "cell_type": "markdown",
   "metadata": {},
   "source": [
    "Описание данных по столбцам:\n",
    "- Name — название игры\n",
    "- Platform — платформа\n",
    "- Year_of_Release — год выпуска\n",
    "- Genre — жанр игры\n",
    "- NA_sales — продажи в Северной Америке (миллионы проданных копий)\n",
    "- EU_sales — продажи в Европе (миллионы проданных копий)\n",
    "- JP_sales — продажи в Японии (миллионы проданных копий)\n",
    "- Other_sales — продажи в других странах (миллионы проданных копий)\n",
    "- Critic_Score — оценка критиков (максимум 100)\n",
    "- User_Score — оценка пользователей (максимум 10)\n",
    "- Rating — рейтинг от организации ESRB (англ. Entertainment Software Rating Board). Эта ассоциация определяет рейтинг компьютерных игр и присваивает им подходящую возрастную категорию.\n"
   ]
  },
  {
   "cell_type": "markdown",
   "metadata": {},
   "source": [
    "Посмотрим на типы данных в столбцах, оценим размер таблицы и количество пропусков:"
   ]
  },
  {
   "cell_type": "code",
   "execution_count": 3,
   "metadata": {},
   "outputs": [
    {
     "name": "stdout",
     "output_type": "stream",
     "text": [
      "<class 'pandas.core.frame.DataFrame'>\n",
      "RangeIndex: 16715 entries, 0 to 16714\n",
      "Data columns (total 11 columns):\n",
      " #   Column           Non-Null Count  Dtype  \n",
      "---  ------           --------------  -----  \n",
      " 0   Name             16713 non-null  object \n",
      " 1   Platform         16715 non-null  object \n",
      " 2   Year_of_Release  16446 non-null  float64\n",
      " 3   Genre            16713 non-null  object \n",
      " 4   NA_sales         16715 non-null  float64\n",
      " 5   EU_sales         16715 non-null  float64\n",
      " 6   JP_sales         16715 non-null  float64\n",
      " 7   Other_sales      16715 non-null  float64\n",
      " 8   Critic_Score     8137 non-null   float64\n",
      " 9   User_Score       10014 non-null  object \n",
      " 10  Rating           9949 non-null   object \n",
      "dtypes: float64(6), object(5)\n",
      "memory usage: 1.4+ MB\n"
     ]
    }
   ],
   "source": [
    "df.info()"
   ]
  },
  {
   "cell_type": "markdown",
   "metadata": {},
   "source": [
    "В таблице 16 715 строк и 11 столбцов. Встречаются пропуски. Построим наглядную диаграмму, чтобы оценить долю пропусков для каждого столбца:"
   ]
  },
  {
   "cell_type": "code",
   "execution_count": 4,
   "metadata": {
    "scrolled": true
   },
   "outputs": [
    {
     "data": {
      "image/png": "[encoded data removed]",
      "text/plain": [
       "<Figure size 864x216 with 1 Axes>"
      ]
     },
     "metadata": {
      "needs_background": "light"
     },
     "output_type": "display_data"
    }
   ],
   "source": [
    "rows_count = len(df) # посчитаем количество строк в таблице\n",
    "data = {} # создадим пустой словарь\n",
    "for column in df.columns: # для каждого столбца в таблице\n",
    "    nulls_count = df[column].isnull().sum() # посчитаем количество пропусков\n",
    "    rate = nulls_count / rows_count # найдём долю пропусков в столбце\n",
    "    data[column] = [rate] # положим в словарь название столбца и долю пропусков в нём\n",
    "df_nulls_rate = pd.DataFrame(data) # из полученного словаря создадим таблицу с долей пропусков для каждого столбца\n",
    "df_nulls_rate = df_nulls_rate.T.reset_index() \n",
    "df_nulls_rate.columns = ['param', 'nulls_rate']\n",
    "df_nulls_rate.plot(x='param', y='nulls_rate', legend=False, figsize=(12, 3), kind='bar', grid=True, alpha=.5)\n",
    "plt.title('Доля пропусков по столбцам')\n",
    "plt.xlabel(\"Столбец\")\n",
    "plt.ylabel(\"Доля пропусков\")\n",
    "plt.show()"
   ]
  },
  {
   "cell_type": "markdown",
   "metadata": {},
   "source": [
    "Больше всего пропусков в столбце critic_score (около 50%), user_score и rating (около 40%), немного - в Year_of_Release (около 2%)."
   ]
  },
  {
   "cell_type": "markdown",
   "metadata": {},
   "source": [
    "Посмотрим на статистические характеристики числовых данных:"
   ]
  },
  {
   "cell_type": "code",
   "execution_count": 5,
   "metadata": {},
   "outputs": [
    {
     "data": {
      "text/html": [
       "<div>\n",
       "<style scoped>\n",
       "    .dataframe tbody tr th:only-of-type {\n",
       "        vertical-align: middle;\n",
       "    }\n",
       "\n",
       "    .dataframe tbody tr th {\n",
       "        vertical-align: top;\n",
       "    }\n",
       "\n",
       "    .dataframe thead th {\n",
       "        text-align: right;\n",
       "    }\n",
       "</style>\n",
       "<table border=\"1\" class=\"dataframe\">\n",
       "  <thead>\n",
       "    <tr style=\"text-align: right;\">\n",
       "      <th></th>\n",
       "      <th>Year_of_Release</th>\n",
       "      <th>NA_sales</th>\n",
       "      <th>EU_sales</th>\n",
       "      <th>JP_sales</th>\n",
       "      <th>Other_sales</th>\n",
       "      <th>Critic_Score</th>\n",
       "    </tr>\n",
       "  </thead>\n",
       "  <tbody>\n",
       "    <tr>\n",
       "      <th>count</th>\n",
       "      <td>16446.000000</td>\n",
       "      <td>16715.000000</td>\n",
       "      <td>16715.000000</td>\n",
       "      <td>16715.000000</td>\n",
       "      <td>16715.000000</td>\n",
       "      <td>8137.000000</td>\n",
       "    </tr>\n",
       "    <tr>\n",
       "      <th>mean</th>\n",
       "      <td>2006.484616</td>\n",
       "      <td>0.263377</td>\n",
       "      <td>0.145060</td>\n",
       "      <td>0.077617</td>\n",
       "      <td>0.047342</td>\n",
       "      <td>68.967679</td>\n",
       "    </tr>\n",
       "    <tr>\n",
       "      <th>std</th>\n",
       "      <td>5.877050</td>\n",
       "      <td>0.813604</td>\n",
       "      <td>0.503339</td>\n",
       "      <td>0.308853</td>\n",
       "      <td>0.186731</td>\n",
       "      <td>13.938165</td>\n",
       "    </tr>\n",
       "    <tr>\n",
       "      <th>min</th>\n",
       "      <td>1980.000000</td>\n",
       "      <td>0.000000</td>\n",
       "      <td>0.000000</td>\n",
       "      <td>0.000000</td>\n",
       "      <td>0.000000</td>\n",
       "      <td>13.000000</td>\n",
       "    </tr>\n",
       "    <tr>\n",
       "      <th>25%</th>\n",
       "      <td>2003.000000</td>\n",
       "      <td>0.000000</td>\n",
       "      <td>0.000000</td>\n",
       "      <td>0.000000</td>\n",
       "      <td>0.000000</td>\n",
       "      <td>60.000000</td>\n",
       "    </tr>\n",
       "    <tr>\n",
       "      <th>50%</th>\n",
       "      <td>2007.000000</td>\n",
       "      <td>0.080000</td>\n",
       "      <td>0.020000</td>\n",
       "      <td>0.000000</td>\n",
       "      <td>0.010000</td>\n",
       "      <td>71.000000</td>\n",
       "    </tr>\n",
       "    <tr>\n",
       "      <th>75%</th>\n",
       "      <td>2010.000000</td>\n",
       "      <td>0.240000</td>\n",
       "      <td>0.110000</td>\n",
       "      <td>0.040000</td>\n",
       "      <td>0.030000</td>\n",
       "      <td>79.000000</td>\n",
       "    </tr>\n",
       "    <tr>\n",
       "      <th>max</th>\n",
       "      <td>2016.000000</td>\n",
       "      <td>41.360000</td>\n",
       "      <td>28.960000</td>\n",
       "      <td>10.220000</td>\n",
       "      <td>10.570000</td>\n",
       "      <td>98.000000</td>\n",
       "    </tr>\n",
       "  </tbody>\n",
       "</table>\n",
       "</div>"
      ],
      "text/plain": [
       "       Year_of_Release      NA_sales      EU_sales      JP_sales  \\\n",
       "count     16446.000000  16715.000000  16715.000000  16715.000000   \n",
       "mean       2006.484616      0.263377      0.145060      0.077617   \n",
       "std           5.877050      0.813604      0.503339      0.308853   \n",
       "min        1980.000000      0.000000      0.000000      0.000000   \n",
       "25%        2003.000000      0.000000      0.000000      0.000000   \n",
       "50%        2007.000000      0.080000      0.020000      0.000000   \n",
       "75%        2010.000000      0.240000      0.110000      0.040000   \n",
       "max        2016.000000     41.360000     28.960000     10.220000   \n",
       "\n",
       "        Other_sales  Critic_Score  \n",
       "count  16715.000000   8137.000000  \n",
       "mean       0.047342     68.967679  \n",
       "std        0.186731     13.938165  \n",
       "min        0.000000     13.000000  \n",
       "25%        0.000000     60.000000  \n",
       "50%        0.010000     71.000000  \n",
       "75%        0.030000     79.000000  \n",
       "max       10.570000     98.000000  "
      ]
     },
     "execution_count": 5,
     "metadata": {},
     "output_type": "execute_result"
    }
   ],
   "source": [
    "df.describe()"
   ]
  },
  {
   "cell_type": "markdown",
   "metadata": {},
   "source": [
    "- в таблицу попали игры с годом выпуска от 1980 до 2016 г;\n",
    "- максимальные значения числа продаж выглядят как явные выбросы по сравнению со значениями квартилей - можно сделать вывод, что сверхуспешные игры существенно выбиваются по продажам от большинства игр, даже тех, которые находятся возле 3 квартиля."
   ]
  },
  {
   "cell_type": "markdown",
   "metadata": {},
   "source": [
    "Посмотрим на статистические характеристики текстовых данных:"
   ]
  },
  {
   "cell_type": "code",
   "execution_count": 6,
   "metadata": {},
   "outputs": [
    {
     "data": {
      "text/html": [
       "<div>\n",
       "<style scoped>\n",
       "    .dataframe tbody tr th:only-of-type {\n",
       "        vertical-align: middle;\n",
       "    }\n",
       "\n",
       "    .dataframe tbody tr th {\n",
       "        vertical-align: top;\n",
       "    }\n",
       "\n",
       "    .dataframe thead th {\n",
       "        text-align: right;\n",
       "    }\n",
       "</style>\n",
       "<table border=\"1\" class=\"dataframe\">\n",
       "  <thead>\n",
       "    <tr style=\"text-align: right;\">\n",
       "      <th></th>\n",
       "      <th>count</th>\n",
       "      <th>unique</th>\n",
       "      <th>top</th>\n",
       "      <th>freq</th>\n",
       "    </tr>\n",
       "  </thead>\n",
       "  <tbody>\n",
       "    <tr>\n",
       "      <th>Name</th>\n",
       "      <td>16713</td>\n",
       "      <td>11559</td>\n",
       "      <td>Need for Speed: Most Wanted</td>\n",
       "      <td>12</td>\n",
       "    </tr>\n",
       "    <tr>\n",
       "      <th>Platform</th>\n",
       "      <td>16715</td>\n",
       "      <td>31</td>\n",
       "      <td>PS2</td>\n",
       "      <td>2161</td>\n",
       "    </tr>\n",
       "    <tr>\n",
       "      <th>Genre</th>\n",
       "      <td>16713</td>\n",
       "      <td>12</td>\n",
       "      <td>Action</td>\n",
       "      <td>3369</td>\n",
       "    </tr>\n",
       "    <tr>\n",
       "      <th>User_Score</th>\n",
       "      <td>10014</td>\n",
       "      <td>96</td>\n",
       "      <td>tbd</td>\n",
       "      <td>2424</td>\n",
       "    </tr>\n",
       "    <tr>\n",
       "      <th>Rating</th>\n",
       "      <td>9949</td>\n",
       "      <td>8</td>\n",
       "      <td>E</td>\n",
       "      <td>3990</td>\n",
       "    </tr>\n",
       "  </tbody>\n",
       "</table>\n",
       "</div>"
      ],
      "text/plain": [
       "            count unique                          top  freq\n",
       "Name        16713  11559  Need for Speed: Most Wanted    12\n",
       "Platform    16715     31                          PS2  2161\n",
       "Genre       16713     12                       Action  3369\n",
       "User_Score  10014     96                          tbd  2424\n",
       "Rating       9949      8                            E  3990"
      ]
     },
     "execution_count": 6,
     "metadata": {},
     "output_type": "execute_result"
    }
   ],
   "source": [
    "df.describe(include='O').T"
   ]
  },
  {
   "cell_type": "markdown",
   "metadata": {},
   "source": [
    "- в столбце user_score встречается рейтинг tbd, надо разобраться, что это;\n",
    "- игра Need for Speed: Most Wanted встречается 12 раз в таблице, надо изучить строки с этой игрой, понять, с чем связаны такие повторения игры;\n",
    "- самая популярная игровая платформа - это PS2;\n",
    "- самый популярный жанр - это Action;\n",
    "- самый распространенный рейтинг - это E, надо разобраться подробнее, что рейтинги означают."
   ]
  },
  {
   "cell_type": "markdown",
   "metadata": {},
   "source": [
    "Оценим игровые платформы по количеству выпущенных игр, построим диаграмму:"
   ]
  },
  {
   "cell_type": "code",
   "execution_count": 7,
   "metadata": {},
   "outputs": [
    {
     "data": {
      "image/png": "[encoded data removed]",
      "text/plain": [
       "<Figure size 864x216 with 1 Axes>"
      ]
     },
     "metadata": {
      "needs_background": "light"
     },
     "output_type": "display_data"
    }
   ],
   "source": [
    "(df.groupby('Platform')[['Name']].count().sort_values('Name', ascending=False)\n",
    " .plot(kind='bar', grid=True, figsize=(12, 3), alpha=.5, legend=False, color='blue'))\n",
    "plt.title(\"Количество выпущенных игр для каждой платформы\")\n",
    "plt.xlabel(\"Платформа\")\n",
    "plt.ylabel(\"Количество игр\")\n",
    "plt.show()"
   ]
  },
  {
   "cell_type": "markdown",
   "metadata": {},
   "source": [
    "Оценим жанры игр по количеству выпущенных игр, построим диаграмму:"
   ]
  },
  {
   "cell_type": "code",
   "execution_count": 8,
   "metadata": {},
   "outputs": [
    {
     "data": {
      "image/png": "[encoded data removed]",
      "text/plain": [
       "<Figure size 864x216 with 1 Axes>"
      ]
     },
     "metadata": {
      "needs_background": "light"
     },
     "output_type": "display_data"
    }
   ],
   "source": [
    "(df.groupby('Genre')[['Name']].count().sort_values('Name', ascending=False)\n",
    " .plot(kind='bar', grid=True, figsize=(12, 3), alpha=.5, legend=False, color='green'))\n",
    "plt.title(\"Количество выпущенных игр каждого жанра\")\n",
    "plt.xlabel(\"Жанр\")\n",
    "plt.ylabel(\"Количество выпущенных игр\")\n",
    "plt.show()"
   ]
  },
  {
   "cell_type": "markdown",
   "metadata": {},
   "source": [
    "Расшифровка жанров:\n",
    "- Action - акцент на борьбе, включает в себя прохождение определённых уровней для достижения битвы с боссами;\n",
    "- Sports - соревнования по существующим видам спорта;\n",
    "- Misc (Miscellaneous game) - игры, не вошедшие в другие жанры;\n",
    "- Role-playing (RPG) - решение проблем, взаимодействие с неигровыми персонажами, участие в боях, статистическое развитие персонажа;\n",
    "- Shooter - неистовый темп, акцент на показные бои с использованием оружия и огромным количеством трупов;\n",
    "- Adventure\t- упор на головоломки без высокой активности;\n",
    "- Racing - соревнования по времени между персонажами или транспортными средствами;\n",
    "- Platform - основное внимание уделяется прыжкам или сложностям навигации, часто включают в себя элементы игр-экшенов;\n",
    "- Simulation - имитация реальных процессов, часто без указания цели;\n",
    "- Fighting - основное внимание уделяется бою один на один;\n",
    "- Strategy - акцент на тактическое управление ресурсами и территорией против оппонента;\n",
    "- Puzzle - решение абстрактных головоломок."
   ]
  },
  {
   "cell_type": "markdown",
   "metadata": {},
   "source": [
    "Оценим количество игр каждого рейтинга ESRB и разберёмся, что они означают:"
   ]
  },
  {
   "cell_type": "code",
   "execution_count": 9,
   "metadata": {},
   "outputs": [
    {
     "data": {
      "image/png": "[encoded data removed]",
      "text/plain": [
       "<Figure size 864x216 with 1 Axes>"
      ]
     },
     "metadata": {
      "needs_background": "light"
     },
     "output_type": "display_data"
    }
   ],
   "source": [
    "(df.groupby('Rating')[['Name']].count().sort_values('Name', ascending=False)\n",
    " .plot(kind='bar', grid=True, figsize=(12, 3), alpha=.5, legend=False, color='red'))\n",
    "plt.title(\"Количество выпущенных игр каждого рейтинга ESRB\")\n",
    "plt.xlabel(\"Рейтинг ESRB\")\n",
    "plt.ylabel(\"Количество выпущенных игр\")\n",
    "plt.show()"
   ]
  },
  {
   "cell_type": "markdown",
   "metadata": {},
   "source": [
    "Расшифровка рейтингов ESRB:\n",
    "- EC («Early Childhood») — «Для детей младшего возраста»: Игра подходит для детей от 3 лет и старше и не содержит материалов, которые родители могли бы счесть неподходящими. Продукты, получившие данный рейтинг, изначально разрабатываются для детей и обычно представляют собой развивающие игры.\n",
    "- E («Everyone») — «Для всех»: Содержание вполне подходит для возрастной категории от 6 лет и старше; такие игры могут понравиться и взрослым. Игры с этим рейтингом могут содержать минимальное насилие, в основном «мультяшного» характера. Первой игрой, которая получила данный рейтинг, стала The Simpsons Cartoon Studio(aнг.), выпущенная в 1996 году.\n",
    "- E10+ («Everyone 10 and older») — «Для всех старше 10 лет»: Возрастная категория — от 10 лет. Проекты с данным рейтингом могут содержать немного больше мультипликационного или мягкого насилия, или несколько откровенные сцены или минимальное количество крови. Рейтинг был принят ESRB 2 марта 2005 года. Первой игрой, которая получила данный рейтинг, стала Donkey Kong: Jungle Beat.\n",
    "- T («Teen») — «Подросткам»: Игра подходит для лиц от 13 лет и старше. Проекты из данной категории могут содержать насилие, непристойные сцены, грубый юмор, в меру откровенное сексуальное содержимое, кровь или нечастое использование ненормативной лексики.\n",
    "- M («Mature») — «От 17 лет»: Материалы игры не подходят для подростков младше 17 лет. Проекты с данным рейтингом могут содержать достаточно жестокое насилие, большое количество крови с расчленением, непристойные сексуальные сцены или грубую ненормативную лексику, нежелательную для младшей аудитории. Некоторые торговые сети не продают игры с таким рейтингом несовершеннолетним без согласия родителей.\n",
    "- AO («Adults Only 18+») — «Только для взрослых»: Содержание игры только для взрослых. Продукты из данной категории могут содержать длительные сцены жестокого насилия и/или очень откровенное сексуальное содержимое, а также сцены с обнажением. В 2006-м году данный рейтинг получили 22 продукта, большинство из которых предназначены для персональных компьютеров под управлением Windows и Apple Macintosh. Рейтинг «Только для взрослых» является предметом многочисленных дискуссий, так как накладывает серьёзные ограничения на продажи игры.\n",
    "- RP («Rating Pending»\") — «Рейтинг ожидается»: Продукт был отправлен в ESRB и ожидает присвоения рейтинга. Данный логотип используется только на рекламных презентациях и в демо-версиях игр до официального релиза.\n",
    "- K-A («Kids to Adults»)— «Для детей и взрослых»: Содержание игры вполне подходит для возрастной категории от 6 лет и старше. Такие игры подходят для всех возрастов. Они могут содержать минимальное насилие или немного грубый разговорный язык. Этот рейтинг был заменён на «Everyone» 1 января 1998 года и может встречаться только в играх, изданных ранее, кроме The Simpsons Cartoon Studio. Первой игрой, получившей данный рейтинг, стала SimCity 2000 в 1994 году."
   ]
  },
  {
   "cell_type": "markdown",
   "metadata": {},
   "source": [
    "Посмотрим на все игры с названием Need for Speed: Most Wanted, оценим, нет ли проблем в данных в связи с повторениями в названиях игр. Предварительно приведём названия всех игр к нижнему регистру, чтобы не пропустить все возможные варианты написания."
   ]
  },
  {
   "cell_type": "code",
   "execution_count": 10,
   "metadata": {},
   "outputs": [
    {
     "data": {
      "text/html": [
       "<div>\n",
       "<style scoped>\n",
       "    .dataframe tbody tr th:only-of-type {\n",
       "        vertical-align: middle;\n",
       "    }\n",
       "\n",
       "    .dataframe tbody tr th {\n",
       "        vertical-align: top;\n",
       "    }\n",
       "\n",
       "    .dataframe thead th {\n",
       "        text-align: right;\n",
       "    }\n",
       "</style>\n",
       "<table border=\"1\" class=\"dataframe\">\n",
       "  <thead>\n",
       "    <tr style=\"text-align: right;\">\n",
       "      <th></th>\n",
       "      <th>Name</th>\n",
       "      <th>Platform</th>\n",
       "      <th>Year_of_Release</th>\n",
       "      <th>Genre</th>\n",
       "      <th>NA_sales</th>\n",
       "      <th>EU_sales</th>\n",
       "      <th>JP_sales</th>\n",
       "      <th>Other_sales</th>\n",
       "      <th>Critic_Score</th>\n",
       "      <th>User_Score</th>\n",
       "      <th>Rating</th>\n",
       "    </tr>\n",
       "  </thead>\n",
       "  <tbody>\n",
       "    <tr>\n",
       "      <th>253</th>\n",
       "      <td>need for speed: most wanted</td>\n",
       "      <td>PS2</td>\n",
       "      <td>2005.0</td>\n",
       "      <td>Racing</td>\n",
       "      <td>2.03</td>\n",
       "      <td>1.79</td>\n",
       "      <td>0.08</td>\n",
       "      <td>0.47</td>\n",
       "      <td>82.0</td>\n",
       "      <td>9.1</td>\n",
       "      <td>T</td>\n",
       "    </tr>\n",
       "    <tr>\n",
       "      <th>523</th>\n",
       "      <td>need for speed: most wanted</td>\n",
       "      <td>PS3</td>\n",
       "      <td>2012.0</td>\n",
       "      <td>Racing</td>\n",
       "      <td>0.71</td>\n",
       "      <td>1.46</td>\n",
       "      <td>0.06</td>\n",
       "      <td>0.58</td>\n",
       "      <td>NaN</td>\n",
       "      <td>NaN</td>\n",
       "      <td>NaN</td>\n",
       "    </tr>\n",
       "    <tr>\n",
       "      <th>1190</th>\n",
       "      <td>need for speed: most wanted</td>\n",
       "      <td>X360</td>\n",
       "      <td>2012.0</td>\n",
       "      <td>Racing</td>\n",
       "      <td>0.62</td>\n",
       "      <td>0.78</td>\n",
       "      <td>0.01</td>\n",
       "      <td>0.15</td>\n",
       "      <td>83.0</td>\n",
       "      <td>8.5</td>\n",
       "      <td>T</td>\n",
       "    </tr>\n",
       "    <tr>\n",
       "      <th>1591</th>\n",
       "      <td>need for speed: most wanted</td>\n",
       "      <td>X360</td>\n",
       "      <td>2005.0</td>\n",
       "      <td>Racing</td>\n",
       "      <td>1.00</td>\n",
       "      <td>0.13</td>\n",
       "      <td>0.02</td>\n",
       "      <td>0.10</td>\n",
       "      <td>83.0</td>\n",
       "      <td>8.5</td>\n",
       "      <td>T</td>\n",
       "    </tr>\n",
       "    <tr>\n",
       "      <th>1998</th>\n",
       "      <td>need for speed: most wanted</td>\n",
       "      <td>XB</td>\n",
       "      <td>2005.0</td>\n",
       "      <td>Racing</td>\n",
       "      <td>0.53</td>\n",
       "      <td>0.46</td>\n",
       "      <td>0.00</td>\n",
       "      <td>0.05</td>\n",
       "      <td>83.0</td>\n",
       "      <td>8.8</td>\n",
       "      <td>T</td>\n",
       "    </tr>\n",
       "    <tr>\n",
       "      <th>2048</th>\n",
       "      <td>need for speed: most wanted</td>\n",
       "      <td>PSV</td>\n",
       "      <td>2012.0</td>\n",
       "      <td>Racing</td>\n",
       "      <td>0.33</td>\n",
       "      <td>0.45</td>\n",
       "      <td>0.01</td>\n",
       "      <td>0.22</td>\n",
       "      <td>NaN</td>\n",
       "      <td>NaN</td>\n",
       "      <td>NaN</td>\n",
       "    </tr>\n",
       "    <tr>\n",
       "      <th>3581</th>\n",
       "      <td>need for speed: most wanted</td>\n",
       "      <td>GC</td>\n",
       "      <td>2005.0</td>\n",
       "      <td>Racing</td>\n",
       "      <td>0.43</td>\n",
       "      <td>0.11</td>\n",
       "      <td>0.00</td>\n",
       "      <td>0.02</td>\n",
       "      <td>80.0</td>\n",
       "      <td>9.1</td>\n",
       "      <td>T</td>\n",
       "    </tr>\n",
       "    <tr>\n",
       "      <th>5972</th>\n",
       "      <td>need for speed: most wanted</td>\n",
       "      <td>PC</td>\n",
       "      <td>2005.0</td>\n",
       "      <td>Racing</td>\n",
       "      <td>0.02</td>\n",
       "      <td>0.23</td>\n",
       "      <td>0.00</td>\n",
       "      <td>0.04</td>\n",
       "      <td>82.0</td>\n",
       "      <td>8.5</td>\n",
       "      <td>T</td>\n",
       "    </tr>\n",
       "    <tr>\n",
       "      <th>6273</th>\n",
       "      <td>need for speed: most wanted</td>\n",
       "      <td>WiiU</td>\n",
       "      <td>2013.0</td>\n",
       "      <td>Racing</td>\n",
       "      <td>0.13</td>\n",
       "      <td>0.12</td>\n",
       "      <td>0.00</td>\n",
       "      <td>0.02</td>\n",
       "      <td>NaN</td>\n",
       "      <td>NaN</td>\n",
       "      <td>NaN</td>\n",
       "    </tr>\n",
       "    <tr>\n",
       "      <th>6410</th>\n",
       "      <td>need for speed: most wanted</td>\n",
       "      <td>DS</td>\n",
       "      <td>2005.0</td>\n",
       "      <td>Racing</td>\n",
       "      <td>0.24</td>\n",
       "      <td>0.01</td>\n",
       "      <td>0.00</td>\n",
       "      <td>0.02</td>\n",
       "      <td>45.0</td>\n",
       "      <td>6.1</td>\n",
       "      <td>E</td>\n",
       "    </tr>\n",
       "    <tr>\n",
       "      <th>6473</th>\n",
       "      <td>need for speed: most wanted</td>\n",
       "      <td>GBA</td>\n",
       "      <td>2005.0</td>\n",
       "      <td>Racing</td>\n",
       "      <td>0.19</td>\n",
       "      <td>0.07</td>\n",
       "      <td>0.00</td>\n",
       "      <td>0.00</td>\n",
       "      <td>NaN</td>\n",
       "      <td>8.3</td>\n",
       "      <td>E</td>\n",
       "    </tr>\n",
       "    <tr>\n",
       "      <th>11715</th>\n",
       "      <td>need for speed: most wanted</td>\n",
       "      <td>PC</td>\n",
       "      <td>2012.0</td>\n",
       "      <td>Racing</td>\n",
       "      <td>0.00</td>\n",
       "      <td>0.06</td>\n",
       "      <td>0.00</td>\n",
       "      <td>0.02</td>\n",
       "      <td>82.0</td>\n",
       "      <td>8.5</td>\n",
       "      <td>T</td>\n",
       "    </tr>\n",
       "  </tbody>\n",
       "</table>\n",
       "</div>"
      ],
      "text/plain": [
       "                              Name Platform  Year_of_Release   Genre  \\\n",
       "253    need for speed: most wanted      PS2           2005.0  Racing   \n",
       "523    need for speed: most wanted      PS3           2012.0  Racing   \n",
       "1190   need for speed: most wanted     X360           2012.0  Racing   \n",
       "1591   need for speed: most wanted     X360           2005.0  Racing   \n",
       "1998   need for speed: most wanted       XB           2005.0  Racing   \n",
       "2048   need for speed: most wanted      PSV           2012.0  Racing   \n",
       "3581   need for speed: most wanted       GC           2005.0  Racing   \n",
       "5972   need for speed: most wanted       PC           2005.0  Racing   \n",
       "6273   need for speed: most wanted     WiiU           2013.0  Racing   \n",
       "6410   need for speed: most wanted       DS           2005.0  Racing   \n",
       "6473   need for speed: most wanted      GBA           2005.0  Racing   \n",
       "11715  need for speed: most wanted       PC           2012.0  Racing   \n",
       "\n",
       "       NA_sales  EU_sales  JP_sales  Other_sales  Critic_Score User_Score  \\\n",
       "253        2.03      1.79      0.08         0.47          82.0        9.1   \n",
       "523        0.71      1.46      0.06         0.58           NaN        NaN   \n",
       "1190       0.62      0.78      0.01         0.15          83.0        8.5   \n",
       "1591       1.00      0.13      0.02         0.10          83.0        8.5   \n",
       "1998       0.53      0.46      0.00         0.05          83.0        8.8   \n",
       "2048       0.33      0.45      0.01         0.22           NaN        NaN   \n",
       "3581       0.43      0.11      0.00         0.02          80.0        9.1   \n",
       "5972       0.02      0.23      0.00         0.04          82.0        8.5   \n",
       "6273       0.13      0.12      0.00         0.02           NaN        NaN   \n",
       "6410       0.24      0.01      0.00         0.02          45.0        6.1   \n",
       "6473       0.19      0.07      0.00         0.00           NaN        8.3   \n",
       "11715      0.00      0.06      0.00         0.02          82.0        8.5   \n",
       "\n",
       "      Rating  \n",
       "253        T  \n",
       "523      NaN  \n",
       "1190       T  \n",
       "1591       T  \n",
       "1998       T  \n",
       "2048     NaN  \n",
       "3581       T  \n",
       "5972       T  \n",
       "6273     NaN  \n",
       "6410       E  \n",
       "6473       E  \n",
       "11715      T  "
      ]
     },
     "execution_count": 10,
     "metadata": {},
     "output_type": "execute_result"
    }
   ],
   "source": [
    "df.Name = df.Name.str.lower()\n",
    "df.query('Name == \"need for speed: most wanted\"')"
   ]
  },
  {
   "cell_type": "markdown",
   "metadata": {},
   "source": [
    "Видно, что повторения вызваны тем, что игра выходила на разных платформах. Выпуск игры был в 2005 году, переиздание в 2012 году. Данные верные."
   ]
  },
  {
   "cell_type": "markdown",
   "metadata": {},
   "source": [
    "Выводы после первичного знакомства с данными:\n",
    "- в таблице 16 715 строк и 11 столбцов;\n",
    "- названия столбцов записаны с заглавных букв, корректнее изменить их, чтобы они полностью состояли из строчных букв;\n",
    "- встречаются пропуски: больше всего - в столбце critic_score (около 50%), user_score и rating (около 40%), немного - в Year_of_Release (около 2%);\n",
    "- в таблицу попали игры с годом выпуска от 1980 до 2016 г;\n",
    "- максимальные значения объёмов продаж выглядят как явные выбросы по сравнению со значениями квартилей - можно сделать вывод, что сверхуспешные игры существенно отличаются по продажам от большинства игр;\n",
    "- в столбце user_score встречается рейтинг tbd, надо разобраться, что это;\n",
    "- некоторые игры встречается в таблице несколько раз, повторения вызваны тем, что игры выходили на разных платформах и в разные годы;\n",
    "- самая популярная игровая платформа по количеству выпушенных игр - это PS2 и Nintendo DS;\n",
    "- самый популярный жанр по количеству выпушенных игр - это Action;\n",
    "- самый распространенный рейтинг по количеству выпушенных игр - это «E» («Everyone») — «Для всех»."
   ]
  },
  {
   "cell_type": "markdown",
   "metadata": {},
   "source": [
    "[К началу](#contents)"
   ]
  },
  {
   "cell_type": "markdown",
   "metadata": {},
   "source": [
    "### <a name=\"2\"> Предобработка данных </a>"
   ]
  },
  {
   "cell_type": "markdown",
   "metadata": {},
   "source": [
    "#### <a name=\"2.1\"> Полные дубли </a>"
   ]
  },
  {
   "cell_type": "markdown",
   "metadata": {},
   "source": [
    "Оценим количество полных дублей:"
   ]
  },
  {
   "cell_type": "code",
   "execution_count": 11,
   "metadata": {},
   "outputs": [
    {
     "data": {
      "text/plain": [
       "0"
      ]
     },
     "execution_count": 11,
     "metadata": {},
     "output_type": "execute_result"
    }
   ],
   "source": [
    "df.duplicated().sum() "
   ]
  },
  {
   "cell_type": "markdown",
   "metadata": {},
   "source": [
    "#### <a name=\"2.2\"> Переименование столбцов </a>"
   ]
  },
  {
   "cell_type": "markdown",
   "metadata": {},
   "source": [
    "Приведём названия столбцов к нижнему регистру:"
   ]
  },
  {
   "cell_type": "code",
   "execution_count": 12,
   "metadata": {},
   "outputs": [
    {
     "data": {
      "text/plain": [
       "Index(['name', 'platform', 'year_of_release', 'genre', 'na_sales', 'eu_sales',\n",
       "       'jp_sales', 'other_sales', 'critic_score', 'user_score', 'rating'],\n",
       "      dtype='object')"
      ]
     },
     "execution_count": 12,
     "metadata": {},
     "output_type": "execute_result"
    }
   ],
   "source": [
    "df.columns = [i.lower() for i in df.columns]\n",
    "df.columns"
   ]
  },
  {
   "cell_type": "markdown",
   "metadata": {},
   "source": [
    "#### <a name=\"2.3\"> Добавление новых столбцов </a>"
   ]
  },
  {
   "cell_type": "markdown",
   "metadata": {},
   "source": [
    "Посчитаем суммарные продажи во всех регионах и запишем их в отдельный столбец:"
   ]
  },
  {
   "cell_type": "code",
   "execution_count": 13,
   "metadata": {},
   "outputs": [
    {
     "data": {
      "text/html": [
       "<div>\n",
       "<style scoped>\n",
       "    .dataframe tbody tr th:only-of-type {\n",
       "        vertical-align: middle;\n",
       "    }\n",
       "\n",
       "    .dataframe tbody tr th {\n",
       "        vertical-align: top;\n",
       "    }\n",
       "\n",
       "    .dataframe thead th {\n",
       "        text-align: right;\n",
       "    }\n",
       "</style>\n",
       "<table border=\"1\" class=\"dataframe\">\n",
       "  <thead>\n",
       "    <tr style=\"text-align: right;\">\n",
       "      <th></th>\n",
       "      <th>name</th>\n",
       "      <th>platform</th>\n",
       "      <th>year_of_release</th>\n",
       "      <th>genre</th>\n",
       "      <th>na_sales</th>\n",
       "      <th>eu_sales</th>\n",
       "      <th>jp_sales</th>\n",
       "      <th>other_sales</th>\n",
       "      <th>critic_score</th>\n",
       "      <th>user_score</th>\n",
       "      <th>rating</th>\n",
       "      <th>total_sales</th>\n",
       "    </tr>\n",
       "  </thead>\n",
       "  <tbody>\n",
       "    <tr>\n",
       "      <th>0</th>\n",
       "      <td>wii sports</td>\n",
       "      <td>Wii</td>\n",
       "      <td>2006.0</td>\n",
       "      <td>Sports</td>\n",
       "      <td>41.36</td>\n",
       "      <td>28.96</td>\n",
       "      <td>3.77</td>\n",
       "      <td>8.45</td>\n",
       "      <td>76.0</td>\n",
       "      <td>8</td>\n",
       "      <td>E</td>\n",
       "      <td>82.54</td>\n",
       "    </tr>\n",
       "  </tbody>\n",
       "</table>\n",
       "</div>"
      ],
      "text/plain": [
       "         name platform  year_of_release   genre  na_sales  eu_sales  jp_sales  \\\n",
       "0  wii sports      Wii           2006.0  Sports     41.36     28.96      3.77   \n",
       "\n",
       "   other_sales  critic_score user_score rating  total_sales  \n",
       "0         8.45          76.0          8      E        82.54  "
      ]
     },
     "execution_count": 13,
     "metadata": {},
     "output_type": "execute_result"
    }
   ],
   "source": [
    "df['total_sales'] = df.na_sales + df.eu_sales + df.jp_sales + df.other_sales\n",
    "df.head(1)"
   ]
  },
  {
   "cell_type": "markdown",
   "metadata": {},
   "source": [
    "#### <a name=\"2.4\"> Пропуски в столбцах </a>"
   ]
  },
  {
   "cell_type": "markdown",
   "metadata": {},
   "source": [
    "Посмотрим внимательнее на столбцы с пропусками значений, попробуем разобраться с причинами пропусков и заполнить ячейки:"
   ]
  },
  {
   "cell_type": "code",
   "execution_count": 14,
   "metadata": {},
   "outputs": [
    {
     "name": "stdout",
     "output_type": "stream",
     "text": [
      "<class 'pandas.core.frame.DataFrame'>\n",
      "RangeIndex: 16715 entries, 0 to 16714\n",
      "Data columns (total 12 columns):\n",
      " #   Column           Non-Null Count  Dtype  \n",
      "---  ------           --------------  -----  \n",
      " 0   name             16713 non-null  object \n",
      " 1   platform         16715 non-null  object \n",
      " 2   year_of_release  16446 non-null  float64\n",
      " 3   genre            16713 non-null  object \n",
      " 4   na_sales         16715 non-null  float64\n",
      " 5   eu_sales         16715 non-null  float64\n",
      " 6   jp_sales         16715 non-null  float64\n",
      " 7   other_sales      16715 non-null  float64\n",
      " 8   critic_score     8137 non-null   float64\n",
      " 9   user_score       10014 non-null  object \n",
      " 10  rating           9949 non-null   object \n",
      " 11  total_sales      16715 non-null  float64\n",
      "dtypes: float64(7), object(5)\n",
      "memory usage: 1.5+ MB\n"
     ]
    }
   ],
   "source": [
    "df.info()"
   ]
  },
  {
   "cell_type": "markdown",
   "metadata": {},
   "source": [
    "- столбец name - всего 2 пропуска;\n",
    "- столбец genre - всего 2 пропуска;\n",
    "- в столбце year_of_release почти 300 пропусков;\n",
    "- в столбцах critic_score, user_score и rating более 6000 пропусков в каждом;"
   ]
  },
  {
   "cell_type": "markdown",
   "metadata": {},
   "source": [
    "Посмотрим на 2 строки с пропусками в столбце name:"
   ]
  },
  {
   "cell_type": "code",
   "execution_count": 15,
   "metadata": {},
   "outputs": [
    {
     "data": {
      "text/html": [
       "<div>\n",
       "<style scoped>\n",
       "    .dataframe tbody tr th:only-of-type {\n",
       "        vertical-align: middle;\n",
       "    }\n",
       "\n",
       "    .dataframe tbody tr th {\n",
       "        vertical-align: top;\n",
       "    }\n",
       "\n",
       "    .dataframe thead th {\n",
       "        text-align: right;\n",
       "    }\n",
       "</style>\n",
       "<table border=\"1\" class=\"dataframe\">\n",
       "  <thead>\n",
       "    <tr style=\"text-align: right;\">\n",
       "      <th></th>\n",
       "      <th>name</th>\n",
       "      <th>platform</th>\n",
       "      <th>year_of_release</th>\n",
       "      <th>genre</th>\n",
       "      <th>na_sales</th>\n",
       "      <th>eu_sales</th>\n",
       "      <th>jp_sales</th>\n",
       "      <th>other_sales</th>\n",
       "      <th>critic_score</th>\n",
       "      <th>user_score</th>\n",
       "      <th>rating</th>\n",
       "      <th>total_sales</th>\n",
       "    </tr>\n",
       "  </thead>\n",
       "  <tbody>\n",
       "    <tr>\n",
       "      <th>659</th>\n",
       "      <td>NaN</td>\n",
       "      <td>GEN</td>\n",
       "      <td>1993.0</td>\n",
       "      <td>NaN</td>\n",
       "      <td>1.78</td>\n",
       "      <td>0.53</td>\n",
       "      <td>0.00</td>\n",
       "      <td>0.08</td>\n",
       "      <td>NaN</td>\n",
       "      <td>NaN</td>\n",
       "      <td>NaN</td>\n",
       "      <td>2.39</td>\n",
       "    </tr>\n",
       "    <tr>\n",
       "      <th>14244</th>\n",
       "      <td>NaN</td>\n",
       "      <td>GEN</td>\n",
       "      <td>1993.0</td>\n",
       "      <td>NaN</td>\n",
       "      <td>0.00</td>\n",
       "      <td>0.00</td>\n",
       "      <td>0.03</td>\n",
       "      <td>0.00</td>\n",
       "      <td>NaN</td>\n",
       "      <td>NaN</td>\n",
       "      <td>NaN</td>\n",
       "      <td>0.03</td>\n",
       "    </tr>\n",
       "  </tbody>\n",
       "</table>\n",
       "</div>"
      ],
      "text/plain": [
       "      name platform  year_of_release genre  na_sales  eu_sales  jp_sales  \\\n",
       "659    NaN      GEN           1993.0   NaN      1.78      0.53      0.00   \n",
       "14244  NaN      GEN           1993.0   NaN      0.00      0.00      0.03   \n",
       "\n",
       "       other_sales  critic_score user_score rating  total_sales  \n",
       "659           0.08           NaN        NaN    NaN         2.39  \n",
       "14244         0.00           NaN        NaN    NaN         0.03  "
      ]
     },
     "execution_count": 15,
     "metadata": {},
     "output_type": "execute_result"
    }
   ],
   "source": [
    "df[df.name.isnull()]"
   ]
  },
  {
   "cell_type": "markdown",
   "metadata": {},
   "source": [
    "Видно, что:\n",
    "- это те же строки, где 2 пропуска в столбце genre;\n",
    "- нет данных ни по одному рейтингу;\n",
    "- это две игры на Sega Genesis, вышедшие в 1993 году;\n",
    "- одна игра разошлась относительно небольшим тиражом - 30 тыс. копий, а вторая стала достаточно популярной - 1,78 млн копий в Северной Америке и пол млн копий в Европе.\n",
    "\n",
    "При поиске игры, которая вышла на Sega Genesis в 1993 году и разошлась 1,78 млн копиями в Северной Америке, удалось найти совпадение с игрой Mortal Kombat II. Добавим название и жанр этой игры в таблицу:"
   ]
  },
  {
   "cell_type": "code",
   "execution_count": 16,
   "metadata": {},
   "outputs": [
    {
     "data": {
      "text/plain": [
       "name     mortal kombat ii\n",
       "genre            Fighting\n",
       "Name: 659, dtype: object"
      ]
     },
     "execution_count": 16,
     "metadata": {},
     "output_type": "execute_result"
    }
   ],
   "source": [
    "df.loc[659, 'name'] = 'mortal kombat ii'\n",
    "df.loc[659, 'genre'] = 'Fighting'\n",
    "df.loc[659, ['name', 'genre']]"
   ]
  },
  {
   "cell_type": "markdown",
   "metadata": {},
   "source": [
    "Проверим, не получился ли дубль:"
   ]
  },
  {
   "cell_type": "code",
   "execution_count": 17,
   "metadata": {},
   "outputs": [
    {
     "data": {
      "text/html": [
       "<div>\n",
       "<style scoped>\n",
       "    .dataframe tbody tr th:only-of-type {\n",
       "        vertical-align: middle;\n",
       "    }\n",
       "\n",
       "    .dataframe tbody tr th {\n",
       "        vertical-align: top;\n",
       "    }\n",
       "\n",
       "    .dataframe thead th {\n",
       "        text-align: right;\n",
       "    }\n",
       "</style>\n",
       "<table border=\"1\" class=\"dataframe\">\n",
       "  <thead>\n",
       "    <tr style=\"text-align: right;\">\n",
       "      <th></th>\n",
       "      <th>name</th>\n",
       "      <th>platform</th>\n",
       "      <th>year_of_release</th>\n",
       "      <th>genre</th>\n",
       "      <th>na_sales</th>\n",
       "      <th>eu_sales</th>\n",
       "      <th>jp_sales</th>\n",
       "      <th>other_sales</th>\n",
       "      <th>critic_score</th>\n",
       "      <th>user_score</th>\n",
       "      <th>rating</th>\n",
       "      <th>total_sales</th>\n",
       "    </tr>\n",
       "  </thead>\n",
       "  <tbody>\n",
       "    <tr>\n",
       "      <th>659</th>\n",
       "      <td>mortal kombat ii</td>\n",
       "      <td>GEN</td>\n",
       "      <td>1993.0</td>\n",
       "      <td>Fighting</td>\n",
       "      <td>1.78</td>\n",
       "      <td>0.53</td>\n",
       "      <td>0.0</td>\n",
       "      <td>0.08</td>\n",
       "      <td>NaN</td>\n",
       "      <td>NaN</td>\n",
       "      <td>NaN</td>\n",
       "      <td>2.39</td>\n",
       "    </tr>\n",
       "    <tr>\n",
       "      <th>892</th>\n",
       "      <td>mortal kombat ii</td>\n",
       "      <td>SNES</td>\n",
       "      <td>1993.0</td>\n",
       "      <td>Fighting</td>\n",
       "      <td>1.48</td>\n",
       "      <td>0.39</td>\n",
       "      <td>0.0</td>\n",
       "      <td>0.06</td>\n",
       "      <td>NaN</td>\n",
       "      <td>NaN</td>\n",
       "      <td>NaN</td>\n",
       "      <td>1.93</td>\n",
       "    </tr>\n",
       "  </tbody>\n",
       "</table>\n",
       "</div>"
      ],
      "text/plain": [
       "                 name platform  year_of_release     genre  na_sales  eu_sales  \\\n",
       "659  mortal kombat ii      GEN           1993.0  Fighting      1.78      0.53   \n",
       "892  mortal kombat ii     SNES           1993.0  Fighting      1.48      0.39   \n",
       "\n",
       "     jp_sales  other_sales  critic_score user_score rating  total_sales  \n",
       "659       0.0         0.08           NaN        NaN    NaN         2.39  \n",
       "892       0.0         0.06           NaN        NaN    NaN         1.93  "
      ]
     },
     "execution_count": 17,
     "metadata": {},
     "output_type": "execute_result"
    }
   ],
   "source": [
    "df[df.name == \"mortal kombat ii\"]"
   ]
  },
  {
   "cell_type": "markdown",
   "metadata": {},
   "source": [
    "В таблице уже была такая игра, но для другой консоли, поэтому проблем с дублированием нет."
   ]
  },
  {
   "cell_type": "markdown",
   "metadata": {},
   "source": [
    "К сожалению, идентфицировать вторую игру с пропушенным именем достаточно сложно. Удалим эту строку:"
   ]
  },
  {
   "cell_type": "code",
   "execution_count": 18,
   "metadata": {},
   "outputs": [
    {
     "data": {
      "text/plain": [
       "16714"
      ]
     },
     "execution_count": 18,
     "metadata": {},
     "output_type": "execute_result"
    }
   ],
   "source": [
    "df.dropna(subset = ['name'], inplace = True)\n",
    "len(df)"
   ]
  },
  {
   "cell_type": "markdown",
   "metadata": {},
   "source": [
    "Теперь посмотрим на пропуски в столбце year_of_release, оценим точно количество и долю пропусков:"
   ]
  },
  {
   "cell_type": "code",
   "execution_count": 19,
   "metadata": {},
   "outputs": [
    {
     "data": {
      "text/plain": [
       "(269, 0.01609429221012325)"
      ]
     },
     "execution_count": 19,
     "metadata": {},
     "output_type": "execute_result"
    }
   ],
   "source": [
    "(len(df[df.year_of_release.isnull()]),\n",
    "len(df[df.year_of_release.isnull()]) / len(df))"
   ]
  },
  {
   "cell_type": "markdown",
   "metadata": {},
   "source": [
    "269 пропусков или 1,6% от количества игр в таблице.\n",
    "\n",
    "Посмотрим на несколько игр, в которых пропущен год выпуска:"
   ]
  },
  {
   "cell_type": "code",
   "execution_count": 20,
   "metadata": {},
   "outputs": [
    {
     "data": {
      "text/html": [
       "<div>\n",
       "<style scoped>\n",
       "    .dataframe tbody tr th:only-of-type {\n",
       "        vertical-align: middle;\n",
       "    }\n",
       "\n",
       "    .dataframe tbody tr th {\n",
       "        vertical-align: top;\n",
       "    }\n",
       "\n",
       "    .dataframe thead th {\n",
       "        text-align: right;\n",
       "    }\n",
       "</style>\n",
       "<table border=\"1\" class=\"dataframe\">\n",
       "  <thead>\n",
       "    <tr style=\"text-align: right;\">\n",
       "      <th></th>\n",
       "      <th>name</th>\n",
       "      <th>platform</th>\n",
       "      <th>year_of_release</th>\n",
       "      <th>genre</th>\n",
       "      <th>na_sales</th>\n",
       "      <th>eu_sales</th>\n",
       "      <th>jp_sales</th>\n",
       "      <th>other_sales</th>\n",
       "      <th>critic_score</th>\n",
       "      <th>user_score</th>\n",
       "      <th>rating</th>\n",
       "      <th>total_sales</th>\n",
       "    </tr>\n",
       "  </thead>\n",
       "  <tbody>\n",
       "    <tr>\n",
       "      <th>183</th>\n",
       "      <td>madden nfl 2004</td>\n",
       "      <td>PS2</td>\n",
       "      <td>NaN</td>\n",
       "      <td>Sports</td>\n",
       "      <td>4.26</td>\n",
       "      <td>0.26</td>\n",
       "      <td>0.01</td>\n",
       "      <td>0.71</td>\n",
       "      <td>94.0</td>\n",
       "      <td>8.5</td>\n",
       "      <td>E</td>\n",
       "      <td>5.24</td>\n",
       "    </tr>\n",
       "    <tr>\n",
       "      <th>377</th>\n",
       "      <td>fifa soccer 2004</td>\n",
       "      <td>PS2</td>\n",
       "      <td>NaN</td>\n",
       "      <td>Sports</td>\n",
       "      <td>0.59</td>\n",
       "      <td>2.36</td>\n",
       "      <td>0.04</td>\n",
       "      <td>0.51</td>\n",
       "      <td>84.0</td>\n",
       "      <td>6.4</td>\n",
       "      <td>E</td>\n",
       "      <td>3.50</td>\n",
       "    </tr>\n",
       "    <tr>\n",
       "      <th>456</th>\n",
       "      <td>lego batman: the videogame</td>\n",
       "      <td>Wii</td>\n",
       "      <td>NaN</td>\n",
       "      <td>Action</td>\n",
       "      <td>1.80</td>\n",
       "      <td>0.97</td>\n",
       "      <td>0.00</td>\n",
       "      <td>0.29</td>\n",
       "      <td>74.0</td>\n",
       "      <td>7.9</td>\n",
       "      <td>E10+</td>\n",
       "      <td>3.06</td>\n",
       "    </tr>\n",
       "    <tr>\n",
       "      <th>475</th>\n",
       "      <td>wwe smackdown vs. raw 2006</td>\n",
       "      <td>PS2</td>\n",
       "      <td>NaN</td>\n",
       "      <td>Fighting</td>\n",
       "      <td>1.57</td>\n",
       "      <td>1.02</td>\n",
       "      <td>0.00</td>\n",
       "      <td>0.41</td>\n",
       "      <td>NaN</td>\n",
       "      <td>NaN</td>\n",
       "      <td>NaN</td>\n",
       "      <td>3.00</td>\n",
       "    </tr>\n",
       "    <tr>\n",
       "      <th>609</th>\n",
       "      <td>space invaders</td>\n",
       "      <td>2600</td>\n",
       "      <td>NaN</td>\n",
       "      <td>Shooter</td>\n",
       "      <td>2.36</td>\n",
       "      <td>0.14</td>\n",
       "      <td>0.00</td>\n",
       "      <td>0.03</td>\n",
       "      <td>NaN</td>\n",
       "      <td>NaN</td>\n",
       "      <td>NaN</td>\n",
       "      <td>2.53</td>\n",
       "    </tr>\n",
       "  </tbody>\n",
       "</table>\n",
       "</div>"
      ],
      "text/plain": [
       "                           name platform  year_of_release     genre  na_sales  \\\n",
       "183             madden nfl 2004      PS2              NaN    Sports      4.26   \n",
       "377            fifa soccer 2004      PS2              NaN    Sports      0.59   \n",
       "456  lego batman: the videogame      Wii              NaN    Action      1.80   \n",
       "475  wwe smackdown vs. raw 2006      PS2              NaN  Fighting      1.57   \n",
       "609              space invaders     2600              NaN   Shooter      2.36   \n",
       "\n",
       "     eu_sales  jp_sales  other_sales  critic_score user_score rating  \\\n",
       "183      0.26      0.01         0.71          94.0        8.5      E   \n",
       "377      2.36      0.04         0.51          84.0        6.4      E   \n",
       "456      0.97      0.00         0.29          74.0        7.9   E10+   \n",
       "475      1.02      0.00         0.41           NaN        NaN    NaN   \n",
       "609      0.14      0.00         0.03           NaN        NaN    NaN   \n",
       "\n",
       "     total_sales  \n",
       "183         5.24  \n",
       "377         3.50  \n",
       "456         3.06  \n",
       "475         3.00  \n",
       "609         2.53  "
      ]
     },
     "execution_count": 20,
     "metadata": {},
     "output_type": "execute_result"
    }
   ],
   "source": [
    "df.query('year_of_release.isnull()').head()"
   ]
  },
  {
   "cell_type": "markdown",
   "metadata": {},
   "source": [
    "Можно заметить, что у некоторых игр в названии указан год. Релиз таких игр происходит всегда годом ранее, например, fifa soccer 2004 вышла в 2003 году. Напишем функцию, которая будет искать год в названии игры и добавлять его в столбец year_of_release, если там пропуск."
   ]
  },
  {
   "cell_type": "code",
   "execution_count": 21,
   "metadata": {},
   "outputs": [],
   "source": [
    "def foo(row):\n",
    "    years_85_99 = [str(i) for i in range(85, 100)]\n",
    "    years_2000_2016 = [str(i) for i in range(2000, 2017)]\n",
    "    years = years_85_99 + years_2000_2016\n",
    "    if row.isnull().year_of_release:\n",
    "        for year in years_85_99:\n",
    "            if year in row['name']:\n",
    "                return int('19' + year) - 1\n",
    "        for year in years_2000_2016:\n",
    "            if year in row['name']:\n",
    "                return int(year) - 1\n",
    "        return row['year_of_release']\n",
    "    return row['year_of_release']"
   ]
  },
  {
   "cell_type": "markdown",
   "metadata": {},
   "source": [
    "Найдём годы в названии игр и добавим их в столбец year_of_release. Посмотрим как сработает функция на нескольких примерах:"
   ]
  },
  {
   "cell_type": "code",
   "execution_count": 22,
   "metadata": {},
   "outputs": [
    {
     "name": "stdout",
     "output_type": "stream",
     "text": [
      "До применения функции:\n"
     ]
    },
    {
     "data": {
      "text/html": [
       "<div>\n",
       "<style scoped>\n",
       "    .dataframe tbody tr th:only-of-type {\n",
       "        vertical-align: middle;\n",
       "    }\n",
       "\n",
       "    .dataframe tbody tr th {\n",
       "        vertical-align: top;\n",
       "    }\n",
       "\n",
       "    .dataframe thead th {\n",
       "        text-align: right;\n",
       "    }\n",
       "</style>\n",
       "<table border=\"1\" class=\"dataframe\">\n",
       "  <thead>\n",
       "    <tr style=\"text-align: right;\">\n",
       "      <th></th>\n",
       "      <th>name</th>\n",
       "      <th>year_of_release</th>\n",
       "    </tr>\n",
       "  </thead>\n",
       "  <tbody>\n",
       "    <tr>\n",
       "      <th>183</th>\n",
       "      <td>madden nfl 2004</td>\n",
       "      <td>NaN</td>\n",
       "    </tr>\n",
       "    <tr>\n",
       "      <th>377</th>\n",
       "      <td>fifa soccer 2004</td>\n",
       "      <td>NaN</td>\n",
       "    </tr>\n",
       "    <tr>\n",
       "      <th>1301</th>\n",
       "      <td>triple play 99</td>\n",
       "      <td>NaN</td>\n",
       "    </tr>\n",
       "  </tbody>\n",
       "</table>\n",
       "</div>"
      ],
      "text/plain": [
       "                  name  year_of_release\n",
       "183    madden nfl 2004              NaN\n",
       "377   fifa soccer 2004              NaN\n",
       "1301    triple play 99              NaN"
      ]
     },
     "metadata": {},
     "output_type": "display_data"
    },
    {
     "name": "stdout",
     "output_type": "stream",
     "text": [
      "\n",
      "После применения функции:\n"
     ]
    },
    {
     "data": {
      "text/html": [
       "<div>\n",
       "<style scoped>\n",
       "    .dataframe tbody tr th:only-of-type {\n",
       "        vertical-align: middle;\n",
       "    }\n",
       "\n",
       "    .dataframe tbody tr th {\n",
       "        vertical-align: top;\n",
       "    }\n",
       "\n",
       "    .dataframe thead th {\n",
       "        text-align: right;\n",
       "    }\n",
       "</style>\n",
       "<table border=\"1\" class=\"dataframe\">\n",
       "  <thead>\n",
       "    <tr style=\"text-align: right;\">\n",
       "      <th></th>\n",
       "      <th>name</th>\n",
       "      <th>year_of_release</th>\n",
       "    </tr>\n",
       "  </thead>\n",
       "  <tbody>\n",
       "    <tr>\n",
       "      <th>183</th>\n",
       "      <td>madden nfl 2004</td>\n",
       "      <td>2003.0</td>\n",
       "    </tr>\n",
       "    <tr>\n",
       "      <th>377</th>\n",
       "      <td>fifa soccer 2004</td>\n",
       "      <td>2003.0</td>\n",
       "    </tr>\n",
       "    <tr>\n",
       "      <th>1301</th>\n",
       "      <td>triple play 99</td>\n",
       "      <td>1998.0</td>\n",
       "    </tr>\n",
       "  </tbody>\n",
       "</table>\n",
       "</div>"
      ],
      "text/plain": [
       "                  name  year_of_release\n",
       "183    madden nfl 2004           2003.0\n",
       "377   fifa soccer 2004           2003.0\n",
       "1301    triple play 99           1998.0"
      ]
     },
     "metadata": {},
     "output_type": "display_data"
    }
   ],
   "source": [
    "print('До применения функции:')\n",
    "display(df.loc[[183, 377, 1301], ['name','year_of_release']])\n",
    "df['year_of_release'] = df.apply(foo, axis=1) \n",
    "print()\n",
    "print('После применения функции:')\n",
    "display(df.loc[[183, 377, 1301], ['name','year_of_release']])"
   ]
  },
  {
   "cell_type": "markdown",
   "metadata": {},
   "source": [
    "Функция сработала, посмотрим, сколько теперь осталось пропусков в столбце year_of_release:"
   ]
  },
  {
   "cell_type": "code",
   "execution_count": 23,
   "metadata": {},
   "outputs": [
    {
     "data": {
      "text/plain": [
       "(250, 0.014957520641378485)"
      ]
     },
     "execution_count": 23,
     "metadata": {},
     "output_type": "execute_result"
    }
   ],
   "source": [
    "(len(df[df.year_of_release.isnull()]),\n",
    "len(df[df.year_of_release.isnull()]) / len(df))"
   ]
  },
  {
   "cell_type": "markdown",
   "metadata": {},
   "source": [
    "Было 269 пропусков, а стало 250. Данные в 19 игр восстановили."
   ]
  },
  {
   "cell_type": "markdown",
   "metadata": {},
   "source": [
    "Для остальных игр, к сожалению, нет возможности восстановить данные о годах выпуска, кроме ручного поиска в интернете и подставления в таблицу. Но это слишком долго, а пропусков у нас осталось только 1,5%. Удалим такие строки."
   ]
  },
  {
   "cell_type": "markdown",
   "metadata": {},
   "source": [
    "Составим список всех игр, которые встречаются несколько раз в таблице, и посчитаем, сколько игр в этом списке:"
   ]
  },
  {
   "cell_type": "code",
   "execution_count": 24,
   "metadata": {},
   "outputs": [
    {
     "data": {
      "text/plain": [
       "2806"
      ]
     },
     "execution_count": 24,
     "metadata": {},
     "output_type": "execute_result"
    }
   ],
   "source": [
    "list_of_dupl = df[(df.name.duplicated())].name.unique()\n",
    "len(list_of_dupl)"
   ]
  },
  {
   "cell_type": "markdown",
   "metadata": {},
   "source": [
    "2806 игр встречается в таблице более одного раза. \n",
    "\n",
    "Теперь составим словарь, в который будем складывать названия игр, для которых в одной из строк пропущен год выпуска, а в другой одной из строк есть значение года, и значение этого года:"
   ]
  },
  {
   "cell_type": "code",
   "execution_count": 25,
   "metadata": {},
   "outputs": [],
   "source": [
    "names_and_years = {}\n",
    "for name in list_of_dupl: # для каждой игры из тех, что встречаются в таблице больше 1 раза:\n",
    "    if (len(df[(df.name == name) & (df.year_of_release.isnull())]) > 0 and # проверяем, что для игры есть пропуск в годе\n",
    "        len(df[(df.name == name) & (df.year_of_release.notnull())]) > 0): # проверяем, что для игры есть значение в годе\n",
    "        # складываем в словарь название игры с пропуском в годе и значение года\n",
    "        names_and_years[name] = df[(df.name == name) & (df.year_of_release.notnull())].year_of_release.iloc[0]"
   ]
  },
  {
   "cell_type": "markdown",
   "metadata": {},
   "source": [
    "Проверим, что удалось собрать словарь:"
   ]
  },
  {
   "cell_type": "code",
   "execution_count": 26,
   "metadata": {},
   "outputs": [
    {
     "data": {
      "text/plain": [
       "{'call of duty: black ops': 2010.0,\n",
       " 'lego batman: the videogame': 2008.0,\n",
       " 'street fighter iv': 2009.0,\n",
       " 'madden nfl 11': 2010.0,\n",
       " 'lego indiana jones: the original adventures': 2008.0,\n",
       " 'call of duty 3': 2006.0,\n",
       " 'madden nfl 06': 2005.0,\n",
       " 'namco museum': 2001.0,\n",
       " 'madden nfl 07': 2006.0,\n",
       " 'bioshock 2': 2010.0,\n",
       " 'hitman 2: silent assassin': 2002.0,\n",
       " 'mario tennis': 2000.0,\n",
       " 'sonic the hedgehog': 1991.0,\n",
       " 'rocksmith': 2011.0,\n",
       " 'wheel of fortune': 1998.0,\n",
       " 'lego harry potter: years 5-7': 2012.0,\n",
       " 'dead space 3': 2013.0,\n",
       " 'rhythm heaven': 2008.0,\n",
       " 'grid': 2008.0,\n",
       " 'the lord of the rings: war in the north': 2011.0,\n",
       " 'nba street vol. 2': 2003.0,\n",
       " 'shaun white snowboarding': 2008.0,\n",
       " 'dead island: riptide': 2013.0,\n",
       " 'the golden compass': 2007.0,\n",
       " 'def jam: fight for ny': 2004.0,\n",
       " 'metal gear solid 2: substance': 2002.0,\n",
       " 'gun': 2005.0,\n",
       " 'tiger woods pga tour 07': 2006.0,\n",
       " 'wet': 2009.0,\n",
       " 'shrek the third': 2007.0,\n",
       " 'space invaders': 1994.0,\n",
       " 'the chronicles of narnia: the lion, the witch and the wardrobe': 2005.0,\n",
       " 'major league baseball 2k6': 2006.0,\n",
       " 'custom robo': 2004.0,\n",
       " 'major league baseball 2k8': 2008.0,\n",
       " 'harvest moon: the tale of two towns': 2010.0,\n",
       " 'nicktoons: battle for volcano island': 2006.0,\n",
       " 'street hoops': 2002.0,\n",
       " 'pac-man fever': 2001.0,\n",
       " 'rock revolution': 2008.0,\n",
       " 'tropico 4': 2011.0,\n",
       " 'teen titans': 2006.0,\n",
       " 'jonah lomu rugby challenge': 2011.0,\n",
       " 'singularity': 2010.0,\n",
       " 'danganronpa: trigger happy havoc': 2013.0,\n",
       " 'star wars jedi knight ii: jedi outcast': 2002.0,\n",
       " \"tony hawk's downhill jam\": 2006.0,\n",
       " 'robotech: battlecry': 2002.0,\n",
       " 'mlb slugfest 20-03': 2002.0,\n",
       " 'final fantasy xi': 2006.0,\n",
       " 'captain america: super soldier': 2011.0,\n",
       " 'splatterhouse': 2010.0,\n",
       " 'bejeweled 3': 2010.0,\n",
       " 'wcw backstage assault': 1999.0,\n",
       " 'rayman arena': 2001.0,\n",
       " 'transworld surf': 2002.0,\n",
       " 'mega man x collection': 2006.0,\n",
       " 'wrc: fia world rally championship': 2005.0,\n",
       " 'godzilla: destroy all monsters melee': 2002.0,\n",
       " 'college hoops 2k6': 2006.0,\n",
       " 'star trek: conquest': 2007.0,\n",
       " 'happy feet two': 2011.0,\n",
       " 'record of agarest war zero': 2010.0,\n",
       " 'nascar: dirt to daytona': 2002.0,\n",
       " 'samurai shodown anthology': 2008.0,\n",
       " 'get fit with mel b': 2010.0,\n",
       " \"james cameron's dark angel\": 2002.0,\n",
       " 'tom and jerry in war of the whiskers': 2002.0,\n",
       " 'national geographic challenge!': 2011.0,\n",
       " 'nhl hitz pro': 2003.0,\n",
       " \"disney's chicken little: ace in action\": 2006.0,\n",
       " 'inversion': 2012.0,\n",
       " 'monster hunter frontier online': 2010.0,\n",
       " 'rollercoaster tycoon': 2003.0,\n",
       " 'the history channel: great battles - medieval': 2010.0,\n",
       " 'smashing drive': 2002.0,\n",
       " 'freaky flyers': 2003.0,\n",
       " 'world of tanks': 2011.0,\n",
       " 'battle vs. chess': 2011.0,\n",
       " 'nba starting five': 2002.0,\n",
       " 'runaway: a twist of fate': 2009.0,\n",
       " \"cabela's alaskan adventure\": 2006.0,\n",
       " 'without warning': 2005.0,\n",
       " 'majesty 2: the fantasy kingdom sim': 2009.0,\n",
       " 'star trek: legacy': 2006.0,\n",
       " \"dance! it's your stage\": 2011.0,\n",
       " 'akb1/48: idol to guam de koishitara...': 2011.0,\n",
       " 'brothers in arms: furious 4': 2012.0,\n",
       " 'aquaman: battle for atlantis': 2003.0,\n",
       " 'dinotopia: the sunstone odyssey': 2003.0,\n",
       " \"luxor: pharaoh's challenge\": 2007.0}"
      ]
     },
     "execution_count": 26,
     "metadata": {},
     "output_type": "execute_result"
    }
   ],
   "source": [
    "names_and_years"
   ]
  },
  {
   "cell_type": "markdown",
   "metadata": {},
   "source": [
    "Проверим на примере пары игр из составленного словаря, что в таблице есть как строки с пропущенным годом, так и с заполненным:"
   ]
  },
  {
   "cell_type": "code",
   "execution_count": 27,
   "metadata": {},
   "outputs": [
    {
     "data": {
      "text/html": [
       "<div>\n",
       "<style scoped>\n",
       "    .dataframe tbody tr th:only-of-type {\n",
       "        vertical-align: middle;\n",
       "    }\n",
       "\n",
       "    .dataframe tbody tr th {\n",
       "        vertical-align: top;\n",
       "    }\n",
       "\n",
       "    .dataframe thead th {\n",
       "        text-align: right;\n",
       "    }\n",
       "</style>\n",
       "<table border=\"1\" class=\"dataframe\">\n",
       "  <thead>\n",
       "    <tr style=\"text-align: right;\">\n",
       "      <th></th>\n",
       "      <th>name</th>\n",
       "      <th>platform</th>\n",
       "      <th>year_of_release</th>\n",
       "      <th>genre</th>\n",
       "      <th>na_sales</th>\n",
       "      <th>eu_sales</th>\n",
       "      <th>jp_sales</th>\n",
       "      <th>other_sales</th>\n",
       "      <th>critic_score</th>\n",
       "      <th>user_score</th>\n",
       "      <th>rating</th>\n",
       "      <th>total_sales</th>\n",
       "    </tr>\n",
       "  </thead>\n",
       "  <tbody>\n",
       "    <tr>\n",
       "      <th>32</th>\n",
       "      <td>call of duty: black ops</td>\n",
       "      <td>X360</td>\n",
       "      <td>2010.0</td>\n",
       "      <td>Shooter</td>\n",
       "      <td>9.70</td>\n",
       "      <td>3.68</td>\n",
       "      <td>0.11</td>\n",
       "      <td>1.13</td>\n",
       "      <td>87.0</td>\n",
       "      <td>6.3</td>\n",
       "      <td>M</td>\n",
       "      <td>14.62</td>\n",
       "    </tr>\n",
       "    <tr>\n",
       "      <th>41</th>\n",
       "      <td>call of duty: black ops</td>\n",
       "      <td>PS3</td>\n",
       "      <td>2010.0</td>\n",
       "      <td>Shooter</td>\n",
       "      <td>5.99</td>\n",
       "      <td>4.37</td>\n",
       "      <td>0.48</td>\n",
       "      <td>1.79</td>\n",
       "      <td>88.0</td>\n",
       "      <td>6.4</td>\n",
       "      <td>M</td>\n",
       "      <td>12.63</td>\n",
       "    </tr>\n",
       "    <tr>\n",
       "      <th>1131</th>\n",
       "      <td>call of duty: black ops</td>\n",
       "      <td>PC</td>\n",
       "      <td>NaN</td>\n",
       "      <td>Shooter</td>\n",
       "      <td>0.58</td>\n",
       "      <td>0.81</td>\n",
       "      <td>0.00</td>\n",
       "      <td>0.23</td>\n",
       "      <td>81.0</td>\n",
       "      <td>5.2</td>\n",
       "      <td>M</td>\n",
       "      <td>1.62</td>\n",
       "    </tr>\n",
       "    <tr>\n",
       "      <th>1412</th>\n",
       "      <td>call of duty: black ops</td>\n",
       "      <td>Wii</td>\n",
       "      <td>2010.0</td>\n",
       "      <td>Shooter</td>\n",
       "      <td>0.80</td>\n",
       "      <td>0.45</td>\n",
       "      <td>0.00</td>\n",
       "      <td>0.12</td>\n",
       "      <td>80.0</td>\n",
       "      <td>5.8</td>\n",
       "      <td>M</td>\n",
       "      <td>1.37</td>\n",
       "    </tr>\n",
       "    <tr>\n",
       "      <th>3439</th>\n",
       "      <td>call of duty: black ops</td>\n",
       "      <td>DS</td>\n",
       "      <td>2010.0</td>\n",
       "      <td>Shooter</td>\n",
       "      <td>0.50</td>\n",
       "      <td>0.04</td>\n",
       "      <td>0.00</td>\n",
       "      <td>0.04</td>\n",
       "      <td>74.0</td>\n",
       "      <td>6</td>\n",
       "      <td>T</td>\n",
       "      <td>0.58</td>\n",
       "    </tr>\n",
       "  </tbody>\n",
       "</table>\n",
       "</div>"
      ],
      "text/plain": [
       "                         name platform  year_of_release    genre  na_sales  \\\n",
       "32    call of duty: black ops     X360           2010.0  Shooter      9.70   \n",
       "41    call of duty: black ops      PS3           2010.0  Shooter      5.99   \n",
       "1131  call of duty: black ops       PC              NaN  Shooter      0.58   \n",
       "1412  call of duty: black ops      Wii           2010.0  Shooter      0.80   \n",
       "3439  call of duty: black ops       DS           2010.0  Shooter      0.50   \n",
       "\n",
       "      eu_sales  jp_sales  other_sales  critic_score user_score rating  \\\n",
       "32        3.68      0.11         1.13          87.0        6.3      M   \n",
       "41        4.37      0.48         1.79          88.0        6.4      M   \n",
       "1131      0.81      0.00         0.23          81.0        5.2      M   \n",
       "1412      0.45      0.00         0.12          80.0        5.8      M   \n",
       "3439      0.04      0.00         0.04          74.0          6      T   \n",
       "\n",
       "      total_sales  \n",
       "32          14.62  \n",
       "41          12.63  \n",
       "1131         1.62  \n",
       "1412         1.37  \n",
       "3439         0.58  "
      ]
     },
     "execution_count": 27,
     "metadata": {},
     "output_type": "execute_result"
    }
   ],
   "source": [
    "df[df.name == 'call of duty: black ops']"
   ]
  },
  {
   "cell_type": "code",
   "execution_count": 28,
   "metadata": {},
   "outputs": [
    {
     "data": {
      "text/html": [
       "<div>\n",
       "<style scoped>\n",
       "    .dataframe tbody tr th:only-of-type {\n",
       "        vertical-align: middle;\n",
       "    }\n",
       "\n",
       "    .dataframe tbody tr th {\n",
       "        vertical-align: top;\n",
       "    }\n",
       "\n",
       "    .dataframe thead th {\n",
       "        text-align: right;\n",
       "    }\n",
       "</style>\n",
       "<table border=\"1\" class=\"dataframe\">\n",
       "  <thead>\n",
       "    <tr style=\"text-align: right;\">\n",
       "      <th></th>\n",
       "      <th>name</th>\n",
       "      <th>platform</th>\n",
       "      <th>year_of_release</th>\n",
       "      <th>genre</th>\n",
       "      <th>na_sales</th>\n",
       "      <th>eu_sales</th>\n",
       "      <th>jp_sales</th>\n",
       "      <th>other_sales</th>\n",
       "      <th>critic_score</th>\n",
       "      <th>user_score</th>\n",
       "      <th>rating</th>\n",
       "      <th>total_sales</th>\n",
       "    </tr>\n",
       "  </thead>\n",
       "  <tbody>\n",
       "    <tr>\n",
       "      <th>397</th>\n",
       "      <td>lego batman: the videogame</td>\n",
       "      <td>X360</td>\n",
       "      <td>2008.0</td>\n",
       "      <td>Action</td>\n",
       "      <td>2.04</td>\n",
       "      <td>1.02</td>\n",
       "      <td>0.0</td>\n",
       "      <td>0.32</td>\n",
       "      <td>76.0</td>\n",
       "      <td>7.9</td>\n",
       "      <td>E10+</td>\n",
       "      <td>3.38</td>\n",
       "    </tr>\n",
       "    <tr>\n",
       "      <th>456</th>\n",
       "      <td>lego batman: the videogame</td>\n",
       "      <td>Wii</td>\n",
       "      <td>NaN</td>\n",
       "      <td>Action</td>\n",
       "      <td>1.80</td>\n",
       "      <td>0.97</td>\n",
       "      <td>0.0</td>\n",
       "      <td>0.29</td>\n",
       "      <td>74.0</td>\n",
       "      <td>7.9</td>\n",
       "      <td>E10+</td>\n",
       "      <td>3.06</td>\n",
       "    </tr>\n",
       "    <tr>\n",
       "      <th>460</th>\n",
       "      <td>lego batman: the videogame</td>\n",
       "      <td>DS</td>\n",
       "      <td>2008.0</td>\n",
       "      <td>Action</td>\n",
       "      <td>1.75</td>\n",
       "      <td>1.01</td>\n",
       "      <td>0.0</td>\n",
       "      <td>0.29</td>\n",
       "      <td>72.0</td>\n",
       "      <td>8</td>\n",
       "      <td>E10+</td>\n",
       "      <td>3.05</td>\n",
       "    </tr>\n",
       "    <tr>\n",
       "      <th>1519</th>\n",
       "      <td>lego batman: the videogame</td>\n",
       "      <td>PS3</td>\n",
       "      <td>2008.0</td>\n",
       "      <td>Action</td>\n",
       "      <td>0.72</td>\n",
       "      <td>0.39</td>\n",
       "      <td>0.0</td>\n",
       "      <td>0.19</td>\n",
       "      <td>75.0</td>\n",
       "      <td>7.7</td>\n",
       "      <td>E10+</td>\n",
       "      <td>1.30</td>\n",
       "    </tr>\n",
       "    <tr>\n",
       "      <th>1538</th>\n",
       "      <td>lego batman: the videogame</td>\n",
       "      <td>PSP</td>\n",
       "      <td>NaN</td>\n",
       "      <td>Action</td>\n",
       "      <td>0.57</td>\n",
       "      <td>0.44</td>\n",
       "      <td>0.0</td>\n",
       "      <td>0.27</td>\n",
       "      <td>73.0</td>\n",
       "      <td>7.4</td>\n",
       "      <td>E10+</td>\n",
       "      <td>1.28</td>\n",
       "    </tr>\n",
       "    <tr>\n",
       "      <th>1553</th>\n",
       "      <td>lego batman: the videogame</td>\n",
       "      <td>PS2</td>\n",
       "      <td>2008.0</td>\n",
       "      <td>Action</td>\n",
       "      <td>0.72</td>\n",
       "      <td>0.03</td>\n",
       "      <td>0.0</td>\n",
       "      <td>0.52</td>\n",
       "      <td>77.0</td>\n",
       "      <td>8.9</td>\n",
       "      <td>E10+</td>\n",
       "      <td>1.27</td>\n",
       "    </tr>\n",
       "    <tr>\n",
       "      <th>12465</th>\n",
       "      <td>lego batman: the videogame</td>\n",
       "      <td>PC</td>\n",
       "      <td>2008.0</td>\n",
       "      <td>Action</td>\n",
       "      <td>0.02</td>\n",
       "      <td>0.03</td>\n",
       "      <td>0.0</td>\n",
       "      <td>0.01</td>\n",
       "      <td>80.0</td>\n",
       "      <td>7.8</td>\n",
       "      <td>E10+</td>\n",
       "      <td>0.06</td>\n",
       "    </tr>\n",
       "  </tbody>\n",
       "</table>\n",
       "</div>"
      ],
      "text/plain": [
       "                             name platform  year_of_release   genre  na_sales  \\\n",
       "397    lego batman: the videogame     X360           2008.0  Action      2.04   \n",
       "456    lego batman: the videogame      Wii              NaN  Action      1.80   \n",
       "460    lego batman: the videogame       DS           2008.0  Action      1.75   \n",
       "1519   lego batman: the videogame      PS3           2008.0  Action      0.72   \n",
       "1538   lego batman: the videogame      PSP              NaN  Action      0.57   \n",
       "1553   lego batman: the videogame      PS2           2008.0  Action      0.72   \n",
       "12465  lego batman: the videogame       PC           2008.0  Action      0.02   \n",
       "\n",
       "       eu_sales  jp_sales  other_sales  critic_score user_score rating  \\\n",
       "397        1.02       0.0         0.32          76.0        7.9   E10+   \n",
       "456        0.97       0.0         0.29          74.0        7.9   E10+   \n",
       "460        1.01       0.0         0.29          72.0          8   E10+   \n",
       "1519       0.39       0.0         0.19          75.0        7.7   E10+   \n",
       "1538       0.44       0.0         0.27          73.0        7.4   E10+   \n",
       "1553       0.03       0.0         0.52          77.0        8.9   E10+   \n",
       "12465      0.03       0.0         0.01          80.0        7.8   E10+   \n",
       "\n",
       "       total_sales  \n",
       "397           3.38  \n",
       "456           3.06  \n",
       "460           3.05  \n",
       "1519          1.30  \n",
       "1538          1.28  \n",
       "1553          1.27  \n",
       "12465         0.06  "
      ]
     },
     "execution_count": 28,
     "metadata": {},
     "output_type": "execute_result"
    }
   ],
   "source": [
    "df[df.name == 'lego batman: the videogame']"
   ]
  },
  {
   "cell_type": "markdown",
   "metadata": {},
   "source": [
    "Игры соответствует нашему требованию: есть и пропуски, и значения."
   ]
  },
  {
   "cell_type": "markdown",
   "metadata": {},
   "source": [
    "Теперь напишем функцию, которая будет для строк, где название игры есть в словаре, а год выпуска пропущен, возвращать год выпуска:"
   ]
  },
  {
   "cell_type": "code",
   "execution_count": 29,
   "metadata": {},
   "outputs": [],
   "source": [
    "def year_restore(row):\n",
    "    if (not row['year_of_release'] > 0 # проверяем, что значение пропущено (если nan, то not False = True) \n",
    "        and (row['name'] in names_and_years)): # проверяем, что игра есть в словаре\n",
    "        return names_and_years[row['name']]\n",
    "    return row['year_of_release']"
   ]
  },
  {
   "cell_type": "markdown",
   "metadata": {},
   "source": [
    "Применим эту функцию к таблице:"
   ]
  },
  {
   "cell_type": "code",
   "execution_count": 30,
   "metadata": {},
   "outputs": [],
   "source": [
    "df.year_of_release = df.apply(year_restore, axis=1)"
   ]
  },
  {
   "cell_type": "markdown",
   "metadata": {},
   "source": [
    "Теперь проверим на примере тех же двух игр, что функция отработала так, как мы хотели. "
   ]
  },
  {
   "cell_type": "code",
   "execution_count": 31,
   "metadata": {},
   "outputs": [
    {
     "data": {
      "text/html": [
       "<div>\n",
       "<style scoped>\n",
       "    .dataframe tbody tr th:only-of-type {\n",
       "        vertical-align: middle;\n",
       "    }\n",
       "\n",
       "    .dataframe tbody tr th {\n",
       "        vertical-align: top;\n",
       "    }\n",
       "\n",
       "    .dataframe thead th {\n",
       "        text-align: right;\n",
       "    }\n",
       "</style>\n",
       "<table border=\"1\" class=\"dataframe\">\n",
       "  <thead>\n",
       "    <tr style=\"text-align: right;\">\n",
       "      <th></th>\n",
       "      <th>name</th>\n",
       "      <th>platform</th>\n",
       "      <th>year_of_release</th>\n",
       "      <th>genre</th>\n",
       "      <th>na_sales</th>\n",
       "      <th>eu_sales</th>\n",
       "      <th>jp_sales</th>\n",
       "      <th>other_sales</th>\n",
       "      <th>critic_score</th>\n",
       "      <th>user_score</th>\n",
       "      <th>rating</th>\n",
       "      <th>total_sales</th>\n",
       "    </tr>\n",
       "  </thead>\n",
       "  <tbody>\n",
       "    <tr>\n",
       "      <th>32</th>\n",
       "      <td>call of duty: black ops</td>\n",
       "      <td>X360</td>\n",
       "      <td>2010.0</td>\n",
       "      <td>Shooter</td>\n",
       "      <td>9.70</td>\n",
       "      <td>3.68</td>\n",
       "      <td>0.11</td>\n",
       "      <td>1.13</td>\n",
       "      <td>87.0</td>\n",
       "      <td>6.3</td>\n",
       "      <td>M</td>\n",
       "      <td>14.62</td>\n",
       "    </tr>\n",
       "    <tr>\n",
       "      <th>41</th>\n",
       "      <td>call of duty: black ops</td>\n",
       "      <td>PS3</td>\n",
       "      <td>2010.0</td>\n",
       "      <td>Shooter</td>\n",
       "      <td>5.99</td>\n",
       "      <td>4.37</td>\n",
       "      <td>0.48</td>\n",
       "      <td>1.79</td>\n",
       "      <td>88.0</td>\n",
       "      <td>6.4</td>\n",
       "      <td>M</td>\n",
       "      <td>12.63</td>\n",
       "    </tr>\n",
       "    <tr>\n",
       "      <th>1131</th>\n",
       "      <td>call of duty: black ops</td>\n",
       "      <td>PC</td>\n",
       "      <td>2010.0</td>\n",
       "      <td>Shooter</td>\n",
       "      <td>0.58</td>\n",
       "      <td>0.81</td>\n",
       "      <td>0.00</td>\n",
       "      <td>0.23</td>\n",
       "      <td>81.0</td>\n",
       "      <td>5.2</td>\n",
       "      <td>M</td>\n",
       "      <td>1.62</td>\n",
       "    </tr>\n",
       "    <tr>\n",
       "      <th>1412</th>\n",
       "      <td>call of duty: black ops</td>\n",
       "      <td>Wii</td>\n",
       "      <td>2010.0</td>\n",
       "      <td>Shooter</td>\n",
       "      <td>0.80</td>\n",
       "      <td>0.45</td>\n",
       "      <td>0.00</td>\n",
       "      <td>0.12</td>\n",
       "      <td>80.0</td>\n",
       "      <td>5.8</td>\n",
       "      <td>M</td>\n",
       "      <td>1.37</td>\n",
       "    </tr>\n",
       "    <tr>\n",
       "      <th>3439</th>\n",
       "      <td>call of duty: black ops</td>\n",
       "      <td>DS</td>\n",
       "      <td>2010.0</td>\n",
       "      <td>Shooter</td>\n",
       "      <td>0.50</td>\n",
       "      <td>0.04</td>\n",
       "      <td>0.00</td>\n",
       "      <td>0.04</td>\n",
       "      <td>74.0</td>\n",
       "      <td>6</td>\n",
       "      <td>T</td>\n",
       "      <td>0.58</td>\n",
       "    </tr>\n",
       "  </tbody>\n",
       "</table>\n",
       "</div>"
      ],
      "text/plain": [
       "                         name platform  year_of_release    genre  na_sales  \\\n",
       "32    call of duty: black ops     X360           2010.0  Shooter      9.70   \n",
       "41    call of duty: black ops      PS3           2010.0  Shooter      5.99   \n",
       "1131  call of duty: black ops       PC           2010.0  Shooter      0.58   \n",
       "1412  call of duty: black ops      Wii           2010.0  Shooter      0.80   \n",
       "3439  call of duty: black ops       DS           2010.0  Shooter      0.50   \n",
       "\n",
       "      eu_sales  jp_sales  other_sales  critic_score user_score rating  \\\n",
       "32        3.68      0.11         1.13          87.0        6.3      M   \n",
       "41        4.37      0.48         1.79          88.0        6.4      M   \n",
       "1131      0.81      0.00         0.23          81.0        5.2      M   \n",
       "1412      0.45      0.00         0.12          80.0        5.8      M   \n",
       "3439      0.04      0.00         0.04          74.0          6      T   \n",
       "\n",
       "      total_sales  \n",
       "32          14.62  \n",
       "41          12.63  \n",
       "1131         1.62  \n",
       "1412         1.37  \n",
       "3439         0.58  "
      ]
     },
     "execution_count": 31,
     "metadata": {},
     "output_type": "execute_result"
    }
   ],
   "source": [
    "df[df.name == 'call of duty: black ops']"
   ]
  },
  {
   "cell_type": "code",
   "execution_count": 32,
   "metadata": {},
   "outputs": [
    {
     "data": {
      "text/html": [
       "<div>\n",
       "<style scoped>\n",
       "    .dataframe tbody tr th:only-of-type {\n",
       "        vertical-align: middle;\n",
       "    }\n",
       "\n",
       "    .dataframe tbody tr th {\n",
       "        vertical-align: top;\n",
       "    }\n",
       "\n",
       "    .dataframe thead th {\n",
       "        text-align: right;\n",
       "    }\n",
       "</style>\n",
       "<table border=\"1\" class=\"dataframe\">\n",
       "  <thead>\n",
       "    <tr style=\"text-align: right;\">\n",
       "      <th></th>\n",
       "      <th>name</th>\n",
       "      <th>platform</th>\n",
       "      <th>year_of_release</th>\n",
       "      <th>genre</th>\n",
       "      <th>na_sales</th>\n",
       "      <th>eu_sales</th>\n",
       "      <th>jp_sales</th>\n",
       "      <th>other_sales</th>\n",
       "      <th>critic_score</th>\n",
       "      <th>user_score</th>\n",
       "      <th>rating</th>\n",
       "      <th>total_sales</th>\n",
       "    </tr>\n",
       "  </thead>\n",
       "  <tbody>\n",
       "    <tr>\n",
       "      <th>397</th>\n",
       "      <td>lego batman: the videogame</td>\n",
       "      <td>X360</td>\n",
       "      <td>2008.0</td>\n",
       "      <td>Action</td>\n",
       "      <td>2.04</td>\n",
       "      <td>1.02</td>\n",
       "      <td>0.0</td>\n",
       "      <td>0.32</td>\n",
       "      <td>76.0</td>\n",
       "      <td>7.9</td>\n",
       "      <td>E10+</td>\n",
       "      <td>3.38</td>\n",
       "    </tr>\n",
       "    <tr>\n",
       "      <th>456</th>\n",
       "      <td>lego batman: the videogame</td>\n",
       "      <td>Wii</td>\n",
       "      <td>2008.0</td>\n",
       "      <td>Action</td>\n",
       "      <td>1.80</td>\n",
       "      <td>0.97</td>\n",
       "      <td>0.0</td>\n",
       "      <td>0.29</td>\n",
       "      <td>74.0</td>\n",
       "      <td>7.9</td>\n",
       "      <td>E10+</td>\n",
       "      <td>3.06</td>\n",
       "    </tr>\n",
       "    <tr>\n",
       "      <th>460</th>\n",
       "      <td>lego batman: the videogame</td>\n",
       "      <td>DS</td>\n",
       "      <td>2008.0</td>\n",
       "      <td>Action</td>\n",
       "      <td>1.75</td>\n",
       "      <td>1.01</td>\n",
       "      <td>0.0</td>\n",
       "      <td>0.29</td>\n",
       "      <td>72.0</td>\n",
       "      <td>8</td>\n",
       "      <td>E10+</td>\n",
       "      <td>3.05</td>\n",
       "    </tr>\n",
       "    <tr>\n",
       "      <th>1519</th>\n",
       "      <td>lego batman: the videogame</td>\n",
       "      <td>PS3</td>\n",
       "      <td>2008.0</td>\n",
       "      <td>Action</td>\n",
       "      <td>0.72</td>\n",
       "      <td>0.39</td>\n",
       "      <td>0.0</td>\n",
       "      <td>0.19</td>\n",
       "      <td>75.0</td>\n",
       "      <td>7.7</td>\n",
       "      <td>E10+</td>\n",
       "      <td>1.30</td>\n",
       "    </tr>\n",
       "    <tr>\n",
       "      <th>1538</th>\n",
       "      <td>lego batman: the videogame</td>\n",
       "      <td>PSP</td>\n",
       "      <td>2008.0</td>\n",
       "      <td>Action</td>\n",
       "      <td>0.57</td>\n",
       "      <td>0.44</td>\n",
       "      <td>0.0</td>\n",
       "      <td>0.27</td>\n",
       "      <td>73.0</td>\n",
       "      <td>7.4</td>\n",
       "      <td>E10+</td>\n",
       "      <td>1.28</td>\n",
       "    </tr>\n",
       "    <tr>\n",
       "      <th>1553</th>\n",
       "      <td>lego batman: the videogame</td>\n",
       "      <td>PS2</td>\n",
       "      <td>2008.0</td>\n",
       "      <td>Action</td>\n",
       "      <td>0.72</td>\n",
       "      <td>0.03</td>\n",
       "      <td>0.0</td>\n",
       "      <td>0.52</td>\n",
       "      <td>77.0</td>\n",
       "      <td>8.9</td>\n",
       "      <td>E10+</td>\n",
       "      <td>1.27</td>\n",
       "    </tr>\n",
       "    <tr>\n",
       "      <th>12465</th>\n",
       "      <td>lego batman: the videogame</td>\n",
       "      <td>PC</td>\n",
       "      <td>2008.0</td>\n",
       "      <td>Action</td>\n",
       "      <td>0.02</td>\n",
       "      <td>0.03</td>\n",
       "      <td>0.0</td>\n",
       "      <td>0.01</td>\n",
       "      <td>80.0</td>\n",
       "      <td>7.8</td>\n",
       "      <td>E10+</td>\n",
       "      <td>0.06</td>\n",
       "    </tr>\n",
       "  </tbody>\n",
       "</table>\n",
       "</div>"
      ],
      "text/plain": [
       "                             name platform  year_of_release   genre  na_sales  \\\n",
       "397    lego batman: the videogame     X360           2008.0  Action      2.04   \n",
       "456    lego batman: the videogame      Wii           2008.0  Action      1.80   \n",
       "460    lego batman: the videogame       DS           2008.0  Action      1.75   \n",
       "1519   lego batman: the videogame      PS3           2008.0  Action      0.72   \n",
       "1538   lego batman: the videogame      PSP           2008.0  Action      0.57   \n",
       "1553   lego batman: the videogame      PS2           2008.0  Action      0.72   \n",
       "12465  lego batman: the videogame       PC           2008.0  Action      0.02   \n",
       "\n",
       "       eu_sales  jp_sales  other_sales  critic_score user_score rating  \\\n",
       "397        1.02       0.0         0.32          76.0        7.9   E10+   \n",
       "456        0.97       0.0         0.29          74.0        7.9   E10+   \n",
       "460        1.01       0.0         0.29          72.0          8   E10+   \n",
       "1519       0.39       0.0         0.19          75.0        7.7   E10+   \n",
       "1538       0.44       0.0         0.27          73.0        7.4   E10+   \n",
       "1553       0.03       0.0         0.52          77.0        8.9   E10+   \n",
       "12465      0.03       0.0         0.01          80.0        7.8   E10+   \n",
       "\n",
       "       total_sales  \n",
       "397           3.38  \n",
       "456           3.06  \n",
       "460           3.05  \n",
       "1519          1.30  \n",
       "1538          1.28  \n",
       "1553          1.27  \n",
       "12465         0.06  "
      ]
     },
     "execution_count": 32,
     "metadata": {},
     "output_type": "execute_result"
    }
   ],
   "source": [
    "df[df.name == 'lego batman: the videogame']"
   ]
  },
  {
   "cell_type": "markdown",
   "metadata": {},
   "source": [
    "Пропуски заполнены. Посчитаем, сколько удалось восстановить данных таким образом:"
   ]
  },
  {
   "cell_type": "code",
   "execution_count": 33,
   "metadata": {},
   "outputs": [
    {
     "data": {
      "text/plain": [
       "(137, 0.00819672131147541)"
      ]
     },
     "execution_count": 33,
     "metadata": {},
     "output_type": "execute_result"
    }
   ],
   "source": [
    "(len(df[df.year_of_release.isnull()]),\n",
    "len(df[df.year_of_release.isnull()]) / len(df))"
   ]
  },
  {
   "cell_type": "markdown",
   "metadata": {},
   "source": [
    "Было 250 пропусков, а стало 137. Восстановлены данные для 113 пропусков."
   ]
  },
  {
   "cell_type": "markdown",
   "metadata": {},
   "source": [
    "Удалим все оставшиеся строки с пропусками в столбце year_of_release:"
   ]
  },
  {
   "cell_type": "code",
   "execution_count": 34,
   "metadata": {},
   "outputs": [
    {
     "data": {
      "text/plain": [
       "(16577, 0)"
      ]
     },
     "execution_count": 34,
     "metadata": {},
     "output_type": "execute_result"
    }
   ],
   "source": [
    "df.dropna(subset = ['year_of_release'], inplace = True)\n",
    "len(df), len(df[df.year_of_release.isnull()])"
   ]
  },
  {
   "cell_type": "markdown",
   "metadata": {},
   "source": [
    "Количество строк в таблице теперь 16 577, пропусков в столбце year_of_release не осталось."
   ]
  },
  {
   "cell_type": "markdown",
   "metadata": {},
   "source": [
    "Остались пропуски в столбцах critic_score, user_score и rating. Можно выдвинуть гипотезу, что пропуски связаны с тем, что игры были недостаточно популярные, чтобы их включали в рейтинги. Если так, то пропуски будут значительно пересекаться в этих столбцах. Вычислим, сколько таких пересечений по всем трём столбцам:"
   ]
  },
  {
   "cell_type": "code",
   "execution_count": 35,
   "metadata": {},
   "outputs": [
    {
     "name": "stdout",
     "output_type": "stream",
     "text": [
      "Пропусков в столбце critic_score: 8497\n",
      "Пропусков в столбце user_score: 6638\n",
      "Пропусков в столбце rating: 6705\n",
      "Строк с пропусками хотя бы в одном столбце: 8608\n",
      "Строк с пропусками в трёх столбцах: 6560\n"
     ]
    }
   ],
   "source": [
    "print('Пропусков в столбце critic_score:', len(df[df.critic_score.isnull()]))\n",
    "print('Пропусков в столбце user_score:', len(df[df.user_score.isnull()]))\n",
    "print('Пропусков в столбце rating:', len(df[df.rating.isnull()]))\n",
    "print('Строк с пропусками хотя бы в одном столбце:', len(df[df.critic_score.isnull() | \n",
    "                                                            df.rating.isnull() | df.user_score.isnull()]))\n",
    "print('Строк с пропусками в трёх столбцах:', len(df[df.critic_score.isnull() & \n",
    "                                                       df.rating.isnull() & df.user_score.isnull()]))"
   ]
  },
  {
   "cell_type": "markdown",
   "metadata": {},
   "source": [
    "Много пересечений по столбцам. Если пропуски связаны с популярностью игр, то и продаж у игр без рейтингов будет в среднем меньше. Проверим, какое среднее количество продаж у игр без рейтингов и игр с рейтингами. "
   ]
  },
  {
   "cell_type": "code",
   "execution_count": 36,
   "metadata": {},
   "outputs": [
    {
     "name": "stdout",
     "output_type": "stream",
     "text": [
      "Среднее количество продаж для игр без рейтинга, млн:  0.42879268292682926\n",
      "Среднее количество продаж для игр с рейтингом, млн:  0.6969958589534446\n"
     ]
    }
   ],
   "source": [
    "print('Среднее количество продаж для игр без рейтинга, млн: ',\n",
    "df[df.critic_score.isnull() & df.rating.isnull() & df.user_score.isnull()].total_sales.mean())\n",
    "print('Среднее количество продаж для игр с рейтингом, млн: ',\n",
    "df[df.critic_score.notnull() & df.rating.notnull() & df.user_score.notnull()].total_sales.mean())"
   ]
  },
  {
   "cell_type": "markdown",
   "metadata": {},
   "source": [
    "Оценим, является ли такое различие случайным или оно статистически значимо. Сформулируем нулевую и альтернативную гипотезы:\n",
    "- Нулевая гипотеза: среднее количество продаж для игр без рейтинга и с рейтингом одинаковое.\n",
    "- Альтернативная гипотеза: среднее количество продаж для игр без рейтинга ниже, чем для игр с рейтингом."
   ]
  },
  {
   "cell_type": "markdown",
   "metadata": {},
   "source": [
    "Составим две выборки: в одной будут продажи игр без рейтинга, во второй - продажи игр с рейтингом:"
   ]
  },
  {
   "cell_type": "code",
   "execution_count": 37,
   "metadata": {},
   "outputs": [],
   "source": [
    "with_rating = df[df.critic_score.notnull() & df.rating.notnull() & df.user_score.notnull()]['total_sales']\n",
    "without_rating = df[df.critic_score.isnull() & df.rating.isnull() & df.user_score.isnull()]['total_sales']"
   ]
  },
  {
   "cell_type": "markdown",
   "metadata": {},
   "source": [
    "Рассчитаем дисперсии в выборках:"
   ]
  },
  {
   "cell_type": "code",
   "execution_count": 38,
   "metadata": {},
   "outputs": [
    {
     "data": {
      "text/plain": [
       "(3.359339643682649, 1.8917366729758776)"
      ]
     },
     "execution_count": 38,
     "metadata": {},
     "output_type": "execute_result"
    }
   ],
   "source": [
    "var_with_rating = np.var(with_rating, ddof=1)\n",
    "var_without_rating = np.var(without_rating, ddof=1)\n",
    "var_with_rating, var_without_rating"
   ]
  },
  {
   "cell_type": "markdown",
   "metadata": {},
   "source": [
    "Проведём расчёты и найдём p-value. Применим метод ttest_ind, который принимает на вход две выборки, а на выходе мы получим вероятность, что они из одной ГС. Пороговый уровень альфа установим 0,05."
   ]
  },
  {
   "cell_type": "code",
   "execution_count": 39,
   "metadata": {},
   "outputs": [
    {
     "name": "stdout",
     "output_type": "stream",
     "text": [
      "Вероятность совершить ошибку первого рода: 4.6775968066342554e-24\n",
      "Это меньше порогового значения альфа 0,05. Принимаем альтернативную гипотезу.\n"
     ]
    }
   ],
   "source": [
    "results = st.ttest_ind(with_rating, without_rating, equal_var=False)\n",
    "# equal_var=False, так как дисперсии двух выборок отличаются почти в два раза. В связи с этим вместо t-критерия Стьюдента \n",
    "# применяем t-критерий Уэлча. \n",
    "print('Вероятность совершить ошибку первого рода:', results.pvalue / 2) # делим пополам, так как делаем одностороннюю проверку \n",
    "if results.pvalue / 2 < .5:\n",
    "    print('Это меньше порогового значения альфа 0,05. Принимаем альтернативную гипотезу.')\n",
    "else:\n",
    "    print('Это больше порогового значения альфа 0,05. Недостаточно оснований отклонить нулевую гипотезу.')"
   ]
  },
  {
   "cell_type": "markdown",
   "metadata": {},
   "source": [
    "Это означает, что пропуски появились не случайно хаотичным образом, а связаны с популярностью игр - для популярных игр их меньше, для непопулярных - больше.\n",
    "\n",
    "Обрабатывать поля с пропусками в столбцах с рейтингами не будем: для заполнения у нас нет данных, а удалить строки целиком мы не можем, так как в таком случае потеряем около 50% данных."
   ]
  },
  {
   "cell_type": "markdown",
   "metadata": {},
   "source": [
    "#### <a name=\"2.5\"> Изменение типа данных в столбцах </a>"
   ]
  },
  {
   "cell_type": "markdown",
   "metadata": {},
   "source": [
    "В столбце user_score указывается рейтинг игры по версии пользователей. Логично, что данные должны быть числового типа, но сейчас они текстовые. Проблема в том, что среди значений встречаются tbd. Такие значения - это скорее всего аббревиатура от английского To Be Determined (будет определено). Она используется, если какая-то информация еще не определена или решение по вопросу не принято. По смыслу это очень похоже на значение Nan, которое используется в качестве заполнителя для отсутствия данных. В связи с этим заменим все tbd на Nan:"
   ]
  },
  {
   "cell_type": "code",
   "execution_count": 40,
   "metadata": {},
   "outputs": [
    {
     "name": "stdout",
     "output_type": "stream",
     "text": [
      "До замены tbd на Nan:\n",
      "количество значений tbd: 2395\n",
      "количество значений Nan: 6638\n",
      "\n",
      "После замены tbd на Nan:\n",
      "количество значений tbd: 0\n",
      "количество значений Nan: 9033\n"
     ]
    }
   ],
   "source": [
    "print('До замены tbd на Nan:')\n",
    "print(f'количество значений tbd:', len(df.query('user_score == \"tbd\"')))\n",
    "print(f'количество значений Nan:', len(df[df.user_score.isnull()]))\n",
    "df['user_score'] = df['user_score'].where(df['user_score'] != \"tbd\", np.nan)\n",
    "print()\n",
    "print('После замены tbd на Nan:')\n",
    "print(f'количество значений tbd:', len(df.query('user_score == \"tbd\"')))\n",
    "print(f'количество значений Nan:', len(df[df.user_score.isnull()]))"
   ]
  },
  {
   "cell_type": "markdown",
   "metadata": {},
   "source": [
    "Теперь, когда текстовых значений не осталось в столбце user_score, заменим тип данных с текстового на числовой:"
   ]
  },
  {
   "cell_type": "code",
   "execution_count": 41,
   "metadata": {},
   "outputs": [
    {
     "name": "stdout",
     "output_type": "stream",
     "text": [
      "До преобразования типа данных:\n",
      "пример значения: 8, его тип данных: <class 'str'>\n",
      "\n",
      "После преобразования типа данных:\n",
      "это же значение: 8.0, новый тип данных: <class 'numpy.float64'>\n"
     ]
    }
   ],
   "source": [
    "print('До преобразования типа данных:')\n",
    "df.loc[3, 'user_score']\n",
    "type(df.loc[3, 'user_score'])\n",
    "print(f'пример значения: {df.loc[3, \"user_score\"]}, его тип данных: {type(df.loc[3, \"user_score\"])}')\n",
    "df.user_score = pd.to_numeric(df.user_score)\n",
    "print()\n",
    "print('После преобразования типа данных:')\n",
    "print(f'это же значение: {df.loc[3, \"user_score\"]}, новый тип данных: {type(df.loc[3, \"user_score\"])}')"
   ]
  },
  {
   "cell_type": "markdown",
   "metadata": {},
   "source": [
    "Заменим также тип данных в столбце year_of_release - дробные числа нам не нужны:"
   ]
  },
  {
   "cell_type": "code",
   "execution_count": 42,
   "metadata": {},
   "outputs": [],
   "source": [
    "df.year_of_release = df.year_of_release.astype('int16')"
   ]
  },
  {
   "cell_type": "markdown",
   "metadata": {},
   "source": [
    "Взглянем на итоговый вид таблицы:"
   ]
  },
  {
   "cell_type": "code",
   "execution_count": 43,
   "metadata": {},
   "outputs": [
    {
     "data": {
      "text/html": [
       "<div>\n",
       "<style scoped>\n",
       "    .dataframe tbody tr th:only-of-type {\n",
       "        vertical-align: middle;\n",
       "    }\n",
       "\n",
       "    .dataframe tbody tr th {\n",
       "        vertical-align: top;\n",
       "    }\n",
       "\n",
       "    .dataframe thead th {\n",
       "        text-align: right;\n",
       "    }\n",
       "</style>\n",
       "<table border=\"1\" class=\"dataframe\">\n",
       "  <thead>\n",
       "    <tr style=\"text-align: right;\">\n",
       "      <th></th>\n",
       "      <th>name</th>\n",
       "      <th>platform</th>\n",
       "      <th>year_of_release</th>\n",
       "      <th>genre</th>\n",
       "      <th>na_sales</th>\n",
       "      <th>eu_sales</th>\n",
       "      <th>jp_sales</th>\n",
       "      <th>other_sales</th>\n",
       "      <th>critic_score</th>\n",
       "      <th>user_score</th>\n",
       "      <th>rating</th>\n",
       "      <th>total_sales</th>\n",
       "    </tr>\n",
       "  </thead>\n",
       "  <tbody>\n",
       "    <tr>\n",
       "      <th>0</th>\n",
       "      <td>wii sports</td>\n",
       "      <td>Wii</td>\n",
       "      <td>2006</td>\n",
       "      <td>Sports</td>\n",
       "      <td>41.36</td>\n",
       "      <td>28.96</td>\n",
       "      <td>3.77</td>\n",
       "      <td>8.45</td>\n",
       "      <td>76.0</td>\n",
       "      <td>8.0</td>\n",
       "      <td>E</td>\n",
       "      <td>82.54</td>\n",
       "    </tr>\n",
       "    <tr>\n",
       "      <th>1</th>\n",
       "      <td>super mario bros.</td>\n",
       "      <td>NES</td>\n",
       "      <td>1985</td>\n",
       "      <td>Platform</td>\n",
       "      <td>29.08</td>\n",
       "      <td>3.58</td>\n",
       "      <td>6.81</td>\n",
       "      <td>0.77</td>\n",
       "      <td>NaN</td>\n",
       "      <td>NaN</td>\n",
       "      <td>NaN</td>\n",
       "      <td>40.24</td>\n",
       "    </tr>\n",
       "    <tr>\n",
       "      <th>2</th>\n",
       "      <td>mario kart wii</td>\n",
       "      <td>Wii</td>\n",
       "      <td>2008</td>\n",
       "      <td>Racing</td>\n",
       "      <td>15.68</td>\n",
       "      <td>12.76</td>\n",
       "      <td>3.79</td>\n",
       "      <td>3.29</td>\n",
       "      <td>82.0</td>\n",
       "      <td>8.3</td>\n",
       "      <td>E</td>\n",
       "      <td>35.52</td>\n",
       "    </tr>\n",
       "    <tr>\n",
       "      <th>3</th>\n",
       "      <td>wii sports resort</td>\n",
       "      <td>Wii</td>\n",
       "      <td>2009</td>\n",
       "      <td>Sports</td>\n",
       "      <td>15.61</td>\n",
       "      <td>10.93</td>\n",
       "      <td>3.28</td>\n",
       "      <td>2.95</td>\n",
       "      <td>80.0</td>\n",
       "      <td>8.0</td>\n",
       "      <td>E</td>\n",
       "      <td>32.77</td>\n",
       "    </tr>\n",
       "    <tr>\n",
       "      <th>4</th>\n",
       "      <td>pokemon red/pokemon blue</td>\n",
       "      <td>GB</td>\n",
       "      <td>1996</td>\n",
       "      <td>Role-Playing</td>\n",
       "      <td>11.27</td>\n",
       "      <td>8.89</td>\n",
       "      <td>10.22</td>\n",
       "      <td>1.00</td>\n",
       "      <td>NaN</td>\n",
       "      <td>NaN</td>\n",
       "      <td>NaN</td>\n",
       "      <td>31.38</td>\n",
       "    </tr>\n",
       "  </tbody>\n",
       "</table>\n",
       "</div>"
      ],
      "text/plain": [
       "                       name platform  year_of_release         genre  na_sales  \\\n",
       "0                wii sports      Wii             2006        Sports     41.36   \n",
       "1         super mario bros.      NES             1985      Platform     29.08   \n",
       "2            mario kart wii      Wii             2008        Racing     15.68   \n",
       "3         wii sports resort      Wii             2009        Sports     15.61   \n",
       "4  pokemon red/pokemon blue       GB             1996  Role-Playing     11.27   \n",
       "\n",
       "   eu_sales  jp_sales  other_sales  critic_score  user_score rating  \\\n",
       "0     28.96      3.77         8.45          76.0         8.0      E   \n",
       "1      3.58      6.81         0.77           NaN         NaN    NaN   \n",
       "2     12.76      3.79         3.29          82.0         8.3      E   \n",
       "3     10.93      3.28         2.95          80.0         8.0      E   \n",
       "4      8.89     10.22         1.00           NaN         NaN    NaN   \n",
       "\n",
       "   total_sales  \n",
       "0        82.54  \n",
       "1        40.24  \n",
       "2        35.52  \n",
       "3        32.77  \n",
       "4        31.38  "
      ]
     },
     "execution_count": 43,
     "metadata": {},
     "output_type": "execute_result"
    }
   ],
   "source": [
    "df.head(5)"
   ]
  },
  {
   "cell_type": "markdown",
   "metadata": {},
   "source": [
    "В ходе предобработки данных:\n",
    "- были изменены названия столбцов - приведены к строчным буквам;\n",
    "- добавлен новый столбец total_sales, который включил в себя сумму продаж игр по всем регионам;\n",
    "- обработаны пропуски в столбцах name, genre и year_of_release - частично данные были восстановлено, частично удалены;\n",
    "- установлена логика в появлении пропусков в столбцах critic_score, critic_score и rating - обнаружено, что для популярных игр их меньше, для непопулярных - больше;\n",
    "- в столбце user_score все значения tbd заменены на nan, так как по смыслу они схожи;\n",
    "- заменены типы данных в столбце user_score с object на float, в столбце year_of_release с float на int."
   ]
  },
  {
   "cell_type": "markdown",
   "metadata": {},
   "source": [
    "[К началу](#contents)"
   ]
  },
  {
   "cell_type": "markdown",
   "metadata": {},
   "source": [
    "### <a name=\"3\"> Исследовательский анализ данных </a>"
   ]
  },
  {
   "cell_type": "markdown",
   "metadata": {},
   "source": [
    "#### <a name=\"3.1\"> Выпуск игр в разные годы </a>"
   ]
  },
  {
   "cell_type": "markdown",
   "metadata": {},
   "source": [
    "Посмотрим, сколько игр выпускалось в разные годы: "
   ]
  },
  {
   "cell_type": "code",
   "execution_count": 44,
   "metadata": {},
   "outputs": [
    {
     "data": {
      "image/png": "[encoded data removed]",
      "text/plain": [
       "<Figure size 864x288 with 1 Axes>"
      ]
     },
     "metadata": {
      "needs_background": "light"
     },
     "output_type": "display_data"
    }
   ],
   "source": [
    "df.groupby('year_of_release')['name'].count().plot(kind='bar', grid=True, figsize=(12, 4), \n",
    "                                                   alpha=.7, legend=False)\n",
    "plt.title(\"Количество выпущеных игр по годам\")\n",
    "plt.xlabel(\"Год\")\n",
    "plt.ylabel(\"Количество выпущенных игр\")\n",
    "plt.show()"
   ]
  },
  {
   "cell_type": "markdown",
   "metadata": {},
   "source": [
    "Можно заметить, что только начиная с 1994 года количество игр начало заметно расти. В связи с этим, будем считать важным для анализа периодом 1994-2016 гг."
   ]
  },
  {
   "cell_type": "markdown",
   "metadata": {},
   "source": [
    "Уберём из нашей таблицы данные до 1994 года:"
   ]
  },
  {
   "cell_type": "code",
   "execution_count": 45,
   "metadata": {},
   "outputs": [
    {
     "name": "stdout",
     "output_type": "stream",
     "text": [
      "367\n"
     ]
    },
    {
     "data": {
      "text/plain": [
       "16210"
      ]
     },
     "execution_count": 45,
     "metadata": {},
     "output_type": "execute_result"
    }
   ],
   "source": [
    "print(len(df.query('year_of_release < 1994')))\n",
    "df = df.query('year_of_release >= 1994').reset_index(drop=True)\n",
    "len(df)"
   ]
  },
  {
   "cell_type": "markdown",
   "metadata": {},
   "source": [
    "Было удалено 366 строк, в таблице осталось 16 098 игр."
   ]
  },
  {
   "cell_type": "markdown",
   "metadata": {},
   "source": [
    "#### <a name=\"3.2\"> Продажи игр на топ-5 платформах в 1994-2016 гг. </a>"
   ]
  },
  {
   "cell_type": "markdown",
   "metadata": {},
   "source": [
    "Посмотрим, как менялись продажи по платформам. Напишем функцию, с помощью которой получим топ платформ с наибольшими суммарными продажами:"
   ]
  },
  {
   "cell_type": "code",
   "execution_count": 46,
   "metadata": {},
   "outputs": [],
   "source": [
    "def top(df, amount):\n",
    "    return (df.groupby('platform')[['total_sales']].sum()\n",
    "            .sort_values('total_sales', ascending=False).head(amount).reset_index())"
   ]
  },
  {
   "cell_type": "markdown",
   "metadata": {},
   "source": [
    "Посмотрим на топ-5 платформ по продажам:"
   ]
  },
  {
   "cell_type": "code",
   "execution_count": 47,
   "metadata": {},
   "outputs": [
    {
     "data": {
      "text/html": [
       "<div>\n",
       "<style scoped>\n",
       "    .dataframe tbody tr th:only-of-type {\n",
       "        vertical-align: middle;\n",
       "    }\n",
       "\n",
       "    .dataframe tbody tr th {\n",
       "        vertical-align: top;\n",
       "    }\n",
       "\n",
       "    .dataframe thead th {\n",
       "        text-align: right;\n",
       "    }\n",
       "</style>\n",
       "<table border=\"1\" class=\"dataframe\">\n",
       "  <thead>\n",
       "    <tr style=\"text-align: right;\">\n",
       "      <th></th>\n",
       "      <th>platform</th>\n",
       "      <th>total_sales</th>\n",
       "    </tr>\n",
       "  </thead>\n",
       "  <tbody>\n",
       "    <tr>\n",
       "      <th>0</th>\n",
       "      <td>PS2</td>\n",
       "      <td>1250.92</td>\n",
       "    </tr>\n",
       "    <tr>\n",
       "      <th>1</th>\n",
       "      <td>X360</td>\n",
       "      <td>966.67</td>\n",
       "    </tr>\n",
       "    <tr>\n",
       "      <th>2</th>\n",
       "      <td>PS3</td>\n",
       "      <td>934.71</td>\n",
       "    </tr>\n",
       "    <tr>\n",
       "      <th>3</th>\n",
       "      <td>Wii</td>\n",
       "      <td>903.31</td>\n",
       "    </tr>\n",
       "    <tr>\n",
       "      <th>4</th>\n",
       "      <td>DS</td>\n",
       "      <td>804.26</td>\n",
       "    </tr>\n",
       "  </tbody>\n",
       "</table>\n",
       "</div>"
      ],
      "text/plain": [
       "  platform  total_sales\n",
       "0      PS2      1250.92\n",
       "1     X360       966.67\n",
       "2      PS3       934.71\n",
       "3      Wii       903.31\n",
       "4       DS       804.26"
      ]
     },
     "execution_count": 47,
     "metadata": {},
     "output_type": "execute_result"
    }
   ],
   "source": [
    "top_platforms = top(df, 5)\n",
    "top_platforms"
   ]
  },
  {
   "cell_type": "markdown",
   "metadata": {},
   "source": [
    "Теперь построим графики для этих платформ по количеству продаж копий игр в каждый год. Для начала напишем функцию, которая составит таблицу и добавит в неё эти топ-5 платформ, годы продаж и объёмы продаж копий игр:"
   ]
  },
  {
   "cell_type": "code",
   "execution_count": 48,
   "metadata": {},
   "outputs": [],
   "source": [
    "def top_with_years(df, platforms_list):\n",
    "    return (df.query('platform in @platforms_list')\n",
    "                              .groupby(['platform', 'year_of_release'])[['total_sales']].sum().reset_index())"
   ]
  },
  {
   "cell_type": "code",
   "execution_count": 49,
   "metadata": {},
   "outputs": [
    {
     "data": {
      "text/html": [
       "<div>\n",
       "<style scoped>\n",
       "    .dataframe tbody tr th:only-of-type {\n",
       "        vertical-align: middle;\n",
       "    }\n",
       "\n",
       "    .dataframe tbody tr th {\n",
       "        vertical-align: top;\n",
       "    }\n",
       "\n",
       "    .dataframe thead th {\n",
       "        text-align: right;\n",
       "    }\n",
       "</style>\n",
       "<table border=\"1\" class=\"dataframe\">\n",
       "  <thead>\n",
       "    <tr style=\"text-align: right;\">\n",
       "      <th></th>\n",
       "      <th>platform</th>\n",
       "      <th>year_of_release</th>\n",
       "      <th>total_sales</th>\n",
       "    </tr>\n",
       "  </thead>\n",
       "  <tbody>\n",
       "    <tr>\n",
       "      <th>0</th>\n",
       "      <td>DS</td>\n",
       "      <td>2004</td>\n",
       "      <td>17.27</td>\n",
       "    </tr>\n",
       "    <tr>\n",
       "      <th>1</th>\n",
       "      <td>DS</td>\n",
       "      <td>2005</td>\n",
       "      <td>130.14</td>\n",
       "    </tr>\n",
       "    <tr>\n",
       "      <th>2</th>\n",
       "      <td>DS</td>\n",
       "      <td>2006</td>\n",
       "      <td>119.81</td>\n",
       "    </tr>\n",
       "    <tr>\n",
       "      <th>3</th>\n",
       "      <td>DS</td>\n",
       "      <td>2007</td>\n",
       "      <td>147.24</td>\n",
       "    </tr>\n",
       "    <tr>\n",
       "      <th>4</th>\n",
       "      <td>DS</td>\n",
       "      <td>2008</td>\n",
       "      <td>145.35</td>\n",
       "    </tr>\n",
       "  </tbody>\n",
       "</table>\n",
       "</div>"
      ],
      "text/plain": [
       "  platform  year_of_release  total_sales\n",
       "0       DS             2004        17.27\n",
       "1       DS             2005       130.14\n",
       "2       DS             2006       119.81\n",
       "3       DS             2007       147.24\n",
       "4       DS             2008       145.35"
      ]
     },
     "execution_count": 49,
     "metadata": {},
     "output_type": "execute_result"
    }
   ],
   "source": [
    "top_platforms_list = list(top_platforms.platform)\n",
    "top_platforms_with_years = top_with_years(df, top_platforms_list)\n",
    "top_platforms_with_years.head()"
   ]
  },
  {
   "cell_type": "markdown",
   "metadata": {},
   "source": [
    "Напишем функцию, которая будет строить графики:"
   ]
  },
  {
   "cell_type": "code",
   "execution_count": 50,
   "metadata": {},
   "outputs": [],
   "source": [
    "def graph(df, platform):\n",
    "    return df.query('platform == @platform').plot(ax=ax, x='year_of_release', y='total_sales', \n",
    "                                                           linewidth=3, label=platform, grid=True, style='o-')"
   ]
  },
  {
   "cell_type": "markdown",
   "metadata": {},
   "source": [
    "Построим графики продаж игр для 5 самых популярных игровых платформ:"
   ]
  },
  {
   "cell_type": "code",
   "execution_count": 51,
   "metadata": {},
   "outputs": [
    {
     "data": {
      "image/png": "[encoded data removed]",
      "text/plain": [
       "<Figure size 864x360 with 1 Axes>"
      ]
     },
     "metadata": {
      "needs_background": "light"
     },
     "output_type": "display_data"
    }
   ],
   "source": [
    "ax = (top_platforms_with_years.query('platform == \"DS\"').plot(x='year_of_release', y='total_sales', style='o-'\n",
    "                                                                , figsize=(12, 5), linewidth=3, label=\"DS\"))\n",
    "graph(top_platforms_with_years, \"PS2\")\n",
    "graph(top_platforms_with_years, \"PS3\")\n",
    "graph(top_platforms_with_years, \"Wii\")\n",
    "graph(top_platforms_with_years, \"X360\")\n",
    "plt.title(\"Количество проданных копий игр для топ-5 платформ по годам\")\n",
    "plt.xlabel(\"Год\")\n",
    "plt.ylabel(\"Количество проданных копий игр, млн\")\n",
    "plt.show()"
   ]
  },
  {
   "cell_type": "markdown",
   "metadata": {},
   "source": [
    "По графикам видно, что:\n",
    "- PS2 и Wii превысили отметку в 200 млн проданных копий игр в год - это платформы, достигшие максимальной популярности; \n",
    "- срок актуальности игровых платформ составляет примерно 10 лет, причём в первые 4-5 лет количество проданных игр растёт, а затем начинает падать."
   ]
  },
  {
   "cell_type": "markdown",
   "metadata": {},
   "source": [
    "Для нашего исследования будем считать актуальным периодом последние 5 лет. На этом промежутке времени количество продаж игр для платформ либо только падает, либо достигает своего пика, либо только растёт. Этого интервала достаточно, чтобы прогнозировать популярность платформ на 2017 год."
   ]
  },
  {
   "cell_type": "markdown",
   "metadata": {},
   "source": [
    "Уберём из нашей таблицы данные до 2012 года:"
   ]
  },
  {
   "cell_type": "code",
   "execution_count": 52,
   "metadata": {},
   "outputs": [
    {
     "name": "stdout",
     "output_type": "stream",
     "text": [
      "13311\n"
     ]
    },
    {
     "data": {
      "text/plain": [
       "2899"
      ]
     },
     "execution_count": 52,
     "metadata": {},
     "output_type": "execute_result"
    }
   ],
   "source": [
    "print(len(df.query('year_of_release < 2012')))\n",
    "df = df.query('year_of_release >= 2012').reset_index(drop=True)\n",
    "len(df)"
   ]
  },
  {
   "cell_type": "markdown",
   "metadata": {},
   "source": [
    "Было удалено 13 211 строк, в таблице осталось 2887 игр."
   ]
  },
  {
   "cell_type": "markdown",
   "metadata": {},
   "source": [
    "#### <a name=\"3.3\"> Продажи игр на топ-5 платформах в 2012-2016 гг. </a>"
   ]
  },
  {
   "cell_type": "markdown",
   "metadata": {},
   "source": [
    "Посмотрим, как менялись продажи по платформам в последние 5 лет. Выведем топ-5 платформ с наибольшими суммарными продажами:"
   ]
  },
  {
   "cell_type": "code",
   "execution_count": 53,
   "metadata": {},
   "outputs": [
    {
     "data": {
      "text/html": [
       "<div>\n",
       "<style scoped>\n",
       "    .dataframe tbody tr th:only-of-type {\n",
       "        vertical-align: middle;\n",
       "    }\n",
       "\n",
       "    .dataframe tbody tr th {\n",
       "        vertical-align: top;\n",
       "    }\n",
       "\n",
       "    .dataframe thead th {\n",
       "        text-align: right;\n",
       "    }\n",
       "</style>\n",
       "<table border=\"1\" class=\"dataframe\">\n",
       "  <thead>\n",
       "    <tr style=\"text-align: right;\">\n",
       "      <th></th>\n",
       "      <th>platform</th>\n",
       "      <th>total_sales</th>\n",
       "    </tr>\n",
       "  </thead>\n",
       "  <tbody>\n",
       "    <tr>\n",
       "      <th>0</th>\n",
       "      <td>PS4</td>\n",
       "      <td>314.14</td>\n",
       "    </tr>\n",
       "    <tr>\n",
       "      <th>1</th>\n",
       "      <td>PS3</td>\n",
       "      <td>289.71</td>\n",
       "    </tr>\n",
       "    <tr>\n",
       "      <th>2</th>\n",
       "      <td>X360</td>\n",
       "      <td>237.52</td>\n",
       "    </tr>\n",
       "    <tr>\n",
       "      <th>3</th>\n",
       "      <td>3DS</td>\n",
       "      <td>195.01</td>\n",
       "    </tr>\n",
       "    <tr>\n",
       "      <th>4</th>\n",
       "      <td>XOne</td>\n",
       "      <td>159.32</td>\n",
       "    </tr>\n",
       "  </tbody>\n",
       "</table>\n",
       "</div>"
      ],
      "text/plain": [
       "  platform  total_sales\n",
       "0      PS4       314.14\n",
       "1      PS3       289.71\n",
       "2     X360       237.52\n",
       "3      3DS       195.01\n",
       "4     XOne       159.32"
      ]
     },
     "execution_count": 53,
     "metadata": {},
     "output_type": "execute_result"
    }
   ],
   "source": [
    "top_platforms = top(df, 5)\n",
    "top_platforms"
   ]
  },
  {
   "cell_type": "markdown",
   "metadata": {},
   "source": [
    "Построим графики продаж игр для 5 самых популярных игровых платформ в последние 5 лет:"
   ]
  },
  {
   "cell_type": "code",
   "execution_count": 54,
   "metadata": {},
   "outputs": [],
   "source": [
    "top_platforms_list = list(top_platforms.platform)\n",
    "top_platforms_with_years = top_with_years(df, top_platforms_list)"
   ]
  },
  {
   "cell_type": "code",
   "execution_count": 55,
   "metadata": {},
   "outputs": [
    {
     "data": {
      "image/png": "[encoded data removed]",
      "text/plain": [
       "<Figure size 864x360 with 1 Axes>"
      ]
     },
     "metadata": {
      "needs_background": "light"
     },
     "output_type": "display_data"
    }
   ],
   "source": [
    "ax = (top_platforms_with_years.query('platform == \"3DS\"').plot(x='year_of_release', y='total_sales', style='o-'\n",
    "                                                                , figsize=(12, 5), linewidth=3, label=\"3DS\"))\n",
    "graph(top_platforms_with_years, \"XOne\")\n",
    "graph(top_platforms_with_years, \"PS3\")\n",
    "graph(top_platforms_with_years, \"PS4\")\n",
    "graph(top_platforms_with_years, \"X360\")\n",
    "plt.title(\"Количество проданных копий игр для топ-5 платформ за последние 5 лет\")\n",
    "plt.xlabel(\"Год\")\n",
    "plt.ylabel(\"Количество проданных копий игр, млн\")\n",
    "plt.show()"
   ]
  },
  {
   "cell_type": "markdown",
   "metadata": {},
   "source": [
    "По графикам видно, что:\n",
    "- за последние 5 лет максимальные продажи игр в год для одной платформы составили около 120 млн копий (PS4 в 2015 и PS3 в 2013), тогда как ранее одна приставка могла продать более 200 млн копий игр в год (например, Wii в 2009 году, это видно на предыдущем графике) - популярность самых популярных приставок падает;\n",
    "- платформы PS4 и XOne имеют наиболее ранние этапы своих жизненных циклов - первые игры для них появились в 2013 году и в продаже пока только 4 года. На эти платформы надо делать ставку - в 2017 году игры на них будут продаваться наиболее активно;\n",
    "- количество проданных игр для платформ 3DS, X360, PS3 планомерно снижается последние 5 лет - это уже устаревшие платформы и на них делать ставку не стоит в 2017 году."
   ]
  },
  {
   "cell_type": "markdown",
   "metadata": {},
   "source": [
    "#### <a name=\"3.4\"> График «ящик с усами» по продажам игр в разбивке по платформам </a>"
   ]
  },
  {
   "cell_type": "markdown",
   "metadata": {},
   "source": [
    "Построим сводную таблицу с названиями игр и количеством проданных копий для каждой платформы из топ-5 за 2012-2016 гг."
   ]
  },
  {
   "cell_type": "code",
   "execution_count": 56,
   "metadata": {},
   "outputs": [
    {
     "data": {
      "text/html": [
       "<div>\n",
       "<style scoped>\n",
       "    .dataframe tbody tr th:only-of-type {\n",
       "        vertical-align: middle;\n",
       "    }\n",
       "\n",
       "    .dataframe tbody tr th {\n",
       "        vertical-align: top;\n",
       "    }\n",
       "\n",
       "    .dataframe thead th {\n",
       "        text-align: right;\n",
       "    }\n",
       "</style>\n",
       "<table border=\"1\" class=\"dataframe\">\n",
       "  <thead>\n",
       "    <tr style=\"text-align: right;\">\n",
       "      <th></th>\n",
       "      <th>name</th>\n",
       "      <th>3DS</th>\n",
       "      <th>PS3</th>\n",
       "      <th>PS4</th>\n",
       "      <th>X360</th>\n",
       "      <th>XOne</th>\n",
       "    </tr>\n",
       "  </thead>\n",
       "  <tbody>\n",
       "    <tr>\n",
       "      <th>0</th>\n",
       "      <td>beyblade burst</td>\n",
       "      <td>0.03</td>\n",
       "      <td>NaN</td>\n",
       "      <td>NaN</td>\n",
       "      <td>NaN</td>\n",
       "      <td>NaN</td>\n",
       "    </tr>\n",
       "    <tr>\n",
       "      <th>1</th>\n",
       "      <td>fire emblem fates</td>\n",
       "      <td>1.67</td>\n",
       "      <td>NaN</td>\n",
       "      <td>NaN</td>\n",
       "      <td>NaN</td>\n",
       "      <td>NaN</td>\n",
       "    </tr>\n",
       "    <tr>\n",
       "      <th>2</th>\n",
       "      <td>frozen: olaf's quest</td>\n",
       "      <td>0.59</td>\n",
       "      <td>NaN</td>\n",
       "      <td>NaN</td>\n",
       "      <td>NaN</td>\n",
       "      <td>NaN</td>\n",
       "    </tr>\n",
       "    <tr>\n",
       "      <th>3</th>\n",
       "      <td>haikyu!! cross team match!</td>\n",
       "      <td>0.04</td>\n",
       "      <td>NaN</td>\n",
       "      <td>NaN</td>\n",
       "      <td>NaN</td>\n",
       "      <td>NaN</td>\n",
       "    </tr>\n",
       "    <tr>\n",
       "      <th>4</th>\n",
       "      <td>tales of xillia 2</td>\n",
       "      <td>NaN</td>\n",
       "      <td>0.84</td>\n",
       "      <td>NaN</td>\n",
       "      <td>NaN</td>\n",
       "      <td>NaN</td>\n",
       "    </tr>\n",
       "  </tbody>\n",
       "</table>\n",
       "</div>"
      ],
      "text/plain": [
       "                          name   3DS   PS3  PS4  X360  XOne\n",
       "0               beyblade burst  0.03   NaN  NaN   NaN   NaN\n",
       "1            fire emblem fates  1.67   NaN  NaN   NaN   NaN\n",
       "2         frozen: olaf's quest  0.59   NaN  NaN   NaN   NaN\n",
       "3   haikyu!! cross team match!  0.04   NaN  NaN   NaN   NaN\n",
       "4            tales of xillia 2   NaN  0.84  NaN   NaN   NaN"
      ]
     },
     "execution_count": 56,
     "metadata": {},
     "output_type": "execute_result"
    }
   ],
   "source": [
    "df_pivot = (df.query(\"platform in @top_platforms_list\")\n",
    "            .pivot_table(index=['name'], columns='platform', values='total_sales', aggfunc=['sum'])\n",
    "            .reset_index())\n",
    "df_pivot.columns = ['name', '3DS', 'PS3', 'PS4', 'X360', 'XOne']\n",
    "df_pivot.head()"
   ]
  },
  {
   "cell_type": "markdown",
   "metadata": {},
   "source": [
    "На основе этой таблицы построим диаграмму размаха проданных игр для каждой платформы:"
   ]
  },
  {
   "cell_type": "code",
   "execution_count": 57,
   "metadata": {},
   "outputs": [
    {
     "data": {
      "image/png": "[encoded data removed]",
      "text/plain": [
       "<Figure size 576x432 with 1 Axes>"
      ]
     },
     "metadata": {
      "needs_background": "light"
     },
     "output_type": "display_data"
    }
   ],
   "source": [
    "df_pivot.boxplot(column=['3DS', 'PS3', 'PS4', 'X360', 'XOne'], figsize=(8,6))\n",
    "plt.title(\"Диаграмма размаха количества проданных копий игр \\n для топ-5 платформ за 2012-2016 гг.\")\n",
    "plt.xlabel(\"Игровая платформа\")\n",
    "plt.ylabel(\"Количество проданных копий игр, млн\")\n",
    "plt.show()"
   ]
  },
  {
   "cell_type": "markdown",
   "metadata": {},
   "source": [
    "Можно заметить, что игры, которые разошлись больше, чем 2 млн копий, являются выбросами для всех пяти платформ. Эти выбросы сжимают наши боксплоты и прижимают их к нулю на графике.\n",
    "\n",
    "Изменим масштаб графика, посмотрим ближе на область 0-2 млн проданных копий:"
   ]
  },
  {
   "cell_type": "code",
   "execution_count": 58,
   "metadata": {},
   "outputs": [
    {
     "data": {
      "image/png": "[encoded data removed]",
      "text/plain": [
       "<Figure size 576x432 with 1 Axes>"
      ]
     },
     "metadata": {
      "needs_background": "light"
     },
     "output_type": "display_data"
    }
   ],
   "source": [
    "df_pivot.boxplot(column=['3DS', 'PS3', 'PS4', 'X360', 'XOne'], figsize=(8,6))\n",
    "plt.title(\"Диаграмма размаха количества проданных копий игр для топ-5 платформ \\n за 2012-2016 гг. (область 0-2 млн проданных копий)\")\n",
    "plt.xlabel(\"Игровая платформа\")\n",
    "plt.ylabel(\"Количество проданных копий игр, млн\")\n",
    "plt.ylim(0, 2)\n",
    "plt.show()"
   ]
  },
  {
   "cell_type": "markdown",
   "metadata": {},
   "source": [
    "Можно сделать следующие выводы:\n",
    "- медианное количество проданных игр выше всего для платформы X360 и составляет около 300 тыс. копий. Ниже всего - для 3DS - около 100 тыс. копий;\n",
    "- У X360 самая широкая диаграмма размаха. Несмотря на то, что самая популярная игра выходила на PS3 (больше 20 млн копий, видно на предыдущем графике), у X360 больше количество популярных игр, которые и вытягивают боксплот вверх;\n",
    "- У 3DS самый узкая диаграмма размаха - у этой платформы игры наименее популярные среди топ-5 платформ."
   ]
  },
  {
   "cell_type": "markdown",
   "metadata": {},
   "source": [
    "#### <a name=\"3.5\"> Влияние отзывов критиков и пользователей на продажи игр </a>"
   ]
  },
  {
   "cell_type": "markdown",
   "metadata": {},
   "source": [
    "Посмотрим, как влияют на продажи внутри одной популярной платформы отзывы пользователей и критиков. Напишем функцию, которая будет считать корреляцию между отзывами пользователей и критиков и продажами, а также строить диаграмму рассеяния. "
   ]
  },
  {
   "cell_type": "code",
   "execution_count": 59,
   "metadata": {},
   "outputs": [],
   "source": [
    "def scatter(df, platform):\n",
    "    df.plot(kind='scatter', x='critic_score', y='total_sales', grid=True, figsize=(8, 3), color='purple')\n",
    "    plt.title(f\"Диаграмма рассеяния количества проданных копий игр \\n и рейтинга критиков для {platform} за 2012-2016 гг.\")\n",
    "    plt.xlabel(\"Рейтинг критиков\")\n",
    "    plt.ylabel(\"Количество проданных \\n копий игр, млн\")\n",
    "    df.plot(kind='scatter', x='user_score', y='total_sales', grid=True, figsize=(8, 3), color='orange')\n",
    "    plt.title(f\"Диаграмма рассеяния количества проданных копий игр \\n и рейтинга пользователей для {platform} за 2012-2016 гг.\")\n",
    "    plt.xlabel(\"Рейтинг пользователей\")\n",
    "    plt.ylabel(\"Количество проданных \\n копий игр, млн\")\n",
    "    plt.show()"
   ]
  },
  {
   "cell_type": "markdown",
   "metadata": {},
   "source": [
    "Применим эту функцию для получения коэффициентов корреляции и построения графиков:"
   ]
  },
  {
   "cell_type": "code",
   "execution_count": 60,
   "metadata": {
    "scrolled": false
   },
   "outputs": [
    {
     "name": "stdout",
     "output_type": "stream",
     "text": [
      "Корреляция между отзывами и продажами для PS4:\n"
     ]
    },
    {
     "data": {
      "text/html": [
       "<div>\n",
       "<style scoped>\n",
       "    .dataframe tbody tr th:only-of-type {\n",
       "        vertical-align: middle;\n",
       "    }\n",
       "\n",
       "    .dataframe tbody tr th {\n",
       "        vertical-align: top;\n",
       "    }\n",
       "\n",
       "    .dataframe thead th {\n",
       "        text-align: right;\n",
       "    }\n",
       "</style>\n",
       "<table border=\"1\" class=\"dataframe\">\n",
       "  <thead>\n",
       "    <tr style=\"text-align: right;\">\n",
       "      <th></th>\n",
       "      <th>total_sales</th>\n",
       "      <th>user_score</th>\n",
       "      <th>critic_score</th>\n",
       "    </tr>\n",
       "  </thead>\n",
       "  <tbody>\n",
       "    <tr>\n",
       "      <th>total_sales</th>\n",
       "      <td>1.000000</td>\n",
       "      <td>-0.031957</td>\n",
       "      <td>0.406568</td>\n",
       "    </tr>\n",
       "    <tr>\n",
       "      <th>user_score</th>\n",
       "      <td>-0.031957</td>\n",
       "      <td>1.000000</td>\n",
       "      <td>0.557654</td>\n",
       "    </tr>\n",
       "    <tr>\n",
       "      <th>critic_score</th>\n",
       "      <td>0.406568</td>\n",
       "      <td>0.557654</td>\n",
       "      <td>1.000000</td>\n",
       "    </tr>\n",
       "  </tbody>\n",
       "</table>\n",
       "</div>"
      ],
      "text/plain": [
       "              total_sales  user_score  critic_score\n",
       "total_sales      1.000000   -0.031957      0.406568\n",
       "user_score      -0.031957    1.000000      0.557654\n",
       "critic_score     0.406568    0.557654      1.000000"
      ]
     },
     "metadata": {},
     "output_type": "display_data"
    },
    {
     "data": {
      "image/png": "[encoded data removed]",
      "text/plain": [
       "<Figure size 576x216 with 1 Axes>"
      ]
     },
     "metadata": {
      "needs_background": "light"
     },
     "output_type": "display_data"
    },
    {
     "data": {
      "image/png": "[encoded data removed]",
      "text/plain": [
       "<Figure size 576x216 with 1 Axes>"
      ]
     },
     "metadata": {
      "needs_background": "light"
     },
     "output_type": "display_data"
    },
    {
     "name": "stdout",
     "output_type": "stream",
     "text": [
      "------------------------------------------------------------\n",
      "\n",
      "Корреляция между отзывами и продажами для PS3:\n"
     ]
    },
    {
     "data": {
      "text/html": [
       "<div>\n",
       "<style scoped>\n",
       "    .dataframe tbody tr th:only-of-type {\n",
       "        vertical-align: middle;\n",
       "    }\n",
       "\n",
       "    .dataframe tbody tr th {\n",
       "        vertical-align: top;\n",
       "    }\n",
       "\n",
       "    .dataframe thead th {\n",
       "        text-align: right;\n",
       "    }\n",
       "</style>\n",
       "<table border=\"1\" class=\"dataframe\">\n",
       "  <thead>\n",
       "    <tr style=\"text-align: right;\">\n",
       "      <th></th>\n",
       "      <th>total_sales</th>\n",
       "      <th>user_score</th>\n",
       "      <th>critic_score</th>\n",
       "    </tr>\n",
       "  </thead>\n",
       "  <tbody>\n",
       "    <tr>\n",
       "      <th>total_sales</th>\n",
       "      <td>1.000000</td>\n",
       "      <td>-0.005043</td>\n",
       "      <td>0.331371</td>\n",
       "    </tr>\n",
       "    <tr>\n",
       "      <th>user_score</th>\n",
       "      <td>-0.005043</td>\n",
       "      <td>1.000000</td>\n",
       "      <td>0.539525</td>\n",
       "    </tr>\n",
       "    <tr>\n",
       "      <th>critic_score</th>\n",
       "      <td>0.331371</td>\n",
       "      <td>0.539525</td>\n",
       "      <td>1.000000</td>\n",
       "    </tr>\n",
       "  </tbody>\n",
       "</table>\n",
       "</div>"
      ],
      "text/plain": [
       "              total_sales  user_score  critic_score\n",
       "total_sales      1.000000   -0.005043      0.331371\n",
       "user_score      -0.005043    1.000000      0.539525\n",
       "critic_score     0.331371    0.539525      1.000000"
      ]
     },
     "metadata": {},
     "output_type": "display_data"
    },
    {
     "data": {
      "image/png": "[encoded data removed]",
      "text/plain": [
       "<Figure size 576x216 with 1 Axes>"
      ]
     },
     "metadata": {
      "needs_background": "light"
     },
     "output_type": "display_data"
    },
    {
     "data": {
      "image/png": "[encoded data removed]",
      "text/plain": [
       "<Figure size 576x216 with 1 Axes>"
      ]
     },
     "metadata": {
      "needs_background": "light"
     },
     "output_type": "display_data"
    },
    {
     "name": "stdout",
     "output_type": "stream",
     "text": [
      "------------------------------------------------------------\n",
      "\n",
      "Корреляция между отзывами и продажами для X360:\n"
     ]
    },
    {
     "data": {
      "text/html": [
       "<div>\n",
       "<style scoped>\n",
       "    .dataframe tbody tr th:only-of-type {\n",
       "        vertical-align: middle;\n",
       "    }\n",
       "\n",
       "    .dataframe tbody tr th {\n",
       "        vertical-align: top;\n",
       "    }\n",
       "\n",
       "    .dataframe thead th {\n",
       "        text-align: right;\n",
       "    }\n",
       "</style>\n",
       "<table border=\"1\" class=\"dataframe\">\n",
       "  <thead>\n",
       "    <tr style=\"text-align: right;\">\n",
       "      <th></th>\n",
       "      <th>total_sales</th>\n",
       "      <th>user_score</th>\n",
       "      <th>critic_score</th>\n",
       "    </tr>\n",
       "  </thead>\n",
       "  <tbody>\n",
       "    <tr>\n",
       "      <th>total_sales</th>\n",
       "      <td>1.000000</td>\n",
       "      <td>0.006315</td>\n",
       "      <td>0.360266</td>\n",
       "    </tr>\n",
       "    <tr>\n",
       "      <th>user_score</th>\n",
       "      <td>0.006315</td>\n",
       "      <td>1.000000</td>\n",
       "      <td>0.557952</td>\n",
       "    </tr>\n",
       "    <tr>\n",
       "      <th>critic_score</th>\n",
       "      <td>0.360266</td>\n",
       "      <td>0.557952</td>\n",
       "      <td>1.000000</td>\n",
       "    </tr>\n",
       "  </tbody>\n",
       "</table>\n",
       "</div>"
      ],
      "text/plain": [
       "              total_sales  user_score  critic_score\n",
       "total_sales      1.000000    0.006315      0.360266\n",
       "user_score       0.006315    1.000000      0.557952\n",
       "critic_score     0.360266    0.557952      1.000000"
      ]
     },
     "metadata": {},
     "output_type": "display_data"
    },
    {
     "data": {
      "image/png": "[encoded data removed]",
      "text/plain": [
       "<Figure size 576x216 with 1 Axes>"
      ]
     },
     "metadata": {
      "needs_background": "light"
     },
     "output_type": "display_data"
    },
    {
     "data": {
      "image/png": "[encoded data removed]",
      "text/plain": [
       "<Figure size 576x216 with 1 Axes>"
      ]
     },
     "metadata": {
      "needs_background": "light"
     },
     "output_type": "display_data"
    },
    {
     "name": "stdout",
     "output_type": "stream",
     "text": [
      "------------------------------------------------------------\n",
      "\n",
      "Корреляция между отзывами и продажами для 3DS:\n"
     ]
    },
    {
     "data": {
      "text/html": [
       "<div>\n",
       "<style scoped>\n",
       "    .dataframe tbody tr th:only-of-type {\n",
       "        vertical-align: middle;\n",
       "    }\n",
       "\n",
       "    .dataframe tbody tr th {\n",
       "        vertical-align: top;\n",
       "    }\n",
       "\n",
       "    .dataframe thead th {\n",
       "        text-align: right;\n",
       "    }\n",
       "</style>\n",
       "<table border=\"1\" class=\"dataframe\">\n",
       "  <thead>\n",
       "    <tr style=\"text-align: right;\">\n",
       "      <th></th>\n",
       "      <th>total_sales</th>\n",
       "      <th>user_score</th>\n",
       "      <th>critic_score</th>\n",
       "    </tr>\n",
       "  </thead>\n",
       "  <tbody>\n",
       "    <tr>\n",
       "      <th>total_sales</th>\n",
       "      <td>1.000000</td>\n",
       "      <td>0.198150</td>\n",
       "      <td>0.320458</td>\n",
       "    </tr>\n",
       "    <tr>\n",
       "      <th>user_score</th>\n",
       "      <td>0.198150</td>\n",
       "      <td>1.000000</td>\n",
       "      <td>0.721517</td>\n",
       "    </tr>\n",
       "    <tr>\n",
       "      <th>critic_score</th>\n",
       "      <td>0.320458</td>\n",
       "      <td>0.721517</td>\n",
       "      <td>1.000000</td>\n",
       "    </tr>\n",
       "  </tbody>\n",
       "</table>\n",
       "</div>"
      ],
      "text/plain": [
       "              total_sales  user_score  critic_score\n",
       "total_sales      1.000000    0.198150      0.320458\n",
       "user_score       0.198150    1.000000      0.721517\n",
       "critic_score     0.320458    0.721517      1.000000"
      ]
     },
     "metadata": {},
     "output_type": "display_data"
    },
    {
     "data": {
      "image/png": "[encoded data removed]",
      "text/plain": [
       "<Figure size 576x216 with 1 Axes>"
      ]
     },
     "metadata": {
      "needs_background": "light"
     },
     "output_type": "display_data"
    },
    {
     "data": {
      "image/png": "[encoded data removed]",
      "text/plain": [
       "<Figure size 576x216 with 1 Axes>"
      ]
     },
     "metadata": {
      "needs_background": "light"
     },
     "output_type": "display_data"
    },
    {
     "name": "stdout",
     "output_type": "stream",
     "text": [
      "------------------------------------------------------------\n",
      "\n",
      "Корреляция между отзывами и продажами для XOne:\n"
     ]
    },
    {
     "data": {
      "text/html": [
       "<div>\n",
       "<style scoped>\n",
       "    .dataframe tbody tr th:only-of-type {\n",
       "        vertical-align: middle;\n",
       "    }\n",
       "\n",
       "    .dataframe tbody tr th {\n",
       "        vertical-align: top;\n",
       "    }\n",
       "\n",
       "    .dataframe thead th {\n",
       "        text-align: right;\n",
       "    }\n",
       "</style>\n",
       "<table border=\"1\" class=\"dataframe\">\n",
       "  <thead>\n",
       "    <tr style=\"text-align: right;\">\n",
       "      <th></th>\n",
       "      <th>total_sales</th>\n",
       "      <th>user_score</th>\n",
       "      <th>critic_score</th>\n",
       "    </tr>\n",
       "  </thead>\n",
       "  <tbody>\n",
       "    <tr>\n",
       "      <th>total_sales</th>\n",
       "      <td>1.000000</td>\n",
       "      <td>-0.068925</td>\n",
       "      <td>0.416998</td>\n",
       "    </tr>\n",
       "    <tr>\n",
       "      <th>user_score</th>\n",
       "      <td>-0.068925</td>\n",
       "      <td>1.000000</td>\n",
       "      <td>0.472462</td>\n",
       "    </tr>\n",
       "    <tr>\n",
       "      <th>critic_score</th>\n",
       "      <td>0.416998</td>\n",
       "      <td>0.472462</td>\n",
       "      <td>1.000000</td>\n",
       "    </tr>\n",
       "  </tbody>\n",
       "</table>\n",
       "</div>"
      ],
      "text/plain": [
       "              total_sales  user_score  critic_score\n",
       "total_sales      1.000000   -0.068925      0.416998\n",
       "user_score      -0.068925    1.000000      0.472462\n",
       "critic_score     0.416998    0.472462      1.000000"
      ]
     },
     "metadata": {},
     "output_type": "display_data"
    },
    {
     "data": {
      "image/png": "[encoded data removed]",
      "text/plain": [
       "<Figure size 576x216 with 1 Axes>"
      ]
     },
     "metadata": {
      "needs_background": "light"
     },
     "output_type": "display_data"
    },
    {
     "data": {
      "image/png": "[encoded data removed]",
      "text/plain": [
       "<Figure size 576x216 with 1 Axes>"
      ]
     },
     "metadata": {
      "needs_background": "light"
     },
     "output_type": "display_data"
    },
    {
     "name": "stdout",
     "output_type": "stream",
     "text": [
      "------------------------------------------------------------\n",
      "\n"
     ]
    }
   ],
   "source": [
    "for platform in top_platforms_list:\n",
    "    df_platform = df.query('platform == @platform')[['total_sales', 'user_score', 'critic_score']]\n",
    "    print(f'Корреляция между отзывами и продажами для {platform}:')\n",
    "    display(df_platform.corr())\n",
    "    scatter(df_platform, platform)\n",
    "    print(\"------------------------------------------------------------\")\n",
    "    print()"
   ]
  },
  {
   "cell_type": "markdown",
   "metadata": {},
   "source": [
    "Можно заметить, что:\n",
    "- продажи игр и рейтинг пользователей имеют практически нулевую корреляцию для платформ. Единственное исключение - 3DS. Корреляция составляет 0,2, что означает, что взаимосвязь тем не менее есть, но очень низкая;\n",
    "- продажи игр и рейтинг критиков для всех платформ коррелируют в диапазоне от 0,32 до 0,42 - это говорит о том, что есть небольшая положительная взаимосвязь между этими параметрами. Наибольшая корреляция для XOne, наименьшая - для 3DS;\n",
    "- рейтинг пользователей и рейтинг критиков коррелируют в диапазоне от 0,47 до 0,72. Наибольшая корреляция у 3DS, взаимосвязь для этой платформы сильная. Для остальных платформ корреляция умеренно выраженная."
   ]
  },
  {
   "cell_type": "markdown",
   "metadata": {},
   "source": [
    "#### <a name=\"3.6\"> Общее распределение игр по жанрам </a>"
   ]
  },
  {
   "cell_type": "markdown",
   "metadata": {},
   "source": [
    "Посмотрим на общее распределение игр по жанрам за актуальный период - 2012-2016 гг."
   ]
  },
  {
   "cell_type": "code",
   "execution_count": 61,
   "metadata": {},
   "outputs": [
    {
     "data": {
      "image/png": "[encoded data removed]",
      "text/plain": [
       "<Figure size 864x216 with 1 Axes>"
      ]
     },
     "metadata": {
      "needs_background": "light"
     },
     "output_type": "display_data"
    }
   ],
   "source": [
    "(df.groupby('genre')[['name']].count().sort_values('name', ascending=False)\n",
    " .plot(kind='bar', grid=True, figsize=(12, 3), alpha=.5, legend=False, color='green'))\n",
    "plt.title(\"Количество выпущенных игр каждого жанра за 2012-2016 гг.\")\n",
    "plt.xlabel(\"Жанр игры\")\n",
    "plt.ylabel(\"Количество выпущенных игр\")\n",
    "plt.show()"
   ]
  },
  {
   "cell_type": "markdown",
   "metadata": {},
   "source": [
    "Из распределения можно сделать выводы, что:\n",
    "- самый популярный жанр за всё время наблюдений (36 лет) и за последние 5 лет не изменился - это Action, причём с большим отрывом от второго места;\n",
    "- однако топ-3 жанров изменился: если за всё время наблюдений 2 и 3 место занимают Sports и Misc, то за последние 5 лет - Role-Playing и Adventure;\n",
    "- наименее популярным жанром был и остаётся Puzzle;\n",
    "- за последние 5 лет вышло более 1000 игр в жанре Action и менее 50 игр в жанре Puzzle."
   ]
  },
  {
   "cell_type": "markdown",
   "metadata": {},
   "source": [
    "[К началу](#contents)"
   ]
  },
  {
   "cell_type": "markdown",
   "metadata": {},
   "source": [
    "### <a name=\"4\"> Портрет пользователя каждого региона </a>"
   ]
  },
  {
   "cell_type": "markdown",
   "metadata": {},
   "source": [
    "#### <a name=\"4.1\"> Самые популярные платформы (топ-5) </a>"
   ]
  },
  {
   "cell_type": "markdown",
   "metadata": {},
   "source": [
    "Ранее, в самом начале исследования мы составили топ-5 платформ по количеству выпущенных игр. Теперь составим топ-5 платформ по количеству проданных копий игр - по-отдельности для каждого региона.\n",
    "\n",
    "Напишем функцию, которая будет принимать в качестве параметра регион продаж и возвращать диаграмму с топ-5 платформами и количеством проданных копий игр для них:"
   ]
  },
  {
   "cell_type": "code",
   "execution_count": 62,
   "metadata": {},
   "outputs": [],
   "source": [
    "def top_platforms(region_sales):\n",
    "    dict = {'na_sales': 'Северной Америке', 'eu_sales': 'Европе', 'jp_sales': 'Японии'}\n",
    "    (df.groupby('platform')[[region_sales]].sum().sort_values(region_sales, ascending=False).head()\n",
    "     .plot(kind='bar', grid=True, figsize=(7, 3), alpha=.5, legend=False, color='blue'))\n",
    "    plt.title(f\"Топ-5 платформ по количеству проданных копий игр в {dict[region_sales]}\")\n",
    "    plt.xlabel(\"Платформа\")\n",
    "    plt.ylabel(\"Количество проданных копий \\n игр, млн\")\n",
    "    plt.show()"
   ]
  },
  {
   "cell_type": "code",
   "execution_count": 63,
   "metadata": {},
   "outputs": [
    {
     "data": {
      "image/png": "[encoded data removed]",
      "text/plain": [
       "<Figure size 504x216 with 1 Axes>"
      ]
     },
     "metadata": {
      "needs_background": "light"
     },
     "output_type": "display_data"
    }
   ],
   "source": [
    "top_platforms('na_sales')"
   ]
  },
  {
   "cell_type": "code",
   "execution_count": 64,
   "metadata": {},
   "outputs": [
    {
     "data": {
      "image/png": "[encoded data removed]",
      "text/plain": [
       "<Figure size 504x216 with 1 Axes>"
      ]
     },
     "metadata": {
      "needs_background": "light"
     },
     "output_type": "display_data"
    }
   ],
   "source": [
    "top_platforms('eu_sales')"
   ]
  },
  {
   "cell_type": "code",
   "execution_count": 65,
   "metadata": {},
   "outputs": [
    {
     "data": {
      "image/png": "[encoded data removed]",
      "text/plain": [
       "<Figure size 504x216 with 1 Axes>"
      ]
     },
     "metadata": {
      "needs_background": "light"
     },
     "output_type": "display_data"
    }
   ],
   "source": [
    "top_platforms('jp_sales')"
   ]
  },
  {
   "cell_type": "markdown",
   "metadata": {},
   "source": [
    "Можно заметить, что:\n",
    "- в Северной Америке самая популярная платформа - это Xbox360. Возможно это связано с тем, что компания Microsoft, которая выпускает эту консоль, сама из США и наиболее активный маркетинг проводит у себя на родине;\n",
    "- в Европе 1 и 2 место занимают консоли от Sony двух разных поколений;\n",
    "- в Японии консоли Microsoft вообще нет в топ-5, все платформы в топе от японских производителей. Причем самая популярная консоль - это 3DS. Также популярна PSV. Японцы очень любят мобильные игровые платформы."
   ]
  },
  {
   "cell_type": "markdown",
   "metadata": {},
   "source": [
    "#### <a name=\"4.2\"> Самые популярные жанры (топ-5) </a>"
   ]
  },
  {
   "cell_type": "markdown",
   "metadata": {},
   "source": [
    "Ранее, в самом начале исследования мы составили топ-5 жанров по количеству выпущенных игр. Теперь составим топ-5 жанров по количеству проданных копий игр - по-отдельности для каждого региона.\n",
    "\n",
    "Напишем функцию, которая будет принимать в качестве параметра регион продаж и возвращать диаграмму с топ-5 жанрами и количеством проданных копий игр для них:"
   ]
  },
  {
   "cell_type": "code",
   "execution_count": 66,
   "metadata": {},
   "outputs": [],
   "source": [
    "def top_genres(region_sales):\n",
    "    dict = {'na_sales': 'Северной Америке', 'eu_sales': 'Европе', 'jp_sales': 'Японии'}\n",
    "    (df.groupby('genre')[[region_sales]].sum().sort_values(region_sales, ascending=False).head()\n",
    "     .plot(kind='bar', grid=True, figsize=(7, 3), alpha=.5, legend=False, color='magenta'))\n",
    "    plt.title(f\"Топ-5 жанров по количеству проданных копий игр в {dict[region_sales]}\")\n",
    "    plt.xlabel(\"Жанр\")\n",
    "    plt.ylabel(\"Количество проданных копий \\n игр, млн\")\n",
    "    plt.show()"
   ]
  },
  {
   "cell_type": "code",
   "execution_count": 67,
   "metadata": {},
   "outputs": [
    {
     "data": {
      "image/png": "[encoded data removed]",
      "text/plain": [
       "<Figure size 504x216 with 1 Axes>"
      ]
     },
     "metadata": {
      "needs_background": "light"
     },
     "output_type": "display_data"
    }
   ],
   "source": [
    "top_genres('na_sales')"
   ]
  },
  {
   "cell_type": "code",
   "execution_count": 68,
   "metadata": {},
   "outputs": [
    {
     "data": {
      "image/png": "[encoded data removed]",
      "text/plain": [
       "<Figure size 504x216 with 1 Axes>"
      ]
     },
     "metadata": {
      "needs_background": "light"
     },
     "output_type": "display_data"
    }
   ],
   "source": [
    "top_genres('eu_sales')"
   ]
  },
  {
   "cell_type": "code",
   "execution_count": 69,
   "metadata": {},
   "outputs": [
    {
     "data": {
      "image/png": "[encoded data removed]",
      "text/plain": [
       "<Figure size 504x216 with 1 Axes>"
      ]
     },
     "metadata": {
      "needs_background": "light"
     },
     "output_type": "display_data"
    }
   ],
   "source": [
    "top_genres('jp_sales')"
   ]
  },
  {
   "cell_type": "markdown",
   "metadata": {},
   "source": [
    "Можно заметить, что:\n",
    "- в Северной Америке и Европе игровые предпочтения очень похожи - первые 4 места полностью совпадают и по содержанию и по расстановке. Американцы и европейцы любят игры в жанре action, shooter, sports и role-playing;\n",
    "- в Японии предпочтения по жанрам отличаются. Японцы больше всего любят игры в жанре role-playing, затем action, simulation и fighting;\n",
    "- Японцев объединяет с американцами и европейцами любовь к action и role-playing. А отличает - нелюбовь к shooter и sports."
   ]
  },
  {
   "cell_type": "markdown",
   "metadata": {},
   "source": [
    "#### <a name=\"4.3\"> Влияние рейтинга ESRB на продажи игр </a>"
   ]
  },
  {
   "cell_type": "markdown",
   "metadata": {},
   "source": [
    "Посмотрим, какие рейтинги ESRB есть в нашей таблице за актуальный период:"
   ]
  },
  {
   "cell_type": "code",
   "execution_count": 70,
   "metadata": {},
   "outputs": [
    {
     "data": {
      "text/plain": [
       "array(['M', nan, 'E', 'E10+', 'T'], dtype=object)"
      ]
     },
     "execution_count": 70,
     "metadata": {},
     "output_type": "execute_result"
    }
   ],
   "source": [
    "df['rating'].unique()"
   ]
  },
  {
   "cell_type": "markdown",
   "metadata": {},
   "source": [
    "Всего 4 рейтинга, не считая пропущенных значений.\n",
    "\n",
    "Построим диаграмму, которая будет отражать, какую долю игры каждого из рейтингов ESRB занимают в общем числе продаж. Проще говоря, игры какого рейтинга самые популярные. Сделаем разбивку по регионам продаж."
   ]
  },
  {
   "cell_type": "code",
   "execution_count": 71,
   "metadata": {},
   "outputs": [
    {
     "data": {
      "image/png": "[encoded data removed]",
      "text/plain": [
       "<Figure size 864x288 with 1 Axes>"
      ]
     },
     "metadata": {
      "needs_background": "light"
     },
     "output_type": "display_data"
    }
   ],
   "source": [
    "# сгруппируем по рейтингу и посчитаем суммы продаж в регионах\n",
    "rating = df.groupby('rating')[['na_sales', 'eu_sales', 'jp_sales']].sum() \n",
    "rating.columns = ['Северная Америка', 'Европа', 'Япония']\n",
    "rating = rating.T\n",
    "# добавим столбец с суммарным количеством проданных игр по регионам\n",
    "rating['total'] = rating['E'] + rating['E10+'] + rating['M'] + rating['T']\n",
    "# продажи игр переведём из абсолютных величин в относительные\n",
    "rating['E'] = rating['E'] / rating['total']\n",
    "rating['E10+'] = rating['E10+'] / rating['total']\n",
    "rating['M'] = rating['M'] / rating['total']\n",
    "rating['T'] = rating['T'] / rating['total']\n",
    "# теперь удалим ненужный столбец\n",
    "del rating['total']\n",
    "# построим горизонтальную диаграмму\n",
    "rating.T.plot(kind='barh', grid=True, alpha=.7, figsize=(12, 4))\n",
    "plt.title(\"Доли проданных копий игр в зависимости от рейтинга ESRB и региона\")\n",
    "plt.ylabel(\"Рейтинг ESRB\")\n",
    "plt.xlabel(\"Доля проданных копий игр\")\n",
    "plt.show()"
   ]
  },
  {
   "cell_type": "markdown",
   "metadata": {},
   "source": [
    "Можно заметить, что:\n",
    "- в Северной Америке и Европе наиболее популярны игры с рейтингом M - «от 17 лет». Среди проданных игр, по которым у нас есть данные их рейтинга, игры с рейтингом M занимают около 48%. В Японии же такие игры занимают около 23%, почти в 2 раза меньше;\n",
    "- среди японцев самые популярные игры имеют рейтинг E - «Для всех» - почти 35%. Также популярны игры с рейтингом T - «Подросткам» - около 31%. Европейцы и американцы значительно ниже любят игры с рейтингом T - они занимают меньше 15%;\n",
    "- не слишком популярны среди и европейцев, и американцев, и японцев игры с рейтингом E10+ - «Для всех старше 10 лет». "
   ]
  },
  {
   "cell_type": "markdown",
   "metadata": {},
   "source": [
    "Подведём итоги по анализу игровых платформ, жанров игр и рейтингов ESRB, составим итоговые портреты пользователей для каждого региона:\n",
    "- Северная Америка: пользователи предпочитают играть на домашних игровых консолях, как от американского бренда Microsoft (X360 и XOne), так и от японского Sony (PS3 и PS4). Наиболее популярные жанры action, shooter и sports. Больше всего игр продаётся с рейтингом M (\"от 17 лет\") - около 48%. На втором месте - с рейтингом E (\"для всех\") - около 23%, третьем - E10+ (\"для всех старше 10 лет\") - около 16%.\n",
    "- Европа: как и американцы, европейские пользователи предпочитают домашние игровые консоли, однако платформы от японского бренда Sony (PS3 и PS4) более популярны, чем X360 и XOne от американского бренда Microsoft. Предпочтения по жанрам у них аналогичны американским - в первую тройку входят action, shooter и sports. Больше всего игр продаётся с рейтингом M (около 47%), E (около 28%) и E10+ (около 13%). Европейские пользователи очень похожи на американских, единственное существенное отличие, которое стоит выделить: европеец предпочтёт PS4 платформе X360.\n",
    "- Япония: пользователи из этой страны сильно отличаются от игроков из Северной Америки и Европы. Они любят портативные игровые консоли - 3DS и PSV. Также любят и домашние консоли, однако только местного производства (PS3 и PS4). На X360 и XOne от Microsoft японцы не играют. Из жанровых вкусов их выделяет любовь к role-playing, simulation и fighting. Однако пользователи из всех трех регионов любят action. Самый популярный рейтинг игр у японцев - E (почти 35%) и T (около 31%)."
   ]
  },
  {
   "cell_type": "markdown",
   "metadata": {},
   "source": [
    "[К началу](#contents)"
   ]
  },
  {
   "cell_type": "markdown",
   "metadata": {},
   "source": [
    "### <a name=\"5\"> Проверка гипотез </a>"
   ]
  },
  {
   "cell_type": "markdown",
   "metadata": {},
   "source": [
    "#### <a name=\"5.1\"> Средние пользовательские рейтинги платформ Xbox One и PC одинаковые </a>"
   ]
  },
  {
   "cell_type": "markdown",
   "metadata": {},
   "source": [
    "Проверим гипотезу о том, что средние пользовательские рейтинги платформ Xbox One и PC одинаковые. Для начала найдём их значения:"
   ]
  },
  {
   "cell_type": "code",
   "execution_count": 72,
   "metadata": {},
   "outputs": [
    {
     "name": "stdout",
     "output_type": "stream",
     "text": [
      "Средний пользовательский рейтинг платформы Xbox One: 6.521428571428572\n",
      "Средний пользовательский рейтинг платформы PC: 6.4454976303317535\n"
     ]
    }
   ],
   "source": [
    "print('Средний пользовательский рейтинг платформы Xbox One:', df.query('platform == \"XOne\"').user_score.mean())\n",
    "print('Средний пользовательский рейтинг платформы PC:', df.query('platform == \"PC\"').user_score.mean())"
   ]
  },
  {
   "cell_type": "markdown",
   "metadata": {},
   "source": [
    "Оценим, является ли такое различие случайным или оно статистически значимо. Сформулируем нулевую и альтернативную гипотезы:\n",
    "- H0: средние пользовательские рейтинги платформ Xbox One и PC одинаковые, а полученное различие - случайное.\n",
    "- H1: средние пользовательские рейтинги платформ Xbox One и PC отличаются.\n",
    "\n",
    "Составим две выборки: все рейтинги для XOne без пропусков и то же самое для PC:"
   ]
  },
  {
   "cell_type": "code",
   "execution_count": 73,
   "metadata": {},
   "outputs": [],
   "source": [
    "xone_sample = df.query('platform == \"XOne\"').user_score.dropna()\n",
    "pc_sample = df.query('platform == \"PC\"').user_score.dropna()"
   ]
  },
  {
   "cell_type": "markdown",
   "metadata": {},
   "source": [
    "Рассчитаем дисперсии в выборках:"
   ]
  },
  {
   "cell_type": "code",
   "execution_count": 74,
   "metadata": {},
   "outputs": [
    {
     "data": {
      "text/plain": [
       "(1.9069968429360695, 2.747158203565786)"
      ]
     },
     "execution_count": 74,
     "metadata": {},
     "output_type": "execute_result"
    }
   ],
   "source": [
    "var_xone_sample = np.var(xone_sample, ddof=1)\n",
    "var_pc_sample = np.var(pc_sample, ddof=1)\n",
    "var_xone_sample, var_pc_sample"
   ]
  },
  {
   "cell_type": "markdown",
   "metadata": {},
   "source": [
    "Проведём расчёты и найдём p-value. Применим метод ttest_ind, который принимает на вход две выборки, а на выходе мы получим вероятность, что они из одной ГС. Пороговый уровень альфа установим 0,05."
   ]
  },
  {
   "cell_type": "code",
   "execution_count": 75,
   "metadata": {},
   "outputs": [
    {
     "name": "stdout",
     "output_type": "stream",
     "text": [
      "Вероятность совершить ошибку первого рода: 0.6206366351489678\n",
      "Это больше порогового значения альфа 0,05. Недостаточно оснований отклонить нулевую гипотезу.\n"
     ]
    }
   ],
   "source": [
    "results = st.ttest_ind(xone_sample, pc_sample, equal_var=False)\n",
    "# equal_var=False, так как дисперсии двух выборок отличаются достаточно сильно (примерно на 40%). \n",
    "# В связи с этим вместо t-критерия Стьюдента применяем t-критерий Уэлча. \n",
    "print('Вероятность совершить ошибку первого рода:', results.pvalue)\n",
    "if results.pvalue < .5:\n",
    "    print('Это меньше порогового значения альфа 0,05. Отклоняем нулевую гипотезу.')\n",
    "else:\n",
    "    print('Это больше порогового значения альфа 0,05. Недостаточно оснований отклонить нулевую гипотезу.')"
   ]
  },
  {
   "cell_type": "markdown",
   "metadata": {},
   "source": [
    "Это означает, что различие в средних пользовательских рейтингах платформ Xbox One и PC является незначительным или случайным, и у нас недостаточно оснований считать, что пользовательский рейтинг как-то зависит от этих платформ. "
   ]
  },
  {
   "cell_type": "markdown",
   "metadata": {},
   "source": [
    "#### <a name=\"5.2\"> Средние пользовательские рейтинги жанров Action и Sports разные </a>"
   ]
  },
  {
   "cell_type": "markdown",
   "metadata": {},
   "source": [
    "Проверим гипотезу о том, что средние пользовательские рейтинги жанров Action и Sports разные. Для начала найдём их значения:"
   ]
  },
  {
   "cell_type": "code",
   "execution_count": 76,
   "metadata": {},
   "outputs": [
    {
     "name": "stdout",
     "output_type": "stream",
     "text": [
      "Средний пользовательский рейтинг жанра Action: 6.834274952919022\n",
      "Средний пользовательский рейтинг жанра Sports: 5.455897435897437\n"
     ]
    }
   ],
   "source": [
    "print('Средний пользовательский рейтинг жанра Action:', df.query('genre == \"Action\"').user_score.mean())\n",
    "print('Средний пользовательский рейтинг жанра Sports:', df.query('genre == \"Sports\"').user_score.mean())"
   ]
  },
  {
   "cell_type": "markdown",
   "metadata": {},
   "source": [
    "Оценим, является ли такое различие случайным или оно статистически значимо. Сформулируем нулевую и альтернативную гипотезы:\n",
    "- H0: средние пользовательские рейтинги жанров Action и Sports одинаковые, а полученное различие - случайное.\n",
    "- H1: средние пользовательские рейтинги жанров Action и Sports разные.\n",
    "\n",
    "Составим две выборки: все рейтинги жанров Action без пропусков и то же самое для Sports:"
   ]
  },
  {
   "cell_type": "code",
   "execution_count": 77,
   "metadata": {},
   "outputs": [],
   "source": [
    "action_sample = df.query('genre == \"Action\"').user_score.dropna()\n",
    "sports_sample = df.query('genre == \"Sports\"').user_score.dropna()"
   ]
  },
  {
   "cell_type": "markdown",
   "metadata": {},
   "source": [
    "Рассчитаем дисперсии в выборках:"
   ]
  },
  {
   "cell_type": "code",
   "execution_count": 78,
   "metadata": {},
   "outputs": [
    {
     "data": {
      "text/plain": [
       "(1.8819173506733466, 3.022890298704732)"
      ]
     },
     "execution_count": 78,
     "metadata": {},
     "output_type": "execute_result"
    }
   ],
   "source": [
    "var_action_sample = np.var(action_sample, ddof=1)\n",
    "var_sports_sample = np.var(sports_sample, ddof=1)\n",
    "var_action_sample, var_sports_sample"
   ]
  },
  {
   "cell_type": "markdown",
   "metadata": {},
   "source": [
    "Проведём расчёты и найдём p-value. Применим метод ttest_ind, который принимает на вход две выборки, а на выходе мы получим вероятность, что они из одной ГС. Пороговый уровень альфа установим 0,05."
   ]
  },
  {
   "cell_type": "code",
   "execution_count": 79,
   "metadata": {},
   "outputs": [
    {
     "name": "stdout",
     "output_type": "stream",
     "text": [
      "Вероятность совершить ошибку первого рода: 2.337200239591976e-20\n",
      "Это меньше порогового значения альфа 0,05. Отклоняем нулевую гипотезу.\n"
     ]
    }
   ],
   "source": [
    "results = st.ttest_ind(action_sample, sports_sample, equal_var=False)\n",
    "# equal_var=False, так как дисперсии двух выборок отличаются достаточно сильно (примерно на 50%). \n",
    "# В связи с этим вместо t-критерия Стьюдента применяем t-критерий Уэлча. \n",
    "print('Вероятность совершить ошибку первого рода:', results.pvalue)\n",
    "if results.pvalue < .5:\n",
    "    print('Это меньше порогового значения альфа 0,05. Отклоняем нулевую гипотезу.')\n",
    "else:\n",
    "    print('Это больше порогового значения альфа 0,05. Недостаточно оснований отклонить нулевую гипотезу.')"
   ]
  },
  {
   "cell_type": "markdown",
   "metadata": {},
   "source": [
    "Это означает, что различие в средних пользовательских рейтингах жанров Action и Sports является статистически значимым (то есть крайне маловероятно получилось случайно). У нас достаточно оснований считать, что пользовательский рейтинг зависит от этих жанров."
   ]
  },
  {
   "cell_type": "markdown",
   "metadata": {},
   "source": [
    "[К началу](#contents)"
   ]
  },
  {
   "cell_type": "markdown",
   "metadata": {},
   "source": [
    "### <a name=\"6\"> 6. Общий вывод </a>"
   ]
  },
  {
   "cell_type": "markdown",
   "metadata": {},
   "source": [
    "Подведём итоги по результатам исследования. Чтобы обеспечить высокие продажи интернет-магазину «Стримчик» в 2017 году необходимо делать ставку на следующие игры:\n",
    "- <b>с наличием рейтингов от пользователей, критиков и ESRB</b>. Мы выяснили, что среди игр, у которых есть все 3 рейтинга, чаще встречаются популярные, чем среди игр совсем без рейтингов. Поэтому если у игры есть все три рейтинга - это предпосылка к тому, что она должна быть представлена в магазине;\n",
    "- в первую очередь, <b>для платформ PS4 и XOne</b>. Эти консоли имеют наиболее ранние этапы своих жизненных циклов - первые игры для них появились в 2013 году и в продаже пока только 4 года. В 2017 году игры на них будут продаваться наиболее активно. Платформы, которые вышли раньше и были очень популярны - 3DS, PS3 и X360, теряют свою популярность и в 2017 году уже будут не восстребованы;\n",
    "- <b>с высокими рейтингами критиков - от 70 и выше</b>. Есть небольшая положительная взаимосвязь между продажами игр и рейтингами критиков (около 0,4 для PS4 и XOne). Только среди игр с рейтингом выше 70 есть настоящие хиты. Нужно следить за рейтингами критиков и проводить маркетинговые кампании одобренных ими игр;\n",
    "- <b>в жанре action</b>. Это самый популярный жанр как за всё время наблюдений (36 лет), так и за последние 5 лет, причём с большим отрывом от второго места. Предпочтения пользователей стабильны. Кроме того, этот жанр восстребован по всех регионах - в Северной Америке, Европе и Японии. Помимо игр в жанре Action <b>в Северной Америке и Европе следует делать ставку на жанры shooter и sports. В Японии же - на role-playing, simulation и fighting</b>;\n",
    "- <b>в Северной Америке и Европе - на игры для взрослых (с рейтингом M)</b> - там такие любят. Они занимают почти 50% от объёма продаж. <b>В Японии же - делать ставку на игры для всех (с рейтингом E) и для подростков (с рейтингом T)</b> - они занимают 35 и 31% от всех продаж соответственно;\n",
    "- <b>в Северной Америке и Европе - для домашних консолей от Sony и Microsoft</b>. Портативные консоли тут не так непопулярны. <b>В Японии же - наоборот, в первую очередь популярны игры для портативных консолей 3DS и PSV, а также для домашних консолей от Sony (PS3 и PS4)</b>. В игры на X360 и XOne от Microsoft японцы не играют."
   ]
  },
  {
   "cell_type": "markdown",
   "metadata": {},
   "source": [
    "[К началу](#contents)"
   ]
  }
 ],
 "metadata": {
  "kernelspec": {
   "display_name": "Python 3",
   "language": "python",
   "name": "python3"
  },
  "language_info": {
   "codemirror_mode": {
    "name": "ipython",
    "version": 3
   },
   "file_extension": ".py",
   "mimetype": "text/x-python",
   "name": "python",
   "nbconvert_exporter": "python",
   "pygments_lexer": "ipython3",
   "version": "3.9.1"
  }
 },
 "nbformat": 4,
 "nbformat_minor": 2
}
