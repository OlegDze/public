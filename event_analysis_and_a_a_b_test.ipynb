{
 "cells": [
  {
   "cell_type": "markdown",
   "metadata": {},
   "source": [
    "# Событийный анализ и A/A/B-тест в интернет-магазине"
   ]
  },
  {
   "cell_type": "markdown",
   "metadata": {},
   "source": [
    "## Описание проекта"
   ]
  },
  {
   "cell_type": "markdown",
   "metadata": {},
   "source": [
    "По заказу магазина продуктов питания нужно разобраться, как ведут себя пользователи его мобильного приложения. Необходимо изучить воронку продаж: узнать, сколько пользователей доходят до покупки и сколько - «застревает» на предыдущих шагах.\n",
    "\n",
    "Также необходимо изучить результаты A/A/B-эксперимента, в ходе которого в приложении были изменены шрифты. Пользователей разбили на 3 группы: 2 контрольные со старыми шрифтами и одну экспериментальную - с новыми. Нужно выяснить, какой шрифт лучше.\n",
    "\n",
    "Для выполнения проекта предоставлена таблица с логами, которая содержит такие данные: пользователь, номер группы в тесте, событие, дата и время события."
   ]
  },
  {
   "cell_type": "markdown",
   "metadata": {},
   "source": [
    "## <a name=\"0\"> Структура проекта </a>"
   ]
  },
  {
   "cell_type": "markdown",
   "metadata": {},
   "source": [
    "- [Загрузка данных и ознакомление с ними](#1)\n",
    "- [Предобработка данных](#2)\n",
    "- [Изучение и проверка данных](#3)\n",
    "  - [Среднее количество событий на одного пользователя](#3.1)\n",
    "  - [Анализ частоты событий во времени](#3.2)\n",
    "  - [Исключение неполных данных](#3.3)\n",
    "- [Воронка событий](#4)\n",
    "  - [Типы событий и их частота](#4.1)\n",
    "  - [Типы событий и количество пользователей](#4.2)\n",
    "  - [Последовательность событий и конверсии](#4.3)\n",
    "- [Результаты эксперимента](#5)\n",
    "  - [Анализ однородности групп](#5.1)\n",
    "  - [Воронка событий для групп](#5.2)\n",
    "  - [Сравнение контрольных групп](#5.3)\n",
    "  - [Сравнение тестовой группы с контрольными](#5.4)\n",
    "  - [Сравнение тестовой группы с объединённой контрольной группой](#5.5)\n",
    "  - [Сравнение трёх групп с помощью χ2-критерия](#5.6)\n",
    "- [Общие выводы](#6)"
   ]
  },
  {
   "cell_type": "markdown",
   "metadata": {},
   "source": [
    "## <a name=\"1\"> Загрузка данных и ознакомление с ними </a>"
   ]
  },
  {
   "cell_type": "markdown",
   "metadata": {},
   "source": [
    "Загрузим необходимые библиотеки для работы с таблицами, временем, для визуализации данных и проверки гипотез:"
   ]
  },
  {
   "cell_type": "code",
   "execution_count": 1,
   "metadata": {},
   "outputs": [],
   "source": [
    "import pandas as pd\n",
    "import datetime as dt\n",
    "import matplotlib.pyplot as plt \n",
    "import seaborn as sns\n",
    "from statsmodels.stats.proportion import proportions_ztest\n",
    "import scipy.stats as st \n",
    "import warnings\n",
    "warnings.simplefilter('ignore')"
   ]
  },
  {
   "cell_type": "markdown",
   "metadata": {},
   "source": [
    "Загрузим таблицу с данными и посмотрим на неё:"
   ]
  },
  {
   "cell_type": "code",
   "execution_count": 2,
   "metadata": {},
   "outputs": [
    {
     "data": {
      "text/html": [
       "<div>\n",
       "<style scoped>\n",
       "    .dataframe tbody tr th:only-of-type {\n",
       "        vertical-align: middle;\n",
       "    }\n",
       "\n",
       "    .dataframe tbody tr th {\n",
       "        vertical-align: top;\n",
       "    }\n",
       "\n",
       "    .dataframe thead th {\n",
       "        text-align: right;\n",
       "    }\n",
       "</style>\n",
       "<table border=\"1\" class=\"dataframe\">\n",
       "  <thead>\n",
       "    <tr style=\"text-align: right;\">\n",
       "      <th></th>\n",
       "      <th>EventName</th>\n",
       "      <th>DeviceIDHash</th>\n",
       "      <th>EventTimestamp</th>\n",
       "      <th>ExpId</th>\n",
       "    </tr>\n",
       "  </thead>\n",
       "  <tbody>\n",
       "    <tr>\n",
       "      <th>0</th>\n",
       "      <td>MainScreenAppear</td>\n",
       "      <td>4575588528974610257</td>\n",
       "      <td>1564029816</td>\n",
       "      <td>246</td>\n",
       "    </tr>\n",
       "    <tr>\n",
       "      <th>1</th>\n",
       "      <td>MainScreenAppear</td>\n",
       "      <td>7416695313311560658</td>\n",
       "      <td>1564053102</td>\n",
       "      <td>246</td>\n",
       "    </tr>\n",
       "    <tr>\n",
       "      <th>2</th>\n",
       "      <td>PaymentScreenSuccessful</td>\n",
       "      <td>3518123091307005509</td>\n",
       "      <td>1564054127</td>\n",
       "      <td>248</td>\n",
       "    </tr>\n",
       "    <tr>\n",
       "      <th>3</th>\n",
       "      <td>CartScreenAppear</td>\n",
       "      <td>3518123091307005509</td>\n",
       "      <td>1564054127</td>\n",
       "      <td>248</td>\n",
       "    </tr>\n",
       "    <tr>\n",
       "      <th>4</th>\n",
       "      <td>PaymentScreenSuccessful</td>\n",
       "      <td>6217807653094995999</td>\n",
       "      <td>1564055322</td>\n",
       "      <td>248</td>\n",
       "    </tr>\n",
       "  </tbody>\n",
       "</table>\n",
       "</div>"
      ],
      "text/plain": [
       "                 EventName         DeviceIDHash  EventTimestamp  ExpId\n",
       "0         MainScreenAppear  4575588528974610257      1564029816    246\n",
       "1         MainScreenAppear  7416695313311560658      1564053102    246\n",
       "2  PaymentScreenSuccessful  3518123091307005509      1564054127    248\n",
       "3         CartScreenAppear  3518123091307005509      1564054127    248\n",
       "4  PaymentScreenSuccessful  6217807653094995999      1564055322    248"
      ]
     },
     "execution_count": 2,
     "metadata": {},
     "output_type": "execute_result"
    }
   ],
   "source": [
    "df = pd.read_csv('/Users/polzovatel/Desktop/logs_exp.csv', sep='\\t')\n",
    "df.head()"
   ]
  },
  {
   "cell_type": "markdown",
   "metadata": {},
   "source": [
    "Таблица содержит логи действий пользователей, где:\n",
    "- EventName — название события;\n",
    "- DeviceIDHash — уникальный идентификатор пользователя;\n",
    "- EventTimestamp — время события;\n",
    "- ExpId — номер эксперимента: 246 и 247 — контрольные группы, а 248 — экспериментальная."
   ]
  },
  {
   "cell_type": "markdown",
   "metadata": {},
   "source": [
    "Посмотрим на типы данных в столбцах и количество пропусков:"
   ]
  },
  {
   "cell_type": "code",
   "execution_count": 3,
   "metadata": {},
   "outputs": [
    {
     "name": "stdout",
     "output_type": "stream",
     "text": [
      "<class 'pandas.core.frame.DataFrame'>\n",
      "RangeIndex: 244126 entries, 0 to 244125\n",
      "Data columns (total 4 columns):\n",
      " #   Column          Non-Null Count   Dtype \n",
      "---  ------          --------------   ----- \n",
      " 0   EventName       244126 non-null  object\n",
      " 1   DeviceIDHash    244126 non-null  int64 \n",
      " 2   EventTimestamp  244126 non-null  int64 \n",
      " 3   ExpId           244126 non-null  int64 \n",
      "dtypes: int64(3), object(1)\n",
      "memory usage: 7.5+ MB\n"
     ]
    }
   ],
   "source": [
    "df.info()"
   ]
  },
  {
   "cell_type": "markdown",
   "metadata": {},
   "source": [
    "В таблице 244 126 строк, 4 столбца с типами object и int64, пропусков нет. Названия столбцов лучше привести к стилю snake_case, а данные в столбце EventTimestamp - к типу datetime. Сейчас EventTimestamp хранит дату, записанную в формате timestamp - то есть число, равное количеству секунд, прошедших с полуночи 1 января 1970. Для удобства восприятия лучше использовать тип datetime. Сделаем изменения на этапе предобработки данных."
   ]
  },
  {
   "cell_type": "markdown",
   "metadata": {},
   "source": [
    "## <a name=\"2\"> Предобработка данных </a>"
   ]
  },
  {
   "cell_type": "markdown",
   "metadata": {},
   "source": [
    "Приведём названия столбцов к стилю snake_case:"
   ]
  },
  {
   "cell_type": "code",
   "execution_count": 4,
   "metadata": {},
   "outputs": [],
   "source": [
    "df.columns = ['event_name', 'device_id_hash', 'event_timestamp', 'exp_id']"
   ]
  },
  {
   "cell_type": "markdown",
   "metadata": {},
   "source": [
    "Проверим наличие дублей:"
   ]
  },
  {
   "cell_type": "code",
   "execution_count": 5,
   "metadata": {},
   "outputs": [
    {
     "data": {
      "text/plain": [
       "413"
      ]
     },
     "execution_count": 5,
     "metadata": {},
     "output_type": "execute_result"
    }
   ],
   "source": [
    "df.duplicated().sum()"
   ]
  },
  {
   "cell_type": "markdown",
   "metadata": {},
   "source": [
    "413 записей-дублей. Удалим их:"
   ]
  },
  {
   "cell_type": "code",
   "execution_count": 6,
   "metadata": {},
   "outputs": [
    {
     "data": {
      "text/plain": [
       "0"
      ]
     },
     "execution_count": 6,
     "metadata": {},
     "output_type": "execute_result"
    }
   ],
   "source": [
    "df.drop_duplicates(inplace=True)\n",
    "df.duplicated().sum()"
   ]
  },
  {
   "cell_type": "markdown",
   "metadata": {},
   "source": [
    "Дублей не осталось."
   ]
  },
  {
   "cell_type": "markdown",
   "metadata": {},
   "source": [
    "Столбец event_timestamp приведём к типу datetime:"
   ]
  },
  {
   "cell_type": "code",
   "execution_count": 7,
   "metadata": {},
   "outputs": [],
   "source": [
    "df['event_datetime'] = df['event_timestamp'].apply(dt.datetime.utcfromtimestamp)"
   ]
  },
  {
   "cell_type": "markdown",
   "metadata": {},
   "source": [
    "Также создадим столбец с датой события (без времени):"
   ]
  },
  {
   "cell_type": "code",
   "execution_count": 8,
   "metadata": {},
   "outputs": [],
   "source": [
    "df['event_date'] = df['event_datetime'].dt.floor('1D') "
   ]
  },
  {
   "cell_type": "markdown",
   "metadata": {},
   "source": [
    "Проверим, что в таблице названия столбцов поменялись на snake_case, появился столбец event_datetime с датой и временем события и столбец event_date с датой события:"
   ]
  },
  {
   "cell_type": "code",
   "execution_count": 9,
   "metadata": {},
   "outputs": [
    {
     "data": {
      "text/html": [
       "<div>\n",
       "<style scoped>\n",
       "    .dataframe tbody tr th:only-of-type {\n",
       "        vertical-align: middle;\n",
       "    }\n",
       "\n",
       "    .dataframe tbody tr th {\n",
       "        vertical-align: top;\n",
       "    }\n",
       "\n",
       "    .dataframe thead th {\n",
       "        text-align: right;\n",
       "    }\n",
       "</style>\n",
       "<table border=\"1\" class=\"dataframe\">\n",
       "  <thead>\n",
       "    <tr style=\"text-align: right;\">\n",
       "      <th></th>\n",
       "      <th>event_name</th>\n",
       "      <th>device_id_hash</th>\n",
       "      <th>event_timestamp</th>\n",
       "      <th>exp_id</th>\n",
       "      <th>event_datetime</th>\n",
       "      <th>event_date</th>\n",
       "    </tr>\n",
       "  </thead>\n",
       "  <tbody>\n",
       "    <tr>\n",
       "      <th>0</th>\n",
       "      <td>MainScreenAppear</td>\n",
       "      <td>4575588528974610257</td>\n",
       "      <td>1564029816</td>\n",
       "      <td>246</td>\n",
       "      <td>2019-07-25 04:43:36</td>\n",
       "      <td>2019-07-25</td>\n",
       "    </tr>\n",
       "  </tbody>\n",
       "</table>\n",
       "</div>"
      ],
      "text/plain": [
       "         event_name       device_id_hash  event_timestamp  exp_id  \\\n",
       "0  MainScreenAppear  4575588528974610257       1564029816     246   \n",
       "\n",
       "       event_datetime event_date  \n",
       "0 2019-07-25 04:43:36 2019-07-25  "
      ]
     },
     "execution_count": 9,
     "metadata": {},
     "output_type": "execute_result"
    }
   ],
   "source": [
    "df.head(1)"
   ]
  },
  {
   "cell_type": "markdown",
   "metadata": {},
   "source": [
    "Отлично! Всё, что хотели - появилось или изменилось. Теперь с таблицей будет удобнее работать. Можно приступать к изучению данных."
   ]
  },
  {
   "cell_type": "markdown",
   "metadata": {},
   "source": [
    "[В начало](#0)"
   ]
  },
  {
   "cell_type": "markdown",
   "metadata": {},
   "source": [
    "## <a name=\"3\"> Изучение и проверка данных </a>"
   ]
  },
  {
   "cell_type": "markdown",
   "metadata": {},
   "source": [
    "### <a name=\"3.1\"> Среднее количество событий на одного пользователя </a>"
   ]
  },
  {
   "cell_type": "markdown",
   "metadata": {},
   "source": [
    "Посчитаем количество событий, которые хранит таблица. Так как в таблице каждому событию соответствует одна запись, то количество событий равно количеству записей: "
   ]
  },
  {
   "cell_type": "code",
   "execution_count": 10,
   "metadata": {},
   "outputs": [
    {
     "data": {
      "text/plain": [
       "243713"
      ]
     },
     "execution_count": 10,
     "metadata": {},
     "output_type": "execute_result"
    }
   ],
   "source": [
    "events_num = len(df)\n",
    "events_num"
   ]
  },
  {
   "cell_type": "markdown",
   "metadata": {},
   "source": [
    "Посчитаем, сколько всего пользователей:"
   ]
  },
  {
   "cell_type": "code",
   "execution_count": 11,
   "metadata": {},
   "outputs": [
    {
     "data": {
      "text/plain": [
       "7551"
      ]
     },
     "execution_count": 11,
     "metadata": {},
     "output_type": "execute_result"
    }
   ],
   "source": [
    "users_num = df['device_id_hash'].nunique()\n",
    "users_num"
   ]
  },
  {
   "cell_type": "markdown",
   "metadata": {},
   "source": [
    "Теперь посчитаем, сколько в среднем событий приходится на пользователя:"
   ]
  },
  {
   "cell_type": "code",
   "execution_count": 12,
   "metadata": {},
   "outputs": [
    {
     "data": {
      "text/plain": [
       "32.27559263673685"
      ]
     },
     "execution_count": 12,
     "metadata": {},
     "output_type": "execute_result"
    }
   ],
   "source": [
    "avg_events_per_user = events_num / users_num\n",
    "avg_events_per_user"
   ]
  },
  {
   "cell_type": "markdown",
   "metadata": {},
   "source": [
    "В среднем каждый из 7551 пользователя совершает чуть больше 32 действий."
   ]
  },
  {
   "cell_type": "markdown",
   "metadata": {},
   "source": [
    "Построим гистограмму распределения событий по пользователям. Посмотрим, насколько среднее значение подходит для описания этого распределения.\n",
    "\n",
    "Напишем функцию, которая строит гистограмму (она нам еще пригодятся в проекте) и выведем график:"
   ]
  },
  {
   "cell_type": "code",
   "execution_count": 13,
   "metadata": {},
   "outputs": [],
   "source": [
    "def hist(column):\n",
    "    plt.figure(figsize=(12, 3))\n",
    "    plt.hist(column, bins=200, alpha=.7)\n",
    "    plt.title(title)\n",
    "    plt.xlabel(xlabel)\n",
    "    plt.ylabel(ylabel) \n",
    "    plt.xticks(rotation=-30)\n",
    "    plt.show()"
   ]
  },
  {
   "cell_type": "code",
   "execution_count": 14,
   "metadata": {},
   "outputs": [
    {
     "data": {
      "image/png": "[encoded data removed]",
      "text/plain": [
       "<Figure size 864x216 with 1 Axes>"
      ]
     },
     "metadata": {
      "needs_background": "light"
     },
     "output_type": "display_data"
    }
   ],
   "source": [
    "title = \"Распределение событий по пользователям\"\n",
    "xlabel = \"Количество событий у пользователя\"\n",
    "ylabel = \"Количество пользователей\"\n",
    "hist(df.groupby('device_id_hash')['event_timestamp'].count())"
   ]
  },
  {
   "cell_type": "markdown",
   "metadata": {},
   "source": [
    "Распределение сильно сплющено у нуля из-за выбросов - пользователей с количеством событий около 2000. Среднее - не лучшая мера центральной тенденции для описания такого распределения. Построим боксплот, на нём можно увидеть медиану:"
   ]
  },
  {
   "cell_type": "code",
   "execution_count": 15,
   "metadata": {},
   "outputs": [
    {
     "data": {
      "image/png": "[encoded data removed]",
      "text/plain": [
       "<Figure size 864x216 with 1 Axes>"
      ]
     },
     "metadata": {
      "needs_background": "light"
     },
     "output_type": "display_data"
    }
   ],
   "source": [
    "plt.figure(figsize=(12, 3))\n",
    "plt.boxplot(df.groupby('device_id_hash')['event_timestamp'].count())\n",
    "plt.title(\"Распределение событий по пользователям (диапазон 0-50 событий)\")\n",
    "plt.ylabel(\"Количество событий у пользователя\")\n",
    "plt.ylim(0, 50)\n",
    "plt.show()"
   ]
  },
  {
   "cell_type": "markdown",
   "metadata": {},
   "source": [
    "Для описания распределения больше подойдёт медиана, а она равна 20 событиям на одного пользователя."
   ]
  },
  {
   "cell_type": "markdown",
   "metadata": {},
   "source": [
    "### <a name=\"3.2\"> Анализ частоты событий во времени </a>"
   ]
  },
  {
   "cell_type": "markdown",
   "metadata": {},
   "source": [
    "Определим, данными за какой период мы располагаем:"
   ]
  },
  {
   "cell_type": "code",
   "execution_count": 16,
   "metadata": {},
   "outputs": [
    {
     "data": {
      "text/plain": [
       "count                  243713\n",
       "unique                 176654\n",
       "top       2019-08-01 14:40:35\n",
       "freq                        9\n",
       "first     2019-07-25 04:43:36\n",
       "last      2019-08-07 21:15:17\n",
       "Name: event_datetime, dtype: object"
      ]
     },
     "execution_count": 16,
     "metadata": {},
     "output_type": "execute_result"
    }
   ],
   "source": [
    "df['event_datetime'].describe()"
   ]
  },
  {
   "cell_type": "markdown",
   "metadata": {},
   "source": [
    "Самая ранняя дата - 25 июля 2019, самая поздняя - 7 августа 2019. У нас данные за 14 дней:"
   ]
  },
  {
   "cell_type": "markdown",
   "metadata": {},
   "source": [
    "![](http://dl3.joxi.net/drive/2021/03/24/0046/2540/3033580/80/9bfd3a103e.jpg)"
   ]
  },
  {
   "cell_type": "markdown",
   "metadata": {},
   "source": [
    "Теперь посмотрим, как записи распределены по этим 14 дням - равномерно или нет:"
   ]
  },
  {
   "cell_type": "code",
   "execution_count": 17,
   "metadata": {},
   "outputs": [
    {
     "data": {
      "image/png": "[encoded data removed]",
      "text/plain": [
       "<Figure size 864x216 with 1 Axes>"
      ]
     },
     "metadata": {
      "needs_background": "light"
     },
     "output_type": "display_data"
    }
   ],
   "source": [
    "title = \"Распределение событий по дате и времени в период с 25 июля по 7 августа 2019 года\"\n",
    "xlabel = \"Дата\"\n",
    "ylabel = \"Количество событий\"\n",
    "hist(df['event_datetime'])"
   ]
  },
  {
   "cell_type": "markdown",
   "metadata": {},
   "source": [
    "На гистограмме видно, что:\n",
    "- событий практически не было в период с 25 июля по 1 августа;\n",
    "- есть 7 пиков в период с 1 по 7 августа - один пик на один день. Видно, что провалы между пиками приходятся на переходы между датами по оси x, то есть являются ночным временем. Это логично - большинство пользователей в это время спит и поэтому происходит меньше событий."
   ]
  },
  {
   "cell_type": "markdown",
   "metadata": {},
   "source": [
    "### <a name=\"3.3\"> Исключение неполных данных </a>"
   ]
  },
  {
   "cell_type": "markdown",
   "metadata": {},
   "source": [
    "Так как до 1 августа событий практически не было, то мы не будем рассматривать этот период. Рассмотрим только период, когда пользователи были активны - с 1 по 7 августа."
   ]
  },
  {
   "cell_type": "markdown",
   "metadata": {},
   "source": [
    "Посчитаем, сколько событий и пользователей мы потеряем при отсечении данных до 1 августа. Сначала посчитаем отсечённые события, то есть все событий, которые произошли ранее, чем 1 августа:"
   ]
  },
  {
   "cell_type": "code",
   "execution_count": 18,
   "metadata": {},
   "outputs": [
    {
     "data": {
      "text/plain": [
       "2826"
      ]
     },
     "execution_count": 18,
     "metadata": {},
     "output_type": "execute_result"
    }
   ],
   "source": [
    "events_cut_num = len(df[df['event_date'] < '2019-08-01'])\n",
    "events_cut_num"
   ]
  },
  {
   "cell_type": "markdown",
   "metadata": {},
   "source": [
    "Доля таких событий:"
   ]
  },
  {
   "cell_type": "code",
   "execution_count": 19,
   "metadata": {},
   "outputs": [
    {
     "data": {
      "text/plain": [
       "0.011595606307418972"
      ]
     },
     "execution_count": 19,
     "metadata": {},
     "output_type": "execute_result"
    }
   ],
   "source": [
    "events_cut_num / events_num"
   ]
  },
  {
   "cell_type": "markdown",
   "metadata": {},
   "source": [
    "То есть мы отсекаем 2826 событий или 1,2% данных - не так уж и много. "
   ]
  },
  {
   "cell_type": "markdown",
   "metadata": {},
   "source": [
    "Теперь определим количество отсечённых пользователей. В данном случае мы не можем просто посчитать количество пользователей, у которых были события до 1 августа, так как у некоторых из них могут быть события и после 1 августа (включительно). То есть не все из этих пользователей будут отсечены. Правильно сначала посчитать количество пользователей, у которых есть события после 1 августа (включительно). И затем из общего количества пользователей вычесть посчитанное значение. Проведём эти расчёты."
   ]
  },
  {
   "cell_type": "markdown",
   "metadata": {},
   "source": [
    "Количество пользователей, у которых есть события после 1 августа (включительно):"
   ]
  },
  {
   "cell_type": "code",
   "execution_count": 20,
   "metadata": {},
   "outputs": [
    {
     "data": {
      "text/plain": [
       "7534"
      ]
     },
     "execution_count": 20,
     "metadata": {},
     "output_type": "execute_result"
    }
   ],
   "source": [
    "users_uncut_num = df[df['event_date'] >= '2019-08-01']['device_id_hash'].nunique()\n",
    "users_uncut_num"
   ]
  },
  {
   "cell_type": "markdown",
   "metadata": {},
   "source": [
    "Тогда количество пользователей, которых мы отсекаем при изучении периода с 1 по 7 августа:"
   ]
  },
  {
   "cell_type": "code",
   "execution_count": 21,
   "metadata": {},
   "outputs": [
    {
     "data": {
      "text/plain": [
       "17"
      ]
     },
     "execution_count": 21,
     "metadata": {},
     "output_type": "execute_result"
    }
   ],
   "source": [
    "users_cut_num = users_num - users_uncut_num\n",
    "users_cut_num"
   ]
  },
  {
   "cell_type": "markdown",
   "metadata": {},
   "source": [
    "Доля отсечённых пользователей:"
   ]
  },
  {
   "cell_type": "code",
   "execution_count": 22,
   "metadata": {},
   "outputs": [
    {
     "data": {
      "text/plain": [
       "0.0022513574361011784"
      ]
     },
     "execution_count": 22,
     "metadata": {},
     "output_type": "execute_result"
    }
   ],
   "source": [
    "users_cut_num / users_num"
   ]
  },
  {
   "cell_type": "markdown",
   "metadata": {},
   "source": [
    "Таким образом, мы отсекаем 17 пользователей или 0,2% пользователей. При этом 7534 из 7551 пользователей были активны в период с 1 по 7 августа."
   ]
  },
  {
   "cell_type": "markdown",
   "metadata": {},
   "source": [
    "Количество отсечённых событий и пользователей оказалось небольшим, поэтому можем смело работать с новой таблицей с записями с 1 по 7 августа. Создадим такую таблицу и проверим, что данные в ней находятся в указанном промежутке:"
   ]
  },
  {
   "cell_type": "code",
   "execution_count": 23,
   "metadata": {},
   "outputs": [
    {
     "data": {
      "text/plain": [
       "count                  240887\n",
       "unique                 174044\n",
       "top       2019-08-04 16:23:19\n",
       "freq                        9\n",
       "first     2019-08-01 00:07:28\n",
       "last      2019-08-07 21:15:17\n",
       "Name: event_datetime, dtype: object"
      ]
     },
     "execution_count": 23,
     "metadata": {},
     "output_type": "execute_result"
    }
   ],
   "source": [
    "df_filt = df[df['event_date'] >= '2019-08-01']\n",
    "df_filt['event_datetime'].describe()"
   ]
  },
  {
   "cell_type": "markdown",
   "metadata": {},
   "source": [
    "Проверим, что остались пользователи из всех трёх экспериментальных групп:"
   ]
  },
  {
   "cell_type": "code",
   "execution_count": 24,
   "metadata": {},
   "outputs": [
    {
     "data": {
      "text/plain": [
       "array([246, 247, 248])"
      ]
     },
     "execution_count": 24,
     "metadata": {},
     "output_type": "execute_result"
    }
   ],
   "source": [
    "df_filt['exp_id'].unique()"
   ]
  },
  {
   "cell_type": "markdown",
   "metadata": {},
   "source": [
    "[В начало](#0)"
   ]
  },
  {
   "cell_type": "markdown",
   "metadata": {},
   "source": [
    "## <a name=\"4\"> Воронка событий </a>"
   ]
  },
  {
   "cell_type": "markdown",
   "metadata": {},
   "source": [
    "### <a name=\"4.1\"> Типы событий и их частота </a>"
   ]
  },
  {
   "cell_type": "markdown",
   "metadata": {},
   "source": [
    "Посмотрим, какие события есть в логах и как часто они встречаются:"
   ]
  },
  {
   "cell_type": "code",
   "execution_count": 25,
   "metadata": {},
   "outputs": [
    {
     "data": {
      "text/plain": [
       "MainScreenAppear           117328\n",
       "OffersScreenAppear          46333\n",
       "CartScreenAppear            42303\n",
       "PaymentScreenSuccessful     33918\n",
       "Tutorial                     1005\n",
       "Name: event_name, dtype: int64"
      ]
     },
     "execution_count": 25,
     "metadata": {},
     "output_type": "execute_result"
    }
   ],
   "source": [
    "df_filt['event_name'].value_counts()"
   ]
  },
  {
   "cell_type": "markdown",
   "metadata": {},
   "source": [
    "Всего 5 типов событий, можно предположить, что они означают следующее:\n",
    "- MainScreenAppear - открытие главной страницы;\n",
    "- OffersScreenAppear - открытие страницы с предложениями;\n",
    "- CartScreenAppear - открытие страницы, где заполняются данные платёжной карты;\n",
    "- PaymentScreenSuccessful - открытие страницы об успешной оплате;\n",
    "- Tutorial - открытие страницы с дополнительной информацией о приложении."
   ]
  },
  {
   "cell_type": "markdown",
   "metadata": {},
   "source": [
    "Построим диаграмму, чтобы вызуально сравнить частоту событий между собой:"
   ]
  },
  {
   "cell_type": "code",
   "execution_count": 26,
   "metadata": {},
   "outputs": [
    {
     "data": {
      "image/png": "[encoded data removed]",
      "text/plain": [
       "<Figure size 720x216 with 1 Axes>"
      ]
     },
     "metadata": {
      "needs_background": "light"
     },
     "output_type": "display_data"
    }
   ],
   "source": [
    "events_per_event_names = df_filt['event_name'].value_counts().reset_index()\n",
    "events_per_event_names.columns = ['event_name', 'events']\n",
    "events_per_event_names.plot(x='event_name',  y='events', kind='barh', figsize=(10, 3), legend=False)\n",
    "plt.title(\"Количество событий в период с 1 по 7 августа 2019 года\")\n",
    "plt.xlabel(\"Количество событий\")\n",
    "plt.ylabel(\"Событие\") \n",
    "plt.show()"
   ]
  },
  {
   "cell_type": "markdown",
   "metadata": {},
   "source": [
    "Главная страница открывалась почти 120 000 раз, но страница с предложениями - менее 50 000 раз. Сильное падение, учитывая, что основное предназначение приложения - заказ товаров. Зафиксируем эту проблему и вернёмся к ней чуть позже.\n",
    "\n",
    "Страницу Tutorial посетили совсем немного раз в сравнении с другими страницами - около 1000. Скорее всего ей пользуются только те посетители, которые столкнулись с проблемой в работе приложения или хотят узнать дополнительную информацию. "
   ]
  },
  {
   "cell_type": "markdown",
   "metadata": {},
   "source": [
    "### <a name=\"4.2\"> Типы событий и количество пользователей </a>"
   ]
  },
  {
   "cell_type": "markdown",
   "metadata": {},
   "source": [
    "Посчитаем, сколько пользователей совершали каждое из пяти событий. Для этого сгруппируем таблицу df_filt по событиям и посчитаем для каждого события количество уникальных пользователей:"
   ]
  },
  {
   "cell_type": "code",
   "execution_count": 27,
   "metadata": {},
   "outputs": [
    {
     "data": {
      "text/html": [
       "<div>\n",
       "<style scoped>\n",
       "    .dataframe tbody tr th:only-of-type {\n",
       "        vertical-align: middle;\n",
       "    }\n",
       "\n",
       "    .dataframe tbody tr th {\n",
       "        vertical-align: top;\n",
       "    }\n",
       "\n",
       "    .dataframe thead th {\n",
       "        text-align: right;\n",
       "    }\n",
       "</style>\n",
       "<table border=\"1\" class=\"dataframe\">\n",
       "  <thead>\n",
       "    <tr style=\"text-align: right;\">\n",
       "      <th></th>\n",
       "      <th>event_name</th>\n",
       "      <th>users</th>\n",
       "    </tr>\n",
       "  </thead>\n",
       "  <tbody>\n",
       "    <tr>\n",
       "      <th>1</th>\n",
       "      <td>MainScreenAppear</td>\n",
       "      <td>7419</td>\n",
       "    </tr>\n",
       "    <tr>\n",
       "      <th>2</th>\n",
       "      <td>OffersScreenAppear</td>\n",
       "      <td>4593</td>\n",
       "    </tr>\n",
       "    <tr>\n",
       "      <th>0</th>\n",
       "      <td>CartScreenAppear</td>\n",
       "      <td>3734</td>\n",
       "    </tr>\n",
       "    <tr>\n",
       "      <th>3</th>\n",
       "      <td>PaymentScreenSuccessful</td>\n",
       "      <td>3539</td>\n",
       "    </tr>\n",
       "    <tr>\n",
       "      <th>4</th>\n",
       "      <td>Tutorial</td>\n",
       "      <td>840</td>\n",
       "    </tr>\n",
       "  </tbody>\n",
       "</table>\n",
       "</div>"
      ],
      "text/plain": [
       "                event_name  users\n",
       "1         MainScreenAppear   7419\n",
       "2       OffersScreenAppear   4593\n",
       "0         CartScreenAppear   3734\n",
       "3  PaymentScreenSuccessful   3539\n",
       "4                 Tutorial    840"
      ]
     },
     "execution_count": 27,
     "metadata": {},
     "output_type": "execute_result"
    }
   ],
   "source": [
    "users_per_event_names = df_filt.groupby('event_name')['device_id_hash'].nunique().reset_index()\\\n",
    "                               .sort_values('device_id_hash', ascending=False)\n",
    "users_per_event_names.columns = ['event_name', 'users']\n",
    "users_per_event_names"
   ]
  },
  {
   "cell_type": "markdown",
   "metadata": {},
   "source": [
    "Посчитаем долю пользователей, которые хоть раз совершали событие. Для этого поделим количество пользователей для каждого события на общее количество пользователей в период с 1 по 7 августа (значение хранит переменная users_uncut_num):"
   ]
  },
  {
   "cell_type": "code",
   "execution_count": 28,
   "metadata": {},
   "outputs": [
    {
     "data": {
      "text/html": [
       "<div>\n",
       "<style scoped>\n",
       "    .dataframe tbody tr th:only-of-type {\n",
       "        vertical-align: middle;\n",
       "    }\n",
       "\n",
       "    .dataframe tbody tr th {\n",
       "        vertical-align: top;\n",
       "    }\n",
       "\n",
       "    .dataframe thead th {\n",
       "        text-align: right;\n",
       "    }\n",
       "</style>\n",
       "<table border=\"1\" class=\"dataframe\">\n",
       "  <thead>\n",
       "    <tr style=\"text-align: right;\">\n",
       "      <th></th>\n",
       "      <th>event_name</th>\n",
       "      <th>users</th>\n",
       "      <th>share_of_total_users</th>\n",
       "    </tr>\n",
       "  </thead>\n",
       "  <tbody>\n",
       "    <tr>\n",
       "      <th>0</th>\n",
       "      <td>MainScreenAppear</td>\n",
       "      <td>7419</td>\n",
       "      <td>0.985</td>\n",
       "    </tr>\n",
       "    <tr>\n",
       "      <th>1</th>\n",
       "      <td>OffersScreenAppear</td>\n",
       "      <td>4593</td>\n",
       "      <td>0.610</td>\n",
       "    </tr>\n",
       "    <tr>\n",
       "      <th>2</th>\n",
       "      <td>CartScreenAppear</td>\n",
       "      <td>3734</td>\n",
       "      <td>0.496</td>\n",
       "    </tr>\n",
       "    <tr>\n",
       "      <th>3</th>\n",
       "      <td>PaymentScreenSuccessful</td>\n",
       "      <td>3539</td>\n",
       "      <td>0.470</td>\n",
       "    </tr>\n",
       "    <tr>\n",
       "      <th>4</th>\n",
       "      <td>Tutorial</td>\n",
       "      <td>840</td>\n",
       "      <td>0.111</td>\n",
       "    </tr>\n",
       "  </tbody>\n",
       "</table>\n",
       "</div>"
      ],
      "text/plain": [
       "                event_name  users  share_of_total_users\n",
       "0         MainScreenAppear   7419                 0.985\n",
       "1       OffersScreenAppear   4593                 0.610\n",
       "2         CartScreenAppear   3734                 0.496\n",
       "3  PaymentScreenSuccessful   3539                 0.470\n",
       "4                 Tutorial    840                 0.111"
      ]
     },
     "execution_count": 28,
     "metadata": {},
     "output_type": "execute_result"
    }
   ],
   "source": [
    "users_per_event_names['share_of_total_users'] = round(users_per_event_names['users'] / users_uncut_num, 3)\n",
    "users_per_event_names = users_per_event_names.sort_values('users', ascending=False)\\\n",
    "                                             .reset_index(drop=True)\n",
    "users_per_event_names"
   ]
  },
  {
   "cell_type": "markdown",
   "metadata": {},
   "source": [
    "Получается, что на главную страницу зашли почти все пользователи (событие MainScreenAppear). А на страницу с дополнительной информацией (событие Tutorial) зашли только 11% пользователей."
   ]
  },
  {
   "cell_type": "markdown",
   "metadata": {},
   "source": [
    "### <a name=\"4.3\"> Последовательность событий и конверсии </a>"
   ]
  },
  {
   "cell_type": "markdown",
   "metadata": {},
   "source": [
    "События по количеству пользователей расставлены в той же последовательности, что и события по частоте встречаемости. И по цифрам и по логике названий события выстраиваются в такую воронку:\n",
    "- MainScreenAppear - посетил главную страницу;\n",
    "- OffersScreenAppear - посмотрел предложения;\n",
    "- CartScreenAppear - открыл форму оплаты;\n",
    "- PaymentScreenSuccessful - оплата прошла.\n",
    "\n",
    "Причём событие Tutorial можно исключить из воронки событий, так как оно может произойти на любом из этапов воронки. "
   ]
  },
  {
   "cell_type": "code",
   "execution_count": 29,
   "metadata": {},
   "outputs": [
    {
     "data": {
      "text/html": [
       "<div>\n",
       "<style scoped>\n",
       "    .dataframe tbody tr th:only-of-type {\n",
       "        vertical-align: middle;\n",
       "    }\n",
       "\n",
       "    .dataframe tbody tr th {\n",
       "        vertical-align: top;\n",
       "    }\n",
       "\n",
       "    .dataframe thead th {\n",
       "        text-align: right;\n",
       "    }\n",
       "</style>\n",
       "<table border=\"1\" class=\"dataframe\">\n",
       "  <thead>\n",
       "    <tr style=\"text-align: right;\">\n",
       "      <th></th>\n",
       "      <th>event_name</th>\n",
       "      <th>users</th>\n",
       "      <th>share_of_total_users</th>\n",
       "    </tr>\n",
       "  </thead>\n",
       "  <tbody>\n",
       "    <tr>\n",
       "      <th>0</th>\n",
       "      <td>MainScreenAppear</td>\n",
       "      <td>7419</td>\n",
       "      <td>0.985</td>\n",
       "    </tr>\n",
       "    <tr>\n",
       "      <th>1</th>\n",
       "      <td>OffersScreenAppear</td>\n",
       "      <td>4593</td>\n",
       "      <td>0.610</td>\n",
       "    </tr>\n",
       "    <tr>\n",
       "      <th>2</th>\n",
       "      <td>CartScreenAppear</td>\n",
       "      <td>3734</td>\n",
       "      <td>0.496</td>\n",
       "    </tr>\n",
       "    <tr>\n",
       "      <th>3</th>\n",
       "      <td>PaymentScreenSuccessful</td>\n",
       "      <td>3539</td>\n",
       "      <td>0.470</td>\n",
       "    </tr>\n",
       "  </tbody>\n",
       "</table>\n",
       "</div>"
      ],
      "text/plain": [
       "                event_name  users  share_of_total_users\n",
       "0         MainScreenAppear   7419                 0.985\n",
       "1       OffersScreenAppear   4593                 0.610\n",
       "2         CartScreenAppear   3734                 0.496\n",
       "3  PaymentScreenSuccessful   3539                 0.470"
      ]
     },
     "execution_count": 29,
     "metadata": {},
     "output_type": "execute_result"
    }
   ],
   "source": [
    "users_per_event_names = users_per_event_names.drop(4)\n",
    "users_per_event_names"
   ]
  },
  {
   "cell_type": "markdown",
   "metadata": {},
   "source": [
    "Посчитаем, какая доля пользователей проходит на следующий шаг воронки (от числа пользователей на предыдущем). Для этого напишем цикл, который рассчитает конверсию каждого шага и наполнит ими список. Далее этот список мы добавим в таблицу как новую колонку."
   ]
  },
  {
   "cell_type": "code",
   "execution_count": 30,
   "metadata": {},
   "outputs": [],
   "source": [
    "cr = [1]\n",
    "for i in range(3):\n",
    "    cr.append(round(users_per_event_names.loc[i+1, 'users'] / users_per_event_names.loc[i, 'users'], 3))"
   ]
  },
  {
   "cell_type": "markdown",
   "metadata": {},
   "source": [
    "У нас получились такие конверсии:"
   ]
  },
  {
   "cell_type": "code",
   "execution_count": 31,
   "metadata": {},
   "outputs": [
    {
     "data": {
      "text/plain": [
       "[1, 0.619, 0.813, 0.948]"
      ]
     },
     "execution_count": 31,
     "metadata": {},
     "output_type": "execute_result"
    }
   ],
   "source": [
    "cr"
   ]
  },
  {
   "cell_type": "markdown",
   "metadata": {},
   "source": [
    "Добавим их в таблицу:"
   ]
  },
  {
   "cell_type": "code",
   "execution_count": 32,
   "metadata": {},
   "outputs": [
    {
     "data": {
      "text/html": [
       "<div>\n",
       "<style scoped>\n",
       "    .dataframe tbody tr th:only-of-type {\n",
       "        vertical-align: middle;\n",
       "    }\n",
       "\n",
       "    .dataframe tbody tr th {\n",
       "        vertical-align: top;\n",
       "    }\n",
       "\n",
       "    .dataframe thead th {\n",
       "        text-align: right;\n",
       "    }\n",
       "</style>\n",
       "<table border=\"1\" class=\"dataframe\">\n",
       "  <thead>\n",
       "    <tr style=\"text-align: right;\">\n",
       "      <th></th>\n",
       "      <th>event_name</th>\n",
       "      <th>users</th>\n",
       "      <th>share_of_total_users</th>\n",
       "      <th>cr</th>\n",
       "    </tr>\n",
       "  </thead>\n",
       "  <tbody>\n",
       "    <tr>\n",
       "      <th>0</th>\n",
       "      <td>MainScreenAppear</td>\n",
       "      <td>7419</td>\n",
       "      <td>0.985</td>\n",
       "      <td>1.000</td>\n",
       "    </tr>\n",
       "    <tr>\n",
       "      <th>1</th>\n",
       "      <td>OffersScreenAppear</td>\n",
       "      <td>4593</td>\n",
       "      <td>0.610</td>\n",
       "      <td>0.619</td>\n",
       "    </tr>\n",
       "    <tr>\n",
       "      <th>2</th>\n",
       "      <td>CartScreenAppear</td>\n",
       "      <td>3734</td>\n",
       "      <td>0.496</td>\n",
       "      <td>0.813</td>\n",
       "    </tr>\n",
       "    <tr>\n",
       "      <th>3</th>\n",
       "      <td>PaymentScreenSuccessful</td>\n",
       "      <td>3539</td>\n",
       "      <td>0.470</td>\n",
       "      <td>0.948</td>\n",
       "    </tr>\n",
       "  </tbody>\n",
       "</table>\n",
       "</div>"
      ],
      "text/plain": [
       "                event_name  users  share_of_total_users     cr\n",
       "0         MainScreenAppear   7419                 0.985  1.000\n",
       "1       OffersScreenAppear   4593                 0.610  0.619\n",
       "2         CartScreenAppear   3734                 0.496  0.813\n",
       "3  PaymentScreenSuccessful   3539                 0.470  0.948"
      ]
     },
     "execution_count": 32,
     "metadata": {},
     "output_type": "execute_result"
    }
   ],
   "source": [
    "users_per_event_names['cr'] = cr\n",
    "users_per_event_names"
   ]
  },
  {
   "cell_type": "markdown",
   "metadata": {},
   "source": [
    "Чтобы визуально оценить конверсию каждого шага и конверсии с шага на шаг, построим диаграммы. Напишем функцию и выведем графики:"
   ]
  },
  {
   "cell_type": "code",
   "execution_count": 33,
   "metadata": {},
   "outputs": [],
   "source": [
    "def barplot(data, x, y, title, xlabel, ylabel, legend):\n",
    "    data.plot(x=x, y=y, kind='bar', figsize=(10, 3), alpha=.7, legend=legend)\n",
    "    plt.title(title)\n",
    "    plt.xlabel(xlabel)\n",
    "    plt.ylabel(ylabel) \n",
    "    plt.xticks(rotation=0)\n",
    "    plt.show()"
   ]
  },
  {
   "cell_type": "code",
   "execution_count": 34,
   "metadata": {},
   "outputs": [
    {
     "data": {
      "image/png": "[encoded data removed]",
      "text/plain": [
       "<Figure size 720x216 with 1 Axes>"
      ]
     },
     "metadata": {
      "needs_background": "light"
     },
     "output_type": "display_data"
    }
   ],
   "source": [
    "title = \"Конверсия к общему числу пользователей в период с 1 по 7 августа 2019 года\"\n",
    "xlabel = \"Шаг конверсии\"\n",
    "ylabel = \"Конверсия к общему \\n числу пользователей\"\n",
    "barplot(users_per_event_names, 'event_name', 'share_of_total_users', title, xlabel, ylabel, False)"
   ]
  },
  {
   "cell_type": "code",
   "execution_count": 35,
   "metadata": {},
   "outputs": [
    {
     "data": {
      "image/png": "[encoded data removed]",
      "text/plain": [
       "<Figure size 720x216 with 1 Axes>"
      ]
     },
     "metadata": {
      "needs_background": "light"
     },
     "output_type": "display_data"
    }
   ],
   "source": [
    "title = \"Конверсия пользователей к предыдущему шагу в период с 1 по 7 августа 2019 года\"\n",
    "xlabel = \"Шаг конверсии\"\n",
    "ylabel = \"Конверсия к предыдущему шага\"\n",
    "barplot(users_per_event_names, 'event_name', 'cr', title, xlabel, ylabel, False)"
   ]
  },
  {
   "cell_type": "markdown",
   "metadata": {},
   "source": [
    "На втором графике и из таблицы users_per_event_names видно, что только 62% от количества пользователей, зашедших на главную страницу, попадают на страницу с предложениями. 38% мы теряем сразу на первом шаге - пользователи открывают приложение и даже не доходят до товаров. Скорее всего есть проблема с главной страницей: возможно, что недостаточно ясно, как перейти в раздел с товарами, или кнопка работает не на всех устройствах. На это надо обратить внимание разработчиков и тестировщиков.\n",
    "\n",
    "Из тех, кто посмотрел товары, на страницу оплаты попадают 81%: 4 из 5 пользователей находят нужный им товар. Из тех, кто попал на страницу оплаты, удачно оплачивают 95%. Возможно, оставшиеся 5% передумывают в последний момент или временно откладывают покупку. Это кажется нормальным и цифра не такая большая.\n",
    "\n",
    "На первом графике видно, что от первого события до последнего доходит примерно 47% - каждый второй посетитель совершает покупку. Если устранить проблему с переходом на страницу предложений, то конверсия посетителей в сделки возрастёт еще сильнее."
   ]
  },
  {
   "cell_type": "markdown",
   "metadata": {},
   "source": [
    "[В начало](#0)"
   ]
  },
  {
   "cell_type": "markdown",
   "metadata": {},
   "source": [
    "## <a name=\"5\"> Результаты эксперимента </a>"
   ]
  },
  {
   "cell_type": "markdown",
   "metadata": {},
   "source": [
    "### <a name=\"5.1\"> Анализ однородности групп </a>"
   ]
  },
  {
   "cell_type": "markdown",
   "metadata": {},
   "source": [
    "Теперь изучим результаты A/A/B-эксперимента. Для начала посчитаем, сколько пользователей в каждой экспериментальной группе:"
   ]
  },
  {
   "cell_type": "code",
   "execution_count": 36,
   "metadata": {},
   "outputs": [
    {
     "data": {
      "text/plain": [
       "exp_id\n",
       "246    2484\n",
       "247    2513\n",
       "248    2537\n",
       "Name: device_id_hash, dtype: int64"
      ]
     },
     "execution_count": 36,
     "metadata": {},
     "output_type": "execute_result"
    }
   ],
   "source": [
    "users_per_groups = df_filt.groupby('exp_id')['device_id_hash'].nunique()\n",
    "users_per_groups"
   ]
  },
  {
   "cell_type": "markdown",
   "metadata": {},
   "source": [
    "Группы наполнены поровну, примерно по 2,5 тыс. пользователей в каждой. Необходимо также проверить, что события в группах совершались однородно в течение времени, чтобы не получилось так, что в одной группе оказались пользователи, которые совершают действия ночью или в выходные дни, а в другой группе - днём или в будние. Для этого построим распределение событий по времени для каждой группы:"
   ]
  },
  {
   "cell_type": "code",
   "execution_count": 37,
   "metadata": {},
   "outputs": [
    {
     "data": {
      "image/png": "[encoded data removed]",
      "text/plain": [
       "<Figure size 864x216 with 1 Axes>"
      ]
     },
     "metadata": {
      "needs_background": "light"
     },
     "output_type": "display_data"
    },
    {
     "data": {
      "image/png": "[encoded data removed]",
      "text/plain": [
       "<Figure size 864x216 with 1 Axes>"
      ]
     },
     "metadata": {
      "needs_background": "light"
     },
     "output_type": "display_data"
    },
    {
     "data": {
      "image/png": "[encoded data removed]",
      "text/plain": [
       "<Figure size 864x216 with 1 Axes>"
      ]
     },
     "metadata": {
      "needs_background": "light"
     },
     "output_type": "display_data"
    }
   ],
   "source": [
    "for i in [246, 247, 248]:\n",
    "    title = f\"Распределение событий для группы {i} в период с 1 по 7 августа 2019 года\"\n",
    "    xlabel = \"Дата\"\n",
    "    ylabel = \"Количество событий\"\n",
    "    hist(df_filt[df_filt['exp_id'] == i]['event_datetime'])"
   ]
  },
  {
   "cell_type": "markdown",
   "metadata": {},
   "source": [
    "Видно, что пользователи во всех группах имеют похожее поведение по нарастанию и затуханию активности. Это значит, что группы равномерно наполнены пользователями, без перекосов в поведении для какой-либо из групп."
   ]
  },
  {
   "cell_type": "markdown",
   "metadata": {},
   "source": [
    "### <a name=\"5.2\"> Воронка событий для групп </a>"
   ]
  },
  {
   "cell_type": "markdown",
   "metadata": {},
   "source": [
    "Ранее мы построили воронку событий для всех пользователей. Теперь построим такую же воронку, но с разбивкой пользователей по группам:"
   ]
  },
  {
   "cell_type": "code",
   "execution_count": 38,
   "metadata": {},
   "outputs": [
    {
     "data": {
      "text/html": [
       "<div>\n",
       "<style scoped>\n",
       "    .dataframe tbody tr th:only-of-type {\n",
       "        vertical-align: middle;\n",
       "    }\n",
       "\n",
       "    .dataframe tbody tr th {\n",
       "        vertical-align: top;\n",
       "    }\n",
       "\n",
       "    .dataframe thead th {\n",
       "        text-align: right;\n",
       "    }\n",
       "</style>\n",
       "<table border=\"1\" class=\"dataframe\">\n",
       "  <thead>\n",
       "    <tr style=\"text-align: right;\">\n",
       "      <th></th>\n",
       "      <th>event_name</th>\n",
       "      <th>246</th>\n",
       "      <th>247</th>\n",
       "      <th>248</th>\n",
       "    </tr>\n",
       "  </thead>\n",
       "  <tbody>\n",
       "    <tr>\n",
       "      <th>0</th>\n",
       "      <td>MainScreenAppear</td>\n",
       "      <td>2450</td>\n",
       "      <td>2476</td>\n",
       "      <td>2493</td>\n",
       "    </tr>\n",
       "    <tr>\n",
       "      <th>1</th>\n",
       "      <td>OffersScreenAppear</td>\n",
       "      <td>1542</td>\n",
       "      <td>1520</td>\n",
       "      <td>1531</td>\n",
       "    </tr>\n",
       "    <tr>\n",
       "      <th>2</th>\n",
       "      <td>CartScreenAppear</td>\n",
       "      <td>1266</td>\n",
       "      <td>1238</td>\n",
       "      <td>1230</td>\n",
       "    </tr>\n",
       "    <tr>\n",
       "      <th>3</th>\n",
       "      <td>PaymentScreenSuccessful</td>\n",
       "      <td>1200</td>\n",
       "      <td>1158</td>\n",
       "      <td>1181</td>\n",
       "    </tr>\n",
       "  </tbody>\n",
       "</table>\n",
       "</div>"
      ],
      "text/plain": [
       "                event_name   246   247   248\n",
       "0         MainScreenAppear  2450  2476  2493\n",
       "1       OffersScreenAppear  1542  1520  1531\n",
       "2         CartScreenAppear  1266  1238  1230\n",
       "3  PaymentScreenSuccessful  1200  1158  1181"
      ]
     },
     "execution_count": 38,
     "metadata": {},
     "output_type": "execute_result"
    }
   ],
   "source": [
    "users_per_groups_events = df_filt.pivot_table(index='event_name', columns='exp_id'\n",
    "                                       , values='device_id_hash', aggfunc='nunique')\\\n",
    "                                        .reset_index()\\\n",
    "                                        .sort_values(246, ascending=False)\n",
    "users_per_groups_events.columns = ['event_name', 246, 247, 248]\n",
    "users_per_groups_events = users_per_groups_events.drop(4)\n",
    "users_per_groups_events = users_per_groups_events.reset_index(drop=True)\n",
    "users_per_groups_events"
   ]
  },
  {
   "cell_type": "markdown",
   "metadata": {},
   "source": [
    "Добавим столбцы, которые будут содержать долю пользователей, совершивших событие, от общего количество пользователей в группах:"
   ]
  },
  {
   "cell_type": "code",
   "execution_count": 39,
   "metadata": {},
   "outputs": [],
   "source": [
    "users_per_groups_events['share_of_users246'] = round(users_per_groups_events[246] / users_per_groups[246]\n",
    "                                                      , 3)\n",
    "users_per_groups_events['share_of_users247'] = round(users_per_groups_events[247] / users_per_groups[247]\n",
    "                                                      , 3)\n",
    "users_per_groups_events['share_of_users248'] = round(users_per_groups_events[248] / users_per_groups[248]\n",
    "                                                      , 3)"
   ]
  },
  {
   "cell_type": "code",
   "execution_count": 40,
   "metadata": {},
   "outputs": [
    {
     "data": {
      "text/html": [
       "<div>\n",
       "<style scoped>\n",
       "    .dataframe tbody tr th:only-of-type {\n",
       "        vertical-align: middle;\n",
       "    }\n",
       "\n",
       "    .dataframe tbody tr th {\n",
       "        vertical-align: top;\n",
       "    }\n",
       "\n",
       "    .dataframe thead th {\n",
       "        text-align: right;\n",
       "    }\n",
       "</style>\n",
       "<table border=\"1\" class=\"dataframe\">\n",
       "  <thead>\n",
       "    <tr style=\"text-align: right;\">\n",
       "      <th></th>\n",
       "      <th>event_name</th>\n",
       "      <th>246</th>\n",
       "      <th>247</th>\n",
       "      <th>248</th>\n",
       "      <th>share_of_users246</th>\n",
       "      <th>share_of_users247</th>\n",
       "      <th>share_of_users248</th>\n",
       "    </tr>\n",
       "  </thead>\n",
       "  <tbody>\n",
       "    <tr>\n",
       "      <th>0</th>\n",
       "      <td>MainScreenAppear</td>\n",
       "      <td>2450</td>\n",
       "      <td>2476</td>\n",
       "      <td>2493</td>\n",
       "      <td>0.986</td>\n",
       "      <td>0.985</td>\n",
       "      <td>0.983</td>\n",
       "    </tr>\n",
       "    <tr>\n",
       "      <th>1</th>\n",
       "      <td>OffersScreenAppear</td>\n",
       "      <td>1542</td>\n",
       "      <td>1520</td>\n",
       "      <td>1531</td>\n",
       "      <td>0.621</td>\n",
       "      <td>0.605</td>\n",
       "      <td>0.603</td>\n",
       "    </tr>\n",
       "    <tr>\n",
       "      <th>2</th>\n",
       "      <td>CartScreenAppear</td>\n",
       "      <td>1266</td>\n",
       "      <td>1238</td>\n",
       "      <td>1230</td>\n",
       "      <td>0.510</td>\n",
       "      <td>0.493</td>\n",
       "      <td>0.485</td>\n",
       "    </tr>\n",
       "    <tr>\n",
       "      <th>3</th>\n",
       "      <td>PaymentScreenSuccessful</td>\n",
       "      <td>1200</td>\n",
       "      <td>1158</td>\n",
       "      <td>1181</td>\n",
       "      <td>0.483</td>\n",
       "      <td>0.461</td>\n",
       "      <td>0.466</td>\n",
       "    </tr>\n",
       "  </tbody>\n",
       "</table>\n",
       "</div>"
      ],
      "text/plain": [
       "                event_name   246   247   248  share_of_users246  \\\n",
       "0         MainScreenAppear  2450  2476  2493              0.986   \n",
       "1       OffersScreenAppear  1542  1520  1531              0.621   \n",
       "2         CartScreenAppear  1266  1238  1230              0.510   \n",
       "3  PaymentScreenSuccessful  1200  1158  1181              0.483   \n",
       "\n",
       "   share_of_users247  share_of_users248  \n",
       "0              0.985              0.983  \n",
       "1              0.605              0.603  \n",
       "2              0.493              0.485  \n",
       "3              0.461              0.466  "
      ]
     },
     "execution_count": 40,
     "metadata": {},
     "output_type": "execute_result"
    }
   ],
   "source": [
    "users_per_groups_events"
   ]
  },
  {
   "cell_type": "markdown",
   "metadata": {},
   "source": [
    "Теперь посчитаем, какая доля пользователей проходит на следующий шаг воронки (от числа пользователей на предыдущем) для каждой группы:"
   ]
  },
  {
   "cell_type": "code",
   "execution_count": 41,
   "metadata": {},
   "outputs": [],
   "source": [
    "for i in [246, 247, 248]:\n",
    "    cr = [1]\n",
    "    for j in range(3):\n",
    "        cr.append(round(users_per_groups_events.loc[j+1, i] / users_per_groups_events.loc[j, i], 3))\n",
    "    users_per_groups_events[f'cr{i}'] = cr"
   ]
  },
  {
   "cell_type": "code",
   "execution_count": 42,
   "metadata": {},
   "outputs": [
    {
     "data": {
      "text/html": [
       "<div>\n",
       "<style scoped>\n",
       "    .dataframe tbody tr th:only-of-type {\n",
       "        vertical-align: middle;\n",
       "    }\n",
       "\n",
       "    .dataframe tbody tr th {\n",
       "        vertical-align: top;\n",
       "    }\n",
       "\n",
       "    .dataframe thead th {\n",
       "        text-align: right;\n",
       "    }\n",
       "</style>\n",
       "<table border=\"1\" class=\"dataframe\">\n",
       "  <thead>\n",
       "    <tr style=\"text-align: right;\">\n",
       "      <th></th>\n",
       "      <th>event_name</th>\n",
       "      <th>246</th>\n",
       "      <th>247</th>\n",
       "      <th>248</th>\n",
       "      <th>share_of_users246</th>\n",
       "      <th>share_of_users247</th>\n",
       "      <th>share_of_users248</th>\n",
       "      <th>cr246</th>\n",
       "      <th>cr247</th>\n",
       "      <th>cr248</th>\n",
       "    </tr>\n",
       "  </thead>\n",
       "  <tbody>\n",
       "    <tr>\n",
       "      <th>0</th>\n",
       "      <td>MainScreenAppear</td>\n",
       "      <td>2450</td>\n",
       "      <td>2476</td>\n",
       "      <td>2493</td>\n",
       "      <td>0.986</td>\n",
       "      <td>0.985</td>\n",
       "      <td>0.983</td>\n",
       "      <td>1.000</td>\n",
       "      <td>1.000</td>\n",
       "      <td>1.000</td>\n",
       "    </tr>\n",
       "    <tr>\n",
       "      <th>1</th>\n",
       "      <td>OffersScreenAppear</td>\n",
       "      <td>1542</td>\n",
       "      <td>1520</td>\n",
       "      <td>1531</td>\n",
       "      <td>0.621</td>\n",
       "      <td>0.605</td>\n",
       "      <td>0.603</td>\n",
       "      <td>0.629</td>\n",
       "      <td>0.614</td>\n",
       "      <td>0.614</td>\n",
       "    </tr>\n",
       "    <tr>\n",
       "      <th>2</th>\n",
       "      <td>CartScreenAppear</td>\n",
       "      <td>1266</td>\n",
       "      <td>1238</td>\n",
       "      <td>1230</td>\n",
       "      <td>0.510</td>\n",
       "      <td>0.493</td>\n",
       "      <td>0.485</td>\n",
       "      <td>0.821</td>\n",
       "      <td>0.814</td>\n",
       "      <td>0.803</td>\n",
       "    </tr>\n",
       "    <tr>\n",
       "      <th>3</th>\n",
       "      <td>PaymentScreenSuccessful</td>\n",
       "      <td>1200</td>\n",
       "      <td>1158</td>\n",
       "      <td>1181</td>\n",
       "      <td>0.483</td>\n",
       "      <td>0.461</td>\n",
       "      <td>0.466</td>\n",
       "      <td>0.948</td>\n",
       "      <td>0.935</td>\n",
       "      <td>0.960</td>\n",
       "    </tr>\n",
       "  </tbody>\n",
       "</table>\n",
       "</div>"
      ],
      "text/plain": [
       "                event_name   246   247   248  share_of_users246  \\\n",
       "0         MainScreenAppear  2450  2476  2493              0.986   \n",
       "1       OffersScreenAppear  1542  1520  1531              0.621   \n",
       "2         CartScreenAppear  1266  1238  1230              0.510   \n",
       "3  PaymentScreenSuccessful  1200  1158  1181              0.483   \n",
       "\n",
       "   share_of_users247  share_of_users248  cr246  cr247  cr248  \n",
       "0              0.985              0.983  1.000  1.000  1.000  \n",
       "1              0.605              0.603  0.629  0.614  0.614  \n",
       "2              0.493              0.485  0.821  0.814  0.803  \n",
       "3              0.461              0.466  0.948  0.935  0.960  "
      ]
     },
     "execution_count": 42,
     "metadata": {},
     "output_type": "execute_result"
    }
   ],
   "source": [
    "users_per_groups_events"
   ]
  },
  {
   "cell_type": "markdown",
   "metadata": {},
   "source": [
    "Чтобы визуально сравнить группы по конверсии каждого шага и конверсии с шага на шаг, построим диаграммы:"
   ]
  },
  {
   "cell_type": "code",
   "execution_count": 43,
   "metadata": {},
   "outputs": [
    {
     "data": {
      "image/png": "[encoded data removed]",
      "text/plain": [
       "<Figure size 720x216 with 1 Axes>"
      ]
     },
     "metadata": {
      "needs_background": "light"
     },
     "output_type": "display_data"
    }
   ],
   "source": [
    "title = \"Конверсия к общему числу пользователей в группах 246, 247 и 248 \\n в период с 1 по 7 августа 2019 года\"\n",
    "xlabel = \"Шаг конверсии\"\n",
    "ylabel = \"Конверсия к общему числу \\nпользователей в группе\"\n",
    "barplot(users_per_groups_events, 'event_name'\n",
    "        , ['share_of_users246', 'share_of_users247', 'share_of_users248']\n",
    "        , title, xlabel, ylabel, True)"
   ]
  },
  {
   "cell_type": "code",
   "execution_count": 44,
   "metadata": {},
   "outputs": [
    {
     "data": {
      "image/png": "[encoded data removed]",
      "text/plain": [
       "<Figure size 720x216 with 1 Axes>"
      ]
     },
     "metadata": {
      "needs_background": "light"
     },
     "output_type": "display_data"
    }
   ],
   "source": [
    "title = \"Конверсия пользователей к предыдущему шагу в группах 246, 247 и 248 \\n в период с 1 по 7 августа 2019 года\"\n",
    "xlabel = \"Шаг конверсии\"\n",
    "ylabel = \"Конверсия к предыдущему шагу\"\n",
    "barplot(users_per_groups_events, 'event_name', ['cr246', 'cr247', 'cr248'], title, xlabel, ylabel, True)"
   ]
  },
  {
   "cell_type": "markdown",
   "metadata": {},
   "source": [
    "Столбцы, то есть группы, визуально практически не отличаются друг от друга ни для одной из конверсий. Складывется ощущение, что изменение шрифтов в приложении не привело к значимой разнице в конверсиях. Однако, чтобы утверждать это более научно, не только опираясь на ощущения от просмотра диаграммы, проверим гипотезу об отсутствии влияния шрифтов с помощью статистического анализа. "
   ]
  },
  {
   "cell_type": "markdown",
   "metadata": {},
   "source": [
    "[В начало](#0)"
   ]
  },
  {
   "cell_type": "markdown",
   "metadata": {},
   "source": [
    "### <a name=\"5.3\"> Сравнение контрольных групп </a>"
   ]
  },
  {
   "cell_type": "markdown",
   "metadata": {},
   "source": [
    "Сначала сравним между собой две контрольные группы 246 и 247, чтобы убедиться, что пользователи в них корректно поделены. Мы уже ранее оценивали корректность разделения пользователей в группах, когда смотрели распределение событий во времени для каждой группы, а теперь сделаем проверку по конверсиям в группах. "
   ]
  },
  {
   "cell_type": "markdown",
   "metadata": {},
   "source": [
    "#### Формулировка гипотез"
   ]
  },
  {
   "cell_type": "markdown",
   "metadata": {},
   "source": [
    "Выберем самое популярное событие в обеих контрольных выборках (MainScreenAppear) и сравним доли пользователей в группах, совершивших это событие. Проверять будем следующие гипотезы:\n",
    "- Нулевая гипотеза (H0): доли пользователей, совершивших событие MainScreenAppear, в группе 246 и 247 не отличаются, так как обе группы относятся к общей генеральной совокупности с единой общей конверсией (долей), а полученное различие в долях групп является случайным.\n",
    "- Альтернативная гипотеза (H1): полученное различие в долях групп вызвано тем, что группы относятся к разным генеральным совокупностях. Такое может быть, только если мы неправильно разделили пользователей на две контрольные группы или совершили другие ошибки в организации теста (например, группы видели разные варианты приложения)."
   ]
  },
  {
   "cell_type": "markdown",
   "metadata": {},
   "source": [
    "#### Выбор статистического критерия"
   ]
  },
  {
   "cell_type": "markdown",
   "metadata": {},
   "source": [
    "Проверку различий в конверсиях (долях) для двух выборок проводят с помощью z-значения - то есть значения, которое показывает на сколько стандартных отклонений наше различие в конверсиях отклоняется от нуля нормального стандартизированного распределения. Если принять нулевую гипотезу верной, то z-значение рассчитывается следующим образом:"
   ]
  },
  {
   "cell_type": "markdown",
   "metadata": {},
   "source": [
    "$$z = \\frac{(P_A - P_B)}{\\sqrt{P(1-P)(1/n_A + 1/n_B)}}$$"
   ]
  },
  {
   "cell_type": "markdown",
   "metadata": {},
   "source": [
    "где $P_A$ и $P_B$ - конверсия в группах, $P$ - общая конверсия для двух групп, $n_A$ и $n_B$ - количество посетителей в группах."
   ]
  },
  {
   "cell_type": "markdown",
   "metadata": {},
   "source": [
    "#### Выбор критического значения альфа"
   ]
  },
  {
   "cell_type": "markdown",
   "metadata": {},
   "source": [
    "Критическим значением альфа обычно принимают 0,05. Такой уровень альфа позволяет нам рассчитывать, что примерно в 19 из 20 проверок не будет выявлено статистического различия при условии верности нулевой гипотезы. Вероятность ошибки - 5%.\n",
    "\n",
    "Если проводить проверки нескольких гипотез, то вероятность совершить ошибку хотя бы раз будет суммироваться: при проверке двух гипотез вероятность ошибки составит 10%, а при проверке 10 гипотез - уже 50%. Соответственно, если мы проверим 20 гипотез, то весьма вероятно, что будет совершена хотя бы одна ошибка.\n",
    "\n",
    "Чтобы избежать ошибки, вводят поправку Бонферрони, при которой критическое значение альфа уменьшают в то количество раз, сколько проверок мы проводим. Поэтому, чтобы определить альфа, нужно посчитать, сколько проверок мы планируем сделать.\n",
    "\n",
    "Проверки:\n",
    "- сравнение долей пользователей для каждого события между контрольными группами 246 и 247 (4 проверки);\n",
    "- сравнение долей пользователей для каждого события между контрольной группой 246 и тестовой группой 248 (4 проверки);\n",
    "- сравнение долей пользователей для каждого события между контрольной группой 247 и тестовой группой 248 (4 проверки);\n",
    "- сравнение долей пользователей для каждого события между объединённой контрольной группой (246 и 247) и тестовой группой 248 (4 проверки).\n",
    "\n",
    "Итого 16 проверок. Значит примем альфа равным:  "
   ]
  },
  {
   "cell_type": "code",
   "execution_count": 45,
   "metadata": {},
   "outputs": [
    {
     "data": {
      "text/plain": [
       "0.003125"
      ]
     },
     "execution_count": 45,
     "metadata": {},
     "output_type": "execute_result"
    }
   ],
   "source": [
    "alpha = .05 / 16\n",
    "alpha"
   ]
  },
  {
   "cell_type": "markdown",
   "metadata": {},
   "source": [
    "#### Расчёты"
   ]
  },
  {
   "cell_type": "markdown",
   "metadata": {},
   "source": [
    "Воспользуемся формулой для расчёта z-значения и найдём его:"
   ]
  },
  {
   "cell_type": "code",
   "execution_count": 46,
   "metadata": {},
   "outputs": [
    {
     "data": {
      "text/plain": [
       "0.3093441851418436"
      ]
     },
     "execution_count": 46,
     "metadata": {},
     "output_type": "execute_result"
    }
   ],
   "source": [
    "# количество пользователей в группе 246 и 247:\n",
    "n_246 = users_per_groups[246] \n",
    "n_247 = users_per_groups[247] \n",
    "# доли пользователей, совершивших событие MainScreenAppear, в группе 246 и 247:\n",
    "p_246 = users_per_groups_events[246][0] / n_246\n",
    "p_247 = users_per_groups_events[247][0] / n_247\n",
    "# общая доля пользователей, совершивших событие MainScreenAppear, для обеих групп 246 и 247:\n",
    "p = (users_per_groups_events[246][0] + users_per_groups_events[247][0]) / (n_246 + n_247) \n",
    "# z-значение:\n",
    "z_value = (p_246 - p_247) / (p * (1 - p) * (1 / n_246 + 1 / n_247))**.5\n",
    "z_value"
   ]
  },
  {
   "cell_type": "markdown",
   "metadata": {},
   "source": [
    "На основе z-значения найдём p-значение, то есть вероятность получить наше различие в долях или ещё более сильное различие при условии верности нулевой гипотезы:"
   ]
  },
  {
   "cell_type": "code",
   "execution_count": 47,
   "metadata": {},
   "outputs": [
    {
     "data": {
      "text/plain": [
       "0.7570597232046099"
      ]
     },
     "execution_count": 47,
     "metadata": {},
     "output_type": "execute_result"
    }
   ],
   "source": [
    "# зададим стандартное нормальное распределение:\n",
    "distr = st.norm(0, 1)\n",
    "# p-значение:\n",
    "p_value = (1 - distr.cdf(abs(z_value))) * 2\n",
    "p_value"
   ]
  },
  {
   "cell_type": "markdown",
   "metadata": {},
   "source": [
    "Так как p-значение намного больше критического значения альфа, то у нас нет никаких оснований отклонить нулевую гипотезу. Это означает, что значимых различий в долях пользователей, совершивших событие MainScreenAppear, в группах 246 и 247 нет. "
   ]
  },
  {
   "cell_type": "markdown",
   "metadata": {},
   "source": [
    "Для упрощения расчёта z-значения и p-значения можно воспользоваться функцией proportions_ztest библиотеки statsmodels.stats.proportion. Она принимает два аргумента: количество пользователей, совершивших действие, в двух группах и размеры двух групп. Проведём расчёты с помощью этой функции и сравним доли пользователей для каждого события в контрольных группах."
   ]
  },
  {
   "cell_type": "markdown",
   "metadata": {},
   "source": [
    "Создадим словарь с названиями событий и индексами в таблице users_per_groups_events:"
   ]
  },
  {
   "cell_type": "code",
   "execution_count": 48,
   "metadata": {},
   "outputs": [
    {
     "data": {
      "text/plain": [
       "{'MainScreenAppear': 0,\n",
       " 'OffersScreenAppear': 1,\n",
       " 'CartScreenAppear': 2,\n",
       " 'PaymentScreenSuccessful': 3}"
      ]
     },
     "execution_count": 48,
     "metadata": {},
     "output_type": "execute_result"
    }
   ],
   "source": [
    "ind_events = dict(users_per_groups_events['event_name'])\n",
    "events_ind = {v: k for k, v in ind_events.items()} # меняем местами ключи и значения\n",
    "events_ind"
   ]
  },
  {
   "cell_type": "markdown",
   "metadata": {},
   "source": [
    "Напишем функцию, которая будет сравнивать доли в выборках и возвращать z-значение и p-значение:"
   ]
  },
  {
   "cell_type": "code",
   "execution_count": 49,
   "metadata": {},
   "outputs": [],
   "source": [
    "def compare_shares(event_name, group1, group2):\n",
    "    ind = events_ind[event_name]\n",
    "    count = [users_per_groups_events[group1][ind], users_per_groups_events[group2][ind]]\n",
    "    nobs = [users_per_groups[group1], users_per_groups[group2]]\n",
    "    return proportions_ztest(count, nobs)"
   ]
  },
  {
   "cell_type": "markdown",
   "metadata": {},
   "source": [
    "Напишем функцию, которая вернёт результаты проверки гипотез для всех событий:"
   ]
  },
  {
   "cell_type": "code",
   "execution_count": 50,
   "metadata": {},
   "outputs": [],
   "source": [
    "def all_calc(group1, group2):\n",
    "    group1, group2 = group1, group2\n",
    "    for event_name in events_ind.keys():\n",
    "        print(f'z-значение и p-значение при сравнении долей пользователей, совершивших событие {event_name}:')\n",
    "        zstat, p_value = compare_shares(event_name, group1, group2)\n",
    "        print(zstat, p_value)\n",
    "        if p_value >= alpha:\n",
    "            print('Статистически значимых различий в долях между группами нет. Нет оснований отвергнуть нулевую гипотезу.')\n",
    "        else:\n",
    "            print('Между группами есть статистически значимые различия в долях. Принимаем альтернативную гипотезу.')\n",
    "        print()"
   ]
  },
  {
   "cell_type": "code",
   "execution_count": 51,
   "metadata": {},
   "outputs": [
    {
     "name": "stdout",
     "output_type": "stream",
     "text": [
      "z-значение и p-значение при сравнении долей пользователей, совершивших событие MainScreenAppear:\n",
      "0.3093441851418436 0.7570597232046099\n",
      "Статистически значимых различий в долях между группами нет. Нет оснований отвергнуть нулевую гипотезу.\n",
      "\n",
      "z-значение и p-значение при сравнении долей пользователей, совершивших событие OffersScreenAppear:\n",
      "1.154987713610383 0.2480954578522181\n",
      "Статистически значимых различий в долях между группами нет. Нет оснований отвергнуть нулевую гипотезу.\n",
      "\n",
      "z-значение и p-значение при сравнении долей пользователей, совершивших событие CartScreenAppear:\n",
      "1.203368576486285 0.22883372237997213\n",
      "Статистически значимых различий в долях между группами нет. Нет оснований отвергнуть нулевую гипотезу.\n",
      "\n",
      "z-значение и p-значение при сравнении долей пользователей, совершивших событие PaymentScreenSuccessful:\n",
      "1.5779948491596598 0.11456679313141847\n",
      "Статистически значимых различий в долях между группами нет. Нет оснований отвергнуть нулевую гипотезу.\n",
      "\n"
     ]
    }
   ],
   "source": [
    "all_calc(246, 247)"
   ]
  },
  {
   "cell_type": "markdown",
   "metadata": {},
   "source": [
    "При использовании функции proportions_ztest z-значение и p-значение для события MainScreenAppear оказались такими же, как при расчёте по формуле z-значения, который мы делали чуть ранее. Это подтверждает, что функция proportions_ztest сработала корректно."
   ]
  },
  {
   "cell_type": "markdown",
   "metadata": {},
   "source": [
    "Как видно из расчётов, контрольные группы не имеют значимых различий. Это означает, что разбивка на группы и сам тест проведены корректно."
   ]
  },
  {
   "cell_type": "markdown",
   "metadata": {},
   "source": [
    "### <a name=\"5.4\"> Сравнение тестовой группы с контрольными </a>"
   ]
  },
  {
   "cell_type": "markdown",
   "metadata": {},
   "source": [
    "Теперь сравним тестовую группу с контрольными. Сформулируем гипотезы:"
   ]
  },
  {
   "cell_type": "markdown",
   "metadata": {},
   "source": [
    "#### Формулировка гипотез"
   ]
  },
  {
   "cell_type": "markdown",
   "metadata": {},
   "source": [
    "- Нулевая гипотеза (H0): доли пользователей, совершивших событие, в контрольной группе (246/247) и тестовой группе (248) не отличаются, так как обе группы и их конверсии относятся к общей генеральной совокупности, а полученное различие в долях групп является случайным.\n",
    "- Альтернативная гипотеза (H1): полученное различие в долях групп вызвано тем, что группы и их конверсии относятся к разным генеральным совокупностях. Различие в генеральных совокупностях вызвано изменением шрифтов приложения."
   ]
  },
  {
   "cell_type": "markdown",
   "metadata": {},
   "source": [
    "#### Расчёты"
   ]
  },
  {
   "cell_type": "markdown",
   "metadata": {},
   "source": [
    "Сравним контрольную группу 246 и тестовую группу 248:"
   ]
  },
  {
   "cell_type": "code",
   "execution_count": 52,
   "metadata": {},
   "outputs": [
    {
     "name": "stdout",
     "output_type": "stream",
     "text": [
      "z-значение и p-значение при сравнении долей пользователей, совершивших событие MainScreenAppear:\n",
      "1.0472762353383693 0.2949721933554553\n",
      "Статистически значимых различий в долях между группами нет. Нет оснований отвергнуть нулевую гипотезу.\n",
      "\n",
      "z-значение и p-значение при сравнении долей пользователей, совершивших событие OffersScreenAppear:\n",
      "1.2580821335711887 0.20836205402738917\n",
      "Статистически значимых различий в долях между группами нет. Нет оснований отвергнуть нулевую гипотезу.\n",
      "\n",
      "z-значение и p-значение при сравнении долей пользователей, совершивших событие CartScreenAppear:\n",
      "1.7598736474548398 0.07842923237520125\n",
      "Статистически значимых различий в долях между группами нет. Нет оснований отвергнуть нулевую гипотезу.\n",
      "\n",
      "z-значение и p-значение при сравнении долей пользователей, совершивших событие PaymentScreenSuccessful:\n",
      "1.2473878277158326 0.21225532756977972\n",
      "Статистически значимых различий в долях между группами нет. Нет оснований отвергнуть нулевую гипотезу.\n",
      "\n"
     ]
    }
   ],
   "source": [
    "all_calc(246, 248)"
   ]
  },
  {
   "cell_type": "markdown",
   "metadata": {},
   "source": [
    "Сравним контрольную группу 247 и тестовую группу 248:"
   ]
  },
  {
   "cell_type": "code",
   "execution_count": 53,
   "metadata": {},
   "outputs": [
    {
     "name": "stdout",
     "output_type": "stream",
     "text": [
      "z-значение и p-значение при сравнении долей пользователей, совершивших событие MainScreenAppear:\n",
      "0.740980338642352 0.45870536166215137\n",
      "Статистически значимых различий в долях между группами нет. Нет оснований отвергнуть нулевую гипотезу.\n",
      "\n",
      "z-значение и p-значение при сравнении долей пользователей, совершивших событие OffersScreenAppear:\n",
      "0.1007086015299871 0.919781783059226\n",
      "Статистически значимых различий в долях между группами нет. Нет оснований отвергнуть нулевую гипотезу.\n",
      "\n",
      "z-значение и p-значение при сравнении долей пользователей, совершивших событие CartScreenAppear:\n",
      "0.5554019078073092 0.5786197879539782\n",
      "Статистически значимых различий в долях между группами нет. Нет оснований отвергнуть нулевую гипотезу.\n",
      "\n",
      "z-значение и p-значение при сравнении долей пользователей, совершивших событие PaymentScreenSuccessful:\n",
      "-0.3353759529753951 0.7373415053803964\n",
      "Статистически значимых различий в долях между группами нет. Нет оснований отвергнуть нулевую гипотезу.\n",
      "\n"
     ]
    }
   ],
   "source": [
    "all_calc(247, 248)"
   ]
  },
  {
   "cell_type": "markdown",
   "metadata": {},
   "source": [
    "Статистически значимых различий в конверсиях не выявлено. 248 группа не отличается ни от 246, ни от 247. Изменение шрифтов не привело к изменению конверсий."
   ]
  },
  {
   "cell_type": "markdown",
   "metadata": {},
   "source": [
    "### <a name=\"5.5\"> Сравнение тестовой группы с объединённой контрольной группой </a>"
   ]
  },
  {
   "cell_type": "markdown",
   "metadata": {},
   "source": [
    "Теперь сравним тестовую группу с объединённой контрольной. Рассчитаем количество пользователей в группах 246 и 247:"
   ]
  },
  {
   "cell_type": "code",
   "execution_count": 54,
   "metadata": {},
   "outputs": [
    {
     "data": {
      "text/plain": [
       "exp_id\n",
       "246    2484\n",
       "247    2513\n",
       "248    2537\n",
       "Name: device_id_hash, dtype: int64"
      ]
     },
     "execution_count": 54,
     "metadata": {},
     "output_type": "execute_result"
    }
   ],
   "source": [
    "users_per_groups"
   ]
  },
  {
   "cell_type": "code",
   "execution_count": 55,
   "metadata": {},
   "outputs": [
    {
     "data": {
      "text/plain": [
       "4997"
      ]
     },
     "execution_count": 55,
     "metadata": {},
     "output_type": "execute_result"
    }
   ],
   "source": [
    "users_per_groups['246plus247'] = users_per_groups[246] + users_per_groups[247]\n",
    "users_per_groups['246plus247']"
   ]
  },
  {
   "cell_type": "markdown",
   "metadata": {},
   "source": [
    "Добавим столбец с суммарным количеством пользователей на каждом шаге для 246 и 247 групп:"
   ]
  },
  {
   "cell_type": "code",
   "execution_count": 56,
   "metadata": {},
   "outputs": [
    {
     "data": {
      "text/html": [
       "<div>\n",
       "<style scoped>\n",
       "    .dataframe tbody tr th:only-of-type {\n",
       "        vertical-align: middle;\n",
       "    }\n",
       "\n",
       "    .dataframe tbody tr th {\n",
       "        vertical-align: top;\n",
       "    }\n",
       "\n",
       "    .dataframe thead th {\n",
       "        text-align: right;\n",
       "    }\n",
       "</style>\n",
       "<table border=\"1\" class=\"dataframe\">\n",
       "  <thead>\n",
       "    <tr style=\"text-align: right;\">\n",
       "      <th></th>\n",
       "      <th>event_name</th>\n",
       "      <th>246</th>\n",
       "      <th>247</th>\n",
       "      <th>248</th>\n",
       "      <th>share_of_users246</th>\n",
       "      <th>share_of_users247</th>\n",
       "      <th>share_of_users248</th>\n",
       "      <th>cr246</th>\n",
       "      <th>cr247</th>\n",
       "      <th>cr248</th>\n",
       "      <th>246plus247</th>\n",
       "    </tr>\n",
       "  </thead>\n",
       "  <tbody>\n",
       "    <tr>\n",
       "      <th>0</th>\n",
       "      <td>MainScreenAppear</td>\n",
       "      <td>2450</td>\n",
       "      <td>2476</td>\n",
       "      <td>2493</td>\n",
       "      <td>0.986</td>\n",
       "      <td>0.985</td>\n",
       "      <td>0.983</td>\n",
       "      <td>1.000</td>\n",
       "      <td>1.000</td>\n",
       "      <td>1.000</td>\n",
       "      <td>4926</td>\n",
       "    </tr>\n",
       "    <tr>\n",
       "      <th>1</th>\n",
       "      <td>OffersScreenAppear</td>\n",
       "      <td>1542</td>\n",
       "      <td>1520</td>\n",
       "      <td>1531</td>\n",
       "      <td>0.621</td>\n",
       "      <td>0.605</td>\n",
       "      <td>0.603</td>\n",
       "      <td>0.629</td>\n",
       "      <td>0.614</td>\n",
       "      <td>0.614</td>\n",
       "      <td>3062</td>\n",
       "    </tr>\n",
       "    <tr>\n",
       "      <th>2</th>\n",
       "      <td>CartScreenAppear</td>\n",
       "      <td>1266</td>\n",
       "      <td>1238</td>\n",
       "      <td>1230</td>\n",
       "      <td>0.510</td>\n",
       "      <td>0.493</td>\n",
       "      <td>0.485</td>\n",
       "      <td>0.821</td>\n",
       "      <td>0.814</td>\n",
       "      <td>0.803</td>\n",
       "      <td>2504</td>\n",
       "    </tr>\n",
       "    <tr>\n",
       "      <th>3</th>\n",
       "      <td>PaymentScreenSuccessful</td>\n",
       "      <td>1200</td>\n",
       "      <td>1158</td>\n",
       "      <td>1181</td>\n",
       "      <td>0.483</td>\n",
       "      <td>0.461</td>\n",
       "      <td>0.466</td>\n",
       "      <td>0.948</td>\n",
       "      <td>0.935</td>\n",
       "      <td>0.960</td>\n",
       "      <td>2358</td>\n",
       "    </tr>\n",
       "  </tbody>\n",
       "</table>\n",
       "</div>"
      ],
      "text/plain": [
       "                event_name   246   247   248  share_of_users246  \\\n",
       "0         MainScreenAppear  2450  2476  2493              0.986   \n",
       "1       OffersScreenAppear  1542  1520  1531              0.621   \n",
       "2         CartScreenAppear  1266  1238  1230              0.510   \n",
       "3  PaymentScreenSuccessful  1200  1158  1181              0.483   \n",
       "\n",
       "   share_of_users247  share_of_users248  cr246  cr247  cr248  246plus247  \n",
       "0              0.985              0.983  1.000  1.000  1.000        4926  \n",
       "1              0.605              0.603  0.629  0.614  0.614        3062  \n",
       "2              0.493              0.485  0.821  0.814  0.803        2504  \n",
       "3              0.461              0.466  0.948  0.935  0.960        2358  "
      ]
     },
     "execution_count": 56,
     "metadata": {},
     "output_type": "execute_result"
    }
   ],
   "source": [
    "users_per_groups_events['246plus247'] = users_per_groups_events[246] + users_per_groups_events[247]\n",
    "users_per_groups_events"
   ]
  },
  {
   "cell_type": "markdown",
   "metadata": {},
   "source": [
    "#### Формулировка гипотез"
   ]
  },
  {
   "cell_type": "markdown",
   "metadata": {},
   "source": [
    "- Нулевая гипотеза (H0): доли пользователей, совершивших событие, в объединённой контрольной группе (246+247) и тестовой группе (248) не отличаются, так как обе группы и их конверсии относятся к общей генеральной совокупности, а полученное различие в долях групп является случайным.\n",
    "- Альтернативная гипотеза (H1): полученное различие в долях групп вызвано тем, что группы и их конверсии относятся к разным генеральным совокупностях. Различие в генеральных совокупностях вызвано изменением шрифтов приложения."
   ]
  },
  {
   "cell_type": "markdown",
   "metadata": {},
   "source": [
    "#### Расчёты"
   ]
  },
  {
   "cell_type": "markdown",
   "metadata": {},
   "source": [
    "Сравним группы по конверсии в каждое событие:"
   ]
  },
  {
   "cell_type": "code",
   "execution_count": 57,
   "metadata": {},
   "outputs": [
    {
     "name": "stdout",
     "output_type": "stream",
     "text": [
      "z-значение и p-значение при сравнении долей пользователей, совершивших событие MainScreenAppear:\n",
      "1.048854111361149 0.29424526837179577\n",
      "Статистически значимых различий в долях между группами нет. Нет оснований отвергнуть нулевую гипотезу.\n",
      "\n",
      "z-значение и p-значение при сравнении долей пользователей, совершивших событие OffersScreenAppear:\n",
      "0.7819303684733905 0.43425549655188245\n",
      "Статистически значимых различий в долях между группами нет. Нет оснований отвергнуть нулевую гипотезу.\n",
      "\n",
      "z-значение и p-значение при сравнении долей пользователей, совершивших событие CartScreenAppear:\n",
      "1.3353593793146474 0.18175875284404386\n",
      "Статистически значимых различий в долях между группами нет. Нет оснований отвергнуть нулевую гипотезу.\n",
      "\n",
      "z-значение и p-значение при сравнении долей пользователей, совершивших событие PaymentScreenSuccessful:\n",
      "0.5237830725856985 0.6004294282308703\n",
      "Статистически значимых различий в долях между группами нет. Нет оснований отвергнуть нулевую гипотезу.\n",
      "\n"
     ]
    }
   ],
   "source": [
    "all_calc('246plus247', 248)"
   ]
  },
  {
   "cell_type": "markdown",
   "metadata": {},
   "source": [
    "Статистически значимых различий между конверсиями тестовой и объединённой контрольной групп нет. Это означает, что изменение шрифтов не повлияло на конверсию. Менять шрифт смысла нет, можно оставить прежний."
   ]
  },
  {
   "cell_type": "markdown",
   "metadata": {},
   "source": [
    "[В начало](#0)"
   ]
  },
  {
   "cell_type": "markdown",
   "metadata": {},
   "source": [
    "### <a name=\"5.6\"> Сравнение трёх групп с помощью χ2-критерия </a>"
   ]
  },
  {
   "cell_type": "markdown",
   "metadata": {},
   "source": [
    "Сравнивать различия конверсий в группах можно не только с помощью z-значения. Когда групп несколько и есть подозрения, что между ними нет различий (как в нашем случае), можно применить χ2-критерий. Этот критерий покажет, есть ли среди сравниваемых групп хотя бы одна значимо отличающаяся.\n",
    "\n",
    "Проверим, есть ли различие между группами в конверсии, например, для события PaymentScreenSuccessful. \n",
    "\n",
    "Последующие расчёты проведены на основании [данной статьи](https://baguzin.ru/wp/primenenie-2-kriteriya-dlya-proverki-gi/)."
   ]
  },
  {
   "cell_type": "markdown",
   "metadata": {},
   "source": [
    "#### Формулировка гипотез"
   ]
  },
  {
   "cell_type": "markdown",
   "metadata": {},
   "source": [
    "- Нулевая гипотеза (H0): доли пользователей, совершивших событие PaymentScreenSuccessful, в контрольных группах (246 и 247) и тестовой группе (248) не отличаются, так как все три группы и их конверсии относятся к общей генеральной совокупности, а полученное различие в долях групп является случайным.\n",
    "- Альтернативная гипотеза (H1): полученное различие в долях групп вызвано тем, что группы и их конверсии относятся к разным генеральным совокупностях. Различие в генеральных совокупностях вызвано изменением шрифтов приложения."
   ]
  },
  {
   "cell_type": "markdown",
   "metadata": {},
   "source": [
    "#### Выбор критического значения альфа"
   ]
  },
  {
   "cell_type": "markdown",
   "metadata": {},
   "source": [
    "Критическим значением альфа примем 0,05, так как мы проведём только одну проверку:"
   ]
  },
  {
   "cell_type": "markdown",
   "metadata": {},
   "source": [
    "#### Расчёты"
   ]
  },
  {
   "cell_type": "markdown",
   "metadata": {},
   "source": [
    "Чтобы проверить различие в конверсиях групп, нужно построить таблицы сопряжённости с наблюдаемыми и ожидаемыми конверсиями. Строить такие таблицы и проводить с ними расчёты удобнее в google spreadsheets, поэтому здесь выложу скриншоты, а сами расчёты находятся [тут](https://docs.google.com/spreadsheets/d/1OaVfBAjQ9ectzsRorwzOHe0Jrt-6RuHZU2_vvwFkv7w/edit?usp=sharing)."
   ]
  },
  {
   "cell_type": "markdown",
   "metadata": {},
   "source": [
    "Сначала построим таблицу с наблюдаемыми конверсиями пользователей в событие PaymentScreenSuccessful:"
   ]
  },
  {
   "cell_type": "markdown",
   "metadata": {},
   "source": [
    "![](http://dl3.joxi.net/drive/2021/03/24/0046/2540/3033580/80/d1381604f1.jpg)"
   ]
  },
  {
   "cell_type": "markdown",
   "metadata": {},
   "source": [
    "Теперь рассчитаем ожидаемую долю пользователей, совершивших событие PaymentScreenSuccessful по формуле:"
   ]
  },
  {
   "cell_type": "markdown",
   "metadata": {},
   "source": [
    "$$\\frac{\\sum_{группа=246}^{248} {Совершившие}\\;{событие}}{\\sum_{группа=246}^{248} {Всего}\\;{пользователей}}$$"
   ]
  },
  {
   "cell_type": "markdown",
   "metadata": {},
   "source": [
    "Значение составит 0,47. На основе этого значения составим таблицу с ожидаемыми конверсиями пользователей в событие PaymentScreenSuccessful:"
   ]
  },
  {
   "cell_type": "markdown",
   "metadata": {},
   "source": [
    "![](http://dl4.joxi.net/drive/2021/03/24/0046/2540/3033580/80/fd4f01342e.jpg)"
   ]
  },
  {
   "cell_type": "markdown",
   "metadata": {},
   "source": [
    "Рассчитаем χ2-значение по формуле:"
   ]
  },
  {
   "cell_type": "markdown",
   "metadata": {},
   "source": [
    "$$χ^2 =\\sum_{группа=246}^{248}\\frac{({Наблюдаемое}\\;{число} - {Ожидаемое}\\;{число})^2}{{Ожидаемое}\\;{число}}$$"
   ]
  },
  {
   "cell_type": "markdown",
   "metadata": {},
   "source": [
    "![](http://dl4.joxi.net/drive/2021/03/24/0046/2540/3033580/80/10ffdd54f3.jpg)"
   ]
  },
  {
   "cell_type": "markdown",
   "metadata": {},
   "source": [
    "Количество степеней свободы у χ2-распределения считается по формуле:"
   ]
  },
  {
   "cell_type": "markdown",
   "metadata": {},
   "source": [
    "$$df =(n - 1)(m - 1)$$"
   ]
  },
  {
   "cell_type": "markdown",
   "metadata": {},
   "source": [
    "где $n$ - число сравниваемых групп (их 3: 246, 247 и 248), а $m$ - число возможных исходов (совершил событие и не совершил событие, то есть 2). Таким образом, $df$ равно 2. \n",
    "\n",
    "Теперь воспользуемся специальным [калькулятором распределений](https://gallery.shinyapps.io/dist_calc/), где выберем распределение χ2, укажем число степеней свободы, равное двум, и χ2-значение, равное 2,766. В результате получим p-значение, равное 0,25:"
   ]
  },
  {
   "cell_type": "markdown",
   "metadata": {},
   "source": [
    "![](http://dl4.joxi.net/drive/2021/03/24/0046/2540/3033580/80/9263f8ee9d.jpg)"
   ]
  },
  {
   "cell_type": "markdown",
   "metadata": {},
   "source": [
    "Такое p-значение означает, что вероятность получить χ2-значение, равное 2,766, или ещё большее составляет 25%. Иными словами, вероятность получить наблюдаемое (или ещё большее) различие в конверсиях между группами 246, 247 и 248 составляет 25% при условии верности нулевой гипотезы. Так как это значительно больше критического значения альфа, равного 5%, то принимаем нулевую гипотезу, то есть конверсии в событие PaymentScreenSuccessful между тремя группами значимо не отличаются."
   ]
  },
  {
   "cell_type": "markdown",
   "metadata": {},
   "source": [
    "Результат проверки с помощью χ2-критерия совпал с результатом проверки с помощью z-значения: конверсии во всех трёх группах не отличаются, то есть изменение шрифта не влияет на конверсию. "
   ]
  },
  {
   "cell_type": "markdown",
   "metadata": {},
   "source": [
    "## <a name=\"6\"> Общие выводы </a>"
   ]
  },
  {
   "cell_type": "markdown",
   "metadata": {},
   "source": [
    "- За 2 недели теста (с 25 июля по 7 августа 2019 года) произошло 244 126 событий 7551 пользователем. В среднем каждый из пользователей совершил чуть больше 32 действий, а медиана по количеству событий у одного пользователя - 20;\n",
    "- В первую неделю событий практически не было, поэтому для анализа взят усечённый период с 1 по 7 августа;\n",
    "- Среди событий встречаются 5 типов, 4 из которых выстраиваются в воронку: MainScreenAppear (открытие главной страницы) -> OffersScreenAppear (открытие страницы с предложениями) -> CartScreenAppear (открытие страницы, где заполняются данные платёжной карты) -> PaymentScreenSuccessful (открытие страницы об успешной оплате). Пятое событие, Tutorial (открытие страницы с дополнительной информацией о приложении), к воронке не относится, так как может произойти на любом её этапе;\n",
    "- Только 62% от количества пользователей, зашедших на главную страницу, попадают на страницу с предложениями. 38% мы теряем сразу на первом шаге - пользователи открывают приложение и даже не доходят до товаров. Скорее всего есть проблема с главной страницей: возможно, недостаточно ясно, как перейти в раздел с товарами, или кнопка работает не на всех устройствах. На это надо обратить внимание разработчиков и тестировщиков;\n",
    "- Из тех, кто посмотрел товары, на страницу оплаты попадают 81%: 4 из 5 пользователей находят нужный им товар и готовы покупать. Хороший показатель;\n",
    "- Из тех, кто попал на страницу оплаты, удачно оплачивают 95%. Возможно, оставшиеся 5% передумывают в последний момент или временно откладывают покупку. Это кажется нормальным: цифра не такая большая;\n",
    "- От первого события до последнего доходит примерно 47% - каждый второй посетитель совершает покупку. Если устранить проблему с переходом на страницу предложений, то конверсия посетителей в сделки возрастёт еще сильнее;\n",
    "- Значимых различий в конверсиях двух контрольных групп (246 и 247) не выявлено. Это означает, что разбивка на группы и сам тест проведены корректно;\n",
    "- Статистически значимых различий в конверсиях тестовой 248 и контрольной 246 и 247 группы не выявлено. Также не выявлено различий между тестовой 248 и объединённой 246 и 247 группами. Изменение шрифтов не привело к изменению конверсий. "
   ]
  },
  {
   "cell_type": "markdown",
   "metadata": {},
   "source": [
    "Если короче, то можно сделать 2 вывода:\n",
    "- нужно разобраться, почему многие посетители не попадают на страницу с предложениями;\n",
    "- шрифты менять нет смысла, конверсия не меняется."
   ]
  },
  {
   "cell_type": "markdown",
   "metadata": {},
   "source": [
    "[В начало](#0)"
   ]
  }
 ],
 "metadata": {
  "kernelspec": {
   "display_name": "Python 3",
   "language": "python",
   "name": "python3"
  },
  "language_info": {
   "codemirror_mode": {
    "name": "ipython",
    "version": 3
   },
   "file_extension": ".py",
   "mimetype": "text/x-python",
   "name": "python",
   "nbconvert_exporter": "python",
   "pygments_lexer": "ipython3",
   "version": "3.9.1"
  },
  "toc": {
   "base_numbering": 1,
   "nav_menu": {},
   "number_sections": false,
   "sideBar": true,
   "skip_h1_title": false,
   "title_cell": "Table of Contents",
   "title_sidebar": "Contents",
   "toc_cell": false,
   "toc_position": {
    "height": "calc(100% - 180px)",
    "left": "10px",
    "top": "150px",
    "width": "203.391px"
   },
   "toc_section_display": true,
   "toc_window_display": true
  }
 },
 "nbformat": 4,
 "nbformat_minor": 2
}
