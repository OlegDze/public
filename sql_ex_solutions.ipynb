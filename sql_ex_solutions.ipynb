{
 "cells": [
  {
   "cell_type": "markdown",
   "metadata": {},
   "source": [
    "# Решения задач с сайта sql-ex.ru"
   ]
  },
  {
   "cell_type": "markdown",
   "metadata": {},
   "source": [
    "Все задачи и описание таблиц с данными взяты с сайта https://www.sql-ex.ru/ от 6 июня 2021 года. На этот момент времени на сайте 155 задач, для которых представлены решения."
   ]
  },
  {
   "cell_type": "markdown",
   "metadata": {},
   "source": [
    "## Структуры таблиц с данными"
   ]
  },
  {
   "cell_type": "markdown",
   "metadata": {},
   "source": [
    "All exercises are performed on the databases described below.\n",
    "\n",
    "### 1. Computer firm\n",
    "The database scheme consists of four tables:\n",
    "- Product(maker, model, type)\n",
    "- PC(code, model, speed, ram, hd, cd, price)\n",
    "- Laptop(code, model, speed, ram, hd, screen, price)\n",
    "- Printer(code, model, color, type, price)\n",
    "\n",
    "The Product table contains data on the maker, model number, and type of product ('PC', 'Laptop', or 'Printer'). It is assumed that model numbers in the Product table are unique for all makers and product types. Each personal computer in the PC table is unambiguously identified by a unique code, and is additionally characterized by its model (foreign key referring to the Product table), processor speed (in MHz) – speed field, RAM capacity (in Mb) - ram, hard disk drive capacity (in Gb) – hd, CD-ROM speed (e.g, '4x') - cd, and its price. The Laptop table is similar to the PC table, except that instead of the CD-ROM speed, it contains the screen size (in inches) – screen. For each printer model in the Printer table, its output type (‘y’ for color and ‘n’ for monochrome) – color field, printing technology ('Laser', 'Jet', or 'Matrix') – type, and price are specified.\n",
    "![](https://www.sql-ex.ru/images/computers.gif)\n",
    "\n",
    "### 2. Recycling firm\n",
    "The firm owns several buy-back centers for collection of recyclable materials. Each of them receives funds to be paid to the recyclables suppliers. Data on funds received is recorded in the table Income_o(point, date, inc). The primary key is (point, date), where point holds the identifier of the buy-back center, and date corresponds to the calendar date the funds were received. The date column doesn’t include the time part, thus, money (inc) arrives no more than once a day for each center. \n",
    "\n",
    "Information on payments to the recyclables suppliers is held in the table Outcome_o(point, date, out). In this table, the primary key (point, date) ensures each buy-back center reports about payments (out) no more than once a day, too.\n",
    "\n",
    "For the case income and expenditure may occur more than once a day, another database schema with tables having a primary key consisting of the single column code is used:\n",
    "- Income(code, point, date, inc);\n",
    "- Outcome(code, point, date, out).\n",
    "Here, the date column doesn’t include the time part, either.\n",
    "![](https://www.sql-ex.ru/images/income.gif)\n",
    "\n",
    "### 3. Ships\n",
    "The database of naval ships that took part in World War II is under consideration. The database consists of the following relations:\n",
    "- Classes(class, type, country, numGuns, bore, displacement)\n",
    "- Ships(name, class, launched)\n",
    "- Battles(name, date)\n",
    "- Outcomes(ship, battle, result)\n",
    "\n",
    "Ships in classes all have the same general design. A class is normally assigned either the name of the first ship built according to the corresponding design, or a name that is different from any ship name in the database. The ship whose name is assigned to a class is called a lead ship.\n",
    "The Classes relation includes the name of the class, type (can be either bb for a battle ship, or bc for a battle cruiser), country the ship was built in, the number of main guns, gun caliber (bore diameter in inches), and displacement (weight in tons). The Ships relation holds information about the ship name, the name of its corresponding class, and the year the ship was launched. The Battles relation contains names and dates of battles the ships participated in, and the Outcomes relation - the battle result for a given ship (may be sunk, damaged, or OK, the last value meaning the ship survived the battle unharmed).\n",
    "\n",
    "Notes: \n",
    "1) The Outcomes relation may contain ships not present in the Ships relation. \n",
    "2) A ship sunk can’t participate in later battles. \n",
    "3) For historical reasons, lead ships are referred to as head ships in many exercises.\n",
    "4) A ship found in the Outcomes table but not in the Ships table is still considered in the database. This is true even if it is sunk.\n",
    "![](https://www.sql-ex.ru/images/income.gif)\n",
    "\n",
    "### 4. Airport\n",
    "The database schema consists of 4 tables:\n",
    "- Company(ID_comp, name)\n",
    "- Trip(trip_no, id_comp, plane, town_from, town_to, time_out, time_in)\n",
    "- Passenger(ID_psg, name)\n",
    "- Pass_in_trip(trip_no, date, ID_psg, place)\n",
    "\n",
    "The Company table contains IDs and names of the airlines transporting passengers. The Trip table contains information on the schedule of flights: trip (flight) number, company (airline) ID, plane type, departure city, destination city, departure time, and arrival time. The Passenger table holds IDs and names of the passengers. The Pass_in_trip table contains data on flight bookings: trip number, departure date (day), passenger ID and her seat (place) designation during the flight. It should be noted that:\n",
    "- scheduled flights are operated daily; the duration of any flight is less than 24 hours; town_from <> town_to;\n",
    "- all time and date values are assumed to belong to the same time zone;\n",
    "- departure and arrival times are specified with one minute precision;\n",
    "- there can be several passengers bearing the same first name and surname (for example, Bruce Willis);\n",
    "- the seat (place) designation consists of a number followed by a letter; the number stands for the row, while the letter (a – d) defines the seat position in the grid (from left to right, in alphabetical order;\n",
    "- connections and constraints are shown in the database schema below.\n",
    "![](https://www.sql-ex.ru/images/aero.gif)\n",
    "\n",
    "### 5. Painting\n",
    "The database schema consists of 3 tables:\n",
    "- utQ (Q_ID int, Q_NAME varchar(35)), \n",
    "- utV (V_ID int, V_NAME varchar(35), V_COLOR char(1)), \n",
    "- utB (B_DATETIME datetime, B_Q_ID int, B_V_ID int, B_VOL tinyint).\n",
    "\n",
    "The utQ table contains the identifiers and names of squares, the initial color of which is black. (Note: black is not a color and is considered unpainted. Only Red, Green and Blue are colors.)\n",
    "The utV table contains the identifiers and names of spray cans and the color of paint they are filled with.\n",
    "The utB table holds information on squares being spray-painted, and contains the time of the painting event, the square and spray can identifiers, the quantity of paint being applied.\n",
    "\n",
    "It should be noted that:\n",
    "- a spray can may contain paint of one of three colors: red (V_COLOR='R'), green (V_COLOR='G'), or blue (V_COLOR='B');\n",
    "- any spray can initially contains 255 units of paint;\n",
    "- the square color is defined in accordance with the RGB model, i.e. R=0, G=0, B=0 is black, whereas R=255, G=255, B=255 is white;\n",
    "- any record in the utB table decreases the paint quantity in the corresponding spray can by B_VOL and accordingly increases the amount of paint applied to the square by the same value;\n",
    "- B_VOL must be greater than 0 and less or equal to 255;\n",
    "- the paint quantity of a single color applied to one square can’t exceed 255, and there can’t be a less than zero amount of paint in a spray can;\n",
    "- the time of the painting event (B_DATETIME) is specified with one second precision, i.e. it does not contain milliseconds;\n",
    "- for historical reasons, the spray cans are referred to as “balloons” by many of the exercises, and the utV table contains spray can names (V_NAME column) such as “Balloon # 01”, etc.\n",
    "![](https://www.sql-ex.ru/images/painting.gif)"
   ]
  },
  {
   "cell_type": "markdown",
   "metadata": {},
   "source": [
    "## Задачи"
   ]
  },
  {
   "cell_type": "markdown",
   "metadata": {},
   "source": [
    "1. Find the model number, speed and hard drive capacity for all the PCs with prices below $500. Result set: model, speed, hd."
   ]
  },
  {
   "cell_type": "raw",
   "metadata": {},
   "source": [
    "SELECT model, speed, hd\n",
    "FROM pc\n",
    "WHERE price < 500"
   ]
  },
  {
   "cell_type": "markdown",
   "metadata": {},
   "source": [
    "2. List all printer makers. Result set: maker."
   ]
  },
  {
   "cell_type": "raw",
   "metadata": {},
   "source": [
    "SELECT DISTINCT maker\n",
    "FROM product\n",
    "WHERE type = 'Printer'"
   ]
  },
  {
   "cell_type": "markdown",
   "metadata": {},
   "source": [
    "3. Find the model number, RAM and screen size of the laptops with prices over $1000."
   ]
  },
  {
   "cell_type": "raw",
   "metadata": {},
   "source": [
    "SELECT model, ram, screen\n",
    "FROM laptop\n",
    "WHERE price > 1000"
   ]
  },
  {
   "cell_type": "markdown",
   "metadata": {},
   "source": [
    "4. Find all records from the Printer table containing data about color printers."
   ]
  },
  {
   "cell_type": "raw",
   "metadata": {},
   "source": [
    "SELECT *\n",
    "FROM printer\n",
    "WHERE color = 'y'"
   ]
  },
  {
   "cell_type": "markdown",
   "metadata": {},
   "source": [
    "5. Find the model number, speed and hard drive capacity of PCs cheaper than $600 having a 12x or a 24x CD drive."
   ]
  },
  {
   "cell_type": "raw",
   "metadata": {},
   "source": [
    "SELECT model, speed, hd\n",
    "FROM pc\n",
    "WHERE cd IN ('12x', '24x')\n",
    "AND price < 600"
   ]
  },
  {
   "cell_type": "markdown",
   "metadata": {},
   "source": [
    "6. For each maker producing laptops with a hard drive capacity of 10 Gb or higher, find the speed of such laptops. Result set: maker, speed."
   ]
  },
  {
   "cell_type": "raw",
   "metadata": {},
   "source": [
    "SELECT DISTINCT maker, speed\n",
    "FROM product p\n",
    "INNER JOIN laptop l\n",
    "ON p.model = l.model\n",
    "WHERE hd >= 10\n",
    "AND type = 'Laptop'"
   ]
  },
  {
   "cell_type": "markdown",
   "metadata": {},
   "source": [
    "7. Get the models and prices for all commercially available products (of any type) produced by maker B."
   ]
  },
  {
   "cell_type": "raw",
   "metadata": {},
   "source": [
    "SELECT p.model, pc.price\n",
    "FROM pc\n",
    "INNER JOIN product p\n",
    "ON pc.model = p.model\n",
    "WHERE maker = 'B'\n",
    "UNION\n",
    "SELECT p.model, l.price\n",
    "FROM Laptop l\n",
    "INNER JOIN product p\n",
    "ON l.model = p.model\n",
    "WHERE maker = 'B'\n",
    "UNION\n",
    "SELECT p.model, pr.price\n",
    "FROM Printer pr\n",
    "INNER JOIN product p\n",
    "ON pr.model = p.model\n",
    "WHERE maker = 'B'"
   ]
  },
  {
   "cell_type": "markdown",
   "metadata": {},
   "source": [
    "8. Find the makers producing PCs but not laptops."
   ]
  },
  {
   "cell_type": "raw",
   "metadata": {},
   "source": [
    "SELECT DISTINCT maker \n",
    "FROM product\n",
    "WHERE type = 'PC'\n",
    "EXCEPT\n",
    "SELECT DISTINCT maker \n",
    "FROM product\n",
    "WHERE type = 'Laptop'"
   ]
  },
  {
   "cell_type": "markdown",
   "metadata": {},
   "source": [
    "9. Find the makers of PCs with a processor speed of 450 MHz or more. Result set: maker."
   ]
  },
  {
   "cell_type": "raw",
   "metadata": {},
   "source": [
    "SELECT DISTINCT maker\n",
    "FROM product p\n",
    "INNER JOIN pc\n",
    "ON p.model = pc.model\n",
    "WHERE speed >= 450"
   ]
  },
  {
   "cell_type": "markdown",
   "metadata": {},
   "source": [
    "10. Find the printer models having the highest price. Result set: model, price."
   ]
  },
  {
   "cell_type": "raw",
   "metadata": {},
   "source": [
    "SELECT model, price\n",
    "FROM printer\n",
    "WHERE price = (SELECT MAX(price) FROM printer)"
   ]
  },
  {
   "cell_type": "markdown",
   "metadata": {},
   "source": [
    "11. Find out the average speed of PCs."
   ]
  },
  {
   "cell_type": "raw",
   "metadata": {},
   "source": [
    "SELECT AVG(speed)\n",
    "FROM pc"
   ]
  },
  {
   "cell_type": "markdown",
   "metadata": {},
   "source": [
    "12. Find out the average speed of the laptops priced over $1000."
   ]
  },
  {
   "cell_type": "raw",
   "metadata": {},
   "source": [
    "SELECT AVG(speed)\n",
    "FROM laptop\n",
    "WHERE price > 1000"
   ]
  },
  {
   "cell_type": "markdown",
   "metadata": {},
   "source": [
    "13. Find out the average speed of the PCs produced by maker A."
   ]
  },
  {
   "cell_type": "raw",
   "metadata": {},
   "source": [
    "SELECT AVG(speed)\n",
    "FROM pc\n",
    "INNER JOIN product p\n",
    "ON pc.model = p.model\n",
    "WHERE maker = 'A'"
   ]
  },
  {
   "cell_type": "markdown",
   "metadata": {},
   "source": [
    "14. For the ships in the Ships table that have at least 10 guns, get the class, name, and country."
   ]
  },
  {
   "cell_type": "raw",
   "metadata": {},
   "source": [
    "SELECT s.class\n",
    ", name\n",
    ", country\n",
    "FROM ships s\n",
    "INNER JOIN classes c\n",
    "ON s.class = c.class\n",
    "WHERE numguns >= 10"
   ]
  },
  {
   "cell_type": "code",
   "execution_count": null,
   "metadata": {},
   "outputs": [],
   "source": []
  },
  {
   "cell_type": "code",
   "execution_count": null,
   "metadata": {},
   "outputs": [],
   "source": []
  },
  {
   "cell_type": "code",
   "execution_count": null,
   "metadata": {},
   "outputs": [],
   "source": []
  },
  {
   "cell_type": "code",
   "execution_count": null,
   "metadata": {},
   "outputs": [],
   "source": []
  }
 ],
 "metadata": {
  "kernelspec": {
   "display_name": "Python 3",
   "language": "python",
   "name": "python3"
  },
  "language_info": {
   "codemirror_mode": {
    "name": "ipython",
    "version": 3
   },
   "file_extension": ".py",
   "mimetype": "text/x-python",
   "name": "python",
   "nbconvert_exporter": "python",
   "pygments_lexer": "ipython3",
   "version": "3.9.1"
  }
 },
 "nbformat": 4,
 "nbformat_minor": 4
}
