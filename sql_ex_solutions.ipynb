{
 "cells": [
  {
   "cell_type": "markdown",
   "metadata": {},
   "source": [
    "# Решения задач с сайта sql-ex.ru"
   ]
  },
  {
   "cell_type": "markdown",
   "metadata": {},
   "source": [
    "Схемы таблиц с данными и задачи взяты с сайта https://www.sql-ex.ru/ от 6 июня 2021 года. На этот момент времени на сайте всего 155 задач. Для них представлены решения."
   ]
  },
  {
   "cell_type": "markdown",
   "metadata": {},
   "source": [
    "## <a name=\"1\"> Содержание: </a>"
   ]
  },
  {
   "cell_type": "markdown",
   "metadata": {},
   "source": [
    "- [Схемы таблиц с данными](#1)\n",
    "- [Задачи и решения](#2)"
   ]
  },
  {
   "cell_type": "markdown",
   "metadata": {},
   "source": [
    "## <a name=\"1\"> Схемы таблиц с данными </a>"
   ]
  },
  {
   "cell_type": "markdown",
   "metadata": {},
   "source": [
    "All exercises are performed on the databases described below.\n",
    "\n",
    "### 1. Computer firm\n",
    "The database scheme consists of four tables:\n",
    "- Product(maker, model, type)\n",
    "- PC(code, model, speed, ram, hd, cd, price)\n",
    "- Laptop(code, model, speed, ram, hd, screen, price)\n",
    "- Printer(code, model, color, type, price)\n",
    "\n",
    "The Product table contains data on the maker, model number, and type of product ('PC', 'Laptop', or 'Printer'). It is assumed that model numbers in the Product table are unique for all makers and product types. Each personal computer in the PC table is unambiguously identified by a unique code, and is additionally characterized by its model (foreign key referring to the Product table), processor speed (in MHz) – speed field, RAM capacity (in Mb) - ram, hard disk drive capacity (in Gb) – hd, CD-ROM speed (e.g, '4x') - cd, and its price. The Laptop table is similar to the PC table, except that instead of the CD-ROM speed, it contains the screen size (in inches) – screen. For each printer model in the Printer table, its output type (‘y’ for color and ‘n’ for monochrome) – color field, printing technology ('Laser', 'Jet', or 'Matrix') – type, and price are specified.\n",
    "![](https://www.sql-ex.ru/images/computers.gif)\n",
    "\n",
    "### 2. Recycling firm\n",
    "The firm owns several buy-back centers for collection of recyclable materials. Each of them receives funds to be paid to the recyclables suppliers. Data on funds received is recorded in the table Income_o(point, date, inc). The primary key is (point, date), where point holds the identifier of the buy-back center, and date corresponds to the calendar date the funds were received. The date column doesn’t include the time part, thus, money (inc) arrives no more than once a day for each center. \n",
    "\n",
    "Information on payments to the recyclables suppliers is held in the table Outcome_o(point, date, out). In this table, the primary key (point, date) ensures each buy-back center reports about payments (out) no more than once a day, too.\n",
    "\n",
    "For the case income and expenditure may occur more than once a day, another database schema with tables having a primary key consisting of the single column code is used:\n",
    "- Income(code, point, date, inc);\n",
    "- Outcome(code, point, date, out).\n",
    "Here, the date column doesn’t include the time part, either.\n",
    "![](https://www.sql-ex.ru/images/income.gif)\n",
    "\n",
    "### 3. Ships\n",
    "The database of naval ships that took part in World War II is under consideration. The database consists of the following relations:\n",
    "- Classes(class, type, country, numGuns, bore, displacement)\n",
    "- Ships(name, class, launched)\n",
    "- Battles(name, date)\n",
    "- Outcomes(ship, battle, result)\n",
    "\n",
    "Ships in classes all have the same general design. A class is normally assigned either the name of the first ship built according to the corresponding design, or a name that is different from any ship name in the database. The ship whose name is assigned to a class is called a lead ship.\n",
    "The Classes relation includes the name of the class, type (can be either bb for a battle ship, or bc for a battle cruiser), country the ship was built in, the number of main guns, gun caliber (bore diameter in inches), and displacement (weight in tons). The Ships relation holds information about the ship name, the name of its corresponding class, and the year the ship was launched. The Battles relation contains names and dates of battles the ships participated in, and the Outcomes relation - the battle result for a given ship (may be sunk, damaged, or OK, the last value meaning the ship survived the battle unharmed).\n",
    "\n",
    "Notes: \n",
    "1) The Outcomes relation may contain ships not present in the Ships relation. \n",
    "2) A ship sunk can’t participate in later battles. \n",
    "3) For historical reasons, lead ships are referred to as head ships in many exercises.\n",
    "4) A ship found in the Outcomes table but not in the Ships table is still considered in the database. This is true even if it is sunk.\n",
    "![](https://www.sql-ex.ru/images/ships.gif)\n",
    "\n",
    "### 4. Airport\n",
    "The database schema consists of 4 tables:\n",
    "- Company(ID_comp, name)\n",
    "- Trip(trip_no, id_comp, plane, town_from, town_to, time_out, time_in)\n",
    "- Passenger(ID_psg, name)\n",
    "- Pass_in_trip(trip_no, date, ID_psg, place)\n",
    "\n",
    "The Company table contains IDs and names of the airlines transporting passengers. The Trip table contains information on the schedule of flights: trip (flight) number, company (airline) ID, plane type, departure city, destination city, departure time, and arrival time. The Passenger table holds IDs and names of the passengers. The Pass_in_trip table contains data on flight bookings: trip number, departure date (day), passenger ID and her seat (place) designation during the flight. It should be noted that:\n",
    "- scheduled flights are operated daily; the duration of any flight is less than 24 hours; town_from <> town_to;\n",
    "- all time and date values are assumed to belong to the same time zone;\n",
    "- departure and arrival times are specified with one minute precision;\n",
    "- there can be several passengers bearing the same first name and surname (for example, Bruce Willis);\n",
    "- the seat (place) designation consists of a number followed by a letter; the number stands for the row, while the letter (a – d) defines the seat position in the grid (from left to right, in alphabetical order;\n",
    "- connections and constraints are shown in the database schema below.\n",
    "![](https://www.sql-ex.ru/images/aero.gif)\n",
    "\n",
    "### 5. Painting\n",
    "The database schema consists of 3 tables:\n",
    "- utQ (Q_ID int, Q_NAME varchar(35)), \n",
    "- utV (V_ID int, V_NAME varchar(35), V_COLOR char(1)), \n",
    "- utB (B_DATETIME datetime, B_Q_ID int, B_V_ID int, B_VOL tinyint).\n",
    "\n",
    "The utQ table contains the identifiers and names of squares, the initial color of which is black. (Note: black is not a color and is considered unpainted. Only Red, Green and Blue are colors.)\n",
    "The utV table contains the identifiers and names of spray cans and the color of paint they are filled with.\n",
    "The utB table holds information on squares being spray-painted, and contains the time of the painting event, the square and spray can identifiers, the quantity of paint being applied.\n",
    "\n",
    "It should be noted that:\n",
    "- a spray can may contain paint of one of three colors: red (V_COLOR='R'), green (V_COLOR='G'), or blue (V_COLOR='B');\n",
    "- any spray can initially contains 255 units of paint;\n",
    "- the square color is defined in accordance with the RGB model, i.e. R=0, G=0, B=0 is black, whereas R=255, G=255, B=255 is white;\n",
    "- any record in the utB table decreases the paint quantity in the corresponding spray can by B_VOL and accordingly increases the amount of paint applied to the square by the same value;\n",
    "- B_VOL must be greater than 0 and less or equal to 255;\n",
    "- the paint quantity of a single color applied to one square can’t exceed 255, and there can’t be a less than zero amount of paint in a spray can;\n",
    "- the time of the painting event (B_DATETIME) is specified with one second precision, i.e. it does not contain milliseconds;\n",
    "- for historical reasons, the spray cans are referred to as “balloons” by many of the exercises, and the utV table contains spray can names (V_NAME column) such as “Balloon # 01”, etc.\n",
    "![](https://www.sql-ex.ru/images/painting.gif)"
   ]
  },
  {
   "cell_type": "markdown",
   "metadata": {},
   "source": [
    "[В начало](#0)"
   ]
  },
  {
   "cell_type": "markdown",
   "metadata": {},
   "source": [
    "## <a name=\"2\"> Задачи и решения </a>"
   ]
  },
  {
   "cell_type": "markdown",
   "metadata": {},
   "source": [
    "Exercise 1: \n",
    "\n",
    "Find the model number, speed and hard drive capacity for all the PCs with prices below $500. Result set: model, speed, hd.\n",
    "\n",
    "`SELECT model, speed, hd\n",
    "FROM pc\n",
    "WHERE price < 500`"
   ]
  },
  {
   "cell_type": "markdown",
   "metadata": {},
   "source": [
    "Exercise 2:\n",
    "\n",
    "List all printer makers. Result set: maker.\n",
    "\n",
    "`SELECT DISTINCT maker\n",
    "FROM product\n",
    "WHERE type = 'Printer'`"
   ]
  },
  {
   "cell_type": "markdown",
   "metadata": {},
   "source": [
    "Exercise 3:\n",
    "\n",
    "Find the model number, RAM and screen size of the laptops with prices over $1000.\n",
    "\n",
    "`SELECT model, ram, screen\n",
    "FROM laptop\n",
    "WHERE price > 1000`"
   ]
  },
  {
   "cell_type": "markdown",
   "metadata": {},
   "source": [
    "Exercise 4:\n",
    "\n",
    "Find all records from the Printer table containing data about color printers.\n",
    "\n",
    "`SELECT *\n",
    "FROM printer\n",
    "WHERE color = 'y'`"
   ]
  },
  {
   "cell_type": "markdown",
   "metadata": {},
   "source": [
    "Exercise 5:\n",
    "\n",
    "Find the model number, speed and hard drive capacity of PCs cheaper than $600 having a 12x or a 24x CD drive.\n",
    "\n",
    "`SELECT model, speed, hd\n",
    "FROM pc\n",
    "WHERE cd IN ('12x', '24x')\n",
    "AND price < 600`"
   ]
  },
  {
   "cell_type": "markdown",
   "metadata": {},
   "source": [
    "Exercise 6:\n",
    "\n",
    "For each maker producing laptops with a hard drive capacity of 10 Gb or higher, find the speed of such laptops. Result set: maker, speed.\n",
    "\n",
    "`SELECT DISTINCT maker, speed\n",
    "FROM product p\n",
    "INNER JOIN laptop l\n",
    "ON p.model = l.model\n",
    "WHERE hd >= 10\n",
    "AND type = 'Laptop'`"
   ]
  },
  {
   "cell_type": "markdown",
   "metadata": {},
   "source": [
    "Exercise 7: \n",
    "\n",
    "Get the models and prices for all commercially available products (of any type) produced by maker B.\n",
    "\n",
    "`SELECT p.model, pc.price\n",
    "FROM pc\n",
    "INNER JOIN product p\n",
    "ON pc.model = p.model\n",
    "WHERE maker = 'B'\n",
    "UNION\n",
    "SELECT p.model, l.price\n",
    "FROM Laptop l\n",
    "INNER JOIN product p\n",
    "ON l.model = p.model\n",
    "WHERE maker = 'B'\n",
    "UNION\n",
    "SELECT p.model, pr.price\n",
    "FROM Printer pr\n",
    "INNER JOIN product p\n",
    "ON pr.model = p.model\n",
    "WHERE maker = 'B'`"
   ]
  },
  {
   "cell_type": "markdown",
   "metadata": {},
   "source": [
    "Exercise 8:\n",
    "\n",
    "Find the makers producing PCs but not laptops.\n",
    "\n",
    "`SELECT DISTINCT maker \n",
    "FROM product\n",
    "WHERE type = 'PC'\n",
    "EXCEPT\n",
    "SELECT DISTINCT maker \n",
    "FROM product\n",
    "WHERE type = 'Laptop'`"
   ]
  },
  {
   "cell_type": "markdown",
   "metadata": {},
   "source": [
    "Exercise 9: \n",
    "\n",
    "Find the makers of PCs with a processor speed of 450 MHz or more. Result set: maker.\n",
    "\n",
    "`SELECT DISTINCT maker\n",
    "FROM product p\n",
    "INNER JOIN pc\n",
    "ON p.model = pc.model\n",
    "WHERE speed >= 450`"
   ]
  },
  {
   "cell_type": "markdown",
   "metadata": {},
   "source": [
    "Exercise 10: \n",
    "\n",
    "Find the printer models having the highest price. Result set: model, price.\n",
    "\n",
    "`SELECT model, price\n",
    "FROM printer\n",
    "WHERE price = (SELECT MAX(price) FROM printer)`"
   ]
  },
  {
   "cell_type": "markdown",
   "metadata": {},
   "source": [
    "Exercise 11: \n",
    "\n",
    "Find out the average speed of PCs.\n",
    "\n",
    "`SELECT AVG(speed)\n",
    "FROM pc`"
   ]
  },
  {
   "cell_type": "markdown",
   "metadata": {},
   "source": [
    "Exercise 12: \n",
    "\n",
    "Find out the average speed of the laptops priced over $1000.\n",
    "\n",
    "`SELECT AVG(speed)\n",
    "FROM laptop\n",
    "WHERE price > 1000`"
   ]
  },
  {
   "cell_type": "markdown",
   "metadata": {},
   "source": [
    "Exercise 13: \n",
    "\n",
    "Find out the average speed of the PCs produced by maker A.\n",
    "\n",
    "`SELECT AVG(speed)\n",
    "FROM pc\n",
    "INNER JOIN product p\n",
    "ON pc.model = p.model\n",
    "WHERE maker = 'A'`"
   ]
  },
  {
   "cell_type": "markdown",
   "metadata": {},
   "source": [
    "Exercise 14: \n",
    "\n",
    "For the ships in the Ships table that have at least 10 guns, get the class, name, and country.\n",
    "\n",
    "`SELECT s.class\n",
    ", name\n",
    ", country\n",
    "FROM ships s\n",
    "INNER JOIN classes c\n",
    "ON s.class = c.class\n",
    "WHERE numguns >= 10`"
   ]
  },
  {
   "cell_type": "markdown",
   "metadata": {},
   "source": [
    "Exercise 15:\n",
    "\n",
    "Get hard drive capacities that are identical for two or more PCs.\n",
    "Result set: hd.\n",
    "\n",
    "`SELECT hd\n",
    "FROM pc\n",
    "GROUP BY hd\n",
    "HAVING COUNT(hd) >=2`"
   ]
  },
  {
   "cell_type": "markdown",
   "metadata": {},
   "source": [
    "Exercise 16:\n",
    "\n",
    "Get pairs of PC models with identical speeds and the same RAM capacity. Each resulting pair should be displayed only once, i.e. (i, j) but not (j, i).\n",
    "Result set: model with the bigger number, model with the smaller number, speed, and RAM.\n",
    "\n",
    "`SELECT DISTINCT pc1.model\n",
    ", pc2.model\n",
    ", pc1.speed\n",
    ", pc1.ram\n",
    "FROM pc pc1 INNER JOIN pc pc2\n",
    "ON pc1.speed = pc2.speed\n",
    "AND pc1.ram = pc2.ram\n",
    "AND pc1.model > pc2.model`"
   ]
  },
  {
   "cell_type": "markdown",
   "metadata": {},
   "source": [
    "Exercise 17:\n",
    "\n",
    "Get the laptop models that have a speed smaller than the speed of any PC.\n",
    "Result set: type, model, speed.\n",
    "\n",
    "`SELECT DISTINCT type\n",
    ", l.model\n",
    ", speed\n",
    "FROM laptop l\n",
    "INNER JOIN product p\n",
    "ON l.model = p.model\n",
    "WHERE speed < (SELECT MIN(speed) FROM pc)`"
   ]
  },
  {
   "cell_type": "markdown",
   "metadata": {},
   "source": [
    "Exercise 18:\n",
    "\n",
    "Find the makers of the cheapest color printers.\n",
    "Result set: maker, price.\n",
    "\n",
    "`SELECT DISTINCT maker, price\n",
    "FROM product p\n",
    "INNER JOIN\n",
    "(SELECT model, price\n",
    "FROM printer\n",
    "WHERE color = 'y' AND price = \n",
    "(SELECT MIN(price)\n",
    "FROM printer\n",
    "WHERE color = 'y')) AS t\n",
    "ON p.model = t.model`"
   ]
  },
  {
   "cell_type": "markdown",
   "metadata": {},
   "source": [
    "Exercise 19:\n",
    "\n",
    "For each maker having models in the Laptop table, find out the average screen size of the laptops he produces.\n",
    "Result set: maker, average screen size.\n",
    "\n",
    "`SELECT maker, AVG(screen)\n",
    "FROM laptop l\n",
    "INNER JOIN product p\n",
    "ON l.model = p.model\n",
    "GROUP BY maker`"
   ]
  },
  {
   "cell_type": "markdown",
   "metadata": {},
   "source": [
    "Exercise 20: \n",
    "\n",
    "Find the makers producing at least three distinct models of PCs.\n",
    "Result set: maker, number of PC models.\n",
    "\n",
    "`SELECT maker, COUNT(*) models_num\n",
    "FROM product\n",
    "WHERE type = 'pc'\n",
    "GROUP BY maker\n",
    "HAVING COUNT(*) > 2`"
   ]
  },
  {
   "cell_type": "markdown",
   "metadata": {},
   "source": [
    "Exercise 21:\n",
    "\n",
    "Find out the maximum PC price for each maker having models in the PC table. Result set: maker, maximum price.\n",
    "\n",
    "`SELECT maker, MAX(price)\n",
    "FROM product p\n",
    "INNER JOIN pc\n",
    "ON p.model = pc.model\n",
    "GROUP BY maker`"
   ]
  },
  {
   "cell_type": "markdown",
   "metadata": {},
   "source": [
    "Exercise 22:\n",
    "\n",
    "For each value of PC speed that exceeds 600 MHz, find out the average price of PCs with identical speeds.\n",
    "Result set: speed, average price.\n",
    "\n",
    "`SELECT speed, AVG(price)\n",
    "FROM pc\n",
    "WHERE speed > 600\n",
    "GROUP BY speed\n",
    "`"
   ]
  },
  {
   "cell_type": "markdown",
   "metadata": {},
   "source": [
    "Exercise 23: \n",
    "\n",
    "Get the makers producing both PCs having a speed of 750 MHz or higher and laptops with a speed of 750 MHz or higher.\n",
    "Result set: maker\n",
    "\n",
    "`SELECT DISTINCT maker\n",
    "FROM product p\n",
    "WHERE maker IN \n",
    "(SELECT maker\n",
    "FROM product p\n",
    "INNER JOIN pc\n",
    "ON p.model = pc.model\n",
    "AND pc.speed >= 750)\n",
    "AND maker in\n",
    "(SELECT maker\n",
    "FROM product p\n",
    "INNER JOIN laptop l\n",
    "ON p.model = l.model\n",
    "AND l.speed >= 750)`"
   ]
  },
  {
   "cell_type": "markdown",
   "metadata": {},
   "source": [
    "Exercise 24:\n",
    "\n",
    "List the models of any type having the highest price of all products present in the database.\n",
    "\n",
    "`WITH temp AS \n",
    "(\n",
    "SELECT model, price\n",
    "FROM pc\n",
    "WHERE price = (SELECT MAX(price) FROM pc)\n",
    "UNION\n",
    "SELECT model, price\n",
    "FROM laptop\n",
    "WHERE price = (SELECT MAX(price) FROM laptop)\n",
    "UNION\n",
    "SELECT model, price\n",
    "FROM printer\n",
    "WHERE price = (SELECT MAX(price) FROM printer)\n",
    ")\n",
    "SELECT model\n",
    "FROM temp\n",
    "WHERE price = (SELECT MAX(price) FROM temp)\n",
    "`"
   ]
  },
  {
   "cell_type": "markdown",
   "metadata": {},
   "source": [
    "Exercise 25: \n",
    "\n",
    "Find the printer makers also producing PCs with the lowest RAM capacity and the highest processor speed of all PCs having the lowest RAM capacity.\n",
    "Result set: maker.\n",
    "\n",
    "`WITH min_ram AS\n",
    "(SELECT min(ram) ram FROM pc)\n",
    ", max_speed AS\n",
    "(SELECT max(speed) speed FROM pc\n",
    "WHERE ram = (SELECT ram FROM min_ram))\n",
    ", maker AS\n",
    "(SELECT maker\n",
    "FROM pc\n",
    "INNER JOIN product p\n",
    "ON ram = (SELECT ram FROM min_ram)\n",
    "AND speed = (SELECT speed FROM max_speed)\n",
    "AND pc.model = p.model)\n",
    "SELECT DISTINCT m.maker\n",
    "FROM product p\n",
    "INNER JOIN maker m\n",
    "ON m.maker = p.maker\n",
    "AND type = 'printer'`"
   ]
  },
  {
   "cell_type": "markdown",
   "metadata": {},
   "source": [
    "Exercise 26: \n",
    "\n",
    "Find out the average price of PCs and laptops produced by maker A.\n",
    "Result set: one overall average price for all items.\n",
    "\n",
    "`WITH temp AS\n",
    "(SELECT maker, p.model, price\n",
    "FROM product p\n",
    "INNER JOIN pc\n",
    "ON pc.model = p.model\n",
    "AND p.maker = 'A'\n",
    "AND p.type = 'PC'\n",
    "UNION ALL\n",
    "SELECT maker, p.model, price\n",
    "FROM product p\n",
    "INNER JOIN laptop l\n",
    "ON l.model = p.model\n",
    "AND p.maker = 'A'\n",
    "AND p.type = 'Laptop')\n",
    "SELECT AVG(price)\n",
    "FROM temp`"
   ]
  },
  {
   "cell_type": "markdown",
   "metadata": {},
   "source": [
    "Exercise 27:\n",
    "\n",
    "Find out the average hard disk drive capacity of PCs produced by makers who also manufacture printers.\n",
    "Result set: maker, average HDD capacity.\n",
    "\n",
    "`SELECT p.maker, AVG(hd)\n",
    "FROM pc\n",
    "INNER JOIN product p\n",
    "ON p.model = pc.model\n",
    "AND p.maker IN \n",
    "(\n",
    "SELECT distinct maker\n",
    "FROM product\n",
    "WHERE type = 'Printer'\n",
    ")\n",
    "GROUP BY p.maker`"
   ]
  },
  {
   "cell_type": "markdown",
   "metadata": {},
   "source": [
    "Exercise 28:\n",
    "\n",
    "Using Product table, find out the number of makers who produce only one model.\n",
    "\n",
    "`SELECT COUNT(maker)\n",
    "FROM \n",
    "(SELECT maker\n",
    "FROM product\n",
    "GROUP BY maker\n",
    "HAVING COUNT(model) = 1) AS a`"
   ]
  },
  {
   "cell_type": "markdown",
   "metadata": {},
   "source": [
    "Exercise 29:\n",
    "\n",
    "Under the assumption that receipts of money (inc) and payouts (out) are registered not more than once a day for each collection point [i.e. the primary key consists of (point, date)], write a query displaying cash flow data (point, date, income, expense).\n",
    "Use Income_o and Outcome_o tables.\n",
    "\n",
    "`SELECT CASE WHEN i.point IS NULL THEN o.point\n",
    "WHEN o.point IS NULL THEN i.point\n",
    "ELSE i.point END AS point\n",
    ", CASE WHEN i.date IS NULL THEN o.date\n",
    "WHEN o.date IS NULL THEN i.date\n",
    "ELSE i.date END AS date\n",
    ", SUM(inc) AS inc\n",
    ", SUM(out) AS out\n",
    "FROM outcome_o o\n",
    "FULL JOIN income_o i\n",
    "ON o.point = i.point\n",
    "AND o.date = i.date\n",
    "GROUP BY CASE WHEN i.point IS NULL THEN o.point\n",
    "WHEN o.point IS NULL THEN i.point\n",
    "ELSE i.point END\n",
    ", CASE WHEN i.date IS NULL THEN o.date\n",
    "WHEN o.date IS NULL THEN i.date\n",
    "ELSE i.date END`"
   ]
  },
  {
   "cell_type": "markdown",
   "metadata": {},
   "source": [
    "Exercise 30:\n",
    "\n",
    "Under the assumption that receipts of money (inc) and payouts (out) can be registered any number of times a day for each collection point [i.e. the code column is the primary key], display a table with one corresponding row for each operating date of each collection point.\n",
    "Result set: point, date, total payout per day (out), total money intake per day (inc).\n",
    "Missing values are considered to be NULL.\n",
    "\n",
    "`WITH inc_gr AS\n",
    "(SELECT point, date, SUM(inc) inc\n",
    "FROM income\n",
    "GROUP BY point, date)\n",
    ", out_gr as\n",
    "(SELECT point, date, SUM(out) out\n",
    "FROM outcome\n",
    "GROUP BY point, date)\n",
    "SELECT i.point, i.date, out, inc\n",
    "FROM inc_gr i LEFT JOIN out_gr o\n",
    "ON i.point = o.point AND i.date = o.date\n",
    "UNION\n",
    "SELECT o.point, o.date, out, inc\n",
    "FROM inc_gr i RIGHT JOIN out_gr o\n",
    "ON i.point = o.point AND i.date = o.date`"
   ]
  },
  {
   "cell_type": "markdown",
   "metadata": {},
   "source": [
    "Exercise 31:\n",
    "\n",
    "For ship classes with a gun caliber of 16 in. or more, display the class and the country.\n",
    "\n",
    "`SELECT class, country\n",
    "FROM classes\n",
    "WHERE bore >= 16`"
   ]
  },
  {
   "cell_type": "markdown",
   "metadata": {},
   "source": [
    "Exercise 32:\n",
    "\n",
    "One of the characteristics of a ship is one-half the cube of the calibre of its main guns (mw).\n",
    "Determine the average ship mw with an accuracy of two decimal places for each country having ships in the database.\n",
    "\n",
    "`SELECT country, CAST(AVG(POWER(bore, 3)/2) AS NUMERIC(10, 2)) \n",
    "FROM\n",
    "(SELECT country, bore, name \n",
    "FROM classes c\n",
    "INNER JOIN ships s\n",
    "ON s.class = c.class\n",
    "UNION\n",
    "SELECT country, bore, ship \n",
    "FROM classes c\n",
    "INNER JOIN outcomes o\n",
    "ON o.ship = c.class \n",
    "AND o.ship NOT IN(SELECT DISTINCT name FROM ships)) AS n\n",
    "GROUP BY country`"
   ]
  },
  {
   "cell_type": "markdown",
   "metadata": {},
   "source": [
    "Exercise 33:\n",
    "\n",
    "Get the ships sunk in the North Atlantic battle.\n",
    "Result set: ship.\n",
    "\n",
    "`SELECT ship\n",
    "FROM outcomes\n",
    "WHERE battle = 'North Atlantic'\n",
    "AND result = 'sunk'`"
   ]
  },
  {
   "cell_type": "markdown",
   "metadata": {},
   "source": [
    "Exercise 34:\n",
    "\n",
    "In accordance with the Washington Naval Treaty concluded in the beginning of 1922, it was prohibited to build battle ships with a displacement of more than 35 thousand tons.\n",
    "Get the ships violating this treaty (only consider ships for which the year of launch is known).\n",
    "List the names of the ships.\n",
    "\n",
    "`SELECT name \n",
    "FROM classes c\n",
    "INNER JOIN ships s\n",
    "ON c.class = s.class\n",
    "WHERE displacement > 35000\n",
    "AND launched >= 1922\n",
    "AND type = 'bb'`"
   ]
  },
  {
   "cell_type": "markdown",
   "metadata": {},
   "source": [
    "Exercise 35:\n",
    "\n",
    "Find models in the Product table consisting either of digits only or Latin letters (A-Z, case insensitive) only.\n",
    "Result set: model, type.\n",
    "\n",
    "`SELECT model, type \n",
    "FROM Product \n",
    "WHERE model NOT LIKE '%[^A-Z]%' \n",
    "OR model NOT LIKE '%[^0-9]%'`"
   ]
  },
  {
   "cell_type": "markdown",
   "metadata": {},
   "source": [
    "Exercise 36:\n",
    "\n",
    "List the names of lead ships in the database (including the Outcomes table).\n",
    "\n",
    "`SELECT class\n",
    "FROM classes\n",
    "WHERE class IN\n",
    "(SELECT name\n",
    "FROM ships\n",
    "UNION\n",
    "SELECT ship \n",
    "FROM outcomes)`"
   ]
  },
  {
   "cell_type": "markdown",
   "metadata": {},
   "source": [
    "Exercise 37:\n",
    "\n",
    "Find classes for which only one ship exists in the database (including the Outcomes table).\n",
    "\n",
    "`SELECT c.class\n",
    "FROM classes c \n",
    "INNER JOIN\n",
    "(SELECT name AS name, class AS class\n",
    "FROM ships\n",
    "UNION\n",
    "SELECT ship AS name, ship AS class\n",
    "FROM outcomes) u\n",
    "ON u.class = c.class OR u.name = c.class\n",
    "GROUP BY c.class\n",
    "HAVING COUNT(*) = 1`"
   ]
  },
  {
   "cell_type": "markdown",
   "metadata": {},
   "source": [
    "Exercise 38:\n",
    "\n",
    "Find countries that ever had classes of both battleships (‘bb’) and cruisers (‘bc’).\n",
    "\n",
    "`SELECT country\n",
    "FROM classes\n",
    "WHERE type = 'bb' OR type = 'bc'\n",
    "GROUP BY country\n",
    "HAVING COUNT(DISTINCT type) > 1`"
   ]
  },
  {
   "cell_type": "markdown",
   "metadata": {},
   "source": [
    "Exercise 39:\n",
    "\n",
    "Find the ships that `survived for future battles`; that is, after being damaged in a battle, they participated in another one, which occurred later.\n",
    "\n",
    "`SELECT DISTINCT b.ship\n",
    "FROM\n",
    "(SELECT *\n",
    ", LAG(result) OVER(PARTITION BY ship ORDER BY date) lag\n",
    "FROM outcomes o\n",
    "INNER JOIN battles b\n",
    "ON o.battle = b.name\n",
    "AND ship IN (\n",
    "SELECT ship\n",
    "FROM outcomes\n",
    "WHERE result = 'damaged')) AS b\n",
    "WHERE b.lag = 'damaged'`"
   ]
  },
  {
   "cell_type": "markdown",
   "metadata": {},
   "source": [
    "Exercise 40:\n",
    "\n",
    "Get the makers who produce only one product type and more than one model. Output: maker, type.\n",
    "\n",
    "`SELECT DISTINCT maker, MAX(type)\n",
    "FROM product\n",
    "GROUP BY maker\n",
    "HAVING COUNT(model) > 1\n",
    "AND COUNT(DISTINCT type) = 1`"
   ]
  },
  {
   "cell_type": "markdown",
   "metadata": {},
   "source": [
    "Exercise 41:\n",
    "\n",
    "For each maker who has models at least in one of the tables PC, Laptop, or Printer, determine the maximum price for his products.\n",
    "Output: maker; if there are NULL values among the prices for the products of a given maker, display NULL for this maker, otherwise, the maximum price.\n",
    "\n",
    "`WITH temp AS \n",
    "(SELECT model, price FROM PC\n",
    "UNION\n",
    "SELECT model, price FROM Laptop\n",
    "UNION\n",
    "SELECT model, price FROM Printer)\n",
    "SELECT p.maker\n",
    ", CASE WHEN COUNT(*) = COUNT(price) THEN MAX(price) END\n",
    "FROM Product p\n",
    "INNER JOIN temp\n",
    "ON p.model = temp.model\n",
    "GROUP BY p.maker`"
   ]
  },
  {
   "cell_type": "code",
   "execution_count": null,
   "metadata": {},
   "outputs": [],
   "source": []
  },
  {
   "cell_type": "code",
   "execution_count": null,
   "metadata": {},
   "outputs": [],
   "source": []
  },
  {
   "cell_type": "code",
   "execution_count": null,
   "metadata": {},
   "outputs": [],
   "source": []
  },
  {
   "cell_type": "markdown",
   "metadata": {},
   "source": [
    "[В начало](#0)"
   ]
  },
  {
   "cell_type": "code",
   "execution_count": null,
   "metadata": {},
   "outputs": [],
   "source": []
  }
 ],
 "metadata": {
  "kernelspec": {
   "display_name": "Python 3",
   "language": "python",
   "name": "python3"
  },
  "language_info": {
   "codemirror_mode": {
    "name": "ipython",
    "version": 3
   },
   "file_extension": ".py",
   "mimetype": "text/x-python",
   "name": "python",
   "nbconvert_exporter": "python",
   "pygments_lexer": "ipython3",
   "version": "3.9.1"
  }
 },
 "nbformat": 4,
 "nbformat_minor": 4
}
