{
 "cells": [
  {
   "cell_type": "markdown",
   "metadata": {},
   "source": [
    "## Исследование компьютерных игр"
   ]
  },
  {
   "cell_type": "markdown",
   "metadata": {},
   "source": [
    "### Описание проекта\n",
    "\n",
    "Интернет-магазин «World of games» продаёт по всему миру компьютерные игры. По его заказу необходимо выявить определяющие успешность игры закономерности, чтобы сделать ставку на потенциально популярный продукт и спланировать рекламные кампании. \n",
    "\n",
    "Из открытых источников доступны исторические данные о продажах игр, оценки пользователей и экспертов, жанры и платформы (например, Xbox или PlayStation). \n",
    "\n",
    "Данные представлены за 1980-2016 гг. Рекомендации для магазина нужно составить на 2017 год."
   ]
  },
  {
   "cell_type": "markdown",
   "metadata": {},
   "source": [
    "### <a name=\"contents\"> Структура исследования: </a>\n",
    "- [1. Загрузка данных и ознакомление с ними](#1)\n",
    "- [2. Предобработка данных](#2)\n",
    "  - [Полные дубли](#2.1)\n",
    "  - [Переименование столбцов](#2.2)\n",
    "  - [Добавление новых столбцов](#2.3)\n",
    "  - [Пропуски в столбцах](#2.4)\n",
    "  - [Изменение типа данных в столбцах](#2.5)\n",
    "- [3. Исследовательский анализ данных](#3)\n",
    "  - [Выпуск игр в разные годы](#3.1)\n",
    "  - [Продажи игр на топ-5 платформах в 1994-2016 гг.](#3.2)\n",
    "  - [Продажи игр на топ-5 платформах в 2012-2016 гг.](#3.3)\n",
    "  - [График «ящик с усами» по продажам игр в разбивке по платформам](#3.4)\n",
    "  - [Влияние отзывов критиков и пользователей на продажи игр](#3.5)\n",
    "- [4. Портрет пользователя каждого региона](#4)\n",
    "  - [Самые популярные платформы (топ-5)](#4.1)\n",
    "  - [Самые популярные жанры (топ-5)](#4.2)\n",
    "  - [Влияние рейтинга ESRB на продажи игр](#4.3)\n",
    "- [5. Проверка гипотез](#5)\n",
    "  - [Средние пользовательские рейтинги платформ Xbox One и PC одинаковые](#5.1)\n",
    "  - [Средние пользовательские рейтинги жанров Action и Sports разные](#5.2)\n",
    "- [6. Общий вывод](#6)"
   ]
  },
  {
   "cell_type": "markdown",
   "metadata": {},
   "source": [
    "### <a name=\"1\"> 1. Загрузка данных и ознакомление с ними </a>"
   ]
  },
  {
   "cell_type": "markdown",
   "metadata": {},
   "source": [
    "Импортируем библиотеки для работы с таблицами, графиками, статистическими характеристиками:"
   ]
  },
  {
   "cell_type": "code",
   "execution_count": 1,
   "metadata": {},
   "outputs": [],
   "source": [
    "import pandas as pd\n",
    "import numpy as np\n",
    "import matplotlib.pyplot as plt \n",
    "from scipy import stats as st"
   ]
  },
  {
   "cell_type": "markdown",
   "metadata": {},
   "source": [
    "Загрузим данные:"
   ]
  },
  {
   "cell_type": "code",
   "execution_count": 2,
   "metadata": {},
   "outputs": [
    {
     "data": {
      "text/html": [
       "<div>\n",
       "<style scoped>\n",
       "    .dataframe tbody tr th:only-of-type {\n",
       "        vertical-align: middle;\n",
       "    }\n",
       "\n",
       "    .dataframe tbody tr th {\n",
       "        vertical-align: top;\n",
       "    }\n",
       "\n",
       "    .dataframe thead th {\n",
       "        text-align: right;\n",
       "    }\n",
       "</style>\n",
       "<table border=\"1\" class=\"dataframe\">\n",
       "  <thead>\n",
       "    <tr style=\"text-align: right;\">\n",
       "      <th></th>\n",
       "      <th>Name</th>\n",
       "      <th>Platform</th>\n",
       "      <th>Year_of_Release</th>\n",
       "      <th>Genre</th>\n",
       "      <th>NA_sales</th>\n",
       "      <th>EU_sales</th>\n",
       "      <th>JP_sales</th>\n",
       "      <th>Other_sales</th>\n",
       "      <th>Critic_Score</th>\n",
       "      <th>User_Score</th>\n",
       "      <th>Rating</th>\n",
       "    </tr>\n",
       "  </thead>\n",
       "  <tbody>\n",
       "    <tr>\n",
       "      <th>10564</th>\n",
       "      <td>RLH: Run Like Hell</td>\n",
       "      <td>PS2</td>\n",
       "      <td>2002.0</td>\n",
       "      <td>Shooter</td>\n",
       "      <td>0.05</td>\n",
       "      <td>0.04</td>\n",
       "      <td>0.00</td>\n",
       "      <td>0.01</td>\n",
       "      <td>58.0</td>\n",
       "      <td>8.2</td>\n",
       "      <td>M</td>\n",
       "    </tr>\n",
       "    <tr>\n",
       "      <th>12578</th>\n",
       "      <td>I Love Beauty: Hollywood Makeover</td>\n",
       "      <td>DS</td>\n",
       "      <td>2009.0</td>\n",
       "      <td>Misc</td>\n",
       "      <td>0.06</td>\n",
       "      <td>0.00</td>\n",
       "      <td>0.00</td>\n",
       "      <td>0.00</td>\n",
       "      <td>NaN</td>\n",
       "      <td>tbd</td>\n",
       "      <td>E</td>\n",
       "    </tr>\n",
       "    <tr>\n",
       "      <th>750</th>\n",
       "      <td>Pro Evolution Soccer 2012</td>\n",
       "      <td>PS3</td>\n",
       "      <td>2011.0</td>\n",
       "      <td>Action</td>\n",
       "      <td>0.34</td>\n",
       "      <td>0.96</td>\n",
       "      <td>0.55</td>\n",
       "      <td>0.33</td>\n",
       "      <td>80.0</td>\n",
       "      <td>6.6</td>\n",
       "      <td>E</td>\n",
       "    </tr>\n",
       "    <tr>\n",
       "      <th>728</th>\n",
       "      <td>Prince of Persia: The Sands of Time</td>\n",
       "      <td>PS2</td>\n",
       "      <td>2003.0</td>\n",
       "      <td>Action</td>\n",
       "      <td>0.88</td>\n",
       "      <td>1.03</td>\n",
       "      <td>0.00</td>\n",
       "      <td>0.31</td>\n",
       "      <td>92.0</td>\n",
       "      <td>8.8</td>\n",
       "      <td>T</td>\n",
       "    </tr>\n",
       "    <tr>\n",
       "      <th>15002</th>\n",
       "      <td>Clover no Kuni no Alice: Wonderful Wonder World</td>\n",
       "      <td>PS2</td>\n",
       "      <td>2010.0</td>\n",
       "      <td>Adventure</td>\n",
       "      <td>0.00</td>\n",
       "      <td>0.00</td>\n",
       "      <td>0.02</td>\n",
       "      <td>0.00</td>\n",
       "      <td>NaN</td>\n",
       "      <td>NaN</td>\n",
       "      <td>NaN</td>\n",
       "    </tr>\n",
       "  </tbody>\n",
       "</table>\n",
       "</div>"
      ],
      "text/plain": [
       "                                                  Name Platform  \\\n",
       "10564                               RLH: Run Like Hell      PS2   \n",
       "12578                I Love Beauty: Hollywood Makeover       DS   \n",
       "750                          Pro Evolution Soccer 2012      PS3   \n",
       "728                Prince of Persia: The Sands of Time      PS2   \n",
       "15002  Clover no Kuni no Alice: Wonderful Wonder World      PS2   \n",
       "\n",
       "       Year_of_Release      Genre  NA_sales  EU_sales  JP_sales  Other_sales  \\\n",
       "10564           2002.0    Shooter      0.05      0.04      0.00         0.01   \n",
       "12578           2009.0       Misc      0.06      0.00      0.00         0.00   \n",
       "750             2011.0     Action      0.34      0.96      0.55         0.33   \n",
       "728             2003.0     Action      0.88      1.03      0.00         0.31   \n",
       "15002           2010.0  Adventure      0.00      0.00      0.02         0.00   \n",
       "\n",
       "       Critic_Score User_Score Rating  \n",
       "10564          58.0        8.2      M  \n",
       "12578           NaN        tbd      E  \n",
       "750            80.0        6.6      E  \n",
       "728            92.0        8.8      T  \n",
       "15002           NaN        NaN    NaN  "
      ]
     },
     "execution_count": 2,
     "metadata": {},
     "output_type": "execute_result"
    }
   ],
   "source": [
    "df = pd.read_csv('/Users/polzovatel/Desktop/games.csv')\n",
    "df.sample(5)"
   ]
  },
  {
   "cell_type": "markdown",
   "metadata": {},
   "source": [
    "Датасет с данными можно скачать с google диска, он размещён [здесь](https://drive.google.com/drive/folders/16XYygaefIdzZlsWMcVkEcGfvSM7ggxLq)."
   ]
  },
  {
   "cell_type": "markdown",
   "metadata": {},
   "source": [
    "Описание данных по столбцам:\n",
    "- Name — название игры\n",
    "- Platform — платформа\n",
    "- Year_of_Release — год выпуска\n",
    "- Genre — жанр игры\n",
    "- NA_sales — продажи в Северной Америке (миллионы проданных копий)\n",
    "- EU_sales — продажи в Европе (миллионы проданных копий)\n",
    "- JP_sales — продажи в Японии (миллионы проданных копий)\n",
    "- Other_sales — продажи в других странах (миллионы проданных копий)\n",
    "- Critic_Score — оценка критиков (максимум 100)\n",
    "- User_Score — оценка пользователей (максимум 10)\n",
    "- Rating — рейтинг от организации ESRB (англ. Entertainment Software Rating Board). Эта ассоциация определяет рейтинг компьютерных игр и присваивает им подходящую возрастную категорию.\n"
   ]
  },
  {
   "cell_type": "markdown",
   "metadata": {},
   "source": [
    "Посмотрим на типы данных в столбцах, оценим размер таблицы и количество пропусков:"
   ]
  },
  {
   "cell_type": "code",
   "execution_count": 3,
   "metadata": {},
   "outputs": [
    {
     "name": "stdout",
     "output_type": "stream",
     "text": [
      "<class 'pandas.core.frame.DataFrame'>\n",
      "RangeIndex: 16715 entries, 0 to 16714\n",
      "Data columns (total 11 columns):\n",
      " #   Column           Non-Null Count  Dtype  \n",
      "---  ------           --------------  -----  \n",
      " 0   Name             16713 non-null  object \n",
      " 1   Platform         16715 non-null  object \n",
      " 2   Year_of_Release  16446 non-null  float64\n",
      " 3   Genre            16713 non-null  object \n",
      " 4   NA_sales         16715 non-null  float64\n",
      " 5   EU_sales         16715 non-null  float64\n",
      " 6   JP_sales         16715 non-null  float64\n",
      " 7   Other_sales      16715 non-null  float64\n",
      " 8   Critic_Score     8137 non-null   float64\n",
      " 9   User_Score       10014 non-null  object \n",
      " 10  Rating           9949 non-null   object \n",
      "dtypes: float64(6), object(5)\n",
      "memory usage: 1.4+ MB\n"
     ]
    }
   ],
   "source": [
    "df.info()"
   ]
  },
  {
   "cell_type": "markdown",
   "metadata": {},
   "source": [
    "В таблице 16 715 строк и 11 столбцов. Встречаются пропуски. Построим наглядную диаграмму, чтобы оценить долю пропусков для каждого столбца:"
   ]
  },
  {
   "cell_type": "code",
   "execution_count": 4,
   "metadata": {
    "scrolled": true
   },
   "outputs": [
    {
     "data": {
      "image/png": "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\n",
      "text/plain": [
       "<Figure size 864x216 with 1 Axes>"
      ]
     },
     "metadata": {
      "needs_background": "light"
     },
     "output_type": "display_data"
    }
   ],
   "source": [
    "rows_count = len(df) # посчитаем количество строк в таблице\n",
    "data = {} # создадим пустой словарь\n",
    "for column in df.columns: # для каждого столбца в таблице\n",
    "    nulls_count = df[column].isnull().sum() # посчитаем количество пропусков\n",
    "    rate = nulls_count / rows_count # найдём долю пропусков в столбце\n",
    "    data[column] = [rate] # положим в словарь название столбца и долю пропусков в нём\n",
    "df_nulls_rate = pd.DataFrame(data) # из полученного словаря создадим таблицу с долей пропусков для каждого столбца\n",
    "df_nulls_rate = df_nulls_rate.T.reset_index() \n",
    "df_nulls_rate.columns = ['param', 'nulls_rate']\n",
    "df_nulls_rate.plot(x='param', y='nulls_rate', legend=False, figsize=(12, 3), kind='bar', grid=True, alpha=.5)\n",
    "plt.title('Доля пропусков по столбцам')\n",
    "plt.xlabel(\"Столбец\")\n",
    "plt.ylabel(\"Доля пропусков\")\n",
    "plt.show()"
   ]
  },
  {
   "cell_type": "markdown",
   "metadata": {},
   "source": [
    "Больше всего пропусков в столбце critic_score (около 50%), user_score и rating (около 40%), немного - в Year_of_Release (около 2%)."
   ]
  },
  {
   "cell_type": "markdown",
   "metadata": {},
   "source": [
    "Посмотрим на статистические характеристики числовых данных:"
   ]
  },
  {
   "cell_type": "code",
   "execution_count": 5,
   "metadata": {},
   "outputs": [
    {
     "data": {
      "text/html": [
       "<div>\n",
       "<style scoped>\n",
       "    .dataframe tbody tr th:only-of-type {\n",
       "        vertical-align: middle;\n",
       "    }\n",
       "\n",
       "    .dataframe tbody tr th {\n",
       "        vertical-align: top;\n",
       "    }\n",
       "\n",
       "    .dataframe thead th {\n",
       "        text-align: right;\n",
       "    }\n",
       "</style>\n",
       "<table border=\"1\" class=\"dataframe\">\n",
       "  <thead>\n",
       "    <tr style=\"text-align: right;\">\n",
       "      <th></th>\n",
       "      <th>Year_of_Release</th>\n",
       "      <th>NA_sales</th>\n",
       "      <th>EU_sales</th>\n",
       "      <th>JP_sales</th>\n",
       "      <th>Other_sales</th>\n",
       "      <th>Critic_Score</th>\n",
       "    </tr>\n",
       "  </thead>\n",
       "  <tbody>\n",
       "    <tr>\n",
       "      <th>count</th>\n",
       "      <td>16446.000000</td>\n",
       "      <td>16715.000000</td>\n",
       "      <td>16715.000000</td>\n",
       "      <td>16715.000000</td>\n",
       "      <td>16715.000000</td>\n",
       "      <td>8137.000000</td>\n",
       "    </tr>\n",
       "    <tr>\n",
       "      <th>mean</th>\n",
       "      <td>2006.484616</td>\n",
       "      <td>0.263377</td>\n",
       "      <td>0.145060</td>\n",
       "      <td>0.077617</td>\n",
       "      <td>0.047342</td>\n",
       "      <td>68.967679</td>\n",
       "    </tr>\n",
       "    <tr>\n",
       "      <th>std</th>\n",
       "      <td>5.877050</td>\n",
       "      <td>0.813604</td>\n",
       "      <td>0.503339</td>\n",
       "      <td>0.308853</td>\n",
       "      <td>0.186731</td>\n",
       "      <td>13.938165</td>\n",
       "    </tr>\n",
       "    <tr>\n",
       "      <th>min</th>\n",
       "      <td>1980.000000</td>\n",
       "      <td>0.000000</td>\n",
       "      <td>0.000000</td>\n",
       "      <td>0.000000</td>\n",
       "      <td>0.000000</td>\n",
       "      <td>13.000000</td>\n",
       "    </tr>\n",
       "    <tr>\n",
       "      <th>25%</th>\n",
       "      <td>2003.000000</td>\n",
       "      <td>0.000000</td>\n",
       "      <td>0.000000</td>\n",
       "      <td>0.000000</td>\n",
       "      <td>0.000000</td>\n",
       "      <td>60.000000</td>\n",
       "    </tr>\n",
       "    <tr>\n",
       "      <th>50%</th>\n",
       "      <td>2007.000000</td>\n",
       "      <td>0.080000</td>\n",
       "      <td>0.020000</td>\n",
       "      <td>0.000000</td>\n",
       "      <td>0.010000</td>\n",
       "      <td>71.000000</td>\n",
       "    </tr>\n",
       "    <tr>\n",
       "      <th>75%</th>\n",
       "      <td>2010.000000</td>\n",
       "      <td>0.240000</td>\n",
       "      <td>0.110000</td>\n",
       "      <td>0.040000</td>\n",
       "      <td>0.030000</td>\n",
       "      <td>79.000000</td>\n",
       "    </tr>\n",
       "    <tr>\n",
       "      <th>max</th>\n",
       "      <td>2016.000000</td>\n",
       "      <td>41.360000</td>\n",
       "      <td>28.960000</td>\n",
       "      <td>10.220000</td>\n",
       "      <td>10.570000</td>\n",
       "      <td>98.000000</td>\n",
       "    </tr>\n",
       "  </tbody>\n",
       "</table>\n",
       "</div>"
      ],
      "text/plain": [
       "       Year_of_Release      NA_sales      EU_sales      JP_sales  \\\n",
       "count     16446.000000  16715.000000  16715.000000  16715.000000   \n",
       "mean       2006.484616      0.263377      0.145060      0.077617   \n",
       "std           5.877050      0.813604      0.503339      0.308853   \n",
       "min        1980.000000      0.000000      0.000000      0.000000   \n",
       "25%        2003.000000      0.000000      0.000000      0.000000   \n",
       "50%        2007.000000      0.080000      0.020000      0.000000   \n",
       "75%        2010.000000      0.240000      0.110000      0.040000   \n",
       "max        2016.000000     41.360000     28.960000     10.220000   \n",
       "\n",
       "        Other_sales  Critic_Score  \n",
       "count  16715.000000   8137.000000  \n",
       "mean       0.047342     68.967679  \n",
       "std        0.186731     13.938165  \n",
       "min        0.000000     13.000000  \n",
       "25%        0.000000     60.000000  \n",
       "50%        0.010000     71.000000  \n",
       "75%        0.030000     79.000000  \n",
       "max       10.570000     98.000000  "
      ]
     },
     "execution_count": 5,
     "metadata": {},
     "output_type": "execute_result"
    }
   ],
   "source": [
    "df.describe()"
   ]
  },
  {
   "cell_type": "markdown",
   "metadata": {},
   "source": [
    "- в таблицу попали игры с годом выпуска от 1980 до 2016 г;\n",
    "- максимальные значения числа продаж выглядят как явные выбросы по сравнению со значениями квартилей - можно сделать вывод, что сверхуспешные игры существенно выбиваются по продажам от большинства игр, даже тех, которые находятся возле 3 квартиля."
   ]
  },
  {
   "cell_type": "markdown",
   "metadata": {},
   "source": [
    "Посмотрим на статистические характеристики текстовых данных:"
   ]
  },
  {
   "cell_type": "code",
   "execution_count": 6,
   "metadata": {},
   "outputs": [
    {
     "data": {
      "text/html": [
       "<div>\n",
       "<style scoped>\n",
       "    .dataframe tbody tr th:only-of-type {\n",
       "        vertical-align: middle;\n",
       "    }\n",
       "\n",
       "    .dataframe tbody tr th {\n",
       "        vertical-align: top;\n",
       "    }\n",
       "\n",
       "    .dataframe thead th {\n",
       "        text-align: right;\n",
       "    }\n",
       "</style>\n",
       "<table border=\"1\" class=\"dataframe\">\n",
       "  <thead>\n",
       "    <tr style=\"text-align: right;\">\n",
       "      <th></th>\n",
       "      <th>count</th>\n",
       "      <th>unique</th>\n",
       "      <th>top</th>\n",
       "      <th>freq</th>\n",
       "    </tr>\n",
       "  </thead>\n",
       "  <tbody>\n",
       "    <tr>\n",
       "      <th>Name</th>\n",
       "      <td>16713</td>\n",
       "      <td>11559</td>\n",
       "      <td>Need for Speed: Most Wanted</td>\n",
       "      <td>12</td>\n",
       "    </tr>\n",
       "    <tr>\n",
       "      <th>Platform</th>\n",
       "      <td>16715</td>\n",
       "      <td>31</td>\n",
       "      <td>PS2</td>\n",
       "      <td>2161</td>\n",
       "    </tr>\n",
       "    <tr>\n",
       "      <th>Genre</th>\n",
       "      <td>16713</td>\n",
       "      <td>12</td>\n",
       "      <td>Action</td>\n",
       "      <td>3369</td>\n",
       "    </tr>\n",
       "    <tr>\n",
       "      <th>User_Score</th>\n",
       "      <td>10014</td>\n",
       "      <td>96</td>\n",
       "      <td>tbd</td>\n",
       "      <td>2424</td>\n",
       "    </tr>\n",
       "    <tr>\n",
       "      <th>Rating</th>\n",
       "      <td>9949</td>\n",
       "      <td>8</td>\n",
       "      <td>E</td>\n",
       "      <td>3990</td>\n",
       "    </tr>\n",
       "  </tbody>\n",
       "</table>\n",
       "</div>"
      ],
      "text/plain": [
       "            count unique                          top  freq\n",
       "Name        16713  11559  Need for Speed: Most Wanted    12\n",
       "Platform    16715     31                          PS2  2161\n",
       "Genre       16713     12                       Action  3369\n",
       "User_Score  10014     96                          tbd  2424\n",
       "Rating       9949      8                            E  3990"
      ]
     },
     "execution_count": 6,
     "metadata": {},
     "output_type": "execute_result"
    }
   ],
   "source": [
    "df.describe(include='O').T"
   ]
  },
  {
   "cell_type": "markdown",
   "metadata": {},
   "source": [
    "- в столбце user_score встречается рейтинг tbd, надо разобраться, что это;\n",
    "- игра Need for Speed: Most Wanted встречается 12 раз в таблице, надо изучить строки с этой игрой, понять, с чем связаны такие повторения игры;\n",
    "- самая популярная игровая платформа - это PS2;\n",
    "- самый популярный жанр - это Action;\n",
    "- самый распространенный рейтинг - это E, надо разобраться подробнее, что рейтинги означают."
   ]
  },
  {
   "cell_type": "markdown",
   "metadata": {},
   "source": [
    "Оценим игровые платформы по количеству выпущенных игр, построим диаграмму:"
   ]
  },
  {
   "cell_type": "code",
   "execution_count": 7,
   "metadata": {},
   "outputs": [
    {
     "data": {
      "image/png": "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\n",
      "text/plain": [
       "<Figure size 864x216 with 1 Axes>"
      ]
     },
     "metadata": {
      "needs_background": "light"
     },
     "output_type": "display_data"
    }
   ],
   "source": [
    "(df.groupby('Platform')[['Name']].count().sort_values('Name', ascending=False)\n",
    " .plot(kind='bar', grid=True, figsize=(12, 3), alpha=.5, legend=False, color='blue'))\n",
    "plt.title(\"Количество выпущенных игр для каждой платформы\")\n",
    "plt.xlabel(\"Платформа\")\n",
    "plt.ylabel(\"Количество игр\")\n",
    "plt.show()"
   ]
  },
  {
   "cell_type": "markdown",
   "metadata": {},
   "source": [
    "Оценим жанры игр по количеству выпущенных игр, построим диаграмму:"
   ]
  },
  {
   "cell_type": "code",
   "execution_count": 8,
   "metadata": {},
   "outputs": [
    {
     "data": {
      "image/png": "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\n",
      "text/plain": [
       "<Figure size 864x216 with 1 Axes>"
      ]
     },
     "metadata": {
      "needs_background": "light"
     },
     "output_type": "display_data"
    }
   ],
   "source": [
    "(df.groupby('Genre')[['Name']].count().sort_values('Name', ascending=False)\n",
    " .plot(kind='bar', grid=True, figsize=(12, 3), alpha=.5, legend=False, color='green'))\n",
    "plt.title(\"Количество выпущенных игр каждого жанра\")\n",
    "plt.xlabel(\"Жанр\")\n",
    "plt.ylabel(\"Количество выпущенных игр\")\n",
    "plt.show()"
   ]
  },
  {
   "cell_type": "markdown",
   "metadata": {},
   "source": [
    "Расшифровка жанров:\n",
    "- Action - акцент на борьбе, включает в себя прохождение определённых уровней для достижения битвы с боссами;\n",
    "- Sports - соревнования по существующим видам спорта;\n",
    "- Misc (Miscellaneous game) - игры, не вошедшие в другие жанры;\n",
    "- Role-playing (RPG) - решение проблем, взаимодействие с неигровыми персонажами, участие в боях, статистическое развитие персонажа;\n",
    "- Shooter - неистовый темп, акцент на показные бои с использованием оружия и огромным количеством трупов;\n",
    "- Adventure\t- упор на головоломки без высокой активности;\n",
    "- Racing - соревнования по времени между персонажами или транспортными средствами;\n",
    "- Platform - основное внимание уделяется прыжкам или сложностям навигации, часто включают в себя элементы игр-экшенов;\n",
    "- Simulation - имитация реальных процессов, часто без указания цели;\n",
    "- Fighting - основное внимание уделяется бою один на один;\n",
    "- Strategy - акцент на тактическое управление ресурсами и территорией против оппонента;\n",
    "- Puzzle - решение абстрактных головоломок."
   ]
  },
  {
   "cell_type": "markdown",
   "metadata": {},
   "source": [
    "Оценим количество игр каждого рейтинга ESRB и разберёмся, что они означают:"
   ]
  },
  {
   "cell_type": "code",
   "execution_count": 9,
   "metadata": {},
   "outputs": [
    {
     "data": {
      "image/png": "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\n",
      "text/plain": [
       "<Figure size 864x216 with 1 Axes>"
      ]
     },
     "metadata": {
      "needs_background": "light"
     },
     "output_type": "display_data"
    }
   ],
   "source": [
    "(df.groupby('Rating')[['Name']].count().sort_values('Name', ascending=False)\n",
    " .plot(kind='bar', grid=True, figsize=(12, 3), alpha=.5, legend=False, color='red'))\n",
    "plt.title(\"Количество выпущенных игр каждого рейтинга ESRB\")\n",
    "plt.xlabel(\"Рейтинг ESRB\")\n",
    "plt.ylabel(\"Количество выпущенных игр\")\n",
    "plt.show()"
   ]
  },
  {
   "cell_type": "markdown",
   "metadata": {},
   "source": [
    "Расшифровка рейтингов ESRB:\n",
    "- EC («Early Childhood») — «Для детей младшего возраста»: Игра подходит для детей от 3 лет и старше и не содержит материалов, которые родители могли бы счесть неподходящими. Продукты, получившие данный рейтинг, изначально разрабатываются для детей и обычно представляют собой развивающие игры.\n",
    "- E («Everyone») — «Для всех»: Содержание вполне подходит для возрастной категории от 6 лет и старше; такие игры могут понравиться и взрослым. Игры с этим рейтингом могут содержать минимальное насилие, в основном «мультяшного» характера. Первой игрой, которая получила данный рейтинг, стала The Simpsons Cartoon Studio(aнг.), выпущенная в 1996 году.\n",
    "- E10+ («Everyone 10 and older») — «Для всех старше 10 лет»: Возрастная категория — от 10 лет. Проекты с данным рейтингом могут содержать немного больше мультипликационного или мягкого насилия, или несколько откровенные сцены или минимальное количество крови. Рейтинг был принят ESRB 2 марта 2005 года. Первой игрой, которая получила данный рейтинг, стала Donkey Kong: Jungle Beat.\n",
    "- T («Teen») — «Подросткам»: Игра подходит для лиц от 13 лет и старше. Проекты из данной категории могут содержать насилие, непристойные сцены, грубый юмор, в меру откровенное сексуальное содержимое, кровь или нечастое использование ненормативной лексики.\n",
    "- M («Mature») — «От 17 лет»: Материалы игры не подходят для подростков младше 17 лет. Проекты с данным рейтингом могут содержать достаточно жестокое насилие, большое количество крови с расчленением, непристойные сексуальные сцены или грубую ненормативную лексику, нежелательную для младшей аудитории. Некоторые торговые сети не продают игры с таким рейтингом несовершеннолетним без согласия родителей.\n",
    "- AO («Adults Only 18+») — «Только для взрослых»: Содержание игры только для взрослых. Продукты из данной категории могут содержать длительные сцены жестокого насилия и/или очень откровенное сексуальное содержимое, а также сцены с обнажением. В 2006-м году данный рейтинг получили 22 продукта, большинство из которых предназначены для персональных компьютеров под управлением Windows и Apple Macintosh. Рейтинг «Только для взрослых» является предметом многочисленных дискуссий, так как накладывает серьёзные ограничения на продажи игры.\n",
    "- RP («Rating Pending»\") — «Рейтинг ожидается»: Продукт был отправлен в ESRB и ожидает присвоения рейтинга. Данный логотип используется только на рекламных презентациях и в демо-версиях игр до официального релиза.\n",
    "- K-A («Kids to Adults»)— «Для детей и взрослых»: Содержание игры вполне подходит для возрастной категории от 6 лет и старше. Такие игры подходят для всех возрастов. Они могут содержать минимальное насилие или немного грубый разговорный язык. Этот рейтинг был заменён на «Everyone» 1 января 1998 года и может встречаться только в играх, изданных ранее, кроме The Simpsons Cartoon Studio. Первой игрой, получившей данный рейтинг, стала SimCity 2000 в 1994 году."
   ]
  },
  {
   "cell_type": "markdown",
   "metadata": {},
   "source": [
    "Посмотрим на все игры с названием Need for Speed: Most Wanted, оценим, нет ли проблем в данных в связи с повторениями в названиях игр. Предварительно приведём названия всех игр к нижнему регистру, чтобы не пропустить все возможные варианты написания."
   ]
  },
  {
   "cell_type": "code",
   "execution_count": 10,
   "metadata": {},
   "outputs": [
    {
     "data": {
      "text/html": [
       "<div>\n",
       "<style scoped>\n",
       "    .dataframe tbody tr th:only-of-type {\n",
       "        vertical-align: middle;\n",
       "    }\n",
       "\n",
       "    .dataframe tbody tr th {\n",
       "        vertical-align: top;\n",
       "    }\n",
       "\n",
       "    .dataframe thead th {\n",
       "        text-align: right;\n",
       "    }\n",
       "</style>\n",
       "<table border=\"1\" class=\"dataframe\">\n",
       "  <thead>\n",
       "    <tr style=\"text-align: right;\">\n",
       "      <th></th>\n",
       "      <th>Name</th>\n",
       "      <th>Platform</th>\n",
       "      <th>Year_of_Release</th>\n",
       "      <th>Genre</th>\n",
       "      <th>NA_sales</th>\n",
       "      <th>EU_sales</th>\n",
       "      <th>JP_sales</th>\n",
       "      <th>Other_sales</th>\n",
       "      <th>Critic_Score</th>\n",
       "      <th>User_Score</th>\n",
       "      <th>Rating</th>\n",
       "    </tr>\n",
       "  </thead>\n",
       "  <tbody>\n",
       "    <tr>\n",
       "      <th>253</th>\n",
       "      <td>need for speed: most wanted</td>\n",
       "      <td>PS2</td>\n",
       "      <td>2005.0</td>\n",
       "      <td>Racing</td>\n",
       "      <td>2.03</td>\n",
       "      <td>1.79</td>\n",
       "      <td>0.08</td>\n",
       "      <td>0.47</td>\n",
       "      <td>82.0</td>\n",
       "      <td>9.1</td>\n",
       "      <td>T</td>\n",
       "    </tr>\n",
       "    <tr>\n",
       "      <th>523</th>\n",
       "      <td>need for speed: most wanted</td>\n",
       "      <td>PS3</td>\n",
       "      <td>2012.0</td>\n",
       "      <td>Racing</td>\n",
       "      <td>0.71</td>\n",
       "      <td>1.46</td>\n",
       "      <td>0.06</td>\n",
       "      <td>0.58</td>\n",
       "      <td>NaN</td>\n",
       "      <td>NaN</td>\n",
       "      <td>NaN</td>\n",
       "    </tr>\n",
       "    <tr>\n",
       "      <th>1190</th>\n",
       "      <td>need for speed: most wanted</td>\n",
       "      <td>X360</td>\n",
       "      <td>2012.0</td>\n",
       "      <td>Racing</td>\n",
       "      <td>0.62</td>\n",
       "      <td>0.78</td>\n",
       "      <td>0.01</td>\n",
       "      <td>0.15</td>\n",
       "      <td>83.0</td>\n",
       "      <td>8.5</td>\n",
       "      <td>T</td>\n",
       "    </tr>\n",
       "    <tr>\n",
       "      <th>1591</th>\n",
       "      <td>need for speed: most wanted</td>\n",
       "      <td>X360</td>\n",
       "      <td>2005.0</td>\n",
       "      <td>Racing</td>\n",
       "      <td>1.00</td>\n",
       "      <td>0.13</td>\n",
       "      <td>0.02</td>\n",
       "      <td>0.10</td>\n",
       "      <td>83.0</td>\n",
       "      <td>8.5</td>\n",
       "      <td>T</td>\n",
       "    </tr>\n",
       "    <tr>\n",
       "      <th>1998</th>\n",
       "      <td>need for speed: most wanted</td>\n",
       "      <td>XB</td>\n",
       "      <td>2005.0</td>\n",
       "      <td>Racing</td>\n",
       "      <td>0.53</td>\n",
       "      <td>0.46</td>\n",
       "      <td>0.00</td>\n",
       "      <td>0.05</td>\n",
       "      <td>83.0</td>\n",
       "      <td>8.8</td>\n",
       "      <td>T</td>\n",
       "    </tr>\n",
       "    <tr>\n",
       "      <th>2048</th>\n",
       "      <td>need for speed: most wanted</td>\n",
       "      <td>PSV</td>\n",
       "      <td>2012.0</td>\n",
       "      <td>Racing</td>\n",
       "      <td>0.33</td>\n",
       "      <td>0.45</td>\n",
       "      <td>0.01</td>\n",
       "      <td>0.22</td>\n",
       "      <td>NaN</td>\n",
       "      <td>NaN</td>\n",
       "      <td>NaN</td>\n",
       "    </tr>\n",
       "    <tr>\n",
       "      <th>3581</th>\n",
       "      <td>need for speed: most wanted</td>\n",
       "      <td>GC</td>\n",
       "      <td>2005.0</td>\n",
       "      <td>Racing</td>\n",
       "      <td>0.43</td>\n",
       "      <td>0.11</td>\n",
       "      <td>0.00</td>\n",
       "      <td>0.02</td>\n",
       "      <td>80.0</td>\n",
       "      <td>9.1</td>\n",
       "      <td>T</td>\n",
       "    </tr>\n",
       "    <tr>\n",
       "      <th>5972</th>\n",
       "      <td>need for speed: most wanted</td>\n",
       "      <td>PC</td>\n",
       "      <td>2005.0</td>\n",
       "      <td>Racing</td>\n",
       "      <td>0.02</td>\n",
       "      <td>0.23</td>\n",
       "      <td>0.00</td>\n",
       "      <td>0.04</td>\n",
       "      <td>82.0</td>\n",
       "      <td>8.5</td>\n",
       "      <td>T</td>\n",
       "    </tr>\n",
       "    <tr>\n",
       "      <th>6273</th>\n",
       "      <td>need for speed: most wanted</td>\n",
       "      <td>WiiU</td>\n",
       "      <td>2013.0</td>\n",
       "      <td>Racing</td>\n",
       "      <td>0.13</td>\n",
       "      <td>0.12</td>\n",
       "      <td>0.00</td>\n",
       "      <td>0.02</td>\n",
       "      <td>NaN</td>\n",
       "      <td>NaN</td>\n",
       "      <td>NaN</td>\n",
       "    </tr>\n",
       "    <tr>\n",
       "      <th>6410</th>\n",
       "      <td>need for speed: most wanted</td>\n",
       "      <td>DS</td>\n",
       "      <td>2005.0</td>\n",
       "      <td>Racing</td>\n",
       "      <td>0.24</td>\n",
       "      <td>0.01</td>\n",
       "      <td>0.00</td>\n",
       "      <td>0.02</td>\n",
       "      <td>45.0</td>\n",
       "      <td>6.1</td>\n",
       "      <td>E</td>\n",
       "    </tr>\n",
       "    <tr>\n",
       "      <th>6473</th>\n",
       "      <td>need for speed: most wanted</td>\n",
       "      <td>GBA</td>\n",
       "      <td>2005.0</td>\n",
       "      <td>Racing</td>\n",
       "      <td>0.19</td>\n",
       "      <td>0.07</td>\n",
       "      <td>0.00</td>\n",
       "      <td>0.00</td>\n",
       "      <td>NaN</td>\n",
       "      <td>8.3</td>\n",
       "      <td>E</td>\n",
       "    </tr>\n",
       "    <tr>\n",
       "      <th>11715</th>\n",
       "      <td>need for speed: most wanted</td>\n",
       "      <td>PC</td>\n",
       "      <td>2012.0</td>\n",
       "      <td>Racing</td>\n",
       "      <td>0.00</td>\n",
       "      <td>0.06</td>\n",
       "      <td>0.00</td>\n",
       "      <td>0.02</td>\n",
       "      <td>82.0</td>\n",
       "      <td>8.5</td>\n",
       "      <td>T</td>\n",
       "    </tr>\n",
       "  </tbody>\n",
       "</table>\n",
       "</div>"
      ],
      "text/plain": [
       "                              Name Platform  Year_of_Release   Genre  \\\n",
       "253    need for speed: most wanted      PS2           2005.0  Racing   \n",
       "523    need for speed: most wanted      PS3           2012.0  Racing   \n",
       "1190   need for speed: most wanted     X360           2012.0  Racing   \n",
       "1591   need for speed: most wanted     X360           2005.0  Racing   \n",
       "1998   need for speed: most wanted       XB           2005.0  Racing   \n",
       "2048   need for speed: most wanted      PSV           2012.0  Racing   \n",
       "3581   need for speed: most wanted       GC           2005.0  Racing   \n",
       "5972   need for speed: most wanted       PC           2005.0  Racing   \n",
       "6273   need for speed: most wanted     WiiU           2013.0  Racing   \n",
       "6410   need for speed: most wanted       DS           2005.0  Racing   \n",
       "6473   need for speed: most wanted      GBA           2005.0  Racing   \n",
       "11715  need for speed: most wanted       PC           2012.0  Racing   \n",
       "\n",
       "       NA_sales  EU_sales  JP_sales  Other_sales  Critic_Score User_Score  \\\n",
       "253        2.03      1.79      0.08         0.47          82.0        9.1   \n",
       "523        0.71      1.46      0.06         0.58           NaN        NaN   \n",
       "1190       0.62      0.78      0.01         0.15          83.0        8.5   \n",
       "1591       1.00      0.13      0.02         0.10          83.0        8.5   \n",
       "1998       0.53      0.46      0.00         0.05          83.0        8.8   \n",
       "2048       0.33      0.45      0.01         0.22           NaN        NaN   \n",
       "3581       0.43      0.11      0.00         0.02          80.0        9.1   \n",
       "5972       0.02      0.23      0.00         0.04          82.0        8.5   \n",
       "6273       0.13      0.12      0.00         0.02           NaN        NaN   \n",
       "6410       0.24      0.01      0.00         0.02          45.0        6.1   \n",
       "6473       0.19      0.07      0.00         0.00           NaN        8.3   \n",
       "11715      0.00      0.06      0.00         0.02          82.0        8.5   \n",
       "\n",
       "      Rating  \n",
       "253        T  \n",
       "523      NaN  \n",
       "1190       T  \n",
       "1591       T  \n",
       "1998       T  \n",
       "2048     NaN  \n",
       "3581       T  \n",
       "5972       T  \n",
       "6273     NaN  \n",
       "6410       E  \n",
       "6473       E  \n",
       "11715      T  "
      ]
     },
     "execution_count": 10,
     "metadata": {},
     "output_type": "execute_result"
    }
   ],
   "source": [
    "df.Name = df.Name.str.lower()\n",
    "df.query('Name == \"need for speed: most wanted\"')"
   ]
  },
  {
   "cell_type": "markdown",
   "metadata": {},
   "source": [
    "Видно, что повторения вызваны тем, что игра выходила на разных платформах. Выпуск игры был в 2005 году, переиздание в 2012 году. Данные верные."
   ]
  },
  {
   "cell_type": "markdown",
   "metadata": {},
   "source": [
    "Выводы после первичного знакомства с данными:\n",
    "- в таблице 16 715 строк и 11 столбцов;\n",
    "- названия столбцов записаны с заглавных букв, корректнее изменить их, чтобы они полностью состояли из строчных букв;\n",
    "- встречаются пропуски: больше всего - в столбце critic_score (около 50%), user_score и rating (около 40%), немного - в Year_of_Release (около 2%);\n",
    "- в таблицу попали игры с годом выпуска от 1980 до 2016 г;\n",
    "- максимальные значения объёмов продаж выглядят как явные выбросы по сравнению со значениями квартилей - можно сделать вывод, что сверхуспешные игры существенно отличаются по продажам от большинства игр;\n",
    "- в столбце user_score встречается рейтинг tbd, надо разобраться, что это;\n",
    "- некоторые игры встречается в таблице несколько раз, повторения вызваны тем, что игры выходили на разных платформах и в разные годы;\n",
    "- самая популярная игровая платформа по количеству выпушенных игр - это PS2 и Nintendo DS;\n",
    "- самый популярный жанр по количеству выпушенных игр - это Action;\n",
    "- самый распространенный рейтинг по количеству выпушенных игр - это «E» («Everyone») — «Для всех»."
   ]
  },
  {
   "cell_type": "markdown",
   "metadata": {},
   "source": [
    "[К началу](#contents)"
   ]
  },
  {
   "cell_type": "markdown",
   "metadata": {},
   "source": [
    "### <a name=\"2\"> 2. Предобработка данных <a>"
   ]
  },
  {
   "cell_type": "markdown",
   "metadata": {},
   "source": [
    "#### <a name=\"2.1\"> Полные дубли <a>"
   ]
  },
  {
   "cell_type": "markdown",
   "metadata": {},
   "source": [
    "Оценим количество полных дублей:"
   ]
  },
  {
   "cell_type": "code",
   "execution_count": 11,
   "metadata": {},
   "outputs": [
    {
     "data": {
      "text/plain": [
       "0"
      ]
     },
     "execution_count": 11,
     "metadata": {},
     "output_type": "execute_result"
    }
   ],
   "source": [
    "df.duplicated().sum() "
   ]
  },
  {
   "cell_type": "markdown",
   "metadata": {},
   "source": [
    "#### <a name=\"2.2\"> Переименование столбцов <a>"
   ]
  },
  {
   "cell_type": "markdown",
   "metadata": {},
   "source": [
    "Приведём названия столбцов к нижнему регистру:"
   ]
  },
  {
   "cell_type": "code",
   "execution_count": 12,
   "metadata": {},
   "outputs": [
    {
     "data": {
      "text/plain": [
       "Index(['name', 'platform', 'year_of_release', 'genre', 'na_sales', 'eu_sales',\n",
       "       'jp_sales', 'other_sales', 'critic_score', 'user_score', 'rating'],\n",
       "      dtype='object')"
      ]
     },
     "execution_count": 12,
     "metadata": {},
     "output_type": "execute_result"
    }
   ],
   "source": [
    "df.columns = [i.lower() for i in df.columns]\n",
    "df.columns"
   ]
  },
  {
   "cell_type": "markdown",
   "metadata": {},
   "source": [
    "#### <a name=\"2.3\"> Добавление новых столбцов <a>"
   ]
  },
  {
   "cell_type": "markdown",
   "metadata": {},
   "source": [
    "Посчитаем суммарные продажи во всех регионах и запишем их в отдельный столбец:"
   ]
  },
  {
   "cell_type": "code",
   "execution_count": 13,
   "metadata": {},
   "outputs": [
    {
     "data": {
      "text/html": [
       "<div>\n",
       "<style scoped>\n",
       "    .dataframe tbody tr th:only-of-type {\n",
       "        vertical-align: middle;\n",
       "    }\n",
       "\n",
       "    .dataframe tbody tr th {\n",
       "        vertical-align: top;\n",
       "    }\n",
       "\n",
       "    .dataframe thead th {\n",
       "        text-align: right;\n",
       "    }\n",
       "</style>\n",
       "<table border=\"1\" class=\"dataframe\">\n",
       "  <thead>\n",
       "    <tr style=\"text-align: right;\">\n",
       "      <th></th>\n",
       "      <th>name</th>\n",
       "      <th>platform</th>\n",
       "      <th>year_of_release</th>\n",
       "      <th>genre</th>\n",
       "      <th>na_sales</th>\n",
       "      <th>eu_sales</th>\n",
       "      <th>jp_sales</th>\n",
       "      <th>other_sales</th>\n",
       "      <th>critic_score</th>\n",
       "      <th>user_score</th>\n",
       "      <th>rating</th>\n",
       "      <th>total_sales</th>\n",
       "    </tr>\n",
       "  </thead>\n",
       "  <tbody>\n",
       "    <tr>\n",
       "      <th>0</th>\n",
       "      <td>wii sports</td>\n",
       "      <td>Wii</td>\n",
       "      <td>2006.0</td>\n",
       "      <td>Sports</td>\n",
       "      <td>41.36</td>\n",
       "      <td>28.96</td>\n",
       "      <td>3.77</td>\n",
       "      <td>8.45</td>\n",
       "      <td>76.0</td>\n",
       "      <td>8</td>\n",
       "      <td>E</td>\n",
       "      <td>82.54</td>\n",
       "    </tr>\n",
       "  </tbody>\n",
       "</table>\n",
       "</div>"
      ],
      "text/plain": [
       "         name platform  year_of_release   genre  na_sales  eu_sales  jp_sales  \\\n",
       "0  wii sports      Wii           2006.0  Sports     41.36     28.96      3.77   \n",
       "\n",
       "   other_sales  critic_score user_score rating  total_sales  \n",
       "0         8.45          76.0          8      E        82.54  "
      ]
     },
     "execution_count": 13,
     "metadata": {},
     "output_type": "execute_result"
    }
   ],
   "source": [
    "df['total_sales'] = df.na_sales + df.eu_sales + df.jp_sales + df.other_sales\n",
    "df.head(1)"
   ]
  },
  {
   "cell_type": "markdown",
   "metadata": {},
   "source": [
    "#### <a name=\"2.4\"> Пропуски в столбцах <a>"
   ]
  },
  {
   "cell_type": "markdown",
   "metadata": {},
   "source": [
    "Посмотрим внимательнее на столбцы с пропусками значений, попробуем разобраться с причинами пропусков и заполнить ячейки:"
   ]
  },
  {
   "cell_type": "code",
   "execution_count": 14,
   "metadata": {},
   "outputs": [
    {
     "name": "stdout",
     "output_type": "stream",
     "text": [
      "<class 'pandas.core.frame.DataFrame'>\n",
      "RangeIndex: 16715 entries, 0 to 16714\n",
      "Data columns (total 12 columns):\n",
      " #   Column           Non-Null Count  Dtype  \n",
      "---  ------           --------------  -----  \n",
      " 0   name             16713 non-null  object \n",
      " 1   platform         16715 non-null  object \n",
      " 2   year_of_release  16446 non-null  float64\n",
      " 3   genre            16713 non-null  object \n",
      " 4   na_sales         16715 non-null  float64\n",
      " 5   eu_sales         16715 non-null  float64\n",
      " 6   jp_sales         16715 non-null  float64\n",
      " 7   other_sales      16715 non-null  float64\n",
      " 8   critic_score     8137 non-null   float64\n",
      " 9   user_score       10014 non-null  object \n",
      " 10  rating           9949 non-null   object \n",
      " 11  total_sales      16715 non-null  float64\n",
      "dtypes: float64(7), object(5)\n",
      "memory usage: 1.5+ MB\n"
     ]
    }
   ],
   "source": [
    "df.info()"
   ]
  },
  {
   "cell_type": "markdown",
   "metadata": {},
   "source": [
    "- столбец name - всего 2 пропуска;\n",
    "- столбец genre - всего 2 пропуска;\n",
    "- в столбце year_of_release почти 300 пропусков;\n",
    "- в столбцах critic_score, user_score и rating более 6000 пропусков в каждом;"
   ]
  },
  {
   "cell_type": "markdown",
   "metadata": {},
   "source": [
    "Посмотрим на 2 строки с пропусками в столбце name:"
   ]
  },
  {
   "cell_type": "code",
   "execution_count": 15,
   "metadata": {},
   "outputs": [
    {
     "data": {
      "text/html": [
       "<div>\n",
       "<style scoped>\n",
       "    .dataframe tbody tr th:only-of-type {\n",
       "        vertical-align: middle;\n",
       "    }\n",
       "\n",
       "    .dataframe tbody tr th {\n",
       "        vertical-align: top;\n",
       "    }\n",
       "\n",
       "    .dataframe thead th {\n",
       "        text-align: right;\n",
       "    }\n",
       "</style>\n",
       "<table border=\"1\" class=\"dataframe\">\n",
       "  <thead>\n",
       "    <tr style=\"text-align: right;\">\n",
       "      <th></th>\n",
       "      <th>name</th>\n",
       "      <th>platform</th>\n",
       "      <th>year_of_release</th>\n",
       "      <th>genre</th>\n",
       "      <th>na_sales</th>\n",
       "      <th>eu_sales</th>\n",
       "      <th>jp_sales</th>\n",
       "      <th>other_sales</th>\n",
       "      <th>critic_score</th>\n",
       "      <th>user_score</th>\n",
       "      <th>rating</th>\n",
       "      <th>total_sales</th>\n",
       "    </tr>\n",
       "  </thead>\n",
       "  <tbody>\n",
       "    <tr>\n",
       "      <th>659</th>\n",
       "      <td>NaN</td>\n",
       "      <td>GEN</td>\n",
       "      <td>1993.0</td>\n",
       "      <td>NaN</td>\n",
       "      <td>1.78</td>\n",
       "      <td>0.53</td>\n",
       "      <td>0.00</td>\n",
       "      <td>0.08</td>\n",
       "      <td>NaN</td>\n",
       "      <td>NaN</td>\n",
       "      <td>NaN</td>\n",
       "      <td>2.39</td>\n",
       "    </tr>\n",
       "    <tr>\n",
       "      <th>14244</th>\n",
       "      <td>NaN</td>\n",
       "      <td>GEN</td>\n",
       "      <td>1993.0</td>\n",
       "      <td>NaN</td>\n",
       "      <td>0.00</td>\n",
       "      <td>0.00</td>\n",
       "      <td>0.03</td>\n",
       "      <td>0.00</td>\n",
       "      <td>NaN</td>\n",
       "      <td>NaN</td>\n",
       "      <td>NaN</td>\n",
       "      <td>0.03</td>\n",
       "    </tr>\n",
       "  </tbody>\n",
       "</table>\n",
       "</div>"
      ],
      "text/plain": [
       "      name platform  year_of_release genre  na_sales  eu_sales  jp_sales  \\\n",
       "659    NaN      GEN           1993.0   NaN      1.78      0.53      0.00   \n",
       "14244  NaN      GEN           1993.0   NaN      0.00      0.00      0.03   \n",
       "\n",
       "       other_sales  critic_score user_score rating  total_sales  \n",
       "659           0.08           NaN        NaN    NaN         2.39  \n",
       "14244         0.00           NaN        NaN    NaN         0.03  "
      ]
     },
     "execution_count": 15,
     "metadata": {},
     "output_type": "execute_result"
    }
   ],
   "source": [
    "df[df.name.isnull()]"
   ]
  },
  {
   "cell_type": "markdown",
   "metadata": {},
   "source": [
    "Видно, что:\n",
    "- это те же строки, где 2 пропуска в столбце genre;\n",
    "- нет данных ни по одному рейтингу;\n",
    "- это две игры на Sega Genesis, вышедшие в 1993 году;\n",
    "- одна игра разошлась относительно небольшим тиражом - 30 тыс. копий, а вторая стала достаточно популярной - 1,78 млн копий в Северной Америке и пол млн копий в Европе.\n",
    "\n",
    "При поиске игры, которая вышла на Sega Genesis в 1993 году и разошлась 1,78 млн копиями в Северной Америке, удалось найти совпадение с игрой Mortal Kombat II. Добавим название и жанр этой игры в таблицу:"
   ]
  },
  {
   "cell_type": "code",
   "execution_count": 16,
   "metadata": {},
   "outputs": [
    {
     "data": {
      "text/plain": [
       "name     mortal kombat ii\n",
       "genre            Fighting\n",
       "Name: 659, dtype: object"
      ]
     },
     "execution_count": 16,
     "metadata": {},
     "output_type": "execute_result"
    }
   ],
   "source": [
    "df.loc[659, 'name'] = 'mortal kombat ii'\n",
    "df.loc[659, 'genre'] = 'Fighting'\n",
    "df.loc[659, ['name', 'genre']]"
   ]
  },
  {
   "cell_type": "markdown",
   "metadata": {},
   "source": [
    "Проверим, не получился ли дубль:"
   ]
  },
  {
   "cell_type": "code",
   "execution_count": 17,
   "metadata": {},
   "outputs": [
    {
     "data": {
      "text/html": [
       "<div>\n",
       "<style scoped>\n",
       "    .dataframe tbody tr th:only-of-type {\n",
       "        vertical-align: middle;\n",
       "    }\n",
       "\n",
       "    .dataframe tbody tr th {\n",
       "        vertical-align: top;\n",
       "    }\n",
       "\n",
       "    .dataframe thead th {\n",
       "        text-align: right;\n",
       "    }\n",
       "</style>\n",
       "<table border=\"1\" class=\"dataframe\">\n",
       "  <thead>\n",
       "    <tr style=\"text-align: right;\">\n",
       "      <th></th>\n",
       "      <th>name</th>\n",
       "      <th>platform</th>\n",
       "      <th>year_of_release</th>\n",
       "      <th>genre</th>\n",
       "      <th>na_sales</th>\n",
       "      <th>eu_sales</th>\n",
       "      <th>jp_sales</th>\n",
       "      <th>other_sales</th>\n",
       "      <th>critic_score</th>\n",
       "      <th>user_score</th>\n",
       "      <th>rating</th>\n",
       "      <th>total_sales</th>\n",
       "    </tr>\n",
       "  </thead>\n",
       "  <tbody>\n",
       "    <tr>\n",
       "      <th>659</th>\n",
       "      <td>mortal kombat ii</td>\n",
       "      <td>GEN</td>\n",
       "      <td>1993.0</td>\n",
       "      <td>Fighting</td>\n",
       "      <td>1.78</td>\n",
       "      <td>0.53</td>\n",
       "      <td>0.0</td>\n",
       "      <td>0.08</td>\n",
       "      <td>NaN</td>\n",
       "      <td>NaN</td>\n",
       "      <td>NaN</td>\n",
       "      <td>2.39</td>\n",
       "    </tr>\n",
       "    <tr>\n",
       "      <th>892</th>\n",
       "      <td>mortal kombat ii</td>\n",
       "      <td>SNES</td>\n",
       "      <td>1993.0</td>\n",
       "      <td>Fighting</td>\n",
       "      <td>1.48</td>\n",
       "      <td>0.39</td>\n",
       "      <td>0.0</td>\n",
       "      <td>0.06</td>\n",
       "      <td>NaN</td>\n",
       "      <td>NaN</td>\n",
       "      <td>NaN</td>\n",
       "      <td>1.93</td>\n",
       "    </tr>\n",
       "  </tbody>\n",
       "</table>\n",
       "</div>"
      ],
      "text/plain": [
       "                 name platform  year_of_release     genre  na_sales  eu_sales  \\\n",
       "659  mortal kombat ii      GEN           1993.0  Fighting      1.78      0.53   \n",
       "892  mortal kombat ii     SNES           1993.0  Fighting      1.48      0.39   \n",
       "\n",
       "     jp_sales  other_sales  critic_score user_score rating  total_sales  \n",
       "659       0.0         0.08           NaN        NaN    NaN         2.39  \n",
       "892       0.0         0.06           NaN        NaN    NaN         1.93  "
      ]
     },
     "execution_count": 17,
     "metadata": {},
     "output_type": "execute_result"
    }
   ],
   "source": [
    "df[df.name == \"mortal kombat ii\"]"
   ]
  },
  {
   "cell_type": "markdown",
   "metadata": {},
   "source": [
    "В таблице уже была такая игра, но для другой консоли, поэтому проблем с дублированием нет."
   ]
  },
  {
   "cell_type": "markdown",
   "metadata": {},
   "source": [
    "К сожалению, идентфицировать вторую игру с пропушенным именем достаточно сложно. Удалим эту строку:"
   ]
  },
  {
   "cell_type": "code",
   "execution_count": 18,
   "metadata": {},
   "outputs": [
    {
     "data": {
      "text/plain": [
       "16714"
      ]
     },
     "execution_count": 18,
     "metadata": {},
     "output_type": "execute_result"
    }
   ],
   "source": [
    "df.dropna(subset = ['name'], inplace = True)\n",
    "len(df)"
   ]
  },
  {
   "cell_type": "markdown",
   "metadata": {},
   "source": [
    "Теперь посмотрим на пропуски в столбце year_of_release, оценим точно количество и долю пропусков:"
   ]
  },
  {
   "cell_type": "code",
   "execution_count": 19,
   "metadata": {},
   "outputs": [
    {
     "data": {
      "text/plain": [
       "(269, 0.01609429221012325)"
      ]
     },
     "execution_count": 19,
     "metadata": {},
     "output_type": "execute_result"
    }
   ],
   "source": [
    "(len(df[df.year_of_release.isnull()]),\n",
    "len(df[df.year_of_release.isnull()]) / len(df))"
   ]
  },
  {
   "cell_type": "markdown",
   "metadata": {},
   "source": [
    "269 пропусков или 1,6% от количества игр в таблице.\n",
    "\n",
    "Посмотрим на несколько игр, в которых пропущен год выпуска:"
   ]
  },
  {
   "cell_type": "code",
   "execution_count": 20,
   "metadata": {},
   "outputs": [
    {
     "data": {
      "text/html": [
       "<div>\n",
       "<style scoped>\n",
       "    .dataframe tbody tr th:only-of-type {\n",
       "        vertical-align: middle;\n",
       "    }\n",
       "\n",
       "    .dataframe tbody tr th {\n",
       "        vertical-align: top;\n",
       "    }\n",
       "\n",
       "    .dataframe thead th {\n",
       "        text-align: right;\n",
       "    }\n",
       "</style>\n",
       "<table border=\"1\" class=\"dataframe\">\n",
       "  <thead>\n",
       "    <tr style=\"text-align: right;\">\n",
       "      <th></th>\n",
       "      <th>name</th>\n",
       "      <th>platform</th>\n",
       "      <th>year_of_release</th>\n",
       "      <th>genre</th>\n",
       "      <th>na_sales</th>\n",
       "      <th>eu_sales</th>\n",
       "      <th>jp_sales</th>\n",
       "      <th>other_sales</th>\n",
       "      <th>critic_score</th>\n",
       "      <th>user_score</th>\n",
       "      <th>rating</th>\n",
       "      <th>total_sales</th>\n",
       "    </tr>\n",
       "  </thead>\n",
       "  <tbody>\n",
       "    <tr>\n",
       "      <th>183</th>\n",
       "      <td>madden nfl 2004</td>\n",
       "      <td>PS2</td>\n",
       "      <td>NaN</td>\n",
       "      <td>Sports</td>\n",
       "      <td>4.26</td>\n",
       "      <td>0.26</td>\n",
       "      <td>0.01</td>\n",
       "      <td>0.71</td>\n",
       "      <td>94.0</td>\n",
       "      <td>8.5</td>\n",
       "      <td>E</td>\n",
       "      <td>5.24</td>\n",
       "    </tr>\n",
       "    <tr>\n",
       "      <th>377</th>\n",
       "      <td>fifa soccer 2004</td>\n",
       "      <td>PS2</td>\n",
       "      <td>NaN</td>\n",
       "      <td>Sports</td>\n",
       "      <td>0.59</td>\n",
       "      <td>2.36</td>\n",
       "      <td>0.04</td>\n",
       "      <td>0.51</td>\n",
       "      <td>84.0</td>\n",
       "      <td>6.4</td>\n",
       "      <td>E</td>\n",
       "      <td>3.50</td>\n",
       "    </tr>\n",
       "    <tr>\n",
       "      <th>456</th>\n",
       "      <td>lego batman: the videogame</td>\n",
       "      <td>Wii</td>\n",
       "      <td>NaN</td>\n",
       "      <td>Action</td>\n",
       "      <td>1.80</td>\n",
       "      <td>0.97</td>\n",
       "      <td>0.00</td>\n",
       "      <td>0.29</td>\n",
       "      <td>74.0</td>\n",
       "      <td>7.9</td>\n",
       "      <td>E10+</td>\n",
       "      <td>3.06</td>\n",
       "    </tr>\n",
       "    <tr>\n",
       "      <th>475</th>\n",
       "      <td>wwe smackdown vs. raw 2006</td>\n",
       "      <td>PS2</td>\n",
       "      <td>NaN</td>\n",
       "      <td>Fighting</td>\n",
       "      <td>1.57</td>\n",
       "      <td>1.02</td>\n",
       "      <td>0.00</td>\n",
       "      <td>0.41</td>\n",
       "      <td>NaN</td>\n",
       "      <td>NaN</td>\n",
       "      <td>NaN</td>\n",
       "      <td>3.00</td>\n",
       "    </tr>\n",
       "    <tr>\n",
       "      <th>609</th>\n",
       "      <td>space invaders</td>\n",
       "      <td>2600</td>\n",
       "      <td>NaN</td>\n",
       "      <td>Shooter</td>\n",
       "      <td>2.36</td>\n",
       "      <td>0.14</td>\n",
       "      <td>0.00</td>\n",
       "      <td>0.03</td>\n",
       "      <td>NaN</td>\n",
       "      <td>NaN</td>\n",
       "      <td>NaN</td>\n",
       "      <td>2.53</td>\n",
       "    </tr>\n",
       "  </tbody>\n",
       "</table>\n",
       "</div>"
      ],
      "text/plain": [
       "                           name platform  year_of_release     genre  na_sales  \\\n",
       "183             madden nfl 2004      PS2              NaN    Sports      4.26   \n",
       "377            fifa soccer 2004      PS2              NaN    Sports      0.59   \n",
       "456  lego batman: the videogame      Wii              NaN    Action      1.80   \n",
       "475  wwe smackdown vs. raw 2006      PS2              NaN  Fighting      1.57   \n",
       "609              space invaders     2600              NaN   Shooter      2.36   \n",
       "\n",
       "     eu_sales  jp_sales  other_sales  critic_score user_score rating  \\\n",
       "183      0.26      0.01         0.71          94.0        8.5      E   \n",
       "377      2.36      0.04         0.51          84.0        6.4      E   \n",
       "456      0.97      0.00         0.29          74.0        7.9   E10+   \n",
       "475      1.02      0.00         0.41           NaN        NaN    NaN   \n",
       "609      0.14      0.00         0.03           NaN        NaN    NaN   \n",
       "\n",
       "     total_sales  \n",
       "183         5.24  \n",
       "377         3.50  \n",
       "456         3.06  \n",
       "475         3.00  \n",
       "609         2.53  "
      ]
     },
     "execution_count": 20,
     "metadata": {},
     "output_type": "execute_result"
    }
   ],
   "source": [
    "df.query('year_of_release.isnull()').head()"
   ]
  },
  {
   "cell_type": "markdown",
   "metadata": {},
   "source": [
    "Можно заметить, что у некоторых игр в названии указан год. Релиз таких игр происходит всегда годом ранее, например, fifa soccer 2004 вышла в 2003 году. Напишем функцию, которая будет искать год в названии игры и добавлять его в столбец year_of_release, если там пропуск."
   ]
  },
  {
   "cell_type": "code",
   "execution_count": 21,
   "metadata": {},
   "outputs": [],
   "source": [
    "def foo(row):\n",
    "    years_85_99 = [str(i) for i in range(85, 100)]\n",
    "    years_2000_2016 = [str(i) for i in range(2000, 2017)]\n",
    "    years = years_85_99 + years_2000_2016\n",
    "    if row.isnull().year_of_release:\n",
    "        for year in years_85_99:\n",
    "            if year in row['name']:\n",
    "                return int('19' + year) - 1\n",
    "        for year in years_2000_2016:\n",
    "            if year in row['name']:\n",
    "                return int(year) - 1\n",
    "        return row['year_of_release']\n",
    "    return row['year_of_release']"
   ]
  },
  {
   "cell_type": "markdown",
   "metadata": {},
   "source": [
    "Найдём годы в названии игр и добавим их в столбец year_of_release. Посмотрим как сработает функция на нескольких примерах:"
   ]
  },
  {
   "cell_type": "code",
   "execution_count": 22,
   "metadata": {},
   "outputs": [
    {
     "name": "stdout",
     "output_type": "stream",
     "text": [
      "До применения функции:\n"
     ]
    },
    {
     "data": {
      "text/html": [
       "<div>\n",
       "<style scoped>\n",
       "    .dataframe tbody tr th:only-of-type {\n",
       "        vertical-align: middle;\n",
       "    }\n",
       "\n",
       "    .dataframe tbody tr th {\n",
       "        vertical-align: top;\n",
       "    }\n",
       "\n",
       "    .dataframe thead th {\n",
       "        text-align: right;\n",
       "    }\n",
       "</style>\n",
       "<table border=\"1\" class=\"dataframe\">\n",
       "  <thead>\n",
       "    <tr style=\"text-align: right;\">\n",
       "      <th></th>\n",
       "      <th>name</th>\n",
       "      <th>year_of_release</th>\n",
       "    </tr>\n",
       "  </thead>\n",
       "  <tbody>\n",
       "    <tr>\n",
       "      <th>183</th>\n",
       "      <td>madden nfl 2004</td>\n",
       "      <td>NaN</td>\n",
       "    </tr>\n",
       "    <tr>\n",
       "      <th>377</th>\n",
       "      <td>fifa soccer 2004</td>\n",
       "      <td>NaN</td>\n",
       "    </tr>\n",
       "    <tr>\n",
       "      <th>1301</th>\n",
       "      <td>triple play 99</td>\n",
       "      <td>NaN</td>\n",
       "    </tr>\n",
       "  </tbody>\n",
       "</table>\n",
       "</div>"
      ],
      "text/plain": [
       "                  name  year_of_release\n",
       "183    madden nfl 2004              NaN\n",
       "377   fifa soccer 2004              NaN\n",
       "1301    triple play 99              NaN"
      ]
     },
     "metadata": {},
     "output_type": "display_data"
    },
    {
     "name": "stdout",
     "output_type": "stream",
     "text": [
      "\n",
      "После применения функции:\n"
     ]
    },
    {
     "data": {
      "text/html": [
       "<div>\n",
       "<style scoped>\n",
       "    .dataframe tbody tr th:only-of-type {\n",
       "        vertical-align: middle;\n",
       "    }\n",
       "\n",
       "    .dataframe tbody tr th {\n",
       "        vertical-align: top;\n",
       "    }\n",
       "\n",
       "    .dataframe thead th {\n",
       "        text-align: right;\n",
       "    }\n",
       "</style>\n",
       "<table border=\"1\" class=\"dataframe\">\n",
       "  <thead>\n",
       "    <tr style=\"text-align: right;\">\n",
       "      <th></th>\n",
       "      <th>name</th>\n",
       "      <th>year_of_release</th>\n",
       "    </tr>\n",
       "  </thead>\n",
       "  <tbody>\n",
       "    <tr>\n",
       "      <th>183</th>\n",
       "      <td>madden nfl 2004</td>\n",
       "      <td>2003.0</td>\n",
       "    </tr>\n",
       "    <tr>\n",
       "      <th>377</th>\n",
       "      <td>fifa soccer 2004</td>\n",
       "      <td>2003.0</td>\n",
       "    </tr>\n",
       "    <tr>\n",
       "      <th>1301</th>\n",
       "      <td>triple play 99</td>\n",
       "      <td>1998.0</td>\n",
       "    </tr>\n",
       "  </tbody>\n",
       "</table>\n",
       "</div>"
      ],
      "text/plain": [
       "                  name  year_of_release\n",
       "183    madden nfl 2004           2003.0\n",
       "377   fifa soccer 2004           2003.0\n",
       "1301    triple play 99           1998.0"
      ]
     },
     "metadata": {},
     "output_type": "display_data"
    }
   ],
   "source": [
    "print('До применения функции:')\n",
    "display(df.loc[[183, 377, 1301], ['name','year_of_release']])\n",
    "df['year_of_release'] = df.apply(foo, axis=1) \n",
    "print()\n",
    "print('После применения функции:')\n",
    "display(df.loc[[183, 377, 1301], ['name','year_of_release']])"
   ]
  },
  {
   "cell_type": "markdown",
   "metadata": {},
   "source": [
    "Функция сработала, посмотрим, сколько теперь осталось пропусков в столбце year_of_release:"
   ]
  },
  {
   "cell_type": "code",
   "execution_count": 23,
   "metadata": {},
   "outputs": [
    {
     "data": {
      "text/plain": [
       "(250, 0.014957520641378485)"
      ]
     },
     "execution_count": 23,
     "metadata": {},
     "output_type": "execute_result"
    }
   ],
   "source": [
    "(len(df[df.year_of_release.isnull()]),\n",
    "len(df[df.year_of_release.isnull()]) / len(df))"
   ]
  },
  {
   "cell_type": "markdown",
   "metadata": {},
   "source": [
    "Было 269 пропусков, а стало 250. Данные в 19 игр восстановили."
   ]
  },
  {
   "cell_type": "markdown",
   "metadata": {},
   "source": [
    "Для остальных игр, к сожалению, нет возможности восстановить данные о годах выпуска, кроме ручного поиска в интернете и подставления в таблицу. Но это слишком долго, а пропусков у нас осталось только 1,5%. Удалим такие строки."
   ]
  },
  {
   "cell_type": "markdown",
   "metadata": {},
   "source": [
    "Составим список всех игр, которые встречаются несколько раз в таблице, и посчитаем, сколько игр в этом списке:"
   ]
  },
  {
   "cell_type": "code",
   "execution_count": 24,
   "metadata": {},
   "outputs": [
    {
     "data": {
      "text/plain": [
       "2806"
      ]
     },
     "execution_count": 24,
     "metadata": {},
     "output_type": "execute_result"
    }
   ],
   "source": [
    "list_of_dupl = df[(df.name.duplicated())].name.unique()\n",
    "len(list_of_dupl)"
   ]
  },
  {
   "cell_type": "markdown",
   "metadata": {},
   "source": [
    "2806 игр встречается в таблице более одного раза. \n",
    "\n",
    "Теперь составим словарь, в который будем складывать названия игр, для которых в одной из строк пропущен год выпуска, а в другой одной из строк есть значение года, и значение этого года:"
   ]
  },
  {
   "cell_type": "code",
   "execution_count": 25,
   "metadata": {},
   "outputs": [],
   "source": [
    "names_and_years = {}\n",
    "for name in list_of_dupl: # для каждой игры из тех, что встречаются в таблице больше 1 раза:\n",
    "    if (len(df[(df.name == name) & (df.year_of_release.isnull())]) > 0 and # проверяем, что для игры есть пропуск в годе\n",
    "        len(df[(df.name == name) & (df.year_of_release.notnull())]) > 0): # проверяем, что для игры есть значение в годе\n",
    "        # складываем в словарь название игры с пропуском в годе и значение года\n",
    "        names_and_years[name] = df[(df.name == name) & (df.year_of_release.notnull())].year_of_release.iloc[0]"
   ]
  },
  {
   "cell_type": "markdown",
   "metadata": {},
   "source": [
    "Проверим, что удалось собрать словарь:"
   ]
  },
  {
   "cell_type": "code",
   "execution_count": 26,
   "metadata": {},
   "outputs": [
    {
     "data": {
      "text/plain": [
       "{'call of duty: black ops': 2010.0,\n",
       " 'lego batman: the videogame': 2008.0,\n",
       " 'street fighter iv': 2009.0,\n",
       " 'madden nfl 11': 2010.0,\n",
       " 'lego indiana jones: the original adventures': 2008.0,\n",
       " 'call of duty 3': 2006.0,\n",
       " 'madden nfl 06': 2005.0,\n",
       " 'namco museum': 2001.0,\n",
       " 'madden nfl 07': 2006.0,\n",
       " 'bioshock 2': 2010.0,\n",
       " 'hitman 2: silent assassin': 2002.0,\n",
       " 'mario tennis': 2000.0,\n",
       " 'sonic the hedgehog': 1991.0,\n",
       " 'rocksmith': 2011.0,\n",
       " 'wheel of fortune': 1998.0,\n",
       " 'lego harry potter: years 5-7': 2012.0,\n",
       " 'dead space 3': 2013.0,\n",
       " 'rhythm heaven': 2008.0,\n",
       " 'grid': 2008.0,\n",
       " 'the lord of the rings: war in the north': 2011.0,\n",
       " 'nba street vol. 2': 2003.0,\n",
       " 'shaun white snowboarding': 2008.0,\n",
       " 'dead island: riptide': 2013.0,\n",
       " 'the golden compass': 2007.0,\n",
       " 'def jam: fight for ny': 2004.0,\n",
       " 'metal gear solid 2: substance': 2002.0,\n",
       " 'gun': 2005.0,\n",
       " 'tiger woods pga tour 07': 2006.0,\n",
       " 'wet': 2009.0,\n",
       " 'shrek the third': 2007.0,\n",
       " 'space invaders': 1994.0,\n",
       " 'the chronicles of narnia: the lion, the witch and the wardrobe': 2005.0,\n",
       " 'major league baseball 2k6': 2006.0,\n",
       " 'custom robo': 2004.0,\n",
       " 'major league baseball 2k8': 2008.0,\n",
       " 'harvest moon: the tale of two towns': 2010.0,\n",
       " 'nicktoons: battle for volcano island': 2006.0,\n",
       " 'street hoops': 2002.0,\n",
       " 'pac-man fever': 2001.0,\n",
       " 'rock revolution': 2008.0,\n",
       " 'tropico 4': 2011.0,\n",
       " 'teen titans': 2006.0,\n",
       " 'jonah lomu rugby challenge': 2011.0,\n",
       " 'singularity': 2010.0,\n",
       " 'danganronpa: trigger happy havoc': 2013.0,\n",
       " 'star wars jedi knight ii: jedi outcast': 2002.0,\n",
       " \"tony hawk's downhill jam\": 2006.0,\n",
       " 'robotech: battlecry': 2002.0,\n",
       " 'mlb slugfest 20-03': 2002.0,\n",
       " 'final fantasy xi': 2006.0,\n",
       " 'captain america: super soldier': 2011.0,\n",
       " 'splatterhouse': 2010.0,\n",
       " 'bejeweled 3': 2010.0,\n",
       " 'wcw backstage assault': 1999.0,\n",
       " 'rayman arena': 2001.0,\n",
       " 'transworld surf': 2002.0,\n",
       " 'mega man x collection': 2006.0,\n",
       " 'wrc: fia world rally championship': 2005.0,\n",
       " 'godzilla: destroy all monsters melee': 2002.0,\n",
       " 'college hoops 2k6': 2006.0,\n",
       " 'star trek: conquest': 2007.0,\n",
       " 'happy feet two': 2011.0,\n",
       " 'record of agarest war zero': 2010.0,\n",
       " 'nascar: dirt to daytona': 2002.0,\n",
       " 'samurai shodown anthology': 2008.0,\n",
       " 'get fit with mel b': 2010.0,\n",
       " \"james cameron's dark angel\": 2002.0,\n",
       " 'tom and jerry in war of the whiskers': 2002.0,\n",
       " 'national geographic challenge!': 2011.0,\n",
       " 'nhl hitz pro': 2003.0,\n",
       " \"disney's chicken little: ace in action\": 2006.0,\n",
       " 'inversion': 2012.0,\n",
       " 'monster hunter frontier online': 2010.0,\n",
       " 'rollercoaster tycoon': 2003.0,\n",
       " 'the history channel: great battles - medieval': 2010.0,\n",
       " 'smashing drive': 2002.0,\n",
       " 'freaky flyers': 2003.0,\n",
       " 'world of tanks': 2011.0,\n",
       " 'battle vs. chess': 2011.0,\n",
       " 'nba starting five': 2002.0,\n",
       " 'runaway: a twist of fate': 2009.0,\n",
       " \"cabela's alaskan adventure\": 2006.0,\n",
       " 'without warning': 2005.0,\n",
       " 'majesty 2: the fantasy kingdom sim': 2009.0,\n",
       " 'star trek: legacy': 2006.0,\n",
       " \"dance! it's your stage\": 2011.0,\n",
       " 'akb1/48: idol to guam de koishitara...': 2011.0,\n",
       " 'brothers in arms: furious 4': 2012.0,\n",
       " 'aquaman: battle for atlantis': 2003.0,\n",
       " 'dinotopia: the sunstone odyssey': 2003.0,\n",
       " \"luxor: pharaoh's challenge\": 2007.0}"
      ]
     },
     "execution_count": 26,
     "metadata": {},
     "output_type": "execute_result"
    }
   ],
   "source": [
    "names_and_years"
   ]
  },
  {
   "cell_type": "markdown",
   "metadata": {},
   "source": [
    "Проверим на примере пары игр из составленного словаря, что в таблице есть как строки с пропущенным годом, так и с заполненным:"
   ]
  },
  {
   "cell_type": "code",
   "execution_count": 27,
   "metadata": {},
   "outputs": [
    {
     "data": {
      "text/html": [
       "<div>\n",
       "<style scoped>\n",
       "    .dataframe tbody tr th:only-of-type {\n",
       "        vertical-align: middle;\n",
       "    }\n",
       "\n",
       "    .dataframe tbody tr th {\n",
       "        vertical-align: top;\n",
       "    }\n",
       "\n",
       "    .dataframe thead th {\n",
       "        text-align: right;\n",
       "    }\n",
       "</style>\n",
       "<table border=\"1\" class=\"dataframe\">\n",
       "  <thead>\n",
       "    <tr style=\"text-align: right;\">\n",
       "      <th></th>\n",
       "      <th>name</th>\n",
       "      <th>platform</th>\n",
       "      <th>year_of_release</th>\n",
       "      <th>genre</th>\n",
       "      <th>na_sales</th>\n",
       "      <th>eu_sales</th>\n",
       "      <th>jp_sales</th>\n",
       "      <th>other_sales</th>\n",
       "      <th>critic_score</th>\n",
       "      <th>user_score</th>\n",
       "      <th>rating</th>\n",
       "      <th>total_sales</th>\n",
       "    </tr>\n",
       "  </thead>\n",
       "  <tbody>\n",
       "    <tr>\n",
       "      <th>32</th>\n",
       "      <td>call of duty: black ops</td>\n",
       "      <td>X360</td>\n",
       "      <td>2010.0</td>\n",
       "      <td>Shooter</td>\n",
       "      <td>9.70</td>\n",
       "      <td>3.68</td>\n",
       "      <td>0.11</td>\n",
       "      <td>1.13</td>\n",
       "      <td>87.0</td>\n",
       "      <td>6.3</td>\n",
       "      <td>M</td>\n",
       "      <td>14.62</td>\n",
       "    </tr>\n",
       "    <tr>\n",
       "      <th>41</th>\n",
       "      <td>call of duty: black ops</td>\n",
       "      <td>PS3</td>\n",
       "      <td>2010.0</td>\n",
       "      <td>Shooter</td>\n",
       "      <td>5.99</td>\n",
       "      <td>4.37</td>\n",
       "      <td>0.48</td>\n",
       "      <td>1.79</td>\n",
       "      <td>88.0</td>\n",
       "      <td>6.4</td>\n",
       "      <td>M</td>\n",
       "      <td>12.63</td>\n",
       "    </tr>\n",
       "    <tr>\n",
       "      <th>1131</th>\n",
       "      <td>call of duty: black ops</td>\n",
       "      <td>PC</td>\n",
       "      <td>NaN</td>\n",
       "      <td>Shooter</td>\n",
       "      <td>0.58</td>\n",
       "      <td>0.81</td>\n",
       "      <td>0.00</td>\n",
       "      <td>0.23</td>\n",
       "      <td>81.0</td>\n",
       "      <td>5.2</td>\n",
       "      <td>M</td>\n",
       "      <td>1.62</td>\n",
       "    </tr>\n",
       "    <tr>\n",
       "      <th>1412</th>\n",
       "      <td>call of duty: black ops</td>\n",
       "      <td>Wii</td>\n",
       "      <td>2010.0</td>\n",
       "      <td>Shooter</td>\n",
       "      <td>0.80</td>\n",
       "      <td>0.45</td>\n",
       "      <td>0.00</td>\n",
       "      <td>0.12</td>\n",
       "      <td>80.0</td>\n",
       "      <td>5.8</td>\n",
       "      <td>M</td>\n",
       "      <td>1.37</td>\n",
       "    </tr>\n",
       "    <tr>\n",
       "      <th>3439</th>\n",
       "      <td>call of duty: black ops</td>\n",
       "      <td>DS</td>\n",
       "      <td>2010.0</td>\n",
       "      <td>Shooter</td>\n",
       "      <td>0.50</td>\n",
       "      <td>0.04</td>\n",
       "      <td>0.00</td>\n",
       "      <td>0.04</td>\n",
       "      <td>74.0</td>\n",
       "      <td>6</td>\n",
       "      <td>T</td>\n",
       "      <td>0.58</td>\n",
       "    </tr>\n",
       "  </tbody>\n",
       "</table>\n",
       "</div>"
      ],
      "text/plain": [
       "                         name platform  year_of_release    genre  na_sales  \\\n",
       "32    call of duty: black ops     X360           2010.0  Shooter      9.70   \n",
       "41    call of duty: black ops      PS3           2010.0  Shooter      5.99   \n",
       "1131  call of duty: black ops       PC              NaN  Shooter      0.58   \n",
       "1412  call of duty: black ops      Wii           2010.0  Shooter      0.80   \n",
       "3439  call of duty: black ops       DS           2010.0  Shooter      0.50   \n",
       "\n",
       "      eu_sales  jp_sales  other_sales  critic_score user_score rating  \\\n",
       "32        3.68      0.11         1.13          87.0        6.3      M   \n",
       "41        4.37      0.48         1.79          88.0        6.4      M   \n",
       "1131      0.81      0.00         0.23          81.0        5.2      M   \n",
       "1412      0.45      0.00         0.12          80.0        5.8      M   \n",
       "3439      0.04      0.00         0.04          74.0          6      T   \n",
       "\n",
       "      total_sales  \n",
       "32          14.62  \n",
       "41          12.63  \n",
       "1131         1.62  \n",
       "1412         1.37  \n",
       "3439         0.58  "
      ]
     },
     "execution_count": 27,
     "metadata": {},
     "output_type": "execute_result"
    }
   ],
   "source": [
    "df[df.name == 'call of duty: black ops']"
   ]
  },
  {
   "cell_type": "code",
   "execution_count": 28,
   "metadata": {},
   "outputs": [
    {
     "data": {
      "text/html": [
       "<div>\n",
       "<style scoped>\n",
       "    .dataframe tbody tr th:only-of-type {\n",
       "        vertical-align: middle;\n",
       "    }\n",
       "\n",
       "    .dataframe tbody tr th {\n",
       "        vertical-align: top;\n",
       "    }\n",
       "\n",
       "    .dataframe thead th {\n",
       "        text-align: right;\n",
       "    }\n",
       "</style>\n",
       "<table border=\"1\" class=\"dataframe\">\n",
       "  <thead>\n",
       "    <tr style=\"text-align: right;\">\n",
       "      <th></th>\n",
       "      <th>name</th>\n",
       "      <th>platform</th>\n",
       "      <th>year_of_release</th>\n",
       "      <th>genre</th>\n",
       "      <th>na_sales</th>\n",
       "      <th>eu_sales</th>\n",
       "      <th>jp_sales</th>\n",
       "      <th>other_sales</th>\n",
       "      <th>critic_score</th>\n",
       "      <th>user_score</th>\n",
       "      <th>rating</th>\n",
       "      <th>total_sales</th>\n",
       "    </tr>\n",
       "  </thead>\n",
       "  <tbody>\n",
       "    <tr>\n",
       "      <th>397</th>\n",
       "      <td>lego batman: the videogame</td>\n",
       "      <td>X360</td>\n",
       "      <td>2008.0</td>\n",
       "      <td>Action</td>\n",
       "      <td>2.04</td>\n",
       "      <td>1.02</td>\n",
       "      <td>0.0</td>\n",
       "      <td>0.32</td>\n",
       "      <td>76.0</td>\n",
       "      <td>7.9</td>\n",
       "      <td>E10+</td>\n",
       "      <td>3.38</td>\n",
       "    </tr>\n",
       "    <tr>\n",
       "      <th>456</th>\n",
       "      <td>lego batman: the videogame</td>\n",
       "      <td>Wii</td>\n",
       "      <td>NaN</td>\n",
       "      <td>Action</td>\n",
       "      <td>1.80</td>\n",
       "      <td>0.97</td>\n",
       "      <td>0.0</td>\n",
       "      <td>0.29</td>\n",
       "      <td>74.0</td>\n",
       "      <td>7.9</td>\n",
       "      <td>E10+</td>\n",
       "      <td>3.06</td>\n",
       "    </tr>\n",
       "    <tr>\n",
       "      <th>460</th>\n",
       "      <td>lego batman: the videogame</td>\n",
       "      <td>DS</td>\n",
       "      <td>2008.0</td>\n",
       "      <td>Action</td>\n",
       "      <td>1.75</td>\n",
       "      <td>1.01</td>\n",
       "      <td>0.0</td>\n",
       "      <td>0.29</td>\n",
       "      <td>72.0</td>\n",
       "      <td>8</td>\n",
       "      <td>E10+</td>\n",
       "      <td>3.05</td>\n",
       "    </tr>\n",
       "    <tr>\n",
       "      <th>1519</th>\n",
       "      <td>lego batman: the videogame</td>\n",
       "      <td>PS3</td>\n",
       "      <td>2008.0</td>\n",
       "      <td>Action</td>\n",
       "      <td>0.72</td>\n",
       "      <td>0.39</td>\n",
       "      <td>0.0</td>\n",
       "      <td>0.19</td>\n",
       "      <td>75.0</td>\n",
       "      <td>7.7</td>\n",
       "      <td>E10+</td>\n",
       "      <td>1.30</td>\n",
       "    </tr>\n",
       "    <tr>\n",
       "      <th>1538</th>\n",
       "      <td>lego batman: the videogame</td>\n",
       "      <td>PSP</td>\n",
       "      <td>NaN</td>\n",
       "      <td>Action</td>\n",
       "      <td>0.57</td>\n",
       "      <td>0.44</td>\n",
       "      <td>0.0</td>\n",
       "      <td>0.27</td>\n",
       "      <td>73.0</td>\n",
       "      <td>7.4</td>\n",
       "      <td>E10+</td>\n",
       "      <td>1.28</td>\n",
       "    </tr>\n",
       "    <tr>\n",
       "      <th>1553</th>\n",
       "      <td>lego batman: the videogame</td>\n",
       "      <td>PS2</td>\n",
       "      <td>2008.0</td>\n",
       "      <td>Action</td>\n",
       "      <td>0.72</td>\n",
       "      <td>0.03</td>\n",
       "      <td>0.0</td>\n",
       "      <td>0.52</td>\n",
       "      <td>77.0</td>\n",
       "      <td>8.9</td>\n",
       "      <td>E10+</td>\n",
       "      <td>1.27</td>\n",
       "    </tr>\n",
       "    <tr>\n",
       "      <th>12465</th>\n",
       "      <td>lego batman: the videogame</td>\n",
       "      <td>PC</td>\n",
       "      <td>2008.0</td>\n",
       "      <td>Action</td>\n",
       "      <td>0.02</td>\n",
       "      <td>0.03</td>\n",
       "      <td>0.0</td>\n",
       "      <td>0.01</td>\n",
       "      <td>80.0</td>\n",
       "      <td>7.8</td>\n",
       "      <td>E10+</td>\n",
       "      <td>0.06</td>\n",
       "    </tr>\n",
       "  </tbody>\n",
       "</table>\n",
       "</div>"
      ],
      "text/plain": [
       "                             name platform  year_of_release   genre  na_sales  \\\n",
       "397    lego batman: the videogame     X360           2008.0  Action      2.04   \n",
       "456    lego batman: the videogame      Wii              NaN  Action      1.80   \n",
       "460    lego batman: the videogame       DS           2008.0  Action      1.75   \n",
       "1519   lego batman: the videogame      PS3           2008.0  Action      0.72   \n",
       "1538   lego batman: the videogame      PSP              NaN  Action      0.57   \n",
       "1553   lego batman: the videogame      PS2           2008.0  Action      0.72   \n",
       "12465  lego batman: the videogame       PC           2008.0  Action      0.02   \n",
       "\n",
       "       eu_sales  jp_sales  other_sales  critic_score user_score rating  \\\n",
       "397        1.02       0.0         0.32          76.0        7.9   E10+   \n",
       "456        0.97       0.0         0.29          74.0        7.9   E10+   \n",
       "460        1.01       0.0         0.29          72.0          8   E10+   \n",
       "1519       0.39       0.0         0.19          75.0        7.7   E10+   \n",
       "1538       0.44       0.0         0.27          73.0        7.4   E10+   \n",
       "1553       0.03       0.0         0.52          77.0        8.9   E10+   \n",
       "12465      0.03       0.0         0.01          80.0        7.8   E10+   \n",
       "\n",
       "       total_sales  \n",
       "397           3.38  \n",
       "456           3.06  \n",
       "460           3.05  \n",
       "1519          1.30  \n",
       "1538          1.28  \n",
       "1553          1.27  \n",
       "12465         0.06  "
      ]
     },
     "execution_count": 28,
     "metadata": {},
     "output_type": "execute_result"
    }
   ],
   "source": [
    "df[df.name == 'lego batman: the videogame']"
   ]
  },
  {
   "cell_type": "markdown",
   "metadata": {},
   "source": [
    "Игры соответствует нашему требованию: есть и пропуски, и значения."
   ]
  },
  {
   "cell_type": "markdown",
   "metadata": {},
   "source": [
    "Теперь напишем функцию, которая будет для строк, где название игры есть в словаре, а год выпуска пропущен, возвращать год выпуска:"
   ]
  },
  {
   "cell_type": "code",
   "execution_count": 29,
   "metadata": {},
   "outputs": [],
   "source": [
    "def year_restore(row):\n",
    "    if (not row['year_of_release'] > 0 # проверяем, что значение пропущено (если nan, то not False = True) \n",
    "        and (row['name'] in names_and_years)): # проверяем, что игра есть в словаре\n",
    "        return names_and_years[row['name']]\n",
    "    return row['year_of_release']"
   ]
  },
  {
   "cell_type": "markdown",
   "metadata": {},
   "source": [
    "Применим эту функцию к таблице:"
   ]
  },
  {
   "cell_type": "code",
   "execution_count": 30,
   "metadata": {},
   "outputs": [],
   "source": [
    "df.year_of_release = df.apply(year_restore, axis=1)"
   ]
  },
  {
   "cell_type": "markdown",
   "metadata": {},
   "source": [
    "Теперь проверим на примере тех же двух игр, что функция отработала так, как мы хотели. "
   ]
  },
  {
   "cell_type": "code",
   "execution_count": 31,
   "metadata": {},
   "outputs": [
    {
     "data": {
      "text/html": [
       "<div>\n",
       "<style scoped>\n",
       "    .dataframe tbody tr th:only-of-type {\n",
       "        vertical-align: middle;\n",
       "    }\n",
       "\n",
       "    .dataframe tbody tr th {\n",
       "        vertical-align: top;\n",
       "    }\n",
       "\n",
       "    .dataframe thead th {\n",
       "        text-align: right;\n",
       "    }\n",
       "</style>\n",
       "<table border=\"1\" class=\"dataframe\">\n",
       "  <thead>\n",
       "    <tr style=\"text-align: right;\">\n",
       "      <th></th>\n",
       "      <th>name</th>\n",
       "      <th>platform</th>\n",
       "      <th>year_of_release</th>\n",
       "      <th>genre</th>\n",
       "      <th>na_sales</th>\n",
       "      <th>eu_sales</th>\n",
       "      <th>jp_sales</th>\n",
       "      <th>other_sales</th>\n",
       "      <th>critic_score</th>\n",
       "      <th>user_score</th>\n",
       "      <th>rating</th>\n",
       "      <th>total_sales</th>\n",
       "    </tr>\n",
       "  </thead>\n",
       "  <tbody>\n",
       "    <tr>\n",
       "      <th>32</th>\n",
       "      <td>call of duty: black ops</td>\n",
       "      <td>X360</td>\n",
       "      <td>2010.0</td>\n",
       "      <td>Shooter</td>\n",
       "      <td>9.70</td>\n",
       "      <td>3.68</td>\n",
       "      <td>0.11</td>\n",
       "      <td>1.13</td>\n",
       "      <td>87.0</td>\n",
       "      <td>6.3</td>\n",
       "      <td>M</td>\n",
       "      <td>14.62</td>\n",
       "    </tr>\n",
       "    <tr>\n",
       "      <th>41</th>\n",
       "      <td>call of duty: black ops</td>\n",
       "      <td>PS3</td>\n",
       "      <td>2010.0</td>\n",
       "      <td>Shooter</td>\n",
       "      <td>5.99</td>\n",
       "      <td>4.37</td>\n",
       "      <td>0.48</td>\n",
       "      <td>1.79</td>\n",
       "      <td>88.0</td>\n",
       "      <td>6.4</td>\n",
       "      <td>M</td>\n",
       "      <td>12.63</td>\n",
       "    </tr>\n",
       "    <tr>\n",
       "      <th>1131</th>\n",
       "      <td>call of duty: black ops</td>\n",
       "      <td>PC</td>\n",
       "      <td>2010.0</td>\n",
       "      <td>Shooter</td>\n",
       "      <td>0.58</td>\n",
       "      <td>0.81</td>\n",
       "      <td>0.00</td>\n",
       "      <td>0.23</td>\n",
       "      <td>81.0</td>\n",
       "      <td>5.2</td>\n",
       "      <td>M</td>\n",
       "      <td>1.62</td>\n",
       "    </tr>\n",
       "    <tr>\n",
       "      <th>1412</th>\n",
       "      <td>call of duty: black ops</td>\n",
       "      <td>Wii</td>\n",
       "      <td>2010.0</td>\n",
       "      <td>Shooter</td>\n",
       "      <td>0.80</td>\n",
       "      <td>0.45</td>\n",
       "      <td>0.00</td>\n",
       "      <td>0.12</td>\n",
       "      <td>80.0</td>\n",
       "      <td>5.8</td>\n",
       "      <td>M</td>\n",
       "      <td>1.37</td>\n",
       "    </tr>\n",
       "    <tr>\n",
       "      <th>3439</th>\n",
       "      <td>call of duty: black ops</td>\n",
       "      <td>DS</td>\n",
       "      <td>2010.0</td>\n",
       "      <td>Shooter</td>\n",
       "      <td>0.50</td>\n",
       "      <td>0.04</td>\n",
       "      <td>0.00</td>\n",
       "      <td>0.04</td>\n",
       "      <td>74.0</td>\n",
       "      <td>6</td>\n",
       "      <td>T</td>\n",
       "      <td>0.58</td>\n",
       "    </tr>\n",
       "  </tbody>\n",
       "</table>\n",
       "</div>"
      ],
      "text/plain": [
       "                         name platform  year_of_release    genre  na_sales  \\\n",
       "32    call of duty: black ops     X360           2010.0  Shooter      9.70   \n",
       "41    call of duty: black ops      PS3           2010.0  Shooter      5.99   \n",
       "1131  call of duty: black ops       PC           2010.0  Shooter      0.58   \n",
       "1412  call of duty: black ops      Wii           2010.0  Shooter      0.80   \n",
       "3439  call of duty: black ops       DS           2010.0  Shooter      0.50   \n",
       "\n",
       "      eu_sales  jp_sales  other_sales  critic_score user_score rating  \\\n",
       "32        3.68      0.11         1.13          87.0        6.3      M   \n",
       "41        4.37      0.48         1.79          88.0        6.4      M   \n",
       "1131      0.81      0.00         0.23          81.0        5.2      M   \n",
       "1412      0.45      0.00         0.12          80.0        5.8      M   \n",
       "3439      0.04      0.00         0.04          74.0          6      T   \n",
       "\n",
       "      total_sales  \n",
       "32          14.62  \n",
       "41          12.63  \n",
       "1131         1.62  \n",
       "1412         1.37  \n",
       "3439         0.58  "
      ]
     },
     "execution_count": 31,
     "metadata": {},
     "output_type": "execute_result"
    }
   ],
   "source": [
    "df[df.name == 'call of duty: black ops']"
   ]
  },
  {
   "cell_type": "code",
   "execution_count": 32,
   "metadata": {},
   "outputs": [
    {
     "data": {
      "text/html": [
       "<div>\n",
       "<style scoped>\n",
       "    .dataframe tbody tr th:only-of-type {\n",
       "        vertical-align: middle;\n",
       "    }\n",
       "\n",
       "    .dataframe tbody tr th {\n",
       "        vertical-align: top;\n",
       "    }\n",
       "\n",
       "    .dataframe thead th {\n",
       "        text-align: right;\n",
       "    }\n",
       "</style>\n",
       "<table border=\"1\" class=\"dataframe\">\n",
       "  <thead>\n",
       "    <tr style=\"text-align: right;\">\n",
       "      <th></th>\n",
       "      <th>name</th>\n",
       "      <th>platform</th>\n",
       "      <th>year_of_release</th>\n",
       "      <th>genre</th>\n",
       "      <th>na_sales</th>\n",
       "      <th>eu_sales</th>\n",
       "      <th>jp_sales</th>\n",
       "      <th>other_sales</th>\n",
       "      <th>critic_score</th>\n",
       "      <th>user_score</th>\n",
       "      <th>rating</th>\n",
       "      <th>total_sales</th>\n",
       "    </tr>\n",
       "  </thead>\n",
       "  <tbody>\n",
       "    <tr>\n",
       "      <th>397</th>\n",
       "      <td>lego batman: the videogame</td>\n",
       "      <td>X360</td>\n",
       "      <td>2008.0</td>\n",
       "      <td>Action</td>\n",
       "      <td>2.04</td>\n",
       "      <td>1.02</td>\n",
       "      <td>0.0</td>\n",
       "      <td>0.32</td>\n",
       "      <td>76.0</td>\n",
       "      <td>7.9</td>\n",
       "      <td>E10+</td>\n",
       "      <td>3.38</td>\n",
       "    </tr>\n",
       "    <tr>\n",
       "      <th>456</th>\n",
       "      <td>lego batman: the videogame</td>\n",
       "      <td>Wii</td>\n",
       "      <td>2008.0</td>\n",
       "      <td>Action</td>\n",
       "      <td>1.80</td>\n",
       "      <td>0.97</td>\n",
       "      <td>0.0</td>\n",
       "      <td>0.29</td>\n",
       "      <td>74.0</td>\n",
       "      <td>7.9</td>\n",
       "      <td>E10+</td>\n",
       "      <td>3.06</td>\n",
       "    </tr>\n",
       "    <tr>\n",
       "      <th>460</th>\n",
       "      <td>lego batman: the videogame</td>\n",
       "      <td>DS</td>\n",
       "      <td>2008.0</td>\n",
       "      <td>Action</td>\n",
       "      <td>1.75</td>\n",
       "      <td>1.01</td>\n",
       "      <td>0.0</td>\n",
       "      <td>0.29</td>\n",
       "      <td>72.0</td>\n",
       "      <td>8</td>\n",
       "      <td>E10+</td>\n",
       "      <td>3.05</td>\n",
       "    </tr>\n",
       "    <tr>\n",
       "      <th>1519</th>\n",
       "      <td>lego batman: the videogame</td>\n",
       "      <td>PS3</td>\n",
       "      <td>2008.0</td>\n",
       "      <td>Action</td>\n",
       "      <td>0.72</td>\n",
       "      <td>0.39</td>\n",
       "      <td>0.0</td>\n",
       "      <td>0.19</td>\n",
       "      <td>75.0</td>\n",
       "      <td>7.7</td>\n",
       "      <td>E10+</td>\n",
       "      <td>1.30</td>\n",
       "    </tr>\n",
       "    <tr>\n",
       "      <th>1538</th>\n",
       "      <td>lego batman: the videogame</td>\n",
       "      <td>PSP</td>\n",
       "      <td>2008.0</td>\n",
       "      <td>Action</td>\n",
       "      <td>0.57</td>\n",
       "      <td>0.44</td>\n",
       "      <td>0.0</td>\n",
       "      <td>0.27</td>\n",
       "      <td>73.0</td>\n",
       "      <td>7.4</td>\n",
       "      <td>E10+</td>\n",
       "      <td>1.28</td>\n",
       "    </tr>\n",
       "    <tr>\n",
       "      <th>1553</th>\n",
       "      <td>lego batman: the videogame</td>\n",
       "      <td>PS2</td>\n",
       "      <td>2008.0</td>\n",
       "      <td>Action</td>\n",
       "      <td>0.72</td>\n",
       "      <td>0.03</td>\n",
       "      <td>0.0</td>\n",
       "      <td>0.52</td>\n",
       "      <td>77.0</td>\n",
       "      <td>8.9</td>\n",
       "      <td>E10+</td>\n",
       "      <td>1.27</td>\n",
       "    </tr>\n",
       "    <tr>\n",
       "      <th>12465</th>\n",
       "      <td>lego batman: the videogame</td>\n",
       "      <td>PC</td>\n",
       "      <td>2008.0</td>\n",
       "      <td>Action</td>\n",
       "      <td>0.02</td>\n",
       "      <td>0.03</td>\n",
       "      <td>0.0</td>\n",
       "      <td>0.01</td>\n",
       "      <td>80.0</td>\n",
       "      <td>7.8</td>\n",
       "      <td>E10+</td>\n",
       "      <td>0.06</td>\n",
       "    </tr>\n",
       "  </tbody>\n",
       "</table>\n",
       "</div>"
      ],
      "text/plain": [
       "                             name platform  year_of_release   genre  na_sales  \\\n",
       "397    lego batman: the videogame     X360           2008.0  Action      2.04   \n",
       "456    lego batman: the videogame      Wii           2008.0  Action      1.80   \n",
       "460    lego batman: the videogame       DS           2008.0  Action      1.75   \n",
       "1519   lego batman: the videogame      PS3           2008.0  Action      0.72   \n",
       "1538   lego batman: the videogame      PSP           2008.0  Action      0.57   \n",
       "1553   lego batman: the videogame      PS2           2008.0  Action      0.72   \n",
       "12465  lego batman: the videogame       PC           2008.0  Action      0.02   \n",
       "\n",
       "       eu_sales  jp_sales  other_sales  critic_score user_score rating  \\\n",
       "397        1.02       0.0         0.32          76.0        7.9   E10+   \n",
       "456        0.97       0.0         0.29          74.0        7.9   E10+   \n",
       "460        1.01       0.0         0.29          72.0          8   E10+   \n",
       "1519       0.39       0.0         0.19          75.0        7.7   E10+   \n",
       "1538       0.44       0.0         0.27          73.0        7.4   E10+   \n",
       "1553       0.03       0.0         0.52          77.0        8.9   E10+   \n",
       "12465      0.03       0.0         0.01          80.0        7.8   E10+   \n",
       "\n",
       "       total_sales  \n",
       "397           3.38  \n",
       "456           3.06  \n",
       "460           3.05  \n",
       "1519          1.30  \n",
       "1538          1.28  \n",
       "1553          1.27  \n",
       "12465         0.06  "
      ]
     },
     "execution_count": 32,
     "metadata": {},
     "output_type": "execute_result"
    }
   ],
   "source": [
    "df[df.name == 'lego batman: the videogame']"
   ]
  },
  {
   "cell_type": "markdown",
   "metadata": {},
   "source": [
    "Пропуски заполнены. Посчитаем, сколько удалось восстановить данных таким образом:"
   ]
  },
  {
   "cell_type": "code",
   "execution_count": 33,
   "metadata": {},
   "outputs": [
    {
     "data": {
      "text/plain": [
       "(137, 0.00819672131147541)"
      ]
     },
     "execution_count": 33,
     "metadata": {},
     "output_type": "execute_result"
    }
   ],
   "source": [
    "(len(df[df.year_of_release.isnull()]),\n",
    "len(df[df.year_of_release.isnull()]) / len(df))"
   ]
  },
  {
   "cell_type": "markdown",
   "metadata": {},
   "source": [
    "Было 250 пропусков, а стало 137. Восстановлены данные для 113 пропусков."
   ]
  },
  {
   "cell_type": "markdown",
   "metadata": {},
   "source": [
    "Удалим все оставшиеся строки с пропусками в столбце year_of_release:"
   ]
  },
  {
   "cell_type": "code",
   "execution_count": 34,
   "metadata": {},
   "outputs": [
    {
     "data": {
      "text/plain": [
       "(16577, 0)"
      ]
     },
     "execution_count": 34,
     "metadata": {},
     "output_type": "execute_result"
    }
   ],
   "source": [
    "df.dropna(subset = ['year_of_release'], inplace = True)\n",
    "len(df), len(df[df.year_of_release.isnull()])"
   ]
  },
  {
   "cell_type": "markdown",
   "metadata": {},
   "source": [
    "Количество строк в таблице теперь 16 577, пропусков в столбце year_of_release не осталось."
   ]
  },
  {
   "cell_type": "markdown",
   "metadata": {},
   "source": [
    "Остались пропуски в столбцах critic_score, user_score и rating. Можно выдвинуть гипотезу, что пропуски связаны с тем, что игры были недостаточно популярные, чтобы их включали в рейтинги. Если так, то пропуски будут значительно пересекаться в этих столбцах. Вычислим, сколько таких пересечений по всем трём столбцам:"
   ]
  },
  {
   "cell_type": "code",
   "execution_count": 35,
   "metadata": {},
   "outputs": [
    {
     "name": "stdout",
     "output_type": "stream",
     "text": [
      "Пропусков в столбце critic_score: 8497\n",
      "Пропусков в столбце user_score: 6638\n",
      "Пропусков в столбце rating: 6705\n",
      "Строк с пропусками хотя бы в одном столбце: 8608\n",
      "Строк с пропусками в трёх столбцах: 6560\n"
     ]
    }
   ],
   "source": [
    "print('Пропусков в столбце critic_score:', len(df[df.critic_score.isnull()]))\n",
    "print('Пропусков в столбце user_score:', len(df[df.user_score.isnull()]))\n",
    "print('Пропусков в столбце rating:', len(df[df.rating.isnull()]))\n",
    "print('Строк с пропусками хотя бы в одном столбце:', len(df[df.critic_score.isnull() | \n",
    "                                                            df.rating.isnull() | df.user_score.isnull()]))\n",
    "print('Строк с пропусками в трёх столбцах:', len(df[df.critic_score.isnull() & \n",
    "                                                       df.rating.isnull() & df.user_score.isnull()]))"
   ]
  },
  {
   "cell_type": "markdown",
   "metadata": {},
   "source": [
    "Много пересечений по столбцам. Если пропуски связаны с популярностью игр, то и продаж у игр без рейтингов будет в среднем меньше. Проверим, какое среднее количество продаж у игр без рейтингов и игр с рейтингами. "
   ]
  },
  {
   "cell_type": "code",
   "execution_count": 36,
   "metadata": {},
   "outputs": [
    {
     "name": "stdout",
     "output_type": "stream",
     "text": [
      "Среднее количество продаж для игр без рейтинга, млн:  0.42879268292682926\n",
      "Среднее количество продаж для игр с рейтингом, млн:  0.6969958589534446\n"
     ]
    }
   ],
   "source": [
    "print('Среднее количество продаж для игр без рейтинга, млн: ',\n",
    "df[df.critic_score.isnull() & df.rating.isnull() & df.user_score.isnull()].total_sales.mean())\n",
    "print('Среднее количество продаж для игр с рейтингом, млн: ',\n",
    "df[df.critic_score.notnull() & df.rating.notnull() & df.user_score.notnull()].total_sales.mean())"
   ]
  },
  {
   "cell_type": "markdown",
   "metadata": {},
   "source": [
    "Оценим, является ли такое различие случайным или оно статистически значимо. Сформулируем нулевую и альтернативную гипотезы:\n",
    "- Нулевая гипотеза: среднее количество продаж для игр без рейтинга и с рейтингом одинаковое.\n",
    "- Альтернативная гипотеза: среднее количество продаж для игр без рейтинга ниже, чем для игр с рейтингом."
   ]
  },
  {
   "cell_type": "markdown",
   "metadata": {},
   "source": [
    "Составим две выборки: в одной будут продажи игр без рейтинга, во второй - продажи игр с рейтингом:"
   ]
  },
  {
   "cell_type": "code",
   "execution_count": 37,
   "metadata": {},
   "outputs": [],
   "source": [
    "with_rating = df[df.critic_score.notnull() & df.rating.notnull() & df.user_score.notnull()]['total_sales']\n",
    "without_rating = df[df.critic_score.isnull() & df.rating.isnull() & df.user_score.isnull()]['total_sales']"
   ]
  },
  {
   "cell_type": "markdown",
   "metadata": {},
   "source": [
    "Рассчитаем дисперсии в выборках:"
   ]
  },
  {
   "cell_type": "code",
   "execution_count": 38,
   "metadata": {},
   "outputs": [
    {
     "data": {
      "text/plain": [
       "(3.359339643682649, 1.8917366729758776)"
      ]
     },
     "execution_count": 38,
     "metadata": {},
     "output_type": "execute_result"
    }
   ],
   "source": [
    "var_with_rating = np.var(with_rating, ddof=1)\n",
    "var_without_rating = np.var(without_rating, ddof=1)\n",
    "var_with_rating, var_without_rating"
   ]
  },
  {
   "cell_type": "markdown",
   "metadata": {},
   "source": [
    "Проведём расчёты и найдём p-value. Применим метод ttest_ind, который принимает на вход две выборки, а на выходе мы получим вероятность, что они из одной ГС. Пороговый уровень альфа установим 0,05."
   ]
  },
  {
   "cell_type": "code",
   "execution_count": 39,
   "metadata": {},
   "outputs": [
    {
     "name": "stdout",
     "output_type": "stream",
     "text": [
      "Вероятность совершить ошибку первого рода: 4.6775968066342554e-24\n",
      "Это меньше порогового значения альфа 0,05. Принимаем альтернативную гипотезу.\n"
     ]
    }
   ],
   "source": [
    "results = st.ttest_ind(with_rating, without_rating, equal_var=False)\n",
    "# equal_var=False, так как дисперсии двух выборок отличаются почти в два раза. В связи с этим вместо t-критерия Стьюдента \n",
    "# применяем t-критерий Уэлча. \n",
    "print('Вероятность совершить ошибку первого рода:', results.pvalue / 2) # делим пополам, так как делаем одностороннюю проверку \n",
    "if results.pvalue / 2 < .5:\n",
    "    print('Это меньше порогового значения альфа 0,05. Принимаем альтернативную гипотезу.')\n",
    "else:\n",
    "    print('Это больше порогового значения альфа 0,05. Недостаточно оснований отклонить нулевую гипотезу.')"
   ]
  },
  {
   "cell_type": "markdown",
   "metadata": {},
   "source": [
    "Это означает, что пропуски появились не случайно хаотичным образом, а связаны с популярностью игр - для популярных игр их меньше, для непопулярных - больше.\n",
    "\n",
    "Обрабатывать поля с пропусками в столбцах с рейтингами не будем: для заполнения у нас нет данных, а удалить строки целиком мы не можем, так как в таком случае потеряем около 50% данных."
   ]
  },
  {
   "cell_type": "markdown",
   "metadata": {},
   "source": [
    "#### <a name=\"2.5\"> Изменение типа данных в столбцах <a>"
   ]
  },
  {
   "cell_type": "markdown",
   "metadata": {},
   "source": [
    "В столбце user_score указывается рейтинг игры по версии пользователей. Логично, что данные должны быть числового типа, но сейчас они текстовые. Проблема в том, что среди значений встречаются tbd. Такие значения - это скорее всего аббревиатура от английского To Be Determined (будет определено). Она используется, если какая-то информация еще не определена или решение по вопросу не принято. По смыслу это очень похоже на значение Nan, которое используется в качестве заполнителя для отсутствия данных. В связи с этим заменим все tbd на Nan:"
   ]
  },
  {
   "cell_type": "code",
   "execution_count": 40,
   "metadata": {},
   "outputs": [
    {
     "name": "stdout",
     "output_type": "stream",
     "text": [
      "До замены tbd на Nan:\n",
      "количество значений tbd: 2395\n",
      "количество значений Nan: 6638\n",
      "\n",
      "После замены tbd на Nan:\n",
      "количество значений tbd: 0\n",
      "количество значений Nan: 9033\n"
     ]
    }
   ],
   "source": [
    "print('До замены tbd на Nan:')\n",
    "print(f'количество значений tbd:', len(df.query('user_score == \"tbd\"')))\n",
    "print(f'количество значений Nan:', len(df[df.user_score.isnull()]))\n",
    "df['user_score'] = df['user_score'].where(df['user_score'] != \"tbd\", np.nan)\n",
    "print()\n",
    "print('После замены tbd на Nan:')\n",
    "print(f'количество значений tbd:', len(df.query('user_score == \"tbd\"')))\n",
    "print(f'количество значений Nan:', len(df[df.user_score.isnull()]))"
   ]
  },
  {
   "cell_type": "markdown",
   "metadata": {},
   "source": [
    "Теперь, когда текстовых значений не осталось в столбце user_score, заменим тип данных с текстового на числовой:"
   ]
  },
  {
   "cell_type": "code",
   "execution_count": 41,
   "metadata": {},
   "outputs": [
    {
     "name": "stdout",
     "output_type": "stream",
     "text": [
      "До преобразования типа данных:\n",
      "пример значения: 8, его тип данных: <class 'str'>\n",
      "\n",
      "После преобразования типа данных:\n",
      "это же значение: 8.0, новый тип данных: <class 'numpy.float64'>\n"
     ]
    }
   ],
   "source": [
    "print('До преобразования типа данных:')\n",
    "df.loc[3, 'user_score']\n",
    "type(df.loc[3, 'user_score'])\n",
    "print(f'пример значения: {df.loc[3, \"user_score\"]}, его тип данных: {type(df.loc[3, \"user_score\"])}')\n",
    "df.user_score = pd.to_numeric(df.user_score)\n",
    "print()\n",
    "print('После преобразования типа данных:')\n",
    "print(f'это же значение: {df.loc[3, \"user_score\"]}, новый тип данных: {type(df.loc[3, \"user_score\"])}')"
   ]
  },
  {
   "cell_type": "markdown",
   "metadata": {},
   "source": [
    "Заменим также тип данных в столбце year_of_release - дробные числа нам не нужны:"
   ]
  },
  {
   "cell_type": "code",
   "execution_count": 42,
   "metadata": {},
   "outputs": [],
   "source": [
    "df.year_of_release = df.year_of_release.astype('int16')"
   ]
  },
  {
   "cell_type": "markdown",
   "metadata": {},
   "source": [
    "Взглянем на итоговый вид таблицы:"
   ]
  },
  {
   "cell_type": "code",
   "execution_count": 43,
   "metadata": {},
   "outputs": [
    {
     "data": {
      "text/html": [
       "<div>\n",
       "<style scoped>\n",
       "    .dataframe tbody tr th:only-of-type {\n",
       "        vertical-align: middle;\n",
       "    }\n",
       "\n",
       "    .dataframe tbody tr th {\n",
       "        vertical-align: top;\n",
       "    }\n",
       "\n",
       "    .dataframe thead th {\n",
       "        text-align: right;\n",
       "    }\n",
       "</style>\n",
       "<table border=\"1\" class=\"dataframe\">\n",
       "  <thead>\n",
       "    <tr style=\"text-align: right;\">\n",
       "      <th></th>\n",
       "      <th>name</th>\n",
       "      <th>platform</th>\n",
       "      <th>year_of_release</th>\n",
       "      <th>genre</th>\n",
       "      <th>na_sales</th>\n",
       "      <th>eu_sales</th>\n",
       "      <th>jp_sales</th>\n",
       "      <th>other_sales</th>\n",
       "      <th>critic_score</th>\n",
       "      <th>user_score</th>\n",
       "      <th>rating</th>\n",
       "      <th>total_sales</th>\n",
       "    </tr>\n",
       "  </thead>\n",
       "  <tbody>\n",
       "    <tr>\n",
       "      <th>0</th>\n",
       "      <td>wii sports</td>\n",
       "      <td>Wii</td>\n",
       "      <td>2006</td>\n",
       "      <td>Sports</td>\n",
       "      <td>41.36</td>\n",
       "      <td>28.96</td>\n",
       "      <td>3.77</td>\n",
       "      <td>8.45</td>\n",
       "      <td>76.0</td>\n",
       "      <td>8.0</td>\n",
       "      <td>E</td>\n",
       "      <td>82.54</td>\n",
       "    </tr>\n",
       "    <tr>\n",
       "      <th>1</th>\n",
       "      <td>super mario bros.</td>\n",
       "      <td>NES</td>\n",
       "      <td>1985</td>\n",
       "      <td>Platform</td>\n",
       "      <td>29.08</td>\n",
       "      <td>3.58</td>\n",
       "      <td>6.81</td>\n",
       "      <td>0.77</td>\n",
       "      <td>NaN</td>\n",
       "      <td>NaN</td>\n",
       "      <td>NaN</td>\n",
       "      <td>40.24</td>\n",
       "    </tr>\n",
       "    <tr>\n",
       "      <th>2</th>\n",
       "      <td>mario kart wii</td>\n",
       "      <td>Wii</td>\n",
       "      <td>2008</td>\n",
       "      <td>Racing</td>\n",
       "      <td>15.68</td>\n",
       "      <td>12.76</td>\n",
       "      <td>3.79</td>\n",
       "      <td>3.29</td>\n",
       "      <td>82.0</td>\n",
       "      <td>8.3</td>\n",
       "      <td>E</td>\n",
       "      <td>35.52</td>\n",
       "    </tr>\n",
       "    <tr>\n",
       "      <th>3</th>\n",
       "      <td>wii sports resort</td>\n",
       "      <td>Wii</td>\n",
       "      <td>2009</td>\n",
       "      <td>Sports</td>\n",
       "      <td>15.61</td>\n",
       "      <td>10.93</td>\n",
       "      <td>3.28</td>\n",
       "      <td>2.95</td>\n",
       "      <td>80.0</td>\n",
       "      <td>8.0</td>\n",
       "      <td>E</td>\n",
       "      <td>32.77</td>\n",
       "    </tr>\n",
       "    <tr>\n",
       "      <th>4</th>\n",
       "      <td>pokemon red/pokemon blue</td>\n",
       "      <td>GB</td>\n",
       "      <td>1996</td>\n",
       "      <td>Role-Playing</td>\n",
       "      <td>11.27</td>\n",
       "      <td>8.89</td>\n",
       "      <td>10.22</td>\n",
       "      <td>1.00</td>\n",
       "      <td>NaN</td>\n",
       "      <td>NaN</td>\n",
       "      <td>NaN</td>\n",
       "      <td>31.38</td>\n",
       "    </tr>\n",
       "  </tbody>\n",
       "</table>\n",
       "</div>"
      ],
      "text/plain": [
       "                       name platform  year_of_release         genre  na_sales  \\\n",
       "0                wii sports      Wii             2006        Sports     41.36   \n",
       "1         super mario bros.      NES             1985      Platform     29.08   \n",
       "2            mario kart wii      Wii             2008        Racing     15.68   \n",
       "3         wii sports resort      Wii             2009        Sports     15.61   \n",
       "4  pokemon red/pokemon blue       GB             1996  Role-Playing     11.27   \n",
       "\n",
       "   eu_sales  jp_sales  other_sales  critic_score  user_score rating  \\\n",
       "0     28.96      3.77         8.45          76.0         8.0      E   \n",
       "1      3.58      6.81         0.77           NaN         NaN    NaN   \n",
       "2     12.76      3.79         3.29          82.0         8.3      E   \n",
       "3     10.93      3.28         2.95          80.0         8.0      E   \n",
       "4      8.89     10.22         1.00           NaN         NaN    NaN   \n",
       "\n",
       "   total_sales  \n",
       "0        82.54  \n",
       "1        40.24  \n",
       "2        35.52  \n",
       "3        32.77  \n",
       "4        31.38  "
      ]
     },
     "execution_count": 43,
     "metadata": {},
     "output_type": "execute_result"
    }
   ],
   "source": [
    "df.head(5)"
   ]
  },
  {
   "cell_type": "markdown",
   "metadata": {},
   "source": [
    "В ходе предобработки данных:\n",
    "- были изменены названия столбцов - приведены к строчным буквам;\n",
    "- добавлен новый столбец total_sales, который включил в себя сумму продаж игр по всем регионам;\n",
    "- обработаны пропуски в столбцах name, genre и year_of_release - частично данные были восстановлено, частично удалены;\n",
    "- установлена логика в появлении пропусков в столбцах critic_score, critic_score и rating - обнаружено, что для популярных игр их меньше, для непопулярных - больше;\n",
    "- в столбце user_score все значения tbd заменены на nan, так как по смыслу они схожи;\n",
    "- заменены типы данных в столбце user_score с object на float, в столбце year_of_release с float на int."
   ]
  },
  {
   "cell_type": "markdown",
   "metadata": {},
   "source": [
    "[К началу](#contents)"
   ]
  },
  {
   "cell_type": "markdown",
   "metadata": {},
   "source": [
    "### <a name=\"3\"> 3. Исследовательский анализ данных <a name=\"3\">"
   ]
  },
  {
   "cell_type": "markdown",
   "metadata": {},
   "source": [
    "#### <a name=\"3.1\"> Выпуск игр в разные годы <a>"
   ]
  },
  {
   "cell_type": "markdown",
   "metadata": {},
   "source": [
    "Посмотрим, сколько игр выпускалось в разные годы: "
   ]
  },
  {
   "cell_type": "code",
   "execution_count": 44,
   "metadata": {},
   "outputs": [
    {
     "data": {
      "image/png": "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\n",
      "text/plain": [
       "<Figure size 864x288 with 1 Axes>"
      ]
     },
     "metadata": {
      "needs_background": "light"
     },
     "output_type": "display_data"
    }
   ],
   "source": [
    "df.groupby('year_of_release')['name'].count().plot(kind='bar', grid=True, figsize=(12, 4), \n",
    "                                                   alpha=.7, legend=False)\n",
    "plt.title(\"Количество выпущеных игр по годам\")\n",
    "plt.xlabel(\"Год\")\n",
    "plt.ylabel(\"Количество выпущенных игр\")\n",
    "plt.show()"
   ]
  },
  {
   "cell_type": "markdown",
   "metadata": {},
   "source": [
    "Можно заметить, что только начиная с 1994 года количество игр начало заметно расти. В связи с этим, будем считать важным для анализа периодом 1994-2016 гг."
   ]
  },
  {
   "cell_type": "markdown",
   "metadata": {},
   "source": [
    "Уберём из нашей таблицы данные до 1994 года:"
   ]
  },
  {
   "cell_type": "code",
   "execution_count": 45,
   "metadata": {},
   "outputs": [
    {
     "name": "stdout",
     "output_type": "stream",
     "text": [
      "367\n"
     ]
    },
    {
     "data": {
      "text/plain": [
       "16210"
      ]
     },
     "execution_count": 45,
     "metadata": {},
     "output_type": "execute_result"
    }
   ],
   "source": [
    "print(len(df.query('year_of_release < 1994')))\n",
    "df = df.query('year_of_release >= 1994').reset_index(drop=True)\n",
    "len(df)"
   ]
  },
  {
   "cell_type": "markdown",
   "metadata": {},
   "source": [
    "Было удалено 366 строк, в таблице осталось 16 098 игр."
   ]
  },
  {
   "cell_type": "markdown",
   "metadata": {},
   "source": [
    "#### <a name=\"3.2\"> Продажи игр на топ-5 платформах в 1994-2016 гг. <a>"
   ]
  },
  {
   "cell_type": "markdown",
   "metadata": {},
   "source": [
    "Посмотрим, как менялись продажи по платформам. Напишем функцию, с помощью которой получим топ платформ с наибольшими суммарными продажами:"
   ]
  },
  {
   "cell_type": "code",
   "execution_count": 46,
   "metadata": {},
   "outputs": [],
   "source": [
    "def top(df, amount):\n",
    "    return (df.groupby('platform')[['total_sales']].sum()\n",
    "            .sort_values('total_sales', ascending=False).head(amount).reset_index())"
   ]
  },
  {
   "cell_type": "markdown",
   "metadata": {},
   "source": [
    "Посмотрим на топ-5 платформ по продажам:"
   ]
  },
  {
   "cell_type": "code",
   "execution_count": 47,
   "metadata": {},
   "outputs": [
    {
     "data": {
      "text/html": [
       "<div>\n",
       "<style scoped>\n",
       "    .dataframe tbody tr th:only-of-type {\n",
       "        vertical-align: middle;\n",
       "    }\n",
       "\n",
       "    .dataframe tbody tr th {\n",
       "        vertical-align: top;\n",
       "    }\n",
       "\n",
       "    .dataframe thead th {\n",
       "        text-align: right;\n",
       "    }\n",
       "</style>\n",
       "<table border=\"1\" class=\"dataframe\">\n",
       "  <thead>\n",
       "    <tr style=\"text-align: right;\">\n",
       "      <th></th>\n",
       "      <th>platform</th>\n",
       "      <th>total_sales</th>\n",
       "    </tr>\n",
       "  </thead>\n",
       "  <tbody>\n",
       "    <tr>\n",
       "      <th>0</th>\n",
       "      <td>PS2</td>\n",
       "      <td>1250.92</td>\n",
       "    </tr>\n",
       "    <tr>\n",
       "      <th>1</th>\n",
       "      <td>X360</td>\n",
       "      <td>966.67</td>\n",
       "    </tr>\n",
       "    <tr>\n",
       "      <th>2</th>\n",
       "      <td>PS3</td>\n",
       "      <td>934.71</td>\n",
       "    </tr>\n",
       "    <tr>\n",
       "      <th>3</th>\n",
       "      <td>Wii</td>\n",
       "      <td>903.31</td>\n",
       "    </tr>\n",
       "    <tr>\n",
       "      <th>4</th>\n",
       "      <td>DS</td>\n",
       "      <td>804.26</td>\n",
       "    </tr>\n",
       "  </tbody>\n",
       "</table>\n",
       "</div>"
      ],
      "text/plain": [
       "  platform  total_sales\n",
       "0      PS2      1250.92\n",
       "1     X360       966.67\n",
       "2      PS3       934.71\n",
       "3      Wii       903.31\n",
       "4       DS       804.26"
      ]
     },
     "execution_count": 47,
     "metadata": {},
     "output_type": "execute_result"
    }
   ],
   "source": [
    "top_platforms = top(df, 5)\n",
    "top_platforms"
   ]
  },
  {
   "cell_type": "markdown",
   "metadata": {},
   "source": [
    "Теперь построим графики для этих платформ по количеству продаж копий игр в каждый год. Для начала напишем функцию, которая составит таблицу и добавит в неё эти топ-5 платформ, годы продаж и объёмы продаж копий игр:"
   ]
  },
  {
   "cell_type": "code",
   "execution_count": 48,
   "metadata": {},
   "outputs": [],
   "source": [
    "def top_with_years(df, platforms_list):\n",
    "    return (df.query('platform in @platforms_list')\n",
    "                              .groupby(['platform', 'year_of_release'])[['total_sales']].sum().reset_index())"
   ]
  },
  {
   "cell_type": "code",
   "execution_count": 49,
   "metadata": {},
   "outputs": [
    {
     "data": {
      "text/html": [
       "<div>\n",
       "<style scoped>\n",
       "    .dataframe tbody tr th:only-of-type {\n",
       "        vertical-align: middle;\n",
       "    }\n",
       "\n",
       "    .dataframe tbody tr th {\n",
       "        vertical-align: top;\n",
       "    }\n",
       "\n",
       "    .dataframe thead th {\n",
       "        text-align: right;\n",
       "    }\n",
       "</style>\n",
       "<table border=\"1\" class=\"dataframe\">\n",
       "  <thead>\n",
       "    <tr style=\"text-align: right;\">\n",
       "      <th></th>\n",
       "      <th>platform</th>\n",
       "      <th>year_of_release</th>\n",
       "      <th>total_sales</th>\n",
       "    </tr>\n",
       "  </thead>\n",
       "  <tbody>\n",
       "    <tr>\n",
       "      <th>0</th>\n",
       "      <td>DS</td>\n",
       "      <td>2004</td>\n",
       "      <td>17.27</td>\n",
       "    </tr>\n",
       "    <tr>\n",
       "      <th>1</th>\n",
       "      <td>DS</td>\n",
       "      <td>2005</td>\n",
       "      <td>130.14</td>\n",
       "    </tr>\n",
       "    <tr>\n",
       "      <th>2</th>\n",
       "      <td>DS</td>\n",
       "      <td>2006</td>\n",
       "      <td>119.81</td>\n",
       "    </tr>\n",
       "    <tr>\n",
       "      <th>3</th>\n",
       "      <td>DS</td>\n",
       "      <td>2007</td>\n",
       "      <td>147.24</td>\n",
       "    </tr>\n",
       "    <tr>\n",
       "      <th>4</th>\n",
       "      <td>DS</td>\n",
       "      <td>2008</td>\n",
       "      <td>145.35</td>\n",
       "    </tr>\n",
       "  </tbody>\n",
       "</table>\n",
       "</div>"
      ],
      "text/plain": [
       "  platform  year_of_release  total_sales\n",
       "0       DS             2004        17.27\n",
       "1       DS             2005       130.14\n",
       "2       DS             2006       119.81\n",
       "3       DS             2007       147.24\n",
       "4       DS             2008       145.35"
      ]
     },
     "execution_count": 49,
     "metadata": {},
     "output_type": "execute_result"
    }
   ],
   "source": [
    "top_platforms_list = list(top_platforms.platform)\n",
    "top_platforms_with_years = top_with_years(df, top_platforms_list)\n",
    "top_platforms_with_years.head()"
   ]
  },
  {
   "cell_type": "markdown",
   "metadata": {},
   "source": [
    "Напишем функцию, которая будет строить графики:"
   ]
  },
  {
   "cell_type": "code",
   "execution_count": 50,
   "metadata": {},
   "outputs": [],
   "source": [
    "def graph(df, platform):\n",
    "    return df.query('platform == @platform').plot(ax=ax, x='year_of_release', y='total_sales', \n",
    "                                                           linewidth=3, label=platform, grid=True, style='o-')"
   ]
  },
  {
   "cell_type": "markdown",
   "metadata": {},
   "source": [
    "Построим графики продаж игр для 5 самых популярных игровых платформ:"
   ]
  },
  {
   "cell_type": "code",
   "execution_count": 51,
   "metadata": {},
   "outputs": [
    {
     "data": {
      "image/png": "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\n",
      "text/plain": [
       "<Figure size 864x360 with 1 Axes>"
      ]
     },
     "metadata": {
      "needs_background": "light"
     },
     "output_type": "display_data"
    }
   ],
   "source": [
    "ax = (top_platforms_with_years.query('platform == \"DS\"').plot(x='year_of_release', y='total_sales', style='o-'\n",
    "                                                                , figsize=(12, 5), linewidth=3, label=\"DS\"))\n",
    "graph(top_platforms_with_years, \"PS2\")\n",
    "graph(top_platforms_with_years, \"PS3\")\n",
    "graph(top_platforms_with_years, \"Wii\")\n",
    "graph(top_platforms_with_years, \"X360\")\n",
    "plt.title(\"Количество проданных копий игр для топ-5 платформ по годам\")\n",
    "plt.xlabel(\"Год\")\n",
    "plt.ylabel(\"Количество проданных копий игр, млн\")\n",
    "plt.show()"
   ]
  },
  {
   "cell_type": "markdown",
   "metadata": {},
   "source": [
    "По графикам видно, что:\n",
    "- PS2 и Wii превысили отметку в 200 млн проданных копий игр в год - это платформы, достигшие максимальной популярности; \n",
    "- срок актуальности игровых платформ составляет примерно 10 лет, причём в первые 4-5 лет количество проданных игр растёт, а затем начинает падать."
   ]
  },
  {
   "cell_type": "markdown",
   "metadata": {},
   "source": [
    "Для нашего исследования будем считать актуальным периодом последние 5 лет. На этом промежутке времени количество продаж игр для платформ либо только падает, либо достигает своего пика, либо только растёт. Этого интервала достаточно, чтобы прогнозировать популярность платформ на 2017 год."
   ]
  },
  {
   "cell_type": "markdown",
   "metadata": {},
   "source": [
    "Уберём из нашей таблицы данные до 2012 года:"
   ]
  },
  {
   "cell_type": "code",
   "execution_count": 52,
   "metadata": {},
   "outputs": [
    {
     "name": "stdout",
     "output_type": "stream",
     "text": [
      "13311\n"
     ]
    },
    {
     "data": {
      "text/plain": [
       "2899"
      ]
     },
     "execution_count": 52,
     "metadata": {},
     "output_type": "execute_result"
    }
   ],
   "source": [
    "print(len(df.query('year_of_release < 2012')))\n",
    "df = df.query('year_of_release >= 2012').reset_index(drop=True)\n",
    "len(df)"
   ]
  },
  {
   "cell_type": "markdown",
   "metadata": {},
   "source": [
    "Было удалено 13 211 строк, в таблице осталось 2887 игр."
   ]
  },
  {
   "cell_type": "markdown",
   "metadata": {},
   "source": [
    "#### <a name=\"3.3\"> Продажи игр на топ-5 платформах в 2012-2016 гг. <a>"
   ]
  },
  {
   "cell_type": "markdown",
   "metadata": {},
   "source": [
    "Посмотрим, как менялись продажи по платформам в последние 5 лет. Выведем топ-5 платформ с наибольшими суммарными продажами:"
   ]
  },
  {
   "cell_type": "code",
   "execution_count": 53,
   "metadata": {},
   "outputs": [
    {
     "data": {
      "text/html": [
       "<div>\n",
       "<style scoped>\n",
       "    .dataframe tbody tr th:only-of-type {\n",
       "        vertical-align: middle;\n",
       "    }\n",
       "\n",
       "    .dataframe tbody tr th {\n",
       "        vertical-align: top;\n",
       "    }\n",
       "\n",
       "    .dataframe thead th {\n",
       "        text-align: right;\n",
       "    }\n",
       "</style>\n",
       "<table border=\"1\" class=\"dataframe\">\n",
       "  <thead>\n",
       "    <tr style=\"text-align: right;\">\n",
       "      <th></th>\n",
       "      <th>platform</th>\n",
       "      <th>total_sales</th>\n",
       "    </tr>\n",
       "  </thead>\n",
       "  <tbody>\n",
       "    <tr>\n",
       "      <th>0</th>\n",
       "      <td>PS4</td>\n",
       "      <td>314.14</td>\n",
       "    </tr>\n",
       "    <tr>\n",
       "      <th>1</th>\n",
       "      <td>PS3</td>\n",
       "      <td>289.71</td>\n",
       "    </tr>\n",
       "    <tr>\n",
       "      <th>2</th>\n",
       "      <td>X360</td>\n",
       "      <td>237.52</td>\n",
       "    </tr>\n",
       "    <tr>\n",
       "      <th>3</th>\n",
       "      <td>3DS</td>\n",
       "      <td>195.01</td>\n",
       "    </tr>\n",
       "    <tr>\n",
       "      <th>4</th>\n",
       "      <td>XOne</td>\n",
       "      <td>159.32</td>\n",
       "    </tr>\n",
       "  </tbody>\n",
       "</table>\n",
       "</div>"
      ],
      "text/plain": [
       "  platform  total_sales\n",
       "0      PS4       314.14\n",
       "1      PS3       289.71\n",
       "2     X360       237.52\n",
       "3      3DS       195.01\n",
       "4     XOne       159.32"
      ]
     },
     "execution_count": 53,
     "metadata": {},
     "output_type": "execute_result"
    }
   ],
   "source": [
    "top_platforms = top(df, 5)\n",
    "top_platforms"
   ]
  },
  {
   "cell_type": "markdown",
   "metadata": {},
   "source": [
    "Построим графики продаж игр для 5 самых популярных игровых платформ в последние 5 лет:"
   ]
  },
  {
   "cell_type": "code",
   "execution_count": 54,
   "metadata": {},
   "outputs": [],
   "source": [
    "top_platforms_list = list(top_platforms.platform)\n",
    "top_platforms_with_years = top_with_years(df, top_platforms_list)"
   ]
  },
  {
   "cell_type": "code",
   "execution_count": 55,
   "metadata": {},
   "outputs": [
    {
     "data": {
      "image/png": "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\n",
      "text/plain": [
       "<Figure size 864x360 with 1 Axes>"
      ]
     },
     "metadata": {
      "needs_background": "light"
     },
     "output_type": "display_data"
    }
   ],
   "source": [
    "ax = (top_platforms_with_years.query('platform == \"3DS\"').plot(x='year_of_release', y='total_sales', style='o-'\n",
    "                                                                , figsize=(12, 5), linewidth=3, label=\"3DS\"))\n",
    "graph(top_platforms_with_years, \"XOne\")\n",
    "graph(top_platforms_with_years, \"PS3\")\n",
    "graph(top_platforms_with_years, \"PS4\")\n",
    "graph(top_platforms_with_years, \"X360\")\n",
    "plt.title(\"Количество проданных копий игр для топ-5 платформ за последние 5 лет\")\n",
    "plt.xlabel(\"Год\")\n",
    "plt.ylabel(\"Количество проданных копий игр, млн\")\n",
    "plt.show()"
   ]
  },
  {
   "cell_type": "markdown",
   "metadata": {},
   "source": [
    "По графикам видно, что:\n",
    "- за последние 5 лет максимальные продажи игр в год для одной платформы составили около 120 млн копий (PS4 в 2015 и PS3 в 2013), тогда как ранее одна приставка могла продать более 200 млн копий игр в год (например, Wii в 2009 году, это видно на предыдущем графике) - популярность самых популярных приставок падает;\n",
    "- платформы PS4 и XOne имеют наиболее ранние этапы своих жизненных циклов - первые игры для них появились в 2013 году и в продаже пока только 4 года. На эти платформы надо делать ставку - в 2017 году игры на них будут продаваться наиболее активно;\n",
    "- количество проданных игр для платформ 3DS, X360, PS3 планомерно снижается последние 5 лет - это уже устаревшие платформы и на них делать ставку не стоит в 2017 году."
   ]
  },
  {
   "cell_type": "markdown",
   "metadata": {},
   "source": [
    "#### <a name=\"3.4\"> График «ящик с усами» по продажам игр в разбивке по платформам <a>"
   ]
  },
  {
   "cell_type": "markdown",
   "metadata": {},
   "source": [
    "Построим сводную таблицу с названиями игр и количеством проданных копий для каждой платформы из топ-5 за 2012-2016 гг."
   ]
  },
  {
   "cell_type": "code",
   "execution_count": 56,
   "metadata": {},
   "outputs": [
    {
     "data": {
      "text/html": [
       "<div>\n",
       "<style scoped>\n",
       "    .dataframe tbody tr th:only-of-type {\n",
       "        vertical-align: middle;\n",
       "    }\n",
       "\n",
       "    .dataframe tbody tr th {\n",
       "        vertical-align: top;\n",
       "    }\n",
       "\n",
       "    .dataframe thead th {\n",
       "        text-align: right;\n",
       "    }\n",
       "</style>\n",
       "<table border=\"1\" class=\"dataframe\">\n",
       "  <thead>\n",
       "    <tr style=\"text-align: right;\">\n",
       "      <th></th>\n",
       "      <th>name</th>\n",
       "      <th>3DS</th>\n",
       "      <th>PS3</th>\n",
       "      <th>PS4</th>\n",
       "      <th>X360</th>\n",
       "      <th>XOne</th>\n",
       "    </tr>\n",
       "  </thead>\n",
       "  <tbody>\n",
       "    <tr>\n",
       "      <th>0</th>\n",
       "      <td>beyblade burst</td>\n",
       "      <td>0.03</td>\n",
       "      <td>NaN</td>\n",
       "      <td>NaN</td>\n",
       "      <td>NaN</td>\n",
       "      <td>NaN</td>\n",
       "    </tr>\n",
       "    <tr>\n",
       "      <th>1</th>\n",
       "      <td>fire emblem fates</td>\n",
       "      <td>1.67</td>\n",
       "      <td>NaN</td>\n",
       "      <td>NaN</td>\n",
       "      <td>NaN</td>\n",
       "      <td>NaN</td>\n",
       "    </tr>\n",
       "    <tr>\n",
       "      <th>2</th>\n",
       "      <td>frozen: olaf's quest</td>\n",
       "      <td>0.59</td>\n",
       "      <td>NaN</td>\n",
       "      <td>NaN</td>\n",
       "      <td>NaN</td>\n",
       "      <td>NaN</td>\n",
       "    </tr>\n",
       "    <tr>\n",
       "      <th>3</th>\n",
       "      <td>haikyu!! cross team match!</td>\n",
       "      <td>0.04</td>\n",
       "      <td>NaN</td>\n",
       "      <td>NaN</td>\n",
       "      <td>NaN</td>\n",
       "      <td>NaN</td>\n",
       "    </tr>\n",
       "    <tr>\n",
       "      <th>4</th>\n",
       "      <td>tales of xillia 2</td>\n",
       "      <td>NaN</td>\n",
       "      <td>0.84</td>\n",
       "      <td>NaN</td>\n",
       "      <td>NaN</td>\n",
       "      <td>NaN</td>\n",
       "    </tr>\n",
       "  </tbody>\n",
       "</table>\n",
       "</div>"
      ],
      "text/plain": [
       "                          name   3DS   PS3  PS4  X360  XOne\n",
       "0               beyblade burst  0.03   NaN  NaN   NaN   NaN\n",
       "1            fire emblem fates  1.67   NaN  NaN   NaN   NaN\n",
       "2         frozen: olaf's quest  0.59   NaN  NaN   NaN   NaN\n",
       "3   haikyu!! cross team match!  0.04   NaN  NaN   NaN   NaN\n",
       "4            tales of xillia 2   NaN  0.84  NaN   NaN   NaN"
      ]
     },
     "execution_count": 56,
     "metadata": {},
     "output_type": "execute_result"
    }
   ],
   "source": [
    "df_pivot = (df.query(\"platform in @top_platforms_list\")\n",
    "            .pivot_table(index=['name'], columns='platform', values='total_sales', aggfunc=['sum'])\n",
    "            .reset_index())\n",
    "df_pivot.columns = ['name', '3DS', 'PS3', 'PS4', 'X360', 'XOne']\n",
    "df_pivot.head()"
   ]
  },
  {
   "cell_type": "markdown",
   "metadata": {},
   "source": [
    "На основе этой таблицы построим диаграмму размаха проданных игр для каждой платформы:"
   ]
  },
  {
   "cell_type": "code",
   "execution_count": 57,
   "metadata": {},
   "outputs": [
    {
     "data": {
      "image/png": "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\n",
      "text/plain": [
       "<Figure size 576x432 with 1 Axes>"
      ]
     },
     "metadata": {
      "needs_background": "light"
     },
     "output_type": "display_data"
    }
   ],
   "source": [
    "df_pivot.boxplot(column=['3DS', 'PS3', 'PS4', 'X360', 'XOne'], figsize=(8,6))\n",
    "plt.title(\"Диаграмма размаха количества проданных копий игр \\n для топ-5 платформ за 2012-2016 гг.\")\n",
    "plt.xlabel(\"Игровая платформа\")\n",
    "plt.ylabel(\"Количество проданных копий игр, млн\")\n",
    "plt.show()"
   ]
  },
  {
   "cell_type": "markdown",
   "metadata": {},
   "source": [
    "Можно заметить, что игры, которые разошлись больше, чем 2 млн копий, являются выбросами для всех пяти платформ. Эти выбросы сжимают наши боксплоты и прижимают их к нулю на графике.\n",
    "\n",
    "Изменим масштаб графика, посмотрим ближе на область 0-2 млн проданных копий:"
   ]
  },
  {
   "cell_type": "code",
   "execution_count": 58,
   "metadata": {},
   "outputs": [
    {
     "data": {
      "image/png": "iVBORw0KGgoAAAANSUhEUgAAAgsAAAGSCAYAAABt3oLYAAAAOXRFWHRTb2Z0d2FyZQBNYXRwbG90bGliIHZlcnNpb24zLjMuMywgaHR0cHM6Ly9tYXRwbG90bGliLm9yZy/Il7ecAAAACXBIWXMAAAsTAAALEwEAmpwYAABR80lEQVR4nO3de5yUZf3/8ddHEFA8oJl8Q1QszRYxNUmzqNgs0DxkZxfKAyiZuVFmYG6/sgMqlJZCRSiIlqx2RBOP6W5FZol5Qsg0BQUPqHgARBD4/P64rlnuHWZm71333plZ3s/HYx47c92H+cw1995z3dd13ddl7o6IiIhIMduUOwARERGpbCosiIiISEkqLIiIiEhJKiyIiIhISSosiIiISEkqLIiIiEhJKiyIiHQRM6s3sz5mNtjMPl7ueETSqojCgpmdYmYbzWx1fLxuZvPLHZeISCd7G/AUcD3waplj6bbMbLaZrU/8pqw2sx7ljqsUM2s2s9PKHUcxFVFYiP7h7ju4+w7AGeUORkSks7n7ee7+Vnffz911QZStKbnflPjYWO6AqlmlFBa2BYp+kbHmYX7i9QQzczP7aHx9mJn9w8xeNrNnzGyamfVKrO9mtiZRwmyM6bPNbLqZ3W5mq8zsL2a2d2K7S83sKTN71czuNbMPJpadH/f7yUTamTHttETcbmZfT6zz8Zj2w/h6FzO70cyeN7OX4vOBJfJiiZl9y8wWxfWvNLM+afZlZtfE9FfM7M9mtkdMHx5jujSx7uCY9utE2m/N7Nm4/V/N7ICY3svM7jez+vi6h5n93cy+k+b7yft8g+L79kzk6cNm9pb4eoCZ3WBmK83sMTM7vcCxkqylcjPbNy5rKbmb2TZm9pCZLSvyvvmvdzazmTH+5Wb2w+SVipmdbmaL43G0yMzeEz9nMo7cMXhzIp7XY9oKM5uU2N8xZnZfPPaeMrPzSxwTw81sk7W+itpoZqck8uTvMZ5XzOw/ZnZkYvu28vSjefvfZJv/99o65lpdLcV9LUm8XpLbV3x9mpk1J163fH95Mc1PfL5fmNnvE8smm9kdZmYFtms5l8RjoDE+tolp7zeze2I+3WNm78/7LLnva7WZrS32WcxsBzN7zlqft5LH4l5x+5b/r7w4h+eOzfj6c7bluSV5nK82s2MT7/NVM3vczF4wsx/lPl+R9yr6/cbluf+F5LGVi6OvhfPCyrhsvZnNLvAeAxLbrzezNxKvPxjXOT0efyvj8TggL+/W5O1ji/fpiCJ5ucnMhpdYJ/ldnmqb//cfN7MvJbZ72TbXlie3Hx2XT7TwvzMP6AMcbmaPmtn/zOxDif3UxOPvZQvnw+MTy9r6HXMzeyDxuoeFc1jL8ZVGpRQW+gDr0qxoZrsCXwVeTiRvBL4O7AYcARwJnJm36UGJEmZdIn008IO47f3ANYll9wAHA7sCc4DfWvxhjv4DJKuNTgEezXvfx4CTE69PAxYnXm8DXAnsDewFrAWmUdpoYCTwDuCdwLdT7usCoD+wO7AcODux7HngaDPrXSROgJuB/eL2/ybmlbuvB74AfN/MaoBzgR5A7scvzfezBTM7ETgHGOnuL8bka4FlwADgM8AFZvaRxGbbAHclaqmKORnYJfF6U2L7QmYDG4B9gUOAEcTv3sw+C5wPnATsBBwPvOjuZ+XFkTsGj07s96y4fBjwDTMbEtPXxP31A44BvmxmJ5T4PE8nr6KAf+QtPxz4H+E7+C7wh/i/BG3nqQFLE/t+MrGsI8dvZ/sGcGA8oX8QGAuc7G2PZT+NkL8nufummB/zgMuAtwCXAPMsFlSj5Hd6XIl9fxN4o8TyHwAvlljewsy2jes/k7foH3lXzjcmln0SGAq8B/gEMKbUW1D8+4XN/xM7x+V/Syz7IuGcsE9cNqXQG7j704n9XwBcl4j7b/F4uxD4HKGpZinhuEw6KLGPgu+T58xY8LjXzD7dxrr/yPv/eTpveanzygrgWML//qnAT8zsPfFz90vUliff4xozO5RwfjuC8D85mJCXQ4HzgGvNrHf8/v8E3EY499YD15jZ/okYSv2OAfQys/fG58cAr7SRH1uolMLCbqT8xyFk4iwSH9bd73X3u919g7svAX4JfDjl/ua5+1/dfR3QABxhZnvG/f7a3V+M+70Y6A0kv6B7gf8zs4Hx4HiOLQ+y54AlZnaEmfUnnFT/lYj9RXf/vbu/5u6rCD+wbcU+zd2fcveVcf26NPty94fjD3vuiuu+xD7XAzcBn7Jw1X80MDf5pu4+y91Xxbw6HzjIzHaOyxYCP4zbnAN8MVft18Hv5yhgJnC0u+eu/vcEPgBMdPfX3f1+4ArCj2pOr/hZiooFvu8Q/rlynovbjSiwfn/g48DX3H2Nu68AfgKcGFc5jVDleY8Hj7n70jY+X76ehELVKwDu3uzuD7n7Jnd/EGgk/TFdyArgp+7+hrtfBzwCHJMyT7ejSJ528PjtVO7+GuFH6xLg10B97pgpxsx+ANQCn3b33I/6McCj7v6reKw2Ei4IShUKCu37/wgFlkuKLH834QfiqpS7/BLwT+C/7QhjsruvdPcngZ8SzxFFFP1+o17AphLV+NsQLg7ejNHALHf/dzy/fItwLh7Uwf1dxuYLm/8HzDazD7yJ+IqeV9x9nrv/L/7v/4Xwo/7BQuvmOR74UzxfLCBcgP3a3V+J/6PrCcfJ+4AdgIvcfb273wncSOvvtOjvWDSTzRe2p8XX7VIphYV9CCXJkmLVyueAH+Wlv9NC9eezZvYqoeS6W8r3fir3xN1XAysJV1iY2TmxeukVM3sZ2LnAfq8klCZPI5xkC7kiLj8ZuDov9u3N7JdmtjTG/legn5XujPNU4vnSRLxt7svMbgRWEa6O7y0Q51jgBOAWEv8cserqolg99iqwJC5K5sdVhMLQTe7+aGLbjnw/V8T3SP7wDABWxh+l5OffI/F6V+ClNvY9Pn6+R3IJ8Z/sK8Av43f9YGL9vQlNZc/EasCXCQWe3ePyPQlX7R1xWdzfw4ST5VMAZna4mTXFKspXCFcmaY/pQpbnXWnnjps0efp/hJqnLaQ8fi9L5NvcAruZm1h+WYHl/47LHzezbxSKw93/CTxOKAj/ptA6Ce8BPkXIz7cn0gew5XkoPy/S+C4wlXAuKWQy4QesVM0DAGa2IzAhrt8eBc8RRRT9fqNS/1NXE2pgc8fpOe0JMqFV3sdz8YukyPtYBZ+r3j8vbv/vxIXeTYQr7U91MDYokQdmdrSZ3R1rMV4mXFik+V/tT+l8X0H4bgYAT7n7psSy/OOy6O9YdCMw3ELTydvY8tzfpkopLAyl9VVuMT8gXMGtykv/BeEKYD9334lQ+7BFe2URLaUvM9uBcFA8HaszJxAKJ7u4ez/CVV/+fn8NjCJcpcwr8h43E67eTgZ+lbfsG4TaisNj7Ll2qlLxJ0uMe7G5NqPNfbn7sUDfGOvs5E5j7cD2hGaN/ILPKEJ15kcJhaZBBeL8OeGgHGlmwxLpHfl+6oDPA5Nscxv408Cu8QSasxehSSXnnZS+AtsVOAv4Xv4Cd7/C3feI3/W7E4ueIjST7RarFfu5+07ufkBi+Tva+DzFfDW+367AMDPLXS3MAW4A9nT3nYHppD+mC9nDrFUbfu64SZOnhwAPUFia4/eruXwjFETznZBY/tUCy98Tlx0P/NDM3pW/gpl9hVDz9zTh/7aUVwjHcQMwK1GweZpQMEzKz4u2vJPQRHhpkeUfITRxtFWgyfkm8JsO1FQVO0cUUur7hRL/U7FWZx7wEOFz/bh9YbZolfdm1jfur828d/czEtX7FxRbjTf3/1MwD2Kz7e8Jn7t/PE5vSvlez1O6ULE7m2ur97TW/U7yj8uCv2OJ5RuAPwK/I++8n1bZCwtm9nnCQfLnNlbdl9Du+ssCy3Yk3Ia0Op5IvtyOED5uZsNi1fsPgLvj1d2OhAx+HuhpobPeTvkbu/vLhNqFi919Q6E3iNV3kwlVTPlXGzsS2nlfjm2m300R81di08euhBPedW3ty0JnrgPiD8Y2hBPr2gL7vgD4s7s/XCDOdYTS/vZxvRZm9kXgUEK/ja8CV8WDNrdte7+fv8XCy2XADID4vdwFXGjhXvV3E2pCfh1j+ADhx2huif1+DZjp7s+miIH4vs8QqhYvNrOdYl6+w8xytR5XAOeY2aEW7GuJDkYpbSSc0N4aX+9IuOJ/3cwOIxTW3ozdga+a2bYW+ljUEGqA2srTXD+GxiL77cjx21EvE/qWtDpvmdk7CU1gXyA0R0wws4NL7Od/7v6Mu88gHJe5q+GbgHea2Sgz6xnPTYMJBeC0vg18391fL7L8fGBCXi1PMTsSai0ntbViAd+00Pl0T0JN2nWFVmrr+01sP7fI8p0JBaPTi53/UmoETjWzg+MP8AXAP2OzZbuZ2WcsdDLdxsxGEI6NGzq4r1LnlV6Ec+nzwAYzO5oCTZlF3AQcZ2ZvN7Nc/5LRFjpTf5Zwnr2b0AT1GuG43tZCx8vjaN2no9jvWNIMQj+0/P4MqZS1sGChR+i1hA6OS3NVSYSrqCPMLPmD1R/4dqJ9Mekcwsl0FXA5Rf4xiphDOMGtJPzYfSGm30qoqv4vocrndVpX7bVw9ynuXqwJIrfOle5+YYFFPyW0Gb5AODBuSRnzbYRq1/8RTpRt7asHoZngFeBZ4EAK3KLq7je6+9n56YTqxqWE0uyiuH8g9OyO732Su6929znAAkK7Pry57+ci4G1mluskWkeo1XiaUFL+rrv/2cwGx893jrv/q+Cegh507OrnJMKJYRGhOvJ3hOo83P23hBP6HMJnnEso2acxLR7zSwi1L7m2xDMJHUZXEfpXpL0SLeafhDbcF2Ksn/HNnUYL5mlctoRw9XNL4v9zL0KHK+jY8dtef7PQc/vvwAXuvii3wMLdKr8mtNE/EJu/zgN+ZZs765ZyGqGgt3/Mj2MJtSUvEmoojnX3F9oR6wvkNTXmuc/dm1PuayfgMndvq1mtkOsJVc33E678i7VRL6H093sr0Mzm/+V8PwL+4O73dCDGFvF4+3+Eq/RnCDV1J5bcqLTxhHPVyzHG09uR7y3aOq/EWu6vEv4/XyKc51IVStz9H4Tmqn8RajoXETrELyB04Bzl7ms99DM7jtCP7AVCDe5J7v6fxO6K/Y4l3+9xd6+LF7jtZukKuNmwcOvTcHc/pcCyQUCzuw/K8P1nA8vc/dttrVspLNyqdVriZC5SUvw/O83dh7W1boFtlxT6HzSzP7v7RwtsImVmZk5o8nssxbr6fiuEhVuGf93WhWeB7WbTBb9jZW+GEJGKln+7Xk6pjllSPfT9Sio9y/z+v6J4+8lSWt+mKCJdzN2PKJJe6lY8qRL6fiWtsjZDiIiISOVTM4RIBbMwepuISFmpsCCSMTP7kpn9tB3rjzOzf5nZ08CL8W4TESnA4nTfFgaOO9FazylRb2aTyxlfd6HCwlbKwqiK11sYIXClmd1qrccax8y+bnHURTOblbwVzcx+YGEipg2WN8mRhUmQ5lsYde9ZM7vCWg/6kx9LyfUtjI8+K8bxrJmdnVjWy8x+Z2ESH7fE5C+Jdd5jYeKr1RYm9xnfoUzrgHjf87fJG3W0xPrnEkaSHOvuA+LgT/lj9VckCyab2YvxMdlsy8mcEuv/2MKkOassTG51UrF1RUp4nvA/9gLhFufkWDaXE8Yu2L3QhpKeCgtbr36E+4H3J4xh8S/CvdkAmNlIwoRQRxIGzXo7rUc9fIxwH3qhUSt3Joz9MIAw+M8elP6xbGv98wljBOxNGClzgpkdlVg+n3Bf8RYDLZnZboR7/39JGBFuX8IYFV3lE8B/3L3NkegsjFqXu7f/ocwj63zjCIPXHEQYAfM4wrwGxayJ6+xMGN30UkvM8iiShrs/7+7vd/dd3P3jyQGx4vObaT3XiXSEu+tRRQ/CUM0PEUaee5EwKlfPuOwwwmyDLxNuiZoG9Eq5310JIwi+Jb6eQxgAJ7f8SODZAtv9Gji/jX1/CnioHZ+x1fqEwYJGJF7/ALi2wHbLCON2JNMuAH6V8n0HxTxYnXhMjsuaCQNz5dKXpdznLMJgYsm04wlzQbwc91uT+P6WEgptLxEKZKfnbXsKYbTHXBwO7BuXnUoYoW0VYcCuL+Vt+wnCID2vEgbzOopQOMntaxNhNMbVwMNxm9nAD1N+1ruAcYnXYwkjyaX93m8AvlFk2fD4WS9NpA2Oab/OW9cJBZHVhPkXfpjIu/ltHTOJZbMJ86Pk8mcN4InlzYSZEv8V8/R6YNe2vue8/53c/tcmjynCpFb3xf0+ReJ/jM3Hac9C/4cxr5blvdd84JRi+RDT9819PsL5YBlwXHy9A+F4PKlIXjUTxvKAMKDSU8Dx8fU2hCv/pYT5Dq4mzGCZ/CzJ/7k3in0WwvD7nnivVp+FcDw78NFE2migKe1xqEfhh2oWqs86wshm/YB3EWYly0153KGpoKMPEQoDuVH9DqD1ePEPAP2t9XS9aX2IcNJs9/pmtgthpMT8WA4osF0h7wNWmtldZrbCzP6Uog9AP9881vzERPpZifSBRbdu7UASE1ZZGJq4kTDs9FsJQ77+KTZXbM/mMd/fRvun4C46Va6FIaOvJsw10I+Qx0s8jD6anJr4uPg6bf4mFTpmUu3HzLYD3kvp46TNadRt8/j5746fqUND2yYk8+egAstPIkz//DbC8PCXxThKfc8t4QKT4r6T05ZD+6co71QehqUfA1weq/B/Atzv7qVGp8TM3kYY9fE8d8+NZHhKfNQSaih3YMtpzPsl8rnY0NTFpurOLd+VMJriy3mLFlP4u5N2UGGhyniYRe1hDzOQGeGk8t+4rENTdVuYqOlnQHKY5x1oPed57nnRvgdF9v0xQhXzdzq4fu4HMT+WtHEMjPsbT/ghfoLi8xxkoR/hSj/n84TpZG/3MHT5jwnDJeeq3zfRwSm4vfRUuWMJs1re7mHa6+XeerjYzlDomNmhVL+FhOmEwsWtJdZpcxp1Qv7k1u0Kv3L3he6+hjBc8ecsTEzV1vcMpaf+bvbOnaK83dz9NuC3wB2EmRRLNSkB7EL4/q5x9+SEeaOBSzwMN7yaMP30iXGo7vZoa6ru8wg1ea/kpa8iNHXJm6DCQpWyMBXqc4SqwmdjWrungjaztxJ+VH7u7skf0dW0njgr9zx/xs9S+34foTnjM+7+35j2Qds8nezDba0f40i+f+552jjWAn9093s8tF9+D3i/hQlwusJLtC7Y5E/Fu4lQZbsHodaow1NwW+mpct/MNNrnxM6nz5nZH0rULhU6Zla7u1uBaYQTcf8IGAJ8zt3bGvil6DTqUW5OjmLzKbwvfpbclNilpm5OI38q6G0JeV7qe84pNfV3minKX0h8js/lLRuQ9znfl7c8lw+5WrehRT7fDMJ3MztR61jM9wjHwEfyCoj5U38vJQwI2L+N/bWwNqbqtjBx2+co3DdqR7YsQEg7qbBQpXzztMb9CCVqaOdU0LGK/zbgBnfPn9nuYVpX3R0EPJfihJHb9yGENugx7n5HIu6/JaryD0ix/kuEasf8WNI2azxIaMNs2WXK7TrLg4TpbXPyp+I1wg/5ckIzQIem4La2p8p9M9No/zju7+2EppJvFlmv0DHzMBSfRtjMvkeoIRjh7q+2FYiXnkYdQv48E69gC7nbN08z3o/SUzenkT8V9BuEXvmlvudclfoQik8NnWaK8t0SnyN/orGn8z7n3XnL747pbwVuZ8tmAWINyQxC89WZZrZvkVhzfgMMi3HWJ2Oh9dTfexGabJ5rY39JbU3V/QNCk1Ghi4gaSk/BLSmosFBlzOytsV0QQul8WzZPNZ16Kmgz24lQZfh3dz+3wCpXA2Mt3MPcj3Bynp3Yflsz60M4hnpamN64R1w2hHDVV+/uf9piz1vG0tb6VwPftjDl7ruA0/Ni6R1jAegVY8mdWK8EPmlh6tttCVcm8929q640bqJ19fFvgGPM7MgYzzcINQp3ebhjYj4dm4K7ralyZxKmAD7SwrS9e8S8bI/XCVPlFjtvXA2cHfc9IH622cV2ZmbfIszS99G0hdCo4DTqFu58OZfSU5R3ti/E/5Htge8Dv/MwJX3R7zludyqhRnBBkf129hTlBcVYX6Hwd3oeoXA9hnDFfnXuf7yI+bEGZQzwHTN7e0xvBL5uZvtYmLb+AuA6Tz+ldVtTde8LHE5odi3kw4Q7IuTN6EivSD3K9wAOIVxZriZ0aJsN9I3LPkSoWVgN/I1w8tqi13Nc92Ra9xrPPfZKrHM2ofT/KuFHt3di2ey4ffJxSlx2JaHtPbnfh0t8ppLrE34EZ8U4ngPOztt+SYFYBiWWf5lwRfcSYerdPYvEMYi8XuaJZc3EHth56R8kVLUX+2zbEmoMBiTSPkmYjvYV4C/AAYllAwm3o+buhvhSTB8cX5+Wt//k3RBfifnzMmHelWtJ3MkQ3/dBQhPOY8DIAvn40by02THfl8U8vAnYvchnNcLUuivjYwpxSPki6zvhBzT5vZ9XZN3hFLgDhXBb7a/j8z8TphPeKS/+N3M3RDL/Wu4WSBwTybsh/kS42i/5PRPa8J1QC5H73GsJ/wPT4zqfIVTXrwJuJFz55z7nIN783RDr4mdfRpjK+gha3w1xKOEYzB1bPQhThDcUyatmEscmYVr6O+MxsQ2hD9JThMLsr4Fd2vFZHPhmofeKn8WBzxY6joE+8TP2L3Yc6pHuobkhRDJmZuOAwe7+tXLHIp3HOj6l8CmEwuz5eekDCYWTUzopxK2emdUTLg4mlDuWalfuWSdFuj13n1HuGKSirCHUROTbQOvRB+VNcvep5Y6hu8isz4KZ7Rl78y4ys4etwBC7FlxmZo+Z2YMW7wmPy062MBTso2Z2clZxioh0JXf/rbtfUiD9WXc/u9A2IuWWWTNE7IT3Nnf/d+zdfS9wgrsvSqzzcUKv2Y8TOqhc6u6HWxhcYwEwlNAedS9wqIee8SIiItKFMqtZcPdn3P3f8fkqwihae+St9gngag/uBvrFQsZI4HZ3XxkLCLcThqYVERGRLtYlt06a2SBCL/5/5i3ag9aDmiyLacXSRUREpItl3sEx3lf7e+BrnmLQlQ7sfxxhtju22267Q/fcc882tqgcmzZtYpttNNRFlpTH2Vm1ahUrVqzAzNiwYQM9e/bE3dl9993Zccd2jQouKehYzl415vF///vfF9z9rVm/T6aFhTgYye8JY4X/ocAqy2k9AtrAmLaccH9tMr250HvEnuYzAIYOHeoLFhQb46TyNDc3M3z48HKH0a0pj7PT2NjI+PHj6du3L0uXLmXgwIGsWbOGiy++mLq6unKH1+3oWM5eNeaxmRUb1bJTZXk3hBFGjVtcqOdvdANwUrwr4n3AK+7+DGFkwRFxxL5dCCPRlZpgRkS62KRJk7juuut44oknuPPOO3niiSe47rrrmDSp2EB7IlKtsqxZ+ADwReAhM7s/pp1HGBccd59OGA3u44TR5F4jDOmJu680sx8A98Ttvu9hylQRqRCLFy9m2LBhrdKGDRvG4sWLi2whItUqs8KCu8+nxCRGcR0nDFFbaNkswhC/IlKBampqmD9/PrW1tS1p8+fPp6ampoxRiUgWNIKjiHRIQ0MDY8eOZebMmWzcuJGmpibGjh2rZoh2aD2Tc+fSUP7SmVRYEJEOyXVirK+vZ/HixdTU1DBp0iR1bmyH9vygDzp3HksuOibDaESKU2FBRDqsrq6Ourq6quxFLiLpVdcNpSIiItLlVFgQERGRklRYKIPGxkaGDBnCkUceyZAhQ2hsbCx3SCIdomNZZOugPgtdrLGxkYaGhpYe5D169GDs2LEA6hjWiRobG5k0aVJLx7uGhgblbydLjuAIsGbNGsaPDzPRK69FuhcVFrrYpEmTmDlzJrW1tS2dwmbOnEl9fb1OsJ1EBbKuMWHCBHr27MmsWbNa8nn06NFMmDBB+SzSzagZoostXryYZcuWtaq6XbZsmUa960TJAlnPnj2pra1l5syZuv+/ky1btoyrrrqqVT5fddVVLFu2rNyhiUgnU81CFxswYAATJkxgzpw5LVdjo0aNYsCAAeUOrdvQMMQiIp1LNQtlkD9qW5ajuG2NcsMQJ2kY4s43cOBATjrpJJqamtiwYQNNTU2cdNJJDBw4sNyhiUgnU81CF3v66aeZPXt2q1HvJk+ezCmnnFLu0LoNDUPcNaZMmcKXvvQlRo4cyRtvvMG2225Lnz59+OUvf1nu0ESkk6mw0MVqamoYOHAgCxcubOng2NTUpKveTqRhiLtOnz59eMtb3sLSpUvZY489WLNmTblDEpEMqBmii+WuepNVt2PHjqWhoaHcoYm0y6RJk7juuut44oknuPPOO3niiSe47rrrVIMj0g2pZqGL6ao3e7p1smuoI6nI1kM1C2VQV1fHwoULueOOO1i4cKF+wDqZbp3sGupIKrL1UM2CdDu64u0aDQ0NfP7zn6dv374sXbqUvffemzVr1nDppZeWOzQR6WSqWZBuR1e8XU+3/4p0b6pZkG4necX75JNPstdee+mKNwO5Do7Jocubmpo0dLlIN6SahTLQTH3ZW7duHcuXL2fTpk0sX76cdevWlTukbkdDl4tsPVSz0MXUUz97EyZMYPvtt2fu3LmthtTWBEedS0OXi2w9VLPQxdRTP3vLli3j6quvbpXHV199tSY4yoCGLhfZOqhmoYupp750Fxq6XGTroZqFLqae+tkbOHAgJ598cqtRMk8++WRNcNTJampqeOSRR1qlPfLIIzqWRbohFRa6mIZ7zt6UKVPYsGEDY8aMYeTIkYwZM4YNGzYwZcqUcofWrdTW1jJ58mTGjBnDvHnzGDNmDJMnT6a2trbcoYm0izqdt03NEF1Mwz1nL5eXuX4gffv25YILLlAed7KmpiYmTpzIrFmzWo7liRMnMnfu3HKHJpKaOp2no5qFMtBwz9lTHmdv8eLF7L///q3S9t9/f/W/kaqiTufpqGZBRDpkwIABTJw4kWuuuablimz06NG6dVKqijqdp6OaBRHpMHcv+Vqk0qnTeTqqWRCRDil06+SUKVN066RUlVyn81yfhVynczVDtKbCgoh0SE1NDQMHDmThwoWt5obQFZlUE3U6T0fNECLSIboNWLoLdYhuW2Y1C2Y2CzgWWOHuQwos/yYwOhFHDfBWd19pZkuAVcBGYIO7D80qThHpmLq6Ou666y6OPvpo1q1bR+/evTn99NN1ohXphrJshpgNTAOuLrTQ3X8E/AjAzI4Dvu7uKxOr1Lr7CxnGJyJvQmNjI/PmzePmm29udX/6+9//fhUYRLqZzJoh3P2vwMo2VwzqAA2ZJZ1m5MiRbLPNNtTW1rLNNtswcuTIcofU7UyaNIlRo0ZRX1/PyJEjqa+vZ9SoUeoYJtINlb2Do5ltDxwFnJVIduA2M3Pgl+4+o8T244BxAP3796e5uTnDaDvX6tWrqyreavHNb36TBQsWcPzxx1NXV0djYyM33HAD733ve/nRj35U7vC6jUWLFvHiiy8yYcIE9tlnH5544gmmTJnCc889p+M6I8rXbOmcXIK7Z/YABgEL21jn88Cf8tL2iH93Bx4APpTm/Q499FCvJk1NTeUOoVsyM//yl7/s7pvz+Mtf/rKbWRmj6n569+7tF198sbtvzueLL77Ye/fuXcaouq+9J95Y7hC6rTlz5vgBBxzg22yzjR9wwAE+Z86ccoeUGrDAM/wdzz3KXrMAnEheE4S7L49/V5jZH4HDgL+WITapQu7OhRde2Crtwgsv5Be/+EWZIuqe1q9fz7Rp0zjkkENa7k+fNm0a69evL3doIqlpboh0ynrrpJntDHwYuD6R1tfMdsw9B0YAC8sToVQjM+Nb3/pWq7RvfetbmFmZIuqeBg8eXLDPwuDBg8sdmkhqmhsinSxvnWwEhgO7mdky4LvAtgDuPj2u9kngNndfk9i0P/DHeGLvCcxx91uyilO6n4997GMttQgf//jHOfPMM/nFL37BiBEjyhxZdUlTuHr44YdbPc+9bmtb17DQUiE0N0Q6Wd4NUefub3P3bd19oLvPdPfpiYIC7j7b3U/M2+5xdz8oPg5wdxXvpF1uvfVWRowYwfTp0znuuOOYPn06I0aM4NZbby13aFUlTTvmnDlzOOCAA8C24YADDmDOnDlp+zOJVATNDZGORnCUbunWW29l06ZNNDU1sWnTJhUUMpIb+W7vCTdo5DupShqJNJ1K6OAo0unq6+u5/PLLW40sOHXq1HKHJSIVRnNDpKPCgnQ79fX1TJ8+ncmTJzN48GAWLVrExIkTAVRgEJEt1NXVUVdX1zIhmmxJzRDS7Vx++eVMnjyZs88+mz59+nD22WczefJkLr/88nKHJiJSlVRYKIPGxkaGDBnCkUceyZAhQ2hs1EjXnWndunWcccYZrdLOOOMM1q1bV6aIRESqm5ohupgGAMle7969mT59OmeffXZL2vTp0+ndu3cZoxIRqV6qWehiGgAke6effjoTJ07kkksu4fXXX+eSSy5h4sSJnH766eUOTUSkKqlmoYtpAJDs5ToxnnfeeS13Q5xxxhnq3Cgi0kGqWehiGgCka0ydOpXXX3+dpqYmXn/9dRUURETeBBUWupgGAOka6kQqImnpfNE2NUN0MQ0Akj11IhWRtHS+SEc1C2WQGyL3jjvu0BC5GVAnUhFJS+eLdFRYkG5HnUhFJC2dL9JRYUG6HXUiFZG0dL5IR30WpNtpaGjg85//PH379uXJJ59kr732Ys2aNVx66aXlDk1EKkyu03muz0Ku07maIVpTYUG6NXcvdwgiUsHU6TydNgsLZvadQunu/v3OD0fkzZs0aRLXXXcdtbW1LbPINTU1UV9frxOAiGxBs062LU2fhTXxcXri+ZosgxJ5M9RhSUSkc7VZs+DuFwOY2Rdyz0UqWa7DUm1tbUuaOiyJiHRce+6GUONvJ9FoYdnSKJkiIp0rTZ+FPxEKCm83sxty6e5+fJaBdVcaLSx76rAkItK50twN8eP4V00QnSA5WliuM83MmTPV+a6TqcOSiEjnSVNYeCjzKLYi6nwnIiLVJk2fhWeABcC9iceCLIPqzjRamIiIVJs0NQuL3P2QzCPZSmi0MBGRrmNmme17axr0LU1hYWcz+wSwDniaUHjYkG1Y3Zc634mIdJ32/KAPOnceSy46JsNoqleaZoi/AJ8GxgK/AJaY2dGZRtXNaYrq7On2VBGRzpNmUKZTk6/NbF9gLnBzRjGJvCmNjY2MHz+evn374u6sWbOG8ePHA7o9VUSkI9o9RbW7PwZ8LINYRDrFhAkT6NGjB7NmzeK2225j1qxZ9OjRgwkTJpQ7NBGRqpRmUKZZRRaN6eRYRDrFsmXLuO2221qNZXH11VczYsSIcocmIlKV0nRwHAksBX4FrMg2HBEREak0aZoh9gR+CHwI+Dzwmrv/PtOoujl1vsvWwIEDOfnkk1vNDXHyySczcODAcocmIlKV0nRw3ATcZGZLgAnAWaTo3BibL44FVrj7kALLhwPXA0/EpD+4+/fjsqOAS4EewBXuflGKz1IVNDdE9qZMmcL48eMZM2YMTz75JHvttRcbNmzg4os1YrmISEe0WbNgZuPM7CbgDOBSd097E+ps4Kg21vmbux8cH7mCQg/gZ8DRwGCgzswGp3zPipecG6Jnz57U1tYyc+ZMDcrUierq6rj00kvp27cvAH379uXSSy9VYUxEpIPS9FmYDjxGaI4YnhsNy93fXWojd/+rmQ3qQEyHAY+5++MAZnYt8AlgUQf2VXE0N0TX0ERSIiKdJ01hYZ8M3/8IM3uAMDLkOe7+MLAH8FRinWXA4cV2YGbjgHEA/fv3p7m5ObtoO8Fee+3FtGnTOOSQQ1i9ejXNzc3cd9997LXXXhUfezXK5bFkT/mcPeVx9pTHhaXps7A0o/f+N7C3u682s48TBnrar707cfcZwAyAoUOHeqVfRV5wwQUtfRb69OmDuzN16lQuuOACXQFnQDULXeSWecrnrCmPs6c8LipNzUIm3P3VxPObzOznZrYbsJzQ5JEzMKZ1C3V1ddx1110cffTRrFu3jt69e3P66aerPV1ERCpW2QoLZvZ/wHPu7mZ2GKGz5YvAy8B+ZrYPoZBwIjCqXHF2tsbGRubNm8fNN9/c6m6I97///SowiIhIRWr3cM9pmVkj8A9gfzNbZmZjzewMMzsjrvIZYGHss3AZcKIHGwi3Z94KLAZ+E/sydAuTJk1i1KhR1NfXM3LkSOrr6xk1apTuhuhkGstCRKTztLtmwcz+DLwB/Mzdbyy2nruXvEx292nAtCLLbgJuam9s1WDRokWsWbOGWbNmtdQsjBkzhqVLs+oasvXRWBYiIp2rIzULJwHfBvbu5Fi2Cr169aK+vr7VOAv19fX06tWr3KF1GxrLQkSkc6WqWTCzXsC7AAcecfengXuzDKy7Wr9+fcutkxs3bqSpqYlp06axfv36cofWbWgsCxGRzpVm1sljCAMz/Q8wYB8z+5K7tznks2xp8ODBnHDCCdTX17N48WJqamoYNWoUc+fOLXdo3UZNTQ3z58+ntra2JW3+/PnU1NSUMSoRkeqVpmbhYqDW3R8DMLN3APNIMT+EbKmhoaFge7qqyDtPQ0MDY8eObcnjpqYm5bGIyJuQprCwKldQiB4HVmUUT7eX62CXrFmYNGmSOt51IuWxiEjnSlNYWBAnkvoNoc/CZ4F7zOxTAO7+hwzj65Y0b0H2lMciIp0nTWGhD/Ac8OH4+nlgO+A4QuFBhQUREZFuLE1h4fQ4UJJIRcjNfJoVd890/yIi1SbNOAv/yjwKkXZw99SPvSfe2K71VVAQEdlSmsJCtpdxWyENRSwiItUkTTPENma2C3mFBndfmU1I3ZuGIhYRkWqTprCwM2G0xmRhwYG3ZxJRN5ecSCo5KJNu7RMRkUrVZmHB3Qd1QRxbjUWLFvHaa69tUbOwZMmScocmIiJSUJt9FszsU4UeXRFcd9SrVy/OOuusVpMcnXXWWZpISkREKlaaZojrgEW0borQ+AodtH79eqZOndpqIqmpU6dqIikREalYaQoLQ4AfADsA/8/dH8k2pO6t0ERSo0eP1kRSIiJSsdL0WXgE+JyZHQpcYmZPA+e7+/LMo+uGNJGUiIhUmzRTVE8lNDtAmETqw8CjwPYZxtVtaZIjERGpNqkmkmrjtbSTJjkSEZFq0ubdEO5+VaFHVwTXXWkERxERqSZpahakE2kERxERqTZp5oaQTjRp0iRmzpzZapyFmTNnqoOjiIhULBUWutjixYsZNmxYq7Rhw4axePHiMkUkIiJSWpq7IW4olO7ux3d+ON1fTU0N8+fPp7a2tiVt/vz51NTUlDEqERGR4ooWFszsInc/F9gF2BG4AHiuqwLrrhoaGhg7dmxLn4WmpiaNsyAiIhWtVM3CRwDc/YNmdgxwHtAETHH3V7siuO5I4yyIiEi1KdVn4dncE3ef5+4fAB4GbjOzczKPrBurq6tj4cKF3HHHHSxcuFAFBRERqWilahY+A2Bmq9g8gqMRChjvBX6cbWgiIiJSCYoWFtx9ffy7Y9eFIyIiIpWmzVsnzew9hR5dEVx3pREcRUSkmqSdG+JRYDmhGQJCs8RHsgqqO2tsbGT8+PH07dsXd2fNmjWMHz8e0AiOIiJSmdIMyjSC0NnxXuDT7l7r7ioodNCECRPo0aMHs2bN4rbbbmPWrFn06NGDCRMmlDs0ERGRgtJMJPVnd/8w8A/gRjNrMLPt2trOzGaZ2QozW1hk+Wgze9DMHjKzu8zsoMSyJTH9fjPrVrNcLlu2jFNPPZX6+npGjhxJfX09p556KsuWLSt3aCIiIgWlGcHx7MTLucAXgHrg/9rYdDYwDbi6yPIngA+7+0tmdjQwAzg8sbzW3V9oK75qdOWVVzJnzpyWiaRGjRpV7pBERESKStNnIf9uiN+n2bG7/9XMBpVYflfi5d3AwDT7rXY9e/Zk/fr1rdLWr19Pz56aAFRERCpTm79Q7v69LohjLHBz8m0Jgz858Et3n1FsQzMbB4wD6N+/P83NzVnG+aZt3LiRjRs3MmrUKFasWMHuu+/eklbpsVcr5WvXUD5nT3mcPeVxYWmaIe4slN5ZnRzNrJZQWEhOxTjM3Zeb2e7A7Wb2H3f/a5E4ZhCaMBg6dKgPHz68M8LKzODBgznhhBOYO3cuK1as4C1veUvL60qPvSrdMk/52hWUz9lTHmdPeVxUmrrvAcDoLN7czN4NXAEc7e4v5tLdfXn8u8LM/ggcBhQsLFSbhoYGGhoaWiaS6tGjhyaSEhGRipamsLDW3e/t7Dc2s72APwBfdPf/JtL7Atu4+6r4fATw/c5+/3LRRFIiIlJt0hQWvO1VtmRmjcBwYDczWwZ8F9gWwN2nA98B3gL83MwANrj7UKA/8MeY1hOY4+63dCSGSlVXV0ddXR3Nzc2q8hIRkYqXprBwkJm9yubRGwHc3XcqtZG7l7xUdvfTgNMKpD8OHLTlFiIiIlIOae6G6NEVgYiIiEhlSnVzv5kdD3wovmx29xuzC0lEREQqSZpZJy8CxgOL4mO8mV2YdWDdmWadFBGRapKmZuHjwMHuvgnAzK4C7gO+lWVg3VVjY2PBWydBs06KiEhlSjPrJEC/xPOdM4hjqzFp0iRmzpxJbW0tPXv2pLa2lpkzZ2qcBRERqVhpahYuBO4zsybCHREfAs7NNKpubPHixQwbNqxV2rBhw1i8eHGZIhIRESktzRTVjcD7CAMo/R44wt2vyzqw7qqmpob58+e3Sps/fz41NTVlikhERKS0NB0cD3T3Z9z9Bne/AXgpdnqUDmhoaGDs2LE0NTWxYcMGmpqaGDt2LA0NDeUOTUREpKA0zRBXmdnX4pTTtcBlwDUZx9VtabhnERGpNmnvhvijmT0L7AR8yt0fzTas7k3DPYuISDVJ02fhWcJkTjsC16ugICIisnVJ02dhFbAcOAL4qZmtinNFSAdpUCYREakmaeaG2LErAtlaaFAmERGpNmkHZZJOokGZRESk2qiw0MUWL17MsmXLWjVDLFu2TIMyiYhIxUo166R0ngEDBjBx4kSuueaalmaI0aNHM2DAgHKHJiIiUlCaDo4fLZB2cjbhbB3cveRrERGRSpKmZuE7ZvZp4BxgB+AKYB1wVZaBdVdPP/00s2fPbjUo05QpUzjllFPKHZqIiEhBafosfBj4H3A/MB+Y4+6fyTKo7qympoaBAweycOFC7rjjDhYuXMjAgQM1N4SIiFSsNIWFXYDDCAWGdcDeZmaZRtWNaW4IERGpNmmaIe4GLnL3WWa2HTAZ+Dvw/kwj66Y0N4SIiFSbNIWFj7r7kwDuvhb4qpl9KNuwujfNDSEiItUkTWFhkJkNyjoQERERqUxpCgvfTDx3wOLfv2YSkYiIiFSUNHNDHAdgZn2ALwLbAr/KOC4RERGpEO0ZwXEGoUbhJeC3wFGZRCQiIiIVpT2FhXe7+8EAZvb3bMIRERGRStNmYcHMdt381HYh9FnQOAsiIiJbiTQ1C/eyuWPjv2OaJjMQERHZSqTp4LhPVwQiIiIilSlNM8RJhdLd/erOD0dEREQqTZq5Id4bHz9KPB+aZudmNsvMVpjZwiLLzcwuM7PHzOxBM3tPYtnJZvZofGhKbBERkTJJ0wxRD2Bmw3LP22E2MA0oVgtxNLBffBwO/AI4PHaq/C6hUOLAvWZ2g7u/1M73FxERkTcpTc1CTrs7Nbr7X4GVJVb5BHC1B3cD/czsbcBI4HZ3XxkLCLejcR1ERETKIk2fhamEgsJAM7ssl+7uX+2E998DeCrxellMK5YuIiIiXSzNrZML4t97swyko8xsHDAOoH///jQ3N5c3oHZYvXp1VcVbrZTHXUP5nD3lcfaUx4Wl6bNwVYbvvxzYM/F6YExbDgzPS28utAN3n0EYipqhQ4d6NU35rCmqu8At85THXUH5nD3lcfaUx0W12WfBzJ4ws8cTjyfM7PFOev8bgJPiXRHvA15x92eAW4ERZrZLHDVyREwTERGRLpamg+NQ4DBgNZtvm3xvmp2bWSPwD2B/M1tmZmPN7AwzOyOuchPwOPAYcDlwJoC7rwR+ANwTH9+Pad1CY2MjQ4YM4cgjj2TIkCE0NjaWOyQREZGi0jRDvAhgZhtyz9Ny97o2ljvwlSLLZgGz2vN+1aCxsZGGhgZmzpzJxo0b6dGjB2PHjgWgrq5kdomIiJRFmmaIXeO4Bz1is0DutXTApEmTmDlzJrW1tfTs2ZPa2lpmzpzJpEmTyh2aiIhIQW9mIqm3ZxVUd7Z48WKGDRvWKm3YsGEsXry4TBGJiIiUpomkulhNTQ3f+973mDt3LosXL6ampoYTTjiBmpqacocmIiJSUJqaBcxsCDAY6JNL00RSHVNbW8sFF1xA6K4BDz/8MIsWLeIrXynYdUNERKTs0vRZ+C4wNT5qgSnA8RnH1W1deeWVuDu77LILALvssgvuzpVXXlnmyERERApLc+vkZ4AjgWfd/VTgIGDnTKPqxtasWcO4ceNYuXIlTU1NrFy5knHjxrFmzZpyhyYiIlJQmsLCWnffBGwws52AFbQedVHa6dhjjy35WkREpJKkKSwsMLN+hEGT7iXcEfGPLIPq7kaPHk1TUxMbNmygqamJ0aNHlzskERGRotLcDXFmfDrdzG4BdnL3B7MNq/saMWIEt912G5/+9Kd55ZVX2HnnnVm1ahUjRowod2giIiIFpalZaOHuS9z9QTM738xmmVmqYZ9ls1tvvZURI0bw8ssvs2nTJl5++WVGjBjBrbdq6gsREalMbdYsmNkqwiBMLUmEWyh3BtZlFFe3dsopp7B8+fKWcRZOOeWUcockIiJSVJpxFh5z90OSCWZ2n7u/llFM3ZrmhhARkWqTphliWzPbw8y2T6R50bWlJM0NISIi1SbVCI7A7cAOZtYbuBXYLbuQurfFixfz29/+lqOPPpp169bRu3dvxowZo7khRESkYqW5G2JI7nksLHwK+LSZfQf4nbsvyjC+bqdfv37MmDGDKVOmMHjwYBYtWsSECRPo169fuUMTEREpKG3NAgDuvg5oNLP/AjsQBmiSdnj11Vfp06cPU6dOZenSpey999706dOHV199tdyhiYiIFJTmbohtgS8DH4pJfwGmu/sbWQbWXW3YsIGddw6jZZsZAH369NFwzyLdxEHfu41X1mZzehx07rxO3+fO223LA9/VOC9SWpqahV8A2wI/j6+/GNNOyyqo7szM+NznPsfPf/5zmpubGT58OGeeeSbTp08vd2gi0gleWfsGSy46ptP3mztfdLYsCiDS/aQpLLzX3Q9KvL7TzB7IKqDuzt25/PLL2XfffRk8eDCXXHIJl19+ecuU1SIiIpUmTWFho5m9w93/B2Bmbwc2ZhtW93XAAQew3377cd5557XcDXHsscfy6KOPljs0ERGRgtIUFr4JNJnZ44TRG/cGTs00qm6soaGBhoYGbr755laDMmmcBRERqVRpbp28w8z2A/aPSY/EuyKkA3KjNNbX17cM9zxp0iSN3igiIhUrzd0QfYAzgWGEkRv/ZmbT3f31rIPrrurq6qirq8usw5KIiEhnStMMcTWwCpgaX48CfgV8NqugREREpHKkmRtiiLuPdfem+DgdOCDrwLqzxsZGhgwZwpFHHsmQIUNobGwsd0giIiJFpalZ+LeZvc/d7wYws8OBBdmG1X1p1kkREak2aQoLhwJ3mdmT8fVewCNm9hDg7v7uzKLrhiZNmsSoUaNadXAcNWqUOjmKiEjFSlNYOCrzKLYiixYtYs2aNcyaNaulZmHMmDEsXbq03KGJiIgUlKbPghd6uPtSd9cvXDv16tWL+vp6amtr6dmzJ7W1tdTX19OrV69yhyYiIlJQmpqF/wCPEQZkynFAzQ8dsH79eqZNm8YhhxzCxo0baWpqYtq0aaxfv77coYmIiBSUprDwiLsfknkkW4nBgwdzwgknbNFnYe7cueUOTUREpKA0hQXNcNSJGhoaGD9+PH379gVgzZo1zJgxg0svvbTMkYmIiBSWprDQz8w+lZ/o7n9oa0MzOwq4FOgBXOHuF+Ut/wlQG19uD+zu7v3iso3AQ3HZk+5+fIpYq8LKlSt5/vnnAViyZAk9evQoc0QiIiLFpeng+BfguLzHsW1tZGY9gJ8BRwODgTozG5xcx92/7u4Hu/vBhBEikwWQtbll3amgcOqpp7Jx40aOP/54/vjHP3L88cezceNGTj1Vc3OJiEhlSjORVEd/xQ4DHnP3xwHM7FrgE8CiIuvXAd/t4HtVjXXr1nHsscdy/fXX09zczPXXX89xxx3HjTfeWO7QRERECkrTDNFRewBPJV4vAw4vtKKZ7Q3sA9yZSO5jZguADcBF7j63yLbjgHEA/fv3p7m5+U0HnrXDDjuM5uZmVq9eTXNzM4cddhg33nhjVcRejZSvXUP5vFkWeZE7X2RB391myovCsiwstMeJwO/cfWMibW93X25mbwfuNLOH3P1/+Ru6+wxgBsDQoUO9GmZxvPDCCxk2bBh9+vTB3bnwwgsBNANlFm6Zp3ztCsrnzTLKi8xmqdV3t5nyoqgsCwvLgT0TrwfGtEJOBL6STHD35fHv42bWDBwCbFFYqDYHHnggDz30EMcffzxr1qyhb9++rF27lgMPPLDcoYmIiBTUZgdHM9vZzH5iZgvi42Iz2znFvu8B9jOzfcysF6FAcEOB/b8L2AX4RyJtFzPrHZ/vBnyA4n0dqsqDDz7IgQceyOrVq3F3Vq9ezYEHHsiDDz5Y7tBEREQKSlOzMAtYCHwuvv4icCWwxe2USe6+wczOAm4l3Do5y90fNrPvAwvcPVdwOBG41t2T4znUAL80s02EAs1F7t4tCgtAS8Egs2pFkQIO+t5tvLL2jcz2P+jceZ2+z52325YHvjui0/crIu2TprDwDnf/dOL198zs/jQ7d/ebgJvy0r6T9/r8AtvdBVRlvbyZtb1SB7UuT4m0zytr32DJRcdksu+sCr5ZFEBEpP3SjLOw1syG5V6Y2QeAtdmFVN3cPfVj74k3tmt9ERGRckhTs/Bl4KrYT8GAlcApWQYlIiIilSPNoEz3AweZ2U7x9atZByUiIiKVI83dEINjR8XtgB+Z2e/MTLNQioiIbCXS9FmYA+wP/BP4F/Ab4IosgxIREZHKkabPwjbuXm9mI919JoCZfSvjuERERArK8jbgrO7AqfbbgNMUFnaIU1T3NLNPEmojdso2LBERkcKyug04y7Fvqv024DSFhdwU1X8BclNF/zWziERERKSipCksTHX3f2ceiYiIiFSkNB0c1ZlRRERkK5amZqGnme1CGJCphbuvzCYkERERqSRpCgv7A/fSurDgwNsziUhEREQqSprCwiJ31yBMIiIiW6k0fRZERERkK5amsHBE5lGIiIhIxUpTWPiTmfXLvTCzXczs1uxCEhERkUqSprDwVnd/OffC3V8Cds8sIhEREakoaTo4bjSzvdz9SQAz25twN4RIp9FY7yIilStNYaEBmG9mfyHcPvlBYFymUclWR2O9i4hUrjYLC+5+i5m9B3hfTPqau7+QbVgiIiJSKdrss2BmBhwFvMfdbwS2N7PDMo9MREREKkKaDo4/J9w+WRdfrwJ+lllEIiIiUlHS9Fk43N3fY2b3Qbgbwsx6ZRyXiIiIVIg0NQtvmFkP4h0QZvZWYFOmUYmIiEjFSFNYuAz4I7C7mU0C5gMXZBqViIiIVIw0d0NcY2b3AkcSbp08wd0XZx6ZiIiIVIQ2CwtmtiuwAmhMprn7yiwDExERkcqQpoPjvYT+Cga8DXgmvn57hnGJiIhIhUjTDLFP7rmZ3efuh2QbkoiIiFSSNB0cAYi3S+qWSRERka1Mmj4Lf4pPa4A52YYjIiIilSZNn4UfE8ZVWObuT2Qcj4iIiFSYNM0QDwEPA6+Y2a65R5qdm9lRZvaImT1mZucWWH6KmT1vZvfHx2mJZSeb2aPxcXLqTyQiIiKdKk3NwgvAc8Bawh0RkOJuiDjq48+AjwHLgHvM7AZ3X5S36nXuflbetrsC3wWGxve6N277Uop4RUREpBOlqVkYR/ixvxjYz933cfc0t00eBjzm7o+7+3rgWuATKeMaCdzu7itjAeF2wsyXIiIi0sXS3Dp5hZn9CvgK8Hczu8zdr0mx7z2ApxKvlwGHF1jv02b2IeC/wNfd/aki2+5R6E3MbByhQEP//v1pbm5OEVrlqLZ4s5RFXqxevTrTPK627y+reLPM52rLY6i+Y1l5HOh8UVyauyE+FZ8uAaYDE81sgrsf1Anv/yeg0d3XmdmXgKuAj7RnB+4+A5gBMHToUB8+fHgnhNVFbplHVcWbpYzyorm5Obs8rrbvL8N4M8vnastjqL5jWXncQueL4tL0WTgu7/W9Kfe9HNgz8XpgTGvh7i8mXl4BTElsOzxv2+aU7ysiIiKdKE0zxKkd3Pc9wH5mtg/hx/9EYFRyBTN7m7s/E18eD+QmqLoVuMDMdomvRwDf6mAcIiIi8iakaYa4oVC6ux9fajt332BmZxF++HsAs9z9YTP7PrDA3W8AvmpmxwMbgJXAKXHblWb2A0KBA+D7mrhKRESkPNI0Q9QAp7W5VgHufhNwU17adxLPv0WRGgN3nwXM6sj7ioiISOdJU1hY5e5/yTwSERERqUhpxlk4yMxeNrNnzezfZjbVzHbLPDIRERGpCG0WFty9B7Ar8A7g88CzhFscRUREZCuQaopqd9/k7mvc/VF3nwTcknFcIiIiUiHS9Fkg3rHwofjyL+4+NbuQREREpJK0WbNgZhcC44FF8fFVM7sg68BERESkMqSpWTgGONjdNwGY2VXAfcB5WQYmIiIilSFVnwWgX+L5zhnEISIiIhUqTc3ChcB9ZtYEGKHvgoZeFhER2UqkmRui0cyagffGpInu/mymUYmIiEjFKNoMYWbH5J67+zPufkOcz2GNmeluCBERka1EqT4LPzWzMckEMxsFPAisyDQqERERqRilmiE+BMwzs4HAtcDPgTeAj7r7/7oiOBERESm/ojUL7v4M8GHgg4TahCvc/WgVFERERLYuJW+ddPdVwNHAb4DRZtanS6ISERGRilG0GcLMVgGeewn0BVaa2UbA3X2nLohPREREyqxoYcHdd+zKQERERKQypR3BUURERLZSKiyIiIhISSosiIiISEkqLIiIiEhJKiyIiIhISSosiIiISEkqLIiIiEhJbU5RLXDQ927jlbVvZLLvQefOy2S/O2+3LQ98d0Qm+xYRka2LCgspvLL2DZZcdEzbK7ZTc3Mzw4cP7/T9QnaFEBEpbceacznwqnOz2flVnb/LHWsAOv/8Jt2LCgsiIp1o1eKLquriQhcWkob6LIiIiEhJKiyIiIhISSosiIiISEkqLIiIiEhJKiyIiIhISZkWFszsKDN7xMweM7Mt7iUys7PNbJGZPWhmd5jZ3ollG83s/vi4Ics4RUREpLjMbp00sx7Az4CPAcuAe8zsBndflFjtPmCou79mZl8GpgCfj8vWuvvBWcUnIiIi6WRZs3AY8Ji7P+7u64FrgU8kV3D3Jnd/Lb68GxiYYTwiIiLSAVkOyrQH8FTi9TLg8BLrjwVuTrzuY2YLgA3ARe4+t9BGZjYOGAfQv39/mpub30TIxWWx39WrV2cWL2QTc5aUx9nLKt4s87na8hiq71hWHgc6X5Tg7pk8gM8AVyRefxGYVmTdLxBqFnon0vaIf98OLAHe0dZ7HnrooZ6FvSfemMl+m5qaMtmve3YxZ0V5nL0s480qn6stj92r71hWHm9WjecLYIFn9DuefGTZDLEc2DPxemBMa8XMPgo0AMe7+7pcursvj38fB5qBQzKMVURERIrIsrBwD7Cfme1jZr2AE4FWdzWY2SHALwkFhRWJ9F3MrHd8vhvwASDZMVJERES6SGZ9Ftx9g5mdBdwK9ABmufvDZvZ9QrXJDcCPgB2A35oZwJPufjxQA/zSzDYRCjQXeeu7KERERKSLZDrrpLvfBNyUl/adxPOPFtnuLuDALGMTEZHqVG3TgEP1TwWuKapFRKSqVNs04FD9U4FruGcREREpSTULUhFUrZi9TPMYMsnnastjke5KhQWpCKpWzF5WeQzZ5XO15bFId6VmCBERESlJhQUREREpSYUFERERKUmFBRERESlJhQUREREpSYUFERERKUmFBRERESlJhQUREREpSYUFERERKUmFBRERESlJhQUREREpSYUFERERKUmFBRERESlJs06moOmTRURka6bCQgqaPllE2iOz/79bOn+/O2+3bafvU7ofFRZERDpRFhcWEAogWe1bpC3qsyAiIiIlqbAgIiIiJamwICIiIiWpsCAiIiIlqbAgIiIiJeluCJGtSKa31Oq2PulC1XR7KlT/sazCgshWIsvb7nRbn3Ql3Z7a9VRYkIqhKwURkcqkwkJK+iHLlq4UREQqlwoLKeiHTEREtma6G0JERERKyrSwYGZHmdkjZvaYmW0xbaOZ9Taz6+Lyf5rZoMSyb8X0R8xsZJZxioiISHGZFRbMrAfwM+BoYDBQZ2aD81YbC7zk7vsCPwEmx20HAycCBwBHAT+P+xMREZEulmWfhcOAx9z9cQAzuxb4BLAosc4ngPPj898B08zMYvq17r4OeMLMHov7+0eG8XaKEH471p+cfl13b2c03VOWeQzK5xwdy9lTHmdPedw5smyG2AN4KvF6WUwruI67bwBeAd6SctuK5O6pH01NTe1aX4Is81j5vJmO5ewpj7OnPO4cVX83hJmNA8bFl6vN7JFyxtNOuwEvlDuIbk553DWUz9lTHmevGvN47654kywLC8uBPROvB8a0QussM7OewM7Aiym3BcDdZwAzOinmLmVmC9x9aLnj6M6Ux11D+Zw95XH2lMfFZdkMcQ+wn5ntY2a9CB0Wb8hb5wbg5Pj8M8CdHup2bgBOjHdL7APsB/wrw1hFRESkiMxqFtx9g5mdBdwK9ABmufvDZvZ9YIG73wDMBH4VOzCuJBQoiOv9htAZcgPwFXffmFWsIiIiUpxtbZ00KomZjYvNKJIR5XHXUD5nT3mcPeVxcSosiIiISEka7llERERKUmEhI2bWx8z+ZWYPmNnDZva9mN4ch7B+0Mz+Y2bTzKxfYruGuP6DZna/mR1etg9RBcxsY8ynhWb2WzPbPqYXzEczmxm/kwfN7HdmtkN5P0F1aG8+J7a7zMxWlyfqymVme5rZE2a2a3y9S3z9YTP7d8zLh83sjMQ2vcxshpn9N547Ph3Tiw6bvzUrkcfvNLOfxvx61MyuN7OB5Y630qmwkJ11wEfc/SDgYOAoM3tfXDba3d8NvDuudz2AmR0BHAu8Jy7/KK0Hp5ItrXX3g919CLAeOKONfPy6ux8U058EzipL1NWnvfmMmQ0FdilLtBXO3Z8CfgFcFJMuItwC/g/gCHc/GDgcONfMBsR1GoAV7v5OwhD6f4npBYfN39qVyONxwI7A/u6+HzAX+IO1d6jHrYwKCxnxIHdFtW18eN4664EJwF5mdhDwNuAFD8Nc4+4vuPvTXRh2tfsbsC8l8tHdXwWIJ4btyPtOJJU28znO5fIjwvEthf0EeJ+ZfQ0YBvzY3dfn8hPoTetz9BjgQgB33+TuucGDPgFcFZ//DjhSP3wt8vP458CphIuGjQDufiXx4s7MBpnZYjO7PNbs3GZm2wGY2TvM7BYzu9fM/mZm7yrPRyoPFRYyZGY9zOx+YAVwu7v/M3+deMA+ALwLuA3YM1Yz/tzMPtylAVcxC4N6HQ08RBv5aGZXAs8S8nxqlwdbxdqRz2cBN7j7M+WIsxq4+xvANwk/aF+Lr3PV5w8Samkmu/vTiabKH8Rmit+aWf+YVmzY/K1efh4TRjt8MnfRkLCAMHEhhHF9fubuBwAvA5+O6TOAenc/FDiHUPDYaqiwkCF33xirEwcCh5nZkCKrWlx/NXAooZrseeA6MzulC0KtZtvFAtkCQrPCzLby0d1PBQYAi4HPd3XAVSp1Psdq88+iglgaRwPPAC3nBnd/Kjbr7AucHAsFPQnnkbvc/T2E5ooflyHearRFHrfhCXe/Pz6/FxgU+za9H/ht/D/4JaFmbatR9XNDVAN3f9nMmgjTbbcSq2sPJPxw5WoamoFmM3uIMMLl7C4LtvqsjQWyVtrKR3ffaGEm1AnAlV0SaXVrTz4/T/iheyzWhm9vZo/FNnWJzOxg4GPA+4D5ZnZtsiYm1igsBD4I/B54DfhDXPxbQl8FKD5s/lYvP4+B3xCafXd091WJVQ8FbozP1yXSNxKaK7cBXi70P7C1UM1CRszsrbmqw9jm9THgP3nrbEtog3zK3R80s/3NbL/EKgcDS7sm4u6jWD5asG9cx4DjyftOJL1i+ezu89z9/9x9kLsPAl5TQaG1ePz9gtD88CShf8ePzWxgoo18F0I7+yNxGPw/AcPjLo4kjHALxYfN36oVyeMphP4dl8QLNczsJGB74M5i+4rNFk+Y2Wdz+479zLYaqlnIztuAq+IBuQ3wG3e/0czOAa4xs3WEDkx/JnRQAtgBmBoLGRuAx9g8o6akVywfjfCd7BSfPwB8uVxBdgM6XjvudELb+e3xda7j3Vjg02bmhGP0x+7+UFxnImF4/J8Sam9OjekFh82Xonk8g1Co+q+ZbSJcMHzS3b2NfqGjgV+Y2bcJHdavJZxDtgoawVFERERKUjOEiIiIlKTCgoiIiJSkwoKIiIiUpMKCiIiIlKTCgoiIiJSkwoJIGVhiJkYz629mr5nZ+WUMqeKY2XAzu7HtNUUkayosiJTfN4AX2lxLRKRMVFgQKSMz2xX4HGFgnVzabDN7wszuj4/3xzkXrjezZjN71My+m1j/bDNbGB9fi2mDzGxt3P5xM/txTN/BzO6IkxE9ZGafSOzn/5nZI3GbtWY2qEC8GxNxPWJmzYll55vZ8rhstYUpqjGzuRZm6nvYzMbFtK/H9Z40s+fj8yvisqlx6OgzgbeZWZOZPZAbLTJ+tjvN7MH4WfZK5Nt0M1tgYXKrY2P6KWbmFmcJNLOa+PqU+Po7ZnZPzL8Z1sbIPCJbIxUWRMrra4SCwpq89G+6+8HxcVdMO4wwA967gc+a2VAzO5QwKt3hhPHvTzezQ+L6/4tj2R8BnBLTXieMVvceoBa4OA5duxNQDxwct/lfkXjX5uIijGiX1AO4OC5bkEgfE2fqGwp81cze4u4/iet9B7gu7vM0MxtGmCvlIMJY/n2BjwP/D7go7m8qcFWcbOka4LLEew2K+XQMMN3M+sT0fxGmeCb+Tc4AO83d3+vuQwjzABxb5LOLbLVUWBApk/gDfRLpZ2e83d1fdPe1hAmFhsXHH919TZwF8g+EiYcA3mFhhrz/Apfm3ha4wMIUyH8mTG/cP7FsuzfxkbYjFEbyfdXMHgDuJkx4tF+BdXLeS5jbYBPwIPBY/Lx3EApEEAo/c+LzXxHyIOc37r7J3R8FHidMQw5wD3BILDwcTOvCTK2Z/TPWZnyEzVMVi0ikuSFEyucrwDVxVtI06+ePzd7WWO3/c/eDzWx7YIGZzSZMQPRW4FB3f8PMlgB93P1ZM/sO8LiZLQXe0Z4PEg0g1Aa0MLPhwEeBI9z9tdhs0WeLLRObdHBZTqk8uoVQMLsZeHuMrw9hzoCh7v5U7GRaKj6RrZJqFkTKoydh0qWftGObj5nZrhZmJTwB+DvwN+AEM9vezPoCn4xpSesIU+3uQpi+eEUsKNQCeyfWWwH8yd0PongzREFmthuhRuOfeYt2Bl6KBYV3EZpKSlkAfMTMtiE0t+wbP++RhNoBgLvYPFnSaFp/3s+a2TZm9g5CgeCRxLJfAe8Hfp1IyxUMXjCzHQgTDIlIHtUsiJRHb+AP7t6euyD+BfweGAj82t0XQOjYF5cBXOHu98XOiblmiN6EJowHzexp4E+xyn0BcYpuC1N3n0OoBeiI+cD57v5MXvotwBlmtpjww313qZ24+1/jug8QpmBeDdwE7AZ8Nq5WD1xpZt+k9eyLAE8S8mIn4Ax3fz1Xa+PuK4hNDIm0l83scmAh8CybCyQikqBZJ0WqQOy5P9Tdzyp3LF0lNmGc4+6pOhzGQtON7v67DMMS2SqpGUJERERKUs2CiIiIlKSaBRERESlJhQUREREpSYUFERERKUmFBRERESlJhQUREREpSYUFERERKen/A1oSbWilqFzkAAAAAElFTkSuQmCC\n",
      "text/plain": [
       "<Figure size 576x432 with 1 Axes>"
      ]
     },
     "metadata": {
      "needs_background": "light"
     },
     "output_type": "display_data"
    }
   ],
   "source": [
    "df_pivot.boxplot(column=['3DS', 'PS3', 'PS4', 'X360', 'XOne'], figsize=(8,6))\n",
    "plt.title(\"Диаграмма размаха количества проданных копий игр для топ-5 платформ \\n за 2012-2016 гг. (область 0-2 млн проданных копий)\")\n",
    "plt.xlabel(\"Игровая платформа\")\n",
    "plt.ylabel(\"Количество проданных копий игр, млн\")\n",
    "plt.ylim(0, 2)\n",
    "plt.show()"
   ]
  },
  {
   "cell_type": "markdown",
   "metadata": {},
   "source": [
    "Можно сделать следующие выводы:\n",
    "- медианное количество проданных игр выше всего для платформы X360 и составляет около 300 тыс. копий. Ниже всего - для 3DS - около 100 тыс. копий;\n",
    "- У X360 самая широкая диаграмма размаха. Несмотря на то, что самая популярная игра выходила на PS3 (больше 20 млн копий, видно на предыдущем графике), у X360 больше количество популярных игр, которые и вытягивают боксплот вверх;\n",
    "- У 3DS самый узкая диаграмма размаха - у этой платформы игры наименее популярные среди топ-5 платформ."
   ]
  },
  {
   "cell_type": "markdown",
   "metadata": {},
   "source": [
    "#### <a name=\"3.5\"> Влияние отзывов критиков и пользователей на продажи игр <a>"
   ]
  },
  {
   "cell_type": "markdown",
   "metadata": {},
   "source": [
    "Посмотрим, как влияют на продажи внутри одной популярной платформы отзывы пользователей и критиков. Напишем функцию, которая будет считать корреляцию между отзывами пользователей и критиков и продажами, а также строить диаграмму рассеяния. "
   ]
  },
  {
   "cell_type": "code",
   "execution_count": 59,
   "metadata": {},
   "outputs": [],
   "source": [
    "def scatter(df, platform):\n",
    "    df.plot(kind='scatter', x='critic_score', y='total_sales', grid=True, figsize=(8, 3), color='purple')\n",
    "    plt.title(f\"Диаграмма рассеяния количества проданных копий игр \\n и рейтинга критиков для {platform} за 2012-2016 гг.\")\n",
    "    plt.xlabel(\"Рейтинг критиков\")\n",
    "    plt.ylabel(\"Количество проданных \\n копий игр, млн\")\n",
    "    df.plot(kind='scatter', x='user_score', y='total_sales', grid=True, figsize=(8, 3), color='orange')\n",
    "    plt.title(f\"Диаграмма рассеяния количества проданных копий игр \\n и рейтинга пользователей для {platform} за 2012-2016 гг.\")\n",
    "    plt.xlabel(\"Рейтинг пользователей\")\n",
    "    plt.ylabel(\"Количество проданных \\n копий игр, млн\")\n",
    "    plt.show()"
   ]
  },
  {
   "cell_type": "markdown",
   "metadata": {},
   "source": [
    "Применим эту функцию для получения коэффициентов корреляции и построения графиков:"
   ]
  },
  {
   "cell_type": "code",
   "execution_count": 60,
   "metadata": {
    "scrolled": false
   },
   "outputs": [
    {
     "name": "stdout",
     "output_type": "stream",
     "text": [
      "Корреляция между отзывами и продажами для PS4:\n"
     ]
    },
    {
     "data": {
      "text/html": [
       "<div>\n",
       "<style scoped>\n",
       "    .dataframe tbody tr th:only-of-type {\n",
       "        vertical-align: middle;\n",
       "    }\n",
       "\n",
       "    .dataframe tbody tr th {\n",
       "        vertical-align: top;\n",
       "    }\n",
       "\n",
       "    .dataframe thead th {\n",
       "        text-align: right;\n",
       "    }\n",
       "</style>\n",
       "<table border=\"1\" class=\"dataframe\">\n",
       "  <thead>\n",
       "    <tr style=\"text-align: right;\">\n",
       "      <th></th>\n",
       "      <th>total_sales</th>\n",
       "      <th>user_score</th>\n",
       "      <th>critic_score</th>\n",
       "    </tr>\n",
       "  </thead>\n",
       "  <tbody>\n",
       "    <tr>\n",
       "      <th>total_sales</th>\n",
       "      <td>1.000000</td>\n",
       "      <td>-0.031957</td>\n",
       "      <td>0.406568</td>\n",
       "    </tr>\n",
       "    <tr>\n",
       "      <th>user_score</th>\n",
       "      <td>-0.031957</td>\n",
       "      <td>1.000000</td>\n",
       "      <td>0.557654</td>\n",
       "    </tr>\n",
       "    <tr>\n",
       "      <th>critic_score</th>\n",
       "      <td>0.406568</td>\n",
       "      <td>0.557654</td>\n",
       "      <td>1.000000</td>\n",
       "    </tr>\n",
       "  </tbody>\n",
       "</table>\n",
       "</div>"
      ],
      "text/plain": [
       "              total_sales  user_score  critic_score\n",
       "total_sales      1.000000   -0.031957      0.406568\n",
       "user_score      -0.031957    1.000000      0.557654\n",
       "critic_score     0.406568    0.557654      1.000000"
      ]
     },
     "metadata": {},
     "output_type": "display_data"
    },
    {
     "data": {
      "image/png": "iVBORw0KGgoAAAANSUhEUgAAAf4AAADvCAYAAAATkravAAAAOXRFWHRTb2Z0d2FyZQBNYXRwbG90bGliIHZlcnNpb24zLjMuMywgaHR0cHM6Ly9tYXRwbG90bGliLm9yZy/Il7ecAAAACXBIWXMAAAsTAAALEwEAmpwYAABIwElEQVR4nO2deZgU1bn/P9+ZYUfEBYniAmpwCa6gMSYSSEyCccGbmOQaYzTij3uvWST7YhY1icnNcsXoNSZXXKKJxMQFNIrGKKgxiiAqxC2KoCAKiiAzss3M+/vjVA/V3dXd1TPTM90z7+d55pmuU6fOeU9Vdb9nec/7ysxwHMdxHKd3UNfdAjiO4ziO03W44nccx3GcXoQrfsdxHMfpRbjidxzHcZxehCt+x3Ecx+lFuOJ3HMdxnF6EK37HcRynqpA0UNJUSX0kHS3p6O6WqSfhir8bkXSmpBZJjdHfJkkPdrdcjuM43YmZvQ28F3gNuAJ4o3sl6lm44u9+/mFmg81sMPCf3S2M4zhONWBmZ5jZjmZ2sJk9293y9CRc8XcvfYCWQiejGYEHY8ffkGSSjo2Oj5T0D0nrJK2SdJmkvrH8JqkpNqNwQ5R+jaQrJP1V0gZJ8yTtFbvuEkkvS3pL0kJJx8TOnR+V+2+xtHOitLNjcpukL8fyfDRK+1F0vIOk2yWtkfRm9Hn3IvdimaRvS3oqyn+1pP5pypK0Y5T/lej8rbFzkyU9HrX1BUmTovTtJc2I7utKST+SVB+dq5N0eVRfZqZmbnRuZNTOhlgd10s6P/o8QdKK2LlP5ty7gmUn3JPcsn4WPcvMfTlA0tzo/finpJNyrj9f0taonqa43NH9zrxngyW9lnkXE+rNPd5N0k1RG16U9KXYuXpJ34nu9Ybo/dpD0m05cmTe2Sti8myM0lZK+kKszM9Jejoqb6mk/0h+ixJn2RoltUqaELsnf5b0x6i8xyQdEru+1D09O6d8k7RvdG4fSfdKekPS65J+L2lo7Nq2ex4ra27suK2s6PhHkq6JPue9d7F8K2Ltu0PSL2PnZkq6qsC9Ol/S9dHn/tG79d+x8ydF92BddE8OyGlL5nnlvcc592XPKG+mrqy2KPzOtf12JMhZ6ncy/p5n/g6K1TNV4bdhlaSvJdXR03DF3730BzanyShpR+BLwLpYcgvwZWBn4D3AB4Fzci49JDOjYGanxtJPA34YXfs48PvYuUeBQ4EdgT8Af1KkTCKeAc6OHZ8J/Cun3ueBM2LHZwNPx47rgKuBvYA9gY3AZRTnNOAjwD7AaOC7Kcu6DhgIvAvYBbgYwg8K8Dvg68BQYDywLLrmGqAZ2Bc4DPhwrM0fBv4NODiaqWlTQuUgqQ/hGayKJberbEnfBI4FTjSzTVHZtwF3E9r8ReD3kvaLXVYHzIzqeVeR4r8ObI0dt1Lgt0NSXVTvE8AIwjs5TdJHoixfAU4FPgoMAc4C3jazE3PkGBq9s/FZsEyeTwO/kjQkSl8NnBCV9zngYkmHF2nPP2LficHAKznnJwN/Ytv7f6vCWnOaeyrg/ljZ5Jz7CbAbcACwB3B+ETkrwVnA6ZI+IOk04Ejg3GIXRAr4RuA5M/tmlDYauAGYBgwD7gBuU2zgQfS8UrzHP6T4VP7PgZVFW7VN1qTfSYA/xp+5mS2OnZsIvJPw3ftmvPPVU3HF373sTPq1q+8AVwHrMwlmttDMHjazZjNbBvwGeH/K8v5iZveb2WbgPOA9kvaIyr3ezN6Iyv0l0A+I/7gtBN4haffoB/Y18n88XwOWSXqPpOEEpTw/JvsbZnaTmb1tZhuAH6eQ/TIze9nM1kb5Ty1VlqRdgeOA/zSzN81sq5nNi8qbAlxlZn81s1YzW2lmz0TyfhSYZmZNZraa0Fn495gsAupLyFuK/wAeAZ7LSS+rbIXZgq8Bk8zsrSj5KGAw8FMz22Jm9wK3E92ziL7AlhJlv4Nwn/4nlvwysEt8JBzjCGCYmV0Y1bsU+D+23buzge+a2bMWeMLMyl2/bQDeyshuZn8xsxei8uYRFPMxxQoowUIz+7OZbSW0uz/hfqa5pwMocE/N7PnoXdtsZmuistN+XzsFM3sV+C/gWuAS4LPRd6YQIvzu5C5FforwG/LX6D79gtD2sozwJB1MGLRcW+D8CZEM96QsMu93MgUXRN/zxYQBxKmlLqh18qaFnC5lFLC8VCaFafhPEkZDn42ljyb8eIwjjGgbCEo5DS9nPphZo6S1hJHIy9F015To2AgjqZ1zrr+aMLraFbiSMPOQy5WEH/pnCSPrw2KyDyQo00nADlHydpLqzazQ8sfLsc/LI/mKlkUYVa01szcTytuDMFLJZS/CMswqSZm0ulj9dxNmEf4laSvhvs/PKeP12LUDgYviJyVtB3yDoKDiP3ppyo4zDPge8DZhlubuKH034GUza43lXU4YhWfYEUi6L3F+AFwKrM0kmNmLki4E/hqN8BrYNsLaC9hN0rpYGfXAA9HnPYAXStRZiFsltQKDgG+b2SYAScdFco4mPKeBwOKCpZQm/t1oVVjG2C1zrsQ9fQewJqnQqEN5CeGZbxfJmnv/b5XUHH3uS/6zfyy6BxA6JDNzzr8uyYBXgR+b2fUJotxGeKbPmlkpY+J/A/5JmEkbFpUL4X60/XZF9+llsu9FGv6b8P4ekHCunjBD8v9IYf9U6HcyBbm/KweVcW1N4iP+7mUcsChFvh8CP0vomf+aMO3+TjMbQujtKvfiAuyR+SBpMEEJvKKwnv8NwhdoBzMbSug955Z7PWHKdSLwlwJ13EmwzD2DoMzifJUwi/DuSPbxGXHSyEz4IcrMMhQr62Vgx/haaoyXCcsGSembgZ3NbGj0N8TM3gXhR44w9bkmkulLCWW0XRvlzeXrwI1mltXxS1l2nBbCjMZU4LdRhwLCvdkjmnrPsCfZU6ajyZ9tIOf8RwjKKotoRL9L1L4TYqdeBl6M3behZradmX00dj7pnqfh5Oj57gmcG80m9QNuIow4h0fy3EH670ES8e9GHbA74X6muaeHEZY5kriI0JE+KGrHZxLkPDn23iQ9+8Nj53+RcH5nM9uBMLV+TfTdzuXHhGW3XSWVGt0uJXzHZwCXx9JfIXTyAFDo5e5Byin5iA8AO5H8/YDwu/GsmT2csrxCv5OlKPS70mNxxd9NSPoU4YtTagprX+DdhGn8XLYjTHk2StqfMIWXlo9Kel80Yvsh8LCZvRyV2UxQPA2Svk8Y8WdhZusIo/5fmllz7vkoTwuhR399ND2fK/tGYF20LveDFDJ/Plpe2JGwPPHHUmWZ2SpCB+RyBSPAPpIyHYMZwOckfVDBqG6EpP2ja+4GfilpSHRuH0mZ5YMGolkOMytnSjHe9s8RfoCzaEfZa83sKTO7C/gb8LMo/RHCLMA3ojZPAE4EZiowmdDxvLNI2d8FLsyMrFMyH9gg6ZuSBigY842RdER0/krgh5LeGclxsKSdyigfthnEDiOMivsR3tfmaPT/4TLLy2WspI9Fz2IaoRP4MEXuKYCkgwidzj8VKHc7oBFYL2kEofNXKd4kdCqyOhbRu/85woj4DODSSJZCPG5mjcAFwP7R7xYEZX189N3pQ+h8bwYeKkPG84FvmBWMDX8e8O2UZRX7nSzF9xT8BryLcG/+WOqCWscVfzcQGdXMJEzVLVdkaUrYr/oeSf+MZR9OWBPdmlDU1wij7g2EddRyXtg/EBTkWmAsYfQBcBcwhzASXA5sInsqrA0z+5mZXVmsEjO72sx+knBqOmFN8HXCj+qclDLfTRiFvABkrHxLlXU6wTjtGYIh2LRItvlExmCEWY15bBvFfJagVJ4i/Ij+mbCsAWFGZJmZ3ZRC5iSGAL8qsPzQkbK/ApwgaYKZbSEopeMI9+VywnruM4QlkR8Bp0WdvUK8TliiSU3U2TuBsOzwYlTGlcD2UZb/ISiNuwmd1hmEZ5eG26LvyZPAzYQ15g2EkfGNhOf0aWB2OTInMIuwhv0m4d35WGQbUvCeStqTMHs3AFgS+05DmFqHoDwPJ7xrf4na0Nksi5YmbgSmxke/CsaQvwO+ENmzPEC4/1crti6VhAVboM8B0yXtbGF73WcISwavE+7LidE9SssiM5tb5PztZpZrNFyIYr+TpZhHMEb+G/ALM7u7RP6aR4U7W06lkHQmMMHMzkw4NxKYa2YjK1j/NcAKM/tuqbzVgqRlwNlmltbIx3HKRmHb5b5m9plSeXOuGwlcY2YTEs7dY2Y93lK81oie2YtAn0Kzlj0VH/E7juN0nMzyWBKF0h2nW3Cr/u7hOrL3zcdZTvbWOcdxqhwzWwF8osC5Hr89zKktfKrfcRzHcXoRPtXvOI7jOL0IV/xOt6Dgz/3fJTVIOk7Sgd0tk+M4Tm/AFb/TXawlbJlbA3wfN4ByEtC2QCqZ4CrLJH0rdj4eZOl1hSA4oxLK+ZsKBLHpZHmPUgh+tVYhSNGfFNxGZ85L0n8rBOp5I/qs2PnfSnpWIXDQmTlln6EQ1OgthcA7PyvWnlL5FYJX3aIQGGm5pE/Hzu0qabZC8BqLLOBzyz9WIYhRU1T+J9t/55yuxBW/0y2Y2SYz+6iZ7WBm74l8lztOIYZaCPZyKvB9SZMUorv9juA8ZnuCC+z/JSfiZeQ3o08XybkD8FtgJMEnxAaCo6sMU4GTgUOAgwn73+PRBJ8gBNp6LKHsgQQfFDsTnNV8kODLoxCl8v8vIa7AcEIArF9HTmwgBGKaA3w8qeBohu4PBCc720ftSesu3OluzMz//A8zg+BOdN/ocybK3fUF8k4AVhDcBL9OiGp3Wux8P4JL0ZcIAXuuAAbEr43l/WRU99kEH+CN0d8WguOdzPExxa6Njs8EHsyRdQXBbwIEb2HxMhsJLlQheFx7leBg5X7gXUXu1dxYnfsQnBydFJPh74QIgesJjoM+WODaOoJf+RXR8WUxuQxoij7fWeraKG0ZcGz0+UhC5L8jY89kOtvcz04H+sWeSWtU1waCB74xRdrfkCPfVuBHOXmWEd6hzLO8PnbuB5FsjVGeZQXqGRnV0xBLe5SgwE4heJYr9k5vT3BGdVRuOTn59iHElNhAeF9/FDt3PME5z1vRcz6/jO/U4cCG2PFDBMc6meMpBK+Zudc9CJxZouyvALeVIUtbfkK8gy3A6Nj56wgBiJKe88ic9D8AP0xZb/zdyvydk/CONAIPpW2P/7X/z0f8TiFKhcqEEJBkZ0JgjjMIvuIzWxF/SvD1fijBneYIwpR+FsoJTWtmr9i2UJ4XkR1O84Fi15ZBoRCddxLCc+5CGHEV2nIZl2FXgrfD75hZ3GPcuwneBXcmKLmbFdwJ53IG2wILYWZfsOyQrodEx8eVujZHrgOAW4DPWPBQCGF0dhThmRxC6BjEnTi9EtU7lDDyPL9As2GbK9gDo2uS7lUdcELsWWZk25/ginVidO7EIvXE2yRJ7yUEYVlEeEb7S7pY0kQl+6W/iBDT4tWEc3FWsy1U8FHA2ZELXgidm88S7svxwH9JOjmNzAQXvnFPnO8i25f/ExQPiVxO2eXkHw00m1k8VkM5shwFIGmxQhz76wu83xleyfnOxf3+nxhLLyu6n9M+XPE7eahEqMwcvmchzOg8ghvST0ZrllMJ/ubXWnAbehHZYW0zFApNm4aOXJuHmV1lZhssuCc9HzhE0vZFLtmBoPR/b2a5QYhWA9MtuHr9I2E0eXw8g6T+hM7QD8uVtcS1exFc4n7XzP4WSz+N4Ht/tYWllQsILmlzqSNERivW8cu42S3morVU2N9y1ttfJ9iFXAl8y8z+ZiHk7wRCp/JGQmS6tsA0ksYRgkRdWqrw6Lm/YGZG6NS0hZo2s7lmtthC6OYnCXHoS4bTjb5H3yfbJ/9gskPGrgcGl3KZm1D2WYRYC0mBetLkH0yYwYiznhBPIA27E96djxM6ywNIcZ+d6sAVv5NEJlRmKb/Xb5pZU+w4Eyp3GGF9caGkdQohWudE6W1oW2ja75UrYIlrj8rUG9W9W0Ke3PLqJf1U0guS3iJMQUJ+OOI4FxCmJz+Q8MO9MlIiGdrCCMc4l3Bfni0lXwLFrr2UsLzxoZz0rFCqCTJlwuluIPijL/ZD/g7C9G1i5yC6H0NJCPtrIV7Ad4EHFPzZ31qkngw7W7AHOcDMfhUr62Ez+6SZDSMsBY0HzlOIoHc5cK6ldMcqaU9J6wl+2x8k3AckvVvSfZGx3npCiNhi7wWR/cGdUf3xmapGsoNeDQEac96VUnKeTAhXe5yZvR6lnaZtBpB3lsqfIEdGlrSR7TYCV5vZcxaC+FxEmDFxagBX/E4upUJlxtlB0qDYcSak5euEH4Z32bbQrNvHpq8zJIamTUmxax+O1TuUdGE2Pw1MBo4lrAuPjNKLjcRuBN4X5flizrkROZ2B3HCfOxJCp16QQrZcSl37c4Ih15GSToqlZ4VSTZDpleh+DQC+RQh3W4jDgGescFCWvQgj+qUFzt9IiOY2hmDs1mHM7FFC4JsxBCU2DvijpFcJdgEAKxRCTydd/5KZbU+YQXg/Yf0dwnr2bGCP6PwVFHkvFOLC30NYA8+dCfonYZklwyGUMV0vaRIhINeJsSUqzOz3seny40rlJ8ySNUh6ZztleZKw9t8mQto2ON2PK34nl/MpHiozlwsk9Y1+TE8A/mQhpvz/ARdL2gVAIeTtR2LXFQxNm4KOXFuszM2EEexAYmvSRXgwautZBEvzvWPndgG+pBC+9RPAAYQ48RmmATPMrNTacxKlrn3AzN4mKK7LJQ2N0m8AvitpmKSdCdPQ1+deHD37FgqMahVCOf9nVF7S+e0Idg13R3Ik8Wvg52a2rMD5kiiElf5/sXdsf+AkQoTG9YTZjEOjv8xodCxheSi3rEy4ZwhLFPWEziuEd2OtmW2SdCShk1hIphHAvcBlZnZFQpbfAV+Jvg+7EXYkXBO7vm+0jCOgj6T+0ewFkj5AsKX4eMxuoyDF8kczdTcDF0oaFNlOTCYY+GWu708wCAXoFx1nuJoQ0npvSQMJHcXbS8nkVAeu+J1cFlnxUJlxXiVM5b5C+IH5z2gaF+CbhCnTh6Op83vIjkFQLDRtKTpybSF+R5j6XkkIxftw2gsjA6mfAlfGRvmPENY+Xyd0UE4xs/i0eD0p12cTSHVtZHdxKyHsMIRQvAsIo7XFBOO4H8Uu2S2aKt5AMAQ8q0DRtxPW1r+jbeFnTyPEqT+GsESwI2GXRh4K+8XfQdhV0BHWERT94kiGOQSDxp9Z4NXMH9v8RLxWYJbiIGBR1PaHCJ20jBI8h6AgNxA6S8Vmw84G9gbOj029N8bO/4YQpncxsIRgFxOPIX83ocNxNGFb4EbC8gWEZa3tgTsKTevnUCr/OYTZndWETtx/mVl8xJ+xtoewMyXTEcLMriJ8Zx4hfG82E8IjdwrR0kU5hotOGbivfqddSJpA2J61ezeLUnUoOF4528ze192yVAJJcwlbzZblpH+XMAsytxvEchwnJT7idxynXNYQwtDm8hZh5Oc4ThXjYXkdxykLMysUfvZXSemO41QXPtXvOI7jOL0In+p3HMdxnF6EK37HcRzH6UX0yDX+nXfe2UaOHFnROpqamhg0aFDpjDWCt6e68fZUN96e6qY3tGfhwoWvRx4sS9IjFf/IkSNZsGBBReuYO3cuEyZMqGgdXYm3p7rx9lQ33p7qpje0R1JqD6g+1e84juM4vQhX/I7jOI7Ti3DF7ziO4zhdSNOaJlY+upKmNU2lM1eAHrnG7ziO4zjVyOIbFjN7ymzq+9bTsqWFyTMmM+bUMV0qg4/4HcdxHKcLaFrTxOwps2ne2Mzm9Ztp3tjMrCmzunzk74rfcRzHcbqAdcvWUd+3Piutvk8965at61I5XPE7juM4ThcwdORQWra0ZKW1bG1h6MihXSqHK37HcRzH6QIGDRvE5BmTaRjQQL8h/WgY0MDkGZMZNKxrnQu5cZ/jOI7jdBFjTh3DqGNHsW7ZOoaOHNrlSh+qaMQv6SpJqyUtiaX9XNIzkp6UdIukod0oouM4juN0mEHDBjHiiBHdovShihQ/cA0wKSftr8AYMzsYeA74dlcL5TiO4zg9iapR/GZ2P7A2J+1uM2uODh8Gdu9ywRzHcRynByEz624Z2pA0ErjdzPK8GUi6DfijmV1f4NqpwFSA4cOHj505c2YlRaWxsZHBgwdXtI6uxNtT3Xh7qhtvT3XTG9ozceLEhWY2LlUBZlY1f8BIYElC+nnALUQdlVJ/Y8eOtUpz3333VbyOrsTbU914e6obb0910xvaAyywlLq26q36JZ0JnAB8MGqc4ziO4zjtpKoVv6RJwDeA95vZ290tj+M4juPUOlVj3CfpBuAfwH6SVkiaAlwGbAf8VdLjkq7oViEdx3Ecp8apmhG/mZ2akDyjywVxHMdxnB5M1Yz4HcdxHMepPK74HcdxHKcX4YrfcRzHcXoRJRW/pGMT0s6ojDiO4ziO41SSNCP+70v6taRBkoZHHvROrLRgjuM4juN0PmkU//uBF4DHgQeBP5jZKZUUynEcx3GcypBG8e8AHElQ/puBvSSpolI5juM4jlMR0ij+h4E5ZjYJOALYDfh7RaVyHMdxHKcipHHgc6yZvQRgZhuBL0kaX1mxHMdxHMepBGkU/8goXK7jOI7jODVOGsX/9dhnAxT9v78iEjmO4ziOUzFKKn4zOxFAUn/gdKAPcF2F5XIcx3EcpwKUE6Tnt4SR/pvAn4BJFZHIcRzHcZyKUY7iP9jMDgWQ5Fb9juM4jlODpHHZu6OkHcNH7ZD53NmCSLpK0mpJS3Lq/qukf0X/d+jseh3HcRynN5FmH/9CYAEwBHgsOn5HBWS5hvzlg28BfzOzdwJ/i44dx3Ecx2knaYz7RnWFIGZ2f8K2wcnAhOjztcBc4JtdIY/jOI7j9ERKKn5Jn01KN7Pfdb44eQw3s1XR51eB4V1Qp+M4juP0WGRmxTNIl0YfPwncGH02M/tSpwsTRvy3m9mY6HidmQ2NnX/TzBLX+SVNBaYCDB8+fOzMmTM7W7wsGhsbGTx4cEXr6Eq8PdWNt6e68fZUN72hPRMnTlxoZuNSFWBmqf6ARWnztvcPGAksiR0/C+wafd4VeDZNOWPHjrVKc99991W8jq7E21PdeHuqG29PddMb2gMssJS6No1xX1sfoYy8ncVs4Izo8xnArG6QwXEcx3F6DGnW+C8lKP3dJf0qk26dPNUv6QaCId/OklYAPwB+CtwoaQqwnLDc4DiO4zhOO0njwGdB9H9hmgIlfT8p3cwuLHadmZ1a4NQH09TrOI7jOE5p0mznu7bMMpui/9OA6WVe6ziO4zhOBUkz1f8i2ev7Ilj1752U38x+GV33mcxnx3Ecx3GqgzRT/eMIyv5eYGIZZXeHMaDjOI7jOEVIM9X/BoCk5sznYki6jaD095Y0O1bOSR0R1HEcx3GcjpNmqn/H6GN9FCRHAGa2tsAlv4j++zS/4ziO41QZaab6FxJG8CIE6SE6TlzjBxZ3glyO4ziO41SASgTpWQWsJDt0b7GOguM4juM4XUSaET+SxgAHAv0zaVY4SM9TZnZYJ8jmOI7jOE4nk2aN/wcEj3oHAncAxwEPAoUU//aSJgObgVcIHYHmTpHWcRzHcZwOkcZX/ykE73mvmtnngEOA7Yvknwd8HJgC/BpYJum4jgrqOI7jVBdNa5pY+ehKmtY0lc7sVA1ppvo3mlmrpGZJQ4DVwB6FMkedgzYk7QvcCtzZEUEdx3Gc6mHxDYuZPWU29X3radnSwuQZkxlz6pjuFstJQZoR/wJJQ4H/I1j4Pwb8I20FZvY88KF2Sec4juNUHU1rmpg9ZTbNG5vZvH4zzRubmTVllo/8a4Q0Vv3nRB+vkDQHGGJmTxbKL+mqAqfOaod8juM4TpWxbtk66vvW07xxm/lWfZ961i1bx6Bhg7pRMicNqaz6M5jZMgBJ5wN7Ar82s0dzsn2EEEL3OsKygOM4jtODGDpyKC1bWrLSWra2MHTk0O4RyCmLNFb9G8gP0tOfYOC3OeGSPYBJwOlAPXC1mfn6vuM4Tg9h0LBBTJ4xmVlTZlHfp56WrWGN30f7tUGaEf/zufvyJS0ys7eTMptZK3CHpGXAN4Av0EHDPklfBs4mdEAWA58zs00dKdNxHMdpP2NOHcOoY0exbtk6ho4c6kq/hkij+PtIGgG8GVP2BSPvSZoKnAw8D1xiZos6ImBU95eAA81so6QbgX8HrulIuY7jOE7HGDRskCv8GiTtGv9fgcGS+gF3ATsXyXsFQenvAUyQgudeMzu4g3IOkLQVGEhwDOQ4juM4TpnIrODgPT9zUPwfA64E/hv4s5k9lZNnr6RrzWx5u4WUzgV+DGwE7jaz0xLyTAWmAgwfPnzszJkz21tdKhobGxk8eHBF6+hKvD3VjbenuvH2VDe9oT0TJ05caGbjUhVgZmX/AWOB9wM7t+f6MuvaAbgXGAb0ITgD+kyxa8aOHWuV5r777qt4HV2Jt6e68fZUN96ebTSubrQV81dY4+rGzhOog/SG5wMssJR6NY1Vfx/gv4DxUdI84Aoz25qqZ9FxjgVeNLM1kTw3A0cD13dR/Y7jOE4KyvHm17SmyQ0Du4k0a/y/Joy0L4+OT4/Szq6UUDm8BBwlaSBhqv+DwIIuqttxHMdJQdybX8axz6wpsxh17Kg8xe7ufruXNIr/CDM7JHZ8r6QnKiVQLmb2iKQ/E1wFNwOLgN92Vf2O4zhOadJ68yung+BUhjS++lsk7ZM5kLQ30FIkfxaS7pF0p6QT2iMggJn9wMz2N7MxZna6mSU5DnIcx3G6ibTe/DIdhDiZDoLTNaQZ8X8duE/SUoLXvr2AzxW/JIvPArsCR5UvnuM4jlMLpPXm5+5+u580QXr+JumdwH5R0rOlRtyS+gL7Exz9PGtmrxAi+zmO4zg9lDTe/Nrj7tcNATuXNFb9/YFzgPcRFPkDkq6wAi5zJR1PcOLzAmGGYJSk/zD31+84jtPjSePNrxx3v24I2Pmkmer/HbABuDQ6/jQh8t4nCuT/JTDRzJ4HiOwD/kIH/fU7juM4PYc0HQQ3BKwMaRT/GDM7MHZ8n6SnCuaGDRmlH7GU0HFwHMdxnNSk3SnglEcaxf+YpKPM7GEASe+m+D76BZLuAG4kLA18AnhU0scAzOzmDsrsOI7j9ALcELAypNnONxZ4SNKyKNTuP4AjJC2W9GRC/v7AawSXvhOANcAA4ESg3Vv6HMdxnN5FxhCwYUAD/Yb0o2FAQ0lDQKc0aUb8k8os8/+ZWXPpbI7jOI5TnHIMAZ10pFH8ieH7zOylAvnnA4e3WyLHcRzHiZHGENBJTxrF/wzwPGFrXgYDDi6QXwXSHcdxHMfpZtIo/mfN7LAyyqyTtAM5HQAzW1uWZI7jOI7jdDrtnuovwvYEL325MwR7l1mO4ziO4zidTBrFPzSzFS9OoW15Zjayo0I5juM4jlMZ0ij+eYSteHEMSFT8SZ0E8P37juM4jlMNpAnSU04kPoA/Ak+RPd1fsKOQBklDgSuBMVFZZ5nZP9pbnuM4jtNxPHhObZJmxF8uY4AfAoOB75nZs51Q5iXAHDM7JYr8N7ATynQcx3HaiQfPqV3SeO4rCzN71sw+Cfw38D+S/k/SiPaWJ2l7YDwwIyp/i5mt6xRhHcdxnLKJB8/ZvH4zzRubmTVlFk1rmrpbNCcFnT7il3Qp23YCLCW47v0X7R+ljyK4/b1a0iGEJYRzzczfMMdxnG7Ag+fUNjIrvlsvGnGfDxwTJc0DLjSz9QXyn5GUbmbXtktAaRzwMPBeM3tE0iXAW2b2vZx8U4GpAMOHDx87c+bM9lSXmsbGRgYPHlzROroSb0914+2pbnpbe1qbW1m9eDXWuk1/qE7sctAu1DV0+kRyh+kNz2fixIkLzWxcmuvTKP6bgCVARnGfDhxiZonW+52NpHcAD2e2CUo6BviWmR1f6Jpx48bZggXFAgh2nLlz5zJhwoSK1tGVeHuqG29PddNd7amUcV2a9iy5YQmzpsyivk89LVure42/N7xvklIr/jRT/fuY2cdjxxdIejy1hB3EzF6V9LKk/SJDwQ8Sdg04juP0WrrbuM6D59QuaRT/RknvM7MHASS9F9hYWbHy+CLw+8iifylQ7hZDx3GcHkPcuC6zzj5ryixGHTuqSxWwB8+pTdIo/v8Cro3W+gWsBc6spFC5mNnjQKopDMdxnJ6OG9d1HT3RV0EaBz6PA4dIGhIdv1Usv6TZBco5qT0COo7jONkMHTmUli0tWWktW1sYOnJo9wjUQ+nu5ZRKUdL8UtKBkr4ADAB+LunPkvKi9Un6afRxB2BP4Hrgl7E/x3EcpxMYNGwQk2dMpmFAA/2G9KNhQAOTZ0zuMSPSaqAn+ypIM9X/B+AB4BGCR74NBPe5Y3PyfQDAzI6RdDzwHeA+4GelZgkcx3Gc8nDjusrSk5dT0my4rDOzLwJbzGyGmd1Y4LpXMx/M7C9m9l7gn8Ddkr7WOeI6juM4GQYNG8SII0bUvCKqRnryckoaxT84irjXIOnfJH0cGJKQ7xQASRskvSXpLeC3wEEE972O4ziOUxP05OWUcsLyzgMyBnr352Yysy3R/+06TTrHcRzH6SZ66nJKGsV/qZk9lrZASYcnpZdThuM4juNUAz3RV0EaxX8lkKjMC7CAEJRnJWHfP4SgPR8oTzTHcRzHcTqbNIq/QdIObFPiAJjZ2gL5Pwx8jxBF7ydF8jmO4zhOGz3RWU41kkbx70dQ4nHFb8DeSZnN7B7gnsgg8HZJfwH+x8y62s2v4ziOUyP0VGc51Ugaxf+UmeU57CmEpK/EDm8FPkPwtf+O8kRzHMdx2kOtjZyrJfZAbyGN4i+XXKv+mypQh+M4jpNALY6ce7KznGokjeJ/TzkFmtkF7ZTFcRzH6QC1OnLuyc5yqpE0DnxukzQ0cyBpB0l3Fcos6d6kv84Q1nEcxylMZuQcJzNyrmZ6srOcaiTNiH+Yma3LHJjZm5J2KZJ/N+C0jgrmOI7jlEctj5x7qrOcaiTNiL9F0p6ZA0l7Eaz6C7HRzBbm/nVUUEn1khZJur2jZTmO4/REOmPk3LSmia1vb614FLqmNU2sfHRlVj3lxB5Iut5JR5oR/3nAg5LmEbb0HQNMLZK/WKegI5wLPE1ynADHcZxuIa4oq2GU2pGRc8YwcJ+L9mH6KdMrZhhYrgFi7i6FShkw1tpuiPZSUvGb2ZzIDe9RUdI0M3u9yCWHRAF6svb9m1m7Fbak3YHjgR8DXymR3XEcp0voKkVZLkluZksptbhhoLVYW/z5zjYMLNcAcfENi5l11izq6utobWll0vRJ3PXluzrdgLEWd0O0F5kVH6BLEmHNfm8zuzCa9n+Hmc3vCgEjGf4M/ISwVfBrZnZCQp6pRDMRw4cPHztz5syKytTY2MjgwYMrWkdX4u2pbrw91UdrcyurF6/GWo1+u/dj84rNqE7sctAu1DWkWUXtOjau3cj65evDcMxg6F5D6b9j/6w8W9/eyhvPvYG1xNpTL3YavRN9BvbpNFni9WQoVE9rcyuvPfla3jyy6oS1lr4+Q6n3Lf4s43VU47OE5PZMnDhxoZmNS3N9mqn+y4FWgq/9C4ENhL35RxS6QNJJwPjocK6ZtXtdXtIJwGozWyhpQqF8ZvZbQhhgxo0bZxMmFMzaKcydO5dK19GVeHuqG29P9bHy0ZXMv2A+m9dvZvQvRvPc156j35B+HHPPMYw4YkR3i9dG05ompu81PWuPfMOABqYtn5Y1Qm5a08QvT/4lttXa2qM+4qsrv9rpI/7pp+TLc+LyE/Pqef7u53ngqw/klVHXt47WLa0lr89Q6n2LP8sM1fgsM3T0+5OmK/NuM/s8sAmCVT/Qt1BmST8lrMc/Ff2dK+kn7ZYQ3gucJGkZMBP4gKTrO1Ce4zhOh6kVC/pytvjVqa7ocWeQMUCs719Pn0F9qO9fX7YB4tFfObpTt/7VyrPsLNKM+LdKqieabJE0jDADUIiPAoeaWWuU/1pgEfDt9ghoZt/OXBuN+L9mZp9pT1mO4zidRUaBzZoyC9Wraveep1Vq65ato2FAQ1behv4NFfGeZxhhFZm2/0nsetiubWvuGer71nPUV47iqK8c1WmGePFnWd+nnpatLVX5LDuLNIr/V8AtwC6SfgycAny3xDVDgUxUvu3bLZ3jOE4Vk7Ggf+jRh4pONXcnaZVaV41648Z9GQoZ5w0aNoiTrzk5dK6idf247J15vwvthuiJlv5prPp/L2kh8EGCacjJZvZ0kUt+AiySdF+Ufzzwrc4Q1szmAnM7oyzHcZzOYNCwQfQZ2KdblEJapZRmi19XzWCU65e/Kx375O6G6KmW/iUVv6QdgdXADfE0M1ublN/MbpA0l23Gf980s1c7QVbHcRwnolyllLTFL5fOmMEo1Rlpz8xCGtk7m1qNe5CGNJYbC4EF0f9XYseJSDrIzFaZ2Wwzmw28GRn8OY7jOJ1AXCltXr+5bc99Z3ix68gMxuIbFjN9r+lc96HrmL7XdJbcsCSx/Frwy1+rcQ/SkGaqf1Tms6RFZnZYiUuulTTNzO6XNJFgI/D7DsrpOI7jRFRjGNtyRsi14Je/J1v6pzHuA0BSX4ps44vxUeAWSa8S3Ot+zMz+1U75HMdxnByqUSmV2xkpZ/q+OwzserKlf5o1/tuijwcAfyiV38xelfRhwk6AWa70HcdxOpdqVErFOiMdUdzdaWBXCzMT7SHNiP8XhH37K8zsxVKZJW0g7PmvJzjb+TEd9NXvOI7jZFNtSinTGbn1rFvb/OpPnjGZpfcsbbfirgYDu+4wLKw0aRT/4syHyMIfgCJW/dt1glyO4zhOCSqhlDoSbdAip/qtLcHH26a3NnUooE412jL0BNJY9b8O/JNtlv1Frfodx3Gc9FRTXPmMVf4bz71R0Cq/EE1rmrjljFto2dTS9nfH5+/IC3JTjmV8Ndoy9ATSKP6pwArgl8A7zWyUme1dWbEcx3F6Pmm2v3UVhcLypu2QrFq0CtuaHUbPWozmzc1ZaeUo7lrZ+ldrpNnOd6Wk64DPA3+X9Csz8+15juM4HaAa1q/jVGpa/eivHM3DlzzcbiPErrRl6InueZNIY9X/sejjMuAK4JuSvmFmh1RSMMdxnJ5Mta1fd3RavZIBdbrCwK6nuudNIs1U/4mxv/GENf7HKimU4zhOT6fa1q/j0+rt8dU/aNggxk4dm5U2durYNqU94ogRVTuKrqQnxGokzVT/57pCEMdxnN5EZ+zF7+yp6Y746m9a08RjM7LHhI/NeIzx3x9ftQo/Q7XNvlSaNFP9s5PSzeykzhfHcRyn9zDm1DEMP3Q4K+evZMSRIxh2wLDU11ZqajrJV3+aDka1Ks802xOrbfal0qTZx38AcHalBSmEpD2A3wHDCY6Bfmtml3SXPI7jOKVIOxJffMNiZp01q83hzclXncyYU8eUvL4rDQPTdjCqUXlmZN/non2Yfsr0grJXoyfESpJG8W8ws3kVl6QwzcBXzewxSdsBCyX91cye6kaZHMdxEkmrKDP73m2r0UJQmDefcXOb05ti11dydB0fIQOpOxjVoDzjHaa47PHtiYU6R9XmCbGSpFH8h0haB2wihOX9O3CBmb1eScEymNkqYFX0eYOkp4ERgCt+x3GqinJG4on73rcac86dQ8vmlqLXd9boOndmIXeEfMx3jimrg9FR5VmOzUIh2TMdpnJlh57pnjeJNMZ99ZLqgAHAbsAngWuB4yssWx6SRgKHAY90dd2O4/Qu2mM41xkj8br6urYZgPj1mfIz8nR0dJ2rKD9y8Ufa3OtmRsgPXPQAZtmdk1IdjPYqz3JsForJnrn37ZG9t6DcG5PqIumLZnZpBeQpVudgYB7wYzO7OeH8VIKXQYYPHz525syZFZWnsbGRwYMHV7SOrsTbU910dntam1tp2dJCfd/6PJeqXUFue8qRpytk37h2I+uXrwcBBkP3Gkr/HfsXzJ9pT2tzK6sXr8Zat/2uqk7sctAuebK2Nrfy2hOv5ZWlOuVdP2SPIbz18lt58rT3XiTJiUAKdffbvR+bV2xG9WLw8ME0vtqYeC8661mUe9+Kyd6WFJO934h+bF65ueRzrBWSfg8mTpy40MzGpbk+leKXdBJhDz/APDO7rVj+zkZSH+B24C4z+59S+ceNG2cLFlQ2nMDcuXOZMGFCRevoSrw91U1ntqcaHJXE29ORkV4lZG9a08T0vaZnjdobBjQwbfm0giPZeHuW3LAkK0JdxmAvqZ6Ld784z+HNcb86jjlfntM2kp908STmfHlOWfKUYuWjK7nuQ9exef3mtrS+2/WlZUsLLZtbGP2L0Tz3tefa6gHyZj8KPYv2zJQkydNvSD9Ov+d0RhwxoizZM8Rlf+jRhzj6iKN7zDR+0u+BpNSKP812vp8ARwIZN71fkvQeM/tOmbK2C0kCZgBPp1H6juMUptrcxJYjT1fJ3tHpesMIP1u0/S9UT8OAhizF39C/gXcc/g6mLZ/WpjwrYcg3dORQtry9JStt66atHH/p8cz58pxEBz652/uSnkUaw8RC8qS1WUjK29rcysGnHcyiqxa1pR0+5fA2mXO3J/Z20szNHA98yMyuMrOrgEnACZUVK4v3AqcDH5D0ePT30S6s33F6DBklEqecaGndKU9Xyd4Rw7m4QtzatLWoB7hi9cQ93VVsm1xr/vH+H9ufacunsdPonZi2fFpBpZ30LOrq65hz7px2eb8rJxhPUt5JF09i8Q2Ls/I9NuOxHut5r6OkseoHGAqsjT5vXxlRkjGzBwmrS47jdJBq22vd0ZFeJWTviOFcOaPztPVUYpvcqkWrsJb8SHqrFq1i3w/vW3KEXOhZ1Petz5puLzYzkbskUM6OgNy81eo8qFpJo/h/AiySdB9BAY8Hvl1RqRzHqQjVsNe6vfJ0pezt3ZZWbuckbT3Vtsc86VlkbBHiFGp7IfuAcnYE5Oatpg5ttZNmO98NkuYCR0RJ3zSzVysqleM4FaPalEhHRnqVlL0929KqrWNViEKR9HY9bNfUZSQ9i35D+pVseyVsNWrlvlcLBRW/pOPN7C/Q5kRndpS+naRLzeyLXSSj4zidTLU5KikkT5KFeLXJnks5nZO0uxQ6ezfDoGGDOPmak7nlc7cER+iCk68+uV0dnfg1aWIPVGpavto6tNVMsRH/dEnDI4M+ACR9GvgxcFXhyxzHcTpONWw7zCWpI5IUBCZN5yTtyLdSuxleeuglWjdvs/B7+aGXO3x/C8UeiFNJW41q7xRWC8Ws+scDX5D0fUmjJd1DsK4/1sx+2DXiOY7TG6nG+OiLb1jM9L2mc92HrmP6XtNZcsOStrQ3nnujLS0taXcpFMvXtKaJlY+uLPu+rHl6DY9e9mhW2vzL5rPm6TVllRMnE3ugZVMLW5u20rKphZvPuDlPtnIs+DuD3NgDTpERv5mtkvR+4GbgO8CZZlZZd3iO4zhUX4jXpFH3rWfdiqTUQWByKTbyjc8sFMq36rFVXPP+axJnREo50Vk5f2WiTJn0jW9sZM3Ta0qGCY7XUyj2QGanQJyumpZPG52vt1F0H7+ZbQCOA24ETpNU+74OHcepeqpt22GhfeutLdmb4c0stV+BQcMGcfiUw7PSDp9yOEvvWZo1s/DiPS8m7lvP+KbPnRFJmpnIZcSRI/LSAF64+wUuP/By1i1bx+UHXs6dX7yzoPy59Sy7b1mqdsfbn/FVUIr2zGzEO2vxjpmP/Isb920gmH1A2MY3CFgrqQUwMxvSBfI5jtML6Wor7VIj5MSOSHMLrVuyFX/Lphb6Du6bym1t05omHpvxWFbawisX8tiMx/LW86ctn5bKm9+qRasK2gPANre7A3ceSF1DHa3NMfnrYMkfsjsJ8y+bz7hzxuWN/JNmQB655BHq+tTRunVbmeXuFEiiHFuP+H2vtlmjaqLYVP92XSmI4zi9gyRjuCS6KsRrGsWS6YjEffCPP288D1z0QJ4P/adueooHfvxAooFbrmIycqbGW426PtkTsRllFZ/tKDQjAiQquwW/WZAl0/jzxtNnUJ8sf/f1fetp2ZRdJoTp/1zFnyi7GfufvD9P/WlbxPSxU8d2SMkWM2zMyFEoLO9HLv5IVc0aVRNpPfc5juN0mHLXXCsd4rUcxZLrg3/gsIF55ZkZ8y6ch221ttC6N59xM6OOHcXSe5ZmyTTxwom0bMzxOb+lFdVlOyrNrOdfPf7qrM5E0ozIroftmqfsmrc058k098K51NXnRL1rzfXhG9hx3x3z0voO7psne8umFp677bmstMdmPMb4749vt/IvNGpf8JsFPHjRg0XD8t715bvanAolxR7ozXR9PE7HcXolxdZc22udXqqeUjsCClnML/jNgqz16wW/WZDngz+jWBoGNLQplqOmHZVo4PbifS/myXTvd++lvn923Q0DGhh/3njq+9fTZ1Af6vvXM+niSdzxxTvyrOVHHTuKqQunMulXk5i6cGqb57tce4BCMh017aiseiZ8b0L+vehbT33f+rzns6VxCw0DsseN9f3qUX12p6VYLIU0zzxpZqN5SzMPXvRg1r2cc+6cvPC99X3q2wIelYo90NvwEb/jdBPtCV9ay6QdvXXU8rrY2m7mfOael1IsmTLmnDsnsYOQUSwPPfoQJy4/kVWLVvH3n/49T6am15ryZcrxnJdh4LCBWTMLby57M1FxP/TLh5j/q/l59y13iaSQTJmQ7BkDxYHDBuYpbtUrcfdAZkYkO3NYqoiTmVpf8/SaLKc+i29YzC1n3oIQhvGxaz6W+MyTbD2O+c4xPPSLh0rey3jAI4/Ol42P+B2nG0hjed0TWPP0Gh6/9nHWPL0m9eito5bXxba/5d7zpBHy+PPGJ458t769NStty8YteYol4wo399q9j907az0dYMuGLRx82sFZaQedelDblHVmZuHhix9ObOcj0x9Jdd+23yM5rto/fvkPWja1tP3d8cU7mHTxJOr716M6tc02JO0eAPLuW2b5IXd//rwL53H5gZcz68xZ4f+UWdz86ZuxLUbrllZsi3HTp28q+MzHnDqGacuncfo9pzNt+TTG/sfYxLC8x11yXJf5Bqh1fMTvpKa3jFAr0c74iGfgzgO7JK58hkq0J02Zd3zxjiwnMUd+4UgOn3I48y+b35a234n78cLdLxS0vE6qJ3f0mEuxADJJ9zzXzezAnQcy98K5WWVu3bi1bYTcRsKSeMYV7qwps1CdsFZj8ozJbFy7MfEePX7t43nHfQb2yUqra6jLiniXIVeezFbCpfcszfKed9S0oxLrtub8WYS1L67Nmm1oWtNE8+bmrHzNm5pZt2xdQePL+L0EuOnTN2W38arsNmd4ZtYzjD17bOK5OIV2fIw5dQz7f2z/XvEb1VFc8Zegtyi7UlSD+9SueBaF2lnIVWsaeXIV4IGfOLDLthmlcaHanjJL3aO3X3870TNc7pr2c7c/l6fAMlO0SfW89NBLeZ2J4y49Lk/GXGW+pXFLohV6kqKcNH0SdaprM4QDwpR0a+Ewtrl1D9lzCC/c/QL7fHgf9nzvntz1tbsS72VSaNxcRZux1s8laSthy5YWbjnjlixDvr//PH+avxCPTH+Els0tWGuwwZj3w3n5HRwLSxeQb3yZ+8wOOeOQ1HW/8cwbid+pQu9bUkwAd9mbjppQ/JImAZcA9cCVZvbTrqi3u5Vdd3Y64nUDXTpCTaJSzyLNSHzTW5u468t3ZdVtWCp5klyjPvWnp6jrl73KluSxrdi9LZQvtz25SiBjFJY2IE5SnkL3aM60OW3Kc7+T9ku8PtdyvL5PPUd//Wjm/WgekjALI2TIf+duPevWvO1mmX3mb77wJs/c+gz7n7w/o08Ynfe+JFnQF1KUd3z+DvoM7JM1nVzXJ2fPe8SmdZt46e8vseGVDbz095fY8717ZnX07r/wfo78wpFsv3fydHsSoyaO4oW7Xmg73nfSvjw3+7kiV2xj+bzlefYAJPcbEsmbQt+SbOm/8tGVjD5hdMnvzxPXPJG67j6D+zB9r+l5tgRp3rdiHdq020d7E1Wv+CXVA/8LfAhYATwqabaZPVX8yo5RqcAYaenOTkdu3cd855hudYRRqWeRNBJP2lc959w5tGxuyarbzGjZ1FJSnkKuUfd8754su3dZ23HGY1tHIrXltmf0SaNTu1BN+74V2nt+x+fvwFq2Kc/4Xu6svFuyr93cuJk3X3wzL1jMDvvukD/yTdhjDnDtB66l6dUwAl00YxE77b8T65evz3pf7v3uvYnXJinKxFF3c3Ldc8+fyxtPv8HoX4zm6tOuZvejd2fFQyuy8sy/bD4n/N8Jidcn8cLdL2QdP/eXdEofoHF1Y+q8iVjpLAAjjhiR7vuDceAnDsx6H478wpG8OO9F1izeFhdgpwN24qGfPZT3Hf/UrZ/K++2pq6/Le98KdWjdZW8ytWDcdyTwvJktNbMtwExgcqUrTRtAoxJ0Z4CSpLofuOiBxOnHrnKEUYlnUWgknjcq3NySt01IdcrbA11InkKuUXOVw8IrF6Z65oXejZf+/lJeewqNEjet25SqzKT3LXH/9uaWvCnrtAqE1vw13/mXzeeVBa8krqEnkVH6Gd545o08BdRqyYW9OO/FxPR3feJdWYZiex2zV2K+N55+I+s497lmeHb2s4npieTeuzJG7F3Fhlc3pPv+bGphwgUTOOepc5h8zWTOeeocxn9/PG8+/2ZWvnVL1yVux4P8WYjmLc35SyRRhzaOu+wtTC0o/hHAy7HjFVFaRelOX+Hd2ekoVPf488Z3m8VsJZ5FoZF4rte0hv4NeVO81mp5PtoLyTPsgGEc+YUjs9IO/MSB1PfL9/ue67ilnEhtuaPEYvQfmh1yo5z3LXH/ds61ncHzc57v0PW5xnC5hmwZ3nrprcT0we8YnGVJ3n+HjoUpWfuvtR26Pi2Dduma7+Qbz7yRmJ73/RnQwJbGLQw7YBiHnnEoww4Ylvy+FdiOt+thu+btFDj6K0enkrE7f0erHeVZqlYZkk4BJpnZ2dHx6cC7zewLOfmmAlMBhg8fPnbmzI4HEty0dhPrlq8LkQoMhu41lP47hh+AxsZGBg8e3OE6kmhtbmX14tVZxkSqE7sctEter7izyLSnWN0Qet/1fesrJkchij2LJEo9n+ZNzaz5Z0II0qj8tsM6MWSPIbz18ltZdQNlydO8KWzP6jOoD3UNdXn3GAUr6kLPvNTz2XH0jsk/xjntQTD84OFZz6+c9y0pL5n+Sk49iWnRcb/d+7F5Rfb2tjhDRw1l3YvrCp4vxaDhg3h7zdttdQ4cNrDNIC3Odrtvx4YVG/LSd9p/J/oO6tt2vHn9ZtY+X1h5l2pPoXpSkfsMC6ULhh04jDVPrUk/41KArPYk1LPTfjulet+S3qNC71vS9yzznWptbm377QF47cnXynqvM+2p9O9oV5H0+zZx4sSFZjYuzfVVv8YPrAT2iB3vHqVlYWa/BX4LMG7cOJswYUKnVF7I4Gnu3Ll0Vh1JLFmzJH+7yrGVW5uKt6er605LOcaOaZ7PnX+5M2tr2ZFfOJI9jt4jv+2ndMyqP4mkewwUvO8ln8/xY7hzTuH2xLeWJT3Lcp55Mdnj9SSlvfzQy8y/bD6jfzGa5772XNtsSK7cx331OK77yHUsvXtpW/reH96bw848LK/M+39yf9Z68bCDhnHqk6fmPZ/LD748MV9SPR/+6ofz2p10/Xa7bsfSu5e2tWfvD+8NkFfeCXedUPT6Um0EmHXWrDalOPmq5Ps7ZtIYlry5JNU9Gv/t8XllJj2fxHeoxPtW6j1KfN8KfM+SyFyf9r3e56J9WPq9pVXzW9ZROqx/zKyq/widk6XAKKAv8ATwrmLXjB071irNfffdV/E6Glc32or5K6xxdWPF68ptT1fWXQnSPp/VT622RdcsstVPrW5L66q2J9VTqO60z6cj7Smn3WllT0pb/dRqu+PPd2TJmCS3mdnyB5fbvd+/15Y/uLxomc/e9qzNmjLLnr3t2aJyF8qXVE/a65c/uNxm/3521rWFyit0fZo2lvO+pL1HaZ9Pd79vHbm+cXWj3f2Xu2v2tyyJpN83YIGl1atpM3bnH/BR4DngBeC8Uvl7iuLvSrw91Y23p7rx9lQ3vaE95Sj+Wpjqx8zuAO7objkcx3Ecp9apbQsHx3Ecx3HKwhW/4ziO4/Qiqn47X3uQtAZYXuFqdgZer3AdXYm3p7rx9lQ33p7qpje0Zy8zy49alUCPVPxdgaQFlnLPZC3g7aluvD3VjbenuvH2ZONT/Y7jOI7Ti3DF7ziO4zi9CFf87ee33S1AJ+PtqW68PdWNt6e68fbE8DV+x3Ecx+lF+IjfcRzHcXoRrvhLIGkPSfdJekrSPyWdG6XvKOmvkv4V/d+hu2VNi6T+kuZLeiJq0wVR+ihJj0h6XtIfJfUtVVa1IKle0iJJt0fHNdsWAEnLJC2W9LikBVFaLb9zQyX9WdIzkp6W9J5abY+k/aLnkvl7S9K0Wm0PgKQvR78FSyTdEP1G1Ox3SNK5UVv+KWlalFYzz0fSVZJWS1oSS0uUX4FfRc/pSUmHlyrfFX9pmoGvmtmBwFHA5yUdCHwL+JuZvRP4W3RcK2wGPmBmhwCHApMkHQX8N3Cxme0LvAlM6T4Ry+Zc4OnYcS23JcNEMzs0tm2nlt+5S4A5ZrY/cAjhWdVke8zs2ei5HAqMBd4GbqFG2yNpBPAlYJyZjQHqgX+nRr9DksYA/w84kvCunSBpX2rr+VwDTMpJKyT/ccA7o7+pwK9Llp7Wqb//tQUMmgV8CHgW2DVK2xV4trtla2d7BgKPAe8mOIRoiNLfA9zV3fKlbMPu0RfhA8DthECjNdmWWJuWATvnpNXkOwdsD7xIZFNU6+3JacOHgb/XcnuAEcDLwI6EaKi3Ax+p1e8Q8AlgRuz4e8A3au35ACOBJbHjRPmB3wCnJuUr9Ocj/jKQNBI4DHgEGG5mq6JTrwLDu0uu9hBNjT8OrAb+Soh8uM7MmqMsKwg/CLXAdMIXuzU63onabUsGA+6WtFDS1CitVt+5UcAa4OpoOeZKSYOo3fbE+XfghuhzTbbHzFYCvwBeAlYB64GF1O53aAlwjKSdJA0kRHfdgxp9PjEKyZ/puGUo+axc8adE0mDgJmCamb0VP2ehm1VT2yPMrMXCVOXuhCmx/btXovYh6QRgtZkt7G5ZOpn3mdnhhGm8z0saHz9ZY+9cA3A48GszOwxoImeatcbaA0C05n0S8Kfcc7XUnmiteDKhg7YbMIj8aeaawcyeJixT3A3MAR4HWnLy1MzzSaKj8rviT4GkPgSl/3szuzlKfk3SrtH5XQkj55rDzNYB9xGm8oZKyoRq3h1Y2V1ylcF7gZMkLQNmEqb7L6E229JGNArDzFYT1o+PpHbfuRXACjN7JDr+M6EjUKvtyXAc8JiZvRYd12p7jgVeNLM1ZrYVuJnwvarZ75CZzTCzsWY2nmCf8By1+3wyFJJ/JWFGI0PJZ+WKvwSSBMwAnjaz/4mdmg2cEX0+g7D2XxNIGiZpaPR5AMFm4WlCB+CUKFtNtMnMvm1mu5vZSMK0671mdho12JYMkgZJ2i7zmbCOvIQafefM7FXgZUn7RUkfBJ6iRtsT41S2TfND7bbnJeAoSQOj37vM86nl79Au0f89gY8Bf6B2n0+GQvLPBj4bWfcfBayPLQkk090GDNX+B7yPMKXyJGHK6HHCmtFOBIOyfwH3ADt2t6xltOlgYFHUpiXA96P0vYH5wPOE6ct+3S1rme2aANxe622JZH8i+vsncF6UXsvv3KHAguiduxXYocbbMwh4A9g+llbL7bkAeCb6PbgO6Ffj36EHCJ2XJ4AP1trzIXQoVwFbCTNmUwrJTzBm/l+CndZiwu6MouW75z7HcRzH6UX4VL/jOI7j9CJc8TuO4zhOL8IVv+M4juP0IlzxO47jOE4vwhW/4ziO4/QiXPE7TpUhqSWK+rZE0p8it6PF8veTdJukBZJ+1lVyOo5Tm/h2PsepMiQ1mtng6PPvgYWW7TzKcRyn3fiI33GqmweAfQEkfUbS/Gg24DeS6qP0xkxmSQ9Iul3SgFi8+C2SFkefx0m6RtIpUf6zJZmknSWNzIn/fYqka6LP10h6MVbm0XEhJU2QdHv0+f1RHPfto/T7Jf1F0rOSrpBUVym5JR0g6QlJe0THX4lmTpZoW1z2kZI2RuUulfSLTn5mjlPVNJTO4jhOdxD5ST8OmCPpAOBTwHvNbKuky4HTgN/F8h9PCIG73sw2ErzlEcUxmGhmr0fHmfz9gf8kvc/yr5vZn0vIfBAhVsJxZrY+qutI4EBgOSFoyscI/vo7VW6FuPI3AJ82s5cljQU+Rwg5LeARSfMIvttfMLNDJQ0neEf8Wsp74Dg1j4/4Haf6GKAQMnkBwY/6DIL/9LHAo9G5DxJcqgJtMSXOAy4qo57PA9cCG2Np+2RG3MDPy5R7N+BO4FrL9hU+38yWmlkLQTG/rwJyDyZ0KuaZ2T+jtPcBt5hZk5k1EoLPHBOd2ydq43OEjorj9Bpc8TtO9bHRzA6N/r5oZlsII9ZrY+n7mdn5sWtOBeYS4nSnYQghqNFvctJfyNQBfL1MufcHzgH+Q9KwWHquIVH8uLPk3oPQeZgYzY6U4oWojbsCp2aWBhynN+CK33Fqg78Bp8Siju0oaa/oXB0wDSjHov/LwKVRp6KzuNfMZhMUcHwUfaSkUdHa/qeAB6P0zpT7aTO7Afgi8JtoJuEB4GSFqHODgH+L0uJsJsRq36EMGRynpnHF7zg1gJk9BXwXuFvSk8BfCaNVgAHATWa2rowiBVzfqUJGmNnvgJ0kfTRKehS4jBD6+UXglii90+U2s3mEKHP/ZWaPAdcQIsw9AlxpZouirJmp/iXAfWb2ZBkyOE5N49v5HMepGJImAF8zsxO6WRTHcSJ8xO84juM4vQgf8TuO4zhOL8JH/I7jOI7Ti3DF7ziO4zi9CFf8juM4jtOLcMXvOI7jOL0IV/yO4ziO04twxe84juM4vYj/D4ndyAQDPvE4AAAAAElFTkSuQmCC\n",
      "text/plain": [
       "<Figure size 576x216 with 1 Axes>"
      ]
     },
     "metadata": {
      "needs_background": "light"
     },
     "output_type": "display_data"
    },
    {
     "data": {
      "image/png": "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
