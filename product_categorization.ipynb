{
 "cells": [
  {
   "cell_type": "markdown",
   "metadata": {},
   "source": [
    "# Анализ ассортимента магазина товаров для дома"
   ]
  },
  {
   "cell_type": "markdown",
   "metadata": {},
   "source": [
    "## Описание проекта"
   ]
  },
  {
   "cell_type": "markdown",
   "metadata": {},
   "source": [
    "Необходимо провести анализ ассортимента интернет-магазина товаров для дома и быта «Пока все ещё тут». В рамках анализа необходимо:\n",
    "- исследовать данные;\n",
    "- выделить категории товаров;\n",
    "- выделить основной и дополнительный ассортименты внутри категорий;\n",
    "- выдвинуть гипотезу о различиях между основным и дополнительным ассортиментами и проверить её; \n",
    "- подготовить презентацию с результатами исследования;\n",
    "- подготовить дашборд с диаграммой количества покупок по дням, количеством покупателей и фильтрацией по дате."
   ]
  },
  {
   "cell_type": "markdown",
   "metadata": {},
   "source": [
    "Презентация и дашборд доступны по следующим ссылкам:\n",
    "- [Ссылка](https://drive.google.com/file/d/1q6RaVyD1MiuUOsJOgpEtLoLazvNNLMEE/view?usp=sharing) на презентацию;\n",
    "- [Ссылка](https://public.tableau.com/profile/oleg1290#!/vizhome/Orders_and_customers_dashboard/Dashboard1?publish=yes) на дашборд."
   ]
  },
  {
   "cell_type": "markdown",
   "metadata": {},
   "source": [
    "## <a name=\"0\"> Структура проекта </a>"
   ]
  },
  {
   "cell_type": "markdown",
   "metadata": {},
   "source": [
    "- [Загрузка данных и ознакомление с ними](#1)\n",
    "- [Предобработка данных](#2)\n",
    "- [Исследовательский анализ данных](#3)\n",
    "  - [Статистические характеристики](#3.1)\n",
    "  - [Поиск выбросов](#3.2)\n",
    "  - [Исследование аномалий в датах заказов](#3.3)\n",
    "- [Категоризация товаров](#4)\n",
    "- [Выделение основного и дополнительного ассортимента](#5)\n",
    "- [Проверка гипотезы](#6)\n",
    "- [Общие выводы](#7)"
   ]
  },
  {
   "cell_type": "markdown",
   "metadata": {},
   "source": [
    "## <a name=\"1\"> Загрузка данных и ознакомление с ними </a>"
   ]
  },
  {
   "cell_type": "markdown",
   "metadata": {},
   "source": [
    "Загрузим библиотеки для работы с таблицами, временными данными, визуализации, кластеризации и проверки гипотез:"
   ]
  },
  {
   "cell_type": "code",
   "execution_count": 1,
   "metadata": {},
   "outputs": [],
   "source": [
    "import pandas as pd\n",
    "import numpy as np\n",
    "import matplotlib.pyplot as plt\n",
    "import seaborn as sns\n",
    "import datetime as dt\n",
    "from sklearn.cluster import KMeans\n",
    "from sklearn.preprocessing import StandardScaler\n",
    "import scipy.stats as st\n",
    "pd.set_option('display.max_colwidth', None)\n",
    "import warnings\n",
    "warnings.simplefilter('ignore')"
   ]
  },
  {
   "cell_type": "markdown",
   "metadata": {},
   "source": [
    "Загрузим таблицу с данными и посмотрим на неё:"
   ]
  },
  {
   "cell_type": "code",
   "execution_count": 2,
   "metadata": {},
   "outputs": [
    {
     "data": {
      "text/html": [
       "<div>\n",
       "<style scoped>\n",
       "    .dataframe tbody tr th:only-of-type {\n",
       "        vertical-align: middle;\n",
       "    }\n",
       "\n",
       "    .dataframe tbody tr th {\n",
       "        vertical-align: top;\n",
       "    }\n",
       "\n",
       "    .dataframe thead th {\n",
       "        text-align: right;\n",
       "    }\n",
       "</style>\n",
       "<table border=\"1\" class=\"dataframe\">\n",
       "  <thead>\n",
       "    <tr style=\"text-align: right;\">\n",
       "      <th></th>\n",
       "      <th>date</th>\n",
       "      <th>customer_id</th>\n",
       "      <th>order_id</th>\n",
       "      <th>product</th>\n",
       "      <th>quantity</th>\n",
       "      <th>price</th>\n",
       "    </tr>\n",
       "  </thead>\n",
       "  <tbody>\n",
       "    <tr>\n",
       "      <th>0</th>\n",
       "      <td>2018100100</td>\n",
       "      <td>ee47d746-6d2f-4d3c-9622-c31412542920</td>\n",
       "      <td>68477</td>\n",
       "      <td>Комнатное растение в горшке Алое Вера, d12, h30</td>\n",
       "      <td>1</td>\n",
       "      <td>142.0</td>\n",
       "    </tr>\n",
       "    <tr>\n",
       "      <th>1</th>\n",
       "      <td>2018100100</td>\n",
       "      <td>ee47d746-6d2f-4d3c-9622-c31412542920</td>\n",
       "      <td>68477</td>\n",
       "      <td>Комнатное растение в горшке Кофе Арабика, d12, h25</td>\n",
       "      <td>1</td>\n",
       "      <td>194.0</td>\n",
       "    </tr>\n",
       "    <tr>\n",
       "      <th>2</th>\n",
       "      <td>2018100100</td>\n",
       "      <td>ee47d746-6d2f-4d3c-9622-c31412542920</td>\n",
       "      <td>68477</td>\n",
       "      <td>Радермахера d-12 см h-20 см</td>\n",
       "      <td>1</td>\n",
       "      <td>112.0</td>\n",
       "    </tr>\n",
       "    <tr>\n",
       "      <th>3</th>\n",
       "      <td>2018100100</td>\n",
       "      <td>ee47d746-6d2f-4d3c-9622-c31412542920</td>\n",
       "      <td>68477</td>\n",
       "      <td>Хризолидокарпус Лутесценс d-9 см</td>\n",
       "      <td>1</td>\n",
       "      <td>179.0</td>\n",
       "    </tr>\n",
       "    <tr>\n",
       "      <th>4</th>\n",
       "      <td>2018100100</td>\n",
       "      <td>ee47d746-6d2f-4d3c-9622-c31412542920</td>\n",
       "      <td>68477</td>\n",
       "      <td>Циперус Зумула d-12 см h-25 см</td>\n",
       "      <td>1</td>\n",
       "      <td>112.0</td>\n",
       "    </tr>\n",
       "  </tbody>\n",
       "</table>\n",
       "</div>"
      ],
      "text/plain": [
       "         date                           customer_id  order_id  \\\n",
       "0  2018100100  ee47d746-6d2f-4d3c-9622-c31412542920     68477   \n",
       "1  2018100100  ee47d746-6d2f-4d3c-9622-c31412542920     68477   \n",
       "2  2018100100  ee47d746-6d2f-4d3c-9622-c31412542920     68477   \n",
       "3  2018100100  ee47d746-6d2f-4d3c-9622-c31412542920     68477   \n",
       "4  2018100100  ee47d746-6d2f-4d3c-9622-c31412542920     68477   \n",
       "\n",
       "                                              product  quantity  price  \n",
       "0     Комнатное растение в горшке Алое Вера, d12, h30         1  142.0  \n",
       "1  Комнатное растение в горшке Кофе Арабика, d12, h25         1  194.0  \n",
       "2                         Радермахера d-12 см h-20 см         1  112.0  \n",
       "3                    Хризолидокарпус Лутесценс d-9 см         1  179.0  \n",
       "4                      Циперус Зумула d-12 см h-25 см         1  112.0  "
      ]
     },
     "execution_count": 2,
     "metadata": {},
     "output_type": "execute_result"
    }
   ],
   "source": [
    "df = pd.read_csv('/Users/polzovatel/Desktop/Projects/Product_categorization/ecommerce_dataset.csv')\n",
    "df.head()"
   ]
  },
  {
   "cell_type": "markdown",
   "metadata": {},
   "source": [
    "Датасет описывает транзакции магазина. Колонки содержат следующую информацию:\n",
    "\n",
    "- `date` — дата заказа;\n",
    "- `customer_id` — идентификатор покупателя;\n",
    "- `order_id` — идентификатор заказа;\n",
    "- `product` — наименование товара;\n",
    "- `quantity` — количество товара в заказе;\n",
    "- `price` — цена товара."
   ]
  },
  {
   "cell_type": "code",
   "execution_count": 3,
   "metadata": {},
   "outputs": [
    {
     "data": {
      "text/plain": [
       "(6737, 6)"
      ]
     },
     "execution_count": 3,
     "metadata": {},
     "output_type": "execute_result"
    }
   ],
   "source": [
    "df.shape"
   ]
  },
  {
   "cell_type": "markdown",
   "metadata": {},
   "source": [
    "В таблице 6737 строк и 6 колонок. "
   ]
  },
  {
   "cell_type": "markdown",
   "metadata": {},
   "source": [
    "[В начало](#0)"
   ]
  },
  {
   "cell_type": "markdown",
   "metadata": {},
   "source": [
    "## <a name=\"2\"> Предобработка данных </a>"
   ]
  },
  {
   "cell_type": "markdown",
   "metadata": {},
   "source": [
    "Проверим типы данных в столбцах и наличие пропусков:"
   ]
  },
  {
   "cell_type": "code",
   "execution_count": 4,
   "metadata": {},
   "outputs": [
    {
     "name": "stdout",
     "output_type": "stream",
     "text": [
      "<class 'pandas.core.frame.DataFrame'>\n",
      "RangeIndex: 6737 entries, 0 to 6736\n",
      "Data columns (total 6 columns):\n",
      " #   Column       Non-Null Count  Dtype  \n",
      "---  ------       --------------  -----  \n",
      " 0   date         6737 non-null   int64  \n",
      " 1   customer_id  6737 non-null   object \n",
      " 2   order_id     6737 non-null   int64  \n",
      " 3   product      6737 non-null   object \n",
      " 4   quantity     6737 non-null   int64  \n",
      " 5   price        6737 non-null   float64\n",
      "dtypes: float64(1), int64(3), object(2)\n",
      "memory usage: 315.9+ KB\n"
     ]
    }
   ],
   "source": [
    "df.info()"
   ]
  },
  {
   "cell_type": "markdown",
   "metadata": {},
   "source": [
    "Пропусков в данных нет. \n",
    "\n",
    "Но основе столбца `date` создадим столбец `datetime` с датой и временем, применив маску `%Y%m%d%H`. А в самом столбце `date` оставим только дату:"
   ]
  },
  {
   "cell_type": "code",
   "execution_count": 5,
   "metadata": {},
   "outputs": [
    {
     "data": {
      "text/plain": [
       "(dtype('<M8[ns]'), dtype('<M8[ns]'))"
      ]
     },
     "execution_count": 5,
     "metadata": {},
     "output_type": "execute_result"
    }
   ],
   "source": [
    "df['datetime'] = pd.to_datetime(df['date'], format='%Y%m%d%H')\n",
    "df['date'] = df['datetime'].astype('datetime64[D]')\n",
    "df['date'].dtype, df['datetime'].dtype"
   ]
  },
  {
   "cell_type": "markdown",
   "metadata": {},
   "source": [
    "Полученный тип данных является типом `datetime`, в чём легко убедиться:"
   ]
  },
  {
   "cell_type": "code",
   "execution_count": 6,
   "metadata": {},
   "outputs": [
    {
     "data": {
      "text/plain": [
       "True"
      ]
     },
     "execution_count": 6,
     "metadata": {},
     "output_type": "execute_result"
    }
   ],
   "source": [
    "np.dtype('datetime64[ns]') == np.dtype('<M8[ns]')"
   ]
  },
  {
   "cell_type": "markdown",
   "metadata": {},
   "source": [
    "Теперь проверим наличие строк-дублей в таблице:"
   ]
  },
  {
   "cell_type": "code",
   "execution_count": 7,
   "metadata": {},
   "outputs": [
    {
     "data": {
      "text/plain": [
       "0"
      ]
     },
     "execution_count": 7,
     "metadata": {},
     "output_type": "execute_result"
    }
   ],
   "source": [
    "df.duplicated().sum()"
   ]
  },
  {
   "cell_type": "markdown",
   "metadata": {},
   "source": [
    "Строк-дублей нет."
   ]
  },
  {
   "cell_type": "markdown",
   "metadata": {},
   "source": [
    "## <a name=\"3\"> Исследовательский анализ данных </a>"
   ]
  },
  {
   "cell_type": "markdown",
   "metadata": {},
   "source": [
    "### <a name=\"3.1\"> Статистические характеристики </a>"
   ]
  },
  {
   "cell_type": "markdown",
   "metadata": {},
   "source": [
    "Посмотрим на статистические характеристики данных в столбцах:"
   ]
  },
  {
   "cell_type": "code",
   "execution_count": 8,
   "metadata": {},
   "outputs": [
    {
     "data": {
      "text/html": [
       "<div>\n",
       "<style scoped>\n",
       "    .dataframe tbody tr th:only-of-type {\n",
       "        vertical-align: middle;\n",
       "    }\n",
       "\n",
       "    .dataframe tbody tr th {\n",
       "        vertical-align: top;\n",
       "    }\n",
       "\n",
       "    .dataframe thead th {\n",
       "        text-align: right;\n",
       "    }\n",
       "</style>\n",
       "<table border=\"1\" class=\"dataframe\">\n",
       "  <thead>\n",
       "    <tr style=\"text-align: right;\">\n",
       "      <th></th>\n",
       "      <th>count</th>\n",
       "      <th>mean</th>\n",
       "      <th>std</th>\n",
       "      <th>min</th>\n",
       "      <th>25%</th>\n",
       "      <th>50%</th>\n",
       "      <th>75%</th>\n",
       "      <th>max</th>\n",
       "    </tr>\n",
       "  </thead>\n",
       "  <tbody>\n",
       "    <tr>\n",
       "      <th>order_id</th>\n",
       "      <td>6737.0</td>\n",
       "      <td>43128.948345</td>\n",
       "      <td>27899.414662</td>\n",
       "      <td>12624.0</td>\n",
       "      <td>14827.0</td>\n",
       "      <td>68503.0</td>\n",
       "      <td>70504.0</td>\n",
       "      <td>73164.0</td>\n",
       "    </tr>\n",
       "    <tr>\n",
       "      <th>quantity</th>\n",
       "      <td>6737.0</td>\n",
       "      <td>2.501559</td>\n",
       "      <td>15.266478</td>\n",
       "      <td>1.0</td>\n",
       "      <td>1.0</td>\n",
       "      <td>1.0</td>\n",
       "      <td>1.0</td>\n",
       "      <td>1000.0</td>\n",
       "    </tr>\n",
       "    <tr>\n",
       "      <th>price</th>\n",
       "      <td>6737.0</td>\n",
       "      <td>462.028499</td>\n",
       "      <td>871.296064</td>\n",
       "      <td>9.0</td>\n",
       "      <td>101.0</td>\n",
       "      <td>135.0</td>\n",
       "      <td>398.0</td>\n",
       "      <td>14917.0</td>\n",
       "    </tr>\n",
       "  </tbody>\n",
       "</table>\n",
       "</div>"
      ],
      "text/plain": [
       "           count          mean           std      min      25%      50%  \\\n",
       "order_id  6737.0  43128.948345  27899.414662  12624.0  14827.0  68503.0   \n",
       "quantity  6737.0      2.501559     15.266478      1.0      1.0      1.0   \n",
       "price     6737.0    462.028499    871.296064      9.0    101.0    135.0   \n",
       "\n",
       "              75%      max  \n",
       "order_id  70504.0  73164.0  \n",
       "quantity      1.0   1000.0  \n",
       "price       398.0  14917.0  "
      ]
     },
     "execution_count": 8,
     "metadata": {},
     "output_type": "execute_result"
    }
   ],
   "source": [
    "df.describe().T"
   ]
  },
  {
   "cell_type": "code",
   "execution_count": 9,
   "metadata": {},
   "outputs": [
    {
     "data": {
      "text/html": [
       "<div>\n",
       "<style scoped>\n",
       "    .dataframe tbody tr th:only-of-type {\n",
       "        vertical-align: middle;\n",
       "    }\n",
       "\n",
       "    .dataframe tbody tr th {\n",
       "        vertical-align: top;\n",
       "    }\n",
       "\n",
       "    .dataframe thead th {\n",
       "        text-align: right;\n",
       "    }\n",
       "</style>\n",
       "<table border=\"1\" class=\"dataframe\">\n",
       "  <thead>\n",
       "    <tr style=\"text-align: right;\">\n",
       "      <th></th>\n",
       "      <th>count</th>\n",
       "      <th>unique</th>\n",
       "      <th>top</th>\n",
       "      <th>freq</th>\n",
       "    </tr>\n",
       "  </thead>\n",
       "  <tbody>\n",
       "    <tr>\n",
       "      <th>customer_id</th>\n",
       "      <td>6737</td>\n",
       "      <td>2451</td>\n",
       "      <td>1d6c8c1f-a799-4418-9af2-1ded47d7a85c</td>\n",
       "      <td>888</td>\n",
       "    </tr>\n",
       "    <tr>\n",
       "      <th>product</th>\n",
       "      <td>6737</td>\n",
       "      <td>2343</td>\n",
       "      <td>Рассада Кабачка сорт Зебра кассета 6 шт E6</td>\n",
       "      <td>79</td>\n",
       "    </tr>\n",
       "  </tbody>\n",
       "</table>\n",
       "</div>"
      ],
      "text/plain": [
       "            count unique                                         top freq\n",
       "customer_id  6737   2451        1d6c8c1f-a799-4418-9af2-1ded47d7a85c  888\n",
       "product      6737   2343  Рассада Кабачка сорт Зебра кассета 6 шт E6   79"
      ]
     },
     "execution_count": 9,
     "metadata": {},
     "output_type": "execute_result"
    }
   ],
   "source": [
    "df.describe(include='O').T"
   ]
  },
  {
   "cell_type": "code",
   "execution_count": 10,
   "metadata": {},
   "outputs": [
    {
     "data": {
      "text/html": [
       "<div>\n",
       "<style scoped>\n",
       "    .dataframe tbody tr th:only-of-type {\n",
       "        vertical-align: middle;\n",
       "    }\n",
       "\n",
       "    .dataframe tbody tr th {\n",
       "        vertical-align: top;\n",
       "    }\n",
       "\n",
       "    .dataframe thead th {\n",
       "        text-align: right;\n",
       "    }\n",
       "</style>\n",
       "<table border=\"1\" class=\"dataframe\">\n",
       "  <thead>\n",
       "    <tr style=\"text-align: right;\">\n",
       "      <th></th>\n",
       "      <th>count</th>\n",
       "      <th>unique</th>\n",
       "      <th>top</th>\n",
       "      <th>freq</th>\n",
       "      <th>first</th>\n",
       "      <th>last</th>\n",
       "    </tr>\n",
       "  </thead>\n",
       "  <tbody>\n",
       "    <tr>\n",
       "      <th>date</th>\n",
       "      <td>6737</td>\n",
       "      <td>394</td>\n",
       "      <td>2019-05-13</td>\n",
       "      <td>146</td>\n",
       "      <td>2018-10-01</td>\n",
       "      <td>2019-10-31</td>\n",
       "    </tr>\n",
       "  </tbody>\n",
       "</table>\n",
       "</div>"
      ],
      "text/plain": [
       "     count unique        top freq      first       last\n",
       "date  6737    394 2019-05-13  146 2018-10-01 2019-10-31"
      ]
     },
     "execution_count": 10,
     "metadata": {},
     "output_type": "execute_result"
    }
   ],
   "source": [
    "df[['date']].describe().T"
   ]
  },
  {
   "cell_type": "markdown",
   "metadata": {},
   "source": [
    "Можно вынести следующую полезную информацию:\n",
    "- в среднем покупают 2,5 товара одного наименования, но есть заказ, где купили сразу 1000 одинаковых товаров;\n",
    "- цены на товары колеблются от 9 до 14 917 ден. ед., а средняя цена - 462 ден. ед.;\n",
    "- чаще всего (79 раз) покупали `Рассада Кабачка сорт Зебра кассета 6 шт E6`;\n",
    "- диапазон рассматриваемого времени: 10 января 2018 - 31 октября 2019;\n",
    "- у магазина 2451 уникальных покупателя, а ассортимент состоит из 2343 уникальных товара."
   ]
  },
  {
   "cell_type": "code",
   "execution_count": 11,
   "metadata": {},
   "outputs": [
    {
     "data": {
      "text/plain": [
       "2784"
      ]
     },
     "execution_count": 11,
     "metadata": {},
     "output_type": "execute_result"
    }
   ],
   "source": [
    "df['order_id'].nunique()"
   ]
  },
  {
   "cell_type": "markdown",
   "metadata": {},
   "source": [
    "Всего было сделано 2784 заказа."
   ]
  },
  {
   "cell_type": "markdown",
   "metadata": {},
   "source": [
    "[В начало](#0)"
   ]
  },
  {
   "cell_type": "markdown",
   "metadata": {},
   "source": [
    "### <a name=\"3.2\"> Поиск выбросов </a>"
   ]
  },
  {
   "cell_type": "markdown",
   "metadata": {},
   "source": [
    "Проверим, нет ли среди заказов выбросов. Оценивать будем по суммарной выручке, которую принесли заказы. Поэтому сначала добавим столбец `revenue`, в котором перемножим стоимость товара и его количество в заказе:"
   ]
  },
  {
   "cell_type": "code",
   "execution_count": 12,
   "metadata": {},
   "outputs": [],
   "source": [
    "df['revenue'] = df['quantity'] * df['price']"
   ]
  },
  {
   "cell_type": "markdown",
   "metadata": {},
   "source": [
    "Теперь сгруппируем все заказы по `order_id`, найдём суммарную выручку и выведем топ-5 самых крупных заказов:"
   ]
  },
  {
   "cell_type": "code",
   "execution_count": 13,
   "metadata": {},
   "outputs": [
    {
     "data": {
      "text/plain": [
       "order_id\n",
       "71743    675000.0\n",
       "14833    114750.0\n",
       "70960     65220.0\n",
       "68760     50770.0\n",
       "69531     49668.0\n",
       "Name: revenue, dtype: float64"
      ]
     },
     "execution_count": 13,
     "metadata": {},
     "output_type": "execute_result"
    }
   ],
   "source": [
    "orders_revenue = df.groupby('order_id')['revenue'].sum().sort_values(ascending=False)\n",
    "orders_revenue.head()"
   ]
  },
  {
   "cell_type": "markdown",
   "metadata": {},
   "source": [
    "Построим диаграмму размаха (боксплот) выручек с заказов:"
   ]
  },
  {
   "cell_type": "code",
   "execution_count": 14,
   "metadata": {},
   "outputs": [
    {
     "data": {
      "image/png": "[encoded data removed]",
      "text/plain": [
       "<Figure size 360x360 with 1 Axes>"
      ]
     },
     "metadata": {
      "needs_background": "light"
     },
     "output_type": "display_data"
    }
   ],
   "source": [
    "plt.figure(figsize=(5, 5))\n",
    "plt.boxplot(orders_revenue)\n",
    "plt.title(\"Диаграмма размаха выручек с заказов\")\n",
    "plt.ylabel(\"Выручка с заказа\")\n",
    "plt.show()"
   ]
  },
  {
   "cell_type": "markdown",
   "metadata": {},
   "source": [
    "Хорошо заметен выброс - заказ с выручкой 675 000 ден. ед. Также возможно выбросом является следующий по размеру заказ в 114 750 ден. ед. Найдём 99 процентиль:"
   ]
  },
  {
   "cell_type": "code",
   "execution_count": 15,
   "metadata": {},
   "outputs": [
    {
     "data": {
      "text/plain": [
       "11275.500000000011"
      ]
     },
     "execution_count": 15,
     "metadata": {},
     "output_type": "execute_result"
    }
   ],
   "source": [
    "perc_99 = np.percentile(orders_revenue, 99)\n",
    "perc_99"
   ]
  },
  {
   "cell_type": "markdown",
   "metadata": {},
   "source": [
    "Будем считать все заказы дороже `perc_99` выбросами. Выделим их `order_id` и посчитаем количество:"
   ]
  },
  {
   "cell_type": "code",
   "execution_count": 16,
   "metadata": {},
   "outputs": [
    {
     "data": {
      "text/plain": [
       "28"
      ]
     },
     "execution_count": 16,
     "metadata": {},
     "output_type": "execute_result"
    }
   ],
   "source": [
    "outlier_orders = orders_revenue[orders_revenue > perc_99].index\n",
    "len(outlier_orders)"
   ]
  },
  {
   "cell_type": "markdown",
   "metadata": {},
   "source": [
    "Таких заказов 28 штук. Оставим в таблице только 99% самых дешёвых заказов:"
   ]
  },
  {
   "cell_type": "code",
   "execution_count": 17,
   "metadata": {},
   "outputs": [],
   "source": [
    "df = df.query('order_id not in @outlier_orders')"
   ]
  },
  {
   "cell_type": "markdown",
   "metadata": {},
   "source": [
    "Проверим, что выбросов больше нет в таблице:"
   ]
  },
  {
   "cell_type": "code",
   "execution_count": 18,
   "metadata": {},
   "outputs": [
    {
     "data": {
      "text/html": [
       "<div>\n",
       "<style scoped>\n",
       "    .dataframe tbody tr th:only-of-type {\n",
       "        vertical-align: middle;\n",
       "    }\n",
       "\n",
       "    .dataframe tbody tr th {\n",
       "        vertical-align: top;\n",
       "    }\n",
       "\n",
       "    .dataframe thead th {\n",
       "        text-align: right;\n",
       "    }\n",
       "</style>\n",
       "<table border=\"1\" class=\"dataframe\">\n",
       "  <thead>\n",
       "    <tr style=\"text-align: right;\">\n",
       "      <th></th>\n",
       "      <th>date</th>\n",
       "      <th>customer_id</th>\n",
       "      <th>order_id</th>\n",
       "      <th>product</th>\n",
       "      <th>quantity</th>\n",
       "      <th>price</th>\n",
       "      <th>datetime</th>\n",
       "      <th>revenue</th>\n",
       "    </tr>\n",
       "  </thead>\n",
       "  <tbody>\n",
       "  </tbody>\n",
       "</table>\n",
       "</div>"
      ],
      "text/plain": [
       "Empty DataFrame\n",
       "Columns: [date, customer_id, order_id, product, quantity, price, datetime, revenue]\n",
       "Index: []"
      ]
     },
     "execution_count": 18,
     "metadata": {},
     "output_type": "execute_result"
    }
   ],
   "source": [
    "df.query('order_id in @outlier_orders')"
   ]
  },
  {
   "cell_type": "markdown",
   "metadata": {},
   "source": [
    "Посмотрим, сколько строк теперь в таблице:"
   ]
  },
  {
   "cell_type": "code",
   "execution_count": 19,
   "metadata": {},
   "outputs": [
    {
     "data": {
      "text/plain": [
       "5450"
      ]
     },
     "execution_count": 19,
     "metadata": {},
     "output_type": "execute_result"
    }
   ],
   "source": [
    "len(df)"
   ]
  },
  {
   "cell_type": "markdown",
   "metadata": {},
   "source": [
    "А было 6737 строк. То есть 1287 строк (или 19%) приходились на 1% заказов, которые мы отнесли к выбросам. Мы потеряли много данных, но они и не описывали бóльшую часть заказов. Поэтому их удаление будем считать рациональным."
   ]
  },
  {
   "cell_type": "markdown",
   "metadata": {},
   "source": [
    "Проверим данные на наличие выбросов в столбце `quantity`. Для этого построим диаграмму размаха количества товаров в заказах:"
   ]
  },
  {
   "cell_type": "code",
   "execution_count": 20,
   "metadata": {},
   "outputs": [
    {
     "data": {
      "image/png": "[encoded data removed]",
      "text/plain": [
       "<Figure size 360x360 with 1 Axes>"
      ]
     },
     "metadata": {
      "needs_background": "light"
     },
     "output_type": "display_data"
    }
   ],
   "source": [
    "plt.figure(figsize=(5, 5))\n",
    "plt.boxplot(df['quantity'])\n",
    "plt.title(\"Диаграмма размаха количества товаров в заказах\")\n",
    "plt.ylabel(\"Количество товаров в заказе\")\n",
    "plt.show()"
   ]
  },
  {
   "cell_type": "markdown",
   "metadata": {},
   "source": [
    "Большинство значений находятся в нижней части диаграммы. Выберем границей между нормальными значениями и выбросами 99 процентиль:"
   ]
  },
  {
   "cell_type": "code",
   "execution_count": 21,
   "metadata": {},
   "outputs": [
    {
     "data": {
      "text/plain": [
       "29.51000000000022"
      ]
     },
     "execution_count": 21,
     "metadata": {},
     "output_type": "execute_result"
    }
   ],
   "source": [
    "perc_99 = np.percentile(df['quantity'], 99)\n",
    "perc_99"
   ]
  },
  {
   "cell_type": "markdown",
   "metadata": {},
   "source": [
    "Будем считать все строчки таблицы, где значение в столбце `quantity` больше perc_99, выбросами. Удалим их из таблицы:"
   ]
  },
  {
   "cell_type": "code",
   "execution_count": 22,
   "metadata": {},
   "outputs": [],
   "source": [
    "df = df.query('quantity <= @perc_99')"
   ]
  },
  {
   "cell_type": "markdown",
   "metadata": {},
   "source": [
    "Посмотрим, сколько строк теперь в таблице:"
   ]
  },
  {
   "cell_type": "code",
   "execution_count": 23,
   "metadata": {},
   "outputs": [
    {
     "data": {
      "text/plain": [
       "5395"
      ]
     },
     "execution_count": 23,
     "metadata": {},
     "output_type": "execute_result"
    }
   ],
   "source": [
    "len(df)"
   ]
  },
  {
   "cell_type": "markdown",
   "metadata": {},
   "source": [
    "А было 5450 строк. То есть 55 строк (или 1%) приходились заказы с аномально большим количество заказанных товаров. Мы удалили небольшое количество данных, но при этом устранили риск работы с ошибочными данными."
   ]
  },
  {
   "cell_type": "markdown",
   "metadata": {},
   "source": [
    "[В начало](#0)"
   ]
  },
  {
   "cell_type": "markdown",
   "metadata": {},
   "source": [
    "### <a name=\"3.3\"> Исследование аномалий в датах заказов </a>"
   ]
  },
  {
   "cell_type": "markdown",
   "metadata": {},
   "source": [
    "Проверим, не меняется ли дата у одних и тех же заказов. Сгруппируем заказы по `order_id` и посчитаем все уникальные `date`:"
   ]
  },
  {
   "cell_type": "code",
   "execution_count": 24,
   "metadata": {},
   "outputs": [
    {
     "data": {
      "text/plain": [
       "order_id\n",
       "69162    15\n",
       "13547     7\n",
       "70419     6\n",
       "71463     6\n",
       "70962     6\n",
       "Name: date, dtype: int64"
      ]
     },
     "execution_count": 24,
     "metadata": {},
     "output_type": "execute_result"
    }
   ],
   "source": [
    "df.groupby('order_id')['date'].nunique().sort_values(ascending=False).head()"
   ]
  },
  {
   "cell_type": "markdown",
   "metadata": {},
   "source": [
    "Несколько дат у одного и тоже заказа может означать или ошибку в данных, или специфику записи данных в БД. Если второе предположение верно, то возможно, что каждая запись - это всего лишь добавление товара в корзину на сайте.\n",
    "\n",
    "Посмотрим, какой диапазон времени встречается у одних и тех же заказов - от добавления первого товара в корзину до последнего:"
   ]
  },
  {
   "cell_type": "code",
   "execution_count": 25,
   "metadata": {},
   "outputs": [
    {
     "data": {
      "text/html": [
       "<div>\n",
       "<style scoped>\n",
       "    .dataframe tbody tr th:only-of-type {\n",
       "        vertical-align: middle;\n",
       "    }\n",
       "\n",
       "    .dataframe tbody tr th {\n",
       "        vertical-align: top;\n",
       "    }\n",
       "\n",
       "    .dataframe thead th {\n",
       "        text-align: right;\n",
       "    }\n",
       "</style>\n",
       "<table border=\"1\" class=\"dataframe\">\n",
       "  <thead>\n",
       "    <tr style=\"text-align: right;\">\n",
       "      <th></th>\n",
       "      <th>order_id</th>\n",
       "      <th>min</th>\n",
       "      <th>max</th>\n",
       "      <th>range</th>\n",
       "    </tr>\n",
       "  </thead>\n",
       "  <tbody>\n",
       "    <tr>\n",
       "      <th>1948</th>\n",
       "      <td>71663</td>\n",
       "      <td>2019-06-10</td>\n",
       "      <td>2019-09-05</td>\n",
       "      <td>87 days</td>\n",
       "    </tr>\n",
       "    <tr>\n",
       "      <th>1024</th>\n",
       "      <td>69797</td>\n",
       "      <td>2019-01-12</td>\n",
       "      <td>2019-04-05</td>\n",
       "      <td>83 days</td>\n",
       "    </tr>\n",
       "    <tr>\n",
       "      <th>1886</th>\n",
       "      <td>71542</td>\n",
       "      <td>2019-05-28</td>\n",
       "      <td>2019-08-07</td>\n",
       "      <td>71 days</td>\n",
       "    </tr>\n",
       "    <tr>\n",
       "      <th>1670</th>\n",
       "      <td>71054</td>\n",
       "      <td>2019-04-07</td>\n",
       "      <td>2019-06-05</td>\n",
       "      <td>59 days</td>\n",
       "    </tr>\n",
       "    <tr>\n",
       "      <th>800</th>\n",
       "      <td>69310</td>\n",
       "      <td>2018-12-11</td>\n",
       "      <td>2019-02-03</td>\n",
       "      <td>54 days</td>\n",
       "    </tr>\n",
       "  </tbody>\n",
       "</table>\n",
       "</div>"
      ],
      "text/plain": [
       "      order_id        min        max   range\n",
       "1948     71663 2019-06-10 2019-09-05 87 days\n",
       "1024     69797 2019-01-12 2019-04-05 83 days\n",
       "1886     71542 2019-05-28 2019-08-07 71 days\n",
       "1670     71054 2019-04-07 2019-06-05 59 days\n",
       "800      69310 2018-12-11 2019-02-03 54 days"
      ]
     },
     "execution_count": 25,
     "metadata": {},
     "output_type": "execute_result"
    }
   ],
   "source": [
    "orders_date_range = df.groupby('order_id', as_index=False).agg({'date': ['min', 'max']})\n",
    "orders_date_range.columns = ['order_id', 'min', 'max']\n",
    "orders_date_range['range'] = orders_date_range['max'] - orders_date_range['min']\n",
    "orders_date_range.sort_values('range', ascending=False).head()"
   ]
  },
  {
   "cell_type": "markdown",
   "metadata": {},
   "source": [
    "Видим, что заказы собирались до 87 дней. Так как мы не можем исключить, что в данных просто ошибки, то определим границу, ниже которой будем считать, что заказ собирается, а выше - что в данных ошибка. Границей примем 7 дней.\n",
    "\n",
    "Выберем все заказы, которые собирались более 7 дней, и посчитаем их количество:"
   ]
  },
  {
   "cell_type": "code",
   "execution_count": 26,
   "metadata": {},
   "outputs": [
    {
     "data": {
      "text/plain": [
       "32"
      ]
     },
     "execution_count": 26,
     "metadata": {},
     "output_type": "execute_result"
    }
   ],
   "source": [
    "outlier_orders_2 = orders_date_range.query('range > \"7 days\"')['order_id'].to_list()\n",
    "len(outlier_orders_2)"
   ]
  },
  {
   "cell_type": "markdown",
   "metadata": {},
   "source": [
    "Таких заказов 32 штуки. Оставим в таблице только заказы, которые собирались 7 и менее дней:"
   ]
  },
  {
   "cell_type": "code",
   "execution_count": 27,
   "metadata": {},
   "outputs": [],
   "source": [
    "df = df.query('order_id not in @outlier_orders_2')"
   ]
  },
  {
   "cell_type": "markdown",
   "metadata": {},
   "source": [
    "Проверим, что аномально долгих заказов больше нет в таблице:"
   ]
  },
  {
   "cell_type": "code",
   "execution_count": 28,
   "metadata": {},
   "outputs": [
    {
     "data": {
      "text/plain": [
       "order_id\n",
       "70419    6\n",
       "69109    4\n",
       "72518    4\n",
       "70115    4\n",
       "70567    4\n",
       "Name: date, dtype: int64"
      ]
     },
     "execution_count": 28,
     "metadata": {},
     "output_type": "execute_result"
    }
   ],
   "source": [
    "df.groupby('order_id')['date'].nunique().sort_values(ascending=False).head()"
   ]
  },
  {
   "cell_type": "markdown",
   "metadata": {},
   "source": [
    "Посмотрим, сколько строк теперь в таблице:"
   ]
  },
  {
   "cell_type": "code",
   "execution_count": 29,
   "metadata": {},
   "outputs": [
    {
     "data": {
      "text/plain": [
       "5207"
      ]
     },
     "execution_count": 29,
     "metadata": {},
     "output_type": "execute_result"
    }
   ],
   "source": [
    "len(df)"
   ]
  },
  {
   "cell_type": "markdown",
   "metadata": {},
   "source": [
    "А было 5395 строк. То есть 188 строк (или 3,5%) приходились на заказы, которые собирались более 7 дней. Мы потеряли относительно немного данных и при этом избавились от сомнительных заказов."
   ]
  },
  {
   "cell_type": "markdown",
   "metadata": {},
   "source": [
    "[В начало](#0)"
   ]
  },
  {
   "cell_type": "markdown",
   "metadata": {},
   "source": [
    "## <a name=\"4\"> Категоризация товаров </a>"
   ]
  },
  {
   "cell_type": "markdown",
   "metadata": {},
   "source": [
    "Посчитаем количество наименований товаров после удаления выбросов и аномальных заказов:"
   ]
  },
  {
   "cell_type": "code",
   "execution_count": 30,
   "metadata": {},
   "outputs": [
    {
     "data": {
      "text/plain": [
       "2262"
      ]
     },
     "execution_count": 30,
     "metadata": {},
     "output_type": "execute_result"
    }
   ],
   "source": [
    "df['product'].nunique()"
   ]
  },
  {
   "cell_type": "markdown",
   "metadata": {},
   "source": [
    "А было 2343 уникальных товара. Удалены 81 товар или 3,4% наименований."
   ]
  },
  {
   "cell_type": "markdown",
   "metadata": {},
   "source": [
    "Теперь попробуем разбить их на категории. Для этого соберём ключевые слова, которые встречаются в названиях товаров, и разложим их по тематическим спискам:"
   ]
  },
  {
   "cell_type": "code",
   "execution_count": 31,
   "metadata": {},
   "outputs": [],
   "source": [
    "artificial_plants_and_fruits = ['муляж', 'искусственн', 'искуственн']\n",
    "\n",
    "kitchen = ['термокружка', 'вилка', 'ложка', 'контейнер', 'нож', 'кувшин', 'салфет', 'овоще', 'чайник'\n",
    "           , 'просеиватель', 'кухон', 'банка', 'стакан', 'кастрюля', 'чайный', 'кружка', 'сковород', 'тарелка'\n",
    "           , 'противень', 'дуршлаг', 'бидон', 'термос', 'рыбочистка', 'толкушка', 'лопатка', 'скатерть', 'ковш'\n",
    "           , 'холодца', 'выпечк', 'пресс', 'разделочная', 'пьезозажигалка', 'миксер', 'посуды', 'масленка'\n",
    "           , 'мантоварка', 'антижир', 'картофелемялка', 'миска', 'блюдце', 'хлебница', 'блюдо', 'сахарница'\n",
    "           , 'терка', 'крышка', 'яйца', 'половник', 'подушка', 'посудомоечных', 'рассекатель', 'фужеров'\n",
    "           , 'кексов', 'столовых', 'орехоколка', 'бокалов', 'кружек', 'сито', 'скалка', 'отделитель', 'соко'\n",
    "           , 'кондитерский', 'пищев', 'сотейник', 'котел', 'тортница', 'электроштопор', 'салатник']\n",
    "\n",
    "bathroom = ['сиденье', 'ёрш', 'ерш', 'ванн', 'полотен', 'зубная', 'вантуз', 'мыло', 'фен', 'дозатор', 'халат'\n",
    "            , 'подголовник', 'маска']\n",
    "\n",
    "cleaning = ['сушилка', 'корыто', 'щетка', 'щётка', 'веник', 'ведро', 'пылесос', 'микрофибр', 'швабра', 'налета'\n",
    "            , 'прищеп', 'гладильн', 'подрукавник', 'глажения', 'досок', 'корзина', 'насадка', 'ролика', 'мытья'\n",
    "            , 'губка', 'утюг', 'подкладка', 'перчатки', 'тряпкодержатель', 'окномойка', 'отжим', 'стирки'\n",
    "            , 'отбеливатель', 'совок', 'засоров', 'стиральн', 'пластмассов', 'сметка', 'алюминиев', 'чистк'\n",
    "            , 'чистящ', 'белья']\n",
    "\n",
    "furniture = ['коврик', 'обув', 'вешал', 'полки', 'комод', 'простын', 'покрывало', 'костюм', 'ящик', 'кашпо'\n",
    "             , 'фоторамка', 'ковер', 'ковёр', 'плед', 'напольные', 'пуф', 'кофр', 'одежды', 'штор', 'плечики'\n",
    "             , 'пододеяльник', 'наматрицник', 'наматрасник', 'одеяло', 'наволочка', 'светильник', 'мебел', 'коробка'\n",
    "             , 'подставка', 'лоток', 'корзинка', 'ключница', 'урна', 'постельн', 'хранения']\n",
    "\n",
    "instruments = ['болт', 'крючок', 'стремянк', 'фал ', 'шпагат', 'полировки', 'петля', 'скребок', 'пробки', 'крепеж'\n",
    "               , 'инструмент', 'шнур', 'сварка', 'бензин', 'пружина', 'напильников', 'скоба', 'сверел', 'строительн'\n",
    "               , 'сверло', 'термометр', 'вентиляц', 'короб ', 'линейка', 'угольник', 'уголок', 'фиксатор']\n",
    "\n",
    "bags = ['тележк', 'сумка']"
   ]
  },
  {
   "cell_type": "markdown",
   "metadata": {},
   "source": [
    "Для того, чтобы выделить категории, пришлось изучить товары в таблице, а именно многократно выводить значения столбца 'product'. В ходе многократных повторений выписывались ключевые слова из названий продуктов. Через какое-то время стало понятно, на какие категории по смыслу можно поделить товары. Для каждой категории был создан список, который наполнялся ключевыми словами. А чтобы при многократном повторении вывода значений столбца 'product' мы не встречали снова уже категоризированные товары, то они исключались из таблицы. Таким образом в таблице остались только товары категории \"расстения и семена\"."
   ]
  },
  {
   "cell_type": "markdown",
   "metadata": {},
   "source": [
    "Так как в таблице встречается много расстений и семян, то чтобы не выписывать их все ключевые слова, просто отнесём к этой категории все оставшиеся товары. Итого у нас получится 8 категорий товаров.\n",
    "\n",
    "Напишем функцию, которая определит наличие ключевого слова в названии товара и отнесёт товар к одной из категорий:"
   ]
  },
  {
   "cell_type": "code",
   "execution_count": 32,
   "metadata": {},
   "outputs": [],
   "source": [
    "def to_category(product_name):\n",
    "    if any(i in product_name.lower() for i in artificial_plants_and_fruits):\n",
    "        return 'искусственные растения и фрукты'\n",
    "    elif any(i in product_name.lower() for i in bags):\n",
    "        return 'сумки-тележки и принадлежности'\n",
    "    elif any(i in product_name.lower() for i in cleaning):\n",
    "        return 'товары для уборки'\n",
    "    elif any(i in product_name.lower() for i in kitchen):\n",
    "        return 'товары для кухни'\n",
    "    elif any(i in product_name.lower() for i in bathroom):\n",
    "        return 'товары для с/у'\n",
    "    elif any(i in product_name.lower() for i in furniture):\n",
    "        return 'предметы интерьера'\n",
    "    elif any(i in product_name.lower() for i in instruments):\n",
    "        return 'строительные инструменты'\n",
    "    else:\n",
    "        return 'растения и семена'"
   ]
  },
  {
   "cell_type": "markdown",
   "metadata": {},
   "source": [
    "Применим функцию и категоризируем товары:"
   ]
  },
  {
   "cell_type": "code",
   "execution_count": 33,
   "metadata": {},
   "outputs": [],
   "source": [
    "df['product_category'] = df['product'].apply(to_category)"
   ]
  },
  {
   "cell_type": "markdown",
   "metadata": {},
   "source": [
    "Теперь посмотрим, сколько в каждой категории наименований товаров:"
   ]
  },
  {
   "cell_type": "code",
   "execution_count": 34,
   "metadata": {},
   "outputs": [
    {
     "data": {
      "text/html": [
       "<div>\n",
       "<style scoped>\n",
       "    .dataframe tbody tr th:only-of-type {\n",
       "        vertical-align: middle;\n",
       "    }\n",
       "\n",
       "    .dataframe tbody tr th {\n",
       "        vertical-align: top;\n",
       "    }\n",
       "\n",
       "    .dataframe thead th {\n",
       "        text-align: right;\n",
       "    }\n",
       "</style>\n",
       "<table border=\"1\" class=\"dataframe\">\n",
       "  <thead>\n",
       "    <tr style=\"text-align: right;\">\n",
       "      <th></th>\n",
       "      <th>product_category</th>\n",
       "      <th>product</th>\n",
       "    </tr>\n",
       "  </thead>\n",
       "  <tbody>\n",
       "    <tr>\n",
       "      <th>2</th>\n",
       "      <td>растения и семена</td>\n",
       "      <td>897</td>\n",
       "    </tr>\n",
       "    <tr>\n",
       "      <th>7</th>\n",
       "      <td>товары для уборки</td>\n",
       "      <td>442</td>\n",
       "    </tr>\n",
       "    <tr>\n",
       "      <th>5</th>\n",
       "      <td>товары для кухни</td>\n",
       "      <td>299</td>\n",
       "    </tr>\n",
       "    <tr>\n",
       "      <th>1</th>\n",
       "      <td>предметы интерьера</td>\n",
       "      <td>209</td>\n",
       "    </tr>\n",
       "    <tr>\n",
       "      <th>0</th>\n",
       "      <td>искусственные растения и фрукты</td>\n",
       "      <td>130</td>\n",
       "    </tr>\n",
       "    <tr>\n",
       "      <th>6</th>\n",
       "      <td>товары для с/у</td>\n",
       "      <td>123</td>\n",
       "    </tr>\n",
       "    <tr>\n",
       "      <th>4</th>\n",
       "      <td>сумки-тележки и принадлежности</td>\n",
       "      <td>107</td>\n",
       "    </tr>\n",
       "    <tr>\n",
       "      <th>3</th>\n",
       "      <td>строительные инструменты</td>\n",
       "      <td>55</td>\n",
       "    </tr>\n",
       "  </tbody>\n",
       "</table>\n",
       "</div>"
      ],
      "text/plain": [
       "                  product_category  product\n",
       "2                растения и семена      897\n",
       "7                товары для уборки      442\n",
       "5                 товары для кухни      299\n",
       "1               предметы интерьера      209\n",
       "0  искусственные растения и фрукты      130\n",
       "6                   товары для с/у      123\n",
       "4   сумки-тележки и принадлежности      107\n",
       "3         строительные инструменты       55"
      ]
     },
     "execution_count": 34,
     "metadata": {},
     "output_type": "execute_result"
    }
   ],
   "source": [
    "categories_amount = df.groupby(['product', 'product_category'])[['order_id']].nunique().reset_index()\\\n",
    ".groupby('product_category', as_index=False)['product'].count().sort_values('product', ascending=False)\n",
    "categories_amount"
   ]
  },
  {
   "cell_type": "code",
   "execution_count": 35,
   "metadata": {},
   "outputs": [
    {
     "data": {
      "image/png": "[encoded data removed]",
      "text/plain": [
       "<Figure size 1080x216 with 1 Axes>"
      ]
     },
     "metadata": {
      "needs_background": "light"
     },
     "output_type": "display_data"
    }
   ],
   "source": [
    "categories_amount.plot(x='product_category', y='product', kind='bar', figsize=(15, 3), legend=False, alpha=.5)\n",
    "plt.title(\"Количество наименований товаров в зависимости категории\")\n",
    "plt.xlabel(\"Категория\")\n",
    "plt.ylabel(\"Количество наименований\") \n",
    "plt.xticks(rotation=-30, ha='left')\n",
    "plt.show()"
   ]
  },
  {
   "cell_type": "markdown",
   "metadata": {},
   "source": [
    "Наибольшая по количеству наименований товаров категория - \"растения и семена\". В ней около 900 товаров. Наиболее специфичная и узкая - \"сумки-тележки и принадлежности\". Однако она достаточно большая, чтобы её выделить как отдельную категорию."
   ]
  },
  {
   "cell_type": "markdown",
   "metadata": {},
   "source": [
    "[В начало](#0)"
   ]
  },
  {
   "cell_type": "markdown",
   "metadata": {},
   "source": [
    "## <a name=\"5\"> Выделение основного и дополнительного ассортимента </a>"
   ]
  },
  {
   "cell_type": "markdown",
   "metadata": {},
   "source": [
    "Внутри каждой категории выделим основной и дополнительный ассортимент. Разделять товары будем на основании двух признаков: размер принесённой выручки и популярность у покупателей (количество заказов). Для разделения воспользуемся алгоритмом KMeans, который решает задачу кластеризации с заданным количеством групп, в нашем случае - 2.\n",
    "\n",
    "В результате работы алгоритма мы получим список всех товаров с расставленными лёйблами (к какой из двух групп они относятся). А оценить работу алгоритма наглядно мы сможем с помощью диаграмм рассеяния от признаков выручки с товара и количества заказов."
   ]
  },
  {
   "cell_type": "markdown",
   "metadata": {},
   "source": [
    "Создадим список всех категорий товаров:"
   ]
  },
  {
   "cell_type": "code",
   "execution_count": 36,
   "metadata": {},
   "outputs": [
    {
     "data": {
      "text/plain": [
       "array(['растения и семена', 'товары для уборки', 'предметы интерьера',\n",
       "       'сумки-тележки и принадлежности',\n",
       "       'искусственные растения и фрукты', 'товары для кухни',\n",
       "       'товары для с/у', 'строительные инструменты'], dtype=object)"
      ]
     },
     "execution_count": 36,
     "metadata": {},
     "output_type": "execute_result"
    }
   ],
   "source": [
    "categories = df['product_category'].unique()\n",
    "categories"
   ]
  },
  {
   "cell_type": "markdown",
   "metadata": {},
   "source": [
    "Создадим таблицу для наполнения товарами и их лейблами (к какой группе из двух относятся):"
   ]
  },
  {
   "cell_type": "code",
   "execution_count": 37,
   "metadata": {},
   "outputs": [],
   "source": [
    "product_labels = pd.DataFrame()"
   ]
  },
  {
   "cell_type": "markdown",
   "metadata": {},
   "source": [
    "Создадим объекты класса `StandardScaler` и `KMeans` для стандартизации признаков и кластеризации объектов на основании этих стандартизированных признаков:"
   ]
  },
  {
   "cell_type": "code",
   "execution_count": 38,
   "metadata": {},
   "outputs": [],
   "source": [
    "scaler = StandardScaler()\n",
    "km = KMeans(n_clusters = 2, random_state=0)"
   ]
  },
  {
   "cell_type": "markdown",
   "metadata": {},
   "source": [
    "Напишем цикл, в котором внутри каждой категории товара будет производиться кластеризация, лэйблы записываться в таблицу `product_labels` и выводиться диаграммы рассеяния для визуальной оценки кластеризации:"
   ]
  },
  {
   "cell_type": "code",
   "execution_count": 39,
   "metadata": {
    "scrolled": false
   },
   "outputs": [
    {
     "data": {
      "image/png": "[encoded data removed]",
      "text/plain": [
       "<Figure size 720x216 with 1 Axes>"
      ]
     },
     "metadata": {
      "needs_background": "light"
     },
     "output_type": "display_data"
    },
    {
     "data": {
      "image/png": "[encoded data removed]",
      "text/plain": [
       "<Figure size 720x216 with 1 Axes>"
      ]
     },
     "metadata": {
      "needs_background": "light"
     },
     "output_type": "display_data"
    },
    {
     "data": {
      "image/png": "[encoded data removed]",
      "text/plain": [
       "<Figure size 720x216 with 1 Axes>"
      ]
     },
     "metadata": {
      "needs_background": "light"
     },
     "output_type": "display_data"
    },
    {
     "data": {
      "image/png": "[encoded data removed]",
      "text/plain": [
       "<Figure size 720x216 with 1 Axes>"
      ]
     },
     "metadata": {
      "needs_background": "light"
     },
     "output_type": "display_data"
    },
    {
     "data": {
      "image/png": "[encoded data removed]",
      "text/plain": [
       "<Figure size 720x216 with 1 Axes>"
      ]
     },
     "metadata": {
      "needs_background": "light"
     },
     "output_type": "display_data"
    },
    {
     "data": {
      "image/png": "[encoded data removed]",
      "text/plain": [
       "<Figure size 720x216 with 1 Axes>"
      ]
     },
     "metadata": {
      "needs_background": "light"
     },
     "output_type": "display_data"
    },
    {
     "data": {
      "image/png": "[encoded data removed]",
      "text/plain": [
       "<Figure size 720x216 with 1 Axes>"
      ]
     },
     "metadata": {
      "needs_background": "light"
     },
     "output_type": "display_data"
    },
    {
     "data": {
      "image/png": "[encoded data removed]",
      "text/plain": [
       "<Figure size 720x216 with 1 Axes>"
      ]
     },
     "metadata": {
      "needs_background": "light"
     },
     "output_type": "display_data"
    }
   ],
   "source": [
    "for category in categories:\n",
    "    X = df.query('product_category == @category').groupby('product')\\\n",
    "    .agg({'order_id': 'nunique', 'revenue': 'sum'})\n",
    "    X_sc = scaler.fit_transform(X)\n",
    "    labels = km.fit_predict(X_sc)\n",
    "    X['label'] = labels\n",
    "    if X.query('label == 0')['revenue'].max() > X.query('label == 1')['revenue'].max():\n",
    "        X['label'] = X['label'].map({0: 1, 1: 0})\n",
    "    product_labels = product_labels.append(X[['label']].reset_index())\n",
    "    plt.figure(figsize=(10, 3))\n",
    "    sns.scatterplot(x='revenue', y='order_id', hue='label', data=X)\n",
    "    sns.despine()\n",
    "    plt.title(f'Взаимосвязь выручки и количества заказов для товаров категории \"{category}\"')\n",
    "    plt.xlabel(\"Выручка от продажи товара\")\n",
    "    plt.ylabel(\"Количество заказов с товаром\") \n",
    "    plt.show()"
   ]
  },
  {
   "cell_type": "markdown",
   "metadata": {},
   "source": [
    "Можно заметить, что все товары с лэйблом `1` как правило принесли больше выручки и/или лучше продавались по сравнению с товарами с лэйблом `0`. Поэтому товары с лэйблом `1` будем считать основным ассортиментом, а с лэйблом `0` - дополнительным. \n",
    "\n",
    "Проверим, что все товары попали в таблицу `product_labels`:"
   ]
  },
  {
   "cell_type": "code",
   "execution_count": 40,
   "metadata": {},
   "outputs": [
    {
     "data": {
      "text/html": [
       "<div>\n",
       "<style scoped>\n",
       "    .dataframe tbody tr th:only-of-type {\n",
       "        vertical-align: middle;\n",
       "    }\n",
       "\n",
       "    .dataframe tbody tr th {\n",
       "        vertical-align: top;\n",
       "    }\n",
       "\n",
       "    .dataframe thead th {\n",
       "        text-align: right;\n",
       "    }\n",
       "</style>\n",
       "<table border=\"1\" class=\"dataframe\">\n",
       "  <thead>\n",
       "    <tr style=\"text-align: right;\">\n",
       "      <th></th>\n",
       "      <th>product</th>\n",
       "      <th>label</th>\n",
       "    </tr>\n",
       "  </thead>\n",
       "  <tbody>\n",
       "    <tr>\n",
       "      <th>57</th>\n",
       "      <td>Муляж Виноград, желтый, 24 см, полиуретан, Fancy Fair/G60-Y</td>\n",
       "      <td>0</td>\n",
       "    </tr>\n",
       "    <tr>\n",
       "      <th>400</th>\n",
       "      <td>Петуния Potunia Plus Purple бургунди с прожилками объем 0,5 л</td>\n",
       "      <td>0</td>\n",
       "    </tr>\n",
       "    <tr>\n",
       "      <th>108</th>\n",
       "      <td>Муляж ЯБЛОКО 9 см красное</td>\n",
       "      <td>0</td>\n",
       "    </tr>\n",
       "    <tr>\n",
       "      <th>728</th>\n",
       "      <td>Фаленопсис королевский Голубой 1 ствол d-12 см</td>\n",
       "      <td>0</td>\n",
       "    </tr>\n",
       "    <tr>\n",
       "      <th>84</th>\n",
       "      <td>Коврик придверный каучуковый 45х75 см черный, Helex, P01</td>\n",
       "      <td>0</td>\n",
       "    </tr>\n",
       "  </tbody>\n",
       "</table>\n",
       "</div>"
      ],
      "text/plain": [
       "                                                           product  label\n",
       "57     Муляж Виноград, желтый, 24 см, полиуретан, Fancy Fair/G60-Y      0\n",
       "400  Петуния Potunia Plus Purple бургунди с прожилками объем 0,5 л      0\n",
       "108                                      Муляж ЯБЛОКО 9 см красное      0\n",
       "728                 Фаленопсис королевский Голубой 1 ствол d-12 см      0\n",
       "84        Коврик придверный каучуковый 45х75 см черный, Helex, P01      0"
      ]
     },
     "execution_count": 40,
     "metadata": {},
     "output_type": "execute_result"
    }
   ],
   "source": [
    "product_labels.sample(5)"
   ]
  },
  {
   "cell_type": "code",
   "execution_count": 41,
   "metadata": {},
   "outputs": [
    {
     "name": "stdout",
     "output_type": "stream",
     "text": [
      "<class 'pandas.core.frame.DataFrame'>\n",
      "Int64Index: 2262 entries, 0 to 54\n",
      "Data columns (total 2 columns):\n",
      " #   Column   Non-Null Count  Dtype \n",
      "---  ------   --------------  ----- \n",
      " 0   product  2262 non-null   object\n",
      " 1   label    2262 non-null   int64 \n",
      "dtypes: int64(1), object(1)\n",
      "memory usage: 53.0+ KB\n"
     ]
    }
   ],
   "source": [
    "product_labels.info()"
   ]
  },
  {
   "cell_type": "markdown",
   "metadata": {},
   "source": [
    "В таблице 2262 товара (то есть мы ничего не потеряли) и у каждого товара теперь есть свой лэйбл."
   ]
  },
  {
   "cell_type": "code",
   "execution_count": 42,
   "metadata": {},
   "outputs": [
    {
     "data": {
      "text/plain": [
       "0    2075\n",
       "1     187\n",
       "Name: label, dtype: int64"
      ]
     },
     "execution_count": 42,
     "metadata": {},
     "output_type": "execute_result"
    }
   ],
   "source": [
    "product_labels['label'].value_counts()"
   ]
  },
  {
   "cell_type": "markdown",
   "metadata": {},
   "source": [
    "При этом 187 товаров относятся к основному ассортименту, а 2075 - к дополнительному."
   ]
  },
  {
   "cell_type": "markdown",
   "metadata": {},
   "source": [
    "В результате кластеризации мы получили для каждого товара лэйбл, то есть метку, к какому ассорименту он относится - основному или дополнительному. Список всех товаров с лэйблами хранится в таблице 'product_labels'.\n",
    "     \n",
    "В будущем при необходимости повторить такую кластеризацию, то есть деление товаров на основной и дополнительный ассортимент, нужно будет взять список товаров с признаками (в нашем случае в качестве признаков были взяты размер выручки и количество заказов, но можно использовать и другие признаки), а затем использовать алгоритм. В результате он вернёт для каждого товара его лэйбл."
   ]
  },
  {
   "cell_type": "markdown",
   "metadata": {},
   "source": [
    "[В начало](#0)"
   ]
  },
  {
   "cell_type": "markdown",
   "metadata": {},
   "source": [
    "## <a name=\"6\"> Проверка гипотезы </a>"
   ]
  },
  {
   "cell_type": "markdown",
   "metadata": {},
   "source": [
    "Проверим гипотезу о том, что товары из основного ассортимента чаще покупают в одиночку, а из дополнительного - вместе с другими товарами. Если переформулировать, то проверим, что среднее количество наименований товаров в заказах с основными товарами меньше, чем в заказах с дополнительными товарами. \n",
    "\n",
    "Для начала создадим таблицу, в которой для каждого товара будет указано среднее количество наименований товаров в заказах, где есть этот товар:"
   ]
  },
  {
   "cell_type": "code",
   "execution_count": 43,
   "metadata": {},
   "outputs": [
    {
     "data": {
      "text/html": [
       "<div>\n",
       "<style scoped>\n",
       "    .dataframe tbody tr th:only-of-type {\n",
       "        vertical-align: middle;\n",
       "    }\n",
       "\n",
       "    .dataframe tbody tr th {\n",
       "        vertical-align: top;\n",
       "    }\n",
       "\n",
       "    .dataframe thead th {\n",
       "        text-align: right;\n",
       "    }\n",
       "</style>\n",
       "<table border=\"1\" class=\"dataframe\">\n",
       "  <thead>\n",
       "    <tr style=\"text-align: right;\">\n",
       "      <th></th>\n",
       "      <th>product</th>\n",
       "      <th>order_size</th>\n",
       "      <th>label</th>\n",
       "    </tr>\n",
       "  </thead>\n",
       "  <tbody>\n",
       "    <tr>\n",
       "      <th>238</th>\n",
       "      <td>Гладильная доска Dogrular Томрис 120x38 см</td>\n",
       "      <td>1.0</td>\n",
       "      <td>0</td>\n",
       "    </tr>\n",
       "    <tr>\n",
       "      <th>880</th>\n",
       "      <td>Новогоднее дерево Ель канадская Коника ртк 343 d-9 см</td>\n",
       "      <td>1.0</td>\n",
       "      <td>0</td>\n",
       "    </tr>\n",
       "    <tr>\n",
       "      <th>202</th>\n",
       "      <td>Гвоздика турецкая Роковая страсть 0,05 г 4660010773231</td>\n",
       "      <td>18.0</td>\n",
       "      <td>0</td>\n",
       "    </tr>\n",
       "    <tr>\n",
       "      <th>224</th>\n",
       "      <td>Герань домашняя (пеларгония зональная) цветущая D12, H25-30, ярко розовая, полумахровая</td>\n",
       "      <td>10.0</td>\n",
       "      <td>0</td>\n",
       "    </tr>\n",
       "    <tr>\n",
       "      <th>327</th>\n",
       "      <td>Диффенбахия d-12 см с топпером на День учителя в подарочной упаковке</td>\n",
       "      <td>1.0</td>\n",
       "      <td>0</td>\n",
       "    </tr>\n",
       "  </tbody>\n",
       "</table>\n",
       "</div>"
      ],
      "text/plain": [
       "                                                                                     product  \\\n",
       "238                                               Гладильная доска Dogrular Томрис 120x38 см   \n",
       "880                                    Новогоднее дерево Ель канадская Коника ртк 343 d-9 см   \n",
       "202                                   Гвоздика турецкая Роковая страсть 0,05 г 4660010773231   \n",
       "224  Герань домашняя (пеларгония зональная) цветущая D12, H25-30, ярко розовая, полумахровая   \n",
       "327                     Диффенбахия d-12 см с топпером на День учителя в подарочной упаковке   \n",
       "\n",
       "     order_size  label  \n",
       "238         1.0      0  \n",
       "880         1.0      0  \n",
       "202        18.0      0  \n",
       "224        10.0      0  \n",
       "327         1.0      0  "
      ]
     },
     "execution_count": 43,
     "metadata": {},
     "output_type": "execute_result"
    }
   ],
   "source": [
    "products_in_orders = df.groupby('order_id')['product'].nunique().reset_index()\n",
    "products_in_orders.columns = ['order_id', 'order_size']\n",
    "df = df.merge(products_in_orders, on='order_id')\n",
    "product_mean_order_size = df.groupby('product')['order_size'].mean().reset_index()\n",
    "products = product_mean_order_size.merge(product_labels, on='product')\n",
    "products.sample(5)"
   ]
  },
  {
   "cell_type": "markdown",
   "metadata": {},
   "source": [
    "Проверим, что все товары на месте:"
   ]
  },
  {
   "cell_type": "code",
   "execution_count": 44,
   "metadata": {},
   "outputs": [
    {
     "data": {
      "text/plain": [
       "2262"
      ]
     },
     "execution_count": 44,
     "metadata": {},
     "output_type": "execute_result"
    }
   ],
   "source": [
    "len(products)"
   ]
  },
  {
   "cell_type": "markdown",
   "metadata": {},
   "source": [
    "Ничего не потеряли.\n",
    "\n",
    "Теперь сформулируем нулевую и альтернативную гипотезы:\n",
    "- H0: товары из основного и дополнительного ассортимента покупают в равных по количеству наименований товаров заказах;\n",
    "- H1: товары из дополнительного ассортимента покупают в заказах с бóльшим количеством наименований товаров.\n",
    "\n",
    "Для проверки гипотезы выберем статистический критерий. Для начала проверим распределение товаров в зависимости от размера заказов, в которых они есть:"
   ]
  },
  {
   "cell_type": "code",
   "execution_count": 45,
   "metadata": {},
   "outputs": [
    {
     "data": {
      "image/png": "[encoded data removed]",
      "text/plain": [
       "<Figure size 864x216 with 1 Axes>"
      ]
     },
     "metadata": {
      "needs_background": "light"
     },
     "output_type": "display_data"
    }
   ],
   "source": [
    "plt.figure(figsize=(12, 3))\n",
    "products['order_size'].hist(bins=30, alpha=.5)\n",
    "plt.title(\"Распределение товаров в зависимости от размера заказов\") \n",
    "plt.xlabel(\"Размер заказа (количество наименований в заказе)\")\n",
    "plt.ylabel(\"Количество товаров\") \n",
    "plt.show()"
   ]
  },
  {
   "cell_type": "markdown",
   "metadata": {},
   "source": [
    "Так как распределение далеко от нормального, то для проверки гипотезы будем использовать непараметрический критерий Манна-Уитни. Критическим значением альфа примем 0,05. Воспользуемся функцией `mannwhitneyu` и найдём p-value:"
   ]
  },
  {
   "cell_type": "code",
   "execution_count": 46,
   "metadata": {},
   "outputs": [
    {
     "data": {
      "text/plain": [
       "5.675057176068563e-09"
      ]
     },
     "execution_count": 46,
     "metadata": {},
     "output_type": "execute_result"
    }
   ],
   "source": [
    "st.mannwhitneyu(products.query('label == 0')['order_size'], products.query('label == 1')['order_size']\n",
    "                          , alternative='greater').pvalue"
   ]
  },
  {
   "cell_type": "markdown",
   "metadata": {},
   "source": [
    "Так как p-value оказалось значительно меньше альфа, то у нас есть основания отклонить нулевую гипотезу. То есть мы можем считать, что товары из дополнительного ассортимента покупают в заказах с бóльшим количеством наименований товаров заказах, чем товары из основного ассортимента.\n",
    "\n",
    "Если посчитать средний размер заказов, где есть товар из основного ассортимента, и заказов, где есть товар из дополнительного ассортимента, то можно увидеть, что разница достаточно большая и очевидна без проверки статистическими критериями:"
   ]
  },
  {
   "cell_type": "code",
   "execution_count": 47,
   "metadata": {},
   "outputs": [
    {
     "data": {
      "text/plain": [
       "label\n",
       "0    6.243903\n",
       "1    2.153542\n",
       "Name: order_size, dtype: float64"
      ]
     },
     "execution_count": 47,
     "metadata": {},
     "output_type": "execute_result"
    }
   ],
   "source": [
    "products.groupby('label')['order_size'].mean()"
   ]
  },
  {
   "cell_type": "markdown",
   "metadata": {},
   "source": [
    "Заказы с товарами из основного ассортимента примерно в 3 раза меньше по количеству наименований, чем заказы с товарами из дополнительного ассортимента.\n",
    "\n",
    "Если построить диаграммы размаха, то также можно увидеть разницу в распределении размеров заказов:"
   ]
  },
  {
   "cell_type": "code",
   "execution_count": 48,
   "metadata": {},
   "outputs": [
    {
     "data": {
      "image/png": "[encoded data removed]",
      "text/plain": [
       "<Figure size 360x360 with 1 Axes>"
      ]
     },
     "metadata": {
      "needs_background": "light"
     },
     "output_type": "display_data"
    }
   ],
   "source": [
    "plt.figure(figsize=(5, 5))\n",
    "sns.boxplot(x='label', y='order_size', data=products)\n",
    "plt.title(\"Диаграмма размаха размеров заказов с товарами из \\nосновного и дополнительного ассортиментов\")\n",
    "plt.ylabel(\"Размер заказа\")\n",
    "plt.xlabel('Лэйбл ассортимента (\"0\" - дополнительный, \"1\" - основной)')\n",
    "plt.show()"
   ]
  },
  {
   "cell_type": "markdown",
   "metadata": {},
   "source": [
    "## <a name=\"7\"> Общие выводы </a>"
   ]
  },
  {
   "cell_type": "markdown",
   "metadata": {},
   "source": [
    "В результате анализа ассортимента интернет-магазина товаров для дома и быта «Пока все ещё тут» были получены следующие результаты:\n",
    "- выяснили, что ассортимент магазина представлен 2282 уникальными товарами;\n",
    "- поделили все товары на 8 категорий, среди которых: \n",
    "  - \"растения и семена\" - 897 товаров;\n",
    "  - \"товары для уборки\" - 442 товаров;\n",
    "  - \"товары для кухни\" - 299 товаров;\n",
    "  - \"предметы интерьера\" - 209 товаров;\n",
    "  - \"искусственные растения и фрукты\" - 130 товаров;\n",
    "  - \"товары для с/у\" - 123 товаров;\n",
    "  - \"сумки-тележки и принадлежности\" - 107 товаров;\n",
    "  - \"строительные инструменты\" - 55 товаров.\n",
    "- внутри каждой категории поделили товары на основной и дополнительный ассортименты исходя из размера принесённой выручки и количества заказов;\n",
    "- выдвинули и проверили гипотезу о том, что заказы с товарами из основного ассортимента меньше по количеству наименований, чем заказы с товарами из дополнительного ассортимента. Выяснилось, что заказы с товарами из основного ассортимента примерно в 3 раза меньше. Такое различие оказалось статистически значимым;\n",
    "- подготовили презентацию проведённого исследования. Она доступна по [ссылке](https://drive.google.com/file/d/1q6RaVyD1MiuUOsJOgpEtLoLazvNNLMEE/view?usp=sharing);\n",
    "- сделали дашборд с диаграммой количества покупок по дням, количеством покупателей и фильтрацией по дате. Он доступен по [ссылке](https://public.tableau.com/profile/oleg1290#!/vizhome/Orders_and_customers_dashboard/Dashboard1?publish=yes)."
   ]
  },
  {
   "cell_type": "markdown",
   "metadata": {},
   "source": [
    "[В начало](#0)"
   ]
  }
 ],
 "metadata": {
  "kernelspec": {
   "display_name": "Python 3",
   "language": "python",
   "name": "python3"
  },
  "language_info": {
   "codemirror_mode": {
    "name": "ipython",
    "version": 3
   },
   "file_extension": ".py",
   "mimetype": "text/x-python",
   "name": "python",
   "nbconvert_exporter": "python",
   "pygments_lexer": "ipython3",
   "version": "3.9.1"
  },
  "toc": {
   "base_numbering": 1,
   "nav_menu": {},
   "number_sections": false,
   "sideBar": true,
   "skip_h1_title": true,
   "title_cell": "Table of Contents",
   "title_sidebar": "Contents",
   "toc_cell": false,
   "toc_position": {
    "height": "calc(100% - 180px)",
    "left": "10px",
    "top": "150px",
    "width": "233.391px"
   },
   "toc_section_display": true,
   "toc_window_display": false
  }
 },
 "nbformat": 4,
 "nbformat_minor": 2
}
