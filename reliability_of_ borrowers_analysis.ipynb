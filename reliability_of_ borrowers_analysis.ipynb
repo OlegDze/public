{
 "cells": [
  {
   "cell_type": "markdown",
   "metadata": {},
   "source": [
    "## Исследование надёжности заёмщиков\n",
    "\n",
    "### Описание проекта\n",
    "\n",
    "Заказчик — кредитный отдел банка. Нужно разобраться, влияет ли семейное положение и количество детей клиента на факт погашения кредита в срок. Входные данные от банка — статистика о платёжеспособности клиентов.\n",
    "\n",
    "Результаты исследования будут учтены при построении модели кредитного скоринга — специальной системы, которая оценивает способность потенциального заёмщика вернуть кредит банку."
   ]
  },
  {
   "cell_type": "markdown",
   "metadata": {},
   "source": [
    "Структура исследования:\n",
    "* Шаг 1. Загрузка данных и ознакомление с ними;\n",
    "* Шаг 2. Предобработка данных;\n",
    "- Обработка пропусков;\n",
    "- Работа с некачественными данными;\n",
    "- Замена типа данных;\n",
    "- Обработка дубликатов;\n",
    "- Лемматизация;\n",
    "- Категоризация данных;\n",
    "* Шаг 3. Ответы на вопросы исследования;\n",
    "* Шаг 4. Общий вывод."
   ]
  },
  {
   "cell_type": "markdown",
   "metadata": {},
   "source": [
    "В ходе исследования применим следующие операции над данными:\n",
    "* работа с пропусками;\n",
    "* работа с дубликатами;\n",
    "* изменение типа данных;\n",
    "* лемматизация;\n",
    "* классификация данных;\n",
    "* построение сводных таблиц;\n",
    "* применение конструкции try-except."
   ]
  },
  {
   "cell_type": "markdown",
   "metadata": {},
   "source": [
    "### Шаг 1. Откройте файл с данными и изучите общую информацию. "
   ]
  },
  {
   "cell_type": "markdown",
   "metadata": {},
   "source": [
    "Импортируем библиотеку pandas для работы с табличными данными."
   ]
  },
  {
   "cell_type": "code",
   "execution_count": 1,
   "metadata": {
    "scrolled": true
   },
   "outputs": [],
   "source": [
    "import pandas as pd"
   ]
  },
  {
   "cell_type": "markdown",
   "metadata": {},
   "source": [
    "Прочитаем файл data.csv с данными о клиентах банка и сохраним его в переменной df."
   ]
  },
  {
   "cell_type": "code",
   "execution_count": 3,
   "metadata": {},
   "outputs": [],
   "source": [
    "df = pd.read_csv('/Users/polzovatel/Desktop/data.csv')"
   ]
  },
  {
   "cell_type": "markdown",
   "metadata": {},
   "source": [
    "Выведем 5 случайных строк таблицы."
   ]
  },
  {
   "cell_type": "code",
   "execution_count": 4,
   "metadata": {
    "scrolled": true
   },
   "outputs": [
    {
     "data": {
      "text/html": [
       "<div>\n",
       "<style scoped>\n",
       "    .dataframe tbody tr th:only-of-type {\n",
       "        vertical-align: middle;\n",
       "    }\n",
       "\n",
       "    .dataframe tbody tr th {\n",
       "        vertical-align: top;\n",
       "    }\n",
       "\n",
       "    .dataframe thead th {\n",
       "        text-align: right;\n",
       "    }\n",
       "</style>\n",
       "<table border=\"1\" class=\"dataframe\">\n",
       "  <thead>\n",
       "    <tr style=\"text-align: right;\">\n",
       "      <th></th>\n",
       "      <th>children</th>\n",
       "      <th>days_employed</th>\n",
       "      <th>dob_years</th>\n",
       "      <th>education</th>\n",
       "      <th>education_id</th>\n",
       "      <th>family_status</th>\n",
       "      <th>family_status_id</th>\n",
       "      <th>gender</th>\n",
       "      <th>income_type</th>\n",
       "      <th>debt</th>\n",
       "      <th>total_income</th>\n",
       "      <th>purpose</th>\n",
       "    </tr>\n",
       "  </thead>\n",
       "  <tbody>\n",
       "    <tr>\n",
       "      <th>11705</th>\n",
       "      <td>0</td>\n",
       "      <td>-8409.915019</td>\n",
       "      <td>41</td>\n",
       "      <td>среднее</td>\n",
       "      <td>1</td>\n",
       "      <td>в разводе</td>\n",
       "      <td>3</td>\n",
       "      <td>F</td>\n",
       "      <td>госслужащий</td>\n",
       "      <td>0</td>\n",
       "      <td>169140.738052</td>\n",
       "      <td>покупка жилья</td>\n",
       "    </tr>\n",
       "    <tr>\n",
       "      <th>10620</th>\n",
       "      <td>0</td>\n",
       "      <td>383541.132133</td>\n",
       "      <td>64</td>\n",
       "      <td>среднее</td>\n",
       "      <td>1</td>\n",
       "      <td>гражданский брак</td>\n",
       "      <td>1</td>\n",
       "      <td>F</td>\n",
       "      <td>пенсионер</td>\n",
       "      <td>0</td>\n",
       "      <td>135974.069965</td>\n",
       "      <td>сыграть свадьбу</td>\n",
       "    </tr>\n",
       "    <tr>\n",
       "      <th>11023</th>\n",
       "      <td>0</td>\n",
       "      <td>-1063.239925</td>\n",
       "      <td>39</td>\n",
       "      <td>неоконченное высшее</td>\n",
       "      <td>2</td>\n",
       "      <td>женат / замужем</td>\n",
       "      <td>0</td>\n",
       "      <td>F</td>\n",
       "      <td>сотрудник</td>\n",
       "      <td>0</td>\n",
       "      <td>141944.015162</td>\n",
       "      <td>получение высшего образования</td>\n",
       "    </tr>\n",
       "    <tr>\n",
       "      <th>4573</th>\n",
       "      <td>0</td>\n",
       "      <td>-107.957643</td>\n",
       "      <td>32</td>\n",
       "      <td>среднее</td>\n",
       "      <td>1</td>\n",
       "      <td>гражданский брак</td>\n",
       "      <td>1</td>\n",
       "      <td>M</td>\n",
       "      <td>сотрудник</td>\n",
       "      <td>0</td>\n",
       "      <td>102628.360734</td>\n",
       "      <td>на покупку подержанного автомобиля</td>\n",
       "    </tr>\n",
       "    <tr>\n",
       "      <th>11119</th>\n",
       "      <td>0</td>\n",
       "      <td>-1668.341542</td>\n",
       "      <td>41</td>\n",
       "      <td>среднее</td>\n",
       "      <td>1</td>\n",
       "      <td>женат / замужем</td>\n",
       "      <td>0</td>\n",
       "      <td>F</td>\n",
       "      <td>госслужащий</td>\n",
       "      <td>0</td>\n",
       "      <td>285524.865637</td>\n",
       "      <td>операции с жильем</td>\n",
       "    </tr>\n",
       "  </tbody>\n",
       "</table>\n",
       "</div>"
      ],
      "text/plain": [
       "       children  days_employed  dob_years            education  education_id  \\\n",
       "11705         0   -8409.915019         41              среднее             1   \n",
       "10620         0  383541.132133         64              среднее             1   \n",
       "11023         0   -1063.239925         39  неоконченное высшее             2   \n",
       "4573          0    -107.957643         32              среднее             1   \n",
       "11119         0   -1668.341542         41              среднее             1   \n",
       "\n",
       "          family_status  family_status_id gender  income_type  debt  \\\n",
       "11705         в разводе                 3      F  госслужащий     0   \n",
       "10620  гражданский брак                 1      F    пенсионер     0   \n",
       "11023   женат / замужем                 0      F    сотрудник     0   \n",
       "4573   гражданский брак                 1      M    сотрудник     0   \n",
       "11119   женат / замужем                 0      F  госслужащий     0   \n",
       "\n",
       "        total_income                             purpose  \n",
       "11705  169140.738052                       покупка жилья  \n",
       "10620  135974.069965                     сыграть свадьбу  \n",
       "11023  141944.015162       получение высшего образования  \n",
       "4573   102628.360734  на покупку подержанного автомобиля  \n",
       "11119  285524.865637                   операции с жильем  "
      ]
     },
     "execution_count": 4,
     "metadata": {},
     "output_type": "execute_result"
    }
   ],
   "source": [
    "df.sample(5)"
   ]
  },
  {
   "cell_type": "markdown",
   "metadata": {},
   "source": [
    "Общая информация о данных таблицы df."
   ]
  },
  {
   "cell_type": "code",
   "execution_count": 4,
   "metadata": {
    "scrolled": true
   },
   "outputs": [
    {
     "name": "stdout",
     "output_type": "stream",
     "text": [
      "<class 'pandas.core.frame.DataFrame'>\n",
      "RangeIndex: 21525 entries, 0 to 21524\n",
      "Data columns (total 12 columns):\n",
      "children            21525 non-null int64\n",
      "days_employed       19351 non-null float64\n",
      "dob_years           21525 non-null int64\n",
      "education           21525 non-null object\n",
      "education_id        21525 non-null int64\n",
      "family_status       21525 non-null object\n",
      "family_status_id    21525 non-null int64\n",
      "gender              21525 non-null object\n",
      "income_type         21525 non-null object\n",
      "debt                21525 non-null int64\n",
      "total_income        19351 non-null float64\n",
      "purpose             21525 non-null object\n",
      "dtypes: float64(2), int64(5), object(5)\n",
      "memory usage: 2.0+ MB\n"
     ]
    }
   ],
   "source": [
    "df.info()"
   ]
  },
  {
   "cell_type": "markdown",
   "metadata": {},
   "source": [
    "Рассмотрим полученную информацию подробнее.\n",
    "\n",
    "Всего в таблице 21525 строк и 12 столбцов, типы данных у столбцов - float64, int64 и object.\n",
    "\n",
    "Подробно разберём, какие в df столбцы и какую информацию они содержат:\n",
    "\n",
    "* children — количество детей в семье;\n",
    "* days_employed — общий трудовой стаж в днях;\n",
    "* dob_years — возраст клиента в годах;\n",
    "* education — уровень образования клиента;\n",
    "* education_id — идентификатор уровня образования;\n",
    "* family_status — семейное положение;\n",
    "* family_status_id — идентификатор семейного положения;\n",
    "* gender — пол клиента;\n",
    "* income_type — тип занятости;\n",
    "* debt — имел ли задолженность по возврату кредитов;\n",
    "* total_income — ежемесячный доход;\n",
    "* purpose — цель получения кредита.\n",
    "\n",
    "Можно заметить, что количество значений в столбцах различается. Это говорит о том, что в данных есть null значения. Причем количество пропусков одинаковое для столбцов days_employed и total_income. Возможно пропуски в этих столбцах встречаются в одних и тех строках. Проверим это в ходе работы над проектом.\n",
    "\n",
    "Столбцы days_employed и total_income имеют тип данных float64. Стаж в днях не может быть дробным числом, а ежемесячный доход достаточно указать до целых значений (без копеек). Если нет острой необходимости работать с дробными числами, то разумнее и проще использовать целые. Нужно будет исправить тип данных этих столбцов на int64."
   ]
  },
  {
   "cell_type": "markdown",
   "metadata": {},
   "source": [
    "Взглянем на основные статистические параметры числовых данных в таблице с помощью метода describe()."
   ]
  },
  {
   "cell_type": "code",
   "execution_count": 5,
   "metadata": {
    "scrolled": true
   },
   "outputs": [
    {
     "data": {
      "text/html": [
       "<div>\n",
       "<style scoped>\n",
       "    .dataframe tbody tr th:only-of-type {\n",
       "        vertical-align: middle;\n",
       "    }\n",
       "\n",
       "    .dataframe tbody tr th {\n",
       "        vertical-align: top;\n",
       "    }\n",
       "\n",
       "    .dataframe thead th {\n",
       "        text-align: right;\n",
       "    }\n",
       "</style>\n",
       "<table border=\"1\" class=\"dataframe\">\n",
       "  <thead>\n",
       "    <tr style=\"text-align: right;\">\n",
       "      <th></th>\n",
       "      <th>children</th>\n",
       "      <th>days_employed</th>\n",
       "      <th>dob_years</th>\n",
       "      <th>education_id</th>\n",
       "      <th>family_status_id</th>\n",
       "      <th>debt</th>\n",
       "      <th>total_income</th>\n",
       "    </tr>\n",
       "  </thead>\n",
       "  <tbody>\n",
       "    <tr>\n",
       "      <td>count</td>\n",
       "      <td>21525.000000</td>\n",
       "      <td>19351.000000</td>\n",
       "      <td>21525.000000</td>\n",
       "      <td>21525.000000</td>\n",
       "      <td>21525.000000</td>\n",
       "      <td>21525.000000</td>\n",
       "      <td>1.935100e+04</td>\n",
       "    </tr>\n",
       "    <tr>\n",
       "      <td>mean</td>\n",
       "      <td>0.538908</td>\n",
       "      <td>63046.497661</td>\n",
       "      <td>43.293380</td>\n",
       "      <td>0.817236</td>\n",
       "      <td>0.972544</td>\n",
       "      <td>0.080883</td>\n",
       "      <td>1.674223e+05</td>\n",
       "    </tr>\n",
       "    <tr>\n",
       "      <td>std</td>\n",
       "      <td>1.381587</td>\n",
       "      <td>140827.311974</td>\n",
       "      <td>12.574584</td>\n",
       "      <td>0.548138</td>\n",
       "      <td>1.420324</td>\n",
       "      <td>0.272661</td>\n",
       "      <td>1.029716e+05</td>\n",
       "    </tr>\n",
       "    <tr>\n",
       "      <td>min</td>\n",
       "      <td>-1.000000</td>\n",
       "      <td>-18388.949901</td>\n",
       "      <td>0.000000</td>\n",
       "      <td>0.000000</td>\n",
       "      <td>0.000000</td>\n",
       "      <td>0.000000</td>\n",
       "      <td>2.066726e+04</td>\n",
       "    </tr>\n",
       "    <tr>\n",
       "      <td>25%</td>\n",
       "      <td>0.000000</td>\n",
       "      <td>-2747.423625</td>\n",
       "      <td>33.000000</td>\n",
       "      <td>1.000000</td>\n",
       "      <td>0.000000</td>\n",
       "      <td>0.000000</td>\n",
       "      <td>1.030532e+05</td>\n",
       "    </tr>\n",
       "    <tr>\n",
       "      <td>50%</td>\n",
       "      <td>0.000000</td>\n",
       "      <td>-1203.369529</td>\n",
       "      <td>42.000000</td>\n",
       "      <td>1.000000</td>\n",
       "      <td>0.000000</td>\n",
       "      <td>0.000000</td>\n",
       "      <td>1.450179e+05</td>\n",
       "    </tr>\n",
       "    <tr>\n",
       "      <td>75%</td>\n",
       "      <td>1.000000</td>\n",
       "      <td>-291.095954</td>\n",
       "      <td>53.000000</td>\n",
       "      <td>1.000000</td>\n",
       "      <td>1.000000</td>\n",
       "      <td>0.000000</td>\n",
       "      <td>2.034351e+05</td>\n",
       "    </tr>\n",
       "    <tr>\n",
       "      <td>max</td>\n",
       "      <td>20.000000</td>\n",
       "      <td>401755.400475</td>\n",
       "      <td>75.000000</td>\n",
       "      <td>4.000000</td>\n",
       "      <td>4.000000</td>\n",
       "      <td>1.000000</td>\n",
       "      <td>2.265604e+06</td>\n",
       "    </tr>\n",
       "  </tbody>\n",
       "</table>\n",
       "</div>"
      ],
      "text/plain": [
       "           children  days_employed     dob_years  education_id  \\\n",
       "count  21525.000000   19351.000000  21525.000000  21525.000000   \n",
       "mean       0.538908   63046.497661     43.293380      0.817236   \n",
       "std        1.381587  140827.311974     12.574584      0.548138   \n",
       "min       -1.000000  -18388.949901      0.000000      0.000000   \n",
       "25%        0.000000   -2747.423625     33.000000      1.000000   \n",
       "50%        0.000000   -1203.369529     42.000000      1.000000   \n",
       "75%        1.000000    -291.095954     53.000000      1.000000   \n",
       "max       20.000000  401755.400475     75.000000      4.000000   \n",
       "\n",
       "       family_status_id          debt  total_income  \n",
       "count      21525.000000  21525.000000  1.935100e+04  \n",
       "mean           0.972544      0.080883  1.674223e+05  \n",
       "std            1.420324      0.272661  1.029716e+05  \n",
       "min            0.000000      0.000000  2.066726e+04  \n",
       "25%            0.000000      0.000000  1.030532e+05  \n",
       "50%            0.000000      0.000000  1.450179e+05  \n",
       "75%            1.000000      0.000000  2.034351e+05  \n",
       "max            4.000000      1.000000  2.265604e+06  "
      ]
     },
     "execution_count": 5,
     "metadata": {},
     "output_type": "execute_result"
    }
   ],
   "source": [
    "df.describe()"
   ]
  },
  {
   "cell_type": "markdown",
   "metadata": {},
   "source": [
    "Нелогичными являются отрицательные данные в столбце days_employed — стаж не может быть отрицательным. Кроме того, в строках встречается отрицательное значение количества детей в семье и возраст клиентов, равный нулю — такого тоже не может быть."
   ]
  },
  {
   "cell_type": "markdown",
   "metadata": {},
   "source": [
    "Взглянем на статистические параметры тесктовых данных в таблице с помощью метода describe() и аргумента include='O'."
   ]
  },
  {
   "cell_type": "code",
   "execution_count": 6,
   "metadata": {},
   "outputs": [
    {
     "data": {
      "text/html": [
       "<div>\n",
       "<style scoped>\n",
       "    .dataframe tbody tr th:only-of-type {\n",
       "        vertical-align: middle;\n",
       "    }\n",
       "\n",
       "    .dataframe tbody tr th {\n",
       "        vertical-align: top;\n",
       "    }\n",
       "\n",
       "    .dataframe thead th {\n",
       "        text-align: right;\n",
       "    }\n",
       "</style>\n",
       "<table border=\"1\" class=\"dataframe\">\n",
       "  <thead>\n",
       "    <tr style=\"text-align: right;\">\n",
       "      <th></th>\n",
       "      <th>education</th>\n",
       "      <th>family_status</th>\n",
       "      <th>gender</th>\n",
       "      <th>income_type</th>\n",
       "      <th>purpose</th>\n",
       "    </tr>\n",
       "  </thead>\n",
       "  <tbody>\n",
       "    <tr>\n",
       "      <td>count</td>\n",
       "      <td>21525</td>\n",
       "      <td>21525</td>\n",
       "      <td>21525</td>\n",
       "      <td>21525</td>\n",
       "      <td>21525</td>\n",
       "    </tr>\n",
       "    <tr>\n",
       "      <td>unique</td>\n",
       "      <td>15</td>\n",
       "      <td>5</td>\n",
       "      <td>3</td>\n",
       "      <td>8</td>\n",
       "      <td>38</td>\n",
       "    </tr>\n",
       "    <tr>\n",
       "      <td>top</td>\n",
       "      <td>среднее</td>\n",
       "      <td>женат / замужем</td>\n",
       "      <td>F</td>\n",
       "      <td>сотрудник</td>\n",
       "      <td>свадьба</td>\n",
       "    </tr>\n",
       "    <tr>\n",
       "      <td>freq</td>\n",
       "      <td>13750</td>\n",
       "      <td>12380</td>\n",
       "      <td>14236</td>\n",
       "      <td>11119</td>\n",
       "      <td>797</td>\n",
       "    </tr>\n",
       "  </tbody>\n",
       "</table>\n",
       "</div>"
      ],
      "text/plain": [
       "       education    family_status gender income_type  purpose\n",
       "count      21525            21525  21525       21525    21525\n",
       "unique        15                5      3           8       38\n",
       "top      среднее  женат / замужем      F   сотрудник  свадьба\n",
       "freq       13750            12380  14236       11119      797"
      ]
     },
     "execution_count": 6,
     "metadata": {},
     "output_type": "execute_result"
    }
   ],
   "source": [
    "df.describe(include='O')"
   ]
  },
  {
   "cell_type": "markdown",
   "metadata": {},
   "source": [
    "Бросается в глаза, что имеется 15 уникальных значений уровней образования клиентов. Надо внимательно посмотреть, что это за значения. Также подозрительно выглядят 3 вида пола."
   ]
  },
  {
   "cell_type": "markdown",
   "metadata": {},
   "source": [
    "### Вывод"
   ]
  },
  {
   "cell_type": "markdown",
   "metadata": {},
   "source": [
    "Каждая строка таблицы содержит информацию о клиенте банка. В данных были обнаружены такие проблемы:\n",
    "* пропуски в столбцах days_employed и total_income;\n",
    "* отрицательные значения в столбце days_employed и children;\n",
    "* нулевые значения в столбце dob_years;\n",
    "* большое количество уникальных значений в столбцах education и gender;\n",
    "* вещественный тип данных в столбцах days_employed и total_income."
   ]
  },
  {
   "cell_type": "markdown",
   "metadata": {},
   "source": [
    "### Шаг 2. Предобработка данных"
   ]
  },
  {
   "cell_type": "markdown",
   "metadata": {},
   "source": [
    "### Обработка пропусков"
   ]
  },
  {
   "cell_type": "markdown",
   "metadata": {},
   "source": [
    "В ходе ознакомления с данными мы обнаружили, что в столбцах days_employed и total_income меньше значений, чем в других, то есть в них есть пропуски.\n",
    "\n",
    "Проверим, какие есть вообще значения в этих столбцах. Подходящими нам являются числа, неподходящими - либо строки, либо пропуски. Посчитаем количество чисел, строк и пропусков с помощью конструкции try-except. Если значение можно привести к типу int, то оно является числом. Если нельзя, то для значения типа string появится ошибка IndentationError, а для пустого значения - ошибка ValueError.\n",
    "\n",
    "Проведём расчёт и выведем по порядку количество числовых, строковых и пустых значений в столбце total_income."
   ]
  },
  {
   "cell_type": "code",
   "execution_count": 7,
   "metadata": {},
   "outputs": [
    {
     "data": {
      "text/plain": [
       "(19351, 0, 2174)"
      ]
     },
     "execution_count": 7,
     "metadata": {},
     "output_type": "execute_result"
    }
   ],
   "source": [
    "num_count = 0\n",
    "str_count = 0\n",
    "nan_count = 0\n",
    "for row in df['total_income']:\n",
    "    try:\n",
    "        num = int(row)\n",
    "        num_count += 1\n",
    "    except IndentationError:\n",
    "        string = str(row)\n",
    "        str_count += 1\n",
    "    except ValueError: \n",
    "        nan_count += 1\n",
    "num_count, str_count, nan_count"
   ]
  },
  {
   "cell_type": "markdown",
   "metadata": {},
   "source": [
    "Мы выяснили, что в столбце total_income 19351 число, 0 строк и 2174 пустых значения."
   ]
  },
  {
   "cell_type": "markdown",
   "metadata": {},
   "source": [
    "Проведем такой же расчет для столбца days_employed."
   ]
  },
  {
   "cell_type": "code",
   "execution_count": 8,
   "metadata": {},
   "outputs": [
    {
     "data": {
      "text/plain": [
       "(19351, 0, 2174)"
      ]
     },
     "execution_count": 8,
     "metadata": {},
     "output_type": "execute_result"
    }
   ],
   "source": [
    "num_count = 0\n",
    "str_count = 0\n",
    "nan_count = 0\n",
    "for row in df['days_employed']:\n",
    "    try:\n",
    "        num = int(row)\n",
    "        num_count += 1\n",
    "    except IndentationError:\n",
    "        string = str(row)\n",
    "        str_count += 1\n",
    "    except ValueError: \n",
    "        nan_count += 1\n",
    "num_count, str_count, nan_count"
   ]
  },
  {
   "cell_type": "markdown",
   "metadata": {},
   "source": [
    "В столбце days_employed аналогично 19351 число, 0 строк и 2174 пустых значения."
   ]
  },
  {
   "cell_type": "markdown",
   "metadata": {},
   "source": [
    "Можно предположить, что пропуски в столбцах total_income и days_employed встречаются в одних и тех же строках. Проверим эту гипотезу."
   ]
  },
  {
   "cell_type": "markdown",
   "metadata": {},
   "source": [
    "Выведем 5 случайных строк, где столбец days_employed пустой. Используем метод isnull() для поиска строк с пустыми значениями."
   ]
  },
  {
   "cell_type": "code",
   "execution_count": 9,
   "metadata": {
    "scrolled": true
   },
   "outputs": [
    {
     "data": {
      "text/html": [
       "<div>\n",
       "<style scoped>\n",
       "    .dataframe tbody tr th:only-of-type {\n",
       "        vertical-align: middle;\n",
       "    }\n",
       "\n",
       "    .dataframe tbody tr th {\n",
       "        vertical-align: top;\n",
       "    }\n",
       "\n",
       "    .dataframe thead th {\n",
       "        text-align: right;\n",
       "    }\n",
       "</style>\n",
       "<table border=\"1\" class=\"dataframe\">\n",
       "  <thead>\n",
       "    <tr style=\"text-align: right;\">\n",
       "      <th></th>\n",
       "      <th>children</th>\n",
       "      <th>days_employed</th>\n",
       "      <th>dob_years</th>\n",
       "      <th>education</th>\n",
       "      <th>education_id</th>\n",
       "      <th>family_status</th>\n",
       "      <th>family_status_id</th>\n",
       "      <th>gender</th>\n",
       "      <th>income_type</th>\n",
       "      <th>debt</th>\n",
       "      <th>total_income</th>\n",
       "      <th>purpose</th>\n",
       "    </tr>\n",
       "  </thead>\n",
       "  <tbody>\n",
       "    <tr>\n",
       "      <td>851</td>\n",
       "      <td>0</td>\n",
       "      <td>NaN</td>\n",
       "      <td>56</td>\n",
       "      <td>среднее</td>\n",
       "      <td>1</td>\n",
       "      <td>Не женат / не замужем</td>\n",
       "      <td>4</td>\n",
       "      <td>F</td>\n",
       "      <td>сотрудник</td>\n",
       "      <td>0</td>\n",
       "      <td>NaN</td>\n",
       "      <td>дополнительное образование</td>\n",
       "    </tr>\n",
       "    <tr>\n",
       "      <td>3551</td>\n",
       "      <td>0</td>\n",
       "      <td>NaN</td>\n",
       "      <td>53</td>\n",
       "      <td>среднее</td>\n",
       "      <td>1</td>\n",
       "      <td>в разводе</td>\n",
       "      <td>3</td>\n",
       "      <td>F</td>\n",
       "      <td>пенсионер</td>\n",
       "      <td>0</td>\n",
       "      <td>NaN</td>\n",
       "      <td>приобретение автомобиля</td>\n",
       "    </tr>\n",
       "    <tr>\n",
       "      <td>10765</td>\n",
       "      <td>0</td>\n",
       "      <td>NaN</td>\n",
       "      <td>46</td>\n",
       "      <td>среднее</td>\n",
       "      <td>1</td>\n",
       "      <td>женат / замужем</td>\n",
       "      <td>0</td>\n",
       "      <td>F</td>\n",
       "      <td>сотрудник</td>\n",
       "      <td>1</td>\n",
       "      <td>NaN</td>\n",
       "      <td>заняться образованием</td>\n",
       "    </tr>\n",
       "    <tr>\n",
       "      <td>9395</td>\n",
       "      <td>0</td>\n",
       "      <td>NaN</td>\n",
       "      <td>28</td>\n",
       "      <td>среднее</td>\n",
       "      <td>1</td>\n",
       "      <td>женат / замужем</td>\n",
       "      <td>0</td>\n",
       "      <td>M</td>\n",
       "      <td>сотрудник</td>\n",
       "      <td>0</td>\n",
       "      <td>NaN</td>\n",
       "      <td>заняться образованием</td>\n",
       "    </tr>\n",
       "    <tr>\n",
       "      <td>9491</td>\n",
       "      <td>0</td>\n",
       "      <td>NaN</td>\n",
       "      <td>46</td>\n",
       "      <td>среднее</td>\n",
       "      <td>1</td>\n",
       "      <td>в разводе</td>\n",
       "      <td>3</td>\n",
       "      <td>F</td>\n",
       "      <td>сотрудник</td>\n",
       "      <td>0</td>\n",
       "      <td>NaN</td>\n",
       "      <td>автомобили</td>\n",
       "    </tr>\n",
       "  </tbody>\n",
       "</table>\n",
       "</div>"
      ],
      "text/plain": [
       "       children  days_employed  dob_years education  education_id  \\\n",
       "851           0            NaN         56   среднее             1   \n",
       "3551          0            NaN         53   среднее             1   \n",
       "10765         0            NaN         46   среднее             1   \n",
       "9395          0            NaN         28   среднее             1   \n",
       "9491          0            NaN         46   среднее             1   \n",
       "\n",
       "               family_status  family_status_id gender income_type  debt  \\\n",
       "851    Не женат / не замужем                 4      F   сотрудник     0   \n",
       "3551               в разводе                 3      F   пенсионер     0   \n",
       "10765        женат / замужем                 0      F   сотрудник     1   \n",
       "9395         женат / замужем                 0      M   сотрудник     0   \n",
       "9491               в разводе                 3      F   сотрудник     0   \n",
       "\n",
       "       total_income                     purpose  \n",
       "851             NaN  дополнительное образование  \n",
       "3551            NaN     приобретение автомобиля  \n",
       "10765           NaN       заняться образованием  \n",
       "9395            NaN       заняться образованием  \n",
       "9491            NaN                  автомобили  "
      ]
     },
     "execution_count": 9,
     "metadata": {},
     "output_type": "execute_result"
    }
   ],
   "source": [
    "df[df['days_employed'].isnull()].sample(5)"
   ]
  },
  {
   "cell_type": "markdown",
   "metadata": {},
   "source": [
    "Видно, что значения являются пустыми также и в столбце total_income. Возможно нам просто повезло найти такие строки с совпадениями пропусков. Чтобы узнать наверняка, в общих ли строках значения пустые в этих столбцах, сделаем следующие операции."
   ]
  },
  {
   "cell_type": "markdown",
   "metadata": {},
   "source": [
    "Выберем строки, где столбец days_employed пустой, а столбец total_income, наоборот, не пустой. И с помощью метода shape с индексом '0' посчитаем количество таких строк."
   ]
  },
  {
   "cell_type": "code",
   "execution_count": 10,
   "metadata": {
    "scrolled": true
   },
   "outputs": [
    {
     "data": {
      "text/plain": [
       "0"
      ]
     },
     "execution_count": 10,
     "metadata": {},
     "output_type": "execute_result"
    }
   ],
   "source": [
    "df[(df['days_employed'].isnull())&(df['total_income'].notnull())].shape[0]"
   ]
  },
  {
   "cell_type": "markdown",
   "metadata": {},
   "source": [
    "Таких строк не оказалось. Теперь сделаем обратную проверку.\n",
    "Выберем строки, где столбец total_income пустой, а столбец days_employed, наоборот, не пустой, и посчитаем количество таких строк."
   ]
  },
  {
   "cell_type": "code",
   "execution_count": 11,
   "metadata": {
    "scrolled": true
   },
   "outputs": [
    {
     "data": {
      "text/plain": [
       "0"
      ]
     },
     "execution_count": 11,
     "metadata": {},
     "output_type": "execute_result"
    }
   ],
   "source": [
    "df[(df['total_income'].isnull())&(df['days_employed'].notnull())].shape[0]"
   ]
  },
  {
   "cell_type": "markdown",
   "metadata": {},
   "source": [
    "Таких строк также не оказалось. Это означает, что пропуски в этих столбцах встрчаются в одних и тех же строках.\n"
   ]
  },
  {
   "cell_type": "markdown",
   "metadata": {},
   "source": [
    "Можно заметить, что в строках с пропусками в total_income и days_employed значения других столбцов самые разнообразные. Логики в пропущенных данных нет, а значит однозначно определить, чем они должны были быть заполнены, невозможно. Это логично, ведь трудовой стаж и ежемесячный доход - это индивидуальные показатели для каждого клиента. "
   ]
  },
  {
   "cell_type": "markdown",
   "metadata": {},
   "source": [
    "В таком случае мы можем либо удалить строки с пропущенными данными, либо заполнить их средними или медианными значениями. Удалить строки мы можем, если их количество относительно небольшое. Рассчитаем, сколько таких строк от общего числа строк в таблице."
   ]
  },
  {
   "cell_type": "code",
   "execution_count": 12,
   "metadata": {},
   "outputs": [
    {
     "data": {
      "text/plain": [
       "0.10099883855981417"
      ]
     },
     "execution_count": 12,
     "metadata": {},
     "output_type": "execute_result"
    }
   ],
   "source": [
    "df['days_employed'].isnull().sum() / df.shape[0]"
   ]
  },
  {
   "cell_type": "markdown",
   "metadata": {},
   "source": [
    "Получилось, что около 10% строк имеют пропуски. Это довольно большая часть от всего объёма данных. Если удалить её, результаты исследования могут оказаться менее достоверными. Поэтому попробуем восстановить пустые значения, например, заполнить их средними или медианными значениями."
   ]
  },
  {
   "cell_type": "markdown",
   "metadata": {},
   "source": [
    "Тут мы сталкиваемся с другой проблемой в данных в столбце days_employed - отрицательные значения. Изучим подробнее этот столбец и попробуем найти логику, где и при каких обстоятельствах встречаются такие значения."
   ]
  },
  {
   "cell_type": "markdown",
   "metadata": {},
   "source": [
    "Посчитаем, сколько всего отрицательных значений в столбце days_employed."
   ]
  },
  {
   "cell_type": "code",
   "execution_count": 13,
   "metadata": {},
   "outputs": [
    {
     "data": {
      "text/plain": [
       "15906"
      ]
     },
     "execution_count": 13,
     "metadata": {},
     "output_type": "execute_result"
    }
   ],
   "source": [
    "df[df['days_employed'] < 0]['days_employed'].count()"
   ]
  },
  {
   "cell_type": "markdown",
   "metadata": {},
   "source": [
    "Вспомним, что всего заполненных значений в этом столбце 19 351. То есть бóльшая часть данных занесена с ошибкой. Посмотрим внимательнее на отрицательные значения с точки зрения статистики."
   ]
  },
  {
   "cell_type": "code",
   "execution_count": 14,
   "metadata": {},
   "outputs": [
    {
     "data": {
      "text/plain": [
       "count    15906.000000\n",
       "mean     -2353.015932\n",
       "std       2304.243851\n",
       "min     -18388.949901\n",
       "25%      -3157.480084\n",
       "50%      -1630.019381\n",
       "75%       -756.371964\n",
       "max        -24.141633\n",
       "Name: days_employed, dtype: float64"
      ]
     },
     "execution_count": 14,
     "metadata": {},
     "output_type": "execute_result"
    }
   ],
   "source": [
    "df[df['days_employed'] < 0]['days_employed'].describe()"
   ]
  },
  {
   "cell_type": "markdown",
   "metadata": {},
   "source": [
    "Отрицательные значения колеблются от - 18 388 до -24 дней."
   ]
  },
  {
   "cell_type": "markdown",
   "metadata": {},
   "source": [
    "Если оценивать значения по модулю, то они выглядят реалистично. Вероятно, что здесь просто ошибка со знаком и его можно отбросить, чтобы получить верные значения. "
   ]
  },
  {
   "cell_type": "markdown",
   "metadata": {},
   "source": [
    "Посмотрим внимательнее на положительные значения в этом столбце с точки зрения статистики."
   ]
  },
  {
   "cell_type": "code",
   "execution_count": 15,
   "metadata": {},
   "outputs": [
    {
     "data": {
      "text/plain": [
       "count      3445.000000\n",
       "mean     365004.309916\n",
       "std       21075.016396\n",
       "min      328728.720605\n",
       "25%      346639.413916\n",
       "50%      365213.306266\n",
       "75%      383246.444219\n",
       "max      401755.400475\n",
       "Name: days_employed, dtype: float64"
      ]
     },
     "execution_count": 15,
     "metadata": {},
     "output_type": "execute_result"
    }
   ],
   "source": [
    "df[df['days_employed'] > 0]['days_employed'].describe()"
   ]
  },
  {
   "cell_type": "markdown",
   "metadata": {},
   "source": [
    "Положительные значения колеблются от 328 728 до 401 755 дней. Даже если работать каждый день, то 328 728 дней - это 900 лет трудового стажа. Таких долгожителей-трудяг история пока не знает."
   ]
  },
  {
   "cell_type": "markdown",
   "metadata": {},
   "source": [
    "Вероятно, в этих данных опечатка с точкой десятичного числа - она смещена на одну позицию вправо. Если вернут ее на место, то значения будут выглядеть реалистично."
   ]
  },
  {
   "cell_type": "markdown",
   "metadata": {},
   "source": [
    "Исправим данные в столбце: положительные значения уменьшим на порядок, а отрицательные значения приведём к абсолютным величинам."
   ]
  },
  {
   "cell_type": "markdown",
   "metadata": {},
   "source": [
    "Напишем функцию, которая будет положительные значения делить на 10 (то есть сместит точку в числах на одну цифру влево), а отрицательные значения переведёт в положительные. Назовём функцию days_employed_correction."
   ]
  },
  {
   "cell_type": "code",
   "execution_count": 16,
   "metadata": {},
   "outputs": [],
   "source": [
    "def days_employed_correction(days_employed):\n",
    "    if days_employed > 0:\n",
    "        return days_employed / 10\n",
    "    return days_employed * (-1)"
   ]
  },
  {
   "cell_type": "markdown",
   "metadata": {},
   "source": [
    "Теперь обновим столбец days_employed, применим к нему метод apply с аргументом функцией days_employed_correction."
   ]
  },
  {
   "cell_type": "code",
   "execution_count": 17,
   "metadata": {},
   "outputs": [],
   "source": [
    "df['days_employed'] = df['days_employed'].apply(days_employed_correction)"
   ]
  },
  {
   "cell_type": "markdown",
   "metadata": {},
   "source": [
    "Проверим, что значения в столбце были скорректированы. Выведем информацию о значения в столбце с помощью метода describe."
   ]
  },
  {
   "cell_type": "code",
   "execution_count": 18,
   "metadata": {
    "scrolled": true
   },
   "outputs": [
    {
     "data": {
      "text/plain": [
       "count    19351.000000\n",
       "mean      8432.176951\n",
       "std      13258.771925\n",
       "min         24.141633\n",
       "25%        927.009265\n",
       "50%       2194.220567\n",
       "75%       5537.882441\n",
       "max      40175.540048\n",
       "Name: days_employed, dtype: float64"
      ]
     },
     "execution_count": 18,
     "metadata": {},
     "output_type": "execute_result"
    }
   ],
   "source": [
    "df['days_employed'].describe()"
   ]
  },
  {
   "cell_type": "markdown",
   "metadata": {},
   "source": [
    "Отлично! Теперь данные в столбце похожи на правду!"
   ]
  },
  {
   "cell_type": "markdown",
   "metadata": {},
   "source": [
    "Вероятно, что в процессе выгрузки произошел технический сбой и данные были выгружены с ошибкой. Нужно обратить внимание инженеров на эту проблему."
   ]
  },
  {
   "cell_type": "markdown",
   "metadata": {},
   "source": [
    "<div class=\"alert alert-info\" role=\"alert\">\n",
    "Вернёмся к пропускам в столбце days_employed. Изучим строки таблицы, где встречаются пропуски трудового стажа. Применим метод describe для оценки статистических параметров в столбцах с числовыми значениями.\n",
    "<div>"
   ]
  },
  {
   "cell_type": "code",
   "execution_count": 19,
   "metadata": {
    "scrolled": true
   },
   "outputs": [
    {
     "data": {
      "text/html": [
       "<div>\n",
       "<style scoped>\n",
       "    .dataframe tbody tr th:only-of-type {\n",
       "        vertical-align: middle;\n",
       "    }\n",
       "\n",
       "    .dataframe tbody tr th {\n",
       "        vertical-align: top;\n",
       "    }\n",
       "\n",
       "    .dataframe thead th {\n",
       "        text-align: right;\n",
       "    }\n",
       "</style>\n",
       "<table border=\"1\" class=\"dataframe\">\n",
       "  <thead>\n",
       "    <tr style=\"text-align: right;\">\n",
       "      <th></th>\n",
       "      <th>children</th>\n",
       "      <th>days_employed</th>\n",
       "      <th>dob_years</th>\n",
       "      <th>education_id</th>\n",
       "      <th>family_status_id</th>\n",
       "      <th>debt</th>\n",
       "      <th>total_income</th>\n",
       "    </tr>\n",
       "  </thead>\n",
       "  <tbody>\n",
       "    <tr>\n",
       "      <td>count</td>\n",
       "      <td>2174.000000</td>\n",
       "      <td>0.0</td>\n",
       "      <td>2174.000000</td>\n",
       "      <td>2174.000000</td>\n",
       "      <td>2174.000000</td>\n",
       "      <td>2174.000000</td>\n",
       "      <td>0.0</td>\n",
       "    </tr>\n",
       "    <tr>\n",
       "      <td>mean</td>\n",
       "      <td>0.552438</td>\n",
       "      <td>NaN</td>\n",
       "      <td>43.632015</td>\n",
       "      <td>0.800828</td>\n",
       "      <td>0.975161</td>\n",
       "      <td>0.078197</td>\n",
       "      <td>NaN</td>\n",
       "    </tr>\n",
       "    <tr>\n",
       "      <td>std</td>\n",
       "      <td>1.469356</td>\n",
       "      <td>NaN</td>\n",
       "      <td>12.531481</td>\n",
       "      <td>0.530157</td>\n",
       "      <td>1.418220</td>\n",
       "      <td>0.268543</td>\n",
       "      <td>NaN</td>\n",
       "    </tr>\n",
       "    <tr>\n",
       "      <td>min</td>\n",
       "      <td>-1.000000</td>\n",
       "      <td>NaN</td>\n",
       "      <td>0.000000</td>\n",
       "      <td>0.000000</td>\n",
       "      <td>0.000000</td>\n",
       "      <td>0.000000</td>\n",
       "      <td>NaN</td>\n",
       "    </tr>\n",
       "    <tr>\n",
       "      <td>25%</td>\n",
       "      <td>0.000000</td>\n",
       "      <td>NaN</td>\n",
       "      <td>34.000000</td>\n",
       "      <td>0.250000</td>\n",
       "      <td>0.000000</td>\n",
       "      <td>0.000000</td>\n",
       "      <td>NaN</td>\n",
       "    </tr>\n",
       "    <tr>\n",
       "      <td>50%</td>\n",
       "      <td>0.000000</td>\n",
       "      <td>NaN</td>\n",
       "      <td>43.000000</td>\n",
       "      <td>1.000000</td>\n",
       "      <td>0.000000</td>\n",
       "      <td>0.000000</td>\n",
       "      <td>NaN</td>\n",
       "    </tr>\n",
       "    <tr>\n",
       "      <td>75%</td>\n",
       "      <td>1.000000</td>\n",
       "      <td>NaN</td>\n",
       "      <td>54.000000</td>\n",
       "      <td>1.000000</td>\n",
       "      <td>1.000000</td>\n",
       "      <td>0.000000</td>\n",
       "      <td>NaN</td>\n",
       "    </tr>\n",
       "    <tr>\n",
       "      <td>max</td>\n",
       "      <td>20.000000</td>\n",
       "      <td>NaN</td>\n",
       "      <td>73.000000</td>\n",
       "      <td>3.000000</td>\n",
       "      <td>4.000000</td>\n",
       "      <td>1.000000</td>\n",
       "      <td>NaN</td>\n",
       "    </tr>\n",
       "  </tbody>\n",
       "</table>\n",
       "</div>"
      ],
      "text/plain": [
       "          children  days_employed    dob_years  education_id  \\\n",
       "count  2174.000000            0.0  2174.000000   2174.000000   \n",
       "mean      0.552438            NaN    43.632015      0.800828   \n",
       "std       1.469356            NaN    12.531481      0.530157   \n",
       "min      -1.000000            NaN     0.000000      0.000000   \n",
       "25%       0.000000            NaN    34.000000      0.250000   \n",
       "50%       0.000000            NaN    43.000000      1.000000   \n",
       "75%       1.000000            NaN    54.000000      1.000000   \n",
       "max      20.000000            NaN    73.000000      3.000000   \n",
       "\n",
       "       family_status_id         debt  total_income  \n",
       "count       2174.000000  2174.000000           0.0  \n",
       "mean           0.975161     0.078197           NaN  \n",
       "std            1.418220     0.268543           NaN  \n",
       "min            0.000000     0.000000           NaN  \n",
       "25%            0.000000     0.000000           NaN  \n",
       "50%            0.000000     0.000000           NaN  \n",
       "75%            1.000000     0.000000           NaN  \n",
       "max            4.000000     1.000000           NaN  "
      ]
     },
     "execution_count": 19,
     "metadata": {},
     "output_type": "execute_result"
    }
   ],
   "source": [
    "df[df['days_employed'].isnull()].describe()"
   ]
  },
  {
   "cell_type": "markdown",
   "metadata": {},
   "source": [
    "<div class=\"alert alert-info\" role=\"alert\">\n",
    "Посмотрим на столбцы с текстовыми значениями. Применим метод describe с аргументом include='O'.\n",
    "<div>"
   ]
  },
  {
   "cell_type": "code",
   "execution_count": 20,
   "metadata": {},
   "outputs": [
    {
     "data": {
      "text/html": [
       "<div>\n",
       "<style scoped>\n",
       "    .dataframe tbody tr th:only-of-type {\n",
       "        vertical-align: middle;\n",
       "    }\n",
       "\n",
       "    .dataframe tbody tr th {\n",
       "        vertical-align: top;\n",
       "    }\n",
       "\n",
       "    .dataframe thead th {\n",
       "        text-align: right;\n",
       "    }\n",
       "</style>\n",
       "<table border=\"1\" class=\"dataframe\">\n",
       "  <thead>\n",
       "    <tr style=\"text-align: right;\">\n",
       "      <th></th>\n",
       "      <th>education</th>\n",
       "      <th>family_status</th>\n",
       "      <th>gender</th>\n",
       "      <th>income_type</th>\n",
       "      <th>purpose</th>\n",
       "    </tr>\n",
       "  </thead>\n",
       "  <tbody>\n",
       "    <tr>\n",
       "      <td>count</td>\n",
       "      <td>2174</td>\n",
       "      <td>2174</td>\n",
       "      <td>2174</td>\n",
       "      <td>2174</td>\n",
       "      <td>2174</td>\n",
       "    </tr>\n",
       "    <tr>\n",
       "      <td>unique</td>\n",
       "      <td>12</td>\n",
       "      <td>5</td>\n",
       "      <td>2</td>\n",
       "      <td>5</td>\n",
       "      <td>38</td>\n",
       "    </tr>\n",
       "    <tr>\n",
       "      <td>top</td>\n",
       "      <td>среднее</td>\n",
       "      <td>женат / замужем</td>\n",
       "      <td>F</td>\n",
       "      <td>сотрудник</td>\n",
       "      <td>на проведение свадьбы</td>\n",
       "    </tr>\n",
       "    <tr>\n",
       "      <td>freq</td>\n",
       "      <td>1408</td>\n",
       "      <td>1237</td>\n",
       "      <td>1484</td>\n",
       "      <td>1105</td>\n",
       "      <td>92</td>\n",
       "    </tr>\n",
       "  </tbody>\n",
       "</table>\n",
       "</div>"
      ],
      "text/plain": [
       "       education    family_status gender income_type                purpose\n",
       "count       2174             2174   2174        2174                   2174\n",
       "unique        12                5      2           5                     38\n",
       "top      среднее  женат / замужем      F   сотрудник  на проведение свадьбы\n",
       "freq        1408             1237   1484        1105                     92"
      ]
     },
     "execution_count": 20,
     "metadata": {},
     "output_type": "execute_result"
    }
   ],
   "source": [
    "df[df['days_employed'].isnull()].describe(include='O')"
   ]
  },
  {
   "cell_type": "markdown",
   "metadata": {},
   "source": [
    "<div class=\"alert alert-info\" role=\"alert\">\n",
    "Можно заметить, что в строках, где встречаются пропуски в столбце days_employed, клиенты абсолютно разнородные: встречаются разные возрасты, типы занятости, уровни образования, семейные статусы, количество детей, цели кредита. Скорее всего пропуски появились случайным образом.\n",
    "\n",
    "Единственное, что мы можем сделать в такой ситуации - пенсионерам указать медианный стаж среди пенсионеров. Медианный, а не средний, потому что эта статистическая мера центральной тенденции лучше отражает стаж - она защищает нас от искажений в результате выбросов в данных.\n",
    "    \n",
    "Для клиентов с остальными типами занятости указать медиану мы не можем - это было бы очень грубым усреднением. Кто-то только начинает свой профессиональный путь, а кто-то уже близок к пенсии. Поэтому для них оставим пока пропуски.\n",
    "<div>"
   ]
  },
  {
   "cell_type": "markdown",
   "metadata": {},
   "source": [
    "<div class=\"alert alert-info\" role=\"alert\">\n",
    "Оценим изменчивость стажа среди пенсионеров.\n",
    "    <div>"
   ]
  },
  {
   "cell_type": "code",
   "execution_count": 21,
   "metadata": {
    "scrolled": true
   },
   "outputs": [
    {
     "data": {
      "text/plain": [
       "count     3443.000000\n",
       "mean     36500.349124\n",
       "std       2106.960607\n",
       "min      32872.872060\n",
       "25%      34664.934615\n",
       "50%      36521.330627\n",
       "75%      38323.139687\n",
       "max      40175.540048\n",
       "Name: days_employed, dtype: float64"
      ]
     },
     "execution_count": 21,
     "metadata": {},
     "output_type": "execute_result"
    }
   ],
   "source": [
    "df[(df['income_type'] == 'пенсионер') & (df['days_employed'].notnull())]['days_employed'].describe()"
   ]
  },
  {
   "cell_type": "markdown",
   "metadata": {},
   "source": [
    "<div class=\"alert alert-info\" role=\"alert\">\n",
    "Стаж среди пенсионеров колеблется от 32872 до 40175 дней. Разброс кажется не таким большим, поэтому мы можем рассчитать медианный средний стаж и заполнить им стажы у пенсионеров, где пропущены значения.\n",
    "    <div>"
   ]
  },
  {
   "cell_type": "markdown",
   "metadata": {},
   "source": [
    "<div class=\"alert alert-info\" role=\"alert\">\n",
    "Посчитаем, у скольких пенсионеров не заполнен стаж.  \n",
    "    <div>"
   ]
  },
  {
   "cell_type": "code",
   "execution_count": 22,
   "metadata": {},
   "outputs": [
    {
     "data": {
      "text/plain": [
       "413"
      ]
     },
     "execution_count": 22,
     "metadata": {},
     "output_type": "execute_result"
    }
   ],
   "source": [
    "df[(df['income_type'] == 'пенсионер') & (df['days_employed'].isnull())]['income_type'].count()"
   ]
  },
  {
   "cell_type": "markdown",
   "metadata": {},
   "source": [
    "<div class=\"alert alert-info\" role=\"alert\">\n",
    "Рассчитаем медианный стаж для пенсионеров.\n",
    "<div>"
   ]
  },
  {
   "cell_type": "code",
   "execution_count": 23,
   "metadata": {},
   "outputs": [
    {
     "data": {
      "text/plain": [
       "36521.330626573115"
      ]
     },
     "execution_count": 23,
     "metadata": {},
     "output_type": "execute_result"
    }
   ],
   "source": [
    "median_days_employed = df[(df['income_type'] == 'пенсионер') & (df['days_employed'].notnull())]['days_employed'].median()\n",
    "median_days_employed"
   ]
  },
  {
   "cell_type": "markdown",
   "metadata": {},
   "source": [
    "<div class=\"alert alert-info\" role=\"alert\">\n",
    "Заполним этим значением пропуски у пенсионеров. Для этого напишем функцию, которая будет находить строки, где в столбце days_employed пропуск, а в столбце income_type находится 'пенсионер'. Чтобы сравнить значение с NaN, импортируем метод isnan из библиотеки math.\n",
    "\n",
    "Напишем функцию, назовём её days_employed_correction_2.\n",
    "    <div>"
   ]
  },
  {
   "cell_type": "code",
   "execution_count": 24,
   "metadata": {},
   "outputs": [],
   "source": [
    "from math import isnan\n",
    "def days_employed_correction_2(row):\n",
    "    income_type = row['income_type']\n",
    "    days_employed = row['days_employed']\n",
    "    if income_type == 'пенсионер' and isnan(days_employed): \n",
    "        return median_days_employed\n",
    "    else:\n",
    "        return days_employed"
   ]
  },
  {
   "cell_type": "markdown",
   "metadata": {},
   "source": [
    "<div class=\"alert alert-info\" role=\"alert\">\n",
    "Заполним медианным значением стажа пустые строки у пенсионеров.\n",
    "    <div>"
   ]
  },
  {
   "cell_type": "code",
   "execution_count": 25,
   "metadata": {},
   "outputs": [],
   "source": [
    "df['days_employed'] = df.apply(days_employed_correction_2, axis=1)"
   ]
  },
  {
   "cell_type": "markdown",
   "metadata": {},
   "source": [
    "<div class=\"alert alert-info\" role=\"alert\">\n",
    "Проверим, что функция сработала. Посчитаем пропуски в стаже у пенсионеров.\n",
    "    <div>"
   ]
  },
  {
   "cell_type": "code",
   "execution_count": 26,
   "metadata": {},
   "outputs": [
    {
     "data": {
      "text/plain": [
       "0"
      ]
     },
     "execution_count": 26,
     "metadata": {},
     "output_type": "execute_result"
    }
   ],
   "source": [
    "df[(df['income_type'] == 'пенсионер') & (df['days_employed'].isnull())]['income_type'].count()"
   ]
  },
  {
   "cell_type": "markdown",
   "metadata": {},
   "source": [
    "<div class=\"alert alert-info\" role=\"alert\">\n",
    "Пропусков не оказалось, значит функция верно сработала!\n",
    "    <div>"
   ]
  },
  {
   "cell_type": "markdown",
   "metadata": {},
   "source": [
    "<div class=\"alert alert-info\" role=\"alert\">\n",
    "Теперь вернёмся к пропускам в столбце total_income. Заполним их медианными значениями ежемесячного дохода исходя из типа занятости. Для этого сначала нужно посчитать медианы для каждого типа занятости. Выведем все типы занятости.\n",
    "    <div>"
   ]
  },
  {
   "cell_type": "code",
   "execution_count": 27,
   "metadata": {},
   "outputs": [
    {
     "data": {
      "text/plain": [
       "сотрудник          11119\n",
       "компаньон           5085\n",
       "пенсионер           3856\n",
       "госслужащий         1459\n",
       "безработный            2\n",
       "предприниматель        2\n",
       "студент                1\n",
       "в декрете              1\n",
       "Name: income_type, dtype: int64"
      ]
     },
     "execution_count": 27,
     "metadata": {},
     "output_type": "execute_result"
    }
   ],
   "source": [
    "df['income_type'].value_counts()"
   ]
  },
  {
   "cell_type": "markdown",
   "metadata": {},
   "source": [
    "<div class=\"alert alert-info\" role=\"alert\">\n",
    "Рассчитаем медианный доход для каждого типа занятости. \n",
    "    <div>"
   ]
  },
  {
   "cell_type": "markdown",
   "metadata": {},
   "source": [
    "<div class=\"alert alert-info\" role=\"alert\">\n",
    "Медианный доход сотрудников:\n",
    "    <div>"
   ]
  },
  {
   "cell_type": "code",
   "execution_count": 28,
   "metadata": {
    "scrolled": true
   },
   "outputs": [
    {
     "data": {
      "text/plain": [
       "142594.39684740017"
      ]
     },
     "execution_count": 28,
     "metadata": {},
     "output_type": "execute_result"
    }
   ],
   "source": [
    "median_income_employee = df[df['income_type'] == 'сотрудник']['total_income'].median()\n",
    "median_income_employee"
   ]
  },
  {
   "cell_type": "markdown",
   "metadata": {},
   "source": [
    "<div class=\"alert alert-info\" role=\"alert\">\n",
    "Медианный доход компаньонов:\n",
    "    <div>"
   ]
  },
  {
   "cell_type": "code",
   "execution_count": 29,
   "metadata": {},
   "outputs": [
    {
     "data": {
      "text/plain": [
       "172357.95096577113"
      ]
     },
     "execution_count": 29,
     "metadata": {},
     "output_type": "execute_result"
    }
   ],
   "source": [
    "median_income_companion = df[df['income_type'] == 'компаньон']['total_income'].median()\n",
    "median_income_companion"
   ]
  },
  {
   "cell_type": "markdown",
   "metadata": {},
   "source": [
    "<div class=\"alert alert-info\" role=\"alert\">\n",
    "Медианный доход пенсионеров:\n",
    "    <div>"
   ]
  },
  {
   "cell_type": "code",
   "execution_count": 30,
   "metadata": {},
   "outputs": [
    {
     "data": {
      "text/plain": [
       "118514.48641164352"
      ]
     },
     "execution_count": 30,
     "metadata": {},
     "output_type": "execute_result"
    }
   ],
   "source": [
    "median_income_pensioner = df[df['income_type'] == 'пенсионер']['total_income'].median()\n",
    "median_income_pensioner"
   ]
  },
  {
   "cell_type": "markdown",
   "metadata": {},
   "source": [
    "<div class=\"alert alert-info\" role=\"alert\">\n",
    "Медианный доход госслужащих:\n",
    "    <div>"
   ]
  },
  {
   "cell_type": "code",
   "execution_count": 31,
   "metadata": {},
   "outputs": [
    {
     "data": {
      "text/plain": [
       "150447.9352830068"
      ]
     },
     "execution_count": 31,
     "metadata": {},
     "output_type": "execute_result"
    }
   ],
   "source": [
    "median_income_civil_servant = df[df['income_type'] == 'госслужащий']['total_income'].median()\n",
    "median_income_civil_servant"
   ]
  },
  {
   "cell_type": "markdown",
   "metadata": {},
   "source": [
    "<div class=\"alert alert-info\" role=\"alert\">\n",
    "Медианный доход безработных:\n",
    "    <div>"
   ]
  },
  {
   "cell_type": "code",
   "execution_count": 32,
   "metadata": {},
   "outputs": [
    {
     "data": {
      "text/plain": [
       "131339.7516762103"
      ]
     },
     "execution_count": 32,
     "metadata": {},
     "output_type": "execute_result"
    }
   ],
   "source": [
    "median_income_unemployed = df[df['income_type'] == 'безработный']['total_income'].median()\n",
    "median_income_unemployed"
   ]
  },
  {
   "cell_type": "markdown",
   "metadata": {},
   "source": [
    "<div class=\"alert alert-info\" role=\"alert\">\n",
    "Медианный доход предпринимателей:\n",
    "    <div>"
   ]
  },
  {
   "cell_type": "code",
   "execution_count": 33,
   "metadata": {},
   "outputs": [
    {
     "data": {
      "text/plain": [
       "499163.1449470857"
      ]
     },
     "execution_count": 33,
     "metadata": {},
     "output_type": "execute_result"
    }
   ],
   "source": [
    "median_income_entrepreneur = df[df['income_type'] == 'предприниматель']['total_income'].median()\n",
    "median_income_entrepreneur"
   ]
  },
  {
   "cell_type": "markdown",
   "metadata": {},
   "source": [
    "<div class=\"alert alert-info\" role=\"alert\">\n",
    "Медианный доход студентов:\n",
    "    <div>"
   ]
  },
  {
   "cell_type": "code",
   "execution_count": 34,
   "metadata": {},
   "outputs": [
    {
     "data": {
      "text/plain": [
       "98201.62531401133"
      ]
     },
     "execution_count": 34,
     "metadata": {},
     "output_type": "execute_result"
    }
   ],
   "source": [
    "median_income_student = df[df['income_type'] == 'студент']['total_income'].median()\n",
    "median_income_student"
   ]
  },
  {
   "cell_type": "markdown",
   "metadata": {},
   "source": [
    "<div class=\"alert alert-info\" role=\"alert\">\n",
    "Медианный доход клиентов в декрете:\n",
    "    <div>"
   ]
  },
  {
   "cell_type": "code",
   "execution_count": 35,
   "metadata": {},
   "outputs": [
    {
     "data": {
      "text/plain": [
       "53829.13072905995"
      ]
     },
     "execution_count": 35,
     "metadata": {},
     "output_type": "execute_result"
    }
   ],
   "source": [
    "median_income_decree = df[df['income_type'] == 'в декрете']['total_income'].median()\n",
    "median_income_decree"
   ]
  },
  {
   "cell_type": "markdown",
   "metadata": {},
   "source": [
    "<div class=\"alert alert-info\" role=\"alert\">\n",
    "Получились довольно высокие медианные доходы даже по меркам Москвы. Можно предположить, что банк даёт кредит обеспеченным людям. Видимо, чтобы сократить процент невозвратов.\n",
    "    <div>"
   ]
  },
  {
   "cell_type": "markdown",
   "metadata": {},
   "source": [
    "<div class=\"alert alert-info\" role=\"alert\">\n",
    "Теперь напишем функцию, которая будет искать пропуски в столбце total_income и, исходя из типа занятости в столбце income_type, возвращать подходящий медианный доход. Назовём функцию total_income_correction.\n",
    "    <div>"
   ]
  },
  {
   "cell_type": "code",
   "execution_count": 36,
   "metadata": {},
   "outputs": [],
   "source": [
    "def total_income_correction(row):\n",
    "    income_type = row['income_type']\n",
    "    total_income = row['total_income']\n",
    "    if isnan(total_income):\n",
    "        if income_type == 'сотрудник': \n",
    "            return median_income_employee\n",
    "        elif income_type == 'компаньон':\n",
    "            return median_income_companion\n",
    "        elif income_type == 'пенсионер':\n",
    "            return median_income_pensioner\n",
    "        elif income_type == 'госслужащий':\n",
    "            return median_income_civil_servant\n",
    "        elif income_type == 'безработный':\n",
    "            return median_income_unemployed\n",
    "        elif income_type == 'предприниматель':\n",
    "            return median_income_entrepreneur\n",
    "        elif income_type == 'студент':\n",
    "            return median_income_student\n",
    "        elif income_type == 'в декрете':\n",
    "            return median_income_decree\n",
    "    else:\n",
    "        return total_income   "
   ]
  },
  {
   "cell_type": "markdown",
   "metadata": {},
   "source": [
    "<div class=\"alert alert-info\" role=\"alert\">\n",
    "Проверим работу функции на нескольких примерах. Для этого создадим таблицу из заголовков и одной строки. Чтобы задать пустое значение, импортурем библиотеку numpy.\n",
    "    <div>"
   ]
  },
  {
   "cell_type": "code",
   "execution_count": 37,
   "metadata": {},
   "outputs": [
    {
     "data": {
      "text/plain": [
       "150447.9352830068"
      ]
     },
     "execution_count": 37,
     "metadata": {},
     "output_type": "execute_result"
    }
   ],
   "source": [
    "import numpy as np\n",
    "row_values = [np.nan, 'госслужащий'] \n",
    "row_columns = ['total_income', 'income_type']\n",
    "row = pd.Series(data=row_values, index=row_columns)\n",
    "total_income_correction(row)"
   ]
  },
  {
   "cell_type": "code",
   "execution_count": 38,
   "metadata": {},
   "outputs": [
    {
     "data": {
      "text/plain": [
       "98201.62531401133"
      ]
     },
     "execution_count": 38,
     "metadata": {},
     "output_type": "execute_result"
    }
   ],
   "source": [
    "row_values = [np.nan, 'студент'] \n",
    "row_columns = ['total_income', 'income_type']\n",
    "row = pd.Series(data=row_values, index=row_columns)\n",
    "total_income_correction(row)"
   ]
  },
  {
   "cell_type": "markdown",
   "metadata": {},
   "source": [
    "<div class=\"alert alert-info\" role=\"alert\">\n",
    "Функция работает верно. Доходы соответствуют рассчитанным выше значениям.\n",
    "    <div>"
   ]
  },
  {
   "cell_type": "markdown",
   "metadata": {},
   "source": [
    "<div class=\"alert alert-info\" role=\"alert\">\n",
    "Заполним медианными значениеми доходов пустые строки в столбце total_income. Применим метод apply с аргументом функцией total_income_correction.\n",
    "    <div>"
   ]
  },
  {
   "cell_type": "code",
   "execution_count": 39,
   "metadata": {},
   "outputs": [],
   "source": [
    "df['total_income'] = df.apply(total_income_correction, axis=1)"
   ]
  },
  {
   "cell_type": "markdown",
   "metadata": {},
   "source": [
    "<div class=\"alert alert-info\" role=\"alert\">\n",
    "Проверим, что пустых значений в столбце total_income больше нет. \n",
    "    <div>"
   ]
  },
  {
   "cell_type": "code",
   "execution_count": 40,
   "metadata": {},
   "outputs": [
    {
     "data": {
      "text/plain": [
       "0"
      ]
     },
     "execution_count": 40,
     "metadata": {},
     "output_type": "execute_result"
    }
   ],
   "source": [
    "df['total_income'].isnull().sum()"
   ]
  },
  {
   "cell_type": "markdown",
   "metadata": {},
   "source": [
    "<div class=\"alert alert-info\" role=\"alert\">\n",
    "    Отлично! Клиентов без дохода не осталось!\n",
    "<div>"
   ]
  },
  {
   "cell_type": "markdown",
   "metadata": {},
   "source": [
    "### Вывод"
   ]
  },
  {
   "cell_type": "markdown",
   "metadata": {
    "scrolled": false
   },
   "source": [
    "<div class=\"alert alert-info\" role=\"alert\">\n",
    "В ходе исследования данных были обнаружены пропуски в столбцах days_employed и total_income примерно в 10% строк таблицы. В столбце days_employed было принято решение заменить пропуски у пенсионеров на медианный стаж среди пенсионеров, у которых данные присутствуют. Для остальных клиентов мы оставили пропуски. В столбце total_income мы заменили пропуски на медианные ежемесячные доходы исходя из типа занятости клиентов.\n",
    "    \n",
    "Какая могла быть причина пропусков? Скорее всего произошла ошибка в выгрузке данных или при их записи в БД. Об этой проблеме нужно сообщить инженеру. Пропуски в данных могут быть случайными и нет. В нашем случае пропуски скорее всего являются случайными, а значит их причиной могут быть проблемы с записью данных. Каждый отдельный случай необходимо разобрать и выявить причину.\n",
    "    <div>"
   ]
  },
  {
   "cell_type": "markdown",
   "metadata": {},
   "source": [
    "### Работа с некачественными данными"
   ]
  },
  {
   "cell_type": "markdown",
   "metadata": {},
   "source": [
    "В ходе первичного знакомства с данными мы обнаружили отрицательные значения в столбце children. Узнаем, сколько всего таких значений. Выведем все уникальные значения столбца методом value_counts()."
   ]
  },
  {
   "cell_type": "code",
   "execution_count": 41,
   "metadata": {},
   "outputs": [
    {
     "data": {
      "text/plain": [
       " 0     14149\n",
       " 1      4818\n",
       " 2      2055\n",
       " 3       330\n",
       " 20       76\n",
       "-1        47\n",
       " 4        41\n",
       " 5         9\n",
       "Name: children, dtype: int64"
      ]
     },
     "execution_count": 41,
     "metadata": {},
     "output_type": "execute_result"
    }
   ],
   "source": [
    "df['children'].value_counts()"
   ]
  },
  {
   "cell_type": "markdown",
   "metadata": {},
   "source": [
    "Мы обнаружили следующие артефакты: \n",
    "* отрицательное количество детей, а именно -1 ребенок у 47 клиентов;\n",
    "* 20 детей у 76 клиентов. 20 детей, конечно, может быть у человека, но неправдоподобно выглядит разрыв между соседними значениями количества детей. У клиентов встречаются 1, 2, 3, 4, 5 детей, а дальше сразу 20. Причем такое количество встречается у 76 клиентов, это больше, чем клиентов с 4 и 5 детьми вместе взятых.\n",
    "\n",
    "Можно предположить, что ошибки появились при некорректном вводе данных. Например, минус мог появится, потому что набирали дефис/тире. А ноль в значении '20' - случайно, как опечатка. Если бы мы были уверены в этом предположении, то могли бы восстановить данные в ячейках. Однако, так как мы не уверены, и так как строк с артефактами лишь небольшая часть от всей таблицы, то их можно безболезненно удалить.\n",
    "\n",
    "Удалим строки со значениями детей '-1' и '20'. Для этого сначала найдём индексы строк, где встречаются такие значения. Применим метод index к строкам с ошибками."
   ]
  },
  {
   "cell_type": "code",
   "execution_count": 42,
   "metadata": {},
   "outputs": [
    {
     "data": {
      "text/plain": [
       "Int64Index([  291,   606,   705,   720,   742,   800,   941,  1074,  1363,\n",
       "             1929,\n",
       "            ...\n",
       "            20038, 20355, 20393, 20717, 21008, 21140, 21325, 21390, 21404,\n",
       "            21491],\n",
       "           dtype='int64', length=123)"
      ]
     },
     "execution_count": 42,
     "metadata": {},
     "output_type": "execute_result"
    }
   ],
   "source": [
    "wrong_children_indexes = df[(df['children'] == -1) | (df['children'] == 20)].index\n",
    "wrong_children_indexes"
   ]
  },
  {
   "cell_type": "markdown",
   "metadata": {},
   "source": [
    "Всего 123 строки с такими значениями. Теперь удалим эти строки методом drop(), аргументом для которого будет список индексов."
   ]
  },
  {
   "cell_type": "code",
   "execution_count": 43,
   "metadata": {},
   "outputs": [],
   "source": [
    "df = df.drop(wrong_children_indexes)"
   ]
  },
  {
   "cell_type": "markdown",
   "metadata": {},
   "source": [
    "Чтобы окончательно удостовериться, что строки с количеством детей '-1' и '20' были удалены, выведем все уникальные значения столбца children методом value_counts()."
   ]
  },
  {
   "cell_type": "code",
   "execution_count": 44,
   "metadata": {},
   "outputs": [
    {
     "data": {
      "text/plain": [
       "0    14149\n",
       "1     4818\n",
       "2     2055\n",
       "3      330\n",
       "4       41\n",
       "5        9\n",
       "Name: children, dtype: int64"
      ]
     },
     "execution_count": 44,
     "metadata": {},
     "output_type": "execute_result"
    }
   ],
   "source": [
    "df['children'].value_counts()"
   ]
  },
  {
   "cell_type": "markdown",
   "metadata": {},
   "source": [
    "Таких строк больше осталось. Проблема с детьми решена!"
   ]
  },
  {
   "cell_type": "markdown",
   "metadata": {},
   "source": [
    "Теперь изучим значения в столбце education. При первоначальном знакомстве с данными нам показалось, что там излишне большое количество уникальных значений. \n",
    "\n",
    "Выведем уникальные значения этого столбца."
   ]
  },
  {
   "cell_type": "code",
   "execution_count": 45,
   "metadata": {
    "scrolled": true
   },
   "outputs": [
    {
     "data": {
      "text/plain": [
       "среднее                13667\n",
       "высшее                  4698\n",
       "СРЕДНЕЕ                  766\n",
       "Среднее                  703\n",
       "неоконченное высшее      665\n",
       "ВЫСШЕЕ                   271\n",
       "Высшее                   268\n",
       "начальное                250\n",
       "Неоконченное высшее       47\n",
       "НЕОКОНЧЕННОЕ ВЫСШЕЕ       29\n",
       "НАЧАЛЬНОЕ                 17\n",
       "Начальное                 15\n",
       "ученая степень             4\n",
       "УЧЕНАЯ СТЕПЕНЬ             1\n",
       "Ученая степень             1\n",
       "Name: education, dtype: int64"
      ]
     },
     "execution_count": 45,
     "metadata": {},
     "output_type": "execute_result"
    }
   ],
   "source": [
    "df['education'].value_counts()"
   ]
  },
  {
   "cell_type": "markdown",
   "metadata": {},
   "source": [
    "Видно, что многообразие объясняется регистром, которым набирали значения. Это может усложнить работу с данными в будущем, поэтому приведём их в порядок. Применим метод str.lower() к столбцу education и приведём значения к нижнему регистру."
   ]
  },
  {
   "cell_type": "code",
   "execution_count": 46,
   "metadata": {},
   "outputs": [],
   "source": [
    "df['education'] = df['education'].str.lower()"
   ]
  },
  {
   "cell_type": "markdown",
   "metadata": {},
   "source": [
    "Снова выведем уникальные значения этого столбца, чтобы проверить, что метод сработал."
   ]
  },
  {
   "cell_type": "code",
   "execution_count": 47,
   "metadata": {},
   "outputs": [
    {
     "data": {
      "text/plain": [
       "среднее                15136\n",
       "высшее                  5237\n",
       "неоконченное высшее      741\n",
       "начальное                282\n",
       "ученая степень             6\n",
       "Name: education, dtype: int64"
      ]
     },
     "execution_count": 47,
     "metadata": {},
     "output_type": "execute_result"
    }
   ],
   "source": [
    "df['education'].value_counts()"
   ]
  },
  {
   "cell_type": "markdown",
   "metadata": {},
   "source": [
    "Так-то лучше! Теперь осталось только 5 уникальных значений уровня образования - все разные по смыслу."
   ]
  },
  {
   "cell_type": "markdown",
   "metadata": {},
   "source": [
    "Теперь изучим значения в столбце gender. При первоначальном знакомстве с данными мы там обнаружили три вида пола.\n",
    "\n",
    "Выведем уникальные значения этого столбца."
   ]
  },
  {
   "cell_type": "code",
   "execution_count": 48,
   "metadata": {
    "scrolled": true
   },
   "outputs": [
    {
     "data": {
      "text/plain": [
       "F      14154\n",
       "M       7247\n",
       "XNA        1\n",
       "Name: gender, dtype: int64"
      ]
     },
     "execution_count": 48,
     "metadata": {},
     "output_type": "execute_result"
    }
   ],
   "source": [
    "df['gender'].value_counts()"
   ]
  },
  {
   "cell_type": "markdown",
   "metadata": {},
   "source": [
    "У одного из клиентов указан пол 'XNA'. Не исключено, что эта аббревиатура что-то означает и была указана специально, однако более вероятно, что это просто ошибка ввода данных. Установить истинный пол мы не можем, так как неизвестно имя клиента. Поэтому удалим эту строку, тем более что она всего одна в таблице.\n",
    "\n",
    "Найдем индекс этой строки. Применим метод index к строке с ошибкой."
   ]
  },
  {
   "cell_type": "code",
   "execution_count": 49,
   "metadata": {},
   "outputs": [
    {
     "data": {
      "text/plain": [
       "Int64Index([10701], dtype='int64')"
      ]
     },
     "execution_count": 49,
     "metadata": {},
     "output_type": "execute_result"
    }
   ],
   "source": [
    "wrong_gender_indexes = df[df['gender'] == 'XNA'].index\n",
    "wrong_gender_indexes"
   ]
  },
  {
   "cell_type": "markdown",
   "metadata": {},
   "source": [
    "Теперь удалим эту строку методом drop(), аргументом для которого будет список индексов, в нашем случае состоящий из одного элемента."
   ]
  },
  {
   "cell_type": "code",
   "execution_count": 50,
   "metadata": {},
   "outputs": [],
   "source": [
    "df = df.drop(wrong_gender_indexes)"
   ]
  },
  {
   "cell_type": "markdown",
   "metadata": {},
   "source": [
    "Чтобы окончательно удостовериться, что строка с полом 'XNA' удалена, выведем все уникальные значения столбца gender методом value_counts()."
   ]
  },
  {
   "cell_type": "code",
   "execution_count": 51,
   "metadata": {
    "scrolled": true
   },
   "outputs": [
    {
     "data": {
      "text/plain": [
       "F    14154\n",
       "M     7247\n",
       "Name: gender, dtype: int64"
      ]
     },
     "execution_count": 51,
     "metadata": {},
     "output_type": "execute_result"
    }
   ],
   "source": [
    "df['gender'].value_counts()"
   ]
  },
  {
   "cell_type": "markdown",
   "metadata": {},
   "source": [
    "Строка с ошибкой удалена. Осталось два пола - консерваторы торжествуют!"
   ]
  },
  {
   "cell_type": "markdown",
   "metadata": {},
   "source": [
    "Теперь изучим значения в столбце dob_years. При первоначальном знакомстве с данными мы заметили, что есть клиенты с возрастом 0 лет. Выведем все уникальные значения возрастов до 18 лет и более 120 лет, возможно такие возраста тоже встречаются в таблице. Первым кредит не положен, а вторые, к сожалению, совсем малочисленны в обществе, чтобы попасть в нашу таблицу."
   ]
  },
  {
   "cell_type": "code",
   "execution_count": 52,
   "metadata": {},
   "outputs": [
    {
     "data": {
      "text/plain": [
       "0    100\n",
       "Name: dob_years, dtype: int64"
      ]
     },
     "execution_count": 52,
     "metadata": {},
     "output_type": "execute_result"
    }
   ],
   "source": [
    "df[(df['dob_years'] < 18) | (df['dob_years'] > 120)]['dob_years'].value_counts()"
   ]
  },
  {
   "cell_type": "markdown",
   "metadata": {},
   "source": [
    "Клиентов, которым 0 лет, аж 100 человек. Других \"неподходящих\" возрастов нет. Ноль лет - это явно ошибка. К сожалению, точно восстановить эти данные мы не можем. Но в теории можно для клиентов с типом занятости 'пенсионер' выставить медианный возраст среди других пенсионеров в таблице, а для остальных клиентов - медианный возраст среди клиентов с другим типом занятости. Так как строк с ошибками немного, то просто удалим их из таблицы."
   ]
  },
  {
   "cell_type": "markdown",
   "metadata": {},
   "source": [
    "Найдем индексы строк с ошибками, применив метод index."
   ]
  },
  {
   "cell_type": "code",
   "execution_count": 53,
   "metadata": {},
   "outputs": [
    {
     "data": {
      "text/plain": [
       "Int64Index([   99,   149,   270,   578,  1040,  1149,  1175,  1386,  1890,\n",
       "             1898,  2082,  2284,  2469,  2487,  2870,  3044,  3147,  3704,\n",
       "             4064,  4147,  4922,  4930,  5014,  6071,  6407,  6411,  6670,\n",
       "             6778,  6831,  6848,  6859,  7034,  7073,  7075,  7252,  7344,\n",
       "             8061,  8416,  8574,  8672,  8784,  9062,  9151,  9588, 10163,\n",
       "            10188, 10306, 10364, 10384, 10545, 10595, 11077, 11289, 11468,\n",
       "            11481, 11576, 11664, 11990, 12062, 12225, 12297, 12403, 12729,\n",
       "            13117, 13187, 13232, 13413, 13423, 13439, 13521, 13741, 13968,\n",
       "            14477, 14514, 14608, 14659, 15140, 15295, 15409, 15433, 15886,\n",
       "            15891, 16042, 16861, 16922, 17215, 17306, 17613, 18176, 18415,\n",
       "            18539, 18732, 18851, 19116, 19371, 19829, 20462, 20577, 21179,\n",
       "            21313],\n",
       "           dtype='int64')"
      ]
     },
     "execution_count": 53,
     "metadata": {},
     "output_type": "execute_result"
    }
   ],
   "source": [
    "wrong_years_indexes = df[df['dob_years'] == 0].index\n",
    "wrong_years_indexes"
   ]
  },
  {
   "cell_type": "markdown",
   "metadata": {},
   "source": [
    "Теперь удалим эти строки методом drop(), аргументом для которого будет список индексов."
   ]
  },
  {
   "cell_type": "code",
   "execution_count": 54,
   "metadata": {},
   "outputs": [],
   "source": [
    "df = df.drop(wrong_years_indexes)"
   ]
  },
  {
   "cell_type": "markdown",
   "metadata": {},
   "source": [
    "Чтобы окончательно удостовериться, что клиенты с возрастом '0' были удалены, попробуем вывести строки с ошибками."
   ]
  },
  {
   "cell_type": "code",
   "execution_count": 55,
   "metadata": {},
   "outputs": [
    {
     "data": {
      "text/plain": [
       "Series([], Name: dob_years, dtype: int64)"
      ]
     },
     "execution_count": 55,
     "metadata": {},
     "output_type": "execute_result"
    }
   ],
   "source": [
    "df[df['dob_years'] == 0]['dob_years'].value_counts()"
   ]
  },
  {
   "cell_type": "markdown",
   "metadata": {},
   "source": [
    "Строки с ошибками удалены! Таблица становится всё более годной для работы с ней: проверки гипотез и поисков инсайтов."
   ]
  },
  {
   "cell_type": "markdown",
   "metadata": {},
   "source": [
    "### Вывод"
   ]
  },
  {
   "cell_type": "markdown",
   "metadata": {},
   "source": [
    "Были обнаружены некачественные данные в столбцах children, education, gender и dob_years. Ошибки в них больше похожи на некорректный ввод. Это повод настроить \"защиту от дурака\" в интерфейсах заполнения данных. Тогда в будщем такие проблемы в данных устранять не придётся."
   ]
  },
  {
   "cell_type": "markdown",
   "metadata": {},
   "source": [
    "### Замена типа данных"
   ]
  },
  {
   "cell_type": "markdown",
   "metadata": {},
   "source": [
    "При знакомстве с данными мы обратили внимание, что данные в столбце с ежемесячным доходом имеют вещественный тип. \n",
    "\n",
    "Выведем несколько случайных данных из столбца total_income."
   ]
  },
  {
   "cell_type": "code",
   "execution_count": 90,
   "metadata": {},
   "outputs": [
    {
     "data": {
      "text/plain": [
       "7691     141067.943609\n",
       "152      143113.329293\n",
       "14537    107020.027874\n",
       "12160    278191.983457\n",
       "3638     137514.972360\n",
       "Name: total_income, dtype: float64"
      ]
     },
     "execution_count": 90,
     "metadata": {},
     "output_type": "execute_result"
    }
   ],
   "source": [
    "df['total_income'].sample(5)"
   ]
  },
  {
   "cell_type": "markdown",
   "metadata": {},
   "source": [
    "Цифры после запятой в данном случае избыточны, потому что информация о копейках и долях копеек не принесёт нам дополнительной пользы. Если нет острой необходимости работать с дробными числами, то разумнее и проще использовать целые."
   ]
  },
  {
   "cell_type": "markdown",
   "metadata": {},
   "source": [
    "Переведём тип данных в столбце total_income в целочисленный, используя метод astype() с аргументом int. Этот метод позволяет перевести данные в нужный тип, просто указав его в качестве аргумента."
   ]
  },
  {
   "cell_type": "code",
   "execution_count": 91,
   "metadata": {},
   "outputs": [
    {
     "data": {
      "text/plain": [
       "0        253875\n",
       "1        112080\n",
       "2        145885\n",
       "3        267628\n",
       "4        158616\n",
       "          ...  \n",
       "21225    224791\n",
       "21226    155999\n",
       "21227     89672\n",
       "21228    244093\n",
       "21229     82047\n",
       "Name: total_income, Length: 21230, dtype: int64"
      ]
     },
     "execution_count": 91,
     "metadata": {},
     "output_type": "execute_result"
    }
   ],
   "source": [
    "df['total_income'].astype('int')"
   ]
  },
  {
   "cell_type": "markdown",
   "metadata": {},
   "source": [
    "Проверим, что тип данных изменился. Выведем несколько случайных данных из столбца total_income."
   ]
  },
  {
   "cell_type": "code",
   "execution_count": 89,
   "metadata": {},
   "outputs": [
    {
     "data": {
      "text/plain": [
       "8658     124293.934077\n",
       "7521     172357.950966\n",
       "2439     353543.857480\n",
       "20124    181470.172676\n",
       "11009    118514.486412\n",
       "Name: total_income, dtype: float64"
      ]
     },
     "execution_count": 89,
     "metadata": {},
     "output_type": "execute_result"
    }
   ],
   "source": [
    "df['total_income'].sample(5)"
   ]
  },
  {
   "cell_type": "markdown",
   "metadata": {},
   "source": [
    "Видно, что числа стали целыми, тип данных изменился на int64. Отлично! Задача решена!"
   ]
  },
  {
   "cell_type": "markdown",
   "metadata": {},
   "source": [
    "### Вывод"
   ]
  },
  {
   "cell_type": "markdown",
   "metadata": {},
   "source": [
    "Неподходящий тип данных для значений ежемесячного дохода скорее всего изначально настроен в базе данных. Нужно понять, специально ли там выставлен такой тип данных, используется ли в каких-либо задачах дробная часть, или это просто ошибка в настройках соответствующего столбца в БД. Если разумнее для всех задач использовать целые числа дохода клиентов, то в базе данных нужно будет исправить тип данных. Тогда проблема в будущем не появится.\n",
    "\n",
    "Иногда нам может казаться, что тип данных указан нелогично, потому что мы оцениваем их с точки зрения своих задач. Однако, зная изначально почему в БД указан именно такой тип данных, зная весь спектр задач, где применяются эти данные, нам станет ясен выбор инженеров. "
   ]
  },
  {
   "cell_type": "markdown",
   "metadata": {},
   "source": [
    "### Обработка дубликатов"
   ]
  },
  {
   "cell_type": "markdown",
   "metadata": {},
   "source": [
    "Необходимо установить наличие дубликатов в таблице. Если найдутся, удалим их, и проверим, все ли удалились.\n",
    "\n",
    "Получим суммарное количество дубликатов в таблице df. Применим к таблице метод duplicated() для выявления строк-дублей и метод sum(), чтобы найти суммарное количество дубликатов. Работают эти два метода следующим образом: метод duplicated() выводит таблицу с булевыми значениями True и False для каждой строки в зависимости от того, является ли строка дублем или нет. А метод sum() посчитает суммарное количество дубликатов в этой таблице."
   ]
  },
  {
   "cell_type": "code",
   "execution_count": 59,
   "metadata": {
    "scrolled": true
   },
   "outputs": [
    {
     "data": {
      "text/plain": [
       "71"
      ]
     },
     "execution_count": 59,
     "metadata": {},
     "output_type": "execute_result"
    }
   ],
   "source": [
    "df.duplicated().sum()"
   ]
  },
  {
   "cell_type": "markdown",
   "metadata": {},
   "source": [
    "Удалим все дубликаты из таблицы df методом drop_duplicates(). При удалении индексы оставшихся строк не изменятся. Таким образом, порядок следования индексов строк будет с пропусками. Чтобы обновить индексы после удаления дублей применим метод reset_index(drop = True)."
   ]
  },
  {
   "cell_type": "code",
   "execution_count": 60,
   "metadata": {},
   "outputs": [],
   "source": [
    "df = df.drop_duplicates().reset_index(drop = True)"
   ]
  },
  {
   "cell_type": "markdown",
   "metadata": {},
   "source": [
    "Проверим таблицу на отсутствие дубликатов."
   ]
  },
  {
   "cell_type": "code",
   "execution_count": 61,
   "metadata": {},
   "outputs": [
    {
     "data": {
      "text/plain": [
       "0"
      ]
     },
     "execution_count": 61,
     "metadata": {},
     "output_type": "execute_result"
    }
   ],
   "source": [
    "df.duplicated().sum()"
   ]
  },
  {
   "cell_type": "markdown",
   "metadata": {},
   "source": [
    "Теперь таблица очищена от дублей!"
   ]
  },
  {
   "cell_type": "markdown",
   "metadata": {},
   "source": [
    "### Вывод"
   ]
  },
  {
   "cell_type": "markdown",
   "metadata": {},
   "source": [
    "Дубликаты могли появиться вследствие сбоя в записи данных. Стоит разобраться с причинами появления такого «информационного мусора» и сообщить о проблеме инженерам."
   ]
  },
  {
   "cell_type": "markdown",
   "metadata": {},
   "source": [
    "### Лемматизация"
   ]
  },
  {
   "cell_type": "markdown",
   "metadata": {},
   "source": [
    "При предварительном изучении данных мы могли увидеть, что в столбце с целями получения кредитов 38 уникальных значений. Имеет смысл проверить, действительно ли это всё разные по смыслу цели или где-то встречаются записанные по-разному одни и те же цели. Для этого посмотрим внимательно на уникальные значения в столбце purpose. Применим метод value_counts() к этому столбцу."
   ]
  },
  {
   "cell_type": "code",
   "execution_count": 62,
   "metadata": {
    "scrolled": false
   },
   "outputs": [
    {
     "data": {
      "text/plain": [
       "свадьба                                   785\n",
       "на проведение свадьбы                     759\n",
       "сыграть свадьбу                           755\n",
       "операции с недвижимостью                  669\n",
       "покупка коммерческой недвижимости         655\n",
       "покупка жилья для сдачи                   647\n",
       "операции с коммерческой недвижимостью     643\n",
       "операции с жильем                         641\n",
       "покупка жилья для семьи                   636\n",
       "жилье                                     635\n",
       "покупка жилья                             634\n",
       "недвижимость                              627\n",
       "строительство собственной недвижимости    626\n",
       "операции со своей недвижимостью           623\n",
       "строительство недвижимости                619\n",
       "покупка своего жилья                      618\n",
       "строительство жилой недвижимости          617\n",
       "покупка недвижимости                      612\n",
       "ремонт жилью                              602\n",
       "покупка жилой недвижимости                599\n",
       "на покупку своего автомобиля              501\n",
       "заняться высшим образованием              493\n",
       "автомобиль                                487\n",
       "сделка с подержанным автомобилем          479\n",
       "автомобили                                474\n",
       "на покупку подержанного автомобиля        471\n",
       "свой автомобиль                           470\n",
       "на покупку автомобиля                     465\n",
       "приобретение автомобиля                   457\n",
       "сделка с автомобилем                      454\n",
       "дополнительное образование                453\n",
       "высшее образование                        443\n",
       "получение дополнительного образования     442\n",
       "образование                               439\n",
       "получение образования                     439\n",
       "профильное образование                    431\n",
       "получение высшего образования             423\n",
       "заняться образованием                     407\n",
       "Name: purpose, dtype: int64"
      ]
     },
     "execution_count": 62,
     "metadata": {},
     "output_type": "execute_result"
    }
   ],
   "source": [
    "df['purpose'].value_counts()"
   ]
  },
  {
   "cell_type": "markdown",
   "metadata": {},
   "source": [
    "Как мы и предположили, в этом столбце встречаются одинаковые по смыслу, но по-разному записанные значения, например, 'свадьба', 'на проведение свадьбы', 'сыграть свадьбу'. Выделим леммы (то есть приведём слова к словарным формам), чтобы понять, какие уникальные слова встречаются в значениях столбца purpose и как часто.\n",
    "\n",
    "Для этого импортируем библиотеку с функцией лемматизации на русском языке — pymystem3."
   ]
  },
  {
   "cell_type": "code",
   "execution_count": 63,
   "metadata": {},
   "outputs": [],
   "source": [
    "from pymystem3 import Mystem\n",
    "m = Mystem() "
   ]
  },
  {
   "cell_type": "markdown",
   "metadata": {},
   "source": [
    "Сохраним все уникальные цели, на которые были выданы кредиты, в переменной text. Для этого используем метод unique() к столбцу purpose."
   ]
  },
  {
   "cell_type": "code",
   "execution_count": 64,
   "metadata": {},
   "outputs": [],
   "source": [
    "text = df['purpose'].unique()"
   ]
  },
  {
   "cell_type": "markdown",
   "metadata": {},
   "source": [
    "Метод unique() вернёт уникальные значения в виде списка строк. Преобразуем этот список в одну строку методом ' '.join(), а в качестве разделителя элементов списка укажем пробел."
   ]
  },
  {
   "cell_type": "code",
   "execution_count": 65,
   "metadata": {},
   "outputs": [],
   "source": [
    "text = ' '.join(text)"
   ]
  },
  {
   "cell_type": "markdown",
   "metadata": {},
   "source": [
    "Выделим леммы слов, применив метод lemmatize(). Этот метод возвращает список из лемм. Затем посчитаем количество упоминаний лемм среди причин для получения кредита. Для этого вызовем специальный контейнер Counter из модуля collections. Counter вернёт нам словарь, где в качестве ключей будут указаны леммы, а в качестве значений - количество упоминаний слов с такими леммами."
   ]
  },
  {
   "cell_type": "code",
   "execution_count": 66,
   "metadata": {},
   "outputs": [
    {
     "data": {
      "text/plain": [
       "Counter({'покупка': 10,\n",
       "         ' ': 96,\n",
       "         'жилье': 7,\n",
       "         'приобретение': 1,\n",
       "         'автомобиль': 9,\n",
       "         'дополнительный': 2,\n",
       "         'образование': 9,\n",
       "         'сыграть': 1,\n",
       "         'свадьба': 3,\n",
       "         'операция': 4,\n",
       "         'с': 5,\n",
       "         'на': 4,\n",
       "         'проведение': 1,\n",
       "         'для': 2,\n",
       "         'семья': 1,\n",
       "         'недвижимость': 10,\n",
       "         'коммерческий': 2,\n",
       "         'жилой': 2,\n",
       "         'строительство': 3,\n",
       "         'собственный': 1,\n",
       "         'подержать': 2,\n",
       "         'свой': 4,\n",
       "         'со': 1,\n",
       "         'заниматься': 2,\n",
       "         'сделка': 2,\n",
       "         'получение': 3,\n",
       "         'высокий': 3,\n",
       "         'профильный': 1,\n",
       "         'сдача': 1,\n",
       "         'ремонт': 1,\n",
       "         '\\n': 1})"
      ]
     },
     "execution_count": 66,
     "metadata": {},
     "output_type": "execute_result"
    }
   ],
   "source": [
    "lemmas = m.lemmatize(text)\n",
    "from collections import Counter\n",
    "Counter(lemmas)"
   ]
  },
  {
   "cell_type": "markdown",
   "metadata": {},
   "source": [
    "### Вывод"
   ]
  },
  {
   "cell_type": "markdown",
   "metadata": {},
   "source": [
    "Можно увидеть, что банк выдаёт кредит на операции с недвижимостью, покупку автомобиля, на обучение и свадьбу. Как мы и предположили, целей для кредита не 38, а гораздо меньше. Будет разумно единые по смыслу причины привести и к единому написанию. Для этого в интерфейсе ввода данных можно вместо строки ввода сделать, например, выпадающий список.\n",
    "\n",
    "Каких-то небольших потребительских кредитов банк не выдаёт. Это подтверждает гипотезу, что банк работает только с обеспеченными клиентами - таким клиентам нужны кредиты только под крупные нужды. Из-за мелочей они за кредитом не пойдут."
   ]
  },
  {
   "cell_type": "markdown",
   "metadata": {},
   "source": [
    "### Категоризация данных"
   ]
  },
  {
   "cell_type": "markdown",
   "metadata": {},
   "source": [
    "Оценим, как влияют разного рода категории клиентов на возврат кредита вовремя."
   ]
  },
  {
   "cell_type": "markdown",
   "metadata": {},
   "source": [
    "Сначала оценим, сколько всего клиентов нарушали срок возврата. Применим метод value_counts() к строке debt."
   ]
  },
  {
   "cell_type": "code",
   "execution_count": 67,
   "metadata": {},
   "outputs": [
    {
     "data": {
      "text/plain": [
       "0    19506\n",
       "1     1724\n",
       "Name: debt, dtype: int64"
      ]
     },
     "execution_count": 67,
     "metadata": {},
     "output_type": "execute_result"
    }
   ],
   "source": [
    "df['debt'].value_counts()"
   ]
  },
  {
   "cell_type": "markdown",
   "metadata": {},
   "source": [
    "Посчитаем процент просрочивших выплату клиентов."
   ]
  },
  {
   "cell_type": "code",
   "execution_count": 68,
   "metadata": {},
   "outputs": [
    {
     "data": {
      "text/plain": [
       "0.08120584079133301"
      ]
     },
     "execution_count": 68,
     "metadata": {},
     "output_type": "execute_result"
    }
   ],
   "source": [
    "df[df['debt'] == 1]['debt'].count() / df['debt'].count()"
   ]
  },
  {
   "cell_type": "markdown",
   "metadata": {},
   "source": [
    "Примерно 8% клиентов нарушили сроки. "
   ]
  },
  {
   "cell_type": "markdown",
   "metadata": {},
   "source": [
    "#### Категоризация клиентов по целям получения кредита"
   ]
  },
  {
   "cell_type": "markdown",
   "metadata": {},
   "source": [
    "Мы выяснили, что существуют 4 категории причин, по которым банк выдаёт кредиты: операции с недвижимостью, покупка автомобиля, обучение и свадьба. Чтобы мы могли оценить, как влияет причина кредита на его возврат в срок, нам нужно провести разделение клиентов на категории по причинам. "
   ]
  },
  {
   "cell_type": "markdown",
   "metadata": {},
   "source": [
    "Для этого напишем функцию, которая на вход будет принимать значение в столбце purpose, то есть причину кредита. Затем функция будет находить леммы в этом значении и соотносить их с ключевым словом. По этому слову мы будем относить клиента к той или иной категории."
   ]
  },
  {
   "cell_type": "markdown",
   "metadata": {},
   "source": [
    "Так как мы выделили 4 категории причин, то для каждой категории определим ключевое слово:\n",
    "* для категории 'операции с недвижимостью' - слово 'жилье' или 'недвижимость';\n",
    "* для категории 'свадьба' - слово 'свадьба';\n",
    "* для категории 'образование' - слово 'образование';\n",
    "* для категории 'автомобиль' - слово 'автомобиль'.\n",
    "\n",
    "Если ни одно из этих ключевых слов не будет найдено, то отнесём этого клиента временно к категории else. Затем проверим, что мы упустили, почему клиент не попал ни в одну из 4 категорий."
   ]
  },
  {
   "cell_type": "markdown",
   "metadata": {},
   "source": [
    "Итак, напишем функцию. Назовём её purpose_group."
   ]
  },
  {
   "cell_type": "code",
   "execution_count": 69,
   "metadata": {},
   "outputs": [],
   "source": [
    "def purpose_group(purpose):\n",
    "    list_of_lemmas = m.lemmatize(purpose)\n",
    "    if 'жилье' in list_of_lemmas or 'недвижимость' in list_of_lemmas:\n",
    "        return 'операции с недвижимостью'\n",
    "    if 'свадьба' in list_of_lemmas:\n",
    "        return 'свадьба'\n",
    "    if 'образование' in list_of_lemmas:\n",
    "        return 'образование'\n",
    "    if 'автомобиль' in list_of_lemmas:\n",
    "        return 'автомобиль'\n",
    "    return 'else'"
   ]
  },
  {
   "cell_type": "markdown",
   "metadata": {},
   "source": [
    "Теперь создадим новый столбец в таблице, куда будут добавлены значения категорий. Для этого применим метод apply() к столбцу purpose, а в качестве аргумента метода выбираем функцию purpose_group.\n",
    "\n",
    "Новый столбец назовём purpose_group. "
   ]
  },
  {
   "cell_type": "code",
   "execution_count": 70,
   "metadata": {},
   "outputs": [],
   "source": [
    "df['purpose_group'] = df['purpose'].apply(purpose_group) "
   ]
  },
  {
   "cell_type": "markdown",
   "metadata": {},
   "source": [
    "Выведем несколько случайных строк из таблицы, чтобы проверить, что появился новый столбец и он заполнен значениями."
   ]
  },
  {
   "cell_type": "code",
   "execution_count": 71,
   "metadata": {
    "scrolled": true
   },
   "outputs": [
    {
     "data": {
      "text/html": [
       "<div>\n",
       "<style scoped>\n",
       "    .dataframe tbody tr th:only-of-type {\n",
       "        vertical-align: middle;\n",
       "    }\n",
       "\n",
       "    .dataframe tbody tr th {\n",
       "        vertical-align: top;\n",
       "    }\n",
       "\n",
       "    .dataframe thead th {\n",
       "        text-align: right;\n",
       "    }\n",
       "</style>\n",
       "<table border=\"1\" class=\"dataframe\">\n",
       "  <thead>\n",
       "    <tr style=\"text-align: right;\">\n",
       "      <th></th>\n",
       "      <th>children</th>\n",
       "      <th>days_employed</th>\n",
       "      <th>dob_years</th>\n",
       "      <th>education</th>\n",
       "      <th>education_id</th>\n",
       "      <th>family_status</th>\n",
       "      <th>family_status_id</th>\n",
       "      <th>gender</th>\n",
       "      <th>income_type</th>\n",
       "      <th>debt</th>\n",
       "      <th>total_income</th>\n",
       "      <th>purpose</th>\n",
       "      <th>purpose_group</th>\n",
       "    </tr>\n",
       "  </thead>\n",
       "  <tbody>\n",
       "    <tr>\n",
       "      <td>20386</td>\n",
       "      <td>1</td>\n",
       "      <td>NaN</td>\n",
       "      <td>53</td>\n",
       "      <td>высшее</td>\n",
       "      <td>0</td>\n",
       "      <td>женат / замужем</td>\n",
       "      <td>0</td>\n",
       "      <td>F</td>\n",
       "      <td>компаньон</td>\n",
       "      <td>0</td>\n",
       "      <td>172357.950966</td>\n",
       "      <td>операции с недвижимостью</td>\n",
       "      <td>операции с недвижимостью</td>\n",
       "    </tr>\n",
       "    <tr>\n",
       "      <td>17530</td>\n",
       "      <td>0</td>\n",
       "      <td>2919.524476</td>\n",
       "      <td>32</td>\n",
       "      <td>среднее</td>\n",
       "      <td>1</td>\n",
       "      <td>гражданский брак</td>\n",
       "      <td>1</td>\n",
       "      <td>F</td>\n",
       "      <td>сотрудник</td>\n",
       "      <td>0</td>\n",
       "      <td>188768.908149</td>\n",
       "      <td>профильное образование</td>\n",
       "      <td>образование</td>\n",
       "    </tr>\n",
       "    <tr>\n",
       "      <td>7976</td>\n",
       "      <td>0</td>\n",
       "      <td>3865.452926</td>\n",
       "      <td>41</td>\n",
       "      <td>высшее</td>\n",
       "      <td>0</td>\n",
       "      <td>женат / замужем</td>\n",
       "      <td>0</td>\n",
       "      <td>F</td>\n",
       "      <td>госслужащий</td>\n",
       "      <td>0</td>\n",
       "      <td>55045.116058</td>\n",
       "      <td>на покупку автомобиля</td>\n",
       "      <td>автомобиль</td>\n",
       "    </tr>\n",
       "    <tr>\n",
       "      <td>6650</td>\n",
       "      <td>0</td>\n",
       "      <td>4918.645374</td>\n",
       "      <td>58</td>\n",
       "      <td>среднее</td>\n",
       "      <td>1</td>\n",
       "      <td>женат / замужем</td>\n",
       "      <td>0</td>\n",
       "      <td>M</td>\n",
       "      <td>сотрудник</td>\n",
       "      <td>0</td>\n",
       "      <td>189811.318493</td>\n",
       "      <td>жилье</td>\n",
       "      <td>операции с недвижимостью</td>\n",
       "    </tr>\n",
       "    <tr>\n",
       "      <td>20413</td>\n",
       "      <td>0</td>\n",
       "      <td>36170.098781</td>\n",
       "      <td>63</td>\n",
       "      <td>среднее</td>\n",
       "      <td>1</td>\n",
       "      <td>в разводе</td>\n",
       "      <td>3</td>\n",
       "      <td>F</td>\n",
       "      <td>пенсионер</td>\n",
       "      <td>0</td>\n",
       "      <td>399158.253071</td>\n",
       "      <td>на покупку автомобиля</td>\n",
       "      <td>автомобиль</td>\n",
       "    </tr>\n",
       "  </tbody>\n",
       "</table>\n",
       "</div>"
      ],
      "text/plain": [
       "       children  days_employed  dob_years education  education_id  \\\n",
       "20386         1            NaN         53    высшее             0   \n",
       "17530         0    2919.524476         32   среднее             1   \n",
       "7976          0    3865.452926         41    высшее             0   \n",
       "6650          0    4918.645374         58   среднее             1   \n",
       "20413         0   36170.098781         63   среднее             1   \n",
       "\n",
       "          family_status  family_status_id gender  income_type  debt  \\\n",
       "20386   женат / замужем                 0      F    компаньон     0   \n",
       "17530  гражданский брак                 1      F    сотрудник     0   \n",
       "7976    женат / замужем                 0      F  госслужащий     0   \n",
       "6650    женат / замужем                 0      M    сотрудник     0   \n",
       "20413         в разводе                 3      F    пенсионер     0   \n",
       "\n",
       "        total_income                   purpose             purpose_group  \n",
       "20386  172357.950966  операции с недвижимостью  операции с недвижимостью  \n",
       "17530  188768.908149    профильное образование               образование  \n",
       "7976    55045.116058     на покупку автомобиля                автомобиль  \n",
       "6650   189811.318493                     жилье  операции с недвижимостью  \n",
       "20413  399158.253071     на покупку автомобиля                автомобиль  "
      ]
     },
     "execution_count": 71,
     "metadata": {},
     "output_type": "execute_result"
    }
   ],
   "source": [
    "df.sample(5)"
   ]
  },
  {
   "cell_type": "markdown",
   "metadata": {},
   "source": [
    "Столбец purpose_group появился, значения в строках заполнены. Проверим, есть ли для какого-либо клиента значение else в этом столбце."
   ]
  },
  {
   "cell_type": "code",
   "execution_count": 72,
   "metadata": {
    "scrolled": true
   },
   "outputs": [
    {
     "data": {
      "text/plain": [
       "операции с недвижимостью    10703\n",
       "автомобиль                   4258\n",
       "образование                  3970\n",
       "свадьба                      2299\n",
       "Name: purpose_group, dtype: int64"
      ]
     },
     "execution_count": 72,
     "metadata": {},
     "output_type": "execute_result"
    }
   ],
   "source": [
    "df['purpose_group'].value_counts()"
   ]
  },
  {
   "cell_type": "markdown",
   "metadata": {},
   "source": [
    "Значений else нет. Это означает, что мы правильно провели лемматизацию значений в столбце purpose и определили основные категории причин, по которым банк выдаёт кредит."
   ]
  },
  {
   "cell_type": "markdown",
   "metadata": {},
   "source": [
    "#### Категоризация клиентов по уровню ежемесячного дохода"
   ]
  },
  {
   "cell_type": "markdown",
   "metadata": {},
   "source": [
    "Разделим клиентов на категории исходя из их уровня доходов. Найдём квартили, которые делят всех клиентов на 4 равные по количеству клиентов категории. Для этого применим метод describe() к столбцу total_income. Чтобы значения квартилей были целыми, применим метод astype с аргументом int."
   ]
  },
  {
   "cell_type": "code",
   "execution_count": 73,
   "metadata": {},
   "outputs": [
    {
     "data": {
      "text/plain": [
       "count      21230\n",
       "mean      165384\n",
       "std        98425\n",
       "min        20667\n",
       "25%       107550\n",
       "50%       142594\n",
       "75%       195813\n",
       "max      2265604\n",
       "Name: total_income, dtype: int64"
      ]
     },
     "execution_count": 73,
     "metadata": {},
     "output_type": "execute_result"
    }
   ],
   "source": [
    "df['total_income'].describe().astype('int')"
   ]
  },
  {
   "cell_type": "markdown",
   "metadata": {},
   "source": [
    "Теперь мы знаем границы доходов клиентов, по которым можем их разделить на 4 равные категории. Проведем разделение на категории."
   ]
  },
  {
   "cell_type": "markdown",
   "metadata": {},
   "source": [
    "Для этого напишем функцию, которая на вход будет принимать значение в столбце total_income. Затем сравнивать его с квартилями и относить к одной из категорий. Категории получатся такие:\n",
    "* 'категория 1' - 25% клиентов, у которых самый низкий уровень дохода;\n",
    "* 'категория 2' - 25% клиентов, у которых уровень дохода ниже среднего, но выше, чем в категории 1;\n",
    "* 'категория 3' - 25% клиентов, у которых уровень дохода выше среднего, но ниже, чем в категории 4;\n",
    "* 'категория 4' - 25% клиентов, у которых самый высокий уровень дохода."
   ]
  },
  {
   "cell_type": "markdown",
   "metadata": {},
   "source": [
    "Итак, напишем функцию. Назовём её income_group."
   ]
  },
  {
   "cell_type": "code",
   "execution_count": 74,
   "metadata": {},
   "outputs": [],
   "source": [
    "def income_group(total_income):\n",
    "    if total_income < 107550:\n",
    "        return 'категория 1'\n",
    "    if total_income < 145017:\n",
    "        return 'категория 2'\n",
    "    if total_income < 195795:\n",
    "        return 'категория 3'\n",
    "    return 'категория 4'"
   ]
  },
  {
   "cell_type": "markdown",
   "metadata": {},
   "source": [
    "Проверим, что функция работает и адекватно возвращает категорию."
   ]
  },
  {
   "cell_type": "code",
   "execution_count": 75,
   "metadata": {},
   "outputs": [
    {
     "data": {
      "text/plain": [
       "'категория 2'"
      ]
     },
     "execution_count": 75,
     "metadata": {},
     "output_type": "execute_result"
    }
   ],
   "source": [
    "income_group(107550)"
   ]
  },
  {
   "cell_type": "code",
   "execution_count": 76,
   "metadata": {},
   "outputs": [
    {
     "data": {
      "text/plain": [
       "'категория 4'"
      ]
     },
     "execution_count": 76,
     "metadata": {},
     "output_type": "execute_result"
    }
   ],
   "source": [
    "income_group(201250)"
   ]
  },
  {
   "cell_type": "markdown",
   "metadata": {},
   "source": [
    "Функция работает верно."
   ]
  },
  {
   "cell_type": "markdown",
   "metadata": {},
   "source": [
    "Теперь создадим новый столбец в таблице, куда будут добавлены значения категорий. Для этого применим метод apply() к столбцу total_income, а в качестве аргумента метода выбираем функцию income_group.\n",
    "\n",
    "Новый столбец назовём income_group."
   ]
  },
  {
   "cell_type": "code",
   "execution_count": 77,
   "metadata": {},
   "outputs": [],
   "source": [
    "df['income_group'] = df['total_income'].apply(income_group) "
   ]
  },
  {
   "cell_type": "markdown",
   "metadata": {},
   "source": [
    "Выведем несколько случайных строк из таблицы, чтобы проверить, что появился новый столбец и он заполнен значениями."
   ]
  },
  {
   "cell_type": "code",
   "execution_count": 78,
   "metadata": {},
   "outputs": [
    {
     "data": {
      "text/html": [
       "<div>\n",
       "<style scoped>\n",
       "    .dataframe tbody tr th:only-of-type {\n",
       "        vertical-align: middle;\n",
       "    }\n",
       "\n",
       "    .dataframe tbody tr th {\n",
       "        vertical-align: top;\n",
       "    }\n",
       "\n",
       "    .dataframe thead th {\n",
       "        text-align: right;\n",
       "    }\n",
       "</style>\n",
       "<table border=\"1\" class=\"dataframe\">\n",
       "  <thead>\n",
       "    <tr style=\"text-align: right;\">\n",
       "      <th></th>\n",
       "      <th>children</th>\n",
       "      <th>days_employed</th>\n",
       "      <th>dob_years</th>\n",
       "      <th>education</th>\n",
       "      <th>education_id</th>\n",
       "      <th>family_status</th>\n",
       "      <th>family_status_id</th>\n",
       "      <th>gender</th>\n",
       "      <th>income_type</th>\n",
       "      <th>debt</th>\n",
       "      <th>total_income</th>\n",
       "      <th>purpose</th>\n",
       "      <th>purpose_group</th>\n",
       "      <th>income_group</th>\n",
       "    </tr>\n",
       "  </thead>\n",
       "  <tbody>\n",
       "    <tr>\n",
       "      <td>19609</td>\n",
       "      <td>0</td>\n",
       "      <td>1323.624855</td>\n",
       "      <td>29</td>\n",
       "      <td>высшее</td>\n",
       "      <td>0</td>\n",
       "      <td>Не женат / не замужем</td>\n",
       "      <td>4</td>\n",
       "      <td>M</td>\n",
       "      <td>сотрудник</td>\n",
       "      <td>0</td>\n",
       "      <td>166532.255501</td>\n",
       "      <td>заняться высшим образованием</td>\n",
       "      <td>образование</td>\n",
       "      <td>категория 3</td>\n",
       "    </tr>\n",
       "    <tr>\n",
       "      <td>17517</td>\n",
       "      <td>0</td>\n",
       "      <td>493.666263</td>\n",
       "      <td>20</td>\n",
       "      <td>среднее</td>\n",
       "      <td>1</td>\n",
       "      <td>Не женат / не замужем</td>\n",
       "      <td>4</td>\n",
       "      <td>M</td>\n",
       "      <td>компаньон</td>\n",
       "      <td>0</td>\n",
       "      <td>226947.057213</td>\n",
       "      <td>ремонт жилью</td>\n",
       "      <td>операции с недвижимостью</td>\n",
       "      <td>категория 4</td>\n",
       "    </tr>\n",
       "    <tr>\n",
       "      <td>11056</td>\n",
       "      <td>1</td>\n",
       "      <td>1980.791140</td>\n",
       "      <td>49</td>\n",
       "      <td>высшее</td>\n",
       "      <td>0</td>\n",
       "      <td>гражданский брак</td>\n",
       "      <td>1</td>\n",
       "      <td>F</td>\n",
       "      <td>сотрудник</td>\n",
       "      <td>0</td>\n",
       "      <td>201132.701767</td>\n",
       "      <td>свадьба</td>\n",
       "      <td>свадьба</td>\n",
       "      <td>категория 4</td>\n",
       "    </tr>\n",
       "    <tr>\n",
       "      <td>10389</td>\n",
       "      <td>2</td>\n",
       "      <td>2636.753966</td>\n",
       "      <td>46</td>\n",
       "      <td>среднее</td>\n",
       "      <td>1</td>\n",
       "      <td>женат / замужем</td>\n",
       "      <td>0</td>\n",
       "      <td>M</td>\n",
       "      <td>сотрудник</td>\n",
       "      <td>0</td>\n",
       "      <td>125600.372094</td>\n",
       "      <td>покупка коммерческой недвижимости</td>\n",
       "      <td>операции с недвижимостью</td>\n",
       "      <td>категория 2</td>\n",
       "    </tr>\n",
       "    <tr>\n",
       "      <td>5762</td>\n",
       "      <td>1</td>\n",
       "      <td>467.152556</td>\n",
       "      <td>29</td>\n",
       "      <td>среднее</td>\n",
       "      <td>1</td>\n",
       "      <td>гражданский брак</td>\n",
       "      <td>1</td>\n",
       "      <td>M</td>\n",
       "      <td>сотрудник</td>\n",
       "      <td>0</td>\n",
       "      <td>64194.457705</td>\n",
       "      <td>покупка жилья для семьи</td>\n",
       "      <td>операции с недвижимостью</td>\n",
       "      <td>категория 1</td>\n",
       "    </tr>\n",
       "  </tbody>\n",
       "</table>\n",
       "</div>"
      ],
      "text/plain": [
       "       children  days_employed  dob_years education  education_id  \\\n",
       "19609         0    1323.624855         29    высшее             0   \n",
       "17517         0     493.666263         20   среднее             1   \n",
       "11056         1    1980.791140         49    высшее             0   \n",
       "10389         2    2636.753966         46   среднее             1   \n",
       "5762          1     467.152556         29   среднее             1   \n",
       "\n",
       "               family_status  family_status_id gender income_type  debt  \\\n",
       "19609  Не женат / не замужем                 4      M   сотрудник     0   \n",
       "17517  Не женат / не замужем                 4      M   компаньон     0   \n",
       "11056       гражданский брак                 1      F   сотрудник     0   \n",
       "10389        женат / замужем                 0      M   сотрудник     0   \n",
       "5762        гражданский брак                 1      M   сотрудник     0   \n",
       "\n",
       "        total_income                            purpose  \\\n",
       "19609  166532.255501       заняться высшим образованием   \n",
       "17517  226947.057213                       ремонт жилью   \n",
       "11056  201132.701767                            свадьба   \n",
       "10389  125600.372094  покупка коммерческой недвижимости   \n",
       "5762    64194.457705            покупка жилья для семьи   \n",
       "\n",
       "                  purpose_group income_group  \n",
       "19609               образование  категория 3  \n",
       "17517  операции с недвижимостью  категория 4  \n",
       "11056                   свадьба  категория 4  \n",
       "10389  операции с недвижимостью  категория 2  \n",
       "5762   операции с недвижимостью  категория 1  "
      ]
     },
     "execution_count": 78,
     "metadata": {},
     "output_type": "execute_result"
    }
   ],
   "source": [
    "df.sample(5)"
   ]
  },
  {
   "cell_type": "markdown",
   "metadata": {},
   "source": [
    "Столбец income_group появился, значения в строках заполнены."
   ]
  },
  {
   "cell_type": "markdown",
   "metadata": {},
   "source": [
    "### Шаг 3. Ответьте на вопросы"
   ]
  },
  {
   "cell_type": "markdown",
   "metadata": {},
   "source": [
    "- Как разные цели кредита влияют на его возврат в срок?"
   ]
  },
  {
   "cell_type": "markdown",
   "metadata": {},
   "source": [
    "Мы уже провели категоризацию клиентов исходя из их целей получения кредита. Теперь выясним, как категория влияет на возврат кредита в срок."
   ]
  },
  {
   "cell_type": "markdown",
   "metadata": {},
   "source": [
    "<div class=\"alert alert-info\" role=\"alert\">\n",
    "Сгруппируем таблицу по столбцу purpose_group, применив метод groupby. Затем применим метод agg, а в качестве его аргумента зададим словарь, где ключём будет столбец debt, а значениями - функции группировки данных в столбце debt - расчёт среднего (mean), суммы значений(sum) и количества значений (count).\n",
    "    <div>"
   ]
  },
  {
   "cell_type": "code",
   "execution_count": 79,
   "metadata": {},
   "outputs": [
    {
     "data": {
      "text/html": [
       "<div>\n",
       "<style scoped>\n",
       "    .dataframe tbody tr th:only-of-type {\n",
       "        vertical-align: middle;\n",
       "    }\n",
       "\n",
       "    .dataframe tbody tr th {\n",
       "        vertical-align: top;\n",
       "    }\n",
       "\n",
       "    .dataframe thead tr th {\n",
       "        text-align: left;\n",
       "    }\n",
       "\n",
       "    .dataframe thead tr:last-of-type th {\n",
       "        text-align: right;\n",
       "    }\n",
       "</style>\n",
       "<table border=\"1\" class=\"dataframe\">\n",
       "  <thead>\n",
       "    <tr>\n",
       "      <th></th>\n",
       "      <th colspan=\"3\" halign=\"left\">debt</th>\n",
       "    </tr>\n",
       "    <tr>\n",
       "      <th></th>\n",
       "      <th>mean</th>\n",
       "      <th>sum</th>\n",
       "      <th>count</th>\n",
       "    </tr>\n",
       "    <tr>\n",
       "      <th>purpose_group</th>\n",
       "      <th></th>\n",
       "      <th></th>\n",
       "      <th></th>\n",
       "    </tr>\n",
       "  </thead>\n",
       "  <tbody>\n",
       "    <tr>\n",
       "      <td>автомобиль</td>\n",
       "      <td>0.093236</td>\n",
       "      <td>397</td>\n",
       "      <td>4258</td>\n",
       "    </tr>\n",
       "    <tr>\n",
       "      <td>образование</td>\n",
       "      <td>0.092947</td>\n",
       "      <td>369</td>\n",
       "      <td>3970</td>\n",
       "    </tr>\n",
       "    <tr>\n",
       "      <td>операции с недвижимостью</td>\n",
       "      <td>0.072596</td>\n",
       "      <td>777</td>\n",
       "      <td>10703</td>\n",
       "    </tr>\n",
       "    <tr>\n",
       "      <td>свадьба</td>\n",
       "      <td>0.078730</td>\n",
       "      <td>181</td>\n",
       "      <td>2299</td>\n",
       "    </tr>\n",
       "  </tbody>\n",
       "</table>\n",
       "</div>"
      ],
      "text/plain": [
       "                              debt            \n",
       "                              mean  sum  count\n",
       "purpose_group                                 \n",
       "автомобиль                0.093236  397   4258\n",
       "образование               0.092947  369   3970\n",
       "операции с недвижимостью  0.072596  777  10703\n",
       "свадьба                   0.078730  181   2299"
      ]
     },
     "execution_count": 79,
     "metadata": {},
     "output_type": "execute_result"
    }
   ],
   "source": [
    "df.groupby('purpose_group').agg({'debt': ['mean', 'sum', 'count']})"
   ]
  },
  {
   "cell_type": "markdown",
   "metadata": {},
   "source": [
    "<div class=\"alert alert-info\" role=\"alert\">\n",
    "Оценим объёмы получившихся групп. По каждой цели кредита получилось достаточно большое количество клиентов - столбец count. В столбце sum мы можем видеть, сколько из них нарушили сроки возврата. А в столбце mean рассчитаное среднее значение количества нарушений.\n",
    "    \n",
    "Для того, чтобы оценить различия в группах с точки зрения статистической значимости, проводять анализ различий между группами. Сейчас мы этого делать не будем. \n",
    "    <div>"
   ]
  },
  {
   "cell_type": "markdown",
   "metadata": {},
   "source": [
    "### Вывод"
   ]
  },
  {
   "cell_type": "markdown",
   "metadata": {},
   "source": [
    "Можно заметить, что те клиенты, которые берут кредит на покупку автомобиля и образование, нарушают сроки возврата кредита чаще, чем те клиенты, которые берут кредит на операции с недвижимостью и свадьбу. Это повод пересмотреть условия выдачи кредитов на покупку автомобиля и образование, чтобы уменьшить количество нарушений сроков возврата."
   ]
  },
  {
   "cell_type": "markdown",
   "metadata": {},
   "source": [
    "- Есть ли зависимость между уровнем дохода и возвратом кредита в срок?"
   ]
  },
  {
   "cell_type": "markdown",
   "metadata": {},
   "source": [
    "Мы уже провели категоризацию клиентов исходя из их уровня дохода. Теперь выясним, как категория влияет на возврат кредита в срок."
   ]
  },
  {
   "cell_type": "markdown",
   "metadata": {},
   "source": [
    "Сгруппируем таблицу, состоящую из столбцов income_group и debt, по значениям в столбце income_group. Для этого применим метод groupby к столбцу income_group. При группировке мы хотим рассчитать средние значения в столбце debt. Для этого применим метод mean()."
   ]
  },
  {
   "cell_type": "code",
   "execution_count": 80,
   "metadata": {},
   "outputs": [
    {
     "data": {
      "text/html": [
       "<div>\n",
       "<style scoped>\n",
       "    .dataframe tbody tr th:only-of-type {\n",
       "        vertical-align: middle;\n",
       "    }\n",
       "\n",
       "    .dataframe tbody tr th {\n",
       "        vertical-align: top;\n",
       "    }\n",
       "\n",
       "    .dataframe thead th {\n",
       "        text-align: right;\n",
       "    }\n",
       "</style>\n",
       "<table border=\"1\" class=\"dataframe\">\n",
       "  <thead>\n",
       "    <tr style=\"text-align: right;\">\n",
       "      <th></th>\n",
       "      <th>debt</th>\n",
       "    </tr>\n",
       "    <tr>\n",
       "      <th>income_group</th>\n",
       "      <th></th>\n",
       "    </tr>\n",
       "  </thead>\n",
       "  <tbody>\n",
       "    <tr>\n",
       "      <td>категория 1</td>\n",
       "      <td>0.080068</td>\n",
       "    </tr>\n",
       "    <tr>\n",
       "      <td>категория 2</td>\n",
       "      <td>0.088313</td>\n",
       "    </tr>\n",
       "    <tr>\n",
       "      <td>категория 3</td>\n",
       "      <td>0.084590</td>\n",
       "    </tr>\n",
       "    <tr>\n",
       "      <td>категория 4</td>\n",
       "      <td>0.071577</td>\n",
       "    </tr>\n",
       "  </tbody>\n",
       "</table>\n",
       "</div>"
      ],
      "text/plain": [
       "                  debt\n",
       "income_group          \n",
       "категория 1   0.080068\n",
       "категория 2   0.088313\n",
       "категория 3   0.084590\n",
       "категория 4   0.071577"
      ]
     },
     "execution_count": 80,
     "metadata": {},
     "output_type": "execute_result"
    }
   ],
   "source": [
    "df[['income_group', 'debt']].groupby('income_group').mean()"
   ]
  },
  {
   "cell_type": "markdown",
   "metadata": {},
   "source": [
    "### Вывод"
   ]
  },
  {
   "cell_type": "markdown",
   "metadata": {},
   "source": [
    "Реже всех нарушают сроки возврата кредита самые обеспеченные клиенты. Следующие за ними - менее всего обеспеченные клиенты. Клиенты, которые получают близкие к среднему ежемесячному доходу, нарушают чаще всего. \n",
    "\n",
    "Исходя из этих данных, можно выдвинуть предположение, что для самых обеспеченных клиентов возврат кредита не является проблемой. А менее всего обеспеченные клиенты ответственно относятся к возврату кредита."
   ]
  },
  {
   "cell_type": "markdown",
   "metadata": {},
   "source": [
    "- Есть ли зависимость между семейным положением и возвратом кредита в срок?"
   ]
  },
  {
   "cell_type": "markdown",
   "metadata": {},
   "source": [
    "Посмотрим, какие в нашей таблице встречаются семейные положения и как часто. Выведем все уникальные значения в столбце family_status. Применим метод value_counts()."
   ]
  },
  {
   "cell_type": "code",
   "execution_count": 81,
   "metadata": {},
   "outputs": [
    {
     "data": {
      "text/plain": [
       "женат / замужем          12213\n",
       "гражданский брак          4112\n",
       "Не женат / не замужем     2780\n",
       "в разводе                 1179\n",
       "вдовец / вдова             946\n",
       "Name: family_status, dtype: int64"
      ]
     },
     "execution_count": 81,
     "metadata": {},
     "output_type": "execute_result"
    }
   ],
   "source": [
    "df['family_status'].value_counts()"
   ]
  },
  {
   "cell_type": "markdown",
   "metadata": {},
   "source": [
    "<div class=\"alert alert-info\" role=\"alert\">\n",
    "Сгруппируем таблицу по столбцу family_status, применив метод groupby. Затем с помощью метода agg рассчитаем средние значения (mean), суммы значений (sum) и количества значений (count) в столбце debt.\n",
    "    <div>"
   ]
  },
  {
   "cell_type": "code",
   "execution_count": 82,
   "metadata": {},
   "outputs": [
    {
     "data": {
      "text/html": [
       "<div>\n",
       "<style scoped>\n",
       "    .dataframe tbody tr th:only-of-type {\n",
       "        vertical-align: middle;\n",
       "    }\n",
       "\n",
       "    .dataframe tbody tr th {\n",
       "        vertical-align: top;\n",
       "    }\n",
       "\n",
       "    .dataframe thead tr th {\n",
       "        text-align: left;\n",
       "    }\n",
       "\n",
       "    .dataframe thead tr:last-of-type th {\n",
       "        text-align: right;\n",
       "    }\n",
       "</style>\n",
       "<table border=\"1\" class=\"dataframe\">\n",
       "  <thead>\n",
       "    <tr>\n",
       "      <th></th>\n",
       "      <th colspan=\"3\" halign=\"left\">debt</th>\n",
       "    </tr>\n",
       "    <tr>\n",
       "      <th></th>\n",
       "      <th>mean</th>\n",
       "      <th>sum</th>\n",
       "      <th>count</th>\n",
       "    </tr>\n",
       "    <tr>\n",
       "      <th>family_status</th>\n",
       "      <th></th>\n",
       "      <th></th>\n",
       "      <th></th>\n",
       "    </tr>\n",
       "  </thead>\n",
       "  <tbody>\n",
       "    <tr>\n",
       "      <td>Не женат / не замужем</td>\n",
       "      <td>0.097842</td>\n",
       "      <td>272</td>\n",
       "      <td>2780</td>\n",
       "    </tr>\n",
       "    <tr>\n",
       "      <td>в разводе</td>\n",
       "      <td>0.071247</td>\n",
       "      <td>84</td>\n",
       "      <td>1179</td>\n",
       "    </tr>\n",
       "    <tr>\n",
       "      <td>вдовец / вдова</td>\n",
       "      <td>0.065539</td>\n",
       "      <td>62</td>\n",
       "      <td>946</td>\n",
       "    </tr>\n",
       "    <tr>\n",
       "      <td>гражданский брак</td>\n",
       "      <td>0.093142</td>\n",
       "      <td>383</td>\n",
       "      <td>4112</td>\n",
       "    </tr>\n",
       "    <tr>\n",
       "      <td>женат / замужем</td>\n",
       "      <td>0.075575</td>\n",
       "      <td>923</td>\n",
       "      <td>12213</td>\n",
       "    </tr>\n",
       "  </tbody>\n",
       "</table>\n",
       "</div>"
      ],
      "text/plain": [
       "                           debt            \n",
       "                           mean  sum  count\n",
       "family_status                              \n",
       "Не женат / не замужем  0.097842  272   2780\n",
       "в разводе              0.071247   84   1179\n",
       "вдовец / вдова         0.065539   62    946\n",
       "гражданский брак       0.093142  383   4112\n",
       "женат / замужем        0.075575  923  12213"
      ]
     },
     "execution_count": 82,
     "metadata": {},
     "output_type": "execute_result"
    }
   ],
   "source": [
    "df.groupby('family_status').agg({'debt': ['mean', 'sum', 'count']})"
   ]
  },
  {
   "cell_type": "markdown",
   "metadata": {},
   "source": [
    "<div class=\"alert alert-info\" role=\"alert\">\n",
    "Оценим объёмы получившихся групп. По каждой категории семейного положения получилось достаточно большое количество клиентов - столбец count. В столбце sum мы можем видеть, сколько из них нарушили сроки возврата. А в столбце mean рассчитаное среднее значений количества нарушений.\n",
    "    <div>"
   ]
  },
  {
   "cell_type": "markdown",
   "metadata": {},
   "source": [
    "### Вывод"
   ]
  },
  {
   "cell_type": "markdown",
   "metadata": {},
   "source": [
    "Чаще всего нарушают сроки возврата клиенты, которые не имеют и никогда не имели формализованных супружеских отношений. А клиенты, которые прошли через брак или сейчас в браке, более ответственно относятся к возврату кредита в срок. Вдовы и вдовцы реже всех нарушают сроки."
   ]
  },
  {
   "cell_type": "markdown",
   "metadata": {},
   "source": [
    "- Есть ли зависимость между наличием детей и возвратом кредита в срок?"
   ]
  },
  {
   "cell_type": "markdown",
   "metadata": {},
   "source": [
    "Еще раз вспомним, сколько детей у наших клиентов. Выведем все уникальные значения в столбце children. Применим метод value_counts()."
   ]
  },
  {
   "cell_type": "code",
   "execution_count": 83,
   "metadata": {},
   "outputs": [
    {
     "data": {
      "text/plain": [
       "0    14021\n",
       "1     4792\n",
       "2     2039\n",
       "3      328\n",
       "4       41\n",
       "5        9\n",
       "Name: children, dtype: int64"
      ]
     },
     "execution_count": 83,
     "metadata": {},
     "output_type": "execute_result"
    }
   ],
   "source": [
    "df['children'].value_counts()"
   ]
  },
  {
   "cell_type": "markdown",
   "metadata": {},
   "source": [
    "<div class=\"alert alert-info\" role=\"alert\">\n",
    "Сгруппируем таблицу по столбцу children, применив метод groupby. Затем с помощью метода agg рассчитаем средние значения (mean), суммы значений (sum) и количества значений (count) в столбце debt.\n",
    "    <div>"
   ]
  },
  {
   "cell_type": "code",
   "execution_count": 84,
   "metadata": {},
   "outputs": [
    {
     "data": {
      "text/html": [
       "<div>\n",
       "<style scoped>\n",
       "    .dataframe tbody tr th:only-of-type {\n",
       "        vertical-align: middle;\n",
       "    }\n",
       "\n",
       "    .dataframe tbody tr th {\n",
       "        vertical-align: top;\n",
       "    }\n",
       "\n",
       "    .dataframe thead tr th {\n",
       "        text-align: left;\n",
       "    }\n",
       "\n",
       "    .dataframe thead tr:last-of-type th {\n",
       "        text-align: right;\n",
       "    }\n",
       "</style>\n",
       "<table border=\"1\" class=\"dataframe\">\n",
       "  <thead>\n",
       "    <tr>\n",
       "      <th></th>\n",
       "      <th colspan=\"3\" halign=\"left\">debt</th>\n",
       "    </tr>\n",
       "    <tr>\n",
       "      <th></th>\n",
       "      <th>mean</th>\n",
       "      <th>sum</th>\n",
       "      <th>count</th>\n",
       "    </tr>\n",
       "    <tr>\n",
       "      <th>children</th>\n",
       "      <th></th>\n",
       "      <th></th>\n",
       "      <th></th>\n",
       "    </tr>\n",
       "  </thead>\n",
       "  <tbody>\n",
       "    <tr>\n",
       "      <td>0</td>\n",
       "      <td>0.075458</td>\n",
       "      <td>1058</td>\n",
       "      <td>14021</td>\n",
       "    </tr>\n",
       "    <tr>\n",
       "      <td>1</td>\n",
       "      <td>0.092028</td>\n",
       "      <td>441</td>\n",
       "      <td>4792</td>\n",
       "    </tr>\n",
       "    <tr>\n",
       "      <td>2</td>\n",
       "      <td>0.095145</td>\n",
       "      <td>194</td>\n",
       "      <td>2039</td>\n",
       "    </tr>\n",
       "    <tr>\n",
       "      <td>3</td>\n",
       "      <td>0.082317</td>\n",
       "      <td>27</td>\n",
       "      <td>328</td>\n",
       "    </tr>\n",
       "    <tr>\n",
       "      <td>4</td>\n",
       "      <td>0.097561</td>\n",
       "      <td>4</td>\n",
       "      <td>41</td>\n",
       "    </tr>\n",
       "    <tr>\n",
       "      <td>5</td>\n",
       "      <td>0.000000</td>\n",
       "      <td>0</td>\n",
       "      <td>9</td>\n",
       "    </tr>\n",
       "  </tbody>\n",
       "</table>\n",
       "</div>"
      ],
      "text/plain": [
       "              debt             \n",
       "              mean   sum  count\n",
       "children                       \n",
       "0         0.075458  1058  14021\n",
       "1         0.092028   441   4792\n",
       "2         0.095145   194   2039\n",
       "3         0.082317    27    328\n",
       "4         0.097561     4     41\n",
       "5         0.000000     0      9"
      ]
     },
     "execution_count": 84,
     "metadata": {},
     "output_type": "execute_result"
    }
   ],
   "source": [
    "df.groupby('children').agg({'debt': ['mean', 'sum', 'count']})"
   ]
  },
  {
   "cell_type": "markdown",
   "metadata": {},
   "source": [
    "<div class=\"alert alert-info\" role=\"alert\">\n",
    "Оценим объёмы получившихся групп. Категории с 4 и 5 детьми оказались небольшими - столбец  count. Чем меньше детей, тем больше по размеру становится группа. И тем ближе становятся средние значения возвратов кредита к своим истинным значениям (значениям в генеральной совокупности).\n",
    "    <div>"
   ]
  },
  {
   "cell_type": "markdown",
   "metadata": {},
   "source": [
    "### Вывод"
   ]
  },
  {
   "cell_type": "markdown",
   "metadata": {},
   "source": [
    "<div class=\"alert alert-info\" role=\"alert\">\n",
    "Реже всех нарушают сроки возврата клиенты без детей. Когда у клиентов появляются дети, они начинают чаще нарушать. Причем клиенты с 3 детьми оказались более ответственны, чем клиенты с 1 и 2 детьми. \n",
    "\n",
    "По поводу клиентов с 4 и 5 детьми, к сожалению, мы не можем делать выводов, так как выборки оказались достаточно малые и наши рассчитанные средние значения могут быть далеки от средних значений в генеральных совокупностях для этих групп.\n",
    "<div>"
   ]
  },
  {
   "cell_type": "markdown",
   "metadata": {},
   "source": [
    "- Как влияет семейные статус и наличие детей одновременно на возврат кредита в срок?"
   ]
  },
  {
   "cell_type": "markdown",
   "metadata": {},
   "source": [
    "Чтобы ответить на этот вопрос, нужно построить сводную таблицу. Сгруппируем таблицу по семейному статусу и количеству детей и рассчитаем средние значение и количество возвратов кредита в срок.\n",
    "\n",
    "Воспользуемся методом pivot_table().В качестве аргументов укажем:\n",
    "- index — столбец, по которому группируем данные (family_status);\n",
    "- columns — столбец, по значениям которого происходит группировка (children);\n",
    "- values — значения, по которым мы хотим увидеть сводную таблицу (debt);\n",
    "- aggfunc — функция, применяемая к значениям (mean и count)."
   ]
  },
  {
   "cell_type": "code",
   "execution_count": 85,
   "metadata": {
    "scrolled": true
   },
   "outputs": [
    {
     "data": {
      "text/html": [
       "<div>\n",
       "<style scoped>\n",
       "    .dataframe tbody tr th:only-of-type {\n",
       "        vertical-align: middle;\n",
       "    }\n",
       "\n",
       "    .dataframe tbody tr th {\n",
       "        vertical-align: top;\n",
       "    }\n",
       "\n",
       "    .dataframe thead tr th {\n",
       "        text-align: left;\n",
       "    }\n",
       "\n",
       "    .dataframe thead tr:last-of-type th {\n",
       "        text-align: right;\n",
       "    }\n",
       "</style>\n",
       "<table border=\"1\" class=\"dataframe\">\n",
       "  <thead>\n",
       "    <tr>\n",
       "      <th></th>\n",
       "      <th colspan=\"6\" halign=\"left\">mean</th>\n",
       "      <th colspan=\"6\" halign=\"left\">count</th>\n",
       "    </tr>\n",
       "    <tr>\n",
       "      <th>children</th>\n",
       "      <th>0</th>\n",
       "      <th>1</th>\n",
       "      <th>2</th>\n",
       "      <th>3</th>\n",
       "      <th>4</th>\n",
       "      <th>5</th>\n",
       "      <th>0</th>\n",
       "      <th>1</th>\n",
       "      <th>2</th>\n",
       "      <th>3</th>\n",
       "      <th>4</th>\n",
       "      <th>5</th>\n",
       "    </tr>\n",
       "    <tr>\n",
       "      <th>family_status</th>\n",
       "      <th></th>\n",
       "      <th></th>\n",
       "      <th></th>\n",
       "      <th></th>\n",
       "      <th></th>\n",
       "      <th></th>\n",
       "      <th></th>\n",
       "      <th></th>\n",
       "      <th></th>\n",
       "      <th></th>\n",
       "      <th></th>\n",
       "      <th></th>\n",
       "    </tr>\n",
       "  </thead>\n",
       "  <tbody>\n",
       "    <tr>\n",
       "      <td>Не женат / не замужем</td>\n",
       "      <td>0.093375</td>\n",
       "      <td>0.114094</td>\n",
       "      <td>0.121622</td>\n",
       "      <td>0.125000</td>\n",
       "      <td>0.500000</td>\n",
       "      <td>NaN</td>\n",
       "      <td>2249.0</td>\n",
       "      <td>447.0</td>\n",
       "      <td>74.0</td>\n",
       "      <td>8.0</td>\n",
       "      <td>2.0</td>\n",
       "      <td>NaN</td>\n",
       "    </tr>\n",
       "    <tr>\n",
       "      <td>в разводе</td>\n",
       "      <td>0.070785</td>\n",
       "      <td>0.067524</td>\n",
       "      <td>0.088608</td>\n",
       "      <td>0.090909</td>\n",
       "      <td>0.000000</td>\n",
       "      <td>NaN</td>\n",
       "      <td>777.0</td>\n",
       "      <td>311.0</td>\n",
       "      <td>79.0</td>\n",
       "      <td>11.0</td>\n",
       "      <td>1.0</td>\n",
       "      <td>NaN</td>\n",
       "    </tr>\n",
       "    <tr>\n",
       "      <td>вдовец / вдова</td>\n",
       "      <td>0.061758</td>\n",
       "      <td>0.090909</td>\n",
       "      <td>0.150000</td>\n",
       "      <td>0.000000</td>\n",
       "      <td>0.000000</td>\n",
       "      <td>NaN</td>\n",
       "      <td>842.0</td>\n",
       "      <td>77.0</td>\n",
       "      <td>20.0</td>\n",
       "      <td>6.0</td>\n",
       "      <td>1.0</td>\n",
       "      <td>NaN</td>\n",
       "    </tr>\n",
       "    <tr>\n",
       "      <td>гражданский брак</td>\n",
       "      <td>0.083579</td>\n",
       "      <td>0.119312</td>\n",
       "      <td>0.087977</td>\n",
       "      <td>0.142857</td>\n",
       "      <td>0.000000</td>\n",
       "      <td>0.0</td>\n",
       "      <td>2716.0</td>\n",
       "      <td>989.0</td>\n",
       "      <td>341.0</td>\n",
       "      <td>56.0</td>\n",
       "      <td>8.0</td>\n",
       "      <td>2.0</td>\n",
       "    </tr>\n",
       "    <tr>\n",
       "      <td>женат / замужем</td>\n",
       "      <td>0.069114</td>\n",
       "      <td>0.082210</td>\n",
       "      <td>0.095082</td>\n",
       "      <td>0.068826</td>\n",
       "      <td>0.103448</td>\n",
       "      <td>0.0</td>\n",
       "      <td>7437.0</td>\n",
       "      <td>2968.0</td>\n",
       "      <td>1525.0</td>\n",
       "      <td>247.0</td>\n",
       "      <td>29.0</td>\n",
       "      <td>7.0</td>\n",
       "    </tr>\n",
       "  </tbody>\n",
       "</table>\n",
       "</div>"
      ],
      "text/plain": [
       "                           mean                                               \\\n",
       "children                      0         1         2         3         4    5   \n",
       "family_status                                                                  \n",
       "Не женат / не замужем  0.093375  0.114094  0.121622  0.125000  0.500000  NaN   \n",
       "в разводе              0.070785  0.067524  0.088608  0.090909  0.000000  NaN   \n",
       "вдовец / вдова         0.061758  0.090909  0.150000  0.000000  0.000000  NaN   \n",
       "гражданский брак       0.083579  0.119312  0.087977  0.142857  0.000000  0.0   \n",
       "женат / замужем        0.069114  0.082210  0.095082  0.068826  0.103448  0.0   \n",
       "\n",
       "                        count                                    \n",
       "children                    0       1       2      3     4    5  \n",
       "family_status                                                    \n",
       "Не женат / не замужем  2249.0   447.0    74.0    8.0   2.0  NaN  \n",
       "в разводе               777.0   311.0    79.0   11.0   1.0  NaN  \n",
       "вдовец / вдова          842.0    77.0    20.0    6.0   1.0  NaN  \n",
       "гражданский брак       2716.0   989.0   341.0   56.0   8.0  2.0  \n",
       "женат / замужем        7437.0  2968.0  1525.0  247.0  29.0  7.0  "
      ]
     },
     "execution_count": 85,
     "metadata": {},
     "output_type": "execute_result"
    }
   ],
   "source": [
    "df.pivot_table(index='family_status', columns='children', values='debt', aggfunc=['mean', 'count'])"
   ]
  },
  {
   "cell_type": "markdown",
   "metadata": {},
   "source": [
    "Нулевые средние значения получились в тех группах, где было мало клиентов и среди них пока нет сорвавших срок возврата. Значения NaN означают, что нет таких групп, например, нет разведенных клиентов с 5 детьми. 5 детей есть только у клиентов в браке - официальном или гражданском. Видимо, 5 детей - это везкая причина сохранять отношения с партнёром. \n",
    "\n",
    "Качественно оценить средние значения можно только в тех группах, куда попало большое количество значений. Рассмотрим группы, где больше 100 клиентов. Для этого смотрим на правую часть сводной таблицы, на значения count.\n",
    "\n",
    "Самыми ответственными оказались вдовы/вдовцы без детей, близко к ним - клиенты в разводе с 1 ребенком. Самые безответственные - женатые клиенты с 2 детьми и свободные клиенты - без партнеров и детей. "
   ]
  },
  {
   "cell_type": "markdown",
   "metadata": {},
   "source": [
    "### Шаг 4. Общий вывод"
   ]
  },
  {
   "cell_type": "markdown",
   "metadata": {},
   "source": [
    "<div class=\"alert alert-info\" role=\"alert\">\n",
    "\n",
    "В полученных данных были обнаружены пропуски, дубликаты и некачественные данные. Об этих проблемах нужно сообщить инженерам, чтобы они могли исправить ошибки. Тогда в будущем на предподготовку данных будет уходить меньше времени, а также можно будет делать более точные выводы исходя из данных. Ошибки в данных могут напрямую влиять на результат работы аналитика и его пользу для компании.\n",
    "\n",
    "В ходе исследования мы выяснили, что нарушения возврата кредитов чаще встречаются среди клиентов с детьми (9,5%), без опыта формализованых супружеских отношений (9,8%), со средним уровнем дохода (8,8%), и которые берут кредит на покупку автомобиля или получение образования (9,3%). \n",
    "\n",
    "Нарушения встречаются реже среди клиентов без детей (7,5%), вдов/вдовцов (6,5%), с высоким уровнем дохода (7,1%) и которые берут кредит операции с недвижимостью (7,3%).\n",
    "\n",
    "Эти выводы следует проверить на статистическую значимость. И если они окажутся значимыми, то сообщить о них менеджменту компании. Их можно будет использовать, чтобы оптимизировать систему скоринга клиентов и улучшить принятие решений о выдаче или невыдаче кредита.\n",
    "    <div>"
   ]
  }
 ],
 "metadata": {
  "kernelspec": {
   "display_name": "Python 3",
   "language": "python",
   "name": "python3"
  },
  "language_info": {
   "codemirror_mode": {
    "name": "ipython",
    "version": 3
   },
   "file_extension": ".py",
   "mimetype": "text/x-python",
   "name": "python",
   "nbconvert_exporter": "python",
   "pygments_lexer": "ipython3",
   "version": "3.9.1"
  }
 },
 "nbformat": 4,
 "nbformat_minor": 2
}
