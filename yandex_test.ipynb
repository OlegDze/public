{
 "cells": [
  {
   "cell_type": "markdown",
   "metadata": {},
   "source": [
    "# Задание 3 (анализ данных)"
   ]
  },
  {
   "cell_type": "markdown",
   "metadata": {},
   "source": [
    "## Описание проекта\n",
    "\n",
    "Необходимо провести анализ рекламного размещения клиента:\n",
    "- оценить текущее положение клиента относительно конкурентов в категории (сравнительный анализ эффективности затрат);\n",
    "- на основе выводов из п1 сформировать рекомендации по использованию инструментов, площадок, устройств.\n",
    "\n",
    "Исходные данные:\n",
    "- клиент: 'Омега';\n",
    "- категории: Потребительское кредитование;\n",
    "- период для анализа: янв – авг 2020;\n",
    "- цель клиента: получать больше целевых визитов по меньшей стоимости."
   ]
  },
  {
   "cell_type": "markdown",
   "metadata": {},
   "source": [
    "## <a name=\"0\"> Содержание: </a>\n",
    "- [Загрузка данных и ознакомление с ними](#1)\n",
    "- [Предобработка данных](#2)\n",
    "- [Анализ данных](#3)\n",
    "  - [Сравнение с конкурентами](#3.1)\n",
    "  - [Рекомендации](#3.2)\n",
    "- [Выводы](#4)"
   ]
  },
  {
   "cell_type": "markdown",
   "metadata": {},
   "source": [
    "## <a name=\"1\"> Загрузка данных и ознакомление с ними </a>"
   ]
  },
  {
   "cell_type": "markdown",
   "metadata": {},
   "source": [
    "Загрузим библиотеки для работы с табличными данными и визуализации:"
   ]
  },
  {
   "cell_type": "code",
   "execution_count": 1,
   "metadata": {},
   "outputs": [],
   "source": [
    "import pandas as pd\n",
    "import matplotlib.pyplot as plt"
   ]
  },
  {
   "cell_type": "markdown",
   "metadata": {},
   "source": [
    "Загрузим данные и выведем пять случайных строк:"
   ]
  },
  {
   "cell_type": "code",
   "execution_count": 2,
   "metadata": {},
   "outputs": [
    {
     "data": {
      "text/html": [
       "<div>\n",
       "<style scoped>\n",
       "    .dataframe tbody tr th:only-of-type {\n",
       "        vertical-align: middle;\n",
       "    }\n",
       "\n",
       "    .dataframe tbody tr th {\n",
       "        vertical-align: top;\n",
       "    }\n",
       "\n",
       "    .dataframe thead th {\n",
       "        text-align: right;\n",
       "    }\n",
       "</style>\n",
       "<table border=\"1\" class=\"dataframe\">\n",
       "  <thead>\n",
       "    <tr style=\"text-align: right;\">\n",
       "      <th></th>\n",
       "      <th>Client</th>\n",
       "      <th>client_id</th>\n",
       "      <th>Month</th>\n",
       "      <th>Category</th>\n",
       "      <th>Device</th>\n",
       "      <th>Place</th>\n",
       "      <th>BannerType</th>\n",
       "      <th>QueryType (search only)</th>\n",
       "      <th>TargetingType</th>\n",
       "      <th>Shows</th>\n",
       "      <th>Clicks</th>\n",
       "      <th>Cost_rub_wo_NDS</th>\n",
       "      <th>Сonversions</th>\n",
       "    </tr>\n",
       "  </thead>\n",
       "  <tbody>\n",
       "    <tr>\n",
       "      <th>4398</th>\n",
       "      <td>Гамма</td>\n",
       "      <td>458303</td>\n",
       "      <td>2020-08-01</td>\n",
       "      <td>ДЕБЕТОВЫЕ КАРТЫ</td>\n",
       "      <td>Mobile</td>\n",
       "      <td>Search</td>\n",
       "      <td>text</td>\n",
       "      <td>Other</td>\n",
       "      <td>Phrase</td>\n",
       "      <td>23797</td>\n",
       "      <td>1686</td>\n",
       "      <td>1.741349e+05</td>\n",
       "      <td>120</td>\n",
       "    </tr>\n",
       "    <tr>\n",
       "      <th>8374</th>\n",
       "      <td>Сигма</td>\n",
       "      <td>357953</td>\n",
       "      <td>2020-02-01</td>\n",
       "      <td>ПОТРЕБИТЕЛЬСКОЕ КРЕДИТОВАНИЕ</td>\n",
       "      <td>Desktop</td>\n",
       "      <td>Search</td>\n",
       "      <td>text</td>\n",
       "      <td>Competitor</td>\n",
       "      <td>Phrase</td>\n",
       "      <td>98698</td>\n",
       "      <td>4396</td>\n",
       "      <td>1.868235e+05</td>\n",
       "      <td>340</td>\n",
       "    </tr>\n",
       "    <tr>\n",
       "      <th>8976</th>\n",
       "      <td>Омега</td>\n",
       "      <td>333348</td>\n",
       "      <td>2019-08-01</td>\n",
       "      <td>ПОТРЕБИТЕЛЬСКОЕ КРЕДИТОВАНИЕ</td>\n",
       "      <td>Mobile</td>\n",
       "      <td>Search</td>\n",
       "      <td>text</td>\n",
       "      <td>Other</td>\n",
       "      <td>Phrase</td>\n",
       "      <td>192017</td>\n",
       "      <td>23233</td>\n",
       "      <td>2.121561e+06</td>\n",
       "      <td>3439</td>\n",
       "    </tr>\n",
       "    <tr>\n",
       "      <th>9859</th>\n",
       "      <td>Гамма</td>\n",
       "      <td>458303</td>\n",
       "      <td>2020-03-01</td>\n",
       "      <td>РАСЧЕТНО-КАССОВОЕ ОБСЛУЖИВАНИЕ</td>\n",
       "      <td>Mobile</td>\n",
       "      <td>Networks</td>\n",
       "      <td>text</td>\n",
       "      <td>none</td>\n",
       "      <td>Retargeting</td>\n",
       "      <td>0</td>\n",
       "      <td>0</td>\n",
       "      <td>0.000000e+00</td>\n",
       "      <td>0</td>\n",
       "    </tr>\n",
       "    <tr>\n",
       "      <th>1653</th>\n",
       "      <td>Микрон</td>\n",
       "      <td>449955</td>\n",
       "      <td>2019-11-01</td>\n",
       "      <td>СТРАХОВАНИЕ ВЫЕЗЖАЮЩИХ ЗА РУБЕЖ</td>\n",
       "      <td>Mobile</td>\n",
       "      <td>Networks</td>\n",
       "      <td>image_ad</td>\n",
       "      <td>none</td>\n",
       "      <td>Phrase</td>\n",
       "      <td>30839</td>\n",
       "      <td>228</td>\n",
       "      <td>4.317739e+03</td>\n",
       "      <td>0</td>\n",
       "    </tr>\n",
       "  </tbody>\n",
       "</table>\n",
       "</div>"
      ],
      "text/plain": [
       "      Client  client_id      Month                         Category   Device  \\\n",
       "4398   Гамма     458303 2020-08-01                  ДЕБЕТОВЫЕ КАРТЫ   Mobile   \n",
       "8374   Сигма     357953 2020-02-01     ПОТРЕБИТЕЛЬСКОЕ КРЕДИТОВАНИЕ  Desktop   \n",
       "8976   Омега     333348 2019-08-01     ПОТРЕБИТЕЛЬСКОЕ КРЕДИТОВАНИЕ   Mobile   \n",
       "9859   Гамма     458303 2020-03-01   РАСЧЕТНО-КАССОВОЕ ОБСЛУЖИВАНИЕ   Mobile   \n",
       "1653  Микрон     449955 2019-11-01  СТРАХОВАНИЕ ВЫЕЗЖАЮЩИХ ЗА РУБЕЖ   Mobile   \n",
       "\n",
       "         Place BannerType QueryType (search only) TargetingType   Shows  \\\n",
       "4398    Search       text                   Other        Phrase   23797   \n",
       "8374    Search       text              Competitor        Phrase   98698   \n",
       "8976    Search       text                   Other        Phrase  192017   \n",
       "9859  Networks       text                    none   Retargeting       0   \n",
       "1653  Networks   image_ad                    none        Phrase   30839   \n",
       "\n",
       "      Clicks  Cost_rub_wo_NDS  Сonversions  \n",
       "4398    1686     1.741349e+05          120  \n",
       "8374    4396     1.868235e+05          340  \n",
       "8976   23233     2.121561e+06         3439  \n",
       "9859       0     0.000000e+00            0  \n",
       "1653     228     4.317739e+03            0  "
      ]
     },
     "execution_count": 2,
     "metadata": {},
     "output_type": "execute_result"
    }
   ],
   "source": [
    "df = pd.read_excel('/Users/polzovatel/Desktop/data.xls')\n",
    "df.sample(5)"
   ]
  },
  {
   "cell_type": "markdown",
   "metadata": {},
   "source": [
    "Посмотрим на объём таблицы, типы данных и наличие пропусков:"
   ]
  },
  {
   "cell_type": "code",
   "execution_count": 3,
   "metadata": {},
   "outputs": [
    {
     "name": "stdout",
     "output_type": "stream",
     "text": [
      "<class 'pandas.core.frame.DataFrame'>\n",
      "RangeIndex: 11912 entries, 0 to 11911\n",
      "Data columns (total 13 columns):\n",
      " #   Column                   Non-Null Count  Dtype         \n",
      "---  ------                   --------------  -----         \n",
      " 0   Client                   11912 non-null  object        \n",
      " 1   client_id                11912 non-null  int64         \n",
      " 2   Month                    11912 non-null  datetime64[ns]\n",
      " 3   Category                 11912 non-null  object        \n",
      " 4   Device                   11912 non-null  object        \n",
      " 5   Place                    11912 non-null  object        \n",
      " 6   BannerType               11912 non-null  object        \n",
      " 7   QueryType (search only)  11912 non-null  object        \n",
      " 8   TargetingType            11912 non-null  object        \n",
      " 9   Shows                    11912 non-null  int64         \n",
      " 10  Clicks                   11912 non-null  int64         \n",
      " 11  Cost_rub_wo_NDS          11912 non-null  float64       \n",
      " 12  Сonversions              11912 non-null  int64         \n",
      "dtypes: datetime64[ns](1), float64(1), int64(4), object(7)\n",
      "memory usage: 1.2+ MB\n"
     ]
    }
   ],
   "source": [
    "df.info()"
   ]
  },
  {
   "cell_type": "markdown",
   "metadata": {},
   "source": [
    "В таблице 11 911 строк, 13 столбцов, пропусков нет. Для каждого столбца добавим его описание:\n",
    "\n",
    "- Client – название клиента\n",
    "- client_id – идентификатор клиента\n",
    "- Device – тип устройства\n",
    "- Place – тип площадки\n",
    "- BannerType – тип объявления\n",
    "- QueryType – тип запроса (только для Place: Search)\n",
    "- TargetingType – тип таргетинга\n",
    "- Shows – Показы\n",
    "- Clicks – Клики\n",
    "- Cost_rub_wo_NDS – Расходы\n",
    "- Conversions – Целевые визиты"
   ]
  },
  {
   "cell_type": "markdown",
   "metadata": {},
   "source": [
    "Для удобства названия столбцов лучше привести к snake_case. С типами столбцов всё хорошо, менять не нужно. Также нужно проверить таблицу на наличие дублей. Сделаем это на этапе предобработки данных."
   ]
  },
  {
   "cell_type": "markdown",
   "metadata": {},
   "source": [
    "## <a name=\"2\"> Предобработка данных </a>"
   ]
  },
  {
   "cell_type": "markdown",
   "metadata": {},
   "source": [
    "Приведём названия столбцов к стилю snake_case:"
   ]
  },
  {
   "cell_type": "code",
   "execution_count": 4,
   "metadata": {},
   "outputs": [
    {
     "data": {
      "text/plain": [
       "Index(['client', 'client_id', 'month', 'category', 'device', 'place',\n",
       "       'bannertype', 'querytype_search_only', 'targetingtype', 'shows',\n",
       "       'clicks', 'cost_rub_wo_nds', 'сonversions'],\n",
       "      dtype='object')"
      ]
     },
     "execution_count": 4,
     "metadata": {},
     "output_type": "execute_result"
    }
   ],
   "source": [
    "df.columns = [i.lower() for i in df.columns]\n",
    "df = df.rename(columns={'querytype (search only)': 'querytype_search_only'})\n",
    "df.columns"
   ]
  },
  {
   "cell_type": "markdown",
   "metadata": {},
   "source": [
    "Теперь проверим таблицу на наличие дублей:"
   ]
  },
  {
   "cell_type": "code",
   "execution_count": 5,
   "metadata": {},
   "outputs": [
    {
     "data": {
      "text/plain": [
       "0"
      ]
     },
     "execution_count": 5,
     "metadata": {},
     "output_type": "execute_result"
    }
   ],
   "source": [
    "df.duplicated().sum()"
   ]
  },
  {
   "cell_type": "markdown",
   "metadata": {},
   "source": [
    "Полных строк-дублей нет."
   ]
  },
  {
   "cell_type": "markdown",
   "metadata": {},
   "source": [
    "В исходных данных сказано, что для анализа необходимо взять период с января по август 2020 года. Поэтому очистим таблицу от несоответствующей информации:"
   ]
  },
  {
   "cell_type": "code",
   "execution_count": 6,
   "metadata": {},
   "outputs": [
    {
     "data": {
      "text/plain": [
       "5297"
      ]
     },
     "execution_count": 6,
     "metadata": {},
     "output_type": "execute_result"
    }
   ],
   "source": [
    "df_filtered = df.query('\"2020-01-01\" <= month <= \"2020-08-31\"')\n",
    "len(df_filtered)"
   ]
  },
  {
   "cell_type": "markdown",
   "metadata": {},
   "source": [
    "Также в исходных данных сказано, что рассматриваемая категория - потребительское кредитование. Исключим данные, не относящиеся к этой категории:"
   ]
  },
  {
   "cell_type": "code",
   "execution_count": 7,
   "metadata": {},
   "outputs": [
    {
     "data": {
      "text/plain": [
       "1161"
      ]
     },
     "execution_count": 7,
     "metadata": {},
     "output_type": "execute_result"
    }
   ],
   "source": [
    "df_filtered_2 = df_filtered.query('category == \"ПОТРЕБИТЕЛЬСКОЕ КРЕДИТОВАНИЕ\"')\n",
    "len(df_filtered_2)"
   ]
  },
  {
   "cell_type": "markdown",
   "metadata": {},
   "source": [
    "Было 11 911 строк, стало - 1161. Исключенные строки были нерелевантными.\n",
    "\n",
    "Теперь данные предобработаны, можно переходить к их анализу."
   ]
  },
  {
   "cell_type": "markdown",
   "metadata": {},
   "source": [
    "## <a name=\"3\"> Анализ данных </a>"
   ]
  },
  {
   "cell_type": "markdown",
   "metadata": {},
   "source": [
    "### <a name=\"3.1\"> Сравнение с конкурентами </a>"
   ]
  },
  {
   "cell_type": "markdown",
   "metadata": {},
   "source": [
    "В рамках задания необходимо оценить текущее положение клиента, компании 'Омега', относительно конкурентов в категории (сравнительный анализ эффективности затрат). Сравнивать будем три метрики:\n",
    "- CAC (стоимость привлечения клиента, отношение расходов к количеству целевых визитов) - так мы поймём, сколько платит 'Омега' и конкуренты за целевой визит;\n",
    "- CPC (стоимость за клик, отношение расходов к количеству кликов) - так мы поймём, сколько платит 'Омега' и конкуренты за клик по баннеру и переход;\n",
    "- CTR (конверсия показов в клики) - так мы оценим качество рекламного баннера и таргетинга. Это не финансовый показатель, но косвенно влияет на экономическую эффективность рекламы, если её стоимость зависит от количества показов.\n",
    "\n",
    "Наиболее важный показатель - это CAC. Именно он и ARPPU - наиболее важные показатели, когда говорят и том, что юнит-экономика бизнеса должна сходиться. Тем не менее рассчитаем все три метрики для 'Омеги' и конкурентов.\n",
    "\n",
    "Напишем функция, которая будет считать метрики в зависимости от параметра, по которому группируем данные:"
   ]
  },
  {
   "cell_type": "code",
   "execution_count": 8,
   "metadata": {},
   "outputs": [],
   "source": [
    "def groupby(data, column):\n",
    "    df_grouped = data.groupby(column).agg({'cost_rub_wo_nds': 'sum', 'сonversions': 'sum'\n",
    "                                                  , 'shows': 'sum', 'clicks': 'sum'})\n",
    "    df_grouped['cac'] = round(df_grouped['cost_rub_wo_nds'] / df_grouped['сonversions'])\n",
    "    df_grouped['cpc'] = round(df_grouped['cost_rub_wo_nds'] / df_grouped['clicks'])\n",
    "    df_grouped['ctr_%'] = round(df_grouped['clicks'] * 100 / df_grouped['shows'], 2)\n",
    "    return df_grouped[['cac', 'cpc', 'ctr_%']]"
   ]
  },
  {
   "cell_type": "markdown",
   "metadata": {},
   "source": [
    "Воспользуемся функцией и сгруппируем данные по компаниям:"
   ]
  },
  {
   "cell_type": "code",
   "execution_count": 9,
   "metadata": {},
   "outputs": [
    {
     "data": {
      "text/html": [
       "<div>\n",
       "<style scoped>\n",
       "    .dataframe tbody tr th:only-of-type {\n",
       "        vertical-align: middle;\n",
       "    }\n",
       "\n",
       "    .dataframe tbody tr th {\n",
       "        vertical-align: top;\n",
       "    }\n",
       "\n",
       "    .dataframe thead th {\n",
       "        text-align: right;\n",
       "    }\n",
       "</style>\n",
       "<table border=\"1\" class=\"dataframe\">\n",
       "  <thead>\n",
       "    <tr style=\"text-align: right;\">\n",
       "      <th>client</th>\n",
       "      <th>Альфа</th>\n",
       "      <th>Бета</th>\n",
       "      <th>Гамма</th>\n",
       "      <th>Зета</th>\n",
       "      <th>Лямбда</th>\n",
       "      <th>Мета</th>\n",
       "      <th>Омега</th>\n",
       "      <th>Псилон</th>\n",
       "      <th>Сигма</th>\n",
       "    </tr>\n",
       "  </thead>\n",
       "  <tbody>\n",
       "    <tr>\n",
       "      <th>cac</th>\n",
       "      <td>622.00</td>\n",
       "      <td>651.00</td>\n",
       "      <td>260.00</td>\n",
       "      <td>1732.0</td>\n",
       "      <td>268.00</td>\n",
       "      <td>155.00</td>\n",
       "      <td>424.00</td>\n",
       "      <td>684.00</td>\n",
       "      <td>259.0</td>\n",
       "    </tr>\n",
       "    <tr>\n",
       "      <th>cpc</th>\n",
       "      <td>60.00</td>\n",
       "      <td>34.00</td>\n",
       "      <td>35.00</td>\n",
       "      <td>28.0</td>\n",
       "      <td>26.00</td>\n",
       "      <td>16.00</td>\n",
       "      <td>46.00</td>\n",
       "      <td>58.00</td>\n",
       "      <td>17.0</td>\n",
       "    </tr>\n",
       "    <tr>\n",
       "      <th>ctr_%</th>\n",
       "      <td>1.61</td>\n",
       "      <td>0.43</td>\n",
       "      <td>0.63</td>\n",
       "      <td>23.9</td>\n",
       "      <td>0.87</td>\n",
       "      <td>1.36</td>\n",
       "      <td>15.19</td>\n",
       "      <td>1.02</td>\n",
       "      <td>1.3</td>\n",
       "    </tr>\n",
       "  </tbody>\n",
       "</table>\n",
       "</div>"
      ],
      "text/plain": [
       "client   Альфа    Бета   Гамма    Зета  Лямбда    Мета   Омега  Псилон  Сигма\n",
       "cac     622.00  651.00  260.00  1732.0  268.00  155.00  424.00  684.00  259.0\n",
       "cpc      60.00   34.00   35.00    28.0   26.00   16.00   46.00   58.00   17.0\n",
       "ctr_%     1.61    0.43    0.63    23.9    0.87    1.36   15.19    1.02    1.3"
      ]
     },
     "execution_count": 9,
     "metadata": {},
     "output_type": "execute_result"
    }
   ],
   "source": [
    "clients_grouped = groupby(df_filtered_2, 'client')\n",
    "clients_grouped.T"
   ]
  },
  {
   "cell_type": "markdown",
   "metadata": {},
   "source": [
    "Сравним 'Омегу' и конкурентов, построим диаграмму по каждой метрике. Начнём с CAC:"
   ]
  },
  {
   "cell_type": "code",
   "execution_count": 10,
   "metadata": {},
   "outputs": [
    {
     "data": {
      "image/png": "[encoded data removed]",
      "text/plain": [
       "<Figure size 720x216 with 1 Axes>"
      ]
     },
     "metadata": {
      "needs_background": "light"
     },
     "output_type": "display_data"
    }
   ],
   "source": [
    "clients_grouped[['cac']].sort_values('cac', ascending=False).plot(kind='bar', alpha=.5, color='blue'\n",
    "                                                             , figsize=(10, 3), legend=False)\n",
    "plt.title('Стоимость целевого визита (CAC) для категории \"потребительские товары\" \\nв период с января по август 2020 года') \n",
    "plt.xlabel(\"Компания\")\n",
    "plt.ylabel(\"CAC, ден. ед.\") \n",
    "plt.show()"
   ]
  },
  {
   "cell_type": "markdown",
   "metadata": {},
   "source": [
    "Выделяется 'Зета' - эта компания тратит значительно больше других конкурентов за целевой визит - 1732 ден. ед. 'Омега ' в середине списка - она тратит 424 ден. ед. Меньше всего у 'Мета' - 155 ден. ед.\n",
    "\n",
    "Построим диаграмму по CPC:"
   ]
  },
  {
   "cell_type": "code",
   "execution_count": 11,
   "metadata": {},
   "outputs": [
    {
     "data": {
      "image/png": "[encoded data removed]",
      "text/plain": [
       "<Figure size 720x216 with 1 Axes>"
      ]
     },
     "metadata": {
      "needs_background": "light"
     },
     "output_type": "display_data"
    }
   ],
   "source": [
    "clients_grouped[['cpc']].sort_values('cpc', ascending=False).plot(kind='bar', alpha=.5, color='green'\n",
    "                                                             , figsize=(10, 3), legend=False)\n",
    "plt.title('Стоимость за клик (CPC) для категории \"потребительские товары\" \\nв период с января по август 2020 года') \n",
    "plt.xlabel(\"Компания\")\n",
    "plt.ylabel(\"CPC, ден. ед.\") \n",
    "plt.show()"
   ]
  },
  {
   "cell_type": "markdown",
   "metadata": {},
   "source": [
    "'Омега' со значением 46 ден. ед. находится в тройке компаний, которые тратят больше конкурентов за клик. Меньше всего опять у 'Мета' - 16 ден. ед. 'Омеге' есть куда стремиться.\n",
    "\n",
    "Построим диаграмму по CTR:"
   ]
  },
  {
   "cell_type": "code",
   "execution_count": 12,
   "metadata": {},
   "outputs": [
    {
     "data": {
      "image/png": "[encoded data removed]",
      "text/plain": [
       "<Figure size 720x216 with 1 Axes>"
      ]
     },
     "metadata": {
      "needs_background": "light"
     },
     "output_type": "display_data"
    }
   ],
   "source": [
    "clients_grouped[['ctr_%']].sort_values('ctr_%', ascending=False).plot(kind='bar', alpha=.5, color='red'\n",
    "                                                             , figsize=(10, 3), legend=False)\n",
    "plt.title('Конверсия показов в клики (CTR) для категории \"потребительские товары\" \\nв период с января по август 2020 года') \n",
    "plt.xlabel(\"Компания\")\n",
    "plt.ylabel(\"CTR, %\") \n",
    "plt.show()"
   ]
  },
  {
   "cell_type": "markdown",
   "metadata": {},
   "source": [
    "У 'Зеты' и 'Омеги' очень хорошие показатели CTR по сравнению с конкурентами - 24 и 15% соответственно. А вот 'Мета', лидер по самым дешёвым целевым визитам, имеет конверсию всего лишь 1,4%. Это означает, что эта компания закупает показы за очень низкую цену по сравнению с конкурентами.\n",
    "\n",
    "В целом можно сказать, что по основной метрике, CAC, 'Омега' является середняком и показатель можно улучшать. Посмотрим, как это можно сделать."
   ]
  },
  {
   "cell_type": "markdown",
   "metadata": {},
   "source": [
    "### <a name=\"3.2\"> Рекомендации </a>"
   ]
  },
  {
   "cell_type": "markdown",
   "metadata": {},
   "source": [
    "Составим рекомендации для 'Омеги'. Изучим, как метрики зависят от различных признаков. Сначала оставим только данные по 'Омеге':"
   ]
  },
  {
   "cell_type": "code",
   "execution_count": 13,
   "metadata": {},
   "outputs": [
    {
     "data": {
      "text/plain": [
       "86"
      ]
     },
     "execution_count": 13,
     "metadata": {},
     "output_type": "execute_result"
    }
   ],
   "source": [
    "df_omega = df_filtered_2.query('client == \"Омега\"')\n",
    "len(df_omega)"
   ]
  },
  {
   "cell_type": "markdown",
   "metadata": {},
   "source": [
    "86 строк с данными по 'Омеге'. Посмотрим зависимость метрик от типа устойства:"
   ]
  },
  {
   "cell_type": "code",
   "execution_count": 14,
   "metadata": {},
   "outputs": [
    {
     "data": {
      "text/html": [
       "<div>\n",
       "<style scoped>\n",
       "    .dataframe tbody tr th:only-of-type {\n",
       "        vertical-align: middle;\n",
       "    }\n",
       "\n",
       "    .dataframe tbody tr th {\n",
       "        vertical-align: top;\n",
       "    }\n",
       "\n",
       "    .dataframe thead th {\n",
       "        text-align: right;\n",
       "    }\n",
       "</style>\n",
       "<table border=\"1\" class=\"dataframe\">\n",
       "  <thead>\n",
       "    <tr style=\"text-align: right;\">\n",
       "      <th>device</th>\n",
       "      <th>Desktop</th>\n",
       "      <th>Mobile</th>\n",
       "    </tr>\n",
       "  </thead>\n",
       "  <tbody>\n",
       "    <tr>\n",
       "      <th>cac</th>\n",
       "      <td>642.00</td>\n",
       "      <td>326.00</td>\n",
       "    </tr>\n",
       "    <tr>\n",
       "      <th>cpc</th>\n",
       "      <td>56.00</td>\n",
       "      <td>40.00</td>\n",
       "    </tr>\n",
       "    <tr>\n",
       "      <th>ctr_%</th>\n",
       "      <td>12.24</td>\n",
       "      <td>17.94</td>\n",
       "    </tr>\n",
       "  </tbody>\n",
       "</table>\n",
       "</div>"
      ],
      "text/plain": [
       "device  Desktop  Mobile\n",
       "cac      642.00  326.00\n",
       "cpc       56.00   40.00\n",
       "ctr_%     12.24   17.94"
      ]
     },
     "execution_count": 14,
     "metadata": {},
     "output_type": "execute_result"
    }
   ],
   "source": [
    "omega_device_grouped = groupby(df_omega, 'device')\n",
    "omega_device_grouped.T"
   ]
  },
  {
   "cell_type": "markdown",
   "metadata": {},
   "source": [
    "Целевой визит дешевле для мобильных устройств, там и конверсия в клики выше. Значит имеет смысл перераспределять бюджет в пользу этого типа устройств.\n",
    "\n",
    "Посмотрим на зависимость от площадки:"
   ]
  },
  {
   "cell_type": "code",
   "execution_count": 15,
   "metadata": {},
   "outputs": [
    {
     "data": {
      "text/html": [
       "<div>\n",
       "<style scoped>\n",
       "    .dataframe tbody tr th:only-of-type {\n",
       "        vertical-align: middle;\n",
       "    }\n",
       "\n",
       "    .dataframe tbody tr th {\n",
       "        vertical-align: top;\n",
       "    }\n",
       "\n",
       "    .dataframe thead th {\n",
       "        text-align: right;\n",
       "    }\n",
       "</style>\n",
       "<table border=\"1\" class=\"dataframe\">\n",
       "  <thead>\n",
       "    <tr style=\"text-align: right;\">\n",
       "      <th>place</th>\n",
       "      <th>Networks</th>\n",
       "      <th>Search</th>\n",
       "    </tr>\n",
       "  </thead>\n",
       "  <tbody>\n",
       "    <tr>\n",
       "      <th>cac</th>\n",
       "      <td>0.0</td>\n",
       "      <td>424.00</td>\n",
       "    </tr>\n",
       "    <tr>\n",
       "      <th>cpc</th>\n",
       "      <td>NaN</td>\n",
       "      <td>46.00</td>\n",
       "    </tr>\n",
       "    <tr>\n",
       "      <th>ctr_%</th>\n",
       "      <td>NaN</td>\n",
       "      <td>15.19</td>\n",
       "    </tr>\n",
       "  </tbody>\n",
       "</table>\n",
       "</div>"
      ],
      "text/plain": [
       "place  Networks  Search\n",
       "cac         0.0  424.00\n",
       "cpc         NaN   46.00\n",
       "ctr_%       NaN   15.19"
      ]
     },
     "execution_count": 15,
     "metadata": {},
     "output_type": "execute_result"
    }
   ],
   "source": [
    "omega_place_grouped = groupby(df_omega, 'place')\n",
    "omega_place_grouped.T"
   ]
  },
  {
   "cell_type": "markdown",
   "metadata": {},
   "source": [
    "'Омега' размещается только на площадке `Search`. Возможно имеет смысл попробовать площадку `Networks`. Ответим на этот вопрос чуть позже.\n",
    "\n",
    "Посмотрим на зависимость от типа запроса:"
   ]
  },
  {
   "cell_type": "code",
   "execution_count": 16,
   "metadata": {},
   "outputs": [
    {
     "data": {
      "text/html": [
       "<div>\n",
       "<style scoped>\n",
       "    .dataframe tbody tr th:only-of-type {\n",
       "        vertical-align: middle;\n",
       "    }\n",
       "\n",
       "    .dataframe tbody tr th {\n",
       "        vertical-align: top;\n",
       "    }\n",
       "\n",
       "    .dataframe thead th {\n",
       "        text-align: right;\n",
       "    }\n",
       "</style>\n",
       "<table border=\"1\" class=\"dataframe\">\n",
       "  <thead>\n",
       "    <tr style=\"text-align: right;\">\n",
       "      <th>querytype_search_only</th>\n",
       "      <th>Brand</th>\n",
       "      <th>Competitor</th>\n",
       "      <th>Other</th>\n",
       "      <th>none</th>\n",
       "    </tr>\n",
       "  </thead>\n",
       "  <tbody>\n",
       "    <tr>\n",
       "      <th>cac</th>\n",
       "      <td>326.00</td>\n",
       "      <td>831.00</td>\n",
       "      <td>564.0</td>\n",
       "      <td>0.0</td>\n",
       "    </tr>\n",
       "    <tr>\n",
       "      <th>cpc</th>\n",
       "      <td>32.00</td>\n",
       "      <td>67.00</td>\n",
       "      <td>73.0</td>\n",
       "      <td>NaN</td>\n",
       "    </tr>\n",
       "    <tr>\n",
       "      <th>ctr_%</th>\n",
       "      <td>19.16</td>\n",
       "      <td>5.92</td>\n",
       "      <td>11.3</td>\n",
       "      <td>NaN</td>\n",
       "    </tr>\n",
       "  </tbody>\n",
       "</table>\n",
       "</div>"
      ],
      "text/plain": [
       "querytype_search_only   Brand  Competitor  Other  none\n",
       "cac                    326.00      831.00  564.0   0.0\n",
       "cpc                     32.00       67.00   73.0   NaN\n",
       "ctr_%                   19.16        5.92   11.3   NaN"
      ]
     },
     "execution_count": 16,
     "metadata": {},
     "output_type": "execute_result"
    }
   ],
   "source": [
    "omega_querytype_grouped = groupby(df_omega, 'querytype_search_only')\n",
    "omega_querytype_grouped.T"
   ]
  },
  {
   "cell_type": "markdown",
   "metadata": {},
   "source": [
    "Самые дешёвые целевые визиты для запросов типа `Brand`, также CTR самый высокий. Имеет смысл перераспределять бюджет в пользу этого типа запросов.\n",
    "\n",
    "Посмотрим на зависимость от типа баннера:"
   ]
  },
  {
   "cell_type": "code",
   "execution_count": 17,
   "metadata": {},
   "outputs": [
    {
     "data": {
      "text/html": [
       "<div>\n",
       "<style scoped>\n",
       "    .dataframe tbody tr th:only-of-type {\n",
       "        vertical-align: middle;\n",
       "    }\n",
       "\n",
       "    .dataframe tbody tr th {\n",
       "        vertical-align: top;\n",
       "    }\n",
       "\n",
       "    .dataframe thead th {\n",
       "        text-align: right;\n",
       "    }\n",
       "</style>\n",
       "<table border=\"1\" class=\"dataframe\">\n",
       "  <thead>\n",
       "    <tr style=\"text-align: right;\">\n",
       "      <th>bannertype</th>\n",
       "      <th>cpm_banner</th>\n",
       "      <th>image_ad</th>\n",
       "      <th>text</th>\n",
       "    </tr>\n",
       "  </thead>\n",
       "  <tbody>\n",
       "    <tr>\n",
       "      <th>cac</th>\n",
       "      <td>NaN</td>\n",
       "      <td>NaN</td>\n",
       "      <td>424.00</td>\n",
       "    </tr>\n",
       "    <tr>\n",
       "      <th>cpc</th>\n",
       "      <td>NaN</td>\n",
       "      <td>NaN</td>\n",
       "      <td>46.00</td>\n",
       "    </tr>\n",
       "    <tr>\n",
       "      <th>ctr_%</th>\n",
       "      <td>NaN</td>\n",
       "      <td>NaN</td>\n",
       "      <td>15.19</td>\n",
       "    </tr>\n",
       "  </tbody>\n",
       "</table>\n",
       "</div>"
      ],
      "text/plain": [
       "bannertype  cpm_banner  image_ad    text\n",
       "cac                NaN       NaN  424.00\n",
       "cpc                NaN       NaN   46.00\n",
       "ctr_%              NaN       NaN   15.19"
      ]
     },
     "execution_count": 17,
     "metadata": {},
     "output_type": "execute_result"
    }
   ],
   "source": [
    "omega_bannertype_grouped = groupby(df_omega, 'bannertype')\n",
    "omega_bannertype_grouped.T"
   ]
  },
  {
   "cell_type": "markdown",
   "metadata": {},
   "source": [
    "Есть данные только для типа `text`. Возможно имеет смысл попробовать другие типы баннеров. Ответим на этот вопрос чуть позже.\n",
    "\n",
    "Посмотрим на зависимость от типа таргетинга:"
   ]
  },
  {
   "cell_type": "code",
   "execution_count": 18,
   "metadata": {},
   "outputs": [
    {
     "data": {
      "text/html": [
       "<div>\n",
       "<style scoped>\n",
       "    .dataframe tbody tr th:only-of-type {\n",
       "        vertical-align: middle;\n",
       "    }\n",
       "\n",
       "    .dataframe tbody tr th {\n",
       "        vertical-align: top;\n",
       "    }\n",
       "\n",
       "    .dataframe thead th {\n",
       "        text-align: right;\n",
       "    }\n",
       "</style>\n",
       "<table border=\"1\" class=\"dataframe\">\n",
       "  <thead>\n",
       "    <tr style=\"text-align: right;\">\n",
       "      <th>targetingtype</th>\n",
       "      <th>Autotargeting</th>\n",
       "      <th>Phrase</th>\n",
       "      <th>Retargeting</th>\n",
       "    </tr>\n",
       "  </thead>\n",
       "  <tbody>\n",
       "    <tr>\n",
       "      <th>cac</th>\n",
       "      <td>NaN</td>\n",
       "      <td>424.00</td>\n",
       "      <td>0.0</td>\n",
       "    </tr>\n",
       "    <tr>\n",
       "      <th>cpc</th>\n",
       "      <td>NaN</td>\n",
       "      <td>46.00</td>\n",
       "      <td>NaN</td>\n",
       "    </tr>\n",
       "    <tr>\n",
       "      <th>ctr_%</th>\n",
       "      <td>NaN</td>\n",
       "      <td>15.19</td>\n",
       "      <td>NaN</td>\n",
       "    </tr>\n",
       "  </tbody>\n",
       "</table>\n",
       "</div>"
      ],
      "text/plain": [
       "targetingtype  Autotargeting  Phrase  Retargeting\n",
       "cac                      NaN  424.00          0.0\n",
       "cpc                      NaN   46.00          NaN\n",
       "ctr_%                    NaN   15.19          NaN"
      ]
     },
     "execution_count": 18,
     "metadata": {},
     "output_type": "execute_result"
    }
   ],
   "source": [
    "omega_targeting_grouped = groupby(df_omega, 'targetingtype')\n",
    "omega_targeting_grouped.T"
   ]
  },
  {
   "cell_type": "markdown",
   "metadata": {},
   "source": [
    "Есть данные только для типа `Phrase`. Возможно имеет смысл попробовать другие типы таргетингов.\n",
    "\n",
    "Чтобы оценить, насколько эффективны другие типы таргетингов, а также типы баннеров и площадок, посмотрим на конкурентов. Составим таблицу с данными только для конкурентов:"
   ]
  },
  {
   "cell_type": "code",
   "execution_count": 19,
   "metadata": {},
   "outputs": [
    {
     "data": {
      "text/plain": [
       "1075"
      ]
     },
     "execution_count": 19,
     "metadata": {},
     "output_type": "execute_result"
    }
   ],
   "source": [
    "df_other = df_filtered_2.query('client != \"Омега\"')\n",
    "len(df_other)"
   ]
  },
  {
   "cell_type": "markdown",
   "metadata": {},
   "source": [
    "1075 строк. Посмотрим на зависимость от площадки:"
   ]
  },
  {
   "cell_type": "code",
   "execution_count": 20,
   "metadata": {},
   "outputs": [
    {
     "data": {
      "text/html": [
       "<div>\n",
       "<style scoped>\n",
       "    .dataframe tbody tr th:only-of-type {\n",
       "        vertical-align: middle;\n",
       "    }\n",
       "\n",
       "    .dataframe tbody tr th {\n",
       "        vertical-align: top;\n",
       "    }\n",
       "\n",
       "    .dataframe thead th {\n",
       "        text-align: right;\n",
       "    }\n",
       "</style>\n",
       "<table border=\"1\" class=\"dataframe\">\n",
       "  <thead>\n",
       "    <tr style=\"text-align: right;\">\n",
       "      <th>place</th>\n",
       "      <th>Networks</th>\n",
       "      <th>Search</th>\n",
       "    </tr>\n",
       "  </thead>\n",
       "  <tbody>\n",
       "    <tr>\n",
       "      <th>cac</th>\n",
       "      <td>542.00</td>\n",
       "      <td>368.00</td>\n",
       "    </tr>\n",
       "    <tr>\n",
       "      <th>cpc</th>\n",
       "      <td>13.00</td>\n",
       "      <td>39.00</td>\n",
       "    </tr>\n",
       "    <tr>\n",
       "      <th>ctr_%</th>\n",
       "      <td>0.34</td>\n",
       "      <td>16.35</td>\n",
       "    </tr>\n",
       "  </tbody>\n",
       "</table>\n",
       "</div>"
      ],
      "text/plain": [
       "place  Networks  Search\n",
       "cac      542.00  368.00\n",
       "cpc       13.00   39.00\n",
       "ctr_%      0.34   16.35"
      ]
     },
     "execution_count": 20,
     "metadata": {},
     "output_type": "execute_result"
    }
   ],
   "source": [
    "other_place_grouped = groupby(df_other, 'place')\n",
    "other_place_grouped.T"
   ]
  },
  {
   "cell_type": "markdown",
   "metadata": {},
   "source": [
    "Площадка `Search` показывает себя в среднем лучше. 'Омега' правильно её выбрала.\n",
    "\n",
    "Посмотрим на зависимость от типа баннера:"
   ]
  },
  {
   "cell_type": "code",
   "execution_count": 21,
   "metadata": {},
   "outputs": [
    {
     "data": {
      "text/html": [
       "<div>\n",
       "<style scoped>\n",
       "    .dataframe tbody tr th:only-of-type {\n",
       "        vertical-align: middle;\n",
       "    }\n",
       "\n",
       "    .dataframe tbody tr th {\n",
       "        vertical-align: top;\n",
       "    }\n",
       "\n",
       "    .dataframe thead th {\n",
       "        text-align: right;\n",
       "    }\n",
       "</style>\n",
       "<table border=\"1\" class=\"dataframe\">\n",
       "  <thead>\n",
       "    <tr style=\"text-align: right;\">\n",
       "      <th>bannertype</th>\n",
       "      <th>cpc_video</th>\n",
       "      <th>cpm_banner</th>\n",
       "      <th>image_ad</th>\n",
       "      <th>mcbanner</th>\n",
       "      <th>performance</th>\n",
       "      <th>text</th>\n",
       "    </tr>\n",
       "  </thead>\n",
       "  <tbody>\n",
       "    <tr>\n",
       "      <th>cac</th>\n",
       "      <td>33874.0</td>\n",
       "      <td>1140.00</td>\n",
       "      <td>1277.00</td>\n",
       "      <td>726.00</td>\n",
       "      <td>NaN</td>\n",
       "      <td>389.00</td>\n",
       "    </tr>\n",
       "    <tr>\n",
       "      <th>cpc</th>\n",
       "      <td>9.0</td>\n",
       "      <td>10.00</td>\n",
       "      <td>9.00</td>\n",
       "      <td>154.00</td>\n",
       "      <td>NaN</td>\n",
       "      <td>29.00</td>\n",
       "    </tr>\n",
       "    <tr>\n",
       "      <th>ctr_%</th>\n",
       "      <td>0.5</td>\n",
       "      <td>0.18</td>\n",
       "      <td>0.43</td>\n",
       "      <td>0.92</td>\n",
       "      <td>NaN</td>\n",
       "      <td>0.84</td>\n",
       "    </tr>\n",
       "  </tbody>\n",
       "</table>\n",
       "</div>"
      ],
      "text/plain": [
       "bannertype  cpc_video  cpm_banner  image_ad  mcbanner  performance    text\n",
       "cac           33874.0     1140.00   1277.00    726.00          NaN  389.00\n",
       "cpc               9.0       10.00      9.00    154.00          NaN   29.00\n",
       "ctr_%             0.5        0.18      0.43      0.92          NaN    0.84"
      ]
     },
     "execution_count": 21,
     "metadata": {},
     "output_type": "execute_result"
    }
   ],
   "source": [
    "other_bannertype_grouped = groupby(df_other, 'bannertype')\n",
    "other_bannertype_grouped.T"
   ]
  },
  {
   "cell_type": "markdown",
   "metadata": {},
   "source": [
    "Тип баннера `text` показывает себя в среднем лучше. 'Омега' правильно его выбрала.\n",
    "\n",
    "Посмотрим на зависимость от типа таргетинга:"
   ]
  },
  {
   "cell_type": "code",
   "execution_count": 22,
   "metadata": {},
   "outputs": [
    {
     "data": {
      "text/html": [
       "<div>\n",
       "<style scoped>\n",
       "    .dataframe tbody tr th:only-of-type {\n",
       "        vertical-align: middle;\n",
       "    }\n",
       "\n",
       "    .dataframe tbody tr th {\n",
       "        vertical-align: top;\n",
       "    }\n",
       "\n",
       "    .dataframe thead th {\n",
       "        text-align: right;\n",
       "    }\n",
       "</style>\n",
       "<table border=\"1\" class=\"dataframe\">\n",
       "  <thead>\n",
       "    <tr style=\"text-align: right;\">\n",
       "      <th>targetingtype</th>\n",
       "      <th>Autotargeting</th>\n",
       "      <th>Phrase</th>\n",
       "      <th>Retargeting</th>\n",
       "    </tr>\n",
       "  </thead>\n",
       "  <tbody>\n",
       "    <tr>\n",
       "      <th>cac</th>\n",
       "      <td>282.00</td>\n",
       "      <td>391.00</td>\n",
       "      <td>469.00</td>\n",
       "    </tr>\n",
       "    <tr>\n",
       "      <th>cpc</th>\n",
       "      <td>25.00</td>\n",
       "      <td>29.00</td>\n",
       "      <td>15.00</td>\n",
       "    </tr>\n",
       "    <tr>\n",
       "      <th>ctr_%</th>\n",
       "      <td>4.96</td>\n",
       "      <td>0.84</td>\n",
       "      <td>0.41</td>\n",
       "    </tr>\n",
       "  </tbody>\n",
       "</table>\n",
       "</div>"
      ],
      "text/plain": [
       "targetingtype  Autotargeting  Phrase  Retargeting\n",
       "cac                   282.00  391.00       469.00\n",
       "cpc                    25.00   29.00        15.00\n",
       "ctr_%                   4.96    0.84         0.41"
      ]
     },
     "execution_count": 22,
     "metadata": {},
     "output_type": "execute_result"
    }
   ],
   "source": [
    "other_targeting_grouped = groupby(df_other, 'targetingtype')\n",
    "other_targeting_grouped.T"
   ]
  },
  {
   "cell_type": "markdown",
   "metadata": {},
   "source": [
    "Тип таргетинга `Autotargeting` показывает себя в среднем лучше. А 'Омега' использует только `Phrase`. Имеет смысл попробовать `Autotargeting`."
   ]
  },
  {
   "cell_type": "markdown",
   "metadata": {},
   "source": [
    "## <a name=\"4\"> Выводы </a>"
   ]
  },
  {
   "cell_type": "markdown",
   "metadata": {},
   "source": [
    "По итогам исследования мы выяснили, что: \n",
    "- целевые визиты у 'Омеги' дешевле для устройств типа `Mobile`, нежели для `Desktop` - 326 ден. ед. за целевой визит против 642. Также они дешевле для запросов типа `Brand`, нежели для `Competitor` и `Other` - 326 против 831 и 564;\n",
    "- 'Омега' правильно выбрала площадку `Search` и тип баннера `text` - они показывает себя в среднем лучше альтернатив;\n",
    "- имеет смысл перейти с типа таргетинга `Phrase` на `Autotargeting`. В среднем последний показывает себя более эффективным у конкурентов - 282 против 391."
   ]
  },
  {
   "cell_type": "code",
   "execution_count": null,
   "metadata": {},
   "outputs": [],
   "source": []
  }
 ],
 "metadata": {
  "kernelspec": {
   "display_name": "Python 3",
   "language": "python",
   "name": "python3"
  },
  "language_info": {
   "codemirror_mode": {
    "name": "ipython",
    "version": 3
   },
   "file_extension": ".py",
   "mimetype": "text/x-python",
   "name": "python",
   "nbconvert_exporter": "python",
   "pygments_lexer": "ipython3",
   "version": "3.9.1"
  }
 },
 "nbformat": 4,
 "nbformat_minor": 4
}
