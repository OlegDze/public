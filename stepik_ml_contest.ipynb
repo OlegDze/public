{
 "cells": [
  {
   "cell_type": "markdown",
   "metadata": {},
   "source": [
    "# Предсказание успешности прохождения пользователями он-лайн курса на stepik "
   ]
  },
  {
   "cell_type": "markdown",
   "metadata": {},
   "source": [
    "## Описание проекта"
   ]
  },
  {
   "cell_type": "markdown",
   "metadata": {},
   "source": [
    "Необходимо построить модель, которая бы предсказывала по активности нового пользователя в первые 2 дня обучения на онлайн курсе [\"Введение в анализ данных в R\"](https://stepik.org/course/129/promo), пройдёт ли он этот курс в итоге или нет. Считается, что пользователь прошёл курс, если успешно решил 40 и более практических задач.\n",
    "\n",
    "В качестве данных нам предоставлены логи пользователей за 3 года - с 15 июня 2015 по 19 апреля 2018 года. Проверяться модель будет на данных об активности в первые 2 дня обучения пользователей, пришедших на курс в период с мая 2018 по январь 2019. Качество прогноза модели оценивается по значению ROC AUC.\n",
    "\n",
    "Задача взята из курса [\"Введение в Data Science и машинное обучение\"](https://stepik.org/course/4852/). Там же есь таблица лучших результатов студентов, принявших участие в решении задачи."
   ]
  },
  {
   "cell_type": "markdown",
   "metadata": {},
   "source": [
    "## <a name=\"0\"> Структура проекта </a>"
   ]
  },
  {
   "cell_type": "markdown",
   "metadata": {},
   "source": [
    "- [Загрузка данных и ознакомление с ними](#1)\n",
    "  - [Таблица events_train](#1.1)\n",
    "  - [Таблица submissions_train](#1.2)\n",
    "- [Подготовка данных для обучения модели](#2)\n",
    "- [Генерация новых признаков](#3)\n",
    "- [Обучение модели](#4)\n",
    "- [Тестирование модели](#5)\n",
    "- [Выводы](#6)"
   ]
  },
  {
   "cell_type": "markdown",
   "metadata": {},
   "source": [
    "## <a name=\"1\"> Загрузка данных и ознакомление с ними </a>"
   ]
  },
  {
   "cell_type": "markdown",
   "metadata": {},
   "source": [
    "Загрузим библиотеки для работы с таблицами, временными данными, визуализации и машинного обучения:"
   ]
  },
  {
   "cell_type": "code",
   "execution_count": 1,
   "metadata": {},
   "outputs": [],
   "source": [
    "import pandas as pd\n",
    "import matplotlib.pyplot as plt \n",
    "import datetime as dt\n",
    "from sklearn.linear_model import LogisticRegression\n",
    "from sklearn.svm import SVC\n",
    "from sklearn.naive_bayes import GaussianNB\n",
    "from sklearn.discriminant_analysis import LinearDiscriminantAnalysis\n",
    "from sklearn.tree import DecisionTreeClassifier\n",
    "from sklearn.ensemble import RandomForestClassifier\n",
    "from sklearn.ensemble import GradientBoostingClassifier\n",
    "from sklearn.model_selection import GridSearchCV\n",
    "from sklearn.model_selection import cross_val_score\n",
    "import warnings\n",
    "warnings.simplefilter('ignore')"
   ]
  },
  {
   "cell_type": "markdown",
   "metadata": {},
   "source": [
    "### <a name=\"1.1\"> Таблица events_train </a>"
   ]
  },
  {
   "cell_type": "markdown",
   "metadata": {},
   "source": [
    "Загрузим таблицу и посмотрим на неё:"
   ]
  },
  {
   "cell_type": "code",
   "execution_count": 2,
   "metadata": {},
   "outputs": [],
   "source": [
    "events_train = pd.read_csv('/Users/polzovatel/Desktop/Projects/Stepik_ml_contest/event_data_train.csv')"
   ]
  },
  {
   "cell_type": "code",
   "execution_count": 3,
   "metadata": {},
   "outputs": [
    {
     "data": {
      "text/html": [
       "<div>\n",
       "<style scoped>\n",
       "    .dataframe tbody tr th:only-of-type {\n",
       "        vertical-align: middle;\n",
       "    }\n",
       "\n",
       "    .dataframe tbody tr th {\n",
       "        vertical-align: top;\n",
       "    }\n",
       "\n",
       "    .dataframe thead th {\n",
       "        text-align: right;\n",
       "    }\n",
       "</style>\n",
       "<table border=\"1\" class=\"dataframe\">\n",
       "  <thead>\n",
       "    <tr style=\"text-align: right;\">\n",
       "      <th></th>\n",
       "      <th>step_id</th>\n",
       "      <th>timestamp</th>\n",
       "      <th>action</th>\n",
       "      <th>user_id</th>\n",
       "    </tr>\n",
       "  </thead>\n",
       "  <tbody>\n",
       "    <tr>\n",
       "      <th>0</th>\n",
       "      <td>32815</td>\n",
       "      <td>1434340848</td>\n",
       "      <td>viewed</td>\n",
       "      <td>17632</td>\n",
       "    </tr>\n",
       "    <tr>\n",
       "      <th>1</th>\n",
       "      <td>32815</td>\n",
       "      <td>1434340848</td>\n",
       "      <td>passed</td>\n",
       "      <td>17632</td>\n",
       "    </tr>\n",
       "    <tr>\n",
       "      <th>2</th>\n",
       "      <td>32815</td>\n",
       "      <td>1434340848</td>\n",
       "      <td>discovered</td>\n",
       "      <td>17632</td>\n",
       "    </tr>\n",
       "    <tr>\n",
       "      <th>3</th>\n",
       "      <td>32811</td>\n",
       "      <td>1434340895</td>\n",
       "      <td>discovered</td>\n",
       "      <td>17632</td>\n",
       "    </tr>\n",
       "    <tr>\n",
       "      <th>4</th>\n",
       "      <td>32811</td>\n",
       "      <td>1434340895</td>\n",
       "      <td>viewed</td>\n",
       "      <td>17632</td>\n",
       "    </tr>\n",
       "  </tbody>\n",
       "</table>\n",
       "</div>"
      ],
      "text/plain": [
       "   step_id   timestamp      action  user_id\n",
       "0    32815  1434340848      viewed    17632\n",
       "1    32815  1434340848      passed    17632\n",
       "2    32815  1434340848  discovered    17632\n",
       "3    32811  1434340895  discovered    17632\n",
       "4    32811  1434340895      viewed    17632"
      ]
     },
     "execution_count": 3,
     "metadata": {},
     "output_type": "execute_result"
    }
   ],
   "source": [
    "events_train.head()"
   ]
  },
  {
   "cell_type": "markdown",
   "metadata": {},
   "source": [
    "В таблице events_train хранятся данные о действиях, которые совершают студенты со стэпами:\n",
    "- step_id - id стэпа;\n",
    "- user_id - анонимизированный id юзера;\n",
    "- timestamp - время наступления события в формате unix date (то есть количество секунд, прошедшее с 1970-01-01 00:00:00);\n",
    "- action - событие, возможные значения: \n",
    "  - discovered - пользователь впервые перешёл на стэп;\n",
    "  - viewed - просмотр стэпа (может происходить многократно для одного стэпа);\n",
    "  - started_attempt - начало попытки решить шаг (ранее нужно было явно нажать на кнопку - начать решение, перед тем как приступить к решению практического шага);\n",
    "  - passed - удачное решение практического шага или квиза."
   ]
  },
  {
   "cell_type": "code",
   "execution_count": 4,
   "metadata": {},
   "outputs": [
    {
     "data": {
      "text/plain": [
       "(3480703, 19234, 198)"
      ]
     },
     "execution_count": 4,
     "metadata": {},
     "output_type": "execute_result"
    }
   ],
   "source": [
    "len(events_train), events_train['user_id'].nunique(), events_train['step_id'].nunique()"
   ]
  },
  {
   "cell_type": "markdown",
   "metadata": {},
   "source": [
    "В таблице 3 480 703 действия, совершённых 19 234 уникальными пользователями со 198 стэпами."
   ]
  },
  {
   "cell_type": "markdown",
   "metadata": {},
   "source": [
    "Проверим интервал времени, за который нам предоставлены данные. Для этого сначала переведём формат времени из timestamp в datetime:"
   ]
  },
  {
   "cell_type": "code",
   "execution_count": 5,
   "metadata": {},
   "outputs": [
    {
     "data": {
      "text/plain": [
       "(Timestamp('2015-06-15 04:00:48'), Timestamp('2018-05-19 23:33:31'))"
      ]
     },
     "execution_count": 5,
     "metadata": {},
     "output_type": "execute_result"
    }
   ],
   "source": [
    "events_train['datetime'] = pd.to_datetime(events_train['timestamp'], unit='s')\n",
    "events_train['datetime'].min(), events_train['datetime'].max()"
   ]
  },
  {
   "cell_type": "markdown",
   "metadata": {},
   "source": [
    "Действительно, данные собраны примерно за 3 года - с 15 июня 2015 по 19 апреля 2018 года."
   ]
  },
  {
   "cell_type": "markdown",
   "metadata": {},
   "source": [
    "Посчитаем количество встречающихся событий:"
   ]
  },
  {
   "cell_type": "code",
   "execution_count": 6,
   "metadata": {},
   "outputs": [
    {
     "data": {
      "text/plain": [
       "viewed             1830830\n",
       "discovered          689495\n",
       "passed              650331\n",
       "started_attempt     310047\n",
       "Name: action, dtype: int64"
      ]
     },
     "execution_count": 6,
     "metadata": {},
     "output_type": "execute_result"
    }
   ],
   "source": [
    "events_train['action'].value_counts()"
   ]
  },
  {
   "cell_type": "markdown",
   "metadata": {},
   "source": [
    "Чаще всего стэпы просматривают, реже всего - начинают решать практическое задание. "
   ]
  },
  {
   "cell_type": "markdown",
   "metadata": {},
   "source": [
    "Посмотрим, как активность пользователей менялась во времени. В качестве единицы измерения времени возьмём 1 месяц. Если брать меньший интервал, например, день, то график превратится в пилу, которую сложнее визуально воспринимать. \n",
    "\n",
    "Добавим столбец с месяцами, сгруппируем по месяцам и просуммируем активности, затем выведем графики:"
   ]
  },
  {
   "cell_type": "code",
   "execution_count": 7,
   "metadata": {},
   "outputs": [],
   "source": [
    "events_train['month'] = events_train['datetime'].astype('datetime64[M]')\n",
    "events_train_by_date = events_train.pivot_table(index='month', columns='action', values='step_id', aggfunc='count')"
   ]
  },
  {
   "cell_type": "code",
   "execution_count": 8,
   "metadata": {},
   "outputs": [
    {
     "data": {
      "image/png": "[encoded data removed]",
      "text/plain": [
       "<Figure size 1080x288 with 1 Axes>"
      ]
     },
     "metadata": {
      "needs_background": "light"
     },
     "output_type": "display_data"
    }
   ],
   "source": [
    "ax = events_train_by_date.plot(y='discovered', label='discovered', figsize=(15, 4))\n",
    "events_train_by_date.plot(y='passed', label='passed', ax=ax)\n",
    "events_train_by_date.plot(y='started_attempt', label='started_attempt', ax=ax)\n",
    "events_train_by_date.plot(y='viewed', label='viewed', ax=ax)\n",
    "plt.title(\"Динамика суммарного количества событий пользователей курса \\nв период с 15 июня 2015 по 19 апреля 2018 года\") \n",
    "plt.xlabel(\"Дата\")\n",
    "plt.ylabel(\"Количество событий\") \n",
    "plt.show()"
   ]
  },
  {
   "cell_type": "markdown",
   "metadata": {},
   "source": [
    "Большое количество событий происходило в самом начале. Видимо, тогда курс был только запущен и было много желающих его пройти. Затем первая волна схлынула и далее на протяжении почти 3 лет количество событий постепенно росло. Скорее всего это связано с набирающим популярность он-лайн образованием и непосредственно площадкой stepik."
   ]
  },
  {
   "cell_type": "markdown",
   "metadata": {},
   "source": [
    "Была идея построить воронку переходов пользователей от стэпа к стэпу, чтобы посмотреть где они чаще всего \"отваливаются\". Однако id стэпов идут не по порядку. \n",
    "\n",
    "Если расположить стэпы в порядке убывания количества открывших их пользователей, то это не будет отражать их реальную последовательность в курсе: пользователи могут просто не открывать какие-то стэпы, потому что в них нельзя получить баллы, либо могут двигаться путанной дорогой в освоении курса - например, возвращаться к стэпам с важной инфомацией. Если проследить последовательности открытия стэпов у нескольких пользователей, то они не совпадают, что подтверждает предположение, что пользователи движутся по курсу \"своими\" дорогами. Таким образом, такая сортировка не восстановит правильный порядок следования стэпов. "
   ]
  },
  {
   "cell_type": "markdown",
   "metadata": {},
   "source": [
    "[В начало](#0)"
   ]
  },
  {
   "cell_type": "markdown",
   "metadata": {},
   "source": [
    "### <a name=\"1.2\"> Таблица submissions_train </a>"
   ]
  },
  {
   "cell_type": "markdown",
   "metadata": {},
   "source": [
    "Загрузим таблицу и посмотрим на неё:"
   ]
  },
  {
   "cell_type": "code",
   "execution_count": 9,
   "metadata": {},
   "outputs": [],
   "source": [
    "submissions_train = pd.read_csv('/Users/polzovatel/Desktop/Projects/Stepik_ml_contest/submissions_data_train.csv')"
   ]
  },
  {
   "cell_type": "code",
   "execution_count": 10,
   "metadata": {},
   "outputs": [
    {
     "data": {
      "text/html": [
       "<div>\n",
       "<style scoped>\n",
       "    .dataframe tbody tr th:only-of-type {\n",
       "        vertical-align: middle;\n",
       "    }\n",
       "\n",
       "    .dataframe tbody tr th {\n",
       "        vertical-align: top;\n",
       "    }\n",
       "\n",
       "    .dataframe thead th {\n",
       "        text-align: right;\n",
       "    }\n",
       "</style>\n",
       "<table border=\"1\" class=\"dataframe\">\n",
       "  <thead>\n",
       "    <tr style=\"text-align: right;\">\n",
       "      <th></th>\n",
       "      <th>step_id</th>\n",
       "      <th>timestamp</th>\n",
       "      <th>submission_status</th>\n",
       "      <th>user_id</th>\n",
       "    </tr>\n",
       "  </thead>\n",
       "  <tbody>\n",
       "    <tr>\n",
       "      <th>0</th>\n",
       "      <td>31971</td>\n",
       "      <td>1434349275</td>\n",
       "      <td>correct</td>\n",
       "      <td>15853</td>\n",
       "    </tr>\n",
       "    <tr>\n",
       "      <th>1</th>\n",
       "      <td>31972</td>\n",
       "      <td>1434348300</td>\n",
       "      <td>correct</td>\n",
       "      <td>15853</td>\n",
       "    </tr>\n",
       "    <tr>\n",
       "      <th>2</th>\n",
       "      <td>31972</td>\n",
       "      <td>1478852149</td>\n",
       "      <td>wrong</td>\n",
       "      <td>15853</td>\n",
       "    </tr>\n",
       "    <tr>\n",
       "      <th>3</th>\n",
       "      <td>31972</td>\n",
       "      <td>1478852164</td>\n",
       "      <td>correct</td>\n",
       "      <td>15853</td>\n",
       "    </tr>\n",
       "    <tr>\n",
       "      <th>4</th>\n",
       "      <td>31976</td>\n",
       "      <td>1434348123</td>\n",
       "      <td>wrong</td>\n",
       "      <td>15853</td>\n",
       "    </tr>\n",
       "  </tbody>\n",
       "</table>\n",
       "</div>"
      ],
      "text/plain": [
       "   step_id   timestamp submission_status  user_id\n",
       "0    31971  1434349275           correct    15853\n",
       "1    31972  1434348300           correct    15853\n",
       "2    31972  1478852149             wrong    15853\n",
       "3    31972  1478852164           correct    15853\n",
       "4    31976  1434348123             wrong    15853"
      ]
     },
     "execution_count": 10,
     "metadata": {},
     "output_type": "execute_result"
    }
   ],
   "source": [
    "submissions_train.head()"
   ]
  },
  {
   "cell_type": "markdown",
   "metadata": {},
   "source": [
    "В таблице submissions_train хранятся данные о времени и статусах сабмитов к практическим заданиям:\n",
    "- step_id - id стэпа;\n",
    "- timestamp - время отправки решения в формате unix date;\n",
    "- user_id - анонимизированный id юзера;\n",
    "- submission_status - статус решения, возможные значения:\n",
    "  - correct - задание решено верно;\n",
    "  - wrong - задание решено неверно."
   ]
  },
  {
   "cell_type": "code",
   "execution_count": 11,
   "metadata": {},
   "outputs": [
    {
     "data": {
      "text/plain": [
       "(509104, 9940, 76)"
      ]
     },
     "execution_count": 11,
     "metadata": {},
     "output_type": "execute_result"
    }
   ],
   "source": [
    "len(submissions_train), submissions_train['user_id'].nunique(), submissions_train['step_id'].nunique()"
   ]
  },
  {
   "cell_type": "markdown",
   "metadata": {},
   "source": [
    "В таблице 509 104 сабмита, совершённых 9940 уникальными пользователями в 76 стэпах."
   ]
  },
  {
   "cell_type": "markdown",
   "metadata": {},
   "source": [
    "Проверим интервал времени, за который нам предоставлены данные."
   ]
  },
  {
   "cell_type": "code",
   "execution_count": 12,
   "metadata": {},
   "outputs": [
    {
     "data": {
      "text/plain": [
       "(Timestamp('2015-06-15 04:02:24'), Timestamp('2018-05-19 23:07:07'))"
      ]
     },
     "execution_count": 12,
     "metadata": {},
     "output_type": "execute_result"
    }
   ],
   "source": [
    "submissions_train['datetime'] = pd.to_datetime(submissions_train['timestamp'], unit='s')\n",
    "submissions_train['datetime'].min(), submissions_train['datetime'].max()"
   ]
  },
  {
   "cell_type": "markdown",
   "metadata": {},
   "source": [
    "Интервал времени соответствует данным из таблицы submissions_train: данные собраны с 15 июня 2015 по 19 апреля 2018 года."
   ]
  },
  {
   "cell_type": "markdown",
   "metadata": {},
   "source": [
    "Посчитаем количество встречающихся сабмитов:"
   ]
  },
  {
   "cell_type": "code",
   "execution_count": 13,
   "metadata": {},
   "outputs": [
    {
     "data": {
      "text/plain": [
       "wrong      286399\n",
       "correct    222705\n",
       "Name: submission_status, dtype: int64"
      ]
     },
     "execution_count": 13,
     "metadata": {},
     "output_type": "execute_result"
    }
   ],
   "source": [
    "submissions_train['submission_status'].value_counts()"
   ]
  },
  {
   "cell_type": "markdown",
   "metadata": {},
   "source": [
    "Неправильных ответов немного больше. Почти каждая вторая попытка ответа оказывалась верной."
   ]
  },
  {
   "cell_type": "markdown",
   "metadata": {},
   "source": [
    "Посмотрим, как количество сабмитов менялось во времени. Добавим столбец с месяцами, сгруппируем по месяцам и просуммируем сабмиты, затем выведем графики:"
   ]
  },
  {
   "cell_type": "code",
   "execution_count": 14,
   "metadata": {},
   "outputs": [],
   "source": [
    "submissions_train['month'] = submissions_train['datetime'].astype('datetime64[M]')\n",
    "submissions_train_by_date = submissions_train.pivot_table(index='month', columns='submission_status'\n",
    "                                                                      , values='step_id', aggfunc='count')"
   ]
  },
  {
   "cell_type": "code",
   "execution_count": 15,
   "metadata": {},
   "outputs": [
    {
     "data": {
      "image/png": "[encoded data removed]",
      "text/plain": [
       "<Figure size 1080x288 with 1 Axes>"
      ]
     },
     "metadata": {
      "needs_background": "light"
     },
     "output_type": "display_data"
    }
   ],
   "source": [
    "ax = submissions_train_by_date.plot(y='wrong', label='wrong', figsize=(15, 4))\n",
    "submissions_train_by_date.plot(y='correct', label='correct', ax=ax)\n",
    "plt.title(\"Динамика суммарного количества сабмитов пользователей курса \\nв период с 15 июня 2015 по 19 апреля 2018 года\") \n",
    "plt.xlabel(\"Дата\")\n",
    "plt.ylabel(\"Количество сабмитов\") \n",
    "plt.show()"
   ]
  },
  {
   "cell_type": "markdown",
   "metadata": {},
   "source": [
    "В целом график похож на график событий пользователей, что разумно. Можно отметить, что к концу рассматриваемого периода графики правильных и неправильных сабмитов начали расходиться, то есть пользователи стали чаще делать неправильные сабмиты."
   ]
  },
  {
   "cell_type": "markdown",
   "metadata": {},
   "source": [
    "Проверим, что все пользователи, совершавшие сабмиты, есть среди пользователей с событиями. Для этого из множества пользователей из таблицы events_train вычтем множество пользователей из таблицы submissions_train и проверим, что количество оставшихся пользователей равняется  разности количества пользователей в каждой из таблиц. Равенство не будет выполнятся, если в таблице submissions_train будут пользователи, которых нет в events_train:"
   ]
  },
  {
   "cell_type": "code",
   "execution_count": 16,
   "metadata": {},
   "outputs": [
    {
     "data": {
      "text/plain": [
       "True"
      ]
     },
     "execution_count": 16,
     "metadata": {},
     "output_type": "execute_result"
    }
   ],
   "source": [
    "len(set(events_train['user_id']) - set(submissions_train['user_id'])) == \\\n",
    "events_train['user_id'].nunique() - submissions_train['user_id'].nunique()"
   ]
  },
  {
   "cell_type": "markdown",
   "metadata": {},
   "source": [
    "\"Неожиданных\" пользователей в таблице submissions_train нет."
   ]
  },
  {
   "cell_type": "markdown",
   "metadata": {},
   "source": [
    "Сделаем такую же проверку для стэпов:"
   ]
  },
  {
   "cell_type": "code",
   "execution_count": 17,
   "metadata": {},
   "outputs": [
    {
     "data": {
      "text/plain": [
       "True"
      ]
     },
     "execution_count": 17,
     "metadata": {},
     "output_type": "execute_result"
    }
   ],
   "source": [
    "len(set(events_train['step_id']) - set(submissions_train['step_id'])) == \\\n",
    "events_train['step_id'].nunique() - submissions_train['step_id'].nunique()"
   ]
  },
  {
   "cell_type": "markdown",
   "metadata": {},
   "source": [
    "\"Неожиданных\" стэпов в таблице submissions_train также нет."
   ]
  },
  {
   "cell_type": "markdown",
   "metadata": {},
   "source": [
    "[В начало](#0)"
   ]
  },
  {
   "cell_type": "markdown",
   "metadata": {},
   "source": [
    "## <a name=\"2\"> Подготовка данных для обучения модели </a>"
   ]
  },
  {
   "cell_type": "markdown",
   "metadata": {},
   "source": [
    "Чтобы данные подходили для обучения модели, необходимо выполнить следующие шаги:\n",
    "1. выявить всех пользователей, которые прошли курс (набрали 40 и более правильных сабмитов) - так мы сформируем вектор целевой переменной y_train;\n",
    "2. ограничить информацию об активности каждого пользователя только 2 днями, начиная с его первой активности;\n",
    "3. сгруппировать данные по пользователям и рассчитать необходимые признаки для обучения модели - так мы сформируем матрицу признаков X_train."
   ]
  },
  {
   "cell_type": "markdown",
   "metadata": {},
   "source": [
    "Составим список пользователей, которые прошли курс:"
   ]
  },
  {
   "cell_type": "code",
   "execution_count": 18,
   "metadata": {},
   "outputs": [],
   "source": [
    "submissions_train_by_user = submissions_train.pivot_table(index='user_id', columns='submission_status'\n",
    "                              , values='step_id', aggfunc='count').fillna(0)\n",
    "finished_users = submissions_train_by_user.query('correct >= 40')\n",
    "finished_users['finished'] = 1\n",
    "del finished_users['correct']\n",
    "del finished_users['wrong']"
   ]
  },
  {
   "cell_type": "code",
   "execution_count": 19,
   "metadata": {},
   "outputs": [
    {
     "data": {
      "text/html": [
       "<div>\n",
       "<style scoped>\n",
       "    .dataframe tbody tr th:only-of-type {\n",
       "        vertical-align: middle;\n",
       "    }\n",
       "\n",
       "    .dataframe tbody tr th {\n",
       "        vertical-align: top;\n",
       "    }\n",
       "\n",
       "    .dataframe thead th {\n",
       "        text-align: right;\n",
       "    }\n",
       "</style>\n",
       "<table border=\"1\" class=\"dataframe\">\n",
       "  <thead>\n",
       "    <tr style=\"text-align: right;\">\n",
       "      <th>submission_status</th>\n",
       "      <th>finished</th>\n",
       "    </tr>\n",
       "    <tr>\n",
       "      <th>user_id</th>\n",
       "      <th></th>\n",
       "    </tr>\n",
       "  </thead>\n",
       "  <tbody>\n",
       "    <tr>\n",
       "      <th>16</th>\n",
       "      <td>1</td>\n",
       "    </tr>\n",
       "    <tr>\n",
       "      <th>22</th>\n",
       "      <td>1</td>\n",
       "    </tr>\n",
       "    <tr>\n",
       "      <th>30</th>\n",
       "      <td>1</td>\n",
       "    </tr>\n",
       "    <tr>\n",
       "      <th>34</th>\n",
       "      <td>1</td>\n",
       "    </tr>\n",
       "    <tr>\n",
       "      <th>39</th>\n",
       "      <td>1</td>\n",
       "    </tr>\n",
       "  </tbody>\n",
       "</table>\n",
       "</div>"
      ],
      "text/plain": [
       "submission_status  finished\n",
       "user_id                    \n",
       "16                        1\n",
       "22                        1\n",
       "30                        1\n",
       "34                        1\n",
       "39                        1"
      ]
     },
     "execution_count": 19,
     "metadata": {},
     "output_type": "execute_result"
    }
   ],
   "source": [
    "finished_users.head()"
   ]
  },
  {
   "cell_type": "code",
   "execution_count": 20,
   "metadata": {},
   "outputs": [
    {
     "data": {
      "text/plain": [
       "(2013, 0.10465841738587917)"
      ]
     },
     "execution_count": 20,
     "metadata": {},
     "output_type": "execute_result"
    }
   ],
   "source": [
    "len(finished_users), len(finished_users) / events_train['user_id'].nunique()"
   ]
  },
  {
   "cell_type": "markdown",
   "metadata": {},
   "source": [
    "Из 19 234 пользователей 2013 прошли курс. Это примерно 10%, что является типичной конверсией для онлайн курсов."
   ]
  },
  {
   "cell_type": "markdown",
   "metadata": {},
   "source": [
    "Теперь соберём таблицу признаков для каждого пользователя за 2 суток со старта обучения. Сначала для каждого пользователя найдём дату первого события, то есть момент, когда пользователь начал проходить курс, а также момент спустя 2 суток:"
   ]
  },
  {
   "cell_type": "code",
   "execution_count": 21,
   "metadata": {},
   "outputs": [],
   "source": [
    "thresholds = pd.DataFrame(events_train.groupby('user_id')['timestamp'].min())\n",
    "thresholds.columns = ['first_ts']\n",
    "thresholds['threshold'] = thresholds['first_ts'] + 2 * 24 * 60 * 60"
   ]
  },
  {
   "cell_type": "code",
   "execution_count": 22,
   "metadata": {},
   "outputs": [
    {
     "data": {
      "text/html": [
       "<div>\n",
       "<style scoped>\n",
       "    .dataframe tbody tr th:only-of-type {\n",
       "        vertical-align: middle;\n",
       "    }\n",
       "\n",
       "    .dataframe tbody tr th {\n",
       "        vertical-align: top;\n",
       "    }\n",
       "\n",
       "    .dataframe thead th {\n",
       "        text-align: right;\n",
       "    }\n",
       "</style>\n",
       "<table border=\"1\" class=\"dataframe\">\n",
       "  <thead>\n",
       "    <tr style=\"text-align: right;\">\n",
       "      <th></th>\n",
       "      <th>first_ts</th>\n",
       "      <th>threshold</th>\n",
       "    </tr>\n",
       "    <tr>\n",
       "      <th>user_id</th>\n",
       "      <th></th>\n",
       "      <th></th>\n",
       "    </tr>\n",
       "  </thead>\n",
       "  <tbody>\n",
       "    <tr>\n",
       "      <th>1</th>\n",
       "      <td>1472827464</td>\n",
       "      <td>1473000264</td>\n",
       "    </tr>\n",
       "    <tr>\n",
       "      <th>2</th>\n",
       "      <td>1514383364</td>\n",
       "      <td>1514556164</td>\n",
       "    </tr>\n",
       "    <tr>\n",
       "      <th>3</th>\n",
       "      <td>1434358476</td>\n",
       "      <td>1434531276</td>\n",
       "    </tr>\n",
       "    <tr>\n",
       "      <th>5</th>\n",
       "      <td>1466156809</td>\n",
       "      <td>1466329609</td>\n",
       "    </tr>\n",
       "    <tr>\n",
       "      <th>7</th>\n",
       "      <td>1521634660</td>\n",
       "      <td>1521807460</td>\n",
       "    </tr>\n",
       "  </tbody>\n",
       "</table>\n",
       "</div>"
      ],
      "text/plain": [
       "           first_ts   threshold\n",
       "user_id                        \n",
       "1        1472827464  1473000264\n",
       "2        1514383364  1514556164\n",
       "3        1434358476  1434531276\n",
       "5        1466156809  1466329609\n",
       "7        1521634660  1521807460"
      ]
     },
     "execution_count": 22,
     "metadata": {},
     "output_type": "execute_result"
    }
   ],
   "source": [
    "thresholds.head()"
   ]
  },
  {
   "cell_type": "markdown",
   "metadata": {},
   "source": [
    "Объединим таблицы events_train и thresholds по id пользователя. Затем отберём все события, которые случились до истечения 2 суток с начала прохождения курса:"
   ]
  },
  {
   "cell_type": "code",
   "execution_count": 23,
   "metadata": {},
   "outputs": [],
   "source": [
    "new_events_train = events_train.merge(thresholds, on='user_id', how='left')\n",
    "new_events_train['below_threshold'] = new_events_train['threshold'] - new_events_train['timestamp'] > 0\n",
    "new_events_train = new_events_train.query('below_threshold')"
   ]
  },
  {
   "cell_type": "code",
   "execution_count": 24,
   "metadata": {},
   "outputs": [
    {
     "data": {
      "text/html": [
       "<div>\n",
       "<style scoped>\n",
       "    .dataframe tbody tr th:only-of-type {\n",
       "        vertical-align: middle;\n",
       "    }\n",
       "\n",
       "    .dataframe tbody tr th {\n",
       "        vertical-align: top;\n",
       "    }\n",
       "\n",
       "    .dataframe thead th {\n",
       "        text-align: right;\n",
       "    }\n",
       "</style>\n",
       "<table border=\"1\" class=\"dataframe\">\n",
       "  <thead>\n",
       "    <tr style=\"text-align: right;\">\n",
       "      <th></th>\n",
       "      <th>step_id</th>\n",
       "      <th>timestamp</th>\n",
       "      <th>action</th>\n",
       "      <th>user_id</th>\n",
       "      <th>datetime</th>\n",
       "      <th>month</th>\n",
       "      <th>first_ts</th>\n",
       "      <th>threshold</th>\n",
       "      <th>below_threshold</th>\n",
       "    </tr>\n",
       "  </thead>\n",
       "  <tbody>\n",
       "    <tr>\n",
       "      <th>0</th>\n",
       "      <td>32815</td>\n",
       "      <td>1434340848</td>\n",
       "      <td>viewed</td>\n",
       "      <td>17632</td>\n",
       "      <td>2015-06-15 04:00:48</td>\n",
       "      <td>2015-06-01</td>\n",
       "      <td>1434340848</td>\n",
       "      <td>1434513648</td>\n",
       "      <td>True</td>\n",
       "    </tr>\n",
       "    <tr>\n",
       "      <th>1</th>\n",
       "      <td>32815</td>\n",
       "      <td>1434340848</td>\n",
       "      <td>passed</td>\n",
       "      <td>17632</td>\n",
       "      <td>2015-06-15 04:00:48</td>\n",
       "      <td>2015-06-01</td>\n",
       "      <td>1434340848</td>\n",
       "      <td>1434513648</td>\n",
       "      <td>True</td>\n",
       "    </tr>\n",
       "    <tr>\n",
       "      <th>2</th>\n",
       "      <td>32815</td>\n",
       "      <td>1434340848</td>\n",
       "      <td>discovered</td>\n",
       "      <td>17632</td>\n",
       "      <td>2015-06-15 04:00:48</td>\n",
       "      <td>2015-06-01</td>\n",
       "      <td>1434340848</td>\n",
       "      <td>1434513648</td>\n",
       "      <td>True</td>\n",
       "    </tr>\n",
       "    <tr>\n",
       "      <th>3</th>\n",
       "      <td>32811</td>\n",
       "      <td>1434340895</td>\n",
       "      <td>discovered</td>\n",
       "      <td>17632</td>\n",
       "      <td>2015-06-15 04:01:35</td>\n",
       "      <td>2015-06-01</td>\n",
       "      <td>1434340848</td>\n",
       "      <td>1434513648</td>\n",
       "      <td>True</td>\n",
       "    </tr>\n",
       "    <tr>\n",
       "      <th>4</th>\n",
       "      <td>32811</td>\n",
       "      <td>1434340895</td>\n",
       "      <td>viewed</td>\n",
       "      <td>17632</td>\n",
       "      <td>2015-06-15 04:01:35</td>\n",
       "      <td>2015-06-01</td>\n",
       "      <td>1434340848</td>\n",
       "      <td>1434513648</td>\n",
       "      <td>True</td>\n",
       "    </tr>\n",
       "  </tbody>\n",
       "</table>\n",
       "</div>"
      ],
      "text/plain": [
       "   step_id   timestamp      action  user_id            datetime      month  \\\n",
       "0    32815  1434340848      viewed    17632 2015-06-15 04:00:48 2015-06-01   \n",
       "1    32815  1434340848      passed    17632 2015-06-15 04:00:48 2015-06-01   \n",
       "2    32815  1434340848  discovered    17632 2015-06-15 04:00:48 2015-06-01   \n",
       "3    32811  1434340895  discovered    17632 2015-06-15 04:01:35 2015-06-01   \n",
       "4    32811  1434340895      viewed    17632 2015-06-15 04:01:35 2015-06-01   \n",
       "\n",
       "     first_ts   threshold  below_threshold  \n",
       "0  1434340848  1434513648             True  \n",
       "1  1434340848  1434513648             True  \n",
       "2  1434340848  1434513648             True  \n",
       "3  1434340848  1434513648             True  \n",
       "4  1434340848  1434513648             True  "
      ]
     },
     "execution_count": 24,
     "metadata": {},
     "output_type": "execute_result"
    }
   ],
   "source": [
    "new_events_train.head()"
   ]
  },
  {
   "cell_type": "markdown",
   "metadata": {},
   "source": [
    "Для каждого пользователя посчитаем количество событий в первые 2 дня:"
   ]
  },
  {
   "cell_type": "code",
   "execution_count": 25,
   "metadata": {},
   "outputs": [],
   "source": [
    "events_by_user = new_events_train.pivot_table(index='user_id', columns='action', values='step_id', aggfunc='count')\\\n",
    ".fillna(0)"
   ]
  },
  {
   "cell_type": "code",
   "execution_count": 26,
   "metadata": {},
   "outputs": [
    {
     "data": {
      "text/html": [
       "<div>\n",
       "<style scoped>\n",
       "    .dataframe tbody tr th:only-of-type {\n",
       "        vertical-align: middle;\n",
       "    }\n",
       "\n",
       "    .dataframe tbody tr th {\n",
       "        vertical-align: top;\n",
       "    }\n",
       "\n",
       "    .dataframe thead th {\n",
       "        text-align: right;\n",
       "    }\n",
       "</style>\n",
       "<table border=\"1\" class=\"dataframe\">\n",
       "  <thead>\n",
       "    <tr style=\"text-align: right;\">\n",
       "      <th>action</th>\n",
       "      <th>discovered</th>\n",
       "      <th>passed</th>\n",
       "      <th>started_attempt</th>\n",
       "      <th>viewed</th>\n",
       "    </tr>\n",
       "    <tr>\n",
       "      <th>user_id</th>\n",
       "      <th></th>\n",
       "      <th></th>\n",
       "      <th></th>\n",
       "      <th></th>\n",
       "    </tr>\n",
       "  </thead>\n",
       "  <tbody>\n",
       "    <tr>\n",
       "      <th>1</th>\n",
       "      <td>1.0</td>\n",
       "      <td>0.0</td>\n",
       "      <td>0.0</td>\n",
       "      <td>1.0</td>\n",
       "    </tr>\n",
       "    <tr>\n",
       "      <th>2</th>\n",
       "      <td>9.0</td>\n",
       "      <td>9.0</td>\n",
       "      <td>2.0</td>\n",
       "      <td>9.0</td>\n",
       "    </tr>\n",
       "    <tr>\n",
       "      <th>3</th>\n",
       "      <td>15.0</td>\n",
       "      <td>15.0</td>\n",
       "      <td>4.0</td>\n",
       "      <td>20.0</td>\n",
       "    </tr>\n",
       "    <tr>\n",
       "      <th>5</th>\n",
       "      <td>1.0</td>\n",
       "      <td>1.0</td>\n",
       "      <td>0.0</td>\n",
       "      <td>1.0</td>\n",
       "    </tr>\n",
       "    <tr>\n",
       "      <th>7</th>\n",
       "      <td>1.0</td>\n",
       "      <td>1.0</td>\n",
       "      <td>0.0</td>\n",
       "      <td>1.0</td>\n",
       "    </tr>\n",
       "  </tbody>\n",
       "</table>\n",
       "</div>"
      ],
      "text/plain": [
       "action   discovered  passed  started_attempt  viewed\n",
       "user_id                                             \n",
       "1               1.0     0.0              0.0     1.0\n",
       "2               9.0     9.0              2.0     9.0\n",
       "3              15.0    15.0              4.0    20.0\n",
       "5               1.0     1.0              0.0     1.0\n",
       "7               1.0     1.0              0.0     1.0"
      ]
     },
     "execution_count": 26,
     "metadata": {},
     "output_type": "execute_result"
    }
   ],
   "source": [
    "events_by_user.head()"
   ]
  },
  {
   "cell_type": "markdown",
   "metadata": {},
   "source": [
    "Объединим таблицы submissions_train и thresholds по id пользователя. Затем отберём все сабмиты, которые случились до истечения 2 суток с начала прохождения курса:"
   ]
  },
  {
   "cell_type": "code",
   "execution_count": 27,
   "metadata": {},
   "outputs": [],
   "source": [
    "new_submissions_train = submissions_train.merge(thresholds, on='user_id', how='left')\n",
    "new_submissions_train['below_threshold'] = new_submissions_train['threshold'] \\\n",
    "- new_submissions_train['timestamp'] > 0\n",
    "new_submissions_train = new_submissions_train.query('below_threshold')"
   ]
  },
  {
   "cell_type": "code",
   "execution_count": 28,
   "metadata": {},
   "outputs": [
    {
     "data": {
      "text/html": [
       "<div>\n",
       "<style scoped>\n",
       "    .dataframe tbody tr th:only-of-type {\n",
       "        vertical-align: middle;\n",
       "    }\n",
       "\n",
       "    .dataframe tbody tr th {\n",
       "        vertical-align: top;\n",
       "    }\n",
       "\n",
       "    .dataframe thead th {\n",
       "        text-align: right;\n",
       "    }\n",
       "</style>\n",
       "<table border=\"1\" class=\"dataframe\">\n",
       "  <thead>\n",
       "    <tr style=\"text-align: right;\">\n",
       "      <th></th>\n",
       "      <th>step_id</th>\n",
       "      <th>timestamp</th>\n",
       "      <th>submission_status</th>\n",
       "      <th>user_id</th>\n",
       "      <th>datetime</th>\n",
       "      <th>month</th>\n",
       "      <th>first_ts</th>\n",
       "      <th>threshold</th>\n",
       "      <th>below_threshold</th>\n",
       "    </tr>\n",
       "  </thead>\n",
       "  <tbody>\n",
       "    <tr>\n",
       "      <th>0</th>\n",
       "      <td>31971</td>\n",
       "      <td>1434349275</td>\n",
       "      <td>correct</td>\n",
       "      <td>15853</td>\n",
       "      <td>2015-06-15 06:21:15</td>\n",
       "      <td>2015-06-01</td>\n",
       "      <td>1434345977</td>\n",
       "      <td>1434518777</td>\n",
       "      <td>True</td>\n",
       "    </tr>\n",
       "    <tr>\n",
       "      <th>1</th>\n",
       "      <td>31972</td>\n",
       "      <td>1434348300</td>\n",
       "      <td>correct</td>\n",
       "      <td>15853</td>\n",
       "      <td>2015-06-15 06:05:00</td>\n",
       "      <td>2015-06-01</td>\n",
       "      <td>1434345977</td>\n",
       "      <td>1434518777</td>\n",
       "      <td>True</td>\n",
       "    </tr>\n",
       "    <tr>\n",
       "      <th>4</th>\n",
       "      <td>31976</td>\n",
       "      <td>1434348123</td>\n",
       "      <td>wrong</td>\n",
       "      <td>15853</td>\n",
       "      <td>2015-06-15 06:02:03</td>\n",
       "      <td>2015-06-01</td>\n",
       "      <td>1434345977</td>\n",
       "      <td>1434518777</td>\n",
       "      <td>True</td>\n",
       "    </tr>\n",
       "    <tr>\n",
       "      <th>5</th>\n",
       "      <td>31976</td>\n",
       "      <td>1434348188</td>\n",
       "      <td>correct</td>\n",
       "      <td>15853</td>\n",
       "      <td>2015-06-15 06:03:08</td>\n",
       "      <td>2015-06-01</td>\n",
       "      <td>1434345977</td>\n",
       "      <td>1434518777</td>\n",
       "      <td>True</td>\n",
       "    </tr>\n",
       "    <tr>\n",
       "      <th>7</th>\n",
       "      <td>31977</td>\n",
       "      <td>1434347371</td>\n",
       "      <td>correct</td>\n",
       "      <td>15853</td>\n",
       "      <td>2015-06-15 05:49:31</td>\n",
       "      <td>2015-06-01</td>\n",
       "      <td>1434345977</td>\n",
       "      <td>1434518777</td>\n",
       "      <td>True</td>\n",
       "    </tr>\n",
       "  </tbody>\n",
       "</table>\n",
       "</div>"
      ],
      "text/plain": [
       "   step_id   timestamp submission_status  user_id            datetime  \\\n",
       "0    31971  1434349275           correct    15853 2015-06-15 06:21:15   \n",
       "1    31972  1434348300           correct    15853 2015-06-15 06:05:00   \n",
       "4    31976  1434348123             wrong    15853 2015-06-15 06:02:03   \n",
       "5    31976  1434348188           correct    15853 2015-06-15 06:03:08   \n",
       "7    31977  1434347371           correct    15853 2015-06-15 05:49:31   \n",
       "\n",
       "       month    first_ts   threshold  below_threshold  \n",
       "0 2015-06-01  1434345977  1434518777             True  \n",
       "1 2015-06-01  1434345977  1434518777             True  \n",
       "4 2015-06-01  1434345977  1434518777             True  \n",
       "5 2015-06-01  1434345977  1434518777             True  \n",
       "7 2015-06-01  1434345977  1434518777             True  "
      ]
     },
     "execution_count": 28,
     "metadata": {},
     "output_type": "execute_result"
    }
   ],
   "source": [
    "new_submissions_train.head()"
   ]
  },
  {
   "cell_type": "markdown",
   "metadata": {},
   "source": [
    "Для каждого пользователя посчитаем количество сабмитов в первые 2 дня:"
   ]
  },
  {
   "cell_type": "code",
   "execution_count": 29,
   "metadata": {},
   "outputs": [
    {
     "data": {
      "text/html": [
       "<div>\n",
       "<style scoped>\n",
       "    .dataframe tbody tr th:only-of-type {\n",
       "        vertical-align: middle;\n",
       "    }\n",
       "\n",
       "    .dataframe tbody tr th {\n",
       "        vertical-align: top;\n",
       "    }\n",
       "\n",
       "    .dataframe thead th {\n",
       "        text-align: right;\n",
       "    }\n",
       "</style>\n",
       "<table border=\"1\" class=\"dataframe\">\n",
       "  <thead>\n",
       "    <tr style=\"text-align: right;\">\n",
       "      <th>submission_status</th>\n",
       "      <th>correct</th>\n",
       "      <th>wrong</th>\n",
       "    </tr>\n",
       "    <tr>\n",
       "      <th>user_id</th>\n",
       "      <th></th>\n",
       "      <th></th>\n",
       "    </tr>\n",
       "  </thead>\n",
       "  <tbody>\n",
       "    <tr>\n",
       "      <th>2</th>\n",
       "      <td>2.0</td>\n",
       "      <td>0.0</td>\n",
       "    </tr>\n",
       "    <tr>\n",
       "      <th>3</th>\n",
       "      <td>4.0</td>\n",
       "      <td>4.0</td>\n",
       "    </tr>\n",
       "    <tr>\n",
       "      <th>8</th>\n",
       "      <td>9.0</td>\n",
       "      <td>21.0</td>\n",
       "    </tr>\n",
       "    <tr>\n",
       "      <th>14</th>\n",
       "      <td>0.0</td>\n",
       "      <td>1.0</td>\n",
       "    </tr>\n",
       "    <tr>\n",
       "      <th>16</th>\n",
       "      <td>18.0</td>\n",
       "      <td>23.0</td>\n",
       "    </tr>\n",
       "  </tbody>\n",
       "</table>\n",
       "</div>"
      ],
      "text/plain": [
       "submission_status  correct  wrong\n",
       "user_id                          \n",
       "2                      2.0    0.0\n",
       "3                      4.0    4.0\n",
       "8                      9.0   21.0\n",
       "14                     0.0    1.0\n",
       "16                    18.0   23.0"
      ]
     },
     "execution_count": 29,
     "metadata": {},
     "output_type": "execute_result"
    }
   ],
   "source": [
    "submissions_by_user = new_submissions_train.pivot_table(index='user_id', columns='submission_status'\n",
    "                                                        , values='step_id', aggfunc='count').fillna(0)\n",
    "submissions_by_user.head()"
   ]
  },
  {
   "cell_type": "code",
   "execution_count": 30,
   "metadata": {},
   "outputs": [
    {
     "data": {
      "text/plain": [
       "8815"
      ]
     },
     "execution_count": 30,
     "metadata": {},
     "output_type": "execute_result"
    }
   ],
   "source": [
    "len(submissions_by_user)"
   ]
  },
  {
   "cell_type": "markdown",
   "metadata": {},
   "source": [
    "Из 19 234 пользователей только 8815 делали сабмиты."
   ]
  },
  {
   "cell_type": "markdown",
   "metadata": {},
   "source": [
    "Объединим таблицы events_by_user, submissions_by_user и finished по пользователям:"
   ]
  },
  {
   "cell_type": "code",
   "execution_count": 31,
   "metadata": {},
   "outputs": [
    {
     "data": {
      "text/html": [
       "<div>\n",
       "<style scoped>\n",
       "    .dataframe tbody tr th:only-of-type {\n",
       "        vertical-align: middle;\n",
       "    }\n",
       "\n",
       "    .dataframe tbody tr th {\n",
       "        vertical-align: top;\n",
       "    }\n",
       "\n",
       "    .dataframe thead th {\n",
       "        text-align: right;\n",
       "    }\n",
       "</style>\n",
       "<table border=\"1\" class=\"dataframe\">\n",
       "  <thead>\n",
       "    <tr style=\"text-align: right;\">\n",
       "      <th></th>\n",
       "      <th>discovered</th>\n",
       "      <th>passed</th>\n",
       "      <th>started_attempt</th>\n",
       "      <th>viewed</th>\n",
       "      <th>correct</th>\n",
       "      <th>wrong</th>\n",
       "      <th>finished</th>\n",
       "    </tr>\n",
       "    <tr>\n",
       "      <th>user_id</th>\n",
       "      <th></th>\n",
       "      <th></th>\n",
       "      <th></th>\n",
       "      <th></th>\n",
       "      <th></th>\n",
       "      <th></th>\n",
       "      <th></th>\n",
       "    </tr>\n",
       "  </thead>\n",
       "  <tbody>\n",
       "    <tr>\n",
       "      <th>1</th>\n",
       "      <td>1.0</td>\n",
       "      <td>0.0</td>\n",
       "      <td>0.0</td>\n",
       "      <td>1.0</td>\n",
       "      <td>0.0</td>\n",
       "      <td>0.0</td>\n",
       "      <td>0.0</td>\n",
       "    </tr>\n",
       "    <tr>\n",
       "      <th>2</th>\n",
       "      <td>9.0</td>\n",
       "      <td>9.0</td>\n",
       "      <td>2.0</td>\n",
       "      <td>9.0</td>\n",
       "      <td>2.0</td>\n",
       "      <td>0.0</td>\n",
       "      <td>0.0</td>\n",
       "    </tr>\n",
       "    <tr>\n",
       "      <th>3</th>\n",
       "      <td>15.0</td>\n",
       "      <td>15.0</td>\n",
       "      <td>4.0</td>\n",
       "      <td>20.0</td>\n",
       "      <td>4.0</td>\n",
       "      <td>4.0</td>\n",
       "      <td>0.0</td>\n",
       "    </tr>\n",
       "    <tr>\n",
       "      <th>5</th>\n",
       "      <td>1.0</td>\n",
       "      <td>1.0</td>\n",
       "      <td>0.0</td>\n",
       "      <td>1.0</td>\n",
       "      <td>0.0</td>\n",
       "      <td>0.0</td>\n",
       "      <td>0.0</td>\n",
       "    </tr>\n",
       "    <tr>\n",
       "      <th>7</th>\n",
       "      <td>1.0</td>\n",
       "      <td>1.0</td>\n",
       "      <td>0.0</td>\n",
       "      <td>1.0</td>\n",
       "      <td>0.0</td>\n",
       "      <td>0.0</td>\n",
       "      <td>0.0</td>\n",
       "    </tr>\n",
       "  </tbody>\n",
       "</table>\n",
       "</div>"
      ],
      "text/plain": [
       "         discovered  passed  started_attempt  viewed  correct  wrong  finished\n",
       "user_id                                                                       \n",
       "1               1.0     0.0              0.0     1.0      0.0    0.0       0.0\n",
       "2               9.0     9.0              2.0     9.0      2.0    0.0       0.0\n",
       "3              15.0    15.0              4.0    20.0      4.0    4.0       0.0\n",
       "5               1.0     1.0              0.0     1.0      0.0    0.0       0.0\n",
       "7               1.0     1.0              0.0     1.0      0.0    0.0       0.0"
      ]
     },
     "execution_count": 31,
     "metadata": {},
     "output_type": "execute_result"
    }
   ],
   "source": [
    "train = events_by_user.merge(submissions_by_user, on='user_id', how='outer')\\\n",
    ".merge(finished_users, on='user_id', how='outer').fillna(0)\n",
    "train.head()"
   ]
  },
  {
   "cell_type": "markdown",
   "metadata": {},
   "source": [
    "Теперь для каждого пользователя у нас есть следующая информация:\n",
    "- количество событий каждого типа в первые 2 дня;\n",
    "- количество сабмитов каждого типа в первые 2 дня;\n",
    "- информация о том, прошёл он курс или нет."
   ]
  },
  {
   "cell_type": "markdown",
   "metadata": {},
   "source": [
    "Сделаем проверку, что в процессе преобразования таблиц мы не потеряли информацию:"
   ]
  },
  {
   "cell_type": "code",
   "execution_count": 32,
   "metadata": {},
   "outputs": [
    {
     "data": {
      "text/plain": [
       "(19234, 8815, 2013)"
      ]
     },
     "execution_count": 32,
     "metadata": {},
     "output_type": "execute_result"
    }
   ],
   "source": [
    "len(train), len(train.query('correct > 0 or wrong > 0')), len(train.query('finished == 1'))"
   ]
  },
  {
   "cell_type": "markdown",
   "metadata": {},
   "source": [
    "Цифры сходятся: 19 234 пользователя, из них 8815 делали сабмиты и 2013 завершили курс."
   ]
  },
  {
   "cell_type": "markdown",
   "metadata": {},
   "source": [
    "Проверим, нет ли пропусков:"
   ]
  },
  {
   "cell_type": "code",
   "execution_count": 33,
   "metadata": {},
   "outputs": [
    {
     "data": {
      "text/plain": [
       "discovered         0\n",
       "passed             0\n",
       "started_attempt    0\n",
       "viewed             0\n",
       "correct            0\n",
       "wrong              0\n",
       "finished           0\n",
       "dtype: int64"
      ]
     },
     "execution_count": 33,
     "metadata": {},
     "output_type": "execute_result"
    }
   ],
   "source": [
    "train.isnull().sum()"
   ]
  },
  {
   "cell_type": "markdown",
   "metadata": {},
   "source": [
    "Пропусков нет."
   ]
  },
  {
   "cell_type": "markdown",
   "metadata": {},
   "source": [
    "Изучим возможность обогатить таблицу признаков новыми данными."
   ]
  },
  {
   "cell_type": "markdown",
   "metadata": {},
   "source": [
    "[В начало](#0)"
   ]
  },
  {
   "cell_type": "markdown",
   "metadata": {},
   "source": [
    "## <a name=\"3\"> Генерация новых признаков </a>"
   ]
  },
  {
   "cell_type": "markdown",
   "metadata": {},
   "source": [
    "Попробуем найти дополнительную информацию в имеющихся данных. Посмотрим, как меняется доля пользователей, завершивших курс, в зависимости от того, когда они начали его проходить:"
   ]
  },
  {
   "cell_type": "code",
   "execution_count": 34,
   "metadata": {},
   "outputs": [
    {
     "data": {
      "image/png": "[encoded data removed]",
      "text/plain": [
       "<Figure size 1080x288 with 1 Axes>"
      ]
     },
     "metadata": {
      "needs_background": "light"
     },
     "output_type": "display_data"
    }
   ],
   "source": [
    "train = train.merge(thresholds, on='user_id')\n",
    "train['month'] = pd.to_datetime(train['first_ts'], unit='s').astype('datetime64[M]')\n",
    "pd.DataFrame(train.groupby('month')['finished'].mean())\\\n",
    ".plot(y='finished', figsize=(15, 4), linewidth=5, legend=False)\n",
    "plt.title(\"Динамика доли завершивших курс пользователей \\nв период с 15 июня 2015 по 19 апреля 2018 года\") \n",
    "plt.xlabel(\"Дата начала обучения\")\n",
    "plt.ylabel(\"Доля завершивших курс\") \n",
    "plt.show()"
   ]
  },
  {
   "cell_type": "markdown",
   "metadata": {},
   "source": [
    "В первый месяц с открытия курса (июнь 2015 года) пришли пользователи, по которым была высокая доля завершивших курс - около 25%. Возможно это связано с тем, что многие из них были мотивированы и ожидали запуска курса. Затем доля завершивших курс опустилась и колебалась в диапазоне примерно 5-15%. Скорее всего начали приходить уже менее мотивированные пользователи. \n",
    "\n",
    "Первый месяц можно считать аномальным. Поэтому можно предположить, что если обучать модель на данных без информации за этот месяц, то модель не переобучится и покажет лучше результат на тестовых данных. Однако экспериментально установлено, что исключение данных за июнь 2015 года только ухудшает прогноз модели. "
   ]
  },
  {
   "cell_type": "markdown",
   "metadata": {},
   "source": [
    "Посмотрим, как меняется доля пользователей, завершивших курс, в зависимости от того, в какой месяц они начали его проходить:"
   ]
  },
  {
   "cell_type": "code",
   "execution_count": 35,
   "metadata": {},
   "outputs": [
    {
     "data": {
      "image/png": "[encoded data removed]",
      "text/plain": [
       "<Figure size 720x216 with 1 Axes>"
      ]
     },
     "metadata": {
      "needs_background": "light"
     },
     "output_type": "display_data"
    }
   ],
   "source": [
    "train['month_num'] = train['month'].dt.month\n",
    "# исключим аномальный первый месяц курса (июнь 2015):\n",
    "pd.DataFrame(train.query('month > \"2015-06-01\"').groupby('month_num')['finished'].mean())\\\n",
    ".plot(y='finished', kind='bar', figsize=(10, 3), legend=False, color='purple', alpha=.4)\n",
    "plt.title(\"Доля завершивших курс пользователей в зависимости от месяца \\\n",
    "начала обучения \\nв период с 1 июля 2015 по 19 апреля 2018 года\") \n",
    "plt.xlabel(\"Месяц начала обучения\")\n",
    "plt.ylabel(\"Доля завершивших курс\") \n",
    "plt.show()"
   ]
  },
  {
   "cell_type": "markdown",
   "metadata": {},
   "source": [
    "Доля завершивших курс меняется от месяца к месяцу. Например, в июне доля примерно на треть больше, чем в марте, апреле и июле. Можно предположить, что добавление в данных вероятности прохождения курса в зависимости от месяца улучшит качество модели. Однако экспериментально установлено, что добавление такого признака не улучшает прогноз модели. "
   ]
  },
  {
   "cell_type": "markdown",
   "metadata": {},
   "source": [
    "Посмотрим, как меняется доля пользователей, завершивших курс, в зависимости от того, в какой день недели они начали его проходить:"
   ]
  },
  {
   "cell_type": "code",
   "execution_count": 36,
   "metadata": {},
   "outputs": [
    {
     "data": {
      "image/png": "[encoded data removed]",
      "text/plain": [
       "<Figure size 720x216 with 1 Axes>"
      ]
     },
     "metadata": {
      "needs_background": "light"
     },
     "output_type": "display_data"
    }
   ],
   "source": [
    "train['weekday'] = train['month'].dt.weekday\n",
    "# исключим аномальный первый месяц курса (июнь 2015):\n",
    "pd.DataFrame(train.query('month > \"2015-06-01\"').groupby('weekday')['finished'].mean())\\\n",
    ".plot(y='finished', kind='bar', figsize=(10, 3), legend=False, color='green', alpha=.4)\n",
    "plt.title(\"Доля завершивших курс пользователей в зависимости от дня недели \\\n",
    "начала обучения \\nв период с 1 июля 2015 по 19 апреля 2018 года\") \n",
    "plt.xlabel(\"День недели начала обучения\")\n",
    "plt.ylabel(\"Доля завершивших курс\") \n",
    "plt.show()"
   ]
  },
  {
   "cell_type": "markdown",
   "metadata": {},
   "source": [
    "Доля завершивших курс немного плавает в зависимости от дня недели старта обучения. Можно предположить, что добавление в данных вероятности прохождения курса в зависимости от дня недели улучшит качество модели. Однако экспериментально установлено, что и с этими данными прогноз модели не улучшается. "
   ]
  },
  {
   "cell_type": "markdown",
   "metadata": {},
   "source": [
    "Удалим все неоправдавшие себя признаки:"
   ]
  },
  {
   "cell_type": "code",
   "execution_count": 37,
   "metadata": {},
   "outputs": [],
   "source": [
    "del train['month']\n",
    "del train['month_num']\n",
    "del train['weekday']\n",
    "del train['threshold'] # был добавлен опосредованно при определении месяца начала обучения пользователей"
   ]
  },
  {
   "cell_type": "markdown",
   "metadata": {},
   "source": [
    "Также было проверно, что качество прогноза модели не улучшается при добавлении типа дня начала прохождения курса (выходной или будний). Однако улучшают прогноз такие признаки:\n",
    "- время наступления первого события в формате unix date;\n",
    "- суммарное количество событий всех типов;\n",
    "- суммарное количество сабмитов всех типов.\n",
    "\n",
    "Добавим их в таблицу train."
   ]
  },
  {
   "cell_type": "code",
   "execution_count": 38,
   "metadata": {},
   "outputs": [],
   "source": [
    "# время наступления первого события уже было опосредованно добавлено в таблицу train\n",
    "train['ev_sum'] = train['discovered'] + train['passed'] + train['started_attempt'] + train['viewed']\n",
    "train['sub_sum'] = train['correct'] + train['wrong']"
   ]
  },
  {
   "cell_type": "markdown",
   "metadata": {},
   "source": [
    "Проверим, что столбцы добавились в таблицу:"
   ]
  },
  {
   "cell_type": "code",
   "execution_count": 39,
   "metadata": {},
   "outputs": [
    {
     "data": {
      "text/html": [
       "<div>\n",
       "<style scoped>\n",
       "    .dataframe tbody tr th:only-of-type {\n",
       "        vertical-align: middle;\n",
       "    }\n",
       "\n",
       "    .dataframe tbody tr th {\n",
       "        vertical-align: top;\n",
       "    }\n",
       "\n",
       "    .dataframe thead th {\n",
       "        text-align: right;\n",
       "    }\n",
       "</style>\n",
       "<table border=\"1\" class=\"dataframe\">\n",
       "  <thead>\n",
       "    <tr style=\"text-align: right;\">\n",
       "      <th></th>\n",
       "      <th>discovered</th>\n",
       "      <th>passed</th>\n",
       "      <th>started_attempt</th>\n",
       "      <th>viewed</th>\n",
       "      <th>correct</th>\n",
       "      <th>wrong</th>\n",
       "      <th>finished</th>\n",
       "      <th>first_ts</th>\n",
       "      <th>ev_sum</th>\n",
       "      <th>sub_sum</th>\n",
       "    </tr>\n",
       "    <tr>\n",
       "      <th>user_id</th>\n",
       "      <th></th>\n",
       "      <th></th>\n",
       "      <th></th>\n",
       "      <th></th>\n",
       "      <th></th>\n",
       "      <th></th>\n",
       "      <th></th>\n",
       "      <th></th>\n",
       "      <th></th>\n",
       "      <th></th>\n",
       "    </tr>\n",
       "  </thead>\n",
       "  <tbody>\n",
       "    <tr>\n",
       "      <th>1</th>\n",
       "      <td>1.0</td>\n",
       "      <td>0.0</td>\n",
       "      <td>0.0</td>\n",
       "      <td>1.0</td>\n",
       "      <td>0.0</td>\n",
       "      <td>0.0</td>\n",
       "      <td>0.0</td>\n",
       "      <td>1472827464</td>\n",
       "      <td>2.0</td>\n",
       "      <td>0.0</td>\n",
       "    </tr>\n",
       "    <tr>\n",
       "      <th>2</th>\n",
       "      <td>9.0</td>\n",
       "      <td>9.0</td>\n",
       "      <td>2.0</td>\n",
       "      <td>9.0</td>\n",
       "      <td>2.0</td>\n",
       "      <td>0.0</td>\n",
       "      <td>0.0</td>\n",
       "      <td>1514383364</td>\n",
       "      <td>29.0</td>\n",
       "      <td>2.0</td>\n",
       "    </tr>\n",
       "    <tr>\n",
       "      <th>3</th>\n",
       "      <td>15.0</td>\n",
       "      <td>15.0</td>\n",
       "      <td>4.0</td>\n",
       "      <td>20.0</td>\n",
       "      <td>4.0</td>\n",
       "      <td>4.0</td>\n",
       "      <td>0.0</td>\n",
       "      <td>1434358476</td>\n",
       "      <td>54.0</td>\n",
       "      <td>8.0</td>\n",
       "    </tr>\n",
       "    <tr>\n",
       "      <th>5</th>\n",
       "      <td>1.0</td>\n",
       "      <td>1.0</td>\n",
       "      <td>0.0</td>\n",
       "      <td>1.0</td>\n",
       "      <td>0.0</td>\n",
       "      <td>0.0</td>\n",
       "      <td>0.0</td>\n",
       "      <td>1466156809</td>\n",
       "      <td>3.0</td>\n",
       "      <td>0.0</td>\n",
       "    </tr>\n",
       "    <tr>\n",
       "      <th>7</th>\n",
       "      <td>1.0</td>\n",
       "      <td>1.0</td>\n",
       "      <td>0.0</td>\n",
       "      <td>1.0</td>\n",
       "      <td>0.0</td>\n",
       "      <td>0.0</td>\n",
       "      <td>0.0</td>\n",
       "      <td>1521634660</td>\n",
       "      <td>3.0</td>\n",
       "      <td>0.0</td>\n",
       "    </tr>\n",
       "  </tbody>\n",
       "</table>\n",
       "</div>"
      ],
      "text/plain": [
       "         discovered  passed  started_attempt  viewed  correct  wrong  \\\n",
       "user_id                                                                \n",
       "1               1.0     0.0              0.0     1.0      0.0    0.0   \n",
       "2               9.0     9.0              2.0     9.0      2.0    0.0   \n",
       "3              15.0    15.0              4.0    20.0      4.0    4.0   \n",
       "5               1.0     1.0              0.0     1.0      0.0    0.0   \n",
       "7               1.0     1.0              0.0     1.0      0.0    0.0   \n",
       "\n",
       "         finished    first_ts  ev_sum  sub_sum  \n",
       "user_id                                         \n",
       "1             0.0  1472827464     2.0      0.0  \n",
       "2             0.0  1514383364    29.0      2.0  \n",
       "3             0.0  1434358476    54.0      8.0  \n",
       "5             0.0  1466156809     3.0      0.0  \n",
       "7             0.0  1521634660     3.0      0.0  "
      ]
     },
     "execution_count": 39,
     "metadata": {},
     "output_type": "execute_result"
    }
   ],
   "source": [
    "train.head()"
   ]
  },
  {
   "cell_type": "markdown",
   "metadata": {},
   "source": [
    "Создадим матрицу признаков пользователей и вектор целевой переменной:"
   ]
  },
  {
   "cell_type": "code",
   "execution_count": 40,
   "metadata": {},
   "outputs": [],
   "source": [
    "X_train = train.drop(['finished'], axis = 1)\n",
    "y_train = train['finished']"
   ]
  },
  {
   "cell_type": "markdown",
   "metadata": {},
   "source": [
    "Теперь данные готовы для обучения модели."
   ]
  },
  {
   "cell_type": "markdown",
   "metadata": {},
   "source": [
    "[В начало](#0)"
   ]
  },
  {
   "cell_type": "markdown",
   "metadata": {},
   "source": [
    "## <a name=\"4\"> Обучение модели </a>"
   ]
  },
  {
   "cell_type": "markdown",
   "metadata": {},
   "source": [
    "Для построения прогноза, пройдёт пользователь курс или нет, проверим следующие алгоритмы, подходящие для задачи бинарной классификации:\n",
    "- логистическая регрессия (Logistic Regression);\n",
    "- метод опорных векторов (Support Vector Machines);\n",
    "- наивный байесовский метод (Naive Bayes);\n",
    "- линейный дискриминантный анализ (Linear Discriminant Analysis);\n",
    "- дерево решений (Decision Tree Classifier);\n",
    "- случайный лес (Random Forest Classifier);\n",
    "- градиентный бустинг (Gradient Boosting Classifier).\n",
    "\n",
    "Оценим точность прогноза всех алгоритмов с параметрами по умолчанию из библиотеки sklearn. Оценивать будем на кросс-валидации с 5 группами (фолдами):"
   ]
  },
  {
   "cell_type": "code",
   "execution_count": 41,
   "metadata": {},
   "outputs": [],
   "source": [
    "models = {'LogisticRegression': LogisticRegression()\n",
    "         , 'SVC': SVC()\n",
    "         , 'GaussianNB': GaussianNB()\n",
    "         , 'LinearDiscriminantAnalysis': LinearDiscriminantAnalysis()\n",
    "         , 'DecisionTreeClassifier': DecisionTreeClassifier()\n",
    "         , 'RandomForestClassifier': RandomForestClassifier()\n",
    "         , 'GradientBoostingClassifier': GradientBoostingClassifier()}"
   ]
  },
  {
   "cell_type": "code",
   "execution_count": 42,
   "metadata": {},
   "outputs": [],
   "source": [
    "models_scores = pd.DataFrame()\n",
    "for model in models:\n",
    "    cv_roc_auc_mean = cross_val_score(models[model], X_train, y_train, cv=5, scoring='roc_auc').mean()\n",
    "    result_for_model = {'model': [model], 'cv_roc_auc_mean': [cv_roc_auc_mean]}\n",
    "    models_scores = models_scores.append(pd.DataFrame(result_for_model))"
   ]
  },
  {
   "cell_type": "markdown",
   "metadata": {},
   "source": [
    "Построим график:"
   ]
  },
  {
   "cell_type": "code",
   "execution_count": 43,
   "metadata": {},
   "outputs": [
    {
     "data": {
      "image/png": "[encoded data removed]",
      "text/plain": [
       "<Figure size 720x216 with 1 Axes>"
      ]
     },
     "metadata": {
      "needs_background": "light"
     },
     "output_type": "display_data"
    }
   ],
   "source": [
    "models_scores.sort_values('cv_roc_auc_mean', ascending=False)\\\n",
    ".plot(x='model', y='cv_roc_auc_mean', kind='bar', figsize=(10, 3), legend=False, color='cadetblue', alpha=.4)\n",
    "plt.title(\"Значение среднего roc_auc на кросс-валидации \\n для различных алгоритмов бинарной классификации\") \n",
    "plt.xlabel(\"Алгоритм\")\n",
    "plt.ylabel(\"Значение среднего roc_auc \\nна кросс-валидации\") \n",
    "plt.xticks(rotation=-30, ha='left')\n",
    "plt.show()"
   ]
  },
  {
   "cell_type": "markdown",
   "metadata": {},
   "source": [
    "Наиболее точным оказался алгоритм градиентный бустинг. Подберём для него оптимальные параметры n_estimators и max_depth:"
   ]
  },
  {
   "cell_type": "code",
   "execution_count": 44,
   "metadata": {},
   "outputs": [
    {
     "data": {
      "text/plain": [
       "GradientBoostingClassifier(max_depth=4, n_estimators=60)"
      ]
     },
     "execution_count": 44,
     "metadata": {},
     "output_type": "execute_result"
    }
   ],
   "source": [
    "model = GradientBoostingClassifier()\n",
    "param_grid = {'n_estimators': [20, 40, 60, 80], 'max_depth': [4, 5, 6]}\n",
    "search = GridSearchCV(model, param_grid, cv=5, scoring='roc_auc')\n",
    "search.fit(X_train, y_train)\n",
    "best_model = search.best_estimator_\n",
    "best_model"
   ]
  },
  {
   "cell_type": "markdown",
   "metadata": {},
   "source": [
    "Обучим модель с лучшими параметрами:"
   ]
  },
  {
   "cell_type": "code",
   "execution_count": 45,
   "metadata": {},
   "outputs": [
    {
     "data": {
      "text/plain": [
       "GradientBoostingClassifier(max_depth=4, n_estimators=60)"
      ]
     },
     "execution_count": 45,
     "metadata": {},
     "output_type": "execute_result"
    }
   ],
   "source": [
    "best_model.fit(X_train, y_train)"
   ]
  },
  {
   "cell_type": "markdown",
   "metadata": {},
   "source": [
    "Теперь у нас есть обученная модель, которую мы можем протестировать."
   ]
  },
  {
   "cell_type": "markdown",
   "metadata": {},
   "source": [
    "[В начало](#0)"
   ]
  },
  {
   "cell_type": "markdown",
   "metadata": {},
   "source": [
    "## <a name=\"5\"> Тестирование модели </a>"
   ]
  },
  {
   "cell_type": "markdown",
   "metadata": {},
   "source": [
    "Загрузим тестовые данные:"
   ]
  },
  {
   "cell_type": "code",
   "execution_count": 46,
   "metadata": {},
   "outputs": [],
   "source": [
    "events_test = pd.read_csv('/Users/polzovatel/Desktop/Projects/Stepik_ml_contest/events_data_test.csv')\n",
    "submission_test = pd.read_csv('/Users/polzovatel/Desktop/Projects/Stepik_ml_contest/submission_data_test.csv')"
   ]
  },
  {
   "cell_type": "markdown",
   "metadata": {},
   "source": [
    "Приведём их к признаковому описанию пользователей по аналогии с тренировочными данными:"
   ]
  },
  {
   "cell_type": "code",
   "execution_count": 47,
   "metadata": {},
   "outputs": [
    {
     "data": {
      "text/html": [
       "<div>\n",
       "<style scoped>\n",
       "    .dataframe tbody tr th:only-of-type {\n",
       "        vertical-align: middle;\n",
       "    }\n",
       "\n",
       "    .dataframe tbody tr th {\n",
       "        vertical-align: top;\n",
       "    }\n",
       "\n",
       "    .dataframe thead th {\n",
       "        text-align: right;\n",
       "    }\n",
       "</style>\n",
       "<table border=\"1\" class=\"dataframe\">\n",
       "  <thead>\n",
       "    <tr style=\"text-align: right;\">\n",
       "      <th></th>\n",
       "      <th>discovered</th>\n",
       "      <th>passed</th>\n",
       "      <th>started_attempt</th>\n",
       "      <th>viewed</th>\n",
       "      <th>correct</th>\n",
       "      <th>wrong</th>\n",
       "      <th>first_ts</th>\n",
       "      <th>ev_sum</th>\n",
       "      <th>sub_sum</th>\n",
       "    </tr>\n",
       "    <tr>\n",
       "      <th>user_id</th>\n",
       "      <th></th>\n",
       "      <th></th>\n",
       "      <th></th>\n",
       "      <th></th>\n",
       "      <th></th>\n",
       "      <th></th>\n",
       "      <th></th>\n",
       "      <th></th>\n",
       "      <th></th>\n",
       "    </tr>\n",
       "  </thead>\n",
       "  <tbody>\n",
       "    <tr>\n",
       "      <th>4</th>\n",
       "      <td>1.0</td>\n",
       "      <td>1.0</td>\n",
       "      <td>0.0</td>\n",
       "      <td>1.0</td>\n",
       "      <td>0.0</td>\n",
       "      <td>0.0</td>\n",
       "      <td>1529331707</td>\n",
       "      <td>3.0</td>\n",
       "      <td>0.0</td>\n",
       "    </tr>\n",
       "    <tr>\n",
       "      <th>6</th>\n",
       "      <td>1.0</td>\n",
       "      <td>1.0</td>\n",
       "      <td>0.0</td>\n",
       "      <td>1.0</td>\n",
       "      <td>0.0</td>\n",
       "      <td>0.0</td>\n",
       "      <td>1546889407</td>\n",
       "      <td>3.0</td>\n",
       "      <td>0.0</td>\n",
       "    </tr>\n",
       "    <tr>\n",
       "      <th>10</th>\n",
       "      <td>2.0</td>\n",
       "      <td>2.0</td>\n",
       "      <td>0.0</td>\n",
       "      <td>6.0</td>\n",
       "      <td>0.0</td>\n",
       "      <td>0.0</td>\n",
       "      <td>1534585756</td>\n",
       "      <td>10.0</td>\n",
       "      <td>0.0</td>\n",
       "    </tr>\n",
       "    <tr>\n",
       "      <th>12</th>\n",
       "      <td>11.0</td>\n",
       "      <td>9.0</td>\n",
       "      <td>4.0</td>\n",
       "      <td>14.0</td>\n",
       "      <td>1.0</td>\n",
       "      <td>0.0</td>\n",
       "      <td>1537348474</td>\n",
       "      <td>38.0</td>\n",
       "      <td>1.0</td>\n",
       "    </tr>\n",
       "    <tr>\n",
       "      <th>13</th>\n",
       "      <td>70.0</td>\n",
       "      <td>70.0</td>\n",
       "      <td>35.0</td>\n",
       "      <td>105.0</td>\n",
       "      <td>29.0</td>\n",
       "      <td>36.0</td>\n",
       "      <td>1533034354</td>\n",
       "      <td>280.0</td>\n",
       "      <td>65.0</td>\n",
       "    </tr>\n",
       "  </tbody>\n",
       "</table>\n",
       "</div>"
      ],
      "text/plain": [
       "         discovered  passed  started_attempt  viewed  correct  wrong  \\\n",
       "user_id                                                                \n",
       "4               1.0     1.0              0.0     1.0      0.0    0.0   \n",
       "6               1.0     1.0              0.0     1.0      0.0    0.0   \n",
       "10              2.0     2.0              0.0     6.0      0.0    0.0   \n",
       "12             11.0     9.0              4.0    14.0      1.0    0.0   \n",
       "13             70.0    70.0             35.0   105.0     29.0   36.0   \n",
       "\n",
       "           first_ts  ev_sum  sub_sum  \n",
       "user_id                               \n",
       "4        1529331707     3.0      0.0  \n",
       "6        1546889407     3.0      0.0  \n",
       "10       1534585756    10.0      0.0  \n",
       "12       1537348474    38.0      1.0  \n",
       "13       1533034354   280.0     65.0  "
      ]
     },
     "execution_count": 47,
     "metadata": {},
     "output_type": "execute_result"
    }
   ],
   "source": [
    "events_by_user_test = events_test.pivot_table(index='user_id', columns='action', values='step_id', aggfunc='count')\\\n",
    ".fillna(0)\n",
    "submission_by_user_test = submission_test.pivot_table(index='user_id', columns='submission_status', values='step_id'\n",
    "                                                      , aggfunc='count').fillna(0)\n",
    "X_test = events_by_user_test.merge(submission_by_user_test, on='user_id', how='outer').fillna(0)\n",
    "first_ts_test = events_test.groupby('user_id')['timestamp'].min().reset_index()\n",
    "first_ts_test.columns = ['user_id', 'first_ts']\n",
    "X_test = X_test.merge(first_ts_test, on='user_id')\n",
    "X_test['ev_sum'] = X_test['discovered'] + X_test['passed'] + X_test['started_attempt']+ X_test['viewed']\n",
    "X_test['sub_sum'] = X_test['correct'] + X_test['wrong']\n",
    "X_test = X_test.set_index('user_id')\n",
    "X_test.head()"
   ]
  },
  {
   "cell_type": "markdown",
   "metadata": {},
   "source": [
    "Матрица признаков X_test соответствует матрице X_train по форме записи. Теперь для каждого пользователя из матрицы X_test посчитаем уверенность модели в том, что он завершит курс. Затем выгрузим ответы в необходимом для проверки в тренажёре формате:"
   ]
  },
  {
   "cell_type": "code",
   "execution_count": 48,
   "metadata": {},
   "outputs": [
    {
     "data": {
      "text/html": [
       "<div>\n",
       "<style scoped>\n",
       "    .dataframe tbody tr th:only-of-type {\n",
       "        vertical-align: middle;\n",
       "    }\n",
       "\n",
       "    .dataframe tbody tr th {\n",
       "        vertical-align: top;\n",
       "    }\n",
       "\n",
       "    .dataframe thead th {\n",
       "        text-align: right;\n",
       "    }\n",
       "</style>\n",
       "<table border=\"1\" class=\"dataframe\">\n",
       "  <thead>\n",
       "    <tr style=\"text-align: right;\">\n",
       "      <th></th>\n",
       "      <th>is_gone</th>\n",
       "    </tr>\n",
       "    <tr>\n",
       "      <th>user_id</th>\n",
       "      <th></th>\n",
       "    </tr>\n",
       "  </thead>\n",
       "  <tbody>\n",
       "    <tr>\n",
       "      <th>4</th>\n",
       "      <td>0.015290</td>\n",
       "    </tr>\n",
       "    <tr>\n",
       "      <th>6</th>\n",
       "      <td>0.015290</td>\n",
       "    </tr>\n",
       "    <tr>\n",
       "      <th>10</th>\n",
       "      <td>0.015813</td>\n",
       "    </tr>\n",
       "    <tr>\n",
       "      <th>12</th>\n",
       "      <td>0.017640</td>\n",
       "    </tr>\n",
       "    <tr>\n",
       "      <th>13</th>\n",
       "      <td>0.141740</td>\n",
       "    </tr>\n",
       "  </tbody>\n",
       "</table>\n",
       "</div>"
      ],
      "text/plain": [
       "          is_gone\n",
       "user_id          \n",
       "4        0.015290\n",
       "6        0.015290\n",
       "10       0.015813\n",
       "12       0.017640\n",
       "13       0.141740"
      ]
     },
     "execution_count": 48,
     "metadata": {},
     "output_type": "execute_result"
    }
   ],
   "source": [
    "y_probas = best_model.predict_proba(X_test)\n",
    "result = pd.DataFrame(y_probas[:, 1])\n",
    "result['user_id'] = X_test.index\n",
    "result.set_index('user_id', inplace=True)\n",
    "result.columns = ['is_gone']\n",
    "result.to_csv('/Users/polzovatel/Desktop/result.csv')\n",
    "result.head()"
   ]
  },
  {
   "cell_type": "markdown",
   "metadata": {},
   "source": [
    "Загружаем ответы в тренажёр и получаем результат тестирования модели. Значение ROC AUC составило:"
   ]
  },
  {
   "cell_type": "markdown",
   "metadata": {},
   "source": [
    "![](http://dl4.joxi.net/drive/2021/05/11/0046/2540/3033580/80/f3028f65fc.jpg)"
   ]
  },
  {
   "cell_type": "markdown",
   "metadata": {},
   "source": [
    "Экспериментально установлено, что лучший результат на тестовой выборке показывает модель с параметрами max_depth=4 и n_estimators=22:"
   ]
  },
  {
   "cell_type": "code",
   "execution_count": 49,
   "metadata": {},
   "outputs": [
    {
     "data": {
      "text/plain": [
       "GradientBoostingClassifier(max_depth=4, n_estimators=22)"
      ]
     },
     "execution_count": 49,
     "metadata": {},
     "output_type": "execute_result"
    }
   ],
   "source": [
    "best_model = GradientBoostingClassifier(max_depth=4, n_estimators=22)\n",
    "best_model.fit(X_train, y_train)"
   ]
  },
  {
   "cell_type": "markdown",
   "metadata": {},
   "source": [
    "Для модели с такими параметрами значение ROC AUC на тестовых данных составило:"
   ]
  },
  {
   "cell_type": "markdown",
   "metadata": {},
   "source": [
    "![](http://dl3.joxi.net/drive/2021/05/11/0046/2540/3033580/80/5d29f4494f.jpg)"
   ]
  },
  {
   "cell_type": "markdown",
   "metadata": {},
   "source": [
    "Этот результат входит в 10-ку лучших результатов среди студентов, принявших участие в решении задачи:"
   ]
  },
  {
   "cell_type": "markdown",
   "metadata": {},
   "source": [
    "![](http://dl3.joxi.net/drive/2021/05/10/0046/2540/3033580/80/353fcd19fe.jpg)"
   ]
  },
  {
   "cell_type": "markdown",
   "metadata": {},
   "source": [
    "[В начало](#0)"
   ]
  },
  {
   "cell_type": "markdown",
   "metadata": {},
   "source": [
    "## <a name=\"6\"> Выводы </a>"
   ]
  },
  {
   "cell_type": "markdown",
   "metadata": {},
   "source": [
    "На основе данных об активности пользователей на курсе \"Введение в анализ данных в R\" в период с 15 июня 2015 по 19 апреля 2018 года была построена модель прогнозирования успешности прохождения курса новыми пользователями. Модель позволяет оценить уверенность в том, пройдёт ли новый пользователь курс или нет, спустя 2 дня после того, как он начал проходить курс. В качестве оценки точности прогноза использовалось значение ROC AUC. Лучшим алгоритмом оказался градиентный бустинг, ROC AUC на тестовых данных составил 0,889. Результат входит в 10-ку лучших результатов среди студентов, принявших участие в решении задачи."
   ]
  },
  {
   "cell_type": "markdown",
   "metadata": {},
   "source": [
    "[В начало](#0)"
   ]
  }
 ],
 "metadata": {
  "kernelspec": {
   "display_name": "Python 3",
   "language": "python",
   "name": "python3"
  },
  "language_info": {
   "codemirror_mode": {
    "name": "ipython",
    "version": 3
   },
   "file_extension": ".py",
   "mimetype": "text/x-python",
   "name": "python",
   "nbconvert_exporter": "python",
   "pygments_lexer": "ipython3",
   "version": "3.9.1"
  }
 },
 "nbformat": 4,
 "nbformat_minor": 4
}
